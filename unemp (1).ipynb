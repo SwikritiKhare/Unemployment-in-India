{
 "cells": [
  {
   "cell_type": "markdown",
   "id": "798a90db-e3e6-40c4-a4b6-09693ff89aa1",
   "metadata": {},
   "source": [
    "Unemployment is measured by the unemployment rate which is the number of people who are unemployed as a percentage of the total labour force.\n",
    "\n",
    "During the covid-19 period there was a sharp increase in the unemployment rate.\n",
    "\n",
    "The aim is to analyze the unemployment rate using python.\n",
    "Goal:\n",
    "\n",
    "This analysis focuses on evaluating the far-reaching impacts of the COVID-19 pandemic on India's employment landscape. The dataset at hand provides essential insights into the fluctuations of unemployment rates among different states in India. Within the dataset, vital indicators including State-wise breakdown, timeline, measurement frequency, Estimated Unemployment Rate (%), Estimated Employed Individuals, and Estimated Labour Participation Rate (%) are encompassed.\n",
    "\n",
    "Dataset Overview:\n",
    "The provided dataset delves into the unemployment landscape across diverse states in India:\n",
    "\n",
    "States: Various states constituting the Indian subcontinent.\n",
    "Date: The specific dates of unemployment rate recordings.\n",
    "Measuring Frequency: The regularity of measurement collection (Monthly).\n",
    "Estimated Unemployment Rate (%): The proportion of unemployed individuals in each Indian state.\n",
    "Estimated Employed Individuals: The tally of presently engaged individuals.\n",
    "Estimated Labour Participation Rate (%): The percentage of the working-age populace (16-64 years) actively involved in the job market, including both employed individuals and those actively seeking jobs.\n",
    "This dataset serves as a valuable resource for comprehending the unemployment variations across India's states throughout the COVID-19 pandemic. By offering crucial insights, it illuminates the repercussions on unemployment rates, employment numbers, and labor participation proportions in distinct geographical regions across the nation. The analysis aims to provide insights into the pandemic's socio-economic effects on India's workforce and labor arena."
   ]
  },
  {
   "cell_type": "code",
   "execution_count": 1,
   "id": "2359da6c-0116-4540-968f-1c16ba5bc5b4",
   "metadata": {},
   "outputs": [],
   "source": [
    "#import required libraries\n",
    "import pandas as pd\n",
    "import numpy as np\n",
    "import matplotlib.pyplot as plt\n",
    "import seaborn as sns\n",
    "import datetime as dt\n",
    "import calendar \n",
    "import plotly.graph_objects as go\n",
    "\n",
    "import warnings\n",
    "warnings.filterwarnings(\"ignore\")\n",
    "%matplotlib inline"
   ]
  },
  {
   "cell_type": "code",
   "execution_count": 2,
   "id": "5603b8e9-eb8a-49bb-8e9a-91bbdfff6f2a",
   "metadata": {},
   "outputs": [
    {
     "data": {
      "text/html": [
       "<div>\n",
       "<style scoped>\n",
       "    .dataframe tbody tr th:only-of-type {\n",
       "        vertical-align: middle;\n",
       "    }\n",
       "\n",
       "    .dataframe tbody tr th {\n",
       "        vertical-align: top;\n",
       "    }\n",
       "\n",
       "    .dataframe thead th {\n",
       "        text-align: right;\n",
       "    }\n",
       "</style>\n",
       "<table border=\"1\" class=\"dataframe\">\n",
       "  <thead>\n",
       "    <tr style=\"text-align: right;\">\n",
       "      <th></th>\n",
       "      <th>Region</th>\n",
       "      <th>Date</th>\n",
       "      <th>Frequency</th>\n",
       "      <th>Estimated Unemployment Rate (%)</th>\n",
       "      <th>Estimated Employed</th>\n",
       "      <th>Estimated Labour Participation Rate (%)</th>\n",
       "      <th>Region.1</th>\n",
       "      <th>longitude</th>\n",
       "      <th>latitude</th>\n",
       "    </tr>\n",
       "  </thead>\n",
       "  <tbody>\n",
       "    <tr>\n",
       "      <th>0</th>\n",
       "      <td>Andhra Pradesh</td>\n",
       "      <td>31-01-2020</td>\n",
       "      <td>M</td>\n",
       "      <td>5.48</td>\n",
       "      <td>16635535</td>\n",
       "      <td>41.02</td>\n",
       "      <td>South</td>\n",
       "      <td>15.9129</td>\n",
       "      <td>79.74</td>\n",
       "    </tr>\n",
       "    <tr>\n",
       "      <th>1</th>\n",
       "      <td>Andhra Pradesh</td>\n",
       "      <td>29-02-2020</td>\n",
       "      <td>M</td>\n",
       "      <td>5.83</td>\n",
       "      <td>16545652</td>\n",
       "      <td>40.90</td>\n",
       "      <td>South</td>\n",
       "      <td>15.9129</td>\n",
       "      <td>79.74</td>\n",
       "    </tr>\n",
       "    <tr>\n",
       "      <th>2</th>\n",
       "      <td>Andhra Pradesh</td>\n",
       "      <td>31-03-2020</td>\n",
       "      <td>M</td>\n",
       "      <td>5.79</td>\n",
       "      <td>15881197</td>\n",
       "      <td>39.18</td>\n",
       "      <td>South</td>\n",
       "      <td>15.9129</td>\n",
       "      <td>79.74</td>\n",
       "    </tr>\n",
       "    <tr>\n",
       "      <th>3</th>\n",
       "      <td>Andhra Pradesh</td>\n",
       "      <td>30-04-2020</td>\n",
       "      <td>M</td>\n",
       "      <td>20.51</td>\n",
       "      <td>11336911</td>\n",
       "      <td>33.10</td>\n",
       "      <td>South</td>\n",
       "      <td>15.9129</td>\n",
       "      <td>79.74</td>\n",
       "    </tr>\n",
       "    <tr>\n",
       "      <th>4</th>\n",
       "      <td>Andhra Pradesh</td>\n",
       "      <td>31-05-2020</td>\n",
       "      <td>M</td>\n",
       "      <td>17.43</td>\n",
       "      <td>12988845</td>\n",
       "      <td>36.46</td>\n",
       "      <td>South</td>\n",
       "      <td>15.9129</td>\n",
       "      <td>79.74</td>\n",
       "    </tr>\n",
       "  </tbody>\n",
       "</table>\n",
       "</div>"
      ],
      "text/plain": [
       "           Region         Date  Frequency   Estimated Unemployment Rate (%)  \\\n",
       "0  Andhra Pradesh   31-01-2020          M                              5.48   \n",
       "1  Andhra Pradesh   29-02-2020          M                              5.83   \n",
       "2  Andhra Pradesh   31-03-2020          M                              5.79   \n",
       "3  Andhra Pradesh   30-04-2020          M                             20.51   \n",
       "4  Andhra Pradesh   31-05-2020          M                             17.43   \n",
       "\n",
       "    Estimated Employed   Estimated Labour Participation Rate (%) Region.1  \\\n",
       "0             16635535                                     41.02    South   \n",
       "1             16545652                                     40.90    South   \n",
       "2             15881197                                     39.18    South   \n",
       "3             11336911                                     33.10    South   \n",
       "4             12988845                                     36.46    South   \n",
       "\n",
       "   longitude  latitude  \n",
       "0    15.9129     79.74  \n",
       "1    15.9129     79.74  \n",
       "2    15.9129     79.74  \n",
       "3    15.9129     79.74  \n",
       "4    15.9129     79.74  "
      ]
     },
     "execution_count": 2,
     "metadata": {},
     "output_type": "execute_result"
    }
   ],
   "source": [
    "df = pd.read_csv(r\"C:\\Users\\khare\\OneDrive\\Desktop\\python projects\\Unemployment_Rate_upto_11_2020.csv\")\n",
    "df.head()"
   ]
  },
  {
   "cell_type": "code",
   "execution_count": 3,
   "id": "27f4bf68-e184-4a27-b743-80adb1f944de",
   "metadata": {},
   "outputs": [
    {
     "data": {
      "text/html": [
       "<div>\n",
       "<style scoped>\n",
       "    .dataframe tbody tr th:only-of-type {\n",
       "        vertical-align: middle;\n",
       "    }\n",
       "\n",
       "    .dataframe tbody tr th {\n",
       "        vertical-align: top;\n",
       "    }\n",
       "\n",
       "    .dataframe thead th {\n",
       "        text-align: right;\n",
       "    }\n",
       "</style>\n",
       "<table border=\"1\" class=\"dataframe\">\n",
       "  <thead>\n",
       "    <tr style=\"text-align: right;\">\n",
       "      <th></th>\n",
       "      <th>Region</th>\n",
       "      <th>Date</th>\n",
       "      <th>Frequency</th>\n",
       "      <th>Estimated Unemployment Rate (%)</th>\n",
       "      <th>Estimated Employed</th>\n",
       "      <th>Estimated Labour Participation Rate (%)</th>\n",
       "      <th>Region.1</th>\n",
       "      <th>longitude</th>\n",
       "      <th>latitude</th>\n",
       "    </tr>\n",
       "  </thead>\n",
       "  <tbody>\n",
       "    <tr>\n",
       "      <th>262</th>\n",
       "      <td>West Bengal</td>\n",
       "      <td>30-06-2020</td>\n",
       "      <td>M</td>\n",
       "      <td>7.29</td>\n",
       "      <td>30726310</td>\n",
       "      <td>40.39</td>\n",
       "      <td>East</td>\n",
       "      <td>22.9868</td>\n",
       "      <td>87.855</td>\n",
       "    </tr>\n",
       "    <tr>\n",
       "      <th>263</th>\n",
       "      <td>West Bengal</td>\n",
       "      <td>31-07-2020</td>\n",
       "      <td>M</td>\n",
       "      <td>6.83</td>\n",
       "      <td>35372506</td>\n",
       "      <td>46.17</td>\n",
       "      <td>East</td>\n",
       "      <td>22.9868</td>\n",
       "      <td>87.855</td>\n",
       "    </tr>\n",
       "    <tr>\n",
       "      <th>264</th>\n",
       "      <td>West Bengal</td>\n",
       "      <td>31-08-2020</td>\n",
       "      <td>M</td>\n",
       "      <td>14.87</td>\n",
       "      <td>33298644</td>\n",
       "      <td>47.48</td>\n",
       "      <td>East</td>\n",
       "      <td>22.9868</td>\n",
       "      <td>87.855</td>\n",
       "    </tr>\n",
       "    <tr>\n",
       "      <th>265</th>\n",
       "      <td>West Bengal</td>\n",
       "      <td>30-09-2020</td>\n",
       "      <td>M</td>\n",
       "      <td>9.35</td>\n",
       "      <td>35707239</td>\n",
       "      <td>47.73</td>\n",
       "      <td>East</td>\n",
       "      <td>22.9868</td>\n",
       "      <td>87.855</td>\n",
       "    </tr>\n",
       "    <tr>\n",
       "      <th>266</th>\n",
       "      <td>West Bengal</td>\n",
       "      <td>31-10-2020</td>\n",
       "      <td>M</td>\n",
       "      <td>9.98</td>\n",
       "      <td>33962549</td>\n",
       "      <td>45.63</td>\n",
       "      <td>East</td>\n",
       "      <td>22.9868</td>\n",
       "      <td>87.855</td>\n",
       "    </tr>\n",
       "  </tbody>\n",
       "</table>\n",
       "</div>"
      ],
      "text/plain": [
       "          Region         Date  Frequency   Estimated Unemployment Rate (%)  \\\n",
       "262  West Bengal   30-06-2020          M                              7.29   \n",
       "263  West Bengal   31-07-2020          M                              6.83   \n",
       "264  West Bengal   31-08-2020          M                             14.87   \n",
       "265  West Bengal   30-09-2020          M                              9.35   \n",
       "266  West Bengal   31-10-2020          M                              9.98   \n",
       "\n",
       "      Estimated Employed   Estimated Labour Participation Rate (%) Region.1  \\\n",
       "262             30726310                                     40.39     East   \n",
       "263             35372506                                     46.17     East   \n",
       "264             33298644                                     47.48     East   \n",
       "265             35707239                                     47.73     East   \n",
       "266             33962549                                     45.63     East   \n",
       "\n",
       "     longitude  latitude  \n",
       "262    22.9868    87.855  \n",
       "263    22.9868    87.855  \n",
       "264    22.9868    87.855  \n",
       "265    22.9868    87.855  \n",
       "266    22.9868    87.855  "
      ]
     },
     "execution_count": 3,
     "metadata": {},
     "output_type": "execute_result"
    }
   ],
   "source": [
    "df.tail()"
   ]
  },
  {
   "cell_type": "code",
   "execution_count": 4,
   "id": "e67528cb-9d13-4894-b39a-791c8212499a",
   "metadata": {},
   "outputs": [
    {
     "name": "stdout",
     "output_type": "stream",
     "text": [
      "<class 'pandas.core.frame.DataFrame'>\n",
      "RangeIndex: 267 entries, 0 to 266\n",
      "Data columns (total 9 columns):\n",
      " #   Column                                    Non-Null Count  Dtype  \n",
      "---  ------                                    --------------  -----  \n",
      " 0   Region                                    267 non-null    object \n",
      " 1    Date                                     267 non-null    object \n",
      " 2    Frequency                                267 non-null    object \n",
      " 3    Estimated Unemployment Rate (%)          267 non-null    float64\n",
      " 4    Estimated Employed                       267 non-null    int64  \n",
      " 5    Estimated Labour Participation Rate (%)  267 non-null    float64\n",
      " 6   Region.1                                  267 non-null    object \n",
      " 7   longitude                                 267 non-null    float64\n",
      " 8   latitude                                  267 non-null    float64\n",
      "dtypes: float64(4), int64(1), object(4)\n",
      "memory usage: 18.9+ KB\n"
     ]
    }
   ],
   "source": [
    "df.info()"
   ]
  },
  {
   "cell_type": "markdown",
   "id": "d82afba0-ab3a-47ae-a5fa-48104bd602d2",
   "metadata": {},
   "source": [
    "**Renaming the attributes**\n",
    "\n",
    "Region = state\n",
    "\n",
    "Date = date\n",
    "\n",
    "Frequency = frequency\n",
    "\n",
    "Estimated Unemployment Rate (%) = estimated unemployment rate\n",
    "\n",
    "Estimated Employed = estimated employment\n",
    "\n",
    "Estimated Labour Participation Rate (%) = estimated labour participation rate\n",
    "\n",
    "Region.1 = region\n",
    "\n",
    "longitude = longitude\n",
    "\n",
    "latitude = latitude\n"
   ]
  },
  {
   "cell_type": "markdown",
   "id": "64781853-d0ee-4a09-8621-deebdb45dbce",
   "metadata": {},
   "source": [
    "**Updating column names:**"
   ]
  },
  {
   "cell_type": "code",
   "execution_count": 5,
   "id": "e3961a60-e00f-45d1-adab-6303755839e7",
   "metadata": {},
   "outputs": [
    {
     "data": {
      "text/html": [
       "<div>\n",
       "<style scoped>\n",
       "    .dataframe tbody tr th:only-of-type {\n",
       "        vertical-align: middle;\n",
       "    }\n",
       "\n",
       "    .dataframe tbody tr th {\n",
       "        vertical-align: top;\n",
       "    }\n",
       "\n",
       "    .dataframe thead th {\n",
       "        text-align: right;\n",
       "    }\n",
       "</style>\n",
       "<table border=\"1\" class=\"dataframe\">\n",
       "  <thead>\n",
       "    <tr style=\"text-align: right;\">\n",
       "      <th></th>\n",
       "      <th>state</th>\n",
       "      <th>date</th>\n",
       "      <th>frequency</th>\n",
       "      <th>estimated unemployment rate</th>\n",
       "      <th>estimated employed</th>\n",
       "      <th>estimated labour participation rate</th>\n",
       "      <th>region</th>\n",
       "      <th>longitude</th>\n",
       "      <th>latitude</th>\n",
       "    </tr>\n",
       "  </thead>\n",
       "  <tbody>\n",
       "    <tr>\n",
       "      <th>0</th>\n",
       "      <td>Andhra Pradesh</td>\n",
       "      <td>31-01-2020</td>\n",
       "      <td>M</td>\n",
       "      <td>5.48</td>\n",
       "      <td>16635535</td>\n",
       "      <td>41.02</td>\n",
       "      <td>South</td>\n",
       "      <td>15.9129</td>\n",
       "      <td>79.74</td>\n",
       "    </tr>\n",
       "    <tr>\n",
       "      <th>1</th>\n",
       "      <td>Andhra Pradesh</td>\n",
       "      <td>29-02-2020</td>\n",
       "      <td>M</td>\n",
       "      <td>5.83</td>\n",
       "      <td>16545652</td>\n",
       "      <td>40.90</td>\n",
       "      <td>South</td>\n",
       "      <td>15.9129</td>\n",
       "      <td>79.74</td>\n",
       "    </tr>\n",
       "    <tr>\n",
       "      <th>2</th>\n",
       "      <td>Andhra Pradesh</td>\n",
       "      <td>31-03-2020</td>\n",
       "      <td>M</td>\n",
       "      <td>5.79</td>\n",
       "      <td>15881197</td>\n",
       "      <td>39.18</td>\n",
       "      <td>South</td>\n",
       "      <td>15.9129</td>\n",
       "      <td>79.74</td>\n",
       "    </tr>\n",
       "    <tr>\n",
       "      <th>3</th>\n",
       "      <td>Andhra Pradesh</td>\n",
       "      <td>30-04-2020</td>\n",
       "      <td>M</td>\n",
       "      <td>20.51</td>\n",
       "      <td>11336911</td>\n",
       "      <td>33.10</td>\n",
       "      <td>South</td>\n",
       "      <td>15.9129</td>\n",
       "      <td>79.74</td>\n",
       "    </tr>\n",
       "    <tr>\n",
       "      <th>4</th>\n",
       "      <td>Andhra Pradesh</td>\n",
       "      <td>31-05-2020</td>\n",
       "      <td>M</td>\n",
       "      <td>17.43</td>\n",
       "      <td>12988845</td>\n",
       "      <td>36.46</td>\n",
       "      <td>South</td>\n",
       "      <td>15.9129</td>\n",
       "      <td>79.74</td>\n",
       "    </tr>\n",
       "  </tbody>\n",
       "</table>\n",
       "</div>"
      ],
      "text/plain": [
       "            state         date frequency  estimated unemployment rate  \\\n",
       "0  Andhra Pradesh   31-01-2020         M                         5.48   \n",
       "1  Andhra Pradesh   29-02-2020         M                         5.83   \n",
       "2  Andhra Pradesh   31-03-2020         M                         5.79   \n",
       "3  Andhra Pradesh   30-04-2020         M                        20.51   \n",
       "4  Andhra Pradesh   31-05-2020         M                        17.43   \n",
       "\n",
       "   estimated employed  estimated labour participation rate region  longitude  \\\n",
       "0            16635535                                41.02  South    15.9129   \n",
       "1            16545652                                40.90  South    15.9129   \n",
       "2            15881197                                39.18  South    15.9129   \n",
       "3            11336911                                33.10  South    15.9129   \n",
       "4            12988845                                36.46  South    15.9129   \n",
       "\n",
       "   latitude  \n",
       "0     79.74  \n",
       "1     79.74  \n",
       "2     79.74  \n",
       "3     79.74  \n",
       "4     79.74  "
      ]
     },
     "execution_count": 5,
     "metadata": {},
     "output_type": "execute_result"
    }
   ],
   "source": [
    "df.columns = ['state','date','frequency','estimated unemployment rate','estimated employed','estimated labour participation rate','region','longitude','latitude']\n",
    "df.head()"
   ]
  },
  {
   "cell_type": "markdown",
   "id": "f91a4707-98a2-44fe-bfd0-f94c481625b3",
   "metadata": {},
   "source": [
    "**Revealing basic information of the dataset**"
   ]
  },
  {
   "cell_type": "code",
   "execution_count": 6,
   "id": "3c7ee492-2923-42eb-b42e-2e73004447d2",
   "metadata": {},
   "outputs": [
    {
     "data": {
      "text/plain": [
       "(267, 9)"
      ]
     },
     "execution_count": 6,
     "metadata": {},
     "output_type": "execute_result"
    }
   ],
   "source": [
    "df.shape"
   ]
  },
  {
   "cell_type": "code",
   "execution_count": 7,
   "id": "07627db6-584b-4c3c-8496-82c039cd984d",
   "metadata": {},
   "outputs": [
    {
     "data": {
      "text/plain": [
       "Index(['state', 'date', 'frequency', 'estimated unemployment rate',\n",
       "       'estimated employed', 'estimated labour participation rate', 'region',\n",
       "       'longitude', 'latitude'],\n",
       "      dtype='object')"
      ]
     },
     "execution_count": 7,
     "metadata": {},
     "output_type": "execute_result"
    }
   ],
   "source": [
    "df.columns"
   ]
  },
  {
   "cell_type": "code",
   "execution_count": 8,
   "id": "ca97bfc5-122c-40ba-8f4b-e2a6de550c6a",
   "metadata": {},
   "outputs": [
    {
     "data": {
      "text/html": [
       "<div>\n",
       "<style scoped>\n",
       "    .dataframe tbody tr th:only-of-type {\n",
       "        vertical-align: middle;\n",
       "    }\n",
       "\n",
       "    .dataframe tbody tr th {\n",
       "        vertical-align: top;\n",
       "    }\n",
       "\n",
       "    .dataframe thead th {\n",
       "        text-align: right;\n",
       "    }\n",
       "</style>\n",
       "<table border=\"1\" class=\"dataframe\">\n",
       "  <thead>\n",
       "    <tr style=\"text-align: right;\">\n",
       "      <th></th>\n",
       "      <th>estimated unemployment rate</th>\n",
       "      <th>estimated employed</th>\n",
       "      <th>estimated labour participation rate</th>\n",
       "      <th>longitude</th>\n",
       "      <th>latitude</th>\n",
       "    </tr>\n",
       "  </thead>\n",
       "  <tbody>\n",
       "    <tr>\n",
       "      <th>count</th>\n",
       "      <td>267.000000</td>\n",
       "      <td>2.670000e+02</td>\n",
       "      <td>267.000000</td>\n",
       "      <td>267.000000</td>\n",
       "      <td>267.000000</td>\n",
       "    </tr>\n",
       "    <tr>\n",
       "      <th>mean</th>\n",
       "      <td>12.236929</td>\n",
       "      <td>1.396211e+07</td>\n",
       "      <td>41.681573</td>\n",
       "      <td>22.826048</td>\n",
       "      <td>80.532425</td>\n",
       "    </tr>\n",
       "    <tr>\n",
       "      <th>std</th>\n",
       "      <td>10.803283</td>\n",
       "      <td>1.336632e+07</td>\n",
       "      <td>7.845419</td>\n",
       "      <td>6.270731</td>\n",
       "      <td>5.831738</td>\n",
       "    </tr>\n",
       "    <tr>\n",
       "      <th>min</th>\n",
       "      <td>0.500000</td>\n",
       "      <td>1.175420e+05</td>\n",
       "      <td>16.770000</td>\n",
       "      <td>10.850500</td>\n",
       "      <td>71.192400</td>\n",
       "    </tr>\n",
       "    <tr>\n",
       "      <th>25%</th>\n",
       "      <td>4.845000</td>\n",
       "      <td>2.838930e+06</td>\n",
       "      <td>37.265000</td>\n",
       "      <td>18.112400</td>\n",
       "      <td>76.085600</td>\n",
       "    </tr>\n",
       "    <tr>\n",
       "      <th>50%</th>\n",
       "      <td>9.650000</td>\n",
       "      <td>9.732417e+06</td>\n",
       "      <td>40.390000</td>\n",
       "      <td>23.610200</td>\n",
       "      <td>79.019300</td>\n",
       "    </tr>\n",
       "    <tr>\n",
       "      <th>75%</th>\n",
       "      <td>16.755000</td>\n",
       "      <td>2.187869e+07</td>\n",
       "      <td>44.055000</td>\n",
       "      <td>27.278400</td>\n",
       "      <td>85.279900</td>\n",
       "    </tr>\n",
       "    <tr>\n",
       "      <th>max</th>\n",
       "      <td>75.850000</td>\n",
       "      <td>5.943376e+07</td>\n",
       "      <td>69.690000</td>\n",
       "      <td>33.778200</td>\n",
       "      <td>92.937600</td>\n",
       "    </tr>\n",
       "  </tbody>\n",
       "</table>\n",
       "</div>"
      ],
      "text/plain": [
       "       estimated unemployment rate  estimated employed  \\\n",
       "count                   267.000000        2.670000e+02   \n",
       "mean                     12.236929        1.396211e+07   \n",
       "std                      10.803283        1.336632e+07   \n",
       "min                       0.500000        1.175420e+05   \n",
       "25%                       4.845000        2.838930e+06   \n",
       "50%                       9.650000        9.732417e+06   \n",
       "75%                      16.755000        2.187869e+07   \n",
       "max                      75.850000        5.943376e+07   \n",
       "\n",
       "       estimated labour participation rate   longitude    latitude  \n",
       "count                           267.000000  267.000000  267.000000  \n",
       "mean                             41.681573   22.826048   80.532425  \n",
       "std                               7.845419    6.270731    5.831738  \n",
       "min                              16.770000   10.850500   71.192400  \n",
       "25%                              37.265000   18.112400   76.085600  \n",
       "50%                              40.390000   23.610200   79.019300  \n",
       "75%                              44.055000   27.278400   85.279900  \n",
       "max                              69.690000   33.778200   92.937600  "
      ]
     },
     "execution_count": 8,
     "metadata": {},
     "output_type": "execute_result"
    }
   ],
   "source": [
    "df.describe()"
   ]
  },
  {
   "cell_type": "code",
   "execution_count": 9,
   "id": "1ebbe098-3767-4baf-b590-9623c3c28753",
   "metadata": {},
   "outputs": [
    {
     "data": {
      "text/plain": [
       "state                                  0\n",
       "date                                   0\n",
       "frequency                              0\n",
       "estimated unemployment rate            0\n",
       "estimated employed                     0\n",
       "estimated labour participation rate    0\n",
       "region                                 0\n",
       "longitude                              0\n",
       "latitude                               0\n",
       "dtype: int64"
      ]
     },
     "execution_count": 9,
     "metadata": {},
     "output_type": "execute_result"
    }
   ],
   "source": [
    "df.isnull().sum()"
   ]
  },
  {
   "cell_type": "code",
   "execution_count": 10,
   "id": "58822e24-9968-4530-bf36-1337a490ebad",
   "metadata": {},
   "outputs": [
    {
     "data": {
      "text/plain": [
       "np.False_"
      ]
     },
     "execution_count": 10,
     "metadata": {},
     "output_type": "execute_result"
    }
   ],
   "source": [
    "df.duplicated().any()"
   ]
  },
  {
   "cell_type": "code",
   "execution_count": 11,
   "id": "a8a5eabe-2c85-483f-a433-faf51fa0283f",
   "metadata": {},
   "outputs": [
    {
     "data": {
      "text/plain": [
       "state\n",
       "Andhra Pradesh      10\n",
       "Assam               10\n",
       "Bihar               10\n",
       "Chhattisgarh        10\n",
       "Delhi               10\n",
       "Goa                 10\n",
       "Gujarat             10\n",
       "Haryana             10\n",
       "Himachal Pradesh    10\n",
       "Jharkhand           10\n",
       "Karnataka           10\n",
       "Rajasthan           10\n",
       "Kerala              10\n",
       "Madhya Pradesh      10\n",
       "Maharashtra         10\n",
       "Meghalaya           10\n",
       "Odisha              10\n",
       "Puducherry          10\n",
       "Punjab              10\n",
       "Uttarakhand         10\n",
       "Tamil Nadu          10\n",
       "Telangana           10\n",
       "Tripura             10\n",
       "West Bengal         10\n",
       "Uttar Pradesh       10\n",
       "Jammu & Kashmir      9\n",
       "Sikkim               8\n",
       "Name: count, dtype: int64"
      ]
     },
     "execution_count": 11,
     "metadata": {},
     "output_type": "execute_result"
    }
   ],
   "source": [
    "df.state.value_counts()"
   ]
  },
  {
   "cell_type": "markdown",
   "id": "49440d4a-6ad9-4fc9-8c45-0e175add0583",
   "metadata": {},
   "source": [
    "**Changing the datatype of 'date' from object to datetime**"
   ]
  },
  {
   "cell_type": "code",
   "execution_count": 12,
   "id": "97871089-c52e-4c88-a5d8-db306175d158",
   "metadata": {},
   "outputs": [
    {
     "name": "stdout",
     "output_type": "stream",
     "text": [
      "<class 'pandas.core.frame.DataFrame'>\n",
      "RangeIndex: 267 entries, 0 to 266\n",
      "Data columns (total 9 columns):\n",
      " #   Column                               Non-Null Count  Dtype         \n",
      "---  ------                               --------------  -----         \n",
      " 0   state                                267 non-null    object        \n",
      " 1   date                                 267 non-null    datetime64[ns]\n",
      " 2   frequency                            267 non-null    object        \n",
      " 3   estimated unemployment rate          267 non-null    float64       \n",
      " 4   estimated employed                   267 non-null    int64         \n",
      " 5   estimated labour participation rate  267 non-null    float64       \n",
      " 6   region                               267 non-null    object        \n",
      " 7   longitude                            267 non-null    float64       \n",
      " 8   latitude                             267 non-null    float64       \n",
      "dtypes: datetime64[ns](1), float64(4), int64(1), object(3)\n",
      "memory usage: 18.9+ KB\n"
     ]
    }
   ],
   "source": [
    "df['date'] = pd.to_datetime(df['date'],dayfirst = True)\n",
    "df.info()"
   ]
  },
  {
   "cell_type": "markdown",
   "id": "5534af84-22a0-4412-9cae-4d121a4e9c42",
   "metadata": {},
   "source": [
    "**Extracting month from date attribute**\n"
   ]
  },
  {
   "cell_type": "code",
   "execution_count": 13,
   "id": "28015899-fd01-47db-a732-ae203c498b0b",
   "metadata": {},
   "outputs": [
    {
     "data": {
      "text/html": [
       "<div>\n",
       "<style scoped>\n",
       "    .dataframe tbody tr th:only-of-type {\n",
       "        vertical-align: middle;\n",
       "    }\n",
       "\n",
       "    .dataframe tbody tr th {\n",
       "        vertical-align: top;\n",
       "    }\n",
       "\n",
       "    .dataframe thead th {\n",
       "        text-align: right;\n",
       "    }\n",
       "</style>\n",
       "<table border=\"1\" class=\"dataframe\">\n",
       "  <thead>\n",
       "    <tr style=\"text-align: right;\">\n",
       "      <th></th>\n",
       "      <th>state</th>\n",
       "      <th>date</th>\n",
       "      <th>frequency</th>\n",
       "      <th>estimated unemployment rate</th>\n",
       "      <th>estimated employed</th>\n",
       "      <th>estimated labour participation rate</th>\n",
       "      <th>region</th>\n",
       "      <th>longitude</th>\n",
       "      <th>latitude</th>\n",
       "      <th>month_int</th>\n",
       "    </tr>\n",
       "  </thead>\n",
       "  <tbody>\n",
       "    <tr>\n",
       "      <th>0</th>\n",
       "      <td>Andhra Pradesh</td>\n",
       "      <td>2020-01-31</td>\n",
       "      <td>M</td>\n",
       "      <td>5.48</td>\n",
       "      <td>16635535</td>\n",
       "      <td>41.02</td>\n",
       "      <td>South</td>\n",
       "      <td>15.9129</td>\n",
       "      <td>79.74</td>\n",
       "      <td>1</td>\n",
       "    </tr>\n",
       "    <tr>\n",
       "      <th>1</th>\n",
       "      <td>Andhra Pradesh</td>\n",
       "      <td>2020-02-29</td>\n",
       "      <td>M</td>\n",
       "      <td>5.83</td>\n",
       "      <td>16545652</td>\n",
       "      <td>40.90</td>\n",
       "      <td>South</td>\n",
       "      <td>15.9129</td>\n",
       "      <td>79.74</td>\n",
       "      <td>2</td>\n",
       "    </tr>\n",
       "    <tr>\n",
       "      <th>2</th>\n",
       "      <td>Andhra Pradesh</td>\n",
       "      <td>2020-03-31</td>\n",
       "      <td>M</td>\n",
       "      <td>5.79</td>\n",
       "      <td>15881197</td>\n",
       "      <td>39.18</td>\n",
       "      <td>South</td>\n",
       "      <td>15.9129</td>\n",
       "      <td>79.74</td>\n",
       "      <td>3</td>\n",
       "    </tr>\n",
       "    <tr>\n",
       "      <th>3</th>\n",
       "      <td>Andhra Pradesh</td>\n",
       "      <td>2020-04-30</td>\n",
       "      <td>M</td>\n",
       "      <td>20.51</td>\n",
       "      <td>11336911</td>\n",
       "      <td>33.10</td>\n",
       "      <td>South</td>\n",
       "      <td>15.9129</td>\n",
       "      <td>79.74</td>\n",
       "      <td>4</td>\n",
       "    </tr>\n",
       "    <tr>\n",
       "      <th>4</th>\n",
       "      <td>Andhra Pradesh</td>\n",
       "      <td>2020-05-31</td>\n",
       "      <td>M</td>\n",
       "      <td>17.43</td>\n",
       "      <td>12988845</td>\n",
       "      <td>36.46</td>\n",
       "      <td>South</td>\n",
       "      <td>15.9129</td>\n",
       "      <td>79.74</td>\n",
       "      <td>5</td>\n",
       "    </tr>\n",
       "  </tbody>\n",
       "</table>\n",
       "</div>"
      ],
      "text/plain": [
       "            state       date frequency  estimated unemployment rate  \\\n",
       "0  Andhra Pradesh 2020-01-31         M                         5.48   \n",
       "1  Andhra Pradesh 2020-02-29         M                         5.83   \n",
       "2  Andhra Pradesh 2020-03-31         M                         5.79   \n",
       "3  Andhra Pradesh 2020-04-30         M                        20.51   \n",
       "4  Andhra Pradesh 2020-05-31         M                        17.43   \n",
       "\n",
       "   estimated employed  estimated labour participation rate region  longitude  \\\n",
       "0            16635535                                41.02  South    15.9129   \n",
       "1            16545652                                40.90  South    15.9129   \n",
       "2            15881197                                39.18  South    15.9129   \n",
       "3            11336911                                33.10  South    15.9129   \n",
       "4            12988845                                36.46  South    15.9129   \n",
       "\n",
       "   latitude  month_int  \n",
       "0     79.74          1  \n",
       "1     79.74          2  \n",
       "2     79.74          3  \n",
       "3     79.74          4  \n",
       "4     79.74          5  "
      ]
     },
     "execution_count": 13,
     "metadata": {},
     "output_type": "execute_result"
    }
   ],
   "source": [
    "df['month_int'] = df['date'].dt.month\n",
    "df.head()"
   ]
  },
  {
   "cell_type": "markdown",
   "id": "3fa74655-b654-4b1e-b8b0-afd4146b700e",
   "metadata": {},
   "source": [
    "**The months are in integer datetype. We need to convert the months into words for better analysis**"
   ]
  },
  {
   "cell_type": "code",
   "execution_count": 14,
   "id": "4d6326d8-a380-4e5f-ac7e-841210866bbd",
   "metadata": {},
   "outputs": [
    {
     "data": {
      "text/html": [
       "<div>\n",
       "<style scoped>\n",
       "    .dataframe tbody tr th:only-of-type {\n",
       "        vertical-align: middle;\n",
       "    }\n",
       "\n",
       "    .dataframe tbody tr th {\n",
       "        vertical-align: top;\n",
       "    }\n",
       "\n",
       "    .dataframe thead th {\n",
       "        text-align: right;\n",
       "    }\n",
       "</style>\n",
       "<table border=\"1\" class=\"dataframe\">\n",
       "  <thead>\n",
       "    <tr style=\"text-align: right;\">\n",
       "      <th></th>\n",
       "      <th>state</th>\n",
       "      <th>date</th>\n",
       "      <th>frequency</th>\n",
       "      <th>estimated unemployment rate</th>\n",
       "      <th>estimated employed</th>\n",
       "      <th>estimated labour participation rate</th>\n",
       "      <th>region</th>\n",
       "      <th>longitude</th>\n",
       "      <th>latitude</th>\n",
       "      <th>month_int</th>\n",
       "      <th>month</th>\n",
       "    </tr>\n",
       "  </thead>\n",
       "  <tbody>\n",
       "    <tr>\n",
       "      <th>0</th>\n",
       "      <td>Andhra Pradesh</td>\n",
       "      <td>2020-01-31</td>\n",
       "      <td>M</td>\n",
       "      <td>5.48</td>\n",
       "      <td>16635535</td>\n",
       "      <td>41.02</td>\n",
       "      <td>South</td>\n",
       "      <td>15.9129</td>\n",
       "      <td>79.74</td>\n",
       "      <td>1</td>\n",
       "      <td>Jan</td>\n",
       "    </tr>\n",
       "    <tr>\n",
       "      <th>1</th>\n",
       "      <td>Andhra Pradesh</td>\n",
       "      <td>2020-02-29</td>\n",
       "      <td>M</td>\n",
       "      <td>5.83</td>\n",
       "      <td>16545652</td>\n",
       "      <td>40.90</td>\n",
       "      <td>South</td>\n",
       "      <td>15.9129</td>\n",
       "      <td>79.74</td>\n",
       "      <td>2</td>\n",
       "      <td>Feb</td>\n",
       "    </tr>\n",
       "    <tr>\n",
       "      <th>2</th>\n",
       "      <td>Andhra Pradesh</td>\n",
       "      <td>2020-03-31</td>\n",
       "      <td>M</td>\n",
       "      <td>5.79</td>\n",
       "      <td>15881197</td>\n",
       "      <td>39.18</td>\n",
       "      <td>South</td>\n",
       "      <td>15.9129</td>\n",
       "      <td>79.74</td>\n",
       "      <td>3</td>\n",
       "      <td>Mar</td>\n",
       "    </tr>\n",
       "    <tr>\n",
       "      <th>3</th>\n",
       "      <td>Andhra Pradesh</td>\n",
       "      <td>2020-04-30</td>\n",
       "      <td>M</td>\n",
       "      <td>20.51</td>\n",
       "      <td>11336911</td>\n",
       "      <td>33.10</td>\n",
       "      <td>South</td>\n",
       "      <td>15.9129</td>\n",
       "      <td>79.74</td>\n",
       "      <td>4</td>\n",
       "      <td>Apr</td>\n",
       "    </tr>\n",
       "    <tr>\n",
       "      <th>4</th>\n",
       "      <td>Andhra Pradesh</td>\n",
       "      <td>2020-05-31</td>\n",
       "      <td>M</td>\n",
       "      <td>17.43</td>\n",
       "      <td>12988845</td>\n",
       "      <td>36.46</td>\n",
       "      <td>South</td>\n",
       "      <td>15.9129</td>\n",
       "      <td>79.74</td>\n",
       "      <td>5</td>\n",
       "      <td>May</td>\n",
       "    </tr>\n",
       "  </tbody>\n",
       "</table>\n",
       "</div>"
      ],
      "text/plain": [
       "            state       date frequency  estimated unemployment rate  \\\n",
       "0  Andhra Pradesh 2020-01-31         M                         5.48   \n",
       "1  Andhra Pradesh 2020-02-29         M                         5.83   \n",
       "2  Andhra Pradesh 2020-03-31         M                         5.79   \n",
       "3  Andhra Pradesh 2020-04-30         M                        20.51   \n",
       "4  Andhra Pradesh 2020-05-31         M                        17.43   \n",
       "\n",
       "   estimated employed  estimated labour participation rate region  longitude  \\\n",
       "0            16635535                                41.02  South    15.9129   \n",
       "1            16545652                                40.90  South    15.9129   \n",
       "2            15881197                                39.18  South    15.9129   \n",
       "3            11336911                                33.10  South    15.9129   \n",
       "4            12988845                                36.46  South    15.9129   \n",
       "\n",
       "   latitude  month_int month  \n",
       "0     79.74          1   Jan  \n",
       "1     79.74          2   Feb  \n",
       "2     79.74          3   Mar  \n",
       "3     79.74          4   Apr  \n",
       "4     79.74          5   May  "
      ]
     },
     "execution_count": 14,
     "metadata": {},
     "output_type": "execute_result"
    }
   ],
   "source": [
    "df['month'] = df['month_int'].apply(lambda x: calendar.month_abbr[x])\n",
    "df.head()"
   ]
  },
  {
   "cell_type": "markdown",
   "id": "902035ea-82f9-4179-95c0-580f31aa6106",
   "metadata": {},
   "source": [
    "**Numeric data grouped by months**"
   ]
  },
  {
   "cell_type": "markdown",
   "id": "6a2a6d10-08cd-4841-8b7d-5292d5f66466",
   "metadata": {},
   "source": [
    "**Bar plot of unemployment rate and labour participation rate**"
   ]
  },
  {
   "cell_type": "code",
   "execution_count": 17,
   "id": "d794e9d8-4ac8-4186-b798-0eafc814b739",
   "metadata": {},
   "outputs": [
    {
     "data": {
      "application/vnd.plotly.v1+json": {
       "config": {
        "plotlyServerURL": "https://plot.ly"
       },
       "data": [
        {
         "name": "Unemployment Rate",
         "type": "bar",
         "x": [
          "Jan",
          "Feb",
          "Mar",
          "Apr",
          "May",
          "Jun",
          "Jul",
          "Aug",
          "Sep",
          "Oct",
          "Jan",
          "Feb",
          "Mar",
          "Apr",
          "May",
          "Jun",
          "Jul",
          "Aug",
          "Sep",
          "Oct",
          "Jan",
          "Feb",
          "Mar",
          "Apr",
          "May",
          "Jun",
          "Jul",
          "Aug",
          "Sep",
          "Oct",
          "Jan",
          "Feb",
          "Mar",
          "Apr",
          "May",
          "Jun",
          "Jul",
          "Aug",
          "Sep",
          "Oct",
          "Jan",
          "Feb",
          "Mar",
          "Apr",
          "May",
          "Jun",
          "Jul",
          "Aug",
          "Sep",
          "Oct",
          "Jan",
          "Feb",
          "Mar",
          "Apr",
          "May",
          "Jun",
          "Jul",
          "Aug",
          "Sep",
          "Oct",
          "Jan",
          "Feb",
          "Mar",
          "Apr",
          "May",
          "Jun",
          "Jul",
          "Aug",
          "Sep",
          "Oct",
          "Jan",
          "Feb",
          "Mar",
          "Apr",
          "May",
          "Jun",
          "Jul",
          "Aug",
          "Sep",
          "Oct",
          "Jan",
          "Feb",
          "Mar",
          "Apr",
          "May",
          "Jun",
          "Jul",
          "Aug",
          "Sep",
          "Oct",
          "Jan",
          "Feb",
          "Mar",
          "May",
          "Jun",
          "Jul",
          "Aug",
          "Sep",
          "Oct",
          "Jan",
          "Feb",
          "Mar",
          "Apr",
          "May",
          "Jun",
          "Jul",
          "Aug",
          "Sep",
          "Oct",
          "Jan",
          "Feb",
          "Mar",
          "Apr",
          "May",
          "Jun",
          "Jul",
          "Aug",
          "Sep",
          "Oct",
          "Jan",
          "Feb",
          "Mar",
          "Apr",
          "May",
          "Jun",
          "Jul",
          "Aug",
          "Sep",
          "Oct",
          "Jan",
          "Feb",
          "Mar",
          "Apr",
          "May",
          "Jun",
          "Jul",
          "Aug",
          "Sep",
          "Oct",
          "Jan",
          "Feb",
          "Mar",
          "Apr",
          "May",
          "Jun",
          "Jul",
          "Aug",
          "Sep",
          "Oct",
          "Jan",
          "Feb",
          "Mar",
          "Apr",
          "May",
          "Jun",
          "Jul",
          "Aug",
          "Sep",
          "Oct",
          "Jan",
          "Feb",
          "Mar",
          "Apr",
          "May",
          "Jun",
          "Jul",
          "Aug",
          "Sep",
          "Oct",
          "Jan",
          "Feb",
          "Mar",
          "Apr",
          "May",
          "Jun",
          "Jul",
          "Aug",
          "Sep",
          "Oct",
          "Jan",
          "Feb",
          "Mar",
          "Apr",
          "May",
          "Jun",
          "Jul",
          "Aug",
          "Sep",
          "Oct",
          "Jan",
          "Feb",
          "Mar",
          "Apr",
          "May",
          "Jun",
          "Jul",
          "Aug",
          "Sep",
          "Oct",
          "Mar",
          "Apr",
          "May",
          "Jun",
          "Jul",
          "Aug",
          "Sep",
          "Oct",
          "Jan",
          "Feb",
          "Mar",
          "Apr",
          "May",
          "Jun",
          "Jul",
          "Aug",
          "Sep",
          "Oct",
          "Jan",
          "Feb",
          "Mar",
          "Apr",
          "May",
          "Jun",
          "Jul",
          "Aug",
          "Sep",
          "Oct",
          "Jan",
          "Feb",
          "Mar",
          "Apr",
          "May",
          "Jun",
          "Jul",
          "Aug",
          "Sep",
          "Oct",
          "Jan",
          "Feb",
          "Mar",
          "Apr",
          "May",
          "Jun",
          "Jul",
          "Aug",
          "Sep",
          "Oct",
          "Jan",
          "Feb",
          "Mar",
          "Apr",
          "May",
          "Jun",
          "Jul",
          "Aug",
          "Sep",
          "Oct",
          "Jan",
          "Feb",
          "Mar",
          "Apr",
          "May",
          "Jun",
          "Jul",
          "Aug",
          "Sep",
          "Oct"
         ],
         "y": {
          "_inputArray": {
           "0": 5.48,
           "1": 5.83,
           "10": 4.66,
           "100": 11.85,
           "101": 8.23,
           "102": 47.09,
           "103": 59.23,
           "104": 20.95,
           "105": 7.63,
           "106": 9.76,
           "107": 8.24,
           "108": 11.8,
           "109": 2.86,
           "11": 4.41,
           "110": 3.61,
           "111": 3.46,
           "112": 29.84,
           "113": 19.97,
           "114": 8.44,
           "115": 4.01,
           "116": 0.5,
           "117": 2.41,
           "118": 1.58,
           "119": 5.31,
           "12": 4.77,
           "120": 7.6,
           "121": 8.99,
           "122": 16.99,
           "123": 17.88,
           "124": 9.71,
           "125": 7.09,
           "126": 10.98,
           "127": 5.91,
           "128": 3.88,
           "129": 4.11,
           "13": 11.06,
           "130": 4.57,
           "131": 2.22,
           "132": 12.36,
           "133": 21.98,
           "134": 6.48,
           "135": 5.08,
           "136": 4.7,
           "137": 3.91,
           "138": 3.13,
           "139": 4.95,
           "14": 9.55,
           "140": 4.69,
           "141": 5.79,
           "142": 20.9,
           "143": 15.46,
           "144": 9.23,
           "145": 3.89,
           "146": 6.23,
           "147": 4.55,
           "148": 4.1,
           "149": 1.66,
           "15": 0.6,
           "150": 3.59,
           "151": 1.58,
           "152": 10.03,
           "153": 5.92,
           "154": 1.15,
           "155": 2.1,
           "156": 3.74,
           "157": 4.29,
           "158": 4.6,
           "159": 1.9,
           "16": 3.77,
           "160": 3.12,
           "161": 13.08,
           "162": 23.76,
           "163": 11.41,
           "164": 3.77,
           "165": 1.88,
           "166": 1.42,
           "167": 2.1,
           "168": 2.18,
           "169": 0.58,
           "17": 5.53,
           "170": 1.76,
           "171": 1.2,
           "172": 75.85,
           "173": 58.19,
           "174": 4.24,
           "175": 15.47,
           "176": 5.05,
           "177": 10.9,
           "178": 6.18,
           "179": 11.11,
           "18": 1.19,
           "180": 10.97,
           "181": 10.32,
           "182": 2.86,
           "183": 28.33,
           "184": 16.55,
           "185": 9.19,
           "186": 10.99,
           "187": 9.61,
           "188": 9.88,
           "189": 10.97,
           "19": 3.02,
           "190": 15.16,
           "191": 11.9,
           "192": 17.7,
           "193": 15.74,
           "194": 14.39,
           "195": 15.81,
           "196": 17.51,
           "197": 15.35,
           "198": 24.15,
           "199": 23.57,
           "2": 5.79,
           "20": 10.61,
           "200": 2.28,
           "201": 24.51,
           "202": 4.46,
           "203": 4.45,
           "204": 12.49,
           "205": 5.7,
           "206": 0.88,
           "207": 1.57,
           "208": 2.09,
           "209": 6.4,
           "21": 10.29,
           "210": 49.83,
           "211": 33.16,
           "212": 12.2,
           "213": 6.81,
           "214": 2.65,
           "215": 5,
           "216": 2.16,
           "217": 5.49,
           "218": 8.29,
           "219": 5.77,
           "22": 15.43,
           "220": 6.25,
           "221": 14.7,
           "222": 10.55,
           "223": 5.36,
           "224": 5.79,
           "225": 3.27,
           "226": 2.86,
           "227": 32.67,
           "228": 28.4,
           "229": 29.95,
           "23": 46.64,
           "230": 41.23,
           "231": 21.51,
           "232": 21.71,
           "233": 18.24,
           "234": 27.92,
           "235": 17.35,
           "236": 11.57,
           "237": 7.58,
           "238": 8.98,
           "239": 10.11,
           "24": 45.96,
           "240": 21.54,
           "241": 20.41,
           "242": 9.47,
           "243": 5.56,
           "244": 5.79,
           "245": 4.18,
           "246": 3.75,
           "247": 5.49,
           "248": 4.99,
           "249": 19.85,
           "25": 17.82,
           "250": 6.48,
           "251": 8.01,
           "252": 8.61,
           "253": 12.38,
           "254": 14.26,
           "255": 22.26,
           "256": 9.23,
           "257": 6.94,
           "258": 4.92,
           "259": 6.92,
           "26": 12.79,
           "260": 17.41,
           "261": 17.41,
           "262": 7.29,
           "263": 6.83,
           "264": 14.87,
           "265": 9.35,
           "266": 9.98,
           "27": 13.44,
           "28": 11.91,
           "29": 9.82,
           "3": 20.51,
           "30": 9.65,
           "31": 8.38,
           "32": 7.54,
           "33": 3.41,
           "34": 10.5,
           "35": 14.23,
           "36": 10.27,
           "37": 5.63,
           "38": 1.96,
           "39": 6.62,
           "4": 17.43,
           "40": 22.23,
           "41": 14.84,
           "42": 17.04,
           "43": 16.68,
           "44": 42.27,
           "45": 18.19,
           "46": 20.3,
           "47": 13.79,
           "48": 12.53,
           "49": 6.27,
           "5": 3.31,
           "50": 8.89,
           "51": 2.81,
           "52": 5.25,
           "53": 13.31,
           "54": 21.25,
           "55": 9.96,
           "56": 17.07,
           "57": 16.21,
           "58": 15.38,
           "59": 11.54,
           "6": 8.34,
           "60": 5.54,
           "61": 6.38,
           "62": 6.66,
           "63": 18.71,
           "64": 12.11,
           "65": 3.2,
           "66": 1.84,
           "67": 1.87,
           "68": 3.42,
           "69": 4.03,
           "7": 6.96,
           "70": 20.34,
           "71": 25.77,
           "72": 25.05,
           "73": 43.22,
           "74": 29.02,
           "75": 26.7,
           "76": 24.18,
           "77": 33.5,
           "78": 19.68,
           "79": 27.31,
           "8": 6.4,
           "80": 16.83,
           "81": 16.84,
           "82": 18.76,
           "83": 2.2,
           "84": 26.95,
           "85": 13.47,
           "86": 24.31,
           "87": 15.79,
           "88": 12.04,
           "89": 13.46,
           "9": 6.59,
           "90": 21.08,
           "91": 20.78,
           "92": 15.5,
           "93": 18.74,
           "94": 17.92,
           "95": 10.88,
           "96": 11.09,
           "97": 16.17,
           "98": 16.14,
           "99": 10.61,
           "bdata": "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",
           "dtype": "f8",
           "shape": "267"
          },
          "bdata": "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",
          "dtype": "f8"
         }
        },
        {
         "name": "Labour Participation Rate",
         "type": "bar",
         "x": [
          "Jan",
          "Feb",
          "Mar",
          "Apr",
          "May",
          "Jun",
          "Jul",
          "Aug",
          "Sep",
          "Oct",
          "Jan",
          "Feb",
          "Mar",
          "Apr",
          "May",
          "Jun",
          "Jul",
          "Aug",
          "Sep",
          "Oct",
          "Jan",
          "Feb",
          "Mar",
          "Apr",
          "May",
          "Jun",
          "Jul",
          "Aug",
          "Sep",
          "Oct",
          "Jan",
          "Feb",
          "Mar",
          "Apr",
          "May",
          "Jun",
          "Jul",
          "Aug",
          "Sep",
          "Oct",
          "Jan",
          "Feb",
          "Mar",
          "Apr",
          "May",
          "Jun",
          "Jul",
          "Aug",
          "Sep",
          "Oct",
          "Jan",
          "Feb",
          "Mar",
          "Apr",
          "May",
          "Jun",
          "Jul",
          "Aug",
          "Sep",
          "Oct",
          "Jan",
          "Feb",
          "Mar",
          "Apr",
          "May",
          "Jun",
          "Jul",
          "Aug",
          "Sep",
          "Oct",
          "Jan",
          "Feb",
          "Mar",
          "Apr",
          "May",
          "Jun",
          "Jul",
          "Aug",
          "Sep",
          "Oct",
          "Jan",
          "Feb",
          "Mar",
          "Apr",
          "May",
          "Jun",
          "Jul",
          "Aug",
          "Sep",
          "Oct",
          "Jan",
          "Feb",
          "Mar",
          "May",
          "Jun",
          "Jul",
          "Aug",
          "Sep",
          "Oct",
          "Jan",
          "Feb",
          "Mar",
          "Apr",
          "May",
          "Jun",
          "Jul",
          "Aug",
          "Sep",
          "Oct",
          "Jan",
          "Feb",
          "Mar",
          "Apr",
          "May",
          "Jun",
          "Jul",
          "Aug",
          "Sep",
          "Oct",
          "Jan",
          "Feb",
          "Mar",
          "Apr",
          "May",
          "Jun",
          "Jul",
          "Aug",
          "Sep",
          "Oct",
          "Jan",
          "Feb",
          "Mar",
          "Apr",
          "May",
          "Jun",
          "Jul",
          "Aug",
          "Sep",
          "Oct",
          "Jan",
          "Feb",
          "Mar",
          "Apr",
          "May",
          "Jun",
          "Jul",
          "Aug",
          "Sep",
          "Oct",
          "Jan",
          "Feb",
          "Mar",
          "Apr",
          "May",
          "Jun",
          "Jul",
          "Aug",
          "Sep",
          "Oct",
          "Jan",
          "Feb",
          "Mar",
          "Apr",
          "May",
          "Jun",
          "Jul",
          "Aug",
          "Sep",
          "Oct",
          "Jan",
          "Feb",
          "Mar",
          "Apr",
          "May",
          "Jun",
          "Jul",
          "Aug",
          "Sep",
          "Oct",
          "Jan",
          "Feb",
          "Mar",
          "Apr",
          "May",
          "Jun",
          "Jul",
          "Aug",
          "Sep",
          "Oct",
          "Jan",
          "Feb",
          "Mar",
          "Apr",
          "May",
          "Jun",
          "Jul",
          "Aug",
          "Sep",
          "Oct",
          "Mar",
          "Apr",
          "May",
          "Jun",
          "Jul",
          "Aug",
          "Sep",
          "Oct",
          "Jan",
          "Feb",
          "Mar",
          "Apr",
          "May",
          "Jun",
          "Jul",
          "Aug",
          "Sep",
          "Oct",
          "Jan",
          "Feb",
          "Mar",
          "Apr",
          "May",
          "Jun",
          "Jul",
          "Aug",
          "Sep",
          "Oct",
          "Jan",
          "Feb",
          "Mar",
          "Apr",
          "May",
          "Jun",
          "Jul",
          "Aug",
          "Sep",
          "Oct",
          "Jan",
          "Feb",
          "Mar",
          "Apr",
          "May",
          "Jun",
          "Jul",
          "Aug",
          "Sep",
          "Oct",
          "Jan",
          "Feb",
          "Mar",
          "Apr",
          "May",
          "Jun",
          "Jul",
          "Aug",
          "Sep",
          "Oct",
          "Jan",
          "Feb",
          "Mar",
          "Apr",
          "May",
          "Jun",
          "Jul",
          "Aug",
          "Sep",
          "Oct"
         ],
         "y": {
          "_inputArray": {
           "0": 41.02,
           "1": 40.9,
           "10": 52.98,
           "100": 44.4,
           "101": 39.34,
           "102": 37.69,
           "103": 37.92,
           "104": 40.59,
           "105": 38.27,
           "106": 38.31,
           "107": 41.04,
           "108": 43.08,
           "109": 42.18,
           "11": 40.77,
           "110": 40.54,
           "111": 41.14,
           "112": 42.78,
           "113": 43.43,
           "114": 47.29,
           "115": 42.55,
           "116": 43.13,
           "117": 36.66,
           "118": 40.3,
           "119": 37.12,
           "12": 46.73,
           "120": 37.71,
           "121": 32,
           "122": 16.77,
           "123": 34.11,
           "124": 36.11,
           "125": 36.1,
           "126": 35.78,
           "127": 34.6,
           "128": 33.52,
           "129": 39.42,
           "13": 29.55,
           "130": 39,
           "131": 38.24,
           "132": 35.45,
           "133": 38.48,
           "134": 40.04,
           "135": 40.88,
           "136": 40.08,
           "137": 39.2,
           "138": 38.47,
           "139": 44.19,
           "14": 48.26,
           "140": 43.8,
           "141": 41.91,
           "142": 34.32,
           "143": 37.17,
           "144": 42.71,
           "145": 41.57,
           "146": 42.49,
           "147": 42.75,
           "148": 43.75,
           "149": 65.49,
           "15": 35.07,
           "150": 60.2,
           "151": 64.74,
           "152": 45.99,
           "153": 55.24,
           "154": 58.31,
           "155": 62.96,
           "156": 59.88,
           "157": 64.6,
           "158": 61.18,
           "159": 39.44,
           "16": 40.88,
           "160": 41.44,
           "161": 39.62,
           "162": 25.23,
           "163": 37.04,
           "164": 37.45,
           "165": 38.69,
           "166": 39.96,
           "167": 38.63,
           "168": 39.98,
           "169": 37.46,
           "17": 39.52,
           "170": 40.8,
           "171": 34.49,
           "172": 39.3,
           "173": 33.19,
           "174": 30.8,
           "175": 36.64,
           "176": 33.34,
           "177": 36.84,
           "178": 36.32,
           "179": 42.82,
           "18": 54.38,
           "180": 41.72,
           "181": 44.69,
           "182": 28.99,
           "183": 38.39,
           "184": 40.18,
           "185": 42.76,
           "186": 41.99,
           "187": 39.5,
           "188": 38.75,
           "189": 40.51,
           "19": 46.84,
           "190": 41.77,
           "191": 39.54,
           "192": 33.71,
           "193": 40.74,
           "194": 41.38,
           "195": 40.8,
           "196": 41.71,
           "197": 40.83,
           "198": 44.92,
           "199": 60.59,
           "2": 39.18,
           "20": 37.72,
           "200": 38.7,
           "201": 44.88,
           "202": 40.4,
           "203": 48.32,
           "204": 48.49,
           "205": 42.54,
           "206": 42.13,
           "207": 41.96,
           "208": 43.2,
           "209": 43.91,
           "21": 37.35,
           "210": 29.63,
           "211": 26.23,
           "212": 33.16,
           "213": 40.13,
           "214": 42.22,
           "215": 36.77,
           "216": 36.62,
           "217": 59.25,
           "218": 58.24,
           "219": 58.31,
           "22": 38.69,
           "220": 41.06,
           "221": 55.43,
           "222": 53.22,
           "223": 52.1,
           "224": 60.59,
           "225": 54.94,
           "226": 56.58,
           "227": 69.69,
           "228": 68.74,
           "229": 66.89,
           "23": 38.17,
           "230": 51.16,
           "231": 50.81,
           "232": 58.85,
           "233": 50.78,
           "234": 56.21,
           "235": 50.77,
           "236": 54.58,
           "237": 39.63,
           "238": 39.23,
           "239": 38.89,
           "24": 38.16,
           "240": 39.73,
           "241": 38.22,
           "242": 37.29,
           "243": 36.19,
           "244": 35.96,
           "245": 35.45,
           "246": 35.49,
           "247": 32.99,
           "248": 36.48,
           "249": 36.27,
           "25": 36.86,
           "250": 33.23,
           "251": 33.38,
           "252": 33.06,
           "253": 38.07,
           "254": 35.9,
           "255": 39.18,
           "256": 34.03,
           "257": 47.35,
           "258": 47.74,
           "259": 47.27,
           "26": 36.14,
           "260": 39.9,
           "261": 41.92,
           "262": 40.39,
           "263": 46.17,
           "264": 47.48,
           "265": 47.73,
           "266": 45.63,
           "27": 34.59,
           "28": 38.35,
           "29": 35.7,
           "3": 33.1,
           "30": 43.08,
           "31": 45.58,
           "32": 45.59,
           "33": 35.58,
           "34": 35.23,
           "35": 38.48,
           "36": 43.14,
           "37": 42.97,
           "38": 41.14,
           "39": 40.82,
           "4": 36.46,
           "40": 47.79,
           "41": 43.92,
           "42": 42.65,
           "43": 23.8,
           "44": 28.91,
           "45": 34.17,
           "46": 33.97,
           "47": 35.41,
           "48": 35.59,
           "49": 32.36,
           "5": 47.41,
           "50": 35.73,
           "51": 38.38,
           "52": 33.88,
           "53": 44.97,
           "54": 37.36,
           "55": 42.21,
           "56": 42.94,
           "57": 43.76,
           "58": 38.89,
           "59": 34.3,
           "6": 38.91,
           "60": 48.49,
           "61": 50.11,
           "62": 47.75,
           "63": 35.5,
           "64": 38.23,
           "65": 45.96,
           "66": 46.41,
           "67": 43.55,
           "68": 48.41,
           "69": 50.49,
           "7": 37.83,
           "70": 43.36,
           "71": 44.21,
           "72": 39.63,
           "73": 44.38,
           "74": 40.39,
           "75": 42.14,
           "76": 39.77,
           "77": 47.32,
           "78": 39.2,
           "79": 40.6,
           "8": 37.47,
           "80": 45.5,
           "81": 43.3,
           "82": 41.04,
           "83": 19.04,
           "84": 42.7,
           "85": 41.72,
           "86": 48.25,
           "87": 39.42,
           "88": 41.54,
           "89": 40.01,
           "9": 37.34,
           "90": 42.2,
           "91": 39.17,
           "92": 38.18,
           "93": 38.21,
           "94": 37.24,
           "95": 38.03,
           "96": 36.66,
           "97": 36.31,
           "98": 35.05,
           "99": 42.92,
           "bdata": "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",
           "dtype": "f8",
           "shape": "267"
          },
          "bdata": "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",
          "dtype": "f8"
         }
        }
       ],
       "layout": {
        "autosize": true,
        "barmode": "group",
        "template": {
         "data": {
          "bar": [
           {
            "error_x": {
             "color": "#2a3f5f"
            },
            "error_y": {
             "color": "#2a3f5f"
            },
            "marker": {
             "line": {
              "color": "#E5ECF6",
              "width": 0.5
             },
             "pattern": {
              "fillmode": "overlay",
              "size": 10,
              "solidity": 0.2
             }
            },
            "type": "bar"
           }
          ],
          "barpolar": [
           {
            "marker": {
             "line": {
              "color": "#E5ECF6",
              "width": 0.5
             },
             "pattern": {
              "fillmode": "overlay",
              "size": 10,
              "solidity": 0.2
             }
            },
            "type": "barpolar"
           }
          ],
          "carpet": [
           {
            "aaxis": {
             "endlinecolor": "#2a3f5f",
             "gridcolor": "white",
             "linecolor": "white",
             "minorgridcolor": "white",
             "startlinecolor": "#2a3f5f"
            },
            "baxis": {
             "endlinecolor": "#2a3f5f",
             "gridcolor": "white",
             "linecolor": "white",
             "minorgridcolor": "white",
             "startlinecolor": "#2a3f5f"
            },
            "type": "carpet"
           }
          ],
          "choropleth": [
           {
            "colorbar": {
             "outlinewidth": 0,
             "ticks": ""
            },
            "type": "choropleth"
           }
          ],
          "contour": [
           {
            "colorbar": {
             "outlinewidth": 0,
             "ticks": ""
            },
            "colorscale": [
             [
              0,
              "#0d0887"
             ],
             [
              0.1111111111111111,
              "#46039f"
             ],
             [
              0.2222222222222222,
              "#7201a8"
             ],
             [
              0.3333333333333333,
              "#9c179e"
             ],
             [
              0.4444444444444444,
              "#bd3786"
             ],
             [
              0.5555555555555556,
              "#d8576b"
             ],
             [
              0.6666666666666666,
              "#ed7953"
             ],
             [
              0.7777777777777778,
              "#fb9f3a"
             ],
             [
              0.8888888888888888,
              "#fdca26"
             ],
             [
              1,
              "#f0f921"
             ]
            ],
            "type": "contour"
           }
          ],
          "contourcarpet": [
           {
            "colorbar": {
             "outlinewidth": 0,
             "ticks": ""
            },
            "type": "contourcarpet"
           }
          ],
          "heatmap": [
           {
            "colorbar": {
             "outlinewidth": 0,
             "ticks": ""
            },
            "colorscale": [
             [
              0,
              "#0d0887"
             ],
             [
              0.1111111111111111,
              "#46039f"
             ],
             [
              0.2222222222222222,
              "#7201a8"
             ],
             [
              0.3333333333333333,
              "#9c179e"
             ],
             [
              0.4444444444444444,
              "#bd3786"
             ],
             [
              0.5555555555555556,
              "#d8576b"
             ],
             [
              0.6666666666666666,
              "#ed7953"
             ],
             [
              0.7777777777777778,
              "#fb9f3a"
             ],
             [
              0.8888888888888888,
              "#fdca26"
             ],
             [
              1,
              "#f0f921"
             ]
            ],
            "type": "heatmap"
           }
          ],
          "histogram": [
           {
            "marker": {
             "pattern": {
              "fillmode": "overlay",
              "size": 10,
              "solidity": 0.2
             }
            },
            "type": "histogram"
           }
          ],
          "histogram2d": [
           {
            "colorbar": {
             "outlinewidth": 0,
             "ticks": ""
            },
            "colorscale": [
             [
              0,
              "#0d0887"
             ],
             [
              0.1111111111111111,
              "#46039f"
             ],
             [
              0.2222222222222222,
              "#7201a8"
             ],
             [
              0.3333333333333333,
              "#9c179e"
             ],
             [
              0.4444444444444444,
              "#bd3786"
             ],
             [
              0.5555555555555556,
              "#d8576b"
             ],
             [
              0.6666666666666666,
              "#ed7953"
             ],
             [
              0.7777777777777778,
              "#fb9f3a"
             ],
             [
              0.8888888888888888,
              "#fdca26"
             ],
             [
              1,
              "#f0f921"
             ]
            ],
            "type": "histogram2d"
           }
          ],
          "histogram2dcontour": [
           {
            "colorbar": {
             "outlinewidth": 0,
             "ticks": ""
            },
            "colorscale": [
             [
              0,
              "#0d0887"
             ],
             [
              0.1111111111111111,
              "#46039f"
             ],
             [
              0.2222222222222222,
              "#7201a8"
             ],
             [
              0.3333333333333333,
              "#9c179e"
             ],
             [
              0.4444444444444444,
              "#bd3786"
             ],
             [
              0.5555555555555556,
              "#d8576b"
             ],
             [
              0.6666666666666666,
              "#ed7953"
             ],
             [
              0.7777777777777778,
              "#fb9f3a"
             ],
             [
              0.8888888888888888,
              "#fdca26"
             ],
             [
              1,
              "#f0f921"
             ]
            ],
            "type": "histogram2dcontour"
           }
          ],
          "mesh3d": [
           {
            "colorbar": {
             "outlinewidth": 0,
             "ticks": ""
            },
            "type": "mesh3d"
           }
          ],
          "parcoords": [
           {
            "line": {
             "colorbar": {
              "outlinewidth": 0,
              "ticks": ""
             }
            },
            "type": "parcoords"
           }
          ],
          "pie": [
           {
            "automargin": true,
            "type": "pie"
           }
          ],
          "scatter": [
           {
            "fillpattern": {
             "fillmode": "overlay",
             "size": 10,
             "solidity": 0.2
            },
            "type": "scatter"
           }
          ],
          "scatter3d": [
           {
            "line": {
             "colorbar": {
              "outlinewidth": 0,
              "ticks": ""
             }
            },
            "marker": {
             "colorbar": {
              "outlinewidth": 0,
              "ticks": ""
             }
            },
            "type": "scatter3d"
           }
          ],
          "scattercarpet": [
           {
            "marker": {
             "colorbar": {
              "outlinewidth": 0,
              "ticks": ""
             }
            },
            "type": "scattercarpet"
           }
          ],
          "scattergeo": [
           {
            "marker": {
             "colorbar": {
              "outlinewidth": 0,
              "ticks": ""
             }
            },
            "type": "scattergeo"
           }
          ],
          "scattergl": [
           {
            "marker": {
             "colorbar": {
              "outlinewidth": 0,
              "ticks": ""
             }
            },
            "type": "scattergl"
           }
          ],
          "scattermap": [
           {
            "marker": {
             "colorbar": {
              "outlinewidth": 0,
              "ticks": ""
             }
            },
            "type": "scattermap"
           }
          ],
          "scattermapbox": [
           {
            "marker": {
             "colorbar": {
              "outlinewidth": 0,
              "ticks": ""
             }
            },
            "type": "scattermapbox"
           }
          ],
          "scatterpolar": [
           {
            "marker": {
             "colorbar": {
              "outlinewidth": 0,
              "ticks": ""
             }
            },
            "type": "scatterpolar"
           }
          ],
          "scatterpolargl": [
           {
            "marker": {
             "colorbar": {
              "outlinewidth": 0,
              "ticks": ""
             }
            },
            "type": "scatterpolargl"
           }
          ],
          "scatterternary": [
           {
            "marker": {
             "colorbar": {
              "outlinewidth": 0,
              "ticks": ""
             }
            },
            "type": "scatterternary"
           }
          ],
          "surface": [
           {
            "colorbar": {
             "outlinewidth": 0,
             "ticks": ""
            },
            "colorscale": [
             [
              0,
              "#0d0887"
             ],
             [
              0.1111111111111111,
              "#46039f"
             ],
             [
              0.2222222222222222,
              "#7201a8"
             ],
             [
              0.3333333333333333,
              "#9c179e"
             ],
             [
              0.4444444444444444,
              "#bd3786"
             ],
             [
              0.5555555555555556,
              "#d8576b"
             ],
             [
              0.6666666666666666,
              "#ed7953"
             ],
             [
              0.7777777777777778,
              "#fb9f3a"
             ],
             [
              0.8888888888888888,
              "#fdca26"
             ],
             [
              1,
              "#f0f921"
             ]
            ],
            "type": "surface"
           }
          ],
          "table": [
           {
            "cells": {
             "fill": {
              "color": "#EBF0F8"
             },
             "line": {
              "color": "white"
             }
            },
            "header": {
             "fill": {
              "color": "#C8D4E3"
             },
             "line": {
              "color": "white"
             }
            },
            "type": "table"
           }
          ]
         },
         "layout": {
          "annotationdefaults": {
           "arrowcolor": "#2a3f5f",
           "arrowhead": 0,
           "arrowwidth": 1
          },
          "autotypenumbers": "strict",
          "coloraxis": {
           "colorbar": {
            "outlinewidth": 0,
            "ticks": ""
           }
          },
          "colorscale": {
           "diverging": [
            [
             0,
             "#8e0152"
            ],
            [
             0.1,
             "#c51b7d"
            ],
            [
             0.2,
             "#de77ae"
            ],
            [
             0.3,
             "#f1b6da"
            ],
            [
             0.4,
             "#fde0ef"
            ],
            [
             0.5,
             "#f7f7f7"
            ],
            [
             0.6,
             "#e6f5d0"
            ],
            [
             0.7,
             "#b8e186"
            ],
            [
             0.8,
             "#7fbc41"
            ],
            [
             0.9,
             "#4d9221"
            ],
            [
             1,
             "#276419"
            ]
           ],
           "sequential": [
            [
             0,
             "#0d0887"
            ],
            [
             0.1111111111111111,
             "#46039f"
            ],
            [
             0.2222222222222222,
             "#7201a8"
            ],
            [
             0.3333333333333333,
             "#9c179e"
            ],
            [
             0.4444444444444444,
             "#bd3786"
            ],
            [
             0.5555555555555556,
             "#d8576b"
            ],
            [
             0.6666666666666666,
             "#ed7953"
            ],
            [
             0.7777777777777778,
             "#fb9f3a"
            ],
            [
             0.8888888888888888,
             "#fdca26"
            ],
            [
             1,
             "#f0f921"
            ]
           ],
           "sequentialminus": [
            [
             0,
             "#0d0887"
            ],
            [
             0.1111111111111111,
             "#46039f"
            ],
            [
             0.2222222222222222,
             "#7201a8"
            ],
            [
             0.3333333333333333,
             "#9c179e"
            ],
            [
             0.4444444444444444,
             "#bd3786"
            ],
            [
             0.5555555555555556,
             "#d8576b"
            ],
            [
             0.6666666666666666,
             "#ed7953"
            ],
            [
             0.7777777777777778,
             "#fb9f3a"
            ],
            [
             0.8888888888888888,
             "#fdca26"
            ],
            [
             1,
             "#f0f921"
            ]
           ]
          },
          "colorway": [
           "#636efa",
           "#EF553B",
           "#00cc96",
           "#ab63fa",
           "#FFA15A",
           "#19d3f3",
           "#FF6692",
           "#B6E880",
           "#FF97FF",
           "#FECB52"
          ],
          "font": {
           "color": "#2a3f5f"
          },
          "geo": {
           "bgcolor": "white",
           "lakecolor": "white",
           "landcolor": "#E5ECF6",
           "showlakes": true,
           "showland": true,
           "subunitcolor": "white"
          },
          "hoverlabel": {
           "align": "left"
          },
          "hovermode": "closest",
          "mapbox": {
           "style": "light"
          },
          "paper_bgcolor": "white",
          "plot_bgcolor": "#E5ECF6",
          "polar": {
           "angularaxis": {
            "gridcolor": "white",
            "linecolor": "white",
            "ticks": ""
           },
           "bgcolor": "#E5ECF6",
           "radialaxis": {
            "gridcolor": "white",
            "linecolor": "white",
            "ticks": ""
           }
          },
          "scene": {
           "xaxis": {
            "backgroundcolor": "#E5ECF6",
            "gridcolor": "white",
            "gridwidth": 2,
            "linecolor": "white",
            "showbackground": true,
            "ticks": "",
            "zerolinecolor": "white"
           },
           "yaxis": {
            "backgroundcolor": "#E5ECF6",
            "gridcolor": "white",
            "gridwidth": 2,
            "linecolor": "white",
            "showbackground": true,
            "ticks": "",
            "zerolinecolor": "white"
           },
           "zaxis": {
            "backgroundcolor": "#E5ECF6",
            "gridcolor": "white",
            "gridwidth": 2,
            "linecolor": "white",
            "showbackground": true,
            "ticks": "",
            "zerolinecolor": "white"
           }
          },
          "shapedefaults": {
           "line": {
            "color": "#2a3f5f"
           }
          },
          "ternary": {
           "aaxis": {
            "gridcolor": "white",
            "linecolor": "white",
            "ticks": ""
           },
           "baxis": {
            "gridcolor": "white",
            "linecolor": "white",
            "ticks": ""
           },
           "bgcolor": "#E5ECF6",
           "caxis": {
            "gridcolor": "white",
            "linecolor": "white",
            "ticks": ""
           }
          },
          "title": {
           "x": 0.05
          },
          "xaxis": {
           "automargin": true,
           "gridcolor": "white",
           "linecolor": "white",
           "ticks": "",
           "title": {
            "standoff": 15
           },
           "zerolinecolor": "white",
           "zerolinewidth": 2
          },
          "yaxis": {
           "automargin": true,
           "gridcolor": "white",
           "linecolor": "white",
           "ticks": "",
           "title": {
            "standoff": 15
           },
           "zerolinecolor": "white",
           "zerolinewidth": 2
          }
         }
        },
        "title": {
         "text": "Unemployment Rate and Labour Participation"
        },
        "xaxis": {
         "autorange": true,
         "categoryarray": [
          "Jan",
          "Feb",
          "Mar",
          "Apr",
          "May",
          "Jun",
          "Jul",
          "Aug",
          "Sep",
          "Oct"
         ],
         "categoryorder": "array",
         "range": [
          -0.5,
          9.5
         ],
         "type": "category"
        },
        "yaxis": {
         "autorange": true,
         "range": [
          0,
          1243.3263157894737
         ],
         "type": "linear"
        }
       }
      },
      "image/png": "[encoded data removed]"
     },
     "metadata": {},
     "output_type": "display_data"
    }
   ],
   "source": [
    "#import pandas as pd\n",
    "#import plotly.graph_objects as go\n",
    "import plotly.io as pio\n",
    "\n",
    "# Optional: Set renderer for Jupyter Notebook\n",
    "#pio.renderers.default = \"notebook_connected\"\n",
    "\n",
    "# Load data\n",
    "#data = pd.read_csv(\"your_data.csv\")  # Replace with your actual file path\n",
    "\n",
    "# Extract columns\n",
    "month = df['month']\n",
    "unemployment_rate = df['estimated unemployment rate']\n",
    "labour_participation_rate = df['estimated labour participation rate']\n",
    "\n",
    "# Create Plotly bar chart\n",
    "fig = go.Figure()\n",
    "\n",
    "fig.add_trace(go.Bar(x=month, y=unemployment_rate, name='Unemployment Rate'))\n",
    "fig.add_trace(go.Bar(x=month, y=labour_participation_rate, name='Labour Participation Rate'))\n",
    "\n",
    "fig.update_layout(\n",
    "    title='Unemployment Rate and Labour Participation',\n",
    "    xaxis={\n",
    "        'categoryorder': 'array',\n",
    "        'categoryarray': ['Jan', 'Feb', 'Mar', 'Apr', 'May', 'Jun', 'Jul', 'Aug', 'Sep', 'Oct']\n",
    "    },\n",
    "    barmode='group'\n",
    ")\n",
    "\n",
    "# Show interactive plot in Jupyter Notebook\n",
    "fig.show()\n",
    "\n",
    "# Save static image for GitHub README\n",
    "fig.write_image(\"unemployment_plot.png\")\n"
   ]
  },
  {
   "cell_type": "markdown",
   "id": "70403757-ff4c-4746-ae27-cece86302609",
   "metadata": {},
   "source": [
    "**Bar plot of estimated employed citizen in every month**"
   ]
  },
  {
   "cell_type": "code",
   "execution_count": 18,
   "id": "19b835c8-a7d7-4827-8c57-0e876126fa90",
   "metadata": {},
   "outputs": [],
   "source": [
    "import plotly.express as px"
   ]
  },
  {
   "cell_type": "code",
   "execution_count": 20,
   "id": "adf0e71c-5bb3-4c61-95d6-3a294e09fda2",
   "metadata": {},
   "outputs": [
    {
     "data": {
      "application/vnd.plotly.v1+json": {
       "config": {
        "plotlyServerURL": "https://plot.ly"
       },
       "data": [
        {
         "hovertemplate": "month=%{x}<br>estimated employed=%{y}<extra></extra>",
         "legendgroup": "Jan",
         "marker": {
          "color": "#636efa",
          "pattern": {
           "shape": ""
          }
         },
         "name": "Jan",
         "orientation": "v",
         "showlegend": true,
         "textposition": "auto",
         "type": "bar",
         "x": [
          "Jan",
          "Jan",
          "Jan",
          "Jan",
          "Jan",
          "Jan",
          "Jan",
          "Jan",
          "Jan",
          "Jan",
          "Jan",
          "Jan",
          "Jan",
          "Jan",
          "Jan",
          "Jan",
          "Jan",
          "Jan",
          "Jan",
          "Jan",
          "Jan",
          "Jan",
          "Jan",
          "Jan",
          "Jan",
          "Jan"
         ],
         "xaxis": "x",
         "y": {
          "_inputArray": {
           "0": 16635535,
           "1": 13051904,
           "10": 10198029,
           "11": 22688028,
           "12": 9904534,
           "13": 23018632,
           "14": 42596868,
           "15": 1491093,
           "16": 13743448,
           "17": 457950,
           "18": 9442093,
           "19": 20641716,
           "2": 26397671,
           "20": 26881641,
           "21": 17609295,
           "22": 1508130,
           "23": 59433759,
           "24": 2711639,
           "25": 35820789,
           "3": 8552172,
           "4": 5805284,
           "5": 416750,
           "6": 24126346,
           "7": 7693231,
           "8": 2287632,
           "9": 3453025,
           "bdata": "j9b9AAAoxwDny5IB7H6CAOSUWADuWwYAiiNwAa9jdQAQ6CIAYbA0AA2cmwAcMVoBliGXAIg8XwEE+okClcAWAFi10QDe/AYALROQALT3OgFpLpoBT7IMASIDFwAf44oDV2ApAPWUIgI=",
           "dtype": "i4",
           "shape": "26"
          },
          "bdata": "j9b9AAAoxwDny5IB7H6CAOSUWADuWwYAiiNwAa9jdQAQ6CIAYbA0AA2cmwAcMVoBliGXAIg8XwEE+okClcAWAFi10QDe/AYALROQALT3OgFpLpoBT7IMASIDFwAf44oDV2ApAPWUIgI=",
          "dtype": "i4"
         },
         "yaxis": "y"
        },
        {
         "hovertemplate": "month=%{x}<br>estimated employed=%{y}<extra></extra>",
         "legendgroup": "Feb",
         "marker": {
          "color": "#EF553B",
          "pattern": {
           "shape": ""
          }
         },
         "name": "Feb",
         "orientation": "v",
         "showlegend": true,
         "textposition": "auto",
         "type": "bar",
         "x": [
          "Feb",
          "Feb",
          "Feb",
          "Feb",
          "Feb",
          "Feb",
          "Feb",
          "Feb",
          "Feb",
          "Feb",
          "Feb",
          "Feb",
          "Feb",
          "Feb",
          "Feb",
          "Feb",
          "Feb",
          "Feb",
          "Feb",
          "Feb",
          "Feb",
          "Feb",
          "Feb",
          "Feb",
          "Feb",
          "Feb"
         ],
         "xaxis": "x",
         "y": {
          "_inputArray": {
           "0": 16545652,
           "1": 10088268,
           "10": 10425425,
           "11": 21677719,
           "12": 9828023,
           "13": 22711479,
           "14": 42416317,
           "15": 1346829,
           "16": 14280735,
           "17": 493961,
           "18": 9229047,
           "19": 20328915,
           "2": 26281655,
           "20": 27570589,
           "21": 16825970,
           "22": 1584686,
           "23": 58060531,
           "24": 3020931,
           "25": 36964178,
           "3": 9195114,
           "4": 5856307,
           "5": 478068,
           "6": 24757795,
           "7": 7322942,
           "8": 2180268,
           "9": 3223513,
           "bdata": "dHf8AEzvmQC3BpEBak6MADNcWQB0SwcAI8Z5AT69bwCsRCEA2S8xAFEUnwCXxkoBt/aVALeMWgG9OIcCDY0UAB/o2QCJiQcA99KMANMxNgGdsaQBcr4AAS4uGADz7nUDgxguAFIHNAI=",
           "dtype": "i4",
           "shape": "26"
          },
          "bdata": "dHf8AEzvmQC3BpEBak6MADNcWQB0SwcAI8Z5AT69bwCsRCEA2S8xAFEUnwCXxkoBt/aVALeMWgG9OIcCDY0UAB/o2QCJiQcA99KMANMxNgGdsaQBcr4AAS4uGADz7nUDgxguAFIHNAI=",
          "dtype": "i4"
         },
         "yaxis": "y"
        },
        {
         "hovertemplate": "month=%{x}<br>estimated employed=%{y}<extra></extra>",
         "legendgroup": "Mar",
         "marker": {
          "color": "#00cc96",
          "pattern": {
           "shape": ""
          }
         },
         "name": "Mar",
         "orientation": "v",
         "showlegend": true,
         "textposition": "auto",
         "type": "bar",
         "x": [
          "Mar",
          "Mar",
          "Mar",
          "Mar",
          "Mar",
          "Mar",
          "Mar",
          "Mar",
          "Mar",
          "Mar",
          "Mar",
          "Mar",
          "Mar",
          "Mar",
          "Mar",
          "Mar",
          "Mar",
          "Mar",
          "Mar",
          "Mar",
          "Mar",
          "Mar",
          "Mar",
          "Mar",
          "Mar",
          "Mar",
          "Mar"
         ],
         "xaxis": "x",
         "y": {
          "_inputArray": {
           "0": 15881197,
           "1": 11542888,
           "10": 9638115,
           "11": 22079653,
           "12": 8221728,
           "13": 22867164,
           "14": 40196806,
           "15": 1482351,
           "16": 12272109,
           "17": 421028,
           "18": 9975485,
           "19": 20024680,
           "2": 25717519,
           "20": 262895,
           "21": 26830768,
           "22": 17341613,
           "23": 1511217,
           "24": 56976338,
           "25": 2539302,
           "26": 35903917,
           "3": 9302317,
           "4": 5553805,
           "5": 411761,
           "6": 23566641,
           "7": 6641555,
           "8": 2021858,
           "9": 3359107,
           "bdata": "7VPyAGghsAAPa4gBLfGNAI2+VABxSAYAMZlnAZNXZQDi2R4Ag0EzAOMQkwCl6FABIHR9ANzsXAHGWmUCb54WAO1BuwCkbAYAvTaYAGiNMQHvAgQAsGeZAa2cCAExDxcA0mNlAya/JgCt2SMC",
           "dtype": "i4",
           "shape": "27"
          },
          "bdata": "7VPyAGghsAAPa4gBLfGNAI2+VABxSAYAMZlnAZNXZQDi2R4Ag0EzAOMQkwCl6FABIHR9ANzsXAHGWmUCb54WAO1BuwCkbAYAvTaYAGiNMQHvAgQAsGeZAa2cCAExDxcA0mNlAya/JgCt2SMC",
          "dtype": "i4"
         },
         "yaxis": "y"
        },
        {
         "hovertemplate": "month=%{x}<br>estimated employed=%{y}<extra></extra>",
         "legendgroup": "Apr",
         "marker": {
          "color": "#ab63fa",
          "pattern": {
           "shape": ""
          }
         },
         "name": "Apr",
         "orientation": "v",
         "showlegend": true,
         "textposition": "auto",
         "type": "bar",
         "x": [
          "Apr",
          "Apr",
          "Apr",
          "Apr",
          "Apr",
          "Apr",
          "Apr",
          "Apr",
          "Apr",
          "Apr",
          "Apr",
          "Apr",
          "Apr",
          "Apr",
          "Apr",
          "Apr",
          "Apr",
          "Apr",
          "Apr",
          "Apr",
          "Apr",
          "Apr",
          "Apr",
          "Apr",
          "Apr",
          "Apr"
         ],
         "xaxis": "x",
         "y": {
          "_inputArray": {
           "0": 11336911,
           "1": 6830817,
           "10": 16718395,
           "11": 3933276,
           "12": 19041832,
           "13": 27689253,
           "14": 965057,
           "15": 6865693,
           "16": 117542,
           "17": 7020565,
           "18": 15984142,
           "19": 215303,
           "2": 16046236,
           "20": 9719167,
           "21": 12172230,
           "22": 971514,
           "23": 50915056,
           "24": 2720115,
           "25": 26938836,
           "3": 7600448,
           "4": 3119274,
           "5": 500614,
           "6": 15288878,
           "7": 5647630,
           "8": 1131128,
           "9": 5335262,
           "bdata": "z/ysAOE6aACc2PQAQPlzAKqYLwCGowcALkrpAA4tVgB4QhEA3mhRADsa/wBcBDwAKI4iASWBpgHBuQ4AHcNoACbLAQAVIGsADubzAAdJAwB/TZQAxru5APrSDgDw5ggDc4EpANQNmwE=",
           "dtype": "i4",
           "shape": "26"
          },
          "bdata": "z/ysAOE6aACc2PQAQPlzAKqYLwCGowcALkrpAA4tVgB4QhEA3mhRADsa/wBcBDwAKI4iASWBpgHBuQ4AHcNoACbLAQAVIGsADubzAAdJAwB/TZQAxru5APrSDgDw5ggDc4EpANQNmwE=",
          "dtype": "i4"
         },
         "yaxis": "y"
        },
        {
         "hovertemplate": "month=%{x}<br>estimated employed=%{y}<extra></extra>",
         "legendgroup": "May",
         "marker": {
          "color": "#FFA15A",
          "pattern": {
           "shape": ""
          }
         },
         "name": "May",
         "orientation": "v",
         "showlegend": true,
         "textposition": "auto",
         "type": "bar",
         "x": [
          "May",
          "May",
          "May",
          "May",
          "May",
          "May",
          "May",
          "May",
          "May",
          "May",
          "May",
          "May",
          "May",
          "May",
          "May",
          "May",
          "May",
          "May",
          "May",
          "May",
          "May",
          "May",
          "May",
          "May",
          "May",
          "May",
          "May"
         ],
         "xaxis": "x",
         "y": {
          "_inputArray": {
           "0": 12988845,
           "1": 11367897,
           "10": 4145385,
           "11": 19397853,
           "12": 7921962,
           "13": 18443927,
           "14": 32116847,
           "15": 1215064,
           "16": 11730937,
           "17": 172308,
           "18": 6872938,
           "19": 19826602,
           "2": 16280203,
           "20": 193427,
           "21": 11483256,
           "22": 14977774,
           "23": 1290986,
           "24": 49801902,
           "25": 2694072,
           "26": 28356675,
           "3": 6991217,
           "4": 2632404,
           "5": 378244,
           "6": 17836936,
           "7": 6437868,
           "8": 1897639,
           "9": 3246493,
           "bdata": "rTHGANl1rQCLavgAca1qANQqKACExQUAiCsQAew7YgCn9BwAnYkxAOlAPwDd/CcBKuF4AJduGQFvEOoBWIoSAPn/sgAUoQIAat9oAKqHLgGT8wIAeDivAO6K5ADqshMArur3ArgbKQBDsLAB",
           "dtype": "i4",
           "shape": "27"
          },
          "bdata": "rTHGANl1rQCLavgAca1qANQqKACExQUAiCsQAew7YgCn9BwAnYkxAOlAPwDd/CcBKuF4AJduGQFvEOoBWIoSAPn/sgAUoQIAat9oAKqHLgGT8wIAeDivAO6K5ADqshMArur3ArgbKQBDsLAB",
          "dtype": "i4"
         },
         "yaxis": "y"
        },
        {
         "hovertemplate": "month=%{x}<br>estimated employed=%{y}<extra></extra>",
         "legendgroup": "Jun",
         "marker": {
          "color": "#19d3f3",
          "pattern": {
           "shape": ""
          }
         },
         "name": "Jun",
         "orientation": "v",
         "showlegend": true,
         "textposition": "auto",
         "type": "bar",
         "x": [
          "Jun",
          "Jun",
          "Jun",
          "Jun",
          "Jun",
          "Jun",
          "Jun",
          "Jun",
          "Jun",
          "Jun",
          "Jun",
          "Jun",
          "Jun",
          "Jun",
          "Jun",
          "Jun",
          "Jun",
          "Jun",
          "Jun",
          "Jun",
          "Jun",
          "Jun",
          "Jun",
          "Jun",
          "Jun",
          "Jun",
          "Jun"
         ],
         "xaxis": "x",
         "y": {
          "_inputArray": {
           "0": 19805400,
           "1": 9095944,
           "10": 8622722,
           "11": 24215057,
           "12": 9228268,
           "13": 23054646,
           "14": 39708538,
           "15": 1350794,
           "16": 12903993,
           "17": 367135,
           "18": 8390766,
           "19": 20506612,
           "2": 23963933,
           "20": 221058,
           "21": 19096847,
           "22": 15108910,
           "23": 1494140,
           "24": 55380649,
           "25": 2656071,
           "26": 30726310,
           "3": 7332807,
           "4": 4418914,
           "5": 489111,
           "6": 23657055,
           "7": 6951934,
           "8": 2199683,
           "9": 3202336,
           "bdata": "2DQuAQjLigAdqW0Bx+NvAGJtQwCXdgcAX/poAf4TagCDkCEAIN0wAIKSgwARfnEB7M+MADbJXwF6510CipwUADnmxAAfmgUAbgiAAPTnOAGCXwMAD2UjAS6L5gB8zBYAqQpNA0eHKACm2NQB",
           "dtype": "i4",
           "shape": "27"
          },
          "bdata": "2DQuAQjLigAdqW0Bx+NvAGJtQwCXdgcAX/poAf4TagCDkCEAIN0wAIKSgwARfnEB7M+MADbJXwF6510CipwUADnmxAAfmgUAbgiAAPTnOAGCXwMAD2UjAS6L5gB8zBYAqQpNA0eHKACm2NQB",
          "dtype": "i4"
         },
         "yaxis": "y"
        },
        {
         "hovertemplate": "month=%{x}<br>estimated employed=%{y}<extra></extra>",
         "legendgroup": "Jul",
         "marker": {
          "color": "#FF6692",
          "pattern": {
           "shape": ""
          }
         },
         "name": "Jul",
         "orientation": "v",
         "showlegend": true,
         "textposition": "auto",
         "type": "bar",
         "x": [
          "Jul",
          "Jul",
          "Jul",
          "Jul",
          "Jul",
          "Jul",
          "Jul",
          "Jul",
          "Jul",
          "Jul",
          "Jul",
          "Jul",
          "Jul",
          "Jul",
          "Jul",
          "Jul",
          "Jul",
          "Jul",
          "Jul",
          "Jul",
          "Jul",
          "Jul",
          "Jul",
          "Jul",
          "Jul",
          "Jul",
          "Jul"
         ],
         "xaxis": "x",
         "y": {
          "_inputArray": {
           "0": 15431615,
           "1": 10286757,
           "10": 9521900,
           "11": 22885616,
           "12": 9504420,
           "13": 23940158,
           "14": 40998545,
           "15": 1448106,
           "16": 13614400,
           "17": 386563,
           "18": 9732417,
           "19": 19932393,
           "2": 24989370,
           "20": 265175,
           "21": 24572827,
           "22": 15679417,
           "23": 1348849,
           "24": 56201654,
           "25": 2938552,
           "26": 35372506,
           "3": 8620294,
           "4": 4291053,
           "5": 458876,
           "6": 24276120,
           "7": 6800652,
           "8": 2229456,
           "9": 3558889,
           "bdata": "v3frAKX2nAC6Tn0BBomDAO15QQB8AAcAmGxyAQzFZwDQBCIA6U02AOxKkQDwNF0BpAaRAD5MbQGRlnECqhgWAEC9zwAD5gUAQYGUAOkkMAHXCwQAm/N2Abk/7wDxlBQAtpFZA7jWLADavRsC",
           "dtype": "i4",
           "shape": "27"
          },
          "bdata": "v3frAKX2nAC6Tn0BBomDAO15QQB8AAcAmGxyAQzFZwDQBCIA6U02AOxKkQDwNF0BpAaRAD5MbQGRlnECqhgWAEC9zwAD5gUAQYGUAOkkMAHXCwQAm/N2Abk/7wDxlBQAtpFZA7jWLADavRsC",
          "dtype": "i4"
         },
         "yaxis": "y"
        },
        {
         "hovertemplate": "month=%{x}<br>estimated employed=%{y}<extra></extra>",
         "legendgroup": "Aug",
         "marker": {
          "color": "#B6E880",
          "pattern": {
           "shape": ""
          }
         },
         "name": "Aug",
         "orientation": "v",
         "showlegend": true,
         "textposition": "auto",
         "type": "bar",
         "x": [
          "Aug",
          "Aug",
          "Aug",
          "Aug",
          "Aug",
          "Aug",
          "Aug",
          "Aug",
          "Aug",
          "Aug",
          "Aug",
          "Aug",
          "Aug",
          "Aug",
          "Aug",
          "Aug",
          "Aug",
          "Aug",
          "Aug",
          "Aug",
          "Aug",
          "Aug",
          "Aug",
          "Aug",
          "Aug",
          "Aug",
          "Aug"
         ],
         "xaxis": "x",
         "y": {
          "_inputArray": {
           "0": 15251776,
           "1": 9781310,
           "10": 9331640,
           "11": 24094289,
           "12": 9031944,
           "13": 23619011,
           "14": 40963616,
           "15": 1357643,
           "16": 14154039,
           "17": 396006,
           "18": 9386169,
           "19": 20014060,
           "2": 23795534,
           "20": 244462,
           "21": 27046415,
           "22": 18185429,
           "23": 1318621,
           "24": 55831744,
           "25": 2717528,
           "26": 33298644,
           "3": 9050422,
           "4": 4850107,
           "5": 473016,
           "6": 22817232,
           "7": 7113788,
           "8": 2029740,
           "9": 3429950,
           "bdata": "QLnoAD5AlQBOF2sBNhmKALsBSgC4NwcA0ClcATyMbACs+B4APlY0ALhjjgBRpm8BCNGJAMNlaAEgDnECS7cUADf51wDmCgYAuTiPAOxjMQHuugMAD7KcAdV8FQHdHhQAwOxTA1h3KQDUGPwB",
           "dtype": "i4",
           "shape": "27"
          },
          "bdata": "QLnoAD5AlQBOF2sBNhmKALsBSgC4NwcA0ClcATyMbACs+B4APlY0ALhjjgBRpm8BCNGJAMNlaAEgDnECS7cUADf51wDmCgYAuTiPAOxjMQHuugMAD7KcAdV8FQHdHhQAwOxTA1h3KQDUGPwB",
          "dtype": "i4"
         },
         "yaxis": "y"
        },
        {
         "hovertemplate": "month=%{x}<br>estimated employed=%{y}<extra></extra>",
         "legendgroup": "Sep",
         "marker": {
          "color": "#FF97FF",
          "pattern": {
           "shape": ""
          }
         },
         "name": "Sep",
         "orientation": "v",
         "showlegend": true,
         "textposition": "auto",
         "type": "bar",
         "x": [
          "Sep",
          "Sep",
          "Sep",
          "Sep",
          "Sep",
          "Sep",
          "Sep",
          "Sep",
          "Sep",
          "Sep",
          "Sep",
          "Sep",
          "Sep",
          "Sep",
          "Sep",
          "Sep",
          "Sep",
          "Sep",
          "Sep",
          "Sep",
          "Sep",
          "Sep",
          "Sep",
          "Sep",
          "Sep",
          "Sep",
          "Sep"
         ],
         "xaxis": "x",
         "y": {
          "_inputArray": {
           "0": 15220312,
           "1": 14107641,
           "10": 10185670,
           "11": 20127176,
           "12": 9240913,
           "13": 23341952,
           "14": 42042911,
           "15": 1459726,
           "16": 13608422,
           "17": 411717,
           "18": 8980432,
           "19": 20149594,
           "2": 26902907,
           "20": 231798,
           "21": 23025845,
           "22": 16961448,
           "23": 1368244,
           "24": 56106836,
           "25": 2695230,
           "26": 35707239,
           "3": 9021854,
           "4": 4958373,
           "5": 425004,
           "6": 25010199,
           "7": 7132439,
           "8": 2237480,
           "9": 3210281,
           "bdata": "WD7oAPlD1wB7gZoBnqmJAKWoSwAsfAYAF6B9ARfVbAAoJCIAKfwwAMZrmwDIHTMBUQGNAIArZAEfhoECDkYWAOalzwBFSAYA0AeJAFp1MwF2iQMAtVhfAajPAgG04BQAVB9YAz4gKQBn2SAC",
           "dtype": "i4",
           "shape": "27"
          },
          "bdata": "WD7oAPlD1wB7gZoBnqmJAKWoSwAsfAYAF6B9ARfVbAAoJCIAKfwwAMZrmwDIHTMBUQGNAIArZAEfhoECDkYWAOalzwBFSAYA0AeJAFp1MwF2iQMAtVhfAajPAgG04BQAVB9YAz4gKQBn2SAC",
          "dtype": "i4"
         },
         "yaxis": "y"
        },
        {
         "hovertemplate": "month=%{x}<br>estimated employed=%{y}<extra></extra>",
         "legendgroup": "Oct",
         "marker": {
          "color": "#FECB52",
          "pattern": {
           "shape": ""
          }
         },
         "name": "Oct",
         "orientation": "v",
         "showlegend": true,
         "textposition": "auto",
         "type": "bar",
         "x": [
          "Oct",
          "Oct",
          "Oct",
          "Oct",
          "Oct",
          "Oct",
          "Oct",
          "Oct",
          "Oct",
          "Oct",
          "Oct",
          "Oct",
          "Oct",
          "Oct",
          "Oct",
          "Oct",
          "Oct",
          "Oct",
          "Oct",
          "Oct",
          "Oct",
          "Oct",
          "Oct",
          "Oct",
          "Oct",
          "Oct",
          "Oct"
         ],
         "xaxis": "x",
         "y": {
          "_inputArray": {
           "0": 15157557,
           "1": 11949329,
           "10": 10302276,
           "11": 22356390,
           "12": 9152881,
           "13": 23144552,
           "14": 43317881,
           "15": 1381490,
           "16": 14094553,
           "17": 428419,
           "18": 8800430,
           "19": 19908808,
           "2": 25693252,
           "20": 242068,
           "21": 23651626,
           "22": 17578739,
           "23": 1576529,
           "24": 56539521,
           "25": 2739309,
           "26": 33962549,
           "3": 8546847,
           "4": 4842698,
           "5": 392304,
           "6": 25970259,
           "7": 6698551,
           "8": 2123965,
           "9": 3106691,
           "bdata": "NUnnABFVtgBEDIgBH2qCAMrkSQBw/AUAU0aMATc2ZgC9aCAAg2cvAEQznQCmIVUBcamLAGgoYQF5+pQCchQVANkQ1wCDiQYArkiGAMjILwGUsQMAKuVoAfM6DAFRDhgAgbleA23MKQA1OgYC",
           "dtype": "i4",
           "shape": "27"
          },
          "bdata": "NUnnABFVtgBEDIgBH2qCAMrkSQBw/AUAU0aMATc2ZgC9aCAAg2cvAEQznQCmIVUBcamLAGgoYQF5+pQCchQVANkQ1wCDiQYArkiGAMjILwGUsQMAKuVoAfM6DAFRDhgAgbleA23MKQA1OgYC",
          "dtype": "i4"
         },
         "yaxis": "y"
        }
       ],
       "layout": {
        "autosize": true,
        "barmode": "relative",
        "legend": {
         "title": {
          "text": "month"
         },
         "tracegroupgap": 0
        },
        "template": {
         "data": {
          "bar": [
           {
            "error_x": {
             "color": "#2a3f5f"
            },
            "error_y": {
             "color": "#2a3f5f"
            },
            "marker": {
             "line": {
              "color": "#E5ECF6",
              "width": 0.5
             },
             "pattern": {
              "fillmode": "overlay",
              "size": 10,
              "solidity": 0.2
             }
            },
            "type": "bar"
           }
          ],
          "barpolar": [
           {
            "marker": {
             "line": {
              "color": "#E5ECF6",
              "width": 0.5
             },
             "pattern": {
              "fillmode": "overlay",
              "size": 10,
              "solidity": 0.2
             }
            },
            "type": "barpolar"
           }
          ],
          "carpet": [
           {
            "aaxis": {
             "endlinecolor": "#2a3f5f",
             "gridcolor": "white",
             "linecolor": "white",
             "minorgridcolor": "white",
             "startlinecolor": "#2a3f5f"
            },
            "baxis": {
             "endlinecolor": "#2a3f5f",
             "gridcolor": "white",
             "linecolor": "white",
             "minorgridcolor": "white",
             "startlinecolor": "#2a3f5f"
            },
            "type": "carpet"
           }
          ],
          "choropleth": [
           {
            "colorbar": {
             "outlinewidth": 0,
             "ticks": ""
            },
            "type": "choropleth"
           }
          ],
          "contour": [
           {
            "colorbar": {
             "outlinewidth": 0,
             "ticks": ""
            },
            "colorscale": [
             [
              0,
              "#0d0887"
             ],
             [
              0.1111111111111111,
              "#46039f"
             ],
             [
              0.2222222222222222,
              "#7201a8"
             ],
             [
              0.3333333333333333,
              "#9c179e"
             ],
             [
              0.4444444444444444,
              "#bd3786"
             ],
             [
              0.5555555555555556,
              "#d8576b"
             ],
             [
              0.6666666666666666,
              "#ed7953"
             ],
             [
              0.7777777777777778,
              "#fb9f3a"
             ],
             [
              0.8888888888888888,
              "#fdca26"
             ],
             [
              1,
              "#f0f921"
             ]
            ],
            "type": "contour"
           }
          ],
          "contourcarpet": [
           {
            "colorbar": {
             "outlinewidth": 0,
             "ticks": ""
            },
            "type": "contourcarpet"
           }
          ],
          "heatmap": [
           {
            "colorbar": {
             "outlinewidth": 0,
             "ticks": ""
            },
            "colorscale": [
             [
              0,
              "#0d0887"
             ],
             [
              0.1111111111111111,
              "#46039f"
             ],
             [
              0.2222222222222222,
              "#7201a8"
             ],
             [
              0.3333333333333333,
              "#9c179e"
             ],
             [
              0.4444444444444444,
              "#bd3786"
             ],
             [
              0.5555555555555556,
              "#d8576b"
             ],
             [
              0.6666666666666666,
              "#ed7953"
             ],
             [
              0.7777777777777778,
              "#fb9f3a"
             ],
             [
              0.8888888888888888,
              "#fdca26"
             ],
             [
              1,
              "#f0f921"
             ]
            ],
            "type": "heatmap"
           }
          ],
          "histogram": [
           {
            "marker": {
             "pattern": {
              "fillmode": "overlay",
              "size": 10,
              "solidity": 0.2
             }
            },
            "type": "histogram"
           }
          ],
          "histogram2d": [
           {
            "colorbar": {
             "outlinewidth": 0,
             "ticks": ""
            },
            "colorscale": [
             [
              0,
              "#0d0887"
             ],
             [
              0.1111111111111111,
              "#46039f"
             ],
             [
              0.2222222222222222,
              "#7201a8"
             ],
             [
              0.3333333333333333,
              "#9c179e"
             ],
             [
              0.4444444444444444,
              "#bd3786"
             ],
             [
              0.5555555555555556,
              "#d8576b"
             ],
             [
              0.6666666666666666,
              "#ed7953"
             ],
             [
              0.7777777777777778,
              "#fb9f3a"
             ],
             [
              0.8888888888888888,
              "#fdca26"
             ],
             [
              1,
              "#f0f921"
             ]
            ],
            "type": "histogram2d"
           }
          ],
          "histogram2dcontour": [
           {
            "colorbar": {
             "outlinewidth": 0,
             "ticks": ""
            },
            "colorscale": [
             [
              0,
              "#0d0887"
             ],
             [
              0.1111111111111111,
              "#46039f"
             ],
             [
              0.2222222222222222,
              "#7201a8"
             ],
             [
              0.3333333333333333,
              "#9c179e"
             ],
             [
              0.4444444444444444,
              "#bd3786"
             ],
             [
              0.5555555555555556,
              "#d8576b"
             ],
             [
              0.6666666666666666,
              "#ed7953"
             ],
             [
              0.7777777777777778,
              "#fb9f3a"
             ],
             [
              0.8888888888888888,
              "#fdca26"
             ],
             [
              1,
              "#f0f921"
             ]
            ],
            "type": "histogram2dcontour"
           }
          ],
          "mesh3d": [
           {
            "colorbar": {
             "outlinewidth": 0,
             "ticks": ""
            },
            "type": "mesh3d"
           }
          ],
          "parcoords": [
           {
            "line": {
             "colorbar": {
              "outlinewidth": 0,
              "ticks": ""
             }
            },
            "type": "parcoords"
           }
          ],
          "pie": [
           {
            "automargin": true,
            "type": "pie"
           }
          ],
          "scatter": [
           {
            "fillpattern": {
             "fillmode": "overlay",
             "size": 10,
             "solidity": 0.2
            },
            "type": "scatter"
           }
          ],
          "scatter3d": [
           {
            "line": {
             "colorbar": {
              "outlinewidth": 0,
              "ticks": ""
             }
            },
            "marker": {
             "colorbar": {
              "outlinewidth": 0,
              "ticks": ""
             }
            },
            "type": "scatter3d"
           }
          ],
          "scattercarpet": [
           {
            "marker": {
             "colorbar": {
              "outlinewidth": 0,
              "ticks": ""
             }
            },
            "type": "scattercarpet"
           }
          ],
          "scattergeo": [
           {
            "marker": {
             "colorbar": {
              "outlinewidth": 0,
              "ticks": ""
             }
            },
            "type": "scattergeo"
           }
          ],
          "scattergl": [
           {
            "marker": {
             "colorbar": {
              "outlinewidth": 0,
              "ticks": ""
             }
            },
            "type": "scattergl"
           }
          ],
          "scattermap": [
           {
            "marker": {
             "colorbar": {
              "outlinewidth": 0,
              "ticks": ""
             }
            },
            "type": "scattermap"
           }
          ],
          "scattermapbox": [
           {
            "marker": {
             "colorbar": {
              "outlinewidth": 0,
              "ticks": ""
             }
            },
            "type": "scattermapbox"
           }
          ],
          "scatterpolar": [
           {
            "marker": {
             "colorbar": {
              "outlinewidth": 0,
              "ticks": ""
             }
            },
            "type": "scatterpolar"
           }
          ],
          "scatterpolargl": [
           {
            "marker": {
             "colorbar": {
              "outlinewidth": 0,
              "ticks": ""
             }
            },
            "type": "scatterpolargl"
           }
          ],
          "scatterternary": [
           {
            "marker": {
             "colorbar": {
              "outlinewidth": 0,
              "ticks": ""
             }
            },
            "type": "scatterternary"
           }
          ],
          "surface": [
           {
            "colorbar": {
             "outlinewidth": 0,
             "ticks": ""
            },
            "colorscale": [
             [
              0,
              "#0d0887"
             ],
             [
              0.1111111111111111,
              "#46039f"
             ],
             [
              0.2222222222222222,
              "#7201a8"
             ],
             [
              0.3333333333333333,
              "#9c179e"
             ],
             [
              0.4444444444444444,
              "#bd3786"
             ],
             [
              0.5555555555555556,
              "#d8576b"
             ],
             [
              0.6666666666666666,
              "#ed7953"
             ],
             [
              0.7777777777777778,
              "#fb9f3a"
             ],
             [
              0.8888888888888888,
              "#fdca26"
             ],
             [
              1,
              "#f0f921"
             ]
            ],
            "type": "surface"
           }
          ],
          "table": [
           {
            "cells": {
             "fill": {
              "color": "#EBF0F8"
             },
             "line": {
              "color": "white"
             }
            },
            "header": {
             "fill": {
              "color": "#C8D4E3"
             },
             "line": {
              "color": "white"
             }
            },
            "type": "table"
           }
          ]
         },
         "layout": {
          "annotationdefaults": {
           "arrowcolor": "#2a3f5f",
           "arrowhead": 0,
           "arrowwidth": 1
          },
          "autotypenumbers": "strict",
          "coloraxis": {
           "colorbar": {
            "outlinewidth": 0,
            "ticks": ""
           }
          },
          "colorscale": {
           "diverging": [
            [
             0,
             "#8e0152"
            ],
            [
             0.1,
             "#c51b7d"
            ],
            [
             0.2,
             "#de77ae"
            ],
            [
             0.3,
             "#f1b6da"
            ],
            [
             0.4,
             "#fde0ef"
            ],
            [
             0.5,
             "#f7f7f7"
            ],
            [
             0.6,
             "#e6f5d0"
            ],
            [
             0.7,
             "#b8e186"
            ],
            [
             0.8,
             "#7fbc41"
            ],
            [
             0.9,
             "#4d9221"
            ],
            [
             1,
             "#276419"
            ]
           ],
           "sequential": [
            [
             0,
             "#0d0887"
            ],
            [
             0.1111111111111111,
             "#46039f"
            ],
            [
             0.2222222222222222,
             "#7201a8"
            ],
            [
             0.3333333333333333,
             "#9c179e"
            ],
            [
             0.4444444444444444,
             "#bd3786"
            ],
            [
             0.5555555555555556,
             "#d8576b"
            ],
            [
             0.6666666666666666,
             "#ed7953"
            ],
            [
             0.7777777777777778,
             "#fb9f3a"
            ],
            [
             0.8888888888888888,
             "#fdca26"
            ],
            [
             1,
             "#f0f921"
            ]
           ],
           "sequentialminus": [
            [
             0,
             "#0d0887"
            ],
            [
             0.1111111111111111,
             "#46039f"
            ],
            [
             0.2222222222222222,
             "#7201a8"
            ],
            [
             0.3333333333333333,
             "#9c179e"
            ],
            [
             0.4444444444444444,
             "#bd3786"
            ],
            [
             0.5555555555555556,
             "#d8576b"
            ],
            [
             0.6666666666666666,
             "#ed7953"
            ],
            [
             0.7777777777777778,
             "#fb9f3a"
            ],
            [
             0.8888888888888888,
             "#fdca26"
            ],
            [
             1,
             "#f0f921"
            ]
           ]
          },
          "colorway": [
           "#636efa",
           "#EF553B",
           "#00cc96",
           "#ab63fa",
           "#FFA15A",
           "#19d3f3",
           "#FF6692",
           "#B6E880",
           "#FF97FF",
           "#FECB52"
          ],
          "font": {
           "color": "#2a3f5f"
          },
          "geo": {
           "bgcolor": "white",
           "lakecolor": "white",
           "landcolor": "#E5ECF6",
           "showlakes": true,
           "showland": true,
           "subunitcolor": "white"
          },
          "hoverlabel": {
           "align": "left"
          },
          "hovermode": "closest",
          "mapbox": {
           "style": "light"
          },
          "paper_bgcolor": "white",
          "plot_bgcolor": "#E5ECF6",
          "polar": {
           "angularaxis": {
            "gridcolor": "white",
            "linecolor": "white",
            "ticks": ""
           },
           "bgcolor": "#E5ECF6",
           "radialaxis": {
            "gridcolor": "white",
            "linecolor": "white",
            "ticks": ""
           }
          },
          "scene": {
           "xaxis": {
            "backgroundcolor": "#E5ECF6",
            "gridcolor": "white",
            "gridwidth": 2,
            "linecolor": "white",
            "showbackground": true,
            "ticks": "",
            "zerolinecolor": "white"
           },
           "yaxis": {
            "backgroundcolor": "#E5ECF6",
            "gridcolor": "white",
            "gridwidth": 2,
            "linecolor": "white",
            "showbackground": true,
            "ticks": "",
            "zerolinecolor": "white"
           },
           "zaxis": {
            "backgroundcolor": "#E5ECF6",
            "gridcolor": "white",
            "gridwidth": 2,
            "linecolor": "white",
            "showbackground": true,
            "ticks": "",
            "zerolinecolor": "white"
           }
          },
          "shapedefaults": {
           "line": {
            "color": "#2a3f5f"
           }
          },
          "ternary": {
           "aaxis": {
            "gridcolor": "white",
            "linecolor": "white",
            "ticks": ""
           },
           "baxis": {
            "gridcolor": "white",
            "linecolor": "white",
            "ticks": ""
           },
           "bgcolor": "#E5ECF6",
           "caxis": {
            "gridcolor": "white",
            "linecolor": "white",
            "ticks": ""
           }
          },
          "title": {
           "x": 0.05
          },
          "xaxis": {
           "automargin": true,
           "gridcolor": "white",
           "linecolor": "white",
           "ticks": "",
           "title": {
            "standoff": 15
           },
           "zerolinecolor": "white",
           "zerolinewidth": 2
          },
          "yaxis": {
           "automargin": true,
           "gridcolor": "white",
           "linecolor": "white",
           "ticks": "",
           "title": {
            "standoff": 15
           },
           "zerolinecolor": "white",
           "zerolinewidth": 2
          }
         }
        },
        "title": {
         "text": "Estimated Employed People from Jan 2020 to Oct 2020"
        },
        "xaxis": {
         "anchor": "y",
         "autorange": true,
         "categoryarray": [
          "Jan",
          "Feb",
          "Mar",
          "Apr",
          "May",
          "Jun",
          "Jul",
          "Aug",
          "Sep",
          "Oct"
         ],
         "categoryorder": "array",
         "domain": [
          0,
          1
         ],
         "range": [
          -0.5,
          9.5
         ],
         "title": {
          "text": "month"
         },
         "type": "category"
        },
        "yaxis": {
         "anchor": "x",
         "autorange": true,
         "domain": [
          0,
          1
         ],
         "range": [
          0,
          427965467.3684211
         ],
         "title": {
          "text": "estimated employed"
         },
         "type": "linear"
        }
       }
      },
      "image/png": "[encoded data removed]"
     },
     "metadata": {},
     "output_type": "display_data"
    }
   ],
   "source": [
    "# Create the bar chart\n",
    "fig = px.bar(\n",
    "    df,\n",
    "    x='month',\n",
    "    y='estimated employed',\n",
    "    color='month',\n",
    "    category_orders={'month': ['Jan', 'Feb', 'Mar', 'Apr', 'May', 'Jun', 'Jul', 'Aug', 'Sep', 'Oct']},\n",
    "    title='Estimated Employed People from Jan 2020 to Oct 2020'\n",
    ")\n",
    "\n",
    "# Show chart in Jupyter Notebook\n",
    "fig.show()\n",
    "\n",
    "# Save chart as image for GitHub README\n",
    "fig.write_image(\"estimated_employed.png\")"
   ]
  },
  {
   "cell_type": "markdown",
   "id": "1b3bf312-a0eb-47f5-b41a-ff7d89b553a1",
   "metadata": {},
   "source": [
    "**State wise Analysis**"
   ]
  },
  {
   "cell_type": "code",
   "execution_count": 21,
   "id": "f856bce5-dc98-4ab6-9e6a-862f3e558974",
   "metadata": {},
   "outputs": [],
   "source": [
    "state =  df.groupby(['state'])[['estimated unemployment rate','estimated employed','estimated labour participation rate']].mean()\n",
    "state = pd.DataFrame(state).reset_index()"
   ]
  },
  {
   "cell_type": "code",
   "execution_count": 22,
   "id": "a261dca9-8435-4621-bc84-b691113d0f3a",
   "metadata": {},
   "outputs": [
    {
     "data": {
      "application/vnd.plotly.v1+json": {
       "config": {
        "plotlyServerURL": "https://plot.ly"
       },
       "data": [
        {
         "alignmentgroup": "True",
         "hovertemplate": "state=%{x}<br>estimated unemployment rate=%{y}<extra></extra>",
         "legendgroup": "Andhra Pradesh",
         "marker": {
          "color": "#636efa"
         },
         "name": "Andhra Pradesh",
         "notched": false,
         "offsetgroup": "Andhra Pradesh",
         "orientation": "v",
         "showlegend": true,
         "type": "box",
         "x": [
          "Andhra Pradesh",
          "Andhra Pradesh",
          "Andhra Pradesh",
          "Andhra Pradesh",
          "Andhra Pradesh",
          "Andhra Pradesh",
          "Andhra Pradesh",
          "Andhra Pradesh",
          "Andhra Pradesh",
          "Andhra Pradesh"
         ],
         "x0": " ",
         "xaxis": "x",
         "y": {
          "_inputArray": {
           "0": 5.48,
           "1": 5.83,
           "2": 5.79,
           "3": 20.51,
           "4": 17.43,
           "5": 3.31,
           "6": 8.34,
           "7": 6.96,
           "8": 6.4,
           "9": 6.59,
           "bdata": "7FG4HoXrFUBSuB6F61EXQClcj8L1KBdAw/UoXI+CNECuR+F6FG4xQHsUrkfhegpArkfhehSuIEDXo3A9CtcbQJqZmZmZmRlAXI/C9ShcGkA=",
           "dtype": "f8",
           "shape": "10"
          },
          "bdata": "7FG4HoXrFUBSuB6F61EXQClcj8L1KBdAw/UoXI+CNECuR+F6FG4xQHsUrkfhegpArkfhehSuIEDXo3A9CtcbQJqZmZmZmRlAXI/C9ShcGkA=",
          "dtype": "f8"
         },
         "y0": " ",
         "yaxis": "y"
        },
        {
         "alignmentgroup": "True",
         "hovertemplate": "state=%{x}<br>estimated unemployment rate=%{y}<extra></extra>",
         "legendgroup": "Assam",
         "marker": {
          "color": "#EF553B"
         },
         "name": "Assam",
         "notched": false,
         "offsetgroup": "Assam",
         "orientation": "v",
         "showlegend": true,
         "type": "box",
         "x": [
          "Assam",
          "Assam",
          "Assam",
          "Assam",
          "Assam",
          "Assam",
          "Assam",
          "Assam",
          "Assam",
          "Assam"
         ],
         "x0": " ",
         "xaxis": "x",
         "y": {
          "_inputArray": {
           "0": 4.66,
           "1": 4.41,
           "2": 4.77,
           "3": 11.06,
           "4": 9.55,
           "5": 0.6,
           "6": 3.77,
           "7": 5.53,
           "8": 1.19,
           "9": 3.02,
           "bdata": "pHA9CtejEkCkcD0K16MRQBSuR+F6FBNAH4XrUbgeJkCamZmZmRkjQDMzMzMzM+M/KVyPwvUoDkAfhetRuB4WQArXo3A9CvM/KVyPwvUoCEA=",
           "dtype": "f8",
           "shape": "10"
          },
          "bdata": "pHA9CtejEkCkcD0K16MRQBSuR+F6FBNAH4XrUbgeJkCamZmZmRkjQDMzMzMzM+M/KVyPwvUoDkAfhetRuB4WQArXo3A9CvM/KVyPwvUoCEA=",
          "dtype": "f8"
         },
         "y0": " ",
         "yaxis": "y"
        },
        {
         "alignmentgroup": "True",
         "hovertemplate": "state=%{x}<br>estimated unemployment rate=%{y}<extra></extra>",
         "legendgroup": "Bihar",
         "marker": {
          "color": "#00cc96"
         },
         "name": "Bihar",
         "notched": false,
         "offsetgroup": "Bihar",
         "orientation": "v",
         "showlegend": true,
         "type": "box",
         "x": [
          "Bihar",
          "Bihar",
          "Bihar",
          "Bihar",
          "Bihar",
          "Bihar",
          "Bihar",
          "Bihar",
          "Bihar",
          "Bihar"
         ],
         "x0": " ",
         "xaxis": "x",
         "y": {
          "_inputArray": {
           "0": 10.61,
           "1": 10.29,
           "2": 15.43,
           "3": 46.64,
           "4": 45.96,
           "5": 17.82,
           "6": 12.79,
           "7": 13.44,
           "8": 11.91,
           "9": 9.82,
           "bdata": "uB6F61E4JUAUrkfhepQkQFyPwvUo3C5AUrgehetRR0B7FK5H4fpGQFK4HoXr0TFAFK5H4XqUKUDhehSuR+EqQFK4HoXr0SdApHA9CtejI0A=",
           "dtype": "f8",
           "shape": "10"
          },
          "bdata": "uB6F61E4JUAUrkfhepQkQFyPwvUo3C5AUrgehetRR0B7FK5H4fpGQFK4HoXr0TFAFK5H4XqUKUDhehSuR+EqQFK4HoXr0SdApHA9CtejI0A=",
          "dtype": "f8"
         },
         "y0": " ",
         "yaxis": "y"
        },
        {
         "alignmentgroup": "True",
         "hovertemplate": "state=%{x}<br>estimated unemployment rate=%{y}<extra></extra>",
         "legendgroup": "Chhattisgarh",
         "marker": {
          "color": "#ab63fa"
         },
         "name": "Chhattisgarh",
         "notched": false,
         "offsetgroup": "Chhattisgarh",
         "orientation": "v",
         "showlegend": true,
         "type": "box",
         "x": [
          "Chhattisgarh",
          "Chhattisgarh",
          "Chhattisgarh",
          "Chhattisgarh",
          "Chhattisgarh",
          "Chhattisgarh",
          "Chhattisgarh",
          "Chhattisgarh",
          "Chhattisgarh",
          "Chhattisgarh"
         ],
         "x0": " ",
         "xaxis": "x",
         "y": {
          "_inputArray": {
           "0": 9.65,
           "1": 8.38,
           "2": 7.54,
           "3": 3.41,
           "4": 10.5,
           "5": 14.23,
           "6": 10.27,
           "7": 5.63,
           "8": 1.96,
           "9": 6.62,
           "bdata": "zczMzMxMI0DD9Shcj8IgQClcj8L1KB5ASOF6FK5HC0AAAAAAAAAlQPYoXI/CdSxACtejcD2KJECF61G4HoUWQFyPwvUoXP8/exSuR+F6GkA=",
           "dtype": "f8",
           "shape": "10"
          },
          "bdata": "zczMzMxMI0DD9Shcj8IgQClcj8L1KB5ASOF6FK5HC0AAAAAAAAAlQPYoXI/CdSxACtejcD2KJECF61G4HoUWQFyPwvUoXP8/exSuR+F6GkA=",
          "dtype": "f8"
         },
         "y0": " ",
         "yaxis": "y"
        },
        {
         "alignmentgroup": "True",
         "hovertemplate": "state=%{x}<br>estimated unemployment rate=%{y}<extra></extra>",
         "legendgroup": "Delhi",
         "marker": {
          "color": "#FFA15A"
         },
         "name": "Delhi",
         "notched": false,
         "offsetgroup": "Delhi",
         "orientation": "v",
         "showlegend": true,
         "type": "box",
         "x": [
          "Delhi",
          "Delhi",
          "Delhi",
          "Delhi",
          "Delhi",
          "Delhi",
          "Delhi",
          "Delhi",
          "Delhi",
          "Delhi"
         ],
         "x0": " ",
         "xaxis": "x",
         "y": {
          "_inputArray": {
           "0": 22.23,
           "1": 14.84,
           "2": 17.04,
           "3": 16.68,
           "4": 42.27,
           "5": 18.19,
           "6": 20.3,
           "7": 13.79,
           "8": 12.53,
           "9": 6.27,
           "bdata": "exSuR+E6NkCuR+F6FK4tQArXo3A9CjFArkfhehSuMEDD9ShcjyJFQHE9CtejMDJAzczMzMxMNEAUrkfhepQrQI/C9ShcDylAFK5H4XoUGUA=",
           "dtype": "f8",
           "shape": "10"
          },
          "bdata": "exSuR+E6NkCuR+F6FK4tQArXo3A9CjFArkfhehSuMEDD9ShcjyJFQHE9CtejMDJAzczMzMxMNEAUrkfhepQrQI/C9ShcDylAFK5H4XoUGUA=",
          "dtype": "f8"
         },
         "y0": " ",
         "yaxis": "y"
        },
        {
         "alignmentgroup": "True",
         "hovertemplate": "state=%{x}<br>estimated unemployment rate=%{y}<extra></extra>",
         "legendgroup": "Goa",
         "marker": {
          "color": "#19d3f3"
         },
         "name": "Goa",
         "notched": false,
         "offsetgroup": "Goa",
         "orientation": "v",
         "showlegend": true,
         "type": "box",
         "x": [
          "Goa",
          "Goa",
          "Goa",
          "Goa",
          "Goa",
          "Goa",
          "Goa",
          "Goa",
          "Goa",
          "Goa"
         ],
         "x0": " ",
         "xaxis": "x",
         "y": {
          "_inputArray": {
           "0": 8.89,
           "1": 2.81,
           "2": 5.25,
           "3": 13.31,
           "4": 21.25,
           "5": 9.96,
           "6": 17.07,
           "7": 16.21,
           "8": 15.38,
           "9": 11.54,
           "bdata": "SOF6FK7HIUB7FK5H4XoGQAAAAAAAABVAH4XrUbieKkAAAAAAAEA1QOxRuB6F6yNAUrgehesRMUD2KFyPwjUwQMP1KFyPwi5AFK5H4XoUJ0A=",
           "dtype": "f8",
           "shape": "10"
          },
          "bdata": "SOF6FK7HIUB7FK5H4XoGQAAAAAAAABVAH4XrUbieKkAAAAAAAEA1QOxRuB6F6yNAUrgehesRMUD2KFyPwjUwQMP1KFyPwi5AFK5H4XoUJ0A=",
          "dtype": "f8"
         },
         "y0": " ",
         "yaxis": "y"
        },
        {
         "alignmentgroup": "True",
         "hovertemplate": "state=%{x}<br>estimated unemployment rate=%{y}<extra></extra>",
         "legendgroup": "Gujarat",
         "marker": {
          "color": "#FF6692"
         },
         "name": "Gujarat",
         "notched": false,
         "offsetgroup": "Gujarat",
         "orientation": "v",
         "showlegend": true,
         "type": "box",
         "x": [
          "Gujarat",
          "Gujarat",
          "Gujarat",
          "Gujarat",
          "Gujarat",
          "Gujarat",
          "Gujarat",
          "Gujarat",
          "Gujarat",
          "Gujarat"
         ],
         "x0": " ",
         "xaxis": "x",
         "y": {
          "_inputArray": {
           "0": 5.54,
           "1": 6.38,
           "2": 6.66,
           "3": 18.71,
           "4": 12.11,
           "5": 3.2,
           "6": 1.84,
           "7": 1.87,
           "8": 3.42,
           "9": 4.03,
           "bdata": "KVyPwvUoFkCF61G4HoUZQKRwPQrXoxpA9ihcj8K1MkC4HoXrUTgoQJqZmZmZmQlAcT0K16Nw/T/sUbgehev9P1yPwvUoXAtAH4XrUbgeEEA=",
           "dtype": "f8",
           "shape": "10"
          },
          "bdata": "KVyPwvUoFkCF61G4HoUZQKRwPQrXoxpA9ihcj8K1MkC4HoXrUTgoQJqZmZmZmQlAcT0K16Nw/T/sUbgehev9P1yPwvUoXAtAH4XrUbgeEEA=",
          "dtype": "f8"
         },
         "y0": " ",
         "yaxis": "y"
        },
        {
         "alignmentgroup": "True",
         "hovertemplate": "state=%{x}<br>estimated unemployment rate=%{y}<extra></extra>",
         "legendgroup": "Haryana",
         "marker": {
          "color": "#B6E880"
         },
         "name": "Haryana",
         "notched": false,
         "offsetgroup": "Haryana",
         "orientation": "v",
         "showlegend": true,
         "type": "box",
         "x": [
          "Haryana",
          "Haryana",
          "Haryana",
          "Haryana",
          "Haryana",
          "Haryana",
          "Haryana",
          "Haryana",
          "Haryana",
          "Haryana"
         ],
         "x0": " ",
         "xaxis": "x",
         "y": {
          "_inputArray": {
           "0": 20.34,
           "1": 25.77,
           "2": 25.05,
           "3": 43.22,
           "4": 29.02,
           "5": 26.7,
           "6": 24.18,
           "7": 33.5,
           "8": 19.68,
           "9": 27.31,
           "bdata": "16NwPQpXNECF61G4HsU5QM3MzMzMDDlAXI/C9SicRUCF61G4HgU9QDMzMzMzszpArkfhehQuOEAAAAAAAMBAQK5H4XoUrjNAj8L1KFxPO0A=",
           "dtype": "f8",
           "shape": "10"
          },
          "bdata": "16NwPQpXNECF61G4HsU5QM3MzMzMDDlAXI/C9SicRUCF61G4HgU9QDMzMzMzszpArkfhehQuOEAAAAAAAMBAQK5H4XoUrjNAj8L1KFxPO0A=",
          "dtype": "f8"
         },
         "y0": " ",
         "yaxis": "y"
        },
        {
         "alignmentgroup": "True",
         "hovertemplate": "state=%{x}<br>estimated unemployment rate=%{y}<extra></extra>",
         "legendgroup": "Himachal Pradesh",
         "marker": {
          "color": "#FF97FF"
         },
         "name": "Himachal Pradesh",
         "notched": false,
         "offsetgroup": "Himachal Pradesh",
         "orientation": "v",
         "showlegend": true,
         "type": "box",
         "x": [
          "Himachal Pradesh",
          "Himachal Pradesh",
          "Himachal Pradesh",
          "Himachal Pradesh",
          "Himachal Pradesh",
          "Himachal Pradesh",
          "Himachal Pradesh",
          "Himachal Pradesh",
          "Himachal Pradesh",
          "Himachal Pradesh"
         ],
         "x0": " ",
         "xaxis": "x",
         "y": {
          "_inputArray": {
           "0": 16.83,
           "1": 16.84,
           "2": 18.76,
           "3": 2.2,
           "4": 26.95,
           "5": 13.47,
           "6": 24.31,
           "7": 15.79,
           "8": 12.04,
           "9": 13.46,
           "bdata": "FK5H4XrUMEDXo3A9CtcwQMP1KFyPwjJAmpmZmZmZAUAzMzMzM/M6QHE9Ctej8CpAj8L1KFxPOEAUrkfhepQvQBSuR+F6FChA7FG4HoXrKkA=",
           "dtype": "f8",
           "shape": "10"
          },
          "bdata": "FK5H4XrUMEDXo3A9CtcwQMP1KFyPwjJAmpmZmZmZAUAzMzMzM/M6QHE9Ctej8CpAj8L1KFxPOEAUrkfhepQvQBSuR+F6FChA7FG4HoXrKkA=",
          "dtype": "f8"
         },
         "y0": " ",
         "yaxis": "y"
        },
        {
         "alignmentgroup": "True",
         "hovertemplate": "state=%{x}<br>estimated unemployment rate=%{y}<extra></extra>",
         "legendgroup": "Jammu & Kashmir",
         "marker": {
          "color": "#FECB52"
         },
         "name": "Jammu & Kashmir",
         "notched": false,
         "offsetgroup": "Jammu & Kashmir",
         "orientation": "v",
         "showlegend": true,
         "type": "box",
         "x": [
          "Jammu & Kashmir",
          "Jammu & Kashmir",
          "Jammu & Kashmir",
          "Jammu & Kashmir",
          "Jammu & Kashmir",
          "Jammu & Kashmir",
          "Jammu & Kashmir",
          "Jammu & Kashmir",
          "Jammu & Kashmir"
         ],
         "x0": " ",
         "xaxis": "x",
         "y": {
          "_inputArray": {
           "0": 21.08,
           "1": 20.78,
           "2": 15.5,
           "3": 18.74,
           "4": 17.92,
           "5": 10.88,
           "6": 11.09,
           "7": 16.17,
           "8": 16.14,
           "bdata": "FK5H4XoUNUBI4XoUrsc0QAAAAAAAAC9APQrXo3C9MkDsUbgehesxQMP1KFyPwiVArkfhehQuJkDsUbgehSswQKRwPQrXIzBA",
           "dtype": "f8",
           "shape": "9"
          },
          "bdata": "FK5H4XoUNUBI4XoUrsc0QAAAAAAAAC9APQrXo3C9MkDsUbgehesxQMP1KFyPwiVArkfhehQuJkDsUbgehSswQKRwPQrXIzBA",
          "dtype": "f8"
         },
         "y0": " ",
         "yaxis": "y"
        },
        {
         "alignmentgroup": "True",
         "hovertemplate": "state=%{x}<br>estimated unemployment rate=%{y}<extra></extra>",
         "legendgroup": "Jharkhand",
         "marker": {
          "color": "#636efa"
         },
         "name": "Jharkhand",
         "notched": false,
         "offsetgroup": "Jharkhand",
         "orientation": "v",
         "showlegend": true,
         "type": "box",
         "x": [
          "Jharkhand",
          "Jharkhand",
          "Jharkhand",
          "Jharkhand",
          "Jharkhand",
          "Jharkhand",
          "Jharkhand",
          "Jharkhand",
          "Jharkhand",
          "Jharkhand"
         ],
         "x0": " ",
         "xaxis": "x",
         "y": {
          "_inputArray": {
           "0": 10.61,
           "1": 11.85,
           "2": 8.23,
           "3": 47.09,
           "4": 59.23,
           "5": 20.95,
           "6": 7.63,
           "7": 9.76,
           "8": 8.24,
           "9": 11.8,
           "bdata": "uB6F61E4JUAzMzMzM7MnQPYoXI/CdSBA7FG4HoWLR0A9CtejcJ1NQDMzMzMz8zRAhetRuB6FHkCF61G4HoUjQHsUrkfheiBAmpmZmZmZJ0A=",
           "dtype": "f8",
           "shape": "10"
          },
          "bdata": "uB6F61E4JUAzMzMzM7MnQPYoXI/CdSBA7FG4HoWLR0A9CtejcJ1NQDMzMzMz8zRAhetRuB6FHkCF61G4HoUjQHsUrkfheiBAmpmZmZmZJ0A=",
          "dtype": "f8"
         },
         "y0": " ",
         "yaxis": "y"
        },
        {
         "alignmentgroup": "True",
         "hovertemplate": "state=%{x}<br>estimated unemployment rate=%{y}<extra></extra>",
         "legendgroup": "Karnataka",
         "marker": {
          "color": "#EF553B"
         },
         "name": "Karnataka",
         "notched": false,
         "offsetgroup": "Karnataka",
         "orientation": "v",
         "showlegend": true,
         "type": "box",
         "x": [
          "Karnataka",
          "Karnataka",
          "Karnataka",
          "Karnataka",
          "Karnataka",
          "Karnataka",
          "Karnataka",
          "Karnataka",
          "Karnataka",
          "Karnataka"
         ],
         "x0": " ",
         "xaxis": "x",
         "y": {
          "_inputArray": {
           "0": 2.86,
           "1": 3.61,
           "2": 3.46,
           "3": 29.84,
           "4": 19.97,
           "5": 8.44,
           "6": 4.01,
           "7": 0.5,
           "8": 2.41,
           "9": 1.58,
           "bdata": "4XoUrkfhBkDhehSuR+EMQK5H4XoUrgtA16NwPQrXPUC4HoXrUfgzQOF6FK5H4SBACtejcD0KEEAAAAAAAADgP0jhehSuRwNASOF6FK5H+T8=",
           "dtype": "f8",
           "shape": "10"
          },
          "bdata": "4XoUrkfhBkDhehSuR+EMQK5H4XoUrgtA16NwPQrXPUC4HoXrUfgzQOF6FK5H4SBACtejcD0KEEAAAAAAAADgP0jhehSuRwNASOF6FK5H+T8=",
          "dtype": "f8"
         },
         "y0": " ",
         "yaxis": "y"
        },
        {
         "alignmentgroup": "True",
         "hovertemplate": "state=%{x}<br>estimated unemployment rate=%{y}<extra></extra>",
         "legendgroup": "Kerala",
         "marker": {
          "color": "#00cc96"
         },
         "name": "Kerala",
         "notched": false,
         "offsetgroup": "Kerala",
         "orientation": "v",
         "showlegend": true,
         "type": "box",
         "x": [
          "Kerala",
          "Kerala",
          "Kerala",
          "Kerala",
          "Kerala",
          "Kerala",
          "Kerala",
          "Kerala",
          "Kerala",
          "Kerala"
         ],
         "x0": " ",
         "xaxis": "x",
         "y": {
          "_inputArray": {
           "0": 5.31,
           "1": 7.6,
           "2": 8.99,
           "3": 16.99,
           "4": 17.88,
           "5": 9.71,
           "6": 7.09,
           "7": 10.98,
           "8": 5.91,
           "9": 3.88,
           "bdata": "PQrXo3A9FUBmZmZmZmYeQHsUrkfh+iFAPQrXo3D9MEDhehSuR+ExQOxRuB6FayNAXI/C9ShcHED2KFyPwvUlQKRwPQrXoxdACtejcD0KD0A=",
           "dtype": "f8",
           "shape": "10"
          },
          "bdata": "PQrXo3A9FUBmZmZmZmYeQHsUrkfh+iFAPQrXo3D9MEDhehSuR+ExQOxRuB6FayNAXI/C9ShcHED2KFyPwvUlQKRwPQrXoxdACtejcD0KD0A=",
          "dtype": "f8"
         },
         "y0": " ",
         "yaxis": "y"
        },
        {
         "alignmentgroup": "True",
         "hovertemplate": "state=%{x}<br>estimated unemployment rate=%{y}<extra></extra>",
         "legendgroup": "Madhya Pradesh",
         "marker": {
          "color": "#ab63fa"
         },
         "name": "Madhya Pradesh",
         "notched": false,
         "offsetgroup": "Madhya Pradesh",
         "orientation": "v",
         "showlegend": true,
         "type": "box",
         "x": [
          "Madhya Pradesh",
          "Madhya Pradesh",
          "Madhya Pradesh",
          "Madhya Pradesh",
          "Madhya Pradesh",
          "Madhya Pradesh",
          "Madhya Pradesh",
          "Madhya Pradesh",
          "Madhya Pradesh",
          "Madhya Pradesh"
         ],
         "x0": " ",
         "xaxis": "x",
         "y": {
          "_inputArray": {
           "0": 4.11,
           "1": 4.57,
           "2": 2.22,
           "3": 12.36,
           "4": 21.98,
           "5": 6.48,
           "6": 5.08,
           "7": 4.7,
           "8": 3.91,
           "9": 3.13,
           "bdata": "cT0K16NwEEBI4XoUrkcSQMP1KFyPwgFAuB6F61G4KEB7FK5H4fo1QOxRuB6F6xlAUrgehetRFEDNzMzMzMwSQEjhehSuRw9ACtejcD0KCUA=",
           "dtype": "f8",
           "shape": "10"
          },
          "bdata": "cT0K16NwEEBI4XoUrkcSQMP1KFyPwgFAuB6F61G4KEB7FK5H4fo1QOxRuB6F6xlAUrgehetRFEDNzMzMzMwSQEjhehSuRw9ACtejcD0KCUA=",
          "dtype": "f8"
         },
         "y0": " ",
         "yaxis": "y"
        },
        {
         "alignmentgroup": "True",
         "hovertemplate": "state=%{x}<br>estimated unemployment rate=%{y}<extra></extra>",
         "legendgroup": "Maharashtra",
         "marker": {
          "color": "#FFA15A"
         },
         "name": "Maharashtra",
         "notched": false,
         "offsetgroup": "Maharashtra",
         "orientation": "v",
         "showlegend": true,
         "type": "box",
         "x": [
          "Maharashtra",
          "Maharashtra",
          "Maharashtra",
          "Maharashtra",
          "Maharashtra",
          "Maharashtra",
          "Maharashtra",
          "Maharashtra",
          "Maharashtra",
          "Maharashtra"
         ],
         "x0": " ",
         "xaxis": "x",
         "y": {
          "_inputArray": {
           "0": 4.95,
           "1": 4.69,
           "2": 5.79,
           "3": 20.9,
           "4": 15.46,
           "5": 9.23,
           "6": 3.89,
           "7": 6.23,
           "8": 4.55,
           "9": 4.1,
           "bdata": "zczMzMzME0DD9Shcj8ISQClcj8L1KBdAZmZmZmbmNEDsUbgehesuQPYoXI/CdSJAH4XrUbgeD0DsUbgehesYQDMzMzMzMxJAZmZmZmZmEEA=",
           "dtype": "f8",
           "shape": "10"
          },
          "bdata": "zczMzMzME0DD9Shcj8ISQClcj8L1KBdAZmZmZmbmNEDsUbgehesuQPYoXI/CdSJAH4XrUbgeD0DsUbgehesYQDMzMzMzMxJAZmZmZmZmEEA=",
          "dtype": "f8"
         },
         "y0": " ",
         "yaxis": "y"
        },
        {
         "alignmentgroup": "True",
         "hovertemplate": "state=%{x}<br>estimated unemployment rate=%{y}<extra></extra>",
         "legendgroup": "Meghalaya",
         "marker": {
          "color": "#19d3f3"
         },
         "name": "Meghalaya",
         "notched": false,
         "offsetgroup": "Meghalaya",
         "orientation": "v",
         "showlegend": true,
         "type": "box",
         "x": [
          "Meghalaya",
          "Meghalaya",
          "Meghalaya",
          "Meghalaya",
          "Meghalaya",
          "Meghalaya",
          "Meghalaya",
          "Meghalaya",
          "Meghalaya",
          "Meghalaya"
         ],
         "x0": " ",
         "xaxis": "x",
         "y": {
          "_inputArray": {
           "0": 1.66,
           "1": 3.59,
           "2": 1.58,
           "3": 10.03,
           "4": 5.92,
           "5": 1.15,
           "6": 2.1,
           "7": 3.74,
           "8": 4.29,
           "9": 4.6,
           "bdata": "j8L1KFyP+j+4HoXrUbgMQEjhehSuR/k/j8L1KFwPJECuR+F6FK4XQGZmZmZmZvI/zczMzMzMAEDsUbgehesNQClcj8L1KBFAZmZmZmZmEkA=",
           "dtype": "f8",
           "shape": "10"
          },
          "bdata": "j8L1KFyP+j+4HoXrUbgMQEjhehSuR/k/j8L1KFwPJECuR+F6FK4XQGZmZmZmZvI/zczMzMzMAEDsUbgehesNQClcj8L1KBFAZmZmZmZmEkA=",
          "dtype": "f8"
         },
         "y0": " ",
         "yaxis": "y"
        },
        {
         "alignmentgroup": "True",
         "hovertemplate": "state=%{x}<br>estimated unemployment rate=%{y}<extra></extra>",
         "legendgroup": "Odisha",
         "marker": {
          "color": "#FF6692"
         },
         "name": "Odisha",
         "notched": false,
         "offsetgroup": "Odisha",
         "orientation": "v",
         "showlegend": true,
         "type": "box",
         "x": [
          "Odisha",
          "Odisha",
          "Odisha",
          "Odisha",
          "Odisha",
          "Odisha",
          "Odisha",
          "Odisha",
          "Odisha",
          "Odisha"
         ],
         "x0": " ",
         "xaxis": "x",
         "y": {
          "_inputArray": {
           "0": 1.9,
           "1": 3.12,
           "2": 13.08,
           "3": 23.76,
           "4": 11.41,
           "5": 3.77,
           "6": 1.88,
           "7": 1.42,
           "8": 2.1,
           "9": 2.18,
           "bdata": "ZmZmZmZm/j/2KFyPwvUIQClcj8L1KCpAw/UoXI/CN0BSuB6F69EmQClcj8L1KA5AFK5H4XoU/j+4HoXrUbj2P83MzMzMzABAcT0K16NwAUA=",
           "dtype": "f8",
           "shape": "10"
          },
          "bdata": "ZmZmZmZm/j/2KFyPwvUIQClcj8L1KCpAw/UoXI/CN0BSuB6F69EmQClcj8L1KA5AFK5H4XoU/j+4HoXrUbj2P83MzMzMzABAcT0K16NwAUA=",
          "dtype": "f8"
         },
         "y0": " ",
         "yaxis": "y"
        },
        {
         "alignmentgroup": "True",
         "hovertemplate": "state=%{x}<br>estimated unemployment rate=%{y}<extra></extra>",
         "legendgroup": "Puducherry",
         "marker": {
          "color": "#B6E880"
         },
         "name": "Puducherry",
         "notched": false,
         "offsetgroup": "Puducherry",
         "orientation": "v",
         "showlegend": true,
         "type": "box",
         "x": [
          "Puducherry",
          "Puducherry",
          "Puducherry",
          "Puducherry",
          "Puducherry",
          "Puducherry",
          "Puducherry",
          "Puducherry",
          "Puducherry",
          "Puducherry"
         ],
         "x0": " ",
         "xaxis": "x",
         "y": {
          "_inputArray": {
           "0": 0.58,
           "1": 1.76,
           "2": 1.2,
           "3": 75.85,
           "4": 58.19,
           "5": 4.24,
           "6": 15.47,
           "7": 5.05,
           "8": 10.9,
           "9": 6.18,
           "bdata": "j8L1KFyP4j8pXI/C9Sj8PzMzMzMzM/M/ZmZmZmb2UkC4HoXrURhNQPYoXI/C9RBAcT0K16PwLkAzMzMzMzMUQM3MzMzMzCVAuB6F61G4GEA=",
           "dtype": "f8",
           "shape": "10"
          },
          "bdata": "j8L1KFyP4j8pXI/C9Sj8PzMzMzMzM/M/ZmZmZmb2UkC4HoXrURhNQPYoXI/C9RBAcT0K16PwLkAzMzMzMzMUQM3MzMzMzCVAuB6F61G4GEA=",
          "dtype": "f8"
         },
         "y0": " ",
         "yaxis": "y"
        },
        {
         "alignmentgroup": "True",
         "hovertemplate": "state=%{x}<br>estimated unemployment rate=%{y}<extra></extra>",
         "legendgroup": "Punjab",
         "marker": {
          "color": "#FF97FF"
         },
         "name": "Punjab",
         "notched": false,
         "offsetgroup": "Punjab",
         "orientation": "v",
         "showlegend": true,
         "type": "box",
         "x": [
          "Punjab",
          "Punjab",
          "Punjab",
          "Punjab",
          "Punjab",
          "Punjab",
          "Punjab",
          "Punjab",
          "Punjab",
          "Punjab"
         ],
         "x0": " ",
         "xaxis": "x",
         "y": {
          "_inputArray": {
           "0": 11.11,
           "1": 10.97,
           "2": 10.32,
           "3": 2.86,
           "4": 28.33,
           "5": 16.55,
           "6": 9.19,
           "7": 10.99,
           "8": 9.61,
           "9": 9.88,
           "bdata": "uB6F61E4JkBxPQrXo/AlQKRwPQrXoyRA4XoUrkfhBkAUrkfhelQ8QM3MzMzMjDBA4XoUrkdhIkB7FK5H4folQLgehetROCNAw/UoXI/CI0A=",
           "dtype": "f8",
           "shape": "10"
          },
          "bdata": "uB6F61E4JkBxPQrXo/AlQKRwPQrXoyRA4XoUrkfhBkAUrkfhelQ8QM3MzMzMjDBA4XoUrkdhIkB7FK5H4folQLgehetROCNAw/UoXI/CI0A=",
          "dtype": "f8"
         },
         "y0": " ",
         "yaxis": "y"
        },
        {
         "alignmentgroup": "True",
         "hovertemplate": "state=%{x}<br>estimated unemployment rate=%{y}<extra></extra>",
         "legendgroup": "Rajasthan",
         "marker": {
          "color": "#FECB52"
         },
         "name": "Rajasthan",
         "notched": false,
         "offsetgroup": "Rajasthan",
         "orientation": "v",
         "showlegend": true,
         "type": "box",
         "x": [
          "Rajasthan",
          "Rajasthan",
          "Rajasthan",
          "Rajasthan",
          "Rajasthan",
          "Rajasthan",
          "Rajasthan",
          "Rajasthan",
          "Rajasthan",
          "Rajasthan"
         ],
         "x0": " ",
         "xaxis": "x",
         "y": {
          "_inputArray": {
           "0": 10.97,
           "1": 15.16,
           "2": 11.9,
           "3": 17.7,
           "4": 15.74,
           "5": 14.39,
           "6": 15.81,
           "7": 17.51,
           "8": 15.35,
           "9": 24.15,
           "bdata": "cT0K16PwJUBSuB6F61EuQM3MzMzMzCdAMzMzMzOzMUB7FK5H4XovQEjhehSuxyxAH4XrUbieL0DD9Shcj4IxQDMzMzMzsy5AZmZmZmYmOEA=",
           "dtype": "f8",
           "shape": "10"
          },
          "bdata": "cT0K16PwJUBSuB6F61EuQM3MzMzMzCdAMzMzMzOzMUB7FK5H4XovQEjhehSuxyxAH4XrUbieL0DD9Shcj4IxQDMzMzMzsy5AZmZmZmYmOEA=",
          "dtype": "f8"
         },
         "y0": " ",
         "yaxis": "y"
        },
        {
         "alignmentgroup": "True",
         "hovertemplate": "state=%{x}<br>estimated unemployment rate=%{y}<extra></extra>",
         "legendgroup": "Sikkim",
         "marker": {
          "color": "#636efa"
         },
         "name": "Sikkim",
         "notched": false,
         "offsetgroup": "Sikkim",
         "orientation": "v",
         "showlegend": true,
         "type": "box",
         "x": [
          "Sikkim",
          "Sikkim",
          "Sikkim",
          "Sikkim",
          "Sikkim",
          "Sikkim",
          "Sikkim",
          "Sikkim"
         ],
         "x0": " ",
         "xaxis": "x",
         "y": {
          "_inputArray": {
           "0": 23.57,
           "1": 2.28,
           "2": 24.51,
           "3": 4.46,
           "4": 4.45,
           "5": 12.49,
           "6": 5.7,
           "7": 0.88,
           "bdata": "UrgeheuRN0A9CtejcD0CQMP1KFyPgjhA16NwPQrXEUDNzMzMzMwRQHsUrkfh+ihAzczMzMzMFkApXI/C9SjsPw==",
           "dtype": "f8",
           "shape": "8"
          },
          "bdata": "UrgeheuRN0A9CtejcD0CQMP1KFyPgjhA16NwPQrXEUDNzMzMzMwRQHsUrkfh+ihAzczMzMzMFkApXI/C9SjsPw==",
          "dtype": "f8"
         },
         "y0": " ",
         "yaxis": "y"
        },
        {
         "alignmentgroup": "True",
         "hovertemplate": "state=%{x}<br>estimated unemployment rate=%{y}<extra></extra>",
         "legendgroup": "Tamil Nadu",
         "marker": {
          "color": "#EF553B"
         },
         "name": "Tamil Nadu",
         "notched": false,
         "offsetgroup": "Tamil Nadu",
         "orientation": "v",
         "showlegend": true,
         "type": "box",
         "x": [
          "Tamil Nadu",
          "Tamil Nadu",
          "Tamil Nadu",
          "Tamil Nadu",
          "Tamil Nadu",
          "Tamil Nadu",
          "Tamil Nadu",
          "Tamil Nadu",
          "Tamil Nadu",
          "Tamil Nadu"
         ],
         "x0": " ",
         "xaxis": "x",
         "y": {
          "_inputArray": {
           "0": 1.57,
           "1": 2.09,
           "2": 6.4,
           "3": 49.83,
           "4": 33.16,
           "5": 12.2,
           "6": 6.81,
           "7": 2.65,
           "8": 5,
           "9": 2.16,
           "bdata": "H4XrUbge+T+4HoXrUbgAQJqZmZmZmRlACtejcD3qSEAUrkfhepRAQGZmZmZmZihAPQrXo3A9G0AzMzMzMzMFQAAAAAAAABRASOF6FK5HAUA=",
           "dtype": "f8",
           "shape": "10"
          },
          "bdata": "H4XrUbge+T+4HoXrUbgAQJqZmZmZmRlACtejcD3qSEAUrkfhepRAQGZmZmZmZihAPQrXo3A9G0AzMzMzMzMFQAAAAAAAABRASOF6FK5HAUA=",
          "dtype": "f8"
         },
         "y0": " ",
         "yaxis": "y"
        },
        {
         "alignmentgroup": "True",
         "hovertemplate": "state=%{x}<br>estimated unemployment rate=%{y}<extra></extra>",
         "legendgroup": "Telangana",
         "marker": {
          "color": "#00cc96"
         },
         "name": "Telangana",
         "notched": false,
         "offsetgroup": "Telangana",
         "orientation": "v",
         "showlegend": true,
         "type": "box",
         "x": [
          "Telangana",
          "Telangana",
          "Telangana",
          "Telangana",
          "Telangana",
          "Telangana",
          "Telangana",
          "Telangana",
          "Telangana",
          "Telangana"
         ],
         "x0": " ",
         "xaxis": "x",
         "y": {
          "_inputArray": {
           "0": 5.49,
           "1": 8.29,
           "2": 5.77,
           "3": 6.25,
           "4": 14.7,
           "5": 10.55,
           "6": 5.36,
           "7": 5.79,
           "8": 3.27,
           "9": 2.86,
           "bdata": "9ihcj8L1FUAUrkfhepQgQBSuR+F6FBdAAAAAAAAAGUBmZmZmZmYtQJqZmZmZGSVAcT0K16NwFUApXI/C9SgXQClcj8L1KApA4XoUrkfhBkA=",
           "dtype": "f8",
           "shape": "10"
          },
          "bdata": "9ihcj8L1FUAUrkfhepQgQBSuR+F6FBdAAAAAAAAAGUBmZmZmZmYtQJqZmZmZGSVAcT0K16NwFUApXI/C9SgXQClcj8L1KApA4XoUrkfhBkA=",
          "dtype": "f8"
         },
         "y0": " ",
         "yaxis": "y"
        },
        {
         "alignmentgroup": "True",
         "hovertemplate": "state=%{x}<br>estimated unemployment rate=%{y}<extra></extra>",
         "legendgroup": "Tripura",
         "marker": {
          "color": "#ab63fa"
         },
         "name": "Tripura",
         "notched": false,
         "offsetgroup": "Tripura",
         "orientation": "v",
         "showlegend": true,
         "type": "box",
         "x": [
          "Tripura",
          "Tripura",
          "Tripura",
          "Tripura",
          "Tripura",
          "Tripura",
          "Tripura",
          "Tripura",
          "Tripura",
          "Tripura"
         ],
         "x0": " ",
         "xaxis": "x",
         "y": {
          "_inputArray": {
           "0": 32.67,
           "1": 28.4,
           "2": 29.95,
           "3": 41.23,
           "4": 21.51,
           "5": 21.71,
           "6": 18.24,
           "7": 27.92,
           "8": 17.35,
           "9": 11.57,
           "bdata": "9ihcj8JVQEBmZmZmZmY8QDMzMzMz8z1APQrXo3CdREDD9Shcj4I1QPYoXI/CtTVAPQrXo3A9MkDsUbgehes7QJqZmZmZWTFApHA9CtcjJ0A=",
           "dtype": "f8",
           "shape": "10"
          },
          "bdata": "9ihcj8JVQEBmZmZmZmY8QDMzMzMz8z1APQrXo3CdREDD9Shcj4I1QPYoXI/CtTVAPQrXo3A9MkDsUbgehes7QJqZmZmZWTFApHA9CtcjJ0A=",
          "dtype": "f8"
         },
         "y0": " ",
         "yaxis": "y"
        },
        {
         "alignmentgroup": "True",
         "hovertemplate": "state=%{x}<br>estimated unemployment rate=%{y}<extra></extra>",
         "legendgroup": "Uttar Pradesh",
         "marker": {
          "color": "#FFA15A"
         },
         "name": "Uttar Pradesh",
         "notched": false,
         "offsetgroup": "Uttar Pradesh",
         "orientation": "v",
         "showlegend": true,
         "type": "box",
         "x": [
          "Uttar Pradesh",
          "Uttar Pradesh",
          "Uttar Pradesh",
          "Uttar Pradesh",
          "Uttar Pradesh",
          "Uttar Pradesh",
          "Uttar Pradesh",
          "Uttar Pradesh",
          "Uttar Pradesh",
          "Uttar Pradesh"
         ],
         "x0": " ",
         "xaxis": "x",
         "y": {
          "_inputArray": {
           "0": 7.58,
           "1": 8.98,
           "2": 10.11,
           "3": 21.54,
           "4": 20.41,
           "5": 9.47,
           "6": 5.56,
           "7": 5.79,
           "8": 4.18,
           "9": 3.75,
           "bdata": "UrgehetRHkD2KFyPwvUhQLgehetROCRACtejcD2KNUApXI/C9Wg0QHE9Ctej8CJAPQrXo3A9FkApXI/C9SgXQLgehetRuBBAAAAAAAAADkA=",
           "dtype": "f8",
           "shape": "10"
          },
          "bdata": "UrgehetRHkD2KFyPwvUhQLgehetROCRACtejcD2KNUApXI/C9Wg0QHE9Ctej8CJAPQrXo3A9FkApXI/C9SgXQLgehetRuBBAAAAAAAAADkA=",
          "dtype": "f8"
         },
         "y0": " ",
         "yaxis": "y"
        },
        {
         "alignmentgroup": "True",
         "hovertemplate": "state=%{x}<br>estimated unemployment rate=%{y}<extra></extra>",
         "legendgroup": "Uttarakhand",
         "marker": {
          "color": "#19d3f3"
         },
         "name": "Uttarakhand",
         "notched": false,
         "offsetgroup": "Uttarakhand",
         "orientation": "v",
         "showlegend": true,
         "type": "box",
         "x": [
          "Uttarakhand",
          "Uttarakhand",
          "Uttarakhand",
          "Uttarakhand",
          "Uttarakhand",
          "Uttarakhand",
          "Uttarakhand",
          "Uttarakhand",
          "Uttarakhand",
          "Uttarakhand"
         ],
         "x0": " ",
         "xaxis": "x",
         "y": {
          "_inputArray": {
           "0": 5.49,
           "1": 4.99,
           "2": 19.85,
           "3": 6.48,
           "4": 8.01,
           "5": 8.61,
           "6": 12.38,
           "7": 14.26,
           "8": 22.26,
           "9": 9.23,
           "bdata": "9ihcj8L1FUD2KFyPwvUTQJqZmZmZ2TNA7FG4HoXrGUCF61G4HgUgQLgehetROCFAw/UoXI/CKECF61G4HoUsQMP1KFyPQjZA9ihcj8J1IkA=",
           "dtype": "f8",
           "shape": "10"
          },
          "bdata": "9ihcj8L1FUD2KFyPwvUTQJqZmZmZ2TNA7FG4HoXrGUCF61G4HgUgQLgehetROCFAw/UoXI/CKECF61G4HoUsQMP1KFyPQjZA9ihcj8J1IkA=",
          "dtype": "f8"
         },
         "y0": " ",
         "yaxis": "y"
        },
        {
         "alignmentgroup": "True",
         "hovertemplate": "state=%{x}<br>estimated unemployment rate=%{y}<extra></extra>",
         "legendgroup": "West Bengal",
         "marker": {
          "color": "#FF6692"
         },
         "name": "West Bengal",
         "notched": false,
         "offsetgroup": "West Bengal",
         "orientation": "v",
         "showlegend": true,
         "type": "box",
         "x": [
          "West Bengal",
          "West Bengal",
          "West Bengal",
          "West Bengal",
          "West Bengal",
          "West Bengal",
          "West Bengal",
          "West Bengal",
          "West Bengal",
          "West Bengal"
         ],
         "x0": " ",
         "xaxis": "x",
         "y": {
          "_inputArray": {
           "0": 6.94,
           "1": 4.92,
           "2": 6.92,
           "3": 17.41,
           "4": 17.41,
           "5": 7.29,
           "6": 6.83,
           "7": 14.87,
           "8": 9.35,
           "9": 9.98,
           "bdata": "w/UoXI/CG0CuR+F6FK4TQK5H4XoUrhtAKVyPwvVoMUApXI/C9WgxQClcj8L1KB1AUrgehetRG0A9CtejcL0tQDMzMzMzsyJA9ihcj8L1I0A=",
           "dtype": "f8",
           "shape": "10"
          },
          "bdata": "w/UoXI/CG0CuR+F6FK4TQK5H4XoUrhtAKVyPwvVoMUApXI/C9WgxQClcj8L1KB1AUrgehetRG0A9CtejcL0tQDMzMzMzsyJA9ihcj8L1I0A=",
          "dtype": "f8"
         },
         "y0": " ",
         "yaxis": "y"
        }
       ],
       "layout": {
        "autosize": true,
        "boxmode": "overlay",
        "legend": {
         "title": {
          "text": "state"
         },
         "tracegroupgap": 0
        },
        "template": {
         "data": {
          "bar": [
           {
            "error_x": {
             "color": "#2a3f5f"
            },
            "error_y": {
             "color": "#2a3f5f"
            },
            "marker": {
             "line": {
              "color": "#E5ECF6",
              "width": 0.5
             },
             "pattern": {
              "fillmode": "overlay",
              "size": 10,
              "solidity": 0.2
             }
            },
            "type": "bar"
           }
          ],
          "barpolar": [
           {
            "marker": {
             "line": {
              "color": "#E5ECF6",
              "width": 0.5
             },
             "pattern": {
              "fillmode": "overlay",
              "size": 10,
              "solidity": 0.2
             }
            },
            "type": "barpolar"
           }
          ],
          "carpet": [
           {
            "aaxis": {
             "endlinecolor": "#2a3f5f",
             "gridcolor": "white",
             "linecolor": "white",
             "minorgridcolor": "white",
             "startlinecolor": "#2a3f5f"
            },
            "baxis": {
             "endlinecolor": "#2a3f5f",
             "gridcolor": "white",
             "linecolor": "white",
             "minorgridcolor": "white",
             "startlinecolor": "#2a3f5f"
            },
            "type": "carpet"
           }
          ],
          "choropleth": [
           {
            "colorbar": {
             "outlinewidth": 0,
             "ticks": ""
            },
            "type": "choropleth"
           }
          ],
          "contour": [
           {
            "colorbar": {
             "outlinewidth": 0,
             "ticks": ""
            },
            "colorscale": [
             [
              0,
              "#0d0887"
             ],
             [
              0.1111111111111111,
              "#46039f"
             ],
             [
              0.2222222222222222,
              "#7201a8"
             ],
             [
              0.3333333333333333,
              "#9c179e"
             ],
             [
              0.4444444444444444,
              "#bd3786"
             ],
             [
              0.5555555555555556,
              "#d8576b"
             ],
             [
              0.6666666666666666,
              "#ed7953"
             ],
             [
              0.7777777777777778,
              "#fb9f3a"
             ],
             [
              0.8888888888888888,
              "#fdca26"
             ],
             [
              1,
              "#f0f921"
             ]
            ],
            "type": "contour"
           }
          ],
          "contourcarpet": [
           {
            "colorbar": {
             "outlinewidth": 0,
             "ticks": ""
            },
            "type": "contourcarpet"
           }
          ],
          "heatmap": [
           {
            "colorbar": {
             "outlinewidth": 0,
             "ticks": ""
            },
            "colorscale": [
             [
              0,
              "#0d0887"
             ],
             [
              0.1111111111111111,
              "#46039f"
             ],
             [
              0.2222222222222222,
              "#7201a8"
             ],
             [
              0.3333333333333333,
              "#9c179e"
             ],
             [
              0.4444444444444444,
              "#bd3786"
             ],
             [
              0.5555555555555556,
              "#d8576b"
             ],
             [
              0.6666666666666666,
              "#ed7953"
             ],
             [
              0.7777777777777778,
              "#fb9f3a"
             ],
             [
              0.8888888888888888,
              "#fdca26"
             ],
             [
              1,
              "#f0f921"
             ]
            ],
            "type": "heatmap"
           }
          ],
          "histogram": [
           {
            "marker": {
             "pattern": {
              "fillmode": "overlay",
              "size": 10,
              "solidity": 0.2
             }
            },
            "type": "histogram"
           }
          ],
          "histogram2d": [
           {
            "colorbar": {
             "outlinewidth": 0,
             "ticks": ""
            },
            "colorscale": [
             [
              0,
              "#0d0887"
             ],
             [
              0.1111111111111111,
              "#46039f"
             ],
             [
              0.2222222222222222,
              "#7201a8"
             ],
             [
              0.3333333333333333,
              "#9c179e"
             ],
             [
              0.4444444444444444,
              "#bd3786"
             ],
             [
              0.5555555555555556,
              "#d8576b"
             ],
             [
              0.6666666666666666,
              "#ed7953"
             ],
             [
              0.7777777777777778,
              "#fb9f3a"
             ],
             [
              0.8888888888888888,
              "#fdca26"
             ],
             [
              1,
              "#f0f921"
             ]
            ],
            "type": "histogram2d"
           }
          ],
          "histogram2dcontour": [
           {
            "colorbar": {
             "outlinewidth": 0,
             "ticks": ""
            },
            "colorscale": [
             [
              0,
              "#0d0887"
             ],
             [
              0.1111111111111111,
              "#46039f"
             ],
             [
              0.2222222222222222,
              "#7201a8"
             ],
             [
              0.3333333333333333,
              "#9c179e"
             ],
             [
              0.4444444444444444,
              "#bd3786"
             ],
             [
              0.5555555555555556,
              "#d8576b"
             ],
             [
              0.6666666666666666,
              "#ed7953"
             ],
             [
              0.7777777777777778,
              "#fb9f3a"
             ],
             [
              0.8888888888888888,
              "#fdca26"
             ],
             [
              1,
              "#f0f921"
             ]
            ],
            "type": "histogram2dcontour"
           }
          ],
          "mesh3d": [
           {
            "colorbar": {
             "outlinewidth": 0,
             "ticks": ""
            },
            "type": "mesh3d"
           }
          ],
          "parcoords": [
           {
            "line": {
             "colorbar": {
              "outlinewidth": 0,
              "ticks": ""
             }
            },
            "type": "parcoords"
           }
          ],
          "pie": [
           {
            "automargin": true,
            "type": "pie"
           }
          ],
          "scatter": [
           {
            "fillpattern": {
             "fillmode": "overlay",
             "size": 10,
             "solidity": 0.2
            },
            "type": "scatter"
           }
          ],
          "scatter3d": [
           {
            "line": {
             "colorbar": {
              "outlinewidth": 0,
              "ticks": ""
             }
            },
            "marker": {
             "colorbar": {
              "outlinewidth": 0,
              "ticks": ""
             }
            },
            "type": "scatter3d"
           }
          ],
          "scattercarpet": [
           {
            "marker": {
             "colorbar": {
              "outlinewidth": 0,
              "ticks": ""
             }
            },
            "type": "scattercarpet"
           }
          ],
          "scattergeo": [
           {
            "marker": {
             "colorbar": {
              "outlinewidth": 0,
              "ticks": ""
             }
            },
            "type": "scattergeo"
           }
          ],
          "scattergl": [
           {
            "marker": {
             "colorbar": {
              "outlinewidth": 0,
              "ticks": ""
             }
            },
            "type": "scattergl"
           }
          ],
          "scattermap": [
           {
            "marker": {
             "colorbar": {
              "outlinewidth": 0,
              "ticks": ""
             }
            },
            "type": "scattermap"
           }
          ],
          "scattermapbox": [
           {
            "marker": {
             "colorbar": {
              "outlinewidth": 0,
              "ticks": ""
             }
            },
            "type": "scattermapbox"
           }
          ],
          "scatterpolar": [
           {
            "marker": {
             "colorbar": {
              "outlinewidth": 0,
              "ticks": ""
             }
            },
            "type": "scatterpolar"
           }
          ],
          "scatterpolargl": [
           {
            "marker": {
             "colorbar": {
              "outlinewidth": 0,
              "ticks": ""
             }
            },
            "type": "scatterpolargl"
           }
          ],
          "scatterternary": [
           {
            "marker": {
             "colorbar": {
              "outlinewidth": 0,
              "ticks": ""
             }
            },
            "type": "scatterternary"
           }
          ],
          "surface": [
           {
            "colorbar": {
             "outlinewidth": 0,
             "ticks": ""
            },
            "colorscale": [
             [
              0,
              "#0d0887"
             ],
             [
              0.1111111111111111,
              "#46039f"
             ],
             [
              0.2222222222222222,
              "#7201a8"
             ],
             [
              0.3333333333333333,
              "#9c179e"
             ],
             [
              0.4444444444444444,
              "#bd3786"
             ],
             [
              0.5555555555555556,
              "#d8576b"
             ],
             [
              0.6666666666666666,
              "#ed7953"
             ],
             [
              0.7777777777777778,
              "#fb9f3a"
             ],
             [
              0.8888888888888888,
              "#fdca26"
             ],
             [
              1,
              "#f0f921"
             ]
            ],
            "type": "surface"
           }
          ],
          "table": [
           {
            "cells": {
             "fill": {
              "color": "#EBF0F8"
             },
             "line": {
              "color": "white"
             }
            },
            "header": {
             "fill": {
              "color": "#C8D4E3"
             },
             "line": {
              "color": "white"
             }
            },
            "type": "table"
           }
          ]
         },
         "layout": {
          "annotationdefaults": {
           "arrowcolor": "#2a3f5f",
           "arrowhead": 0,
           "arrowwidth": 1
          },
          "autotypenumbers": "strict",
          "coloraxis": {
           "colorbar": {
            "outlinewidth": 0,
            "ticks": ""
           }
          },
          "colorscale": {
           "diverging": [
            [
             0,
             "#8e0152"
            ],
            [
             0.1,
             "#c51b7d"
            ],
            [
             0.2,
             "#de77ae"
            ],
            [
             0.3,
             "#f1b6da"
            ],
            [
             0.4,
             "#fde0ef"
            ],
            [
             0.5,
             "#f7f7f7"
            ],
            [
             0.6,
             "#e6f5d0"
            ],
            [
             0.7,
             "#b8e186"
            ],
            [
             0.8,
             "#7fbc41"
            ],
            [
             0.9,
             "#4d9221"
            ],
            [
             1,
             "#276419"
            ]
           ],
           "sequential": [
            [
             0,
             "#0d0887"
            ],
            [
             0.1111111111111111,
             "#46039f"
            ],
            [
             0.2222222222222222,
             "#7201a8"
            ],
            [
             0.3333333333333333,
             "#9c179e"
            ],
            [
             0.4444444444444444,
             "#bd3786"
            ],
            [
             0.5555555555555556,
             "#d8576b"
            ],
            [
             0.6666666666666666,
             "#ed7953"
            ],
            [
             0.7777777777777778,
             "#fb9f3a"
            ],
            [
             0.8888888888888888,
             "#fdca26"
            ],
            [
             1,
             "#f0f921"
            ]
           ],
           "sequentialminus": [
            [
             0,
             "#0d0887"
            ],
            [
             0.1111111111111111,
             "#46039f"
            ],
            [
             0.2222222222222222,
             "#7201a8"
            ],
            [
             0.3333333333333333,
             "#9c179e"
            ],
            [
             0.4444444444444444,
             "#bd3786"
            ],
            [
             0.5555555555555556,
             "#d8576b"
            ],
            [
             0.6666666666666666,
             "#ed7953"
            ],
            [
             0.7777777777777778,
             "#fb9f3a"
            ],
            [
             0.8888888888888888,
             "#fdca26"
            ],
            [
             1,
             "#f0f921"
            ]
           ]
          },
          "colorway": [
           "#636efa",
           "#EF553B",
           "#00cc96",
           "#ab63fa",
           "#FFA15A",
           "#19d3f3",
           "#FF6692",
           "#B6E880",
           "#FF97FF",
           "#FECB52"
          ],
          "font": {
           "color": "#2a3f5f"
          },
          "geo": {
           "bgcolor": "white",
           "lakecolor": "white",
           "landcolor": "#E5ECF6",
           "showlakes": true,
           "showland": true,
           "subunitcolor": "white"
          },
          "hoverlabel": {
           "align": "left"
          },
          "hovermode": "closest",
          "mapbox": {
           "style": "light"
          },
          "paper_bgcolor": "white",
          "plot_bgcolor": "#E5ECF6",
          "polar": {
           "angularaxis": {
            "gridcolor": "white",
            "linecolor": "white",
            "ticks": ""
           },
           "bgcolor": "#E5ECF6",
           "radialaxis": {
            "gridcolor": "white",
            "linecolor": "white",
            "ticks": ""
           }
          },
          "scene": {
           "xaxis": {
            "backgroundcolor": "#E5ECF6",
            "gridcolor": "white",
            "gridwidth": 2,
            "linecolor": "white",
            "showbackground": true,
            "ticks": "",
            "zerolinecolor": "white"
           },
           "yaxis": {
            "backgroundcolor": "#E5ECF6",
            "gridcolor": "white",
            "gridwidth": 2,
            "linecolor": "white",
            "showbackground": true,
            "ticks": "",
            "zerolinecolor": "white"
           },
           "zaxis": {
            "backgroundcolor": "#E5ECF6",
            "gridcolor": "white",
            "gridwidth": 2,
            "linecolor": "white",
            "showbackground": true,
            "ticks": "",
            "zerolinecolor": "white"
           }
          },
          "shapedefaults": {
           "line": {
            "color": "#2a3f5f"
           }
          },
          "ternary": {
           "aaxis": {
            "gridcolor": "white",
            "linecolor": "white",
            "ticks": ""
           },
           "baxis": {
            "gridcolor": "white",
            "linecolor": "white",
            "ticks": ""
           },
           "bgcolor": "#E5ECF6",
           "caxis": {
            "gridcolor": "white",
            "linecolor": "white",
            "ticks": ""
           }
          },
          "title": {
           "x": 0.05
          },
          "xaxis": {
           "automargin": true,
           "gridcolor": "white",
           "linecolor": "white",
           "ticks": "",
           "title": {
            "standoff": 15
           },
           "zerolinecolor": "white",
           "zerolinewidth": 2
          },
          "yaxis": {
           "automargin": true,
           "gridcolor": "white",
           "linecolor": "white",
           "ticks": "",
           "title": {
            "standoff": 15
           },
           "zerolinecolor": "white",
           "zerolinewidth": 2
          }
         }
        },
        "title": {
         "text": "Unemployment Rate by State"
        },
        "xaxis": {
         "anchor": "y",
         "autorange": true,
         "categoryarray": [
          "Andhra Pradesh",
          "Assam",
          "Bihar",
          "Chhattisgarh",
          "Delhi",
          "Goa",
          "Gujarat",
          "Haryana",
          "Himachal Pradesh",
          "Jammu & Kashmir",
          "Jharkhand",
          "Karnataka",
          "Kerala",
          "Madhya Pradesh",
          "Maharashtra",
          "Meghalaya",
          "Odisha",
          "Puducherry",
          "Punjab",
          "Rajasthan",
          "Sikkim",
          "Tamil Nadu",
          "Telangana",
          "Tripura",
          "Uttar Pradesh",
          "Uttarakhand",
          "West Bengal"
         ],
         "categoryorder": "total descending",
         "domain": [
          0,
          1
         ],
         "range": [
          -0.5,
          26.5
         ],
         "title": {
          "text": "state"
         },
         "type": "category"
        },
        "yaxis": {
         "anchor": "x",
         "autorange": true,
         "domain": [
          0,
          1
         ],
         "range": [
          -3.686111111111111,
          80.03611111111111
         ],
         "title": {
          "text": "estimated unemployment rate"
         },
         "type": "linear"
        }
       }
      },
      "image/png": "[encoded data removed]"
     },
     "metadata": {},
     "output_type": "display_data"
    }
   ],
   "source": [
    "# Create box plot\n",
    "fig = px.box(\n",
    "    data_frame=df,\n",
    "    x='state',\n",
    "    y='estimated unemployment rate',\n",
    "    color='state',\n",
    "    title='Unemployment Rate by State'\n",
    ")\n",
    "\n",
    "# Sort x-axis based on total values descending\n",
    "fig.update_layout(xaxis={'categoryorder': 'total descending'})\n",
    "\n",
    "# Show chart in Jupyter\n",
    "fig.show()\n",
    "\n",
    "# Save static image for GitHub README\n",
    "fig.write_image(\"unemployment_boxplot.png\")"
   ]
  },
  {
   "cell_type": "code",
   "execution_count": 23,
   "id": "cafc9776-605a-478c-9efc-a7e465d62e7b",
   "metadata": {},
   "outputs": [
    {
     "data": {
      "application/vnd.plotly.v1+json": {
       "config": {
        "plotlyServerURL": "https://plot.ly"
       },
       "data": [
        {
         "hovertemplate": "state=%{x}<br>estimated unemployment rate=%{y}<extra></extra>",
         "legendgroup": "Andhra Pradesh",
         "marker": {
          "color": "#636efa",
          "pattern": {
           "shape": ""
          }
         },
         "name": "Andhra Pradesh",
         "orientation": "v",
         "showlegend": true,
         "textposition": "auto",
         "type": "bar",
         "x": [
          "Andhra Pradesh"
         ],
         "xaxis": "x",
         "y": {
          "_inputArray": {
           "0": 8.664,
           "bdata": "hxbZzvdTIUA=",
           "dtype": "f8",
           "shape": "1"
          },
          "bdata": "hxbZzvdTIUA=",
          "dtype": "f8"
         },
         "yaxis": "y"
        },
        {
         "hovertemplate": "state=%{x}<br>estimated unemployment rate=%{y}<extra></extra>",
         "legendgroup": "Assam",
         "marker": {
          "color": "#EF553B",
          "pattern": {
           "shape": ""
          }
         },
         "name": "Assam",
         "orientation": "v",
         "showlegend": true,
         "textposition": "auto",
         "type": "bar",
         "x": [
          "Assam"
         ],
         "xaxis": "x",
         "y": {
          "_inputArray": {
           "0": 4.856,
           "bdata": "BoGVQ4tsE0A=",
           "dtype": "f8",
           "shape": "1"
          },
          "bdata": "BoGVQ4tsE0A=",
          "dtype": "f8"
         },
         "yaxis": "y"
        },
        {
         "hovertemplate": "state=%{x}<br>estimated unemployment rate=%{y}<extra></extra>",
         "legendgroup": "Bihar",
         "marker": {
          "color": "#00cc96",
          "pattern": {
           "shape": ""
          }
         },
         "name": "Bihar",
         "orientation": "v",
         "showlegend": true,
         "textposition": "auto",
         "type": "bar",
         "x": [
          "Bihar"
         ],
         "xaxis": "x",
         "y": {
          "_inputArray": {
           "0": 19.471,
           "bdata": "f2q8dJN4M0A=",
           "dtype": "f8",
           "shape": "1"
          },
          "bdata": "f2q8dJN4M0A=",
          "dtype": "f8"
         },
         "yaxis": "y"
        },
        {
         "hovertemplate": "state=%{x}<br>estimated unemployment rate=%{y}<extra></extra>",
         "legendgroup": "Chhattisgarh",
         "marker": {
          "color": "#ab63fa",
          "pattern": {
           "shape": ""
          }
         },
         "name": "Chhattisgarh",
         "orientation": "v",
         "showlegend": true,
         "textposition": "auto",
         "type": "bar",
         "x": [
          "Chhattisgarh"
         ],
         "xaxis": "x",
         "y": {
          "_inputArray": {
           "0": 7.819,
           "bdata": "LbKd76dGH0A=",
           "dtype": "f8",
           "shape": "1"
          },
          "bdata": "LbKd76dGH0A=",
          "dtype": "f8"
         },
         "yaxis": "y"
        },
        {
         "hovertemplate": "state=%{x}<br>estimated unemployment rate=%{y}<extra></extra>",
         "legendgroup": "Delhi",
         "marker": {
          "color": "#FFA15A",
          "pattern": {
           "shape": ""
          }
         },
         "name": "Delhi",
         "orientation": "v",
         "showlegend": true,
         "textposition": "auto",
         "type": "bar",
         "x": [
          "Delhi"
         ],
         "xaxis": "x",
         "y": {
          "_inputArray": {
           "0": 18.414,
           "bdata": "RIts5/tpMkA=",
           "dtype": "f8",
           "shape": "1"
          },
          "bdata": "RIts5/tpMkA=",
          "dtype": "f8"
         },
         "yaxis": "y"
        },
        {
         "hovertemplate": "state=%{x}<br>estimated unemployment rate=%{y}<extra></extra>",
         "legendgroup": "Goa",
         "marker": {
          "color": "#19d3f3",
          "pattern": {
           "shape": ""
          }
         },
         "name": "Goa",
         "orientation": "v",
         "showlegend": true,
         "textposition": "auto",
         "type": "bar",
         "x": [
          "Goa"
         ],
         "xaxis": "x",
         "y": {
          "_inputArray": {
           "0": 12.167,
           "bdata": "L90kBoFVKEA=",
           "dtype": "f8",
           "shape": "1"
          },
          "bdata": "L90kBoFVKEA=",
          "dtype": "f8"
         },
         "yaxis": "y"
        },
        {
         "hovertemplate": "state=%{x}<br>estimated unemployment rate=%{y}<extra></extra>",
         "legendgroup": "Gujarat",
         "marker": {
          "color": "#FF6692",
          "pattern": {
           "shape": ""
          }
         },
         "name": "Gujarat",
         "orientation": "v",
         "showlegend": true,
         "textposition": "auto",
         "type": "bar",
         "x": [
          "Gujarat"
         ],
         "xaxis": "x",
         "y": {
          "_inputArray": {
           "0": 6.3759999999999994,
           "bdata": "Gi/dJAaBGUA=",
           "dtype": "f8",
           "shape": "1"
          },
          "bdata": "Gi/dJAaBGUA=",
          "dtype": "f8"
         },
         "yaxis": "y"
        },
        {
         "hovertemplate": "state=%{x}<br>estimated unemployment rate=%{y}<extra></extra>",
         "legendgroup": "Haryana",
         "marker": {
          "color": "#B6E880",
          "pattern": {
           "shape": ""
          }
         },
         "name": "Haryana",
         "orientation": "v",
         "showlegend": true,
         "textposition": "auto",
         "type": "bar",
         "x": [
          "Haryana"
         ],
         "xaxis": "x",
         "y": {
          "_inputArray": {
           "0": 27.476999999999997,
           "bdata": "JjEIrBx6O0A=",
           "dtype": "f8",
           "shape": "1"
          },
          "bdata": "JjEIrBx6O0A=",
          "dtype": "f8"
         },
         "yaxis": "y"
        },
        {
         "hovertemplate": "state=%{x}<br>estimated unemployment rate=%{y}<extra></extra>",
         "legendgroup": "Himachal Pradesh",
         "marker": {
          "color": "#FF97FF",
          "pattern": {
           "shape": ""
          }
         },
         "name": "Himachal Pradesh",
         "orientation": "v",
         "showlegend": true,
         "textposition": "auto",
         "type": "bar",
         "x": [
          "Himachal Pradesh"
         ],
         "xaxis": "x",
         "y": {
          "_inputArray": {
           "0": 16.065,
           "bdata": "cT0K16MQMEA=",
           "dtype": "f8",
           "shape": "1"
          },
          "bdata": "cT0K16MQMEA=",
          "dtype": "f8"
         },
         "yaxis": "y"
        },
        {
         "hovertemplate": "state=%{x}<br>estimated unemployment rate=%{y}<extra></extra>",
         "legendgroup": "Jammu & Kashmir",
         "marker": {
          "color": "#FECB52",
          "pattern": {
           "shape": ""
          }
         },
         "name": "Jammu & Kashmir",
         "orientation": "v",
         "showlegend": true,
         "textposition": "auto",
         "type": "bar",
         "x": [
          "Jammu & Kashmir"
         ],
         "xaxis": "x",
         "y": {
          "_inputArray": {
           "0": 16.477777777777778,
           "bdata": "pU/6pE96MEA=",
           "dtype": "f8",
           "shape": "1"
          },
          "bdata": "pU/6pE96MEA=",
          "dtype": "f8"
         },
         "yaxis": "y"
        },
        {
         "hovertemplate": "state=%{x}<br>estimated unemployment rate=%{y}<extra></extra>",
         "legendgroup": "Jharkhand",
         "marker": {
          "color": "#636efa",
          "pattern": {
           "shape": ""
          }
         },
         "name": "Jharkhand",
         "orientation": "v",
         "showlegend": true,
         "textposition": "auto",
         "type": "bar",
         "x": [
          "Jharkhand"
         ],
         "xaxis": "x",
         "y": {
          "_inputArray": {
           "0": 19.538999999999998,
           "bdata": "Q4ts5/uJM0A=",
           "dtype": "f8",
           "shape": "1"
          },
          "bdata": "Q4ts5/uJM0A=",
          "dtype": "f8"
         },
         "yaxis": "y"
        },
        {
         "hovertemplate": "state=%{x}<br>estimated unemployment rate=%{y}<extra></extra>",
         "legendgroup": "Karnataka",
         "marker": {
          "color": "#EF553B",
          "pattern": {
           "shape": ""
          }
         },
         "name": "Karnataka",
         "orientation": "v",
         "showlegend": true,
         "textposition": "auto",
         "type": "bar",
         "x": [
          "Karnataka"
         ],
         "xaxis": "x",
         "y": {
          "_inputArray": {
           "0": 7.667999999999999,
           "bdata": "eOkmMQisHkA=",
           "dtype": "f8",
           "shape": "1"
          },
          "bdata": "eOkmMQisHkA=",
          "dtype": "f8"
         },
         "yaxis": "y"
        },
        {
         "hovertemplate": "state=%{x}<br>estimated unemployment rate=%{y}<extra></extra>",
         "legendgroup": "Kerala",
         "marker": {
          "color": "#00cc96",
          "pattern": {
           "shape": ""
          }
         },
         "name": "Kerala",
         "orientation": "v",
         "showlegend": true,
         "textposition": "auto",
         "type": "bar",
         "x": [
          "Kerala"
         ],
         "xaxis": "x",
         "y": {
          "_inputArray": {
           "0": 9.434000000000001,
           "bdata": "ku18PzXeIkA=",
           "dtype": "f8",
           "shape": "1"
          },
          "bdata": "ku18PzXeIkA=",
          "dtype": "f8"
         },
         "yaxis": "y"
        },
        {
         "hovertemplate": "state=%{x}<br>estimated unemployment rate=%{y}<extra></extra>",
         "legendgroup": "Madhya Pradesh",
         "marker": {
          "color": "#ab63fa",
          "pattern": {
           "shape": ""
          }
         },
         "name": "Madhya Pradesh",
         "orientation": "v",
         "showlegend": true,
         "textposition": "auto",
         "type": "bar",
         "x": [
          "Madhya Pradesh"
         ],
         "xaxis": "x",
         "y": {
          "_inputArray": {
           "0": 6.854000000000001,
           "bdata": "0iLb+X5qG0A=",
           "dtype": "f8",
           "shape": "1"
          },
          "bdata": "0iLb+X5qG0A=",
          "dtype": "f8"
         },
         "yaxis": "y"
        },
        {
         "hovertemplate": "state=%{x}<br>estimated unemployment rate=%{y}<extra></extra>",
         "legendgroup": "Maharashtra",
         "marker": {
          "color": "#FFA15A",
          "pattern": {
           "shape": ""
          }
         },
         "name": "Maharashtra",
         "orientation": "v",
         "showlegend": true,
         "textposition": "auto",
         "type": "bar",
         "x": [
          "Maharashtra"
         ],
         "xaxis": "x",
         "y": {
          "_inputArray": {
           "0": 7.979000000000001,
           "bdata": "0iLb+X7qH0A=",
           "dtype": "f8",
           "shape": "1"
          },
          "bdata": "0iLb+X7qH0A=",
          "dtype": "f8"
         },
         "yaxis": "y"
        },
        {
         "hovertemplate": "state=%{x}<br>estimated unemployment rate=%{y}<extra></extra>",
         "legendgroup": "Meghalaya",
         "marker": {
          "color": "#19d3f3",
          "pattern": {
           "shape": ""
          }
         },
         "name": "Meghalaya",
         "orientation": "v",
         "showlegend": true,
         "textposition": "auto",
         "type": "bar",
         "x": [
          "Meghalaya"
         ],
         "xaxis": "x",
         "y": {
          "_inputArray": {
           "0": 3.8659999999999997,
           "bdata": "ILByaJHtDkA=",
           "dtype": "f8",
           "shape": "1"
          },
          "bdata": "ILByaJHtDkA=",
          "dtype": "f8"
         },
         "yaxis": "y"
        },
        {
         "hovertemplate": "state=%{x}<br>estimated unemployment rate=%{y}<extra></extra>",
         "legendgroup": "Odisha",
         "marker": {
          "color": "#FF6692",
          "pattern": {
           "shape": ""
          }
         },
         "name": "Odisha",
         "orientation": "v",
         "showlegend": true,
         "textposition": "auto",
         "type": "bar",
         "x": [
          "Odisha"
         ],
         "xaxis": "x",
         "y": {
          "_inputArray": {
           "0": 6.462000000000001,
           "bdata": "DQIrhxbZGUA=",
           "dtype": "f8",
           "shape": "1"
          },
          "bdata": "DQIrhxbZGUA=",
          "dtype": "f8"
         },
         "yaxis": "y"
        },
        {
         "hovertemplate": "state=%{x}<br>estimated unemployment rate=%{y}<extra></extra>",
         "legendgroup": "Puducherry",
         "marker": {
          "color": "#B6E880",
          "pattern": {
           "shape": ""
          }
         },
         "name": "Puducherry",
         "orientation": "v",
         "showlegend": true,
         "textposition": "auto",
         "type": "bar",
         "x": [
          "Puducherry"
         ],
         "xaxis": "x",
         "y": {
          "_inputArray": {
           "0": 17.942,
           "bdata": "/tR46SbxMUA=",
           "dtype": "f8",
           "shape": "1"
          },
          "bdata": "/tR46SbxMUA=",
          "dtype": "f8"
         },
         "yaxis": "y"
        },
        {
         "hovertemplate": "state=%{x}<br>estimated unemployment rate=%{y}<extra></extra>",
         "legendgroup": "Punjab",
         "marker": {
          "color": "#FF97FF",
          "pattern": {
           "shape": ""
          }
         },
         "name": "Punjab",
         "orientation": "v",
         "showlegend": true,
         "textposition": "auto",
         "type": "bar",
         "x": [
          "Punjab"
         ],
         "xaxis": "x",
         "y": {
          "_inputArray": {
           "0": 11.981,
           "bdata": "g8DKoUX2J0A=",
           "dtype": "f8",
           "shape": "1"
          },
          "bdata": "g8DKoUX2J0A=",
          "dtype": "f8"
         },
         "yaxis": "y"
        },
        {
         "hovertemplate": "state=%{x}<br>estimated unemployment rate=%{y}<extra></extra>",
         "legendgroup": "Rajasthan",
         "marker": {
          "color": "#FECB52",
          "pattern": {
           "shape": ""
          }
         },
         "name": "Rajasthan",
         "orientation": "v",
         "showlegend": true,
         "textposition": "auto",
         "type": "bar",
         "x": [
          "Rajasthan"
         ],
         "xaxis": "x",
         "y": {
          "_inputArray": {
           "0": 15.868,
           "bdata": "I9v5fmq8L0A=",
           "dtype": "f8",
           "shape": "1"
          },
          "bdata": "I9v5fmq8L0A=",
          "dtype": "f8"
         },
         "yaxis": "y"
        },
        {
         "hovertemplate": "state=%{x}<br>estimated unemployment rate=%{y}<extra></extra>",
         "legendgroup": "Sikkim",
         "marker": {
          "color": "#636efa",
          "pattern": {
           "shape": ""
          }
         },
         "name": "Sikkim",
         "orientation": "v",
         "showlegend": true,
         "textposition": "auto",
         "type": "bar",
         "x": [
          "Sikkim"
         ],
         "xaxis": "x",
         "y": {
          "_inputArray": {
           "0": 9.7925,
           "bdata": "9ihcj8KVI0A=",
           "dtype": "f8",
           "shape": "1"
          },
          "bdata": "9ihcj8KVI0A=",
          "dtype": "f8"
         },
         "yaxis": "y"
        },
        {
         "hovertemplate": "state=%{x}<br>estimated unemployment rate=%{y}<extra></extra>",
         "legendgroup": "Tamil Nadu",
         "marker": {
          "color": "#EF553B",
          "pattern": {
           "shape": ""
          }
         },
         "name": "Tamil Nadu",
         "orientation": "v",
         "showlegend": true,
         "textposition": "auto",
         "type": "bar",
         "x": [
          "Tamil Nadu"
         ],
         "xaxis": "x",
         "y": {
          "_inputArray": {
           "0": 12.187,
           "bdata": "ObTIdr5fKEA=",
           "dtype": "f8",
           "shape": "1"
          },
          "bdata": "ObTIdr5fKEA=",
          "dtype": "f8"
         },
         "yaxis": "y"
        },
        {
         "hovertemplate": "state=%{x}<br>estimated unemployment rate=%{y}<extra></extra>",
         "legendgroup": "Telangana",
         "marker": {
          "color": "#00cc96",
          "pattern": {
           "shape": ""
          }
         },
         "name": "Telangana",
         "orientation": "v",
         "showlegend": true,
         "textposition": "auto",
         "type": "bar",
         "x": [
          "Telangana"
         ],
         "xaxis": "x",
         "y": {
          "_inputArray": {
           "0": 6.833,
           "bdata": "okW28/1UG0A=",
           "dtype": "f8",
           "shape": "1"
          },
          "bdata": "okW28/1UG0A=",
          "dtype": "f8"
         },
         "yaxis": "y"
        },
        {
         "hovertemplate": "state=%{x}<br>estimated unemployment rate=%{y}<extra></extra>",
         "legendgroup": "Tripura",
         "marker": {
          "color": "#ab63fa",
          "pattern": {
           "shape": ""
          }
         },
         "name": "Tripura",
         "orientation": "v",
         "showlegend": true,
         "textposition": "auto",
         "type": "bar",
         "x": [
          "Tripura"
         ],
         "xaxis": "x",
         "y": {
          "_inputArray": {
           "0": 25.055,
           "bdata": "rkfhehQOOUA=",
           "dtype": "f8",
           "shape": "1"
          },
          "bdata": "rkfhehQOOUA=",
          "dtype": "f8"
         },
         "yaxis": "y"
        },
        {
         "hovertemplate": "state=%{x}<br>estimated unemployment rate=%{y}<extra></extra>",
         "legendgroup": "Uttar Pradesh",
         "marker": {
          "color": "#FFA15A",
          "pattern": {
           "shape": ""
          }
         },
         "name": "Uttar Pradesh",
         "orientation": "v",
         "showlegend": true,
         "textposition": "auto",
         "type": "bar",
         "x": [
          "Uttar Pradesh"
         ],
         "xaxis": "x",
         "y": {
          "_inputArray": {
           "0": 9.737,
           "bdata": "001iEFh5I0A=",
           "dtype": "f8",
           "shape": "1"
          },
          "bdata": "001iEFh5I0A=",
          "dtype": "f8"
         },
         "yaxis": "y"
        },
        {
         "hovertemplate": "state=%{x}<br>estimated unemployment rate=%{y}<extra></extra>",
         "legendgroup": "Uttarakhand",
         "marker": {
          "color": "#19d3f3",
          "pattern": {
           "shape": ""
          }
         },
         "name": "Uttarakhand",
         "orientation": "v",
         "showlegend": true,
         "textposition": "auto",
         "type": "bar",
         "x": [
          "Uttarakhand"
         ],
         "xaxis": "x",
         "y": {
          "_inputArray": {
           "0": 11.156,
           "bdata": "HVpkO99PJkA=",
           "dtype": "f8",
           "shape": "1"
          },
          "bdata": "HVpkO99PJkA=",
          "dtype": "f8"
         },
         "yaxis": "y"
        },
        {
         "hovertemplate": "state=%{x}<br>estimated unemployment rate=%{y}<extra></extra>",
         "legendgroup": "West Bengal",
         "marker": {
          "color": "#FF6692",
          "pattern": {
           "shape": ""
          }
         },
         "name": "West Bengal",
         "orientation": "v",
         "showlegend": true,
         "textposition": "auto",
         "type": "bar",
         "x": [
          "West Bengal"
         ],
         "xaxis": "x",
         "y": {
          "_inputArray": {
           "0": 10.192,
           "bdata": "/Knx0k1iJEA=",
           "dtype": "f8",
           "shape": "1"
          },
          "bdata": "/Knx0k1iJEA=",
          "dtype": "f8"
         },
         "yaxis": "y"
        }
       ],
       "layout": {
        "autosize": true,
        "barmode": "relative",
        "legend": {
         "title": {
          "text": "state"
         },
         "tracegroupgap": 0
        },
        "template": {
         "data": {
          "bar": [
           {
            "error_x": {
             "color": "#2a3f5f"
            },
            "error_y": {
             "color": "#2a3f5f"
            },
            "marker": {
             "line": {
              "color": "#E5ECF6",
              "width": 0.5
             },
             "pattern": {
              "fillmode": "overlay",
              "size": 10,
              "solidity": 0.2
             }
            },
            "type": "bar"
           }
          ],
          "barpolar": [
           {
            "marker": {
             "line": {
              "color": "#E5ECF6",
              "width": 0.5
             },
             "pattern": {
              "fillmode": "overlay",
              "size": 10,
              "solidity": 0.2
             }
            },
            "type": "barpolar"
           }
          ],
          "carpet": [
           {
            "aaxis": {
             "endlinecolor": "#2a3f5f",
             "gridcolor": "white",
             "linecolor": "white",
             "minorgridcolor": "white",
             "startlinecolor": "#2a3f5f"
            },
            "baxis": {
             "endlinecolor": "#2a3f5f",
             "gridcolor": "white",
             "linecolor": "white",
             "minorgridcolor": "white",
             "startlinecolor": "#2a3f5f"
            },
            "type": "carpet"
           }
          ],
          "choropleth": [
           {
            "colorbar": {
             "outlinewidth": 0,
             "ticks": ""
            },
            "type": "choropleth"
           }
          ],
          "contour": [
           {
            "colorbar": {
             "outlinewidth": 0,
             "ticks": ""
            },
            "colorscale": [
             [
              0,
              "#0d0887"
             ],
             [
              0.1111111111111111,
              "#46039f"
             ],
             [
              0.2222222222222222,
              "#7201a8"
             ],
             [
              0.3333333333333333,
              "#9c179e"
             ],
             [
              0.4444444444444444,
              "#bd3786"
             ],
             [
              0.5555555555555556,
              "#d8576b"
             ],
             [
              0.6666666666666666,
              "#ed7953"
             ],
             [
              0.7777777777777778,
              "#fb9f3a"
             ],
             [
              0.8888888888888888,
              "#fdca26"
             ],
             [
              1,
              "#f0f921"
             ]
            ],
            "type": "contour"
           }
          ],
          "contourcarpet": [
           {
            "colorbar": {
             "outlinewidth": 0,
             "ticks": ""
            },
            "type": "contourcarpet"
           }
          ],
          "heatmap": [
           {
            "colorbar": {
             "outlinewidth": 0,
             "ticks": ""
            },
            "colorscale": [
             [
              0,
              "#0d0887"
             ],
             [
              0.1111111111111111,
              "#46039f"
             ],
             [
              0.2222222222222222,
              "#7201a8"
             ],
             [
              0.3333333333333333,
              "#9c179e"
             ],
             [
              0.4444444444444444,
              "#bd3786"
             ],
             [
              0.5555555555555556,
              "#d8576b"
             ],
             [
              0.6666666666666666,
              "#ed7953"
             ],
             [
              0.7777777777777778,
              "#fb9f3a"
             ],
             [
              0.8888888888888888,
              "#fdca26"
             ],
             [
              1,
              "#f0f921"
             ]
            ],
            "type": "heatmap"
           }
          ],
          "histogram": [
           {
            "marker": {
             "pattern": {
              "fillmode": "overlay",
              "size": 10,
              "solidity": 0.2
             }
            },
            "type": "histogram"
           }
          ],
          "histogram2d": [
           {
            "colorbar": {
             "outlinewidth": 0,
             "ticks": ""
            },
            "colorscale": [
             [
              0,
              "#0d0887"
             ],
             [
              0.1111111111111111,
              "#46039f"
             ],
             [
              0.2222222222222222,
              "#7201a8"
             ],
             [
              0.3333333333333333,
              "#9c179e"
             ],
             [
              0.4444444444444444,
              "#bd3786"
             ],
             [
              0.5555555555555556,
              "#d8576b"
             ],
             [
              0.6666666666666666,
              "#ed7953"
             ],
             [
              0.7777777777777778,
              "#fb9f3a"
             ],
             [
              0.8888888888888888,
              "#fdca26"
             ],
             [
              1,
              "#f0f921"
             ]
            ],
            "type": "histogram2d"
           }
          ],
          "histogram2dcontour": [
           {
            "colorbar": {
             "outlinewidth": 0,
             "ticks": ""
            },
            "colorscale": [
             [
              0,
              "#0d0887"
             ],
             [
              0.1111111111111111,
              "#46039f"
             ],
             [
              0.2222222222222222,
              "#7201a8"
             ],
             [
              0.3333333333333333,
              "#9c179e"
             ],
             [
              0.4444444444444444,
              "#bd3786"
             ],
             [
              0.5555555555555556,
              "#d8576b"
             ],
             [
              0.6666666666666666,
              "#ed7953"
             ],
             [
              0.7777777777777778,
              "#fb9f3a"
             ],
             [
              0.8888888888888888,
              "#fdca26"
             ],
             [
              1,
              "#f0f921"
             ]
            ],
            "type": "histogram2dcontour"
           }
          ],
          "mesh3d": [
           {
            "colorbar": {
             "outlinewidth": 0,
             "ticks": ""
            },
            "type": "mesh3d"
           }
          ],
          "parcoords": [
           {
            "line": {
             "colorbar": {
              "outlinewidth": 0,
              "ticks": ""
             }
            },
            "type": "parcoords"
           }
          ],
          "pie": [
           {
            "automargin": true,
            "type": "pie"
           }
          ],
          "scatter": [
           {
            "fillpattern": {
             "fillmode": "overlay",
             "size": 10,
             "solidity": 0.2
            },
            "type": "scatter"
           }
          ],
          "scatter3d": [
           {
            "line": {
             "colorbar": {
              "outlinewidth": 0,
              "ticks": ""
             }
            },
            "marker": {
             "colorbar": {
              "outlinewidth": 0,
              "ticks": ""
             }
            },
            "type": "scatter3d"
           }
          ],
          "scattercarpet": [
           {
            "marker": {
             "colorbar": {
              "outlinewidth": 0,
              "ticks": ""
             }
            },
            "type": "scattercarpet"
           }
          ],
          "scattergeo": [
           {
            "marker": {
             "colorbar": {
              "outlinewidth": 0,
              "ticks": ""
             }
            },
            "type": "scattergeo"
           }
          ],
          "scattergl": [
           {
            "marker": {
             "colorbar": {
              "outlinewidth": 0,
              "ticks": ""
             }
            },
            "type": "scattergl"
           }
          ],
          "scattermap": [
           {
            "marker": {
             "colorbar": {
              "outlinewidth": 0,
              "ticks": ""
             }
            },
            "type": "scattermap"
           }
          ],
          "scattermapbox": [
           {
            "marker": {
             "colorbar": {
              "outlinewidth": 0,
              "ticks": ""
             }
            },
            "type": "scattermapbox"
           }
          ],
          "scatterpolar": [
           {
            "marker": {
             "colorbar": {
              "outlinewidth": 0,
              "ticks": ""
             }
            },
            "type": "scatterpolar"
           }
          ],
          "scatterpolargl": [
           {
            "marker": {
             "colorbar": {
              "outlinewidth": 0,
              "ticks": ""
             }
            },
            "type": "scatterpolargl"
           }
          ],
          "scatterternary": [
           {
            "marker": {
             "colorbar": {
              "outlinewidth": 0,
              "ticks": ""
             }
            },
            "type": "scatterternary"
           }
          ],
          "surface": [
           {
            "colorbar": {
             "outlinewidth": 0,
             "ticks": ""
            },
            "colorscale": [
             [
              0,
              "#0d0887"
             ],
             [
              0.1111111111111111,
              "#46039f"
             ],
             [
              0.2222222222222222,
              "#7201a8"
             ],
             [
              0.3333333333333333,
              "#9c179e"
             ],
             [
              0.4444444444444444,
              "#bd3786"
             ],
             [
              0.5555555555555556,
              "#d8576b"
             ],
             [
              0.6666666666666666,
              "#ed7953"
             ],
             [
              0.7777777777777778,
              "#fb9f3a"
             ],
             [
              0.8888888888888888,
              "#fdca26"
             ],
             [
              1,
              "#f0f921"
             ]
            ],
            "type": "surface"
           }
          ],
          "table": [
           {
            "cells": {
             "fill": {
              "color": "#EBF0F8"
             },
             "line": {
              "color": "white"
             }
            },
            "header": {
             "fill": {
              "color": "#C8D4E3"
             },
             "line": {
              "color": "white"
             }
            },
            "type": "table"
           }
          ]
         },
         "layout": {
          "annotationdefaults": {
           "arrowcolor": "#2a3f5f",
           "arrowhead": 0,
           "arrowwidth": 1
          },
          "autotypenumbers": "strict",
          "coloraxis": {
           "colorbar": {
            "outlinewidth": 0,
            "ticks": ""
           }
          },
          "colorscale": {
           "diverging": [
            [
             0,
             "#8e0152"
            ],
            [
             0.1,
             "#c51b7d"
            ],
            [
             0.2,
             "#de77ae"
            ],
            [
             0.3,
             "#f1b6da"
            ],
            [
             0.4,
             "#fde0ef"
            ],
            [
             0.5,
             "#f7f7f7"
            ],
            [
             0.6,
             "#e6f5d0"
            ],
            [
             0.7,
             "#b8e186"
            ],
            [
             0.8,
             "#7fbc41"
            ],
            [
             0.9,
             "#4d9221"
            ],
            [
             1,
             "#276419"
            ]
           ],
           "sequential": [
            [
             0,
             "#0d0887"
            ],
            [
             0.1111111111111111,
             "#46039f"
            ],
            [
             0.2222222222222222,
             "#7201a8"
            ],
            [
             0.3333333333333333,
             "#9c179e"
            ],
            [
             0.4444444444444444,
             "#bd3786"
            ],
            [
             0.5555555555555556,
             "#d8576b"
            ],
            [
             0.6666666666666666,
             "#ed7953"
            ],
            [
             0.7777777777777778,
             "#fb9f3a"
            ],
            [
             0.8888888888888888,
             "#fdca26"
            ],
            [
             1,
             "#f0f921"
            ]
           ],
           "sequentialminus": [
            [
             0,
             "#0d0887"
            ],
            [
             0.1111111111111111,
             "#46039f"
            ],
            [
             0.2222222222222222,
             "#7201a8"
            ],
            [
             0.3333333333333333,
             "#9c179e"
            ],
            [
             0.4444444444444444,
             "#bd3786"
            ],
            [
             0.5555555555555556,
             "#d8576b"
            ],
            [
             0.6666666666666666,
             "#ed7953"
            ],
            [
             0.7777777777777778,
             "#fb9f3a"
            ],
            [
             0.8888888888888888,
             "#fdca26"
            ],
            [
             1,
             "#f0f921"
            ]
           ]
          },
          "colorway": [
           "#636efa",
           "#EF553B",
           "#00cc96",
           "#ab63fa",
           "#FFA15A",
           "#19d3f3",
           "#FF6692",
           "#B6E880",
           "#FF97FF",
           "#FECB52"
          ],
          "font": {
           "color": "#2a3f5f"
          },
          "geo": {
           "bgcolor": "white",
           "lakecolor": "white",
           "landcolor": "#E5ECF6",
           "showlakes": true,
           "showland": true,
           "subunitcolor": "white"
          },
          "hoverlabel": {
           "align": "left"
          },
          "hovermode": "closest",
          "mapbox": {
           "style": "light"
          },
          "paper_bgcolor": "white",
          "plot_bgcolor": "#E5ECF6",
          "polar": {
           "angularaxis": {
            "gridcolor": "white",
            "linecolor": "white",
            "ticks": ""
           },
           "bgcolor": "#E5ECF6",
           "radialaxis": {
            "gridcolor": "white",
            "linecolor": "white",
            "ticks": ""
           }
          },
          "scene": {
           "xaxis": {
            "backgroundcolor": "#E5ECF6",
            "gridcolor": "white",
            "gridwidth": 2,
            "linecolor": "white",
            "showbackground": true,
            "ticks": "",
            "zerolinecolor": "white"
           },
           "yaxis": {
            "backgroundcolor": "#E5ECF6",
            "gridcolor": "white",
            "gridwidth": 2,
            "linecolor": "white",
            "showbackground": true,
            "ticks": "",
            "zerolinecolor": "white"
           },
           "zaxis": {
            "backgroundcolor": "#E5ECF6",
            "gridcolor": "white",
            "gridwidth": 2,
            "linecolor": "white",
            "showbackground": true,
            "ticks": "",
            "zerolinecolor": "white"
           }
          },
          "shapedefaults": {
           "line": {
            "color": "#2a3f5f"
           }
          },
          "ternary": {
           "aaxis": {
            "gridcolor": "white",
            "linecolor": "white",
            "ticks": ""
           },
           "baxis": {
            "gridcolor": "white",
            "linecolor": "white",
            "ticks": ""
           },
           "bgcolor": "#E5ECF6",
           "caxis": {
            "gridcolor": "white",
            "linecolor": "white",
            "ticks": ""
           }
          },
          "title": {
           "x": 0.05
          },
          "xaxis": {
           "automargin": true,
           "gridcolor": "white",
           "linecolor": "white",
           "ticks": "",
           "title": {
            "standoff": 15
           },
           "zerolinecolor": "white",
           "zerolinewidth": 2
          },
          "yaxis": {
           "automargin": true,
           "gridcolor": "white",
           "linecolor": "white",
           "ticks": "",
           "title": {
            "standoff": 15
           },
           "zerolinecolor": "white",
           "zerolinewidth": 2
          }
         }
        },
        "title": {
         "text": "Average Unemployment Rate (State)"
        },
        "xaxis": {
         "anchor": "y",
         "autorange": true,
         "categoryarray": [
          "Andhra Pradesh",
          "Assam",
          "Bihar",
          "Chhattisgarh",
          "Delhi",
          "Goa",
          "Gujarat",
          "Haryana",
          "Himachal Pradesh",
          "Jammu & Kashmir",
          "Jharkhand",
          "Karnataka",
          "Kerala",
          "Madhya Pradesh",
          "Maharashtra",
          "Meghalaya",
          "Odisha",
          "Puducherry",
          "Punjab",
          "Rajasthan",
          "Sikkim",
          "Tamil Nadu",
          "Telangana",
          "Tripura",
          "Uttar Pradesh",
          "Uttarakhand",
          "West Bengal"
         ],
         "categoryorder": "total descending",
         "domain": [
          0,
          1
         ],
         "range": [
          -0.5,
          26.5
         ],
         "title": {
          "text": "state"
         },
         "type": "category"
        },
        "yaxis": {
         "anchor": "x",
         "autorange": true,
         "domain": [
          0,
          1
         ],
         "range": [
          0,
          28.92315789473684
         ],
         "title": {
          "text": "estimated unemployment rate"
         },
         "type": "linear"
        }
       }
      },
      "image/png": "[encoded data removed]"
     },
     "metadata": {},
     "output_type": "display_data"
    }
   ],
   "source": [
    "# Create the bar plot\n",
    "fig = px.bar(\n",
    "    state,\n",
    "    x='state',\n",
    "    y='estimated unemployment rate',\n",
    "    color='state',\n",
    "    title='Average Unemployment Rate (State)'\n",
    ")\n",
    "\n",
    "# Order bars in descending order\n",
    "fig.update_layout(xaxis={'categoryorder': 'total descending'})\n",
    "\n",
    "# Show plot in Jupyter\n",
    "fig.show()\n",
    "\n",
    "# Save as image for GitHub README\n",
    "fig.write_image(\"average_unemployment_rate.png\")"
   ]
  },
  {
   "cell_type": "markdown",
   "id": "066f0a05-4e9a-480d-aa82-ff7b423ada57",
   "metadata": {},
   "source": [
    "Haryana and Tripura were having the highest average amount of Unemployment rate\n",
    "\n",
    "Meghalaya was having the lowest average amount of Unemployment rate"
   ]
  },
  {
   "cell_type": "code",
   "execution_count": 25,
   "id": "9f61b694-91ad-439a-a063-6f1f328dba89",
   "metadata": {},
   "outputs": [
    {
     "data": {
      "application/vnd.plotly.v1+json": {
       "config": {
        "plotlyServerURL": "https://plot.ly"
       },
       "data": [
        {
         "hovertemplate": "state=%{x}<br>month=Jan<br>estimated unemployment rate=%{y}<extra></extra>",
         "legendgroup": "Andhra Pradesh",
         "marker": {
          "color": "#636efa",
          "pattern": {
           "shape": ""
          }
         },
         "name": "Andhra Pradesh",
         "orientation": "v",
         "showlegend": true,
         "textposition": "auto",
         "type": "bar",
         "x": [
          "Andhra Pradesh"
         ],
         "xaxis": "x",
         "y": {
          "_inputArray": {
           "0": 5.48,
           "bdata": "7FG4HoXrFUA=",
           "dtype": "f8",
           "shape": "1"
          },
          "bdata": "7FG4HoXrFUA=",
          "dtype": "f8"
         },
         "yaxis": "y"
        },
        {
         "hovertemplate": "state=%{x}<br>month=Jan<br>estimated unemployment rate=%{y}<extra></extra>",
         "legendgroup": "Assam",
         "marker": {
          "color": "#EF553B",
          "pattern": {
           "shape": ""
          }
         },
         "name": "Assam",
         "orientation": "v",
         "showlegend": true,
         "textposition": "auto",
         "type": "bar",
         "x": [
          "Assam"
         ],
         "xaxis": "x",
         "y": {
          "_inputArray": {
           "0": 4.66,
           "bdata": "pHA9CtejEkA=",
           "dtype": "f8",
           "shape": "1"
          },
          "bdata": "pHA9CtejEkA=",
          "dtype": "f8"
         },
         "yaxis": "y"
        },
        {
         "hovertemplate": "state=%{x}<br>month=Jan<br>estimated unemployment rate=%{y}<extra></extra>",
         "legendgroup": "Bihar",
         "marker": {
          "color": "#00cc96",
          "pattern": {
           "shape": ""
          }
         },
         "name": "Bihar",
         "orientation": "v",
         "showlegend": true,
         "textposition": "auto",
         "type": "bar",
         "x": [
          "Bihar"
         ],
         "xaxis": "x",
         "y": {
          "_inputArray": {
           "0": 10.61,
           "bdata": "uB6F61E4JUA=",
           "dtype": "f8",
           "shape": "1"
          },
          "bdata": "uB6F61E4JUA=",
          "dtype": "f8"
         },
         "yaxis": "y"
        },
        {
         "hovertemplate": "state=%{x}<br>month=Jan<br>estimated unemployment rate=%{y}<extra></extra>",
         "legendgroup": "Chhattisgarh",
         "marker": {
          "color": "#ab63fa",
          "pattern": {
           "shape": ""
          }
         },
         "name": "Chhattisgarh",
         "orientation": "v",
         "showlegend": true,
         "textposition": "auto",
         "type": "bar",
         "x": [
          "Chhattisgarh"
         ],
         "xaxis": "x",
         "y": {
          "_inputArray": {
           "0": 9.65,
           "bdata": "zczMzMxMI0A=",
           "dtype": "f8",
           "shape": "1"
          },
          "bdata": "zczMzMxMI0A=",
          "dtype": "f8"
         },
         "yaxis": "y"
        },
        {
         "hovertemplate": "state=%{x}<br>month=Jan<br>estimated unemployment rate=%{y}<extra></extra>",
         "legendgroup": "Delhi",
         "marker": {
          "color": "#FFA15A",
          "pattern": {
           "shape": ""
          }
         },
         "name": "Delhi",
         "orientation": "v",
         "showlegend": true,
         "textposition": "auto",
         "type": "bar",
         "x": [
          "Delhi"
         ],
         "xaxis": "x",
         "y": {
          "_inputArray": {
           "0": 22.23,
           "bdata": "exSuR+E6NkA=",
           "dtype": "f8",
           "shape": "1"
          },
          "bdata": "exSuR+E6NkA=",
          "dtype": "f8"
         },
         "yaxis": "y"
        },
        {
         "hovertemplate": "state=%{x}<br>month=Jan<br>estimated unemployment rate=%{y}<extra></extra>",
         "legendgroup": "Goa",
         "marker": {
          "color": "#19d3f3",
          "pattern": {
           "shape": ""
          }
         },
         "name": "Goa",
         "orientation": "v",
         "showlegend": true,
         "textposition": "auto",
         "type": "bar",
         "x": [
          "Goa"
         ],
         "xaxis": "x",
         "y": {
          "_inputArray": {
           "0": 8.89,
           "bdata": "SOF6FK7HIUA=",
           "dtype": "f8",
           "shape": "1"
          },
          "bdata": "SOF6FK7HIUA=",
          "dtype": "f8"
         },
         "yaxis": "y"
        },
        {
         "hovertemplate": "state=%{x}<br>month=Jan<br>estimated unemployment rate=%{y}<extra></extra>",
         "legendgroup": "Gujarat",
         "marker": {
          "color": "#FF6692",
          "pattern": {
           "shape": ""
          }
         },
         "name": "Gujarat",
         "orientation": "v",
         "showlegend": true,
         "textposition": "auto",
         "type": "bar",
         "x": [
          "Gujarat"
         ],
         "xaxis": "x",
         "y": {
          "_inputArray": {
           "0": 5.54,
           "bdata": "KVyPwvUoFkA=",
           "dtype": "f8",
           "shape": "1"
          },
          "bdata": "KVyPwvUoFkA=",
          "dtype": "f8"
         },
         "yaxis": "y"
        },
        {
         "hovertemplate": "state=%{x}<br>month=Jan<br>estimated unemployment rate=%{y}<extra></extra>",
         "legendgroup": "Haryana",
         "marker": {
          "color": "#B6E880",
          "pattern": {
           "shape": ""
          }
         },
         "name": "Haryana",
         "orientation": "v",
         "showlegend": true,
         "textposition": "auto",
         "type": "bar",
         "x": [
          "Haryana"
         ],
         "xaxis": "x",
         "y": {
          "_inputArray": {
           "0": 20.34,
           "bdata": "16NwPQpXNEA=",
           "dtype": "f8",
           "shape": "1"
          },
          "bdata": "16NwPQpXNEA=",
          "dtype": "f8"
         },
         "yaxis": "y"
        },
        {
         "hovertemplate": "state=%{x}<br>month=Jan<br>estimated unemployment rate=%{y}<extra></extra>",
         "legendgroup": "Himachal Pradesh",
         "marker": {
          "color": "#FF97FF",
          "pattern": {
           "shape": ""
          }
         },
         "name": "Himachal Pradesh",
         "orientation": "v",
         "showlegend": true,
         "textposition": "auto",
         "type": "bar",
         "x": [
          "Himachal Pradesh"
         ],
         "xaxis": "x",
         "y": {
          "_inputArray": {
           "0": 16.83,
           "bdata": "FK5H4XrUMEA=",
           "dtype": "f8",
           "shape": "1"
          },
          "bdata": "FK5H4XrUMEA=",
          "dtype": "f8"
         },
         "yaxis": "y"
        },
        {
         "hovertemplate": "state=%{x}<br>month=Jan<br>estimated unemployment rate=%{y}<extra></extra>",
         "legendgroup": "Jammu & Kashmir",
         "marker": {
          "color": "#FECB52",
          "pattern": {
           "shape": ""
          }
         },
         "name": "Jammu & Kashmir",
         "orientation": "v",
         "showlegend": true,
         "textposition": "auto",
         "type": "bar",
         "x": [
          "Jammu & Kashmir"
         ],
         "xaxis": "x",
         "y": {
          "_inputArray": {
           "0": 21.08,
           "bdata": "FK5H4XoUNUA=",
           "dtype": "f8",
           "shape": "1"
          },
          "bdata": "FK5H4XoUNUA=",
          "dtype": "f8"
         },
         "yaxis": "y"
        },
        {
         "hovertemplate": "state=%{x}<br>month=Jan<br>estimated unemployment rate=%{y}<extra></extra>",
         "legendgroup": "Jharkhand",
         "marker": {
          "color": "#636efa",
          "pattern": {
           "shape": ""
          }
         },
         "name": "Jharkhand",
         "orientation": "v",
         "showlegend": true,
         "textposition": "auto",
         "type": "bar",
         "x": [
          "Jharkhand"
         ],
         "xaxis": "x",
         "y": {
          "_inputArray": {
           "0": 10.61,
           "bdata": "uB6F61E4JUA=",
           "dtype": "f8",
           "shape": "1"
          },
          "bdata": "uB6F61E4JUA=",
          "dtype": "f8"
         },
         "yaxis": "y"
        },
        {
         "hovertemplate": "state=%{x}<br>month=Jan<br>estimated unemployment rate=%{y}<extra></extra>",
         "legendgroup": "Karnataka",
         "marker": {
          "color": "#EF553B",
          "pattern": {
           "shape": ""
          }
         },
         "name": "Karnataka",
         "orientation": "v",
         "showlegend": true,
         "textposition": "auto",
         "type": "bar",
         "x": [
          "Karnataka"
         ],
         "xaxis": "x",
         "y": {
          "_inputArray": {
           "0": 2.86,
           "bdata": "4XoUrkfhBkA=",
           "dtype": "f8",
           "shape": "1"
          },
          "bdata": "4XoUrkfhBkA=",
          "dtype": "f8"
         },
         "yaxis": "y"
        },
        {
         "hovertemplate": "state=%{x}<br>month=Jan<br>estimated unemployment rate=%{y}<extra></extra>",
         "legendgroup": "Kerala",
         "marker": {
          "color": "#00cc96",
          "pattern": {
           "shape": ""
          }
         },
         "name": "Kerala",
         "orientation": "v",
         "showlegend": true,
         "textposition": "auto",
         "type": "bar",
         "x": [
          "Kerala"
         ],
         "xaxis": "x",
         "y": {
          "_inputArray": {
           "0": 5.31,
           "bdata": "PQrXo3A9FUA=",
           "dtype": "f8",
           "shape": "1"
          },
          "bdata": "PQrXo3A9FUA=",
          "dtype": "f8"
         },
         "yaxis": "y"
        },
        {
         "hovertemplate": "state=%{x}<br>month=Jan<br>estimated unemployment rate=%{y}<extra></extra>",
         "legendgroup": "Madhya Pradesh",
         "marker": {
          "color": "#ab63fa",
          "pattern": {
           "shape": ""
          }
         },
         "name": "Madhya Pradesh",
         "orientation": "v",
         "showlegend": true,
         "textposition": "auto",
         "type": "bar",
         "x": [
          "Madhya Pradesh"
         ],
         "xaxis": "x",
         "y": {
          "_inputArray": {
           "0": 4.11,
           "bdata": "cT0K16NwEEA=",
           "dtype": "f8",
           "shape": "1"
          },
          "bdata": "cT0K16NwEEA=",
          "dtype": "f8"
         },
         "yaxis": "y"
        },
        {
         "hovertemplate": "state=%{x}<br>month=Jan<br>estimated unemployment rate=%{y}<extra></extra>",
         "legendgroup": "Maharashtra",
         "marker": {
          "color": "#FFA15A",
          "pattern": {
           "shape": ""
          }
         },
         "name": "Maharashtra",
         "orientation": "v",
         "showlegend": true,
         "textposition": "auto",
         "type": "bar",
         "x": [
          "Maharashtra"
         ],
         "xaxis": "x",
         "y": {
          "_inputArray": {
           "0": 4.95,
           "bdata": "zczMzMzME0A=",
           "dtype": "f8",
           "shape": "1"
          },
          "bdata": "zczMzMzME0A=",
          "dtype": "f8"
         },
         "yaxis": "y"
        },
        {
         "hovertemplate": "state=%{x}<br>month=Jan<br>estimated unemployment rate=%{y}<extra></extra>",
         "legendgroup": "Meghalaya",
         "marker": {
          "color": "#19d3f3",
          "pattern": {
           "shape": ""
          }
         },
         "name": "Meghalaya",
         "orientation": "v",
         "showlegend": true,
         "textposition": "auto",
         "type": "bar",
         "x": [
          "Meghalaya"
         ],
         "xaxis": "x",
         "y": {
          "_inputArray": {
           "0": 1.66,
           "bdata": "j8L1KFyP+j8=",
           "dtype": "f8",
           "shape": "1"
          },
          "bdata": "j8L1KFyP+j8=",
          "dtype": "f8"
         },
         "yaxis": "y"
        },
        {
         "hovertemplate": "state=%{x}<br>month=Jan<br>estimated unemployment rate=%{y}<extra></extra>",
         "legendgroup": "Odisha",
         "marker": {
          "color": "#FF6692",
          "pattern": {
           "shape": ""
          }
         },
         "name": "Odisha",
         "orientation": "v",
         "showlegend": true,
         "textposition": "auto",
         "type": "bar",
         "x": [
          "Odisha"
         ],
         "xaxis": "x",
         "y": {
          "_inputArray": {
           "0": 1.9,
           "bdata": "ZmZmZmZm/j8=",
           "dtype": "f8",
           "shape": "1"
          },
          "bdata": "ZmZmZmZm/j8=",
          "dtype": "f8"
         },
         "yaxis": "y"
        },
        {
         "hovertemplate": "state=%{x}<br>month=Jan<br>estimated unemployment rate=%{y}<extra></extra>",
         "legendgroup": "Puducherry",
         "marker": {
          "color": "#B6E880",
          "pattern": {
           "shape": ""
          }
         },
         "name": "Puducherry",
         "orientation": "v",
         "showlegend": true,
         "textposition": "auto",
         "type": "bar",
         "x": [
          "Puducherry"
         ],
         "xaxis": "x",
         "y": {
          "_inputArray": {
           "0": 0.58,
           "bdata": "j8L1KFyP4j8=",
           "dtype": "f8",
           "shape": "1"
          },
          "bdata": "j8L1KFyP4j8=",
          "dtype": "f8"
         },
         "yaxis": "y"
        },
        {
         "hovertemplate": "state=%{x}<br>month=Jan<br>estimated unemployment rate=%{y}<extra></extra>",
         "legendgroup": "Punjab",
         "marker": {
          "color": "#FF97FF",
          "pattern": {
           "shape": ""
          }
         },
         "name": "Punjab",
         "orientation": "v",
         "showlegend": true,
         "textposition": "auto",
         "type": "bar",
         "x": [
          "Punjab"
         ],
         "xaxis": "x",
         "y": {
          "_inputArray": {
           "0": 11.11,
           "bdata": "uB6F61E4JkA=",
           "dtype": "f8",
           "shape": "1"
          },
          "bdata": "uB6F61E4JkA=",
          "dtype": "f8"
         },
         "yaxis": "y"
        },
        {
         "hovertemplate": "state=%{x}<br>month=Jan<br>estimated unemployment rate=%{y}<extra></extra>",
         "legendgroup": "Rajasthan",
         "marker": {
          "color": "#FECB52",
          "pattern": {
           "shape": ""
          }
         },
         "name": "Rajasthan",
         "orientation": "v",
         "showlegend": true,
         "textposition": "auto",
         "type": "bar",
         "x": [
          "Rajasthan"
         ],
         "xaxis": "x",
         "y": {
          "_inputArray": {
           "0": 10.97,
           "bdata": "cT0K16PwJUA=",
           "dtype": "f8",
           "shape": "1"
          },
          "bdata": "cT0K16PwJUA=",
          "dtype": "f8"
         },
         "yaxis": "y"
        },
        {
         "hovertemplate": "state=%{x}<br>month=Jan<br>estimated unemployment rate=%{y}<extra></extra>",
         "legendgroup": "Tamil Nadu",
         "marker": {
          "color": "#EF553B",
          "pattern": {
           "shape": ""
          }
         },
         "name": "Tamil Nadu",
         "orientation": "v",
         "showlegend": true,
         "textposition": "auto",
         "type": "bar",
         "x": [
          "Tamil Nadu"
         ],
         "xaxis": "x",
         "y": {
          "_inputArray": {
           "0": 1.57,
           "bdata": "H4XrUbge+T8=",
           "dtype": "f8",
           "shape": "1"
          },
          "bdata": "H4XrUbge+T8=",
          "dtype": "f8"
         },
         "yaxis": "y"
        },
        {
         "hovertemplate": "state=%{x}<br>month=Jan<br>estimated unemployment rate=%{y}<extra></extra>",
         "legendgroup": "Telangana",
         "marker": {
          "color": "#00cc96",
          "pattern": {
           "shape": ""
          }
         },
         "name": "Telangana",
         "orientation": "v",
         "showlegend": true,
         "textposition": "auto",
         "type": "bar",
         "x": [
          "Telangana"
         ],
         "xaxis": "x",
         "y": {
          "_inputArray": {
           "0": 5.49,
           "bdata": "9ihcj8L1FUA=",
           "dtype": "f8",
           "shape": "1"
          },
          "bdata": "9ihcj8L1FUA=",
          "dtype": "f8"
         },
         "yaxis": "y"
        },
        {
         "hovertemplate": "state=%{x}<br>month=Jan<br>estimated unemployment rate=%{y}<extra></extra>",
         "legendgroup": "Tripura",
         "marker": {
          "color": "#ab63fa",
          "pattern": {
           "shape": ""
          }
         },
         "name": "Tripura",
         "orientation": "v",
         "showlegend": true,
         "textposition": "auto",
         "type": "bar",
         "x": [
          "Tripura"
         ],
         "xaxis": "x",
         "y": {
          "_inputArray": {
           "0": 32.67,
           "bdata": "9ihcj8JVQEA=",
           "dtype": "f8",
           "shape": "1"
          },
          "bdata": "9ihcj8JVQEA=",
          "dtype": "f8"
         },
         "yaxis": "y"
        },
        {
         "hovertemplate": "state=%{x}<br>month=Jan<br>estimated unemployment rate=%{y}<extra></extra>",
         "legendgroup": "Uttar Pradesh",
         "marker": {
          "color": "#FFA15A",
          "pattern": {
           "shape": ""
          }
         },
         "name": "Uttar Pradesh",
         "orientation": "v",
         "showlegend": true,
         "textposition": "auto",
         "type": "bar",
         "x": [
          "Uttar Pradesh"
         ],
         "xaxis": "x",
         "y": {
          "_inputArray": {
           "0": 7.58,
           "bdata": "UrgehetRHkA=",
           "dtype": "f8",
           "shape": "1"
          },
          "bdata": "UrgehetRHkA=",
          "dtype": "f8"
         },
         "yaxis": "y"
        },
        {
         "hovertemplate": "state=%{x}<br>month=Jan<br>estimated unemployment rate=%{y}<extra></extra>",
         "legendgroup": "Uttarakhand",
         "marker": {
          "color": "#19d3f3",
          "pattern": {
           "shape": ""
          }
         },
         "name": "Uttarakhand",
         "orientation": "v",
         "showlegend": true,
         "textposition": "auto",
         "type": "bar",
         "x": [
          "Uttarakhand"
         ],
         "xaxis": "x",
         "y": {
          "_inputArray": {
           "0": 5.49,
           "bdata": "9ihcj8L1FUA=",
           "dtype": "f8",
           "shape": "1"
          },
          "bdata": "9ihcj8L1FUA=",
          "dtype": "f8"
         },
         "yaxis": "y"
        },
        {
         "hovertemplate": "state=%{x}<br>month=Jan<br>estimated unemployment rate=%{y}<extra></extra>",
         "legendgroup": "West Bengal",
         "marker": {
          "color": "#FF6692",
          "pattern": {
           "shape": ""
          }
         },
         "name": "West Bengal",
         "orientation": "v",
         "showlegend": true,
         "textposition": "auto",
         "type": "bar",
         "x": [
          "West Bengal"
         ],
         "xaxis": "x",
         "y": {
          "_inputArray": {
           "0": 6.94,
           "bdata": "w/UoXI/CG0A=",
           "dtype": "f8",
           "shape": "1"
          },
          "bdata": "w/UoXI/CG0A=",
          "dtype": "f8"
         },
         "yaxis": "y"
        }
       ],
       "frames": [
        {
         "data": [
          {
           "hovertemplate": "state=%{x}<br>month=Jan<br>estimated unemployment rate=%{y}<extra></extra>",
           "legendgroup": "Andhra Pradesh",
           "marker": {
            "color": "#636efa",
            "pattern": {
             "shape": ""
            }
           },
           "name": "Andhra Pradesh",
           "orientation": "v",
           "showlegend": true,
           "textposition": "auto",
           "type": "bar",
           "x": [
            "Andhra Pradesh"
           ],
           "xaxis": "x",
           "y": {
            "bdata": "7FG4HoXrFUA=",
            "dtype": "f8"
           },
           "yaxis": "y"
          },
          {
           "hovertemplate": "state=%{x}<br>month=Jan<br>estimated unemployment rate=%{y}<extra></extra>",
           "legendgroup": "Assam",
           "marker": {
            "color": "#EF553B",
            "pattern": {
             "shape": ""
            }
           },
           "name": "Assam",
           "orientation": "v",
           "showlegend": true,
           "textposition": "auto",
           "type": "bar",
           "x": [
            "Assam"
           ],
           "xaxis": "x",
           "y": {
            "bdata": "pHA9CtejEkA=",
            "dtype": "f8"
           },
           "yaxis": "y"
          },
          {
           "hovertemplate": "state=%{x}<br>month=Jan<br>estimated unemployment rate=%{y}<extra></extra>",
           "legendgroup": "Bihar",
           "marker": {
            "color": "#00cc96",
            "pattern": {
             "shape": ""
            }
           },
           "name": "Bihar",
           "orientation": "v",
           "showlegend": true,
           "textposition": "auto",
           "type": "bar",
           "x": [
            "Bihar"
           ],
           "xaxis": "x",
           "y": {
            "bdata": "uB6F61E4JUA=",
            "dtype": "f8"
           },
           "yaxis": "y"
          },
          {
           "hovertemplate": "state=%{x}<br>month=Jan<br>estimated unemployment rate=%{y}<extra></extra>",
           "legendgroup": "Chhattisgarh",
           "marker": {
            "color": "#ab63fa",
            "pattern": {
             "shape": ""
            }
           },
           "name": "Chhattisgarh",
           "orientation": "v",
           "showlegend": true,
           "textposition": "auto",
           "type": "bar",
           "x": [
            "Chhattisgarh"
           ],
           "xaxis": "x",
           "y": {
            "bdata": "zczMzMxMI0A=",
            "dtype": "f8"
           },
           "yaxis": "y"
          },
          {
           "hovertemplate": "state=%{x}<br>month=Jan<br>estimated unemployment rate=%{y}<extra></extra>",
           "legendgroup": "Delhi",
           "marker": {
            "color": "#FFA15A",
            "pattern": {
             "shape": ""
            }
           },
           "name": "Delhi",
           "orientation": "v",
           "showlegend": true,
           "textposition": "auto",
           "type": "bar",
           "x": [
            "Delhi"
           ],
           "xaxis": "x",
           "y": {
            "bdata": "exSuR+E6NkA=",
            "dtype": "f8"
           },
           "yaxis": "y"
          },
          {
           "hovertemplate": "state=%{x}<br>month=Jan<br>estimated unemployment rate=%{y}<extra></extra>",
           "legendgroup": "Goa",
           "marker": {
            "color": "#19d3f3",
            "pattern": {
             "shape": ""
            }
           },
           "name": "Goa",
           "orientation": "v",
           "showlegend": true,
           "textposition": "auto",
           "type": "bar",
           "x": [
            "Goa"
           ],
           "xaxis": "x",
           "y": {
            "bdata": "SOF6FK7HIUA=",
            "dtype": "f8"
           },
           "yaxis": "y"
          },
          {
           "hovertemplate": "state=%{x}<br>month=Jan<br>estimated unemployment rate=%{y}<extra></extra>",
           "legendgroup": "Gujarat",
           "marker": {
            "color": "#FF6692",
            "pattern": {
             "shape": ""
            }
           },
           "name": "Gujarat",
           "orientation": "v",
           "showlegend": true,
           "textposition": "auto",
           "type": "bar",
           "x": [
            "Gujarat"
           ],
           "xaxis": "x",
           "y": {
            "bdata": "KVyPwvUoFkA=",
            "dtype": "f8"
           },
           "yaxis": "y"
          },
          {
           "hovertemplate": "state=%{x}<br>month=Jan<br>estimated unemployment rate=%{y}<extra></extra>",
           "legendgroup": "Haryana",
           "marker": {
            "color": "#B6E880",
            "pattern": {
             "shape": ""
            }
           },
           "name": "Haryana",
           "orientation": "v",
           "showlegend": true,
           "textposition": "auto",
           "type": "bar",
           "x": [
            "Haryana"
           ],
           "xaxis": "x",
           "y": {
            "bdata": "16NwPQpXNEA=",
            "dtype": "f8"
           },
           "yaxis": "y"
          },
          {
           "hovertemplate": "state=%{x}<br>month=Jan<br>estimated unemployment rate=%{y}<extra></extra>",
           "legendgroup": "Himachal Pradesh",
           "marker": {
            "color": "#FF97FF",
            "pattern": {
             "shape": ""
            }
           },
           "name": "Himachal Pradesh",
           "orientation": "v",
           "showlegend": true,
           "textposition": "auto",
           "type": "bar",
           "x": [
            "Himachal Pradesh"
           ],
           "xaxis": "x",
           "y": {
            "bdata": "FK5H4XrUMEA=",
            "dtype": "f8"
           },
           "yaxis": "y"
          },
          {
           "hovertemplate": "state=%{x}<br>month=Jan<br>estimated unemployment rate=%{y}<extra></extra>",
           "legendgroup": "Jammu & Kashmir",
           "marker": {
            "color": "#FECB52",
            "pattern": {
             "shape": ""
            }
           },
           "name": "Jammu & Kashmir",
           "orientation": "v",
           "showlegend": true,
           "textposition": "auto",
           "type": "bar",
           "x": [
            "Jammu & Kashmir"
           ],
           "xaxis": "x",
           "y": {
            "bdata": "FK5H4XoUNUA=",
            "dtype": "f8"
           },
           "yaxis": "y"
          },
          {
           "hovertemplate": "state=%{x}<br>month=Jan<br>estimated unemployment rate=%{y}<extra></extra>",
           "legendgroup": "Jharkhand",
           "marker": {
            "color": "#636efa",
            "pattern": {
             "shape": ""
            }
           },
           "name": "Jharkhand",
           "orientation": "v",
           "showlegend": true,
           "textposition": "auto",
           "type": "bar",
           "x": [
            "Jharkhand"
           ],
           "xaxis": "x",
           "y": {
            "bdata": "uB6F61E4JUA=",
            "dtype": "f8"
           },
           "yaxis": "y"
          },
          {
           "hovertemplate": "state=%{x}<br>month=Jan<br>estimated unemployment rate=%{y}<extra></extra>",
           "legendgroup": "Karnataka",
           "marker": {
            "color": "#EF553B",
            "pattern": {
             "shape": ""
            }
           },
           "name": "Karnataka",
           "orientation": "v",
           "showlegend": true,
           "textposition": "auto",
           "type": "bar",
           "x": [
            "Karnataka"
           ],
           "xaxis": "x",
           "y": {
            "bdata": "4XoUrkfhBkA=",
            "dtype": "f8"
           },
           "yaxis": "y"
          },
          {
           "hovertemplate": "state=%{x}<br>month=Jan<br>estimated unemployment rate=%{y}<extra></extra>",
           "legendgroup": "Kerala",
           "marker": {
            "color": "#00cc96",
            "pattern": {
             "shape": ""
            }
           },
           "name": "Kerala",
           "orientation": "v",
           "showlegend": true,
           "textposition": "auto",
           "type": "bar",
           "x": [
            "Kerala"
           ],
           "xaxis": "x",
           "y": {
            "bdata": "PQrXo3A9FUA=",
            "dtype": "f8"
           },
           "yaxis": "y"
          },
          {
           "hovertemplate": "state=%{x}<br>month=Jan<br>estimated unemployment rate=%{y}<extra></extra>",
           "legendgroup": "Madhya Pradesh",
           "marker": {
            "color": "#ab63fa",
            "pattern": {
             "shape": ""
            }
           },
           "name": "Madhya Pradesh",
           "orientation": "v",
           "showlegend": true,
           "textposition": "auto",
           "type": "bar",
           "x": [
            "Madhya Pradesh"
           ],
           "xaxis": "x",
           "y": {
            "bdata": "cT0K16NwEEA=",
            "dtype": "f8"
           },
           "yaxis": "y"
          },
          {
           "hovertemplate": "state=%{x}<br>month=Jan<br>estimated unemployment rate=%{y}<extra></extra>",
           "legendgroup": "Maharashtra",
           "marker": {
            "color": "#FFA15A",
            "pattern": {
             "shape": ""
            }
           },
           "name": "Maharashtra",
           "orientation": "v",
           "showlegend": true,
           "textposition": "auto",
           "type": "bar",
           "x": [
            "Maharashtra"
           ],
           "xaxis": "x",
           "y": {
            "bdata": "zczMzMzME0A=",
            "dtype": "f8"
           },
           "yaxis": "y"
          },
          {
           "hovertemplate": "state=%{x}<br>month=Jan<br>estimated unemployment rate=%{y}<extra></extra>",
           "legendgroup": "Meghalaya",
           "marker": {
            "color": "#19d3f3",
            "pattern": {
             "shape": ""
            }
           },
           "name": "Meghalaya",
           "orientation": "v",
           "showlegend": true,
           "textposition": "auto",
           "type": "bar",
           "x": [
            "Meghalaya"
           ],
           "xaxis": "x",
           "y": {
            "bdata": "j8L1KFyP+j8=",
            "dtype": "f8"
           },
           "yaxis": "y"
          },
          {
           "hovertemplate": "state=%{x}<br>month=Jan<br>estimated unemployment rate=%{y}<extra></extra>",
           "legendgroup": "Odisha",
           "marker": {
            "color": "#FF6692",
            "pattern": {
             "shape": ""
            }
           },
           "name": "Odisha",
           "orientation": "v",
           "showlegend": true,
           "textposition": "auto",
           "type": "bar",
           "x": [
            "Odisha"
           ],
           "xaxis": "x",
           "y": {
            "bdata": "ZmZmZmZm/j8=",
            "dtype": "f8"
           },
           "yaxis": "y"
          },
          {
           "hovertemplate": "state=%{x}<br>month=Jan<br>estimated unemployment rate=%{y}<extra></extra>",
           "legendgroup": "Puducherry",
           "marker": {
            "color": "#B6E880",
            "pattern": {
             "shape": ""
            }
           },
           "name": "Puducherry",
           "orientation": "v",
           "showlegend": true,
           "textposition": "auto",
           "type": "bar",
           "x": [
            "Puducherry"
           ],
           "xaxis": "x",
           "y": {
            "bdata": "j8L1KFyP4j8=",
            "dtype": "f8"
           },
           "yaxis": "y"
          },
          {
           "hovertemplate": "state=%{x}<br>month=Jan<br>estimated unemployment rate=%{y}<extra></extra>",
           "legendgroup": "Punjab",
           "marker": {
            "color": "#FF97FF",
            "pattern": {
             "shape": ""
            }
           },
           "name": "Punjab",
           "orientation": "v",
           "showlegend": true,
           "textposition": "auto",
           "type": "bar",
           "x": [
            "Punjab"
           ],
           "xaxis": "x",
           "y": {
            "bdata": "uB6F61E4JkA=",
            "dtype": "f8"
           },
           "yaxis": "y"
          },
          {
           "hovertemplate": "state=%{x}<br>month=Jan<br>estimated unemployment rate=%{y}<extra></extra>",
           "legendgroup": "Rajasthan",
           "marker": {
            "color": "#FECB52",
            "pattern": {
             "shape": ""
            }
           },
           "name": "Rajasthan",
           "orientation": "v",
           "showlegend": true,
           "textposition": "auto",
           "type": "bar",
           "x": [
            "Rajasthan"
           ],
           "xaxis": "x",
           "y": {
            "bdata": "cT0K16PwJUA=",
            "dtype": "f8"
           },
           "yaxis": "y"
          },
          {
           "hovertemplate": "state=%{x}<br>month=Jan<br>estimated unemployment rate=%{y}<extra></extra>",
           "legendgroup": "Tamil Nadu",
           "marker": {
            "color": "#EF553B",
            "pattern": {
             "shape": ""
            }
           },
           "name": "Tamil Nadu",
           "orientation": "v",
           "showlegend": true,
           "textposition": "auto",
           "type": "bar",
           "x": [
            "Tamil Nadu"
           ],
           "xaxis": "x",
           "y": {
            "bdata": "H4XrUbge+T8=",
            "dtype": "f8"
           },
           "yaxis": "y"
          },
          {
           "hovertemplate": "state=%{x}<br>month=Jan<br>estimated unemployment rate=%{y}<extra></extra>",
           "legendgroup": "Telangana",
           "marker": {
            "color": "#00cc96",
            "pattern": {
             "shape": ""
            }
           },
           "name": "Telangana",
           "orientation": "v",
           "showlegend": true,
           "textposition": "auto",
           "type": "bar",
           "x": [
            "Telangana"
           ],
           "xaxis": "x",
           "y": {
            "bdata": "9ihcj8L1FUA=",
            "dtype": "f8"
           },
           "yaxis": "y"
          },
          {
           "hovertemplate": "state=%{x}<br>month=Jan<br>estimated unemployment rate=%{y}<extra></extra>",
           "legendgroup": "Tripura",
           "marker": {
            "color": "#ab63fa",
            "pattern": {
             "shape": ""
            }
           },
           "name": "Tripura",
           "orientation": "v",
           "showlegend": true,
           "textposition": "auto",
           "type": "bar",
           "x": [
            "Tripura"
           ],
           "xaxis": "x",
           "y": {
            "bdata": "9ihcj8JVQEA=",
            "dtype": "f8"
           },
           "yaxis": "y"
          },
          {
           "hovertemplate": "state=%{x}<br>month=Jan<br>estimated unemployment rate=%{y}<extra></extra>",
           "legendgroup": "Uttar Pradesh",
           "marker": {
            "color": "#FFA15A",
            "pattern": {
             "shape": ""
            }
           },
           "name": "Uttar Pradesh",
           "orientation": "v",
           "showlegend": true,
           "textposition": "auto",
           "type": "bar",
           "x": [
            "Uttar Pradesh"
           ],
           "xaxis": "x",
           "y": {
            "bdata": "UrgehetRHkA=",
            "dtype": "f8"
           },
           "yaxis": "y"
          },
          {
           "hovertemplate": "state=%{x}<br>month=Jan<br>estimated unemployment rate=%{y}<extra></extra>",
           "legendgroup": "Uttarakhand",
           "marker": {
            "color": "#19d3f3",
            "pattern": {
             "shape": ""
            }
           },
           "name": "Uttarakhand",
           "orientation": "v",
           "showlegend": true,
           "textposition": "auto",
           "type": "bar",
           "x": [
            "Uttarakhand"
           ],
           "xaxis": "x",
           "y": {
            "bdata": "9ihcj8L1FUA=",
            "dtype": "f8"
           },
           "yaxis": "y"
          },
          {
           "hovertemplate": "state=%{x}<br>month=Jan<br>estimated unemployment rate=%{y}<extra></extra>",
           "legendgroup": "West Bengal",
           "marker": {
            "color": "#FF6692",
            "pattern": {
             "shape": ""
            }
           },
           "name": "West Bengal",
           "orientation": "v",
           "showlegend": true,
           "textposition": "auto",
           "type": "bar",
           "x": [
            "West Bengal"
           ],
           "xaxis": "x",
           "y": {
            "bdata": "w/UoXI/CG0A=",
            "dtype": "f8"
           },
           "yaxis": "y"
          }
         ],
         "name": "Jan"
        },
        {
         "data": [
          {
           "hovertemplate": "state=%{x}<br>month=Feb<br>estimated unemployment rate=%{y}<extra></extra>",
           "legendgroup": "Andhra Pradesh",
           "marker": {
            "color": "#636efa",
            "pattern": {
             "shape": ""
            }
           },
           "name": "Andhra Pradesh",
           "orientation": "v",
           "showlegend": true,
           "textposition": "auto",
           "type": "bar",
           "x": [
            "Andhra Pradesh"
           ],
           "xaxis": "x",
           "y": {
            "bdata": "UrgehetRF0A=",
            "dtype": "f8"
           },
           "yaxis": "y"
          },
          {
           "hovertemplate": "state=%{x}<br>month=Feb<br>estimated unemployment rate=%{y}<extra></extra>",
           "legendgroup": "Assam",
           "marker": {
            "color": "#EF553B",
            "pattern": {
             "shape": ""
            }
           },
           "name": "Assam",
           "orientation": "v",
           "showlegend": true,
           "textposition": "auto",
           "type": "bar",
           "x": [
            "Assam"
           ],
           "xaxis": "x",
           "y": {
            "bdata": "pHA9CtejEUA=",
            "dtype": "f8"
           },
           "yaxis": "y"
          },
          {
           "hovertemplate": "state=%{x}<br>month=Feb<br>estimated unemployment rate=%{y}<extra></extra>",
           "legendgroup": "Bihar",
           "marker": {
            "color": "#00cc96",
            "pattern": {
             "shape": ""
            }
           },
           "name": "Bihar",
           "orientation": "v",
           "showlegend": true,
           "textposition": "auto",
           "type": "bar",
           "x": [
            "Bihar"
           ],
           "xaxis": "x",
           "y": {
            "bdata": "FK5H4XqUJEA=",
            "dtype": "f8"
           },
           "yaxis": "y"
          },
          {
           "hovertemplate": "state=%{x}<br>month=Feb<br>estimated unemployment rate=%{y}<extra></extra>",
           "legendgroup": "Chhattisgarh",
           "marker": {
            "color": "#ab63fa",
            "pattern": {
             "shape": ""
            }
           },
           "name": "Chhattisgarh",
           "orientation": "v",
           "showlegend": true,
           "textposition": "auto",
           "type": "bar",
           "x": [
            "Chhattisgarh"
           ],
           "xaxis": "x",
           "y": {
            "bdata": "w/UoXI/CIEA=",
            "dtype": "f8"
           },
           "yaxis": "y"
          },
          {
           "hovertemplate": "state=%{x}<br>month=Feb<br>estimated unemployment rate=%{y}<extra></extra>",
           "legendgroup": "Delhi",
           "marker": {
            "color": "#FFA15A",
            "pattern": {
             "shape": ""
            }
           },
           "name": "Delhi",
           "orientation": "v",
           "showlegend": true,
           "textposition": "auto",
           "type": "bar",
           "x": [
            "Delhi"
           ],
           "xaxis": "x",
           "y": {
            "bdata": "rkfhehSuLUA=",
            "dtype": "f8"
           },
           "yaxis": "y"
          },
          {
           "hovertemplate": "state=%{x}<br>month=Feb<br>estimated unemployment rate=%{y}<extra></extra>",
           "legendgroup": "Goa",
           "marker": {
            "color": "#19d3f3",
            "pattern": {
             "shape": ""
            }
           },
           "name": "Goa",
           "orientation": "v",
           "showlegend": true,
           "textposition": "auto",
           "type": "bar",
           "x": [
            "Goa"
           ],
           "xaxis": "x",
           "y": {
            "bdata": "exSuR+F6BkA=",
            "dtype": "f8"
           },
           "yaxis": "y"
          },
          {
           "hovertemplate": "state=%{x}<br>month=Feb<br>estimated unemployment rate=%{y}<extra></extra>",
           "legendgroup": "Gujarat",
           "marker": {
            "color": "#FF6692",
            "pattern": {
             "shape": ""
            }
           },
           "name": "Gujarat",
           "orientation": "v",
           "showlegend": true,
           "textposition": "auto",
           "type": "bar",
           "x": [
            "Gujarat"
           ],
           "xaxis": "x",
           "y": {
            "bdata": "hetRuB6FGUA=",
            "dtype": "f8"
           },
           "yaxis": "y"
          },
          {
           "hovertemplate": "state=%{x}<br>month=Feb<br>estimated unemployment rate=%{y}<extra></extra>",
           "legendgroup": "Haryana",
           "marker": {
            "color": "#B6E880",
            "pattern": {
             "shape": ""
            }
           },
           "name": "Haryana",
           "orientation": "v",
           "showlegend": true,
           "textposition": "auto",
           "type": "bar",
           "x": [
            "Haryana"
           ],
           "xaxis": "x",
           "y": {
            "bdata": "hetRuB7FOUA=",
            "dtype": "f8"
           },
           "yaxis": "y"
          },
          {
           "hovertemplate": "state=%{x}<br>month=Feb<br>estimated unemployment rate=%{y}<extra></extra>",
           "legendgroup": "Himachal Pradesh",
           "marker": {
            "color": "#FF97FF",
            "pattern": {
             "shape": ""
            }
           },
           "name": "Himachal Pradesh",
           "orientation": "v",
           "showlegend": true,
           "textposition": "auto",
           "type": "bar",
           "x": [
            "Himachal Pradesh"
           ],
           "xaxis": "x",
           "y": {
            "bdata": "16NwPQrXMEA=",
            "dtype": "f8"
           },
           "yaxis": "y"
          },
          {
           "hovertemplate": "state=%{x}<br>month=Feb<br>estimated unemployment rate=%{y}<extra></extra>",
           "legendgroup": "Jammu & Kashmir",
           "marker": {
            "color": "#FECB52",
            "pattern": {
             "shape": ""
            }
           },
           "name": "Jammu & Kashmir",
           "orientation": "v",
           "showlegend": true,
           "textposition": "auto",
           "type": "bar",
           "x": [
            "Jammu & Kashmir"
           ],
           "xaxis": "x",
           "y": {
            "bdata": "SOF6FK7HNEA=",
            "dtype": "f8"
           },
           "yaxis": "y"
          },
          {
           "hovertemplate": "state=%{x}<br>month=Feb<br>estimated unemployment rate=%{y}<extra></extra>",
           "legendgroup": "Jharkhand",
           "marker": {
            "color": "#636efa",
            "pattern": {
             "shape": ""
            }
           },
           "name": "Jharkhand",
           "orientation": "v",
           "showlegend": true,
           "textposition": "auto",
           "type": "bar",
           "x": [
            "Jharkhand"
           ],
           "xaxis": "x",
           "y": {
            "bdata": "MzMzMzOzJ0A=",
            "dtype": "f8"
           },
           "yaxis": "y"
          },
          {
           "hovertemplate": "state=%{x}<br>month=Feb<br>estimated unemployment rate=%{y}<extra></extra>",
           "legendgroup": "Karnataka",
           "marker": {
            "color": "#EF553B",
            "pattern": {
             "shape": ""
            }
           },
           "name": "Karnataka",
           "orientation": "v",
           "showlegend": true,
           "textposition": "auto",
           "type": "bar",
           "x": [
            "Karnataka"
           ],
           "xaxis": "x",
           "y": {
            "bdata": "4XoUrkfhDEA=",
            "dtype": "f8"
           },
           "yaxis": "y"
          },
          {
           "hovertemplate": "state=%{x}<br>month=Feb<br>estimated unemployment rate=%{y}<extra></extra>",
           "legendgroup": "Kerala",
           "marker": {
            "color": "#00cc96",
            "pattern": {
             "shape": ""
            }
           },
           "name": "Kerala",
           "orientation": "v",
           "showlegend": true,
           "textposition": "auto",
           "type": "bar",
           "x": [
            "Kerala"
           ],
           "xaxis": "x",
           "y": {
            "bdata": "ZmZmZmZmHkA=",
            "dtype": "f8"
           },
           "yaxis": "y"
          },
          {
           "hovertemplate": "state=%{x}<br>month=Feb<br>estimated unemployment rate=%{y}<extra></extra>",
           "legendgroup": "Madhya Pradesh",
           "marker": {
            "color": "#ab63fa",
            "pattern": {
             "shape": ""
            }
           },
           "name": "Madhya Pradesh",
           "orientation": "v",
           "showlegend": true,
           "textposition": "auto",
           "type": "bar",
           "x": [
            "Madhya Pradesh"
           ],
           "xaxis": "x",
           "y": {
            "bdata": "SOF6FK5HEkA=",
            "dtype": "f8"
           },
           "yaxis": "y"
          },
          {
           "hovertemplate": "state=%{x}<br>month=Feb<br>estimated unemployment rate=%{y}<extra></extra>",
           "legendgroup": "Maharashtra",
           "marker": {
            "color": "#FFA15A",
            "pattern": {
             "shape": ""
            }
           },
           "name": "Maharashtra",
           "orientation": "v",
           "showlegend": true,
           "textposition": "auto",
           "type": "bar",
           "x": [
            "Maharashtra"
           ],
           "xaxis": "x",
           "y": {
            "bdata": "w/UoXI/CEkA=",
            "dtype": "f8"
           },
           "yaxis": "y"
          },
          {
           "hovertemplate": "state=%{x}<br>month=Feb<br>estimated unemployment rate=%{y}<extra></extra>",
           "legendgroup": "Meghalaya",
           "marker": {
            "color": "#19d3f3",
            "pattern": {
             "shape": ""
            }
           },
           "name": "Meghalaya",
           "orientation": "v",
           "showlegend": true,
           "textposition": "auto",
           "type": "bar",
           "x": [
            "Meghalaya"
           ],
           "xaxis": "x",
           "y": {
            "bdata": "uB6F61G4DEA=",
            "dtype": "f8"
           },
           "yaxis": "y"
          },
          {
           "hovertemplate": "state=%{x}<br>month=Feb<br>estimated unemployment rate=%{y}<extra></extra>",
           "legendgroup": "Odisha",
           "marker": {
            "color": "#FF6692",
            "pattern": {
             "shape": ""
            }
           },
           "name": "Odisha",
           "orientation": "v",
           "showlegend": true,
           "textposition": "auto",
           "type": "bar",
           "x": [
            "Odisha"
           ],
           "xaxis": "x",
           "y": {
            "bdata": "9ihcj8L1CEA=",
            "dtype": "f8"
           },
           "yaxis": "y"
          },
          {
           "hovertemplate": "state=%{x}<br>month=Feb<br>estimated unemployment rate=%{y}<extra></extra>",
           "legendgroup": "Puducherry",
           "marker": {
            "color": "#B6E880",
            "pattern": {
             "shape": ""
            }
           },
           "name": "Puducherry",
           "orientation": "v",
           "showlegend": true,
           "textposition": "auto",
           "type": "bar",
           "x": [
            "Puducherry"
           ],
           "xaxis": "x",
           "y": {
            "bdata": "KVyPwvUo/D8=",
            "dtype": "f8"
           },
           "yaxis": "y"
          },
          {
           "hovertemplate": "state=%{x}<br>month=Feb<br>estimated unemployment rate=%{y}<extra></extra>",
           "legendgroup": "Punjab",
           "marker": {
            "color": "#FF97FF",
            "pattern": {
             "shape": ""
            }
           },
           "name": "Punjab",
           "orientation": "v",
           "showlegend": true,
           "textposition": "auto",
           "type": "bar",
           "x": [
            "Punjab"
           ],
           "xaxis": "x",
           "y": {
            "bdata": "cT0K16PwJUA=",
            "dtype": "f8"
           },
           "yaxis": "y"
          },
          {
           "hovertemplate": "state=%{x}<br>month=Feb<br>estimated unemployment rate=%{y}<extra></extra>",
           "legendgroup": "Rajasthan",
           "marker": {
            "color": "#FECB52",
            "pattern": {
             "shape": ""
            }
           },
           "name": "Rajasthan",
           "orientation": "v",
           "showlegend": true,
           "textposition": "auto",
           "type": "bar",
           "x": [
            "Rajasthan"
           ],
           "xaxis": "x",
           "y": {
            "bdata": "UrgehetRLkA=",
            "dtype": "f8"
           },
           "yaxis": "y"
          },
          {
           "hovertemplate": "state=%{x}<br>month=Feb<br>estimated unemployment rate=%{y}<extra></extra>",
           "legendgroup": "Tamil Nadu",
           "marker": {
            "color": "#EF553B",
            "pattern": {
             "shape": ""
            }
           },
           "name": "Tamil Nadu",
           "orientation": "v",
           "showlegend": true,
           "textposition": "auto",
           "type": "bar",
           "x": [
            "Tamil Nadu"
           ],
           "xaxis": "x",
           "y": {
            "bdata": "uB6F61G4AEA=",
            "dtype": "f8"
           },
           "yaxis": "y"
          },
          {
           "hovertemplate": "state=%{x}<br>month=Feb<br>estimated unemployment rate=%{y}<extra></extra>",
           "legendgroup": "Telangana",
           "marker": {
            "color": "#00cc96",
            "pattern": {
             "shape": ""
            }
           },
           "name": "Telangana",
           "orientation": "v",
           "showlegend": true,
           "textposition": "auto",
           "type": "bar",
           "x": [
            "Telangana"
           ],
           "xaxis": "x",
           "y": {
            "bdata": "FK5H4XqUIEA=",
            "dtype": "f8"
           },
           "yaxis": "y"
          },
          {
           "hovertemplate": "state=%{x}<br>month=Feb<br>estimated unemployment rate=%{y}<extra></extra>",
           "legendgroup": "Tripura",
           "marker": {
            "color": "#ab63fa",
            "pattern": {
             "shape": ""
            }
           },
           "name": "Tripura",
           "orientation": "v",
           "showlegend": true,
           "textposition": "auto",
           "type": "bar",
           "x": [
            "Tripura"
           ],
           "xaxis": "x",
           "y": {
            "bdata": "ZmZmZmZmPEA=",
            "dtype": "f8"
           },
           "yaxis": "y"
          },
          {
           "hovertemplate": "state=%{x}<br>month=Feb<br>estimated unemployment rate=%{y}<extra></extra>",
           "legendgroup": "Uttar Pradesh",
           "marker": {
            "color": "#FFA15A",
            "pattern": {
             "shape": ""
            }
           },
           "name": "Uttar Pradesh",
           "orientation": "v",
           "showlegend": true,
           "textposition": "auto",
           "type": "bar",
           "x": [
            "Uttar Pradesh"
           ],
           "xaxis": "x",
           "y": {
            "bdata": "9ihcj8L1IUA=",
            "dtype": "f8"
           },
           "yaxis": "y"
          },
          {
           "hovertemplate": "state=%{x}<br>month=Feb<br>estimated unemployment rate=%{y}<extra></extra>",
           "legendgroup": "Uttarakhand",
           "marker": {
            "color": "#19d3f3",
            "pattern": {
             "shape": ""
            }
           },
           "name": "Uttarakhand",
           "orientation": "v",
           "showlegend": true,
           "textposition": "auto",
           "type": "bar",
           "x": [
            "Uttarakhand"
           ],
           "xaxis": "x",
           "y": {
            "bdata": "9ihcj8L1E0A=",
            "dtype": "f8"
           },
           "yaxis": "y"
          },
          {
           "hovertemplate": "state=%{x}<br>month=Feb<br>estimated unemployment rate=%{y}<extra></extra>",
           "legendgroup": "West Bengal",
           "marker": {
            "color": "#FF6692",
            "pattern": {
             "shape": ""
            }
           },
           "name": "West Bengal",
           "orientation": "v",
           "showlegend": true,
           "textposition": "auto",
           "type": "bar",
           "x": [
            "West Bengal"
           ],
           "xaxis": "x",
           "y": {
            "bdata": "rkfhehSuE0A=",
            "dtype": "f8"
           },
           "yaxis": "y"
          }
         ],
         "name": "Feb"
        },
        {
         "data": [
          {
           "hovertemplate": "state=%{x}<br>month=Mar<br>estimated unemployment rate=%{y}<extra></extra>",
           "legendgroup": "Andhra Pradesh",
           "marker": {
            "color": "#636efa",
            "pattern": {
             "shape": ""
            }
           },
           "name": "Andhra Pradesh",
           "orientation": "v",
           "showlegend": true,
           "textposition": "auto",
           "type": "bar",
           "x": [
            "Andhra Pradesh"
           ],
           "xaxis": "x",
           "y": {
            "bdata": "KVyPwvUoF0A=",
            "dtype": "f8"
           },
           "yaxis": "y"
          },
          {
           "hovertemplate": "state=%{x}<br>month=Mar<br>estimated unemployment rate=%{y}<extra></extra>",
           "legendgroup": "Assam",
           "marker": {
            "color": "#EF553B",
            "pattern": {
             "shape": ""
            }
           },
           "name": "Assam",
           "orientation": "v",
           "showlegend": true,
           "textposition": "auto",
           "type": "bar",
           "x": [
            "Assam"
           ],
           "xaxis": "x",
           "y": {
            "bdata": "FK5H4XoUE0A=",
            "dtype": "f8"
           },
           "yaxis": "y"
          },
          {
           "hovertemplate": "state=%{x}<br>month=Mar<br>estimated unemployment rate=%{y}<extra></extra>",
           "legendgroup": "Bihar",
           "marker": {
            "color": "#00cc96",
            "pattern": {
             "shape": ""
            }
           },
           "name": "Bihar",
           "orientation": "v",
           "showlegend": true,
           "textposition": "auto",
           "type": "bar",
           "x": [
            "Bihar"
           ],
           "xaxis": "x",
           "y": {
            "bdata": "XI/C9SjcLkA=",
            "dtype": "f8"
           },
           "yaxis": "y"
          },
          {
           "hovertemplate": "state=%{x}<br>month=Mar<br>estimated unemployment rate=%{y}<extra></extra>",
           "legendgroup": "Chhattisgarh",
           "marker": {
            "color": "#ab63fa",
            "pattern": {
             "shape": ""
            }
           },
           "name": "Chhattisgarh",
           "orientation": "v",
           "showlegend": true,
           "textposition": "auto",
           "type": "bar",
           "x": [
            "Chhattisgarh"
           ],
           "xaxis": "x",
           "y": {
            "bdata": "KVyPwvUoHkA=",
            "dtype": "f8"
           },
           "yaxis": "y"
          },
          {
           "hovertemplate": "state=%{x}<br>month=Mar<br>estimated unemployment rate=%{y}<extra></extra>",
           "legendgroup": "Delhi",
           "marker": {
            "color": "#FFA15A",
            "pattern": {
             "shape": ""
            }
           },
           "name": "Delhi",
           "orientation": "v",
           "showlegend": true,
           "textposition": "auto",
           "type": "bar",
           "x": [
            "Delhi"
           ],
           "xaxis": "x",
           "y": {
            "bdata": "CtejcD0KMUA=",
            "dtype": "f8"
           },
           "yaxis": "y"
          },
          {
           "hovertemplate": "state=%{x}<br>month=Mar<br>estimated unemployment rate=%{y}<extra></extra>",
           "legendgroup": "Goa",
           "marker": {
            "color": "#19d3f3",
            "pattern": {
             "shape": ""
            }
           },
           "name": "Goa",
           "orientation": "v",
           "showlegend": true,
           "textposition": "auto",
           "type": "bar",
           "x": [
            "Goa"
           ],
           "xaxis": "x",
           "y": {
            "bdata": "AAAAAAAAFUA=",
            "dtype": "f8"
           },
           "yaxis": "y"
          },
          {
           "hovertemplate": "state=%{x}<br>month=Mar<br>estimated unemployment rate=%{y}<extra></extra>",
           "legendgroup": "Gujarat",
           "marker": {
            "color": "#FF6692",
            "pattern": {
             "shape": ""
            }
           },
           "name": "Gujarat",
           "orientation": "v",
           "showlegend": true,
           "textposition": "auto",
           "type": "bar",
           "x": [
            "Gujarat"
           ],
           "xaxis": "x",
           "y": {
            "bdata": "pHA9CtejGkA=",
            "dtype": "f8"
           },
           "yaxis": "y"
          },
          {
           "hovertemplate": "state=%{x}<br>month=Mar<br>estimated unemployment rate=%{y}<extra></extra>",
           "legendgroup": "Haryana",
           "marker": {
            "color": "#B6E880",
            "pattern": {
             "shape": ""
            }
           },
           "name": "Haryana",
           "orientation": "v",
           "showlegend": true,
           "textposition": "auto",
           "type": "bar",
           "x": [
            "Haryana"
           ],
           "xaxis": "x",
           "y": {
            "bdata": "zczMzMwMOUA=",
            "dtype": "f8"
           },
           "yaxis": "y"
          },
          {
           "hovertemplate": "state=%{x}<br>month=Mar<br>estimated unemployment rate=%{y}<extra></extra>",
           "legendgroup": "Himachal Pradesh",
           "marker": {
            "color": "#FF97FF",
            "pattern": {
             "shape": ""
            }
           },
           "name": "Himachal Pradesh",
           "orientation": "v",
           "showlegend": true,
           "textposition": "auto",
           "type": "bar",
           "x": [
            "Himachal Pradesh"
           ],
           "xaxis": "x",
           "y": {
            "bdata": "w/UoXI/CMkA=",
            "dtype": "f8"
           },
           "yaxis": "y"
          },
          {
           "hovertemplate": "state=%{x}<br>month=Mar<br>estimated unemployment rate=%{y}<extra></extra>",
           "legendgroup": "Jammu & Kashmir",
           "marker": {
            "color": "#FECB52",
            "pattern": {
             "shape": ""
            }
           },
           "name": "Jammu & Kashmir",
           "orientation": "v",
           "showlegend": true,
           "textposition": "auto",
           "type": "bar",
           "x": [
            "Jammu & Kashmir"
           ],
           "xaxis": "x",
           "y": {
            "bdata": "AAAAAAAAL0A=",
            "dtype": "f8"
           },
           "yaxis": "y"
          },
          {
           "hovertemplate": "state=%{x}<br>month=Mar<br>estimated unemployment rate=%{y}<extra></extra>",
           "legendgroup": "Jharkhand",
           "marker": {
            "color": "#636efa",
            "pattern": {
             "shape": ""
            }
           },
           "name": "Jharkhand",
           "orientation": "v",
           "showlegend": true,
           "textposition": "auto",
           "type": "bar",
           "x": [
            "Jharkhand"
           ],
           "xaxis": "x",
           "y": {
            "bdata": "9ihcj8J1IEA=",
            "dtype": "f8"
           },
           "yaxis": "y"
          },
          {
           "hovertemplate": "state=%{x}<br>month=Mar<br>estimated unemployment rate=%{y}<extra></extra>",
           "legendgroup": "Karnataka",
           "marker": {
            "color": "#EF553B",
            "pattern": {
             "shape": ""
            }
           },
           "name": "Karnataka",
           "orientation": "v",
           "showlegend": true,
           "textposition": "auto",
           "type": "bar",
           "x": [
            "Karnataka"
           ],
           "xaxis": "x",
           "y": {
            "bdata": "rkfhehSuC0A=",
            "dtype": "f8"
           },
           "yaxis": "y"
          },
          {
           "hovertemplate": "state=%{x}<br>month=Mar<br>estimated unemployment rate=%{y}<extra></extra>",
           "legendgroup": "Kerala",
           "marker": {
            "color": "#00cc96",
            "pattern": {
             "shape": ""
            }
           },
           "name": "Kerala",
           "orientation": "v",
           "showlegend": true,
           "textposition": "auto",
           "type": "bar",
           "x": [
            "Kerala"
           ],
           "xaxis": "x",
           "y": {
            "bdata": "exSuR+H6IUA=",
            "dtype": "f8"
           },
           "yaxis": "y"
          },
          {
           "hovertemplate": "state=%{x}<br>month=Mar<br>estimated unemployment rate=%{y}<extra></extra>",
           "legendgroup": "Madhya Pradesh",
           "marker": {
            "color": "#ab63fa",
            "pattern": {
             "shape": ""
            }
           },
           "name": "Madhya Pradesh",
           "orientation": "v",
           "showlegend": true,
           "textposition": "auto",
           "type": "bar",
           "x": [
            "Madhya Pradesh"
           ],
           "xaxis": "x",
           "y": {
            "bdata": "w/UoXI/CAUA=",
            "dtype": "f8"
           },
           "yaxis": "y"
          },
          {
           "hovertemplate": "state=%{x}<br>month=Mar<br>estimated unemployment rate=%{y}<extra></extra>",
           "legendgroup": "Maharashtra",
           "marker": {
            "color": "#FFA15A",
            "pattern": {
             "shape": ""
            }
           },
           "name": "Maharashtra",
           "orientation": "v",
           "showlegend": true,
           "textposition": "auto",
           "type": "bar",
           "x": [
            "Maharashtra"
           ],
           "xaxis": "x",
           "y": {
            "bdata": "KVyPwvUoF0A=",
            "dtype": "f8"
           },
           "yaxis": "y"
          },
          {
           "hovertemplate": "state=%{x}<br>month=Mar<br>estimated unemployment rate=%{y}<extra></extra>",
           "legendgroup": "Meghalaya",
           "marker": {
            "color": "#19d3f3",
            "pattern": {
             "shape": ""
            }
           },
           "name": "Meghalaya",
           "orientation": "v",
           "showlegend": true,
           "textposition": "auto",
           "type": "bar",
           "x": [
            "Meghalaya"
           ],
           "xaxis": "x",
           "y": {
            "bdata": "SOF6FK5H+T8=",
            "dtype": "f8"
           },
           "yaxis": "y"
          },
          {
           "hovertemplate": "state=%{x}<br>month=Mar<br>estimated unemployment rate=%{y}<extra></extra>",
           "legendgroup": "Odisha",
           "marker": {
            "color": "#FF6692",
            "pattern": {
             "shape": ""
            }
           },
           "name": "Odisha",
           "orientation": "v",
           "showlegend": true,
           "textposition": "auto",
           "type": "bar",
           "x": [
            "Odisha"
           ],
           "xaxis": "x",
           "y": {
            "bdata": "KVyPwvUoKkA=",
            "dtype": "f8"
           },
           "yaxis": "y"
          },
          {
           "hovertemplate": "state=%{x}<br>month=Mar<br>estimated unemployment rate=%{y}<extra></extra>",
           "legendgroup": "Puducherry",
           "marker": {
            "color": "#B6E880",
            "pattern": {
             "shape": ""
            }
           },
           "name": "Puducherry",
           "orientation": "v",
           "showlegend": true,
           "textposition": "auto",
           "type": "bar",
           "x": [
            "Puducherry"
           ],
           "xaxis": "x",
           "y": {
            "bdata": "MzMzMzMz8z8=",
            "dtype": "f8"
           },
           "yaxis": "y"
          },
          {
           "hovertemplate": "state=%{x}<br>month=Mar<br>estimated unemployment rate=%{y}<extra></extra>",
           "legendgroup": "Punjab",
           "marker": {
            "color": "#FF97FF",
            "pattern": {
             "shape": ""
            }
           },
           "name": "Punjab",
           "orientation": "v",
           "showlegend": true,
           "textposition": "auto",
           "type": "bar",
           "x": [
            "Punjab"
           ],
           "xaxis": "x",
           "y": {
            "bdata": "pHA9CtejJEA=",
            "dtype": "f8"
           },
           "yaxis": "y"
          },
          {
           "hovertemplate": "state=%{x}<br>month=Mar<br>estimated unemployment rate=%{y}<extra></extra>",
           "legendgroup": "Rajasthan",
           "marker": {
            "color": "#FECB52",
            "pattern": {
             "shape": ""
            }
           },
           "name": "Rajasthan",
           "orientation": "v",
           "showlegend": true,
           "textposition": "auto",
           "type": "bar",
           "x": [
            "Rajasthan"
           ],
           "xaxis": "x",
           "y": {
            "bdata": "zczMzMzMJ0A=",
            "dtype": "f8"
           },
           "yaxis": "y"
          },
          {
           "hovertemplate": "state=%{x}<br>month=Mar<br>estimated unemployment rate=%{y}<extra></extra>",
           "legendgroup": "Sikkim",
           "marker": {
            "color": "#636efa",
            "pattern": {
             "shape": ""
            }
           },
           "name": "Sikkim",
           "orientation": "v",
           "showlegend": true,
           "textposition": "auto",
           "type": "bar",
           "x": [
            "Sikkim"
           ],
           "xaxis": "x",
           "y": {
            "bdata": "UrgeheuRN0A=",
            "dtype": "f8"
           },
           "yaxis": "y"
          },
          {
           "hovertemplate": "state=%{x}<br>month=Mar<br>estimated unemployment rate=%{y}<extra></extra>",
           "legendgroup": "Tamil Nadu",
           "marker": {
            "color": "#EF553B",
            "pattern": {
             "shape": ""
            }
           },
           "name": "Tamil Nadu",
           "orientation": "v",
           "showlegend": true,
           "textposition": "auto",
           "type": "bar",
           "x": [
            "Tamil Nadu"
           ],
           "xaxis": "x",
           "y": {
            "bdata": "mpmZmZmZGUA=",
            "dtype": "f8"
           },
           "yaxis": "y"
          },
          {
           "hovertemplate": "state=%{x}<br>month=Mar<br>estimated unemployment rate=%{y}<extra></extra>",
           "legendgroup": "Telangana",
           "marker": {
            "color": "#00cc96",
            "pattern": {
             "shape": ""
            }
           },
           "name": "Telangana",
           "orientation": "v",
           "showlegend": true,
           "textposition": "auto",
           "type": "bar",
           "x": [
            "Telangana"
           ],
           "xaxis": "x",
           "y": {
            "bdata": "FK5H4XoUF0A=",
            "dtype": "f8"
           },
           "yaxis": "y"
          },
          {
           "hovertemplate": "state=%{x}<br>month=Mar<br>estimated unemployment rate=%{y}<extra></extra>",
           "legendgroup": "Tripura",
           "marker": {
            "color": "#ab63fa",
            "pattern": {
             "shape": ""
            }
           },
           "name": "Tripura",
           "orientation": "v",
           "showlegend": true,
           "textposition": "auto",
           "type": "bar",
           "x": [
            "Tripura"
           ],
           "xaxis": "x",
           "y": {
            "bdata": "MzMzMzPzPUA=",
            "dtype": "f8"
           },
           "yaxis": "y"
          },
          {
           "hovertemplate": "state=%{x}<br>month=Mar<br>estimated unemployment rate=%{y}<extra></extra>",
           "legendgroup": "Uttar Pradesh",
           "marker": {
            "color": "#FFA15A",
            "pattern": {
             "shape": ""
            }
           },
           "name": "Uttar Pradesh",
           "orientation": "v",
           "showlegend": true,
           "textposition": "auto",
           "type": "bar",
           "x": [
            "Uttar Pradesh"
           ],
           "xaxis": "x",
           "y": {
            "bdata": "uB6F61E4JEA=",
            "dtype": "f8"
           },
           "yaxis": "y"
          },
          {
           "hovertemplate": "state=%{x}<br>month=Mar<br>estimated unemployment rate=%{y}<extra></extra>",
           "legendgroup": "Uttarakhand",
           "marker": {
            "color": "#19d3f3",
            "pattern": {
             "shape": ""
            }
           },
           "name": "Uttarakhand",
           "orientation": "v",
           "showlegend": true,
           "textposition": "auto",
           "type": "bar",
           "x": [
            "Uttarakhand"
           ],
           "xaxis": "x",
           "y": {
            "bdata": "mpmZmZnZM0A=",
            "dtype": "f8"
           },
           "yaxis": "y"
          },
          {
           "hovertemplate": "state=%{x}<br>month=Mar<br>estimated unemployment rate=%{y}<extra></extra>",
           "legendgroup": "West Bengal",
           "marker": {
            "color": "#FF6692",
            "pattern": {
             "shape": ""
            }
           },
           "name": "West Bengal",
           "orientation": "v",
           "showlegend": true,
           "textposition": "auto",
           "type": "bar",
           "x": [
            "West Bengal"
           ],
           "xaxis": "x",
           "y": {
            "bdata": "rkfhehSuG0A=",
            "dtype": "f8"
           },
           "yaxis": "y"
          }
         ],
         "name": "Mar"
        },
        {
         "data": [
          {
           "hovertemplate": "state=%{x}<br>month=Apr<br>estimated unemployment rate=%{y}<extra></extra>",
           "legendgroup": "Andhra Pradesh",
           "marker": {
            "color": "#636efa",
            "pattern": {
             "shape": ""
            }
           },
           "name": "Andhra Pradesh",
           "orientation": "v",
           "showlegend": true,
           "textposition": "auto",
           "type": "bar",
           "x": [
            "Andhra Pradesh"
           ],
           "xaxis": "x",
           "y": {
            "bdata": "w/UoXI+CNEA=",
            "dtype": "f8"
           },
           "yaxis": "y"
          },
          {
           "hovertemplate": "state=%{x}<br>month=Apr<br>estimated unemployment rate=%{y}<extra></extra>",
           "legendgroup": "Assam",
           "marker": {
            "color": "#EF553B",
            "pattern": {
             "shape": ""
            }
           },
           "name": "Assam",
           "orientation": "v",
           "showlegend": true,
           "textposition": "auto",
           "type": "bar",
           "x": [
            "Assam"
           ],
           "xaxis": "x",
           "y": {
            "bdata": "H4XrUbgeJkA=",
            "dtype": "f8"
           },
           "yaxis": "y"
          },
          {
           "hovertemplate": "state=%{x}<br>month=Apr<br>estimated unemployment rate=%{y}<extra></extra>",
           "legendgroup": "Bihar",
           "marker": {
            "color": "#00cc96",
            "pattern": {
             "shape": ""
            }
           },
           "name": "Bihar",
           "orientation": "v",
           "showlegend": true,
           "textposition": "auto",
           "type": "bar",
           "x": [
            "Bihar"
           ],
           "xaxis": "x",
           "y": {
            "bdata": "UrgehetRR0A=",
            "dtype": "f8"
           },
           "yaxis": "y"
          },
          {
           "hovertemplate": "state=%{x}<br>month=Apr<br>estimated unemployment rate=%{y}<extra></extra>",
           "legendgroup": "Chhattisgarh",
           "marker": {
            "color": "#ab63fa",
            "pattern": {
             "shape": ""
            }
           },
           "name": "Chhattisgarh",
           "orientation": "v",
           "showlegend": true,
           "textposition": "auto",
           "type": "bar",
           "x": [
            "Chhattisgarh"
           ],
           "xaxis": "x",
           "y": {
            "bdata": "SOF6FK5HC0A=",
            "dtype": "f8"
           },
           "yaxis": "y"
          },
          {
           "hovertemplate": "state=%{x}<br>month=Apr<br>estimated unemployment rate=%{y}<extra></extra>",
           "legendgroup": "Delhi",
           "marker": {
            "color": "#FFA15A",
            "pattern": {
             "shape": ""
            }
           },
           "name": "Delhi",
           "orientation": "v",
           "showlegend": true,
           "textposition": "auto",
           "type": "bar",
           "x": [
            "Delhi"
           ],
           "xaxis": "x",
           "y": {
            "bdata": "rkfhehSuMEA=",
            "dtype": "f8"
           },
           "yaxis": "y"
          },
          {
           "hovertemplate": "state=%{x}<br>month=Apr<br>estimated unemployment rate=%{y}<extra></extra>",
           "legendgroup": "Goa",
           "marker": {
            "color": "#19d3f3",
            "pattern": {
             "shape": ""
            }
           },
           "name": "Goa",
           "orientation": "v",
           "showlegend": true,
           "textposition": "auto",
           "type": "bar",
           "x": [
            "Goa"
           ],
           "xaxis": "x",
           "y": {
            "bdata": "H4XrUbieKkA=",
            "dtype": "f8"
           },
           "yaxis": "y"
          },
          {
           "hovertemplate": "state=%{x}<br>month=Apr<br>estimated unemployment rate=%{y}<extra></extra>",
           "legendgroup": "Gujarat",
           "marker": {
            "color": "#FF6692",
            "pattern": {
             "shape": ""
            }
           },
           "name": "Gujarat",
           "orientation": "v",
           "showlegend": true,
           "textposition": "auto",
           "type": "bar",
           "x": [
            "Gujarat"
           ],
           "xaxis": "x",
           "y": {
            "bdata": "9ihcj8K1MkA=",
            "dtype": "f8"
           },
           "yaxis": "y"
          },
          {
           "hovertemplate": "state=%{x}<br>month=Apr<br>estimated unemployment rate=%{y}<extra></extra>",
           "legendgroup": "Haryana",
           "marker": {
            "color": "#B6E880",
            "pattern": {
             "shape": ""
            }
           },
           "name": "Haryana",
           "orientation": "v",
           "showlegend": true,
           "textposition": "auto",
           "type": "bar",
           "x": [
            "Haryana"
           ],
           "xaxis": "x",
           "y": {
            "bdata": "XI/C9SicRUA=",
            "dtype": "f8"
           },
           "yaxis": "y"
          },
          {
           "hovertemplate": "state=%{x}<br>month=Apr<br>estimated unemployment rate=%{y}<extra></extra>",
           "legendgroup": "Himachal Pradesh",
           "marker": {
            "color": "#FF97FF",
            "pattern": {
             "shape": ""
            }
           },
           "name": "Himachal Pradesh",
           "orientation": "v",
           "showlegend": true,
           "textposition": "auto",
           "type": "bar",
           "x": [
            "Himachal Pradesh"
           ],
           "xaxis": "x",
           "y": {
            "bdata": "mpmZmZmZAUA=",
            "dtype": "f8"
           },
           "yaxis": "y"
          },
          {
           "hovertemplate": "state=%{x}<br>month=Apr<br>estimated unemployment rate=%{y}<extra></extra>",
           "legendgroup": "Jharkhand",
           "marker": {
            "color": "#636efa",
            "pattern": {
             "shape": ""
            }
           },
           "name": "Jharkhand",
           "orientation": "v",
           "showlegend": true,
           "textposition": "auto",
           "type": "bar",
           "x": [
            "Jharkhand"
           ],
           "xaxis": "x",
           "y": {
            "bdata": "7FG4HoWLR0A=",
            "dtype": "f8"
           },
           "yaxis": "y"
          },
          {
           "hovertemplate": "state=%{x}<br>month=Apr<br>estimated unemployment rate=%{y}<extra></extra>",
           "legendgroup": "Karnataka",
           "marker": {
            "color": "#EF553B",
            "pattern": {
             "shape": ""
            }
           },
           "name": "Karnataka",
           "orientation": "v",
           "showlegend": true,
           "textposition": "auto",
           "type": "bar",
           "x": [
            "Karnataka"
           ],
           "xaxis": "x",
           "y": {
            "bdata": "16NwPQrXPUA=",
            "dtype": "f8"
           },
           "yaxis": "y"
          },
          {
           "hovertemplate": "state=%{x}<br>month=Apr<br>estimated unemployment rate=%{y}<extra></extra>",
           "legendgroup": "Kerala",
           "marker": {
            "color": "#00cc96",
            "pattern": {
             "shape": ""
            }
           },
           "name": "Kerala",
           "orientation": "v",
           "showlegend": true,
           "textposition": "auto",
           "type": "bar",
           "x": [
            "Kerala"
           ],
           "xaxis": "x",
           "y": {
            "bdata": "PQrXo3D9MEA=",
            "dtype": "f8"
           },
           "yaxis": "y"
          },
          {
           "hovertemplate": "state=%{x}<br>month=Apr<br>estimated unemployment rate=%{y}<extra></extra>",
           "legendgroup": "Madhya Pradesh",
           "marker": {
            "color": "#ab63fa",
            "pattern": {
             "shape": ""
            }
           },
           "name": "Madhya Pradesh",
           "orientation": "v",
           "showlegend": true,
           "textposition": "auto",
           "type": "bar",
           "x": [
            "Madhya Pradesh"
           ],
           "xaxis": "x",
           "y": {
            "bdata": "uB6F61G4KEA=",
            "dtype": "f8"
           },
           "yaxis": "y"
          },
          {
           "hovertemplate": "state=%{x}<br>month=Apr<br>estimated unemployment rate=%{y}<extra></extra>",
           "legendgroup": "Maharashtra",
           "marker": {
            "color": "#FFA15A",
            "pattern": {
             "shape": ""
            }
           },
           "name": "Maharashtra",
           "orientation": "v",
           "showlegend": true,
           "textposition": "auto",
           "type": "bar",
           "x": [
            "Maharashtra"
           ],
           "xaxis": "x",
           "y": {
            "bdata": "ZmZmZmbmNEA=",
            "dtype": "f8"
           },
           "yaxis": "y"
          },
          {
           "hovertemplate": "state=%{x}<br>month=Apr<br>estimated unemployment rate=%{y}<extra></extra>",
           "legendgroup": "Meghalaya",
           "marker": {
            "color": "#19d3f3",
            "pattern": {
             "shape": ""
            }
           },
           "name": "Meghalaya",
           "orientation": "v",
           "showlegend": true,
           "textposition": "auto",
           "type": "bar",
           "x": [
            "Meghalaya"
           ],
           "xaxis": "x",
           "y": {
            "bdata": "j8L1KFwPJEA=",
            "dtype": "f8"
           },
           "yaxis": "y"
          },
          {
           "hovertemplate": "state=%{x}<br>month=Apr<br>estimated unemployment rate=%{y}<extra></extra>",
           "legendgroup": "Odisha",
           "marker": {
            "color": "#FF6692",
            "pattern": {
             "shape": ""
            }
           },
           "name": "Odisha",
           "orientation": "v",
           "showlegend": true,
           "textposition": "auto",
           "type": "bar",
           "x": [
            "Odisha"
           ],
           "xaxis": "x",
           "y": {
            "bdata": "w/UoXI/CN0A=",
            "dtype": "f8"
           },
           "yaxis": "y"
          },
          {
           "hovertemplate": "state=%{x}<br>month=Apr<br>estimated unemployment rate=%{y}<extra></extra>",
           "legendgroup": "Puducherry",
           "marker": {
            "color": "#B6E880",
            "pattern": {
             "shape": ""
            }
           },
           "name": "Puducherry",
           "orientation": "v",
           "showlegend": true,
           "textposition": "auto",
           "type": "bar",
           "x": [
            "Puducherry"
           ],
           "xaxis": "x",
           "y": {
            "bdata": "ZmZmZmb2UkA=",
            "dtype": "f8"
           },
           "yaxis": "y"
          },
          {
           "hovertemplate": "state=%{x}<br>month=Apr<br>estimated unemployment rate=%{y}<extra></extra>",
           "legendgroup": "Punjab",
           "marker": {
            "color": "#FF97FF",
            "pattern": {
             "shape": ""
            }
           },
           "name": "Punjab",
           "orientation": "v",
           "showlegend": true,
           "textposition": "auto",
           "type": "bar",
           "x": [
            "Punjab"
           ],
           "xaxis": "x",
           "y": {
            "bdata": "4XoUrkfhBkA=",
            "dtype": "f8"
           },
           "yaxis": "y"
          },
          {
           "hovertemplate": "state=%{x}<br>month=Apr<br>estimated unemployment rate=%{y}<extra></extra>",
           "legendgroup": "Rajasthan",
           "marker": {
            "color": "#FECB52",
            "pattern": {
             "shape": ""
            }
           },
           "name": "Rajasthan",
           "orientation": "v",
           "showlegend": true,
           "textposition": "auto",
           "type": "bar",
           "x": [
            "Rajasthan"
           ],
           "xaxis": "x",
           "y": {
            "bdata": "MzMzMzOzMUA=",
            "dtype": "f8"
           },
           "yaxis": "y"
          },
          {
           "hovertemplate": "state=%{x}<br>month=Apr<br>estimated unemployment rate=%{y}<extra></extra>",
           "legendgroup": "Sikkim",
           "marker": {
            "color": "#636efa",
            "pattern": {
             "shape": ""
            }
           },
           "name": "Sikkim",
           "orientation": "v",
           "showlegend": true,
           "textposition": "auto",
           "type": "bar",
           "x": [
            "Sikkim"
           ],
           "xaxis": "x",
           "y": {
            "bdata": "PQrXo3A9AkA=",
            "dtype": "f8"
           },
           "yaxis": "y"
          },
          {
           "hovertemplate": "state=%{x}<br>month=Apr<br>estimated unemployment rate=%{y}<extra></extra>",
           "legendgroup": "Tamil Nadu",
           "marker": {
            "color": "#EF553B",
            "pattern": {
             "shape": ""
            }
           },
           "name": "Tamil Nadu",
           "orientation": "v",
           "showlegend": true,
           "textposition": "auto",
           "type": "bar",
           "x": [
            "Tamil Nadu"
           ],
           "xaxis": "x",
           "y": {
            "bdata": "CtejcD3qSEA=",
            "dtype": "f8"
           },
           "yaxis": "y"
          },
          {
           "hovertemplate": "state=%{x}<br>month=Apr<br>estimated unemployment rate=%{y}<extra></extra>",
           "legendgroup": "Telangana",
           "marker": {
            "color": "#00cc96",
            "pattern": {
             "shape": ""
            }
           },
           "name": "Telangana",
           "orientation": "v",
           "showlegend": true,
           "textposition": "auto",
           "type": "bar",
           "x": [
            "Telangana"
           ],
           "xaxis": "x",
           "y": {
            "bdata": "AAAAAAAAGUA=",
            "dtype": "f8"
           },
           "yaxis": "y"
          },
          {
           "hovertemplate": "state=%{x}<br>month=Apr<br>estimated unemployment rate=%{y}<extra></extra>",
           "legendgroup": "Tripura",
           "marker": {
            "color": "#ab63fa",
            "pattern": {
             "shape": ""
            }
           },
           "name": "Tripura",
           "orientation": "v",
           "showlegend": true,
           "textposition": "auto",
           "type": "bar",
           "x": [
            "Tripura"
           ],
           "xaxis": "x",
           "y": {
            "bdata": "PQrXo3CdREA=",
            "dtype": "f8"
           },
           "yaxis": "y"
          },
          {
           "hovertemplate": "state=%{x}<br>month=Apr<br>estimated unemployment rate=%{y}<extra></extra>",
           "legendgroup": "Uttar Pradesh",
           "marker": {
            "color": "#FFA15A",
            "pattern": {
             "shape": ""
            }
           },
           "name": "Uttar Pradesh",
           "orientation": "v",
           "showlegend": true,
           "textposition": "auto",
           "type": "bar",
           "x": [
            "Uttar Pradesh"
           ],
           "xaxis": "x",
           "y": {
            "bdata": "CtejcD2KNUA=",
            "dtype": "f8"
           },
           "yaxis": "y"
          },
          {
           "hovertemplate": "state=%{x}<br>month=Apr<br>estimated unemployment rate=%{y}<extra></extra>",
           "legendgroup": "Uttarakhand",
           "marker": {
            "color": "#19d3f3",
            "pattern": {
             "shape": ""
            }
           },
           "name": "Uttarakhand",
           "orientation": "v",
           "showlegend": true,
           "textposition": "auto",
           "type": "bar",
           "x": [
            "Uttarakhand"
           ],
           "xaxis": "x",
           "y": {
            "bdata": "7FG4HoXrGUA=",
            "dtype": "f8"
           },
           "yaxis": "y"
          },
          {
           "hovertemplate": "state=%{x}<br>month=Apr<br>estimated unemployment rate=%{y}<extra></extra>",
           "legendgroup": "West Bengal",
           "marker": {
            "color": "#FF6692",
            "pattern": {
             "shape": ""
            }
           },
           "name": "West Bengal",
           "orientation": "v",
           "showlegend": true,
           "textposition": "auto",
           "type": "bar",
           "x": [
            "West Bengal"
           ],
           "xaxis": "x",
           "y": {
            "bdata": "KVyPwvVoMUA=",
            "dtype": "f8"
           },
           "yaxis": "y"
          }
         ],
         "name": "Apr"
        },
        {
         "data": [
          {
           "hovertemplate": "state=%{x}<br>month=May<br>estimated unemployment rate=%{y}<extra></extra>",
           "legendgroup": "Andhra Pradesh",
           "marker": {
            "color": "#636efa",
            "pattern": {
             "shape": ""
            }
           },
           "name": "Andhra Pradesh",
           "orientation": "v",
           "showlegend": true,
           "textposition": "auto",
           "type": "bar",
           "x": [
            "Andhra Pradesh"
           ],
           "xaxis": "x",
           "y": {
            "bdata": "rkfhehRuMUA=",
            "dtype": "f8"
           },
           "yaxis": "y"
          },
          {
           "hovertemplate": "state=%{x}<br>month=May<br>estimated unemployment rate=%{y}<extra></extra>",
           "legendgroup": "Assam",
           "marker": {
            "color": "#EF553B",
            "pattern": {
             "shape": ""
            }
           },
           "name": "Assam",
           "orientation": "v",
           "showlegend": true,
           "textposition": "auto",
           "type": "bar",
           "x": [
            "Assam"
           ],
           "xaxis": "x",
           "y": {
            "bdata": "mpmZmZkZI0A=",
            "dtype": "f8"
           },
           "yaxis": "y"
          },
          {
           "hovertemplate": "state=%{x}<br>month=May<br>estimated unemployment rate=%{y}<extra></extra>",
           "legendgroup": "Bihar",
           "marker": {
            "color": "#00cc96",
            "pattern": {
             "shape": ""
            }
           },
           "name": "Bihar",
           "orientation": "v",
           "showlegend": true,
           "textposition": "auto",
           "type": "bar",
           "x": [
            "Bihar"
           ],
           "xaxis": "x",
           "y": {
            "bdata": "exSuR+H6RkA=",
            "dtype": "f8"
           },
           "yaxis": "y"
          },
          {
           "hovertemplate": "state=%{x}<br>month=May<br>estimated unemployment rate=%{y}<extra></extra>",
           "legendgroup": "Chhattisgarh",
           "marker": {
            "color": "#ab63fa",
            "pattern": {
             "shape": ""
            }
           },
           "name": "Chhattisgarh",
           "orientation": "v",
           "showlegend": true,
           "textposition": "auto",
           "type": "bar",
           "x": [
            "Chhattisgarh"
           ],
           "xaxis": "x",
           "y": {
            "bdata": "AAAAAAAAJUA=",
            "dtype": "f8"
           },
           "yaxis": "y"
          },
          {
           "hovertemplate": "state=%{x}<br>month=May<br>estimated unemployment rate=%{y}<extra></extra>",
           "legendgroup": "Delhi",
           "marker": {
            "color": "#FFA15A",
            "pattern": {
             "shape": ""
            }
           },
           "name": "Delhi",
           "orientation": "v",
           "showlegend": true,
           "textposition": "auto",
           "type": "bar",
           "x": [
            "Delhi"
           ],
           "xaxis": "x",
           "y": {
            "bdata": "w/UoXI8iRUA=",
            "dtype": "f8"
           },
           "yaxis": "y"
          },
          {
           "hovertemplate": "state=%{x}<br>month=May<br>estimated unemployment rate=%{y}<extra></extra>",
           "legendgroup": "Goa",
           "marker": {
            "color": "#19d3f3",
            "pattern": {
             "shape": ""
            }
           },
           "name": "Goa",
           "orientation": "v",
           "showlegend": true,
           "textposition": "auto",
           "type": "bar",
           "x": [
            "Goa"
           ],
           "xaxis": "x",
           "y": {
            "bdata": "AAAAAABANUA=",
            "dtype": "f8"
           },
           "yaxis": "y"
          },
          {
           "hovertemplate": "state=%{x}<br>month=May<br>estimated unemployment rate=%{y}<extra></extra>",
           "legendgroup": "Gujarat",
           "marker": {
            "color": "#FF6692",
            "pattern": {
             "shape": ""
            }
           },
           "name": "Gujarat",
           "orientation": "v",
           "showlegend": true,
           "textposition": "auto",
           "type": "bar",
           "x": [
            "Gujarat"
           ],
           "xaxis": "x",
           "y": {
            "bdata": "uB6F61E4KEA=",
            "dtype": "f8"
           },
           "yaxis": "y"
          },
          {
           "hovertemplate": "state=%{x}<br>month=May<br>estimated unemployment rate=%{y}<extra></extra>",
           "legendgroup": "Haryana",
           "marker": {
            "color": "#B6E880",
            "pattern": {
             "shape": ""
            }
           },
           "name": "Haryana",
           "orientation": "v",
           "showlegend": true,
           "textposition": "auto",
           "type": "bar",
           "x": [
            "Haryana"
           ],
           "xaxis": "x",
           "y": {
            "bdata": "hetRuB4FPUA=",
            "dtype": "f8"
           },
           "yaxis": "y"
          },
          {
           "hovertemplate": "state=%{x}<br>month=May<br>estimated unemployment rate=%{y}<extra></extra>",
           "legendgroup": "Himachal Pradesh",
           "marker": {
            "color": "#FF97FF",
            "pattern": {
             "shape": ""
            }
           },
           "name": "Himachal Pradesh",
           "orientation": "v",
           "showlegend": true,
           "textposition": "auto",
           "type": "bar",
           "x": [
            "Himachal Pradesh"
           ],
           "xaxis": "x",
           "y": {
            "bdata": "MzMzMzPzOkA=",
            "dtype": "f8"
           },
           "yaxis": "y"
          },
          {
           "hovertemplate": "state=%{x}<br>month=May<br>estimated unemployment rate=%{y}<extra></extra>",
           "legendgroup": "Jammu & Kashmir",
           "marker": {
            "color": "#FECB52",
            "pattern": {
             "shape": ""
            }
           },
           "name": "Jammu & Kashmir",
           "orientation": "v",
           "showlegend": true,
           "textposition": "auto",
           "type": "bar",
           "x": [
            "Jammu & Kashmir"
           ],
           "xaxis": "x",
           "y": {
            "bdata": "PQrXo3C9MkA=",
            "dtype": "f8"
           },
           "yaxis": "y"
          },
          {
           "hovertemplate": "state=%{x}<br>month=May<br>estimated unemployment rate=%{y}<extra></extra>",
           "legendgroup": "Jharkhand",
           "marker": {
            "color": "#636efa",
            "pattern": {
             "shape": ""
            }
           },
           "name": "Jharkhand",
           "orientation": "v",
           "showlegend": true,
           "textposition": "auto",
           "type": "bar",
           "x": [
            "Jharkhand"
           ],
           "xaxis": "x",
           "y": {
            "bdata": "PQrXo3CdTUA=",
            "dtype": "f8"
           },
           "yaxis": "y"
          },
          {
           "hovertemplate": "state=%{x}<br>month=May<br>estimated unemployment rate=%{y}<extra></extra>",
           "legendgroup": "Karnataka",
           "marker": {
            "color": "#EF553B",
            "pattern": {
             "shape": ""
            }
           },
           "name": "Karnataka",
           "orientation": "v",
           "showlegend": true,
           "textposition": "auto",
           "type": "bar",
           "x": [
            "Karnataka"
           ],
           "xaxis": "x",
           "y": {
            "bdata": "uB6F61H4M0A=",
            "dtype": "f8"
           },
           "yaxis": "y"
          },
          {
           "hovertemplate": "state=%{x}<br>month=May<br>estimated unemployment rate=%{y}<extra></extra>",
           "legendgroup": "Kerala",
           "marker": {
            "color": "#00cc96",
            "pattern": {
             "shape": ""
            }
           },
           "name": "Kerala",
           "orientation": "v",
           "showlegend": true,
           "textposition": "auto",
           "type": "bar",
           "x": [
            "Kerala"
           ],
           "xaxis": "x",
           "y": {
            "bdata": "4XoUrkfhMUA=",
            "dtype": "f8"
           },
           "yaxis": "y"
          },
          {
           "hovertemplate": "state=%{x}<br>month=May<br>estimated unemployment rate=%{y}<extra></extra>",
           "legendgroup": "Madhya Pradesh",
           "marker": {
            "color": "#ab63fa",
            "pattern": {
             "shape": ""
            }
           },
           "name": "Madhya Pradesh",
           "orientation": "v",
           "showlegend": true,
           "textposition": "auto",
           "type": "bar",
           "x": [
            "Madhya Pradesh"
           ],
           "xaxis": "x",
           "y": {
            "bdata": "exSuR+H6NUA=",
            "dtype": "f8"
           },
           "yaxis": "y"
          },
          {
           "hovertemplate": "state=%{x}<br>month=May<br>estimated unemployment rate=%{y}<extra></extra>",
           "legendgroup": "Maharashtra",
           "marker": {
            "color": "#FFA15A",
            "pattern": {
             "shape": ""
            }
           },
           "name": "Maharashtra",
           "orientation": "v",
           "showlegend": true,
           "textposition": "auto",
           "type": "bar",
           "x": [
            "Maharashtra"
           ],
           "xaxis": "x",
           "y": {
            "bdata": "7FG4HoXrLkA=",
            "dtype": "f8"
           },
           "yaxis": "y"
          },
          {
           "hovertemplate": "state=%{x}<br>month=May<br>estimated unemployment rate=%{y}<extra></extra>",
           "legendgroup": "Meghalaya",
           "marker": {
            "color": "#19d3f3",
            "pattern": {
             "shape": ""
            }
           },
           "name": "Meghalaya",
           "orientation": "v",
           "showlegend": true,
           "textposition": "auto",
           "type": "bar",
           "x": [
            "Meghalaya"
           ],
           "xaxis": "x",
           "y": {
            "bdata": "rkfhehSuF0A=",
            "dtype": "f8"
           },
           "yaxis": "y"
          },
          {
           "hovertemplate": "state=%{x}<br>month=May<br>estimated unemployment rate=%{y}<extra></extra>",
           "legendgroup": "Odisha",
           "marker": {
            "color": "#FF6692",
            "pattern": {
             "shape": ""
            }
           },
           "name": "Odisha",
           "orientation": "v",
           "showlegend": true,
           "textposition": "auto",
           "type": "bar",
           "x": [
            "Odisha"
           ],
           "xaxis": "x",
           "y": {
            "bdata": "UrgehevRJkA=",
            "dtype": "f8"
           },
           "yaxis": "y"
          },
          {
           "hovertemplate": "state=%{x}<br>month=May<br>estimated unemployment rate=%{y}<extra></extra>",
           "legendgroup": "Puducherry",
           "marker": {
            "color": "#B6E880",
            "pattern": {
             "shape": ""
            }
           },
           "name": "Puducherry",
           "orientation": "v",
           "showlegend": true,
           "textposition": "auto",
           "type": "bar",
           "x": [
            "Puducherry"
           ],
           "xaxis": "x",
           "y": {
            "bdata": "uB6F61EYTUA=",
            "dtype": "f8"
           },
           "yaxis": "y"
          },
          {
           "hovertemplate": "state=%{x}<br>month=May<br>estimated unemployment rate=%{y}<extra></extra>",
           "legendgroup": "Punjab",
           "marker": {
            "color": "#FF97FF",
            "pattern": {
             "shape": ""
            }
           },
           "name": "Punjab",
           "orientation": "v",
           "showlegend": true,
           "textposition": "auto",
           "type": "bar",
           "x": [
            "Punjab"
           ],
           "xaxis": "x",
           "y": {
            "bdata": "FK5H4XpUPEA=",
            "dtype": "f8"
           },
           "yaxis": "y"
          },
          {
           "hovertemplate": "state=%{x}<br>month=May<br>estimated unemployment rate=%{y}<extra></extra>",
           "legendgroup": "Rajasthan",
           "marker": {
            "color": "#FECB52",
            "pattern": {
             "shape": ""
            }
           },
           "name": "Rajasthan",
           "orientation": "v",
           "showlegend": true,
           "textposition": "auto",
           "type": "bar",
           "x": [
            "Rajasthan"
           ],
           "xaxis": "x",
           "y": {
            "bdata": "exSuR+F6L0A=",
            "dtype": "f8"
           },
           "yaxis": "y"
          },
          {
           "hovertemplate": "state=%{x}<br>month=May<br>estimated unemployment rate=%{y}<extra></extra>",
           "legendgroup": "Sikkim",
           "marker": {
            "color": "#636efa",
            "pattern": {
             "shape": ""
            }
           },
           "name": "Sikkim",
           "orientation": "v",
           "showlegend": true,
           "textposition": "auto",
           "type": "bar",
           "x": [
            "Sikkim"
           ],
           "xaxis": "x",
           "y": {
            "bdata": "w/UoXI+COEA=",
            "dtype": "f8"
           },
           "yaxis": "y"
          },
          {
           "hovertemplate": "state=%{x}<br>month=May<br>estimated unemployment rate=%{y}<extra></extra>",
           "legendgroup": "Tamil Nadu",
           "marker": {
            "color": "#EF553B",
            "pattern": {
             "shape": ""
            }
           },
           "name": "Tamil Nadu",
           "orientation": "v",
           "showlegend": true,
           "textposition": "auto",
           "type": "bar",
           "x": [
            "Tamil Nadu"
           ],
           "xaxis": "x",
           "y": {
            "bdata": "FK5H4XqUQEA=",
            "dtype": "f8"
           },
           "yaxis": "y"
          },
          {
           "hovertemplate": "state=%{x}<br>month=May<br>estimated unemployment rate=%{y}<extra></extra>",
           "legendgroup": "Telangana",
           "marker": {
            "color": "#00cc96",
            "pattern": {
             "shape": ""
            }
           },
           "name": "Telangana",
           "orientation": "v",
           "showlegend": true,
           "textposition": "auto",
           "type": "bar",
           "x": [
            "Telangana"
           ],
           "xaxis": "x",
           "y": {
            "bdata": "ZmZmZmZmLUA=",
            "dtype": "f8"
           },
           "yaxis": "y"
          },
          {
           "hovertemplate": "state=%{x}<br>month=May<br>estimated unemployment rate=%{y}<extra></extra>",
           "legendgroup": "Tripura",
           "marker": {
            "color": "#ab63fa",
            "pattern": {
             "shape": ""
            }
           },
           "name": "Tripura",
           "orientation": "v",
           "showlegend": true,
           "textposition": "auto",
           "type": "bar",
           "x": [
            "Tripura"
           ],
           "xaxis": "x",
           "y": {
            "bdata": "w/UoXI+CNUA=",
            "dtype": "f8"
           },
           "yaxis": "y"
          },
          {
           "hovertemplate": "state=%{x}<br>month=May<br>estimated unemployment rate=%{y}<extra></extra>",
           "legendgroup": "Uttar Pradesh",
           "marker": {
            "color": "#FFA15A",
            "pattern": {
             "shape": ""
            }
           },
           "name": "Uttar Pradesh",
           "orientation": "v",
           "showlegend": true,
           "textposition": "auto",
           "type": "bar",
           "x": [
            "Uttar Pradesh"
           ],
           "xaxis": "x",
           "y": {
            "bdata": "KVyPwvVoNEA=",
            "dtype": "f8"
           },
           "yaxis": "y"
          },
          {
           "hovertemplate": "state=%{x}<br>month=May<br>estimated unemployment rate=%{y}<extra></extra>",
           "legendgroup": "Uttarakhand",
           "marker": {
            "color": "#19d3f3",
            "pattern": {
             "shape": ""
            }
           },
           "name": "Uttarakhand",
           "orientation": "v",
           "showlegend": true,
           "textposition": "auto",
           "type": "bar",
           "x": [
            "Uttarakhand"
           ],
           "xaxis": "x",
           "y": {
            "bdata": "hetRuB4FIEA=",
            "dtype": "f8"
           },
           "yaxis": "y"
          },
          {
           "hovertemplate": "state=%{x}<br>month=May<br>estimated unemployment rate=%{y}<extra></extra>",
           "legendgroup": "West Bengal",
           "marker": {
            "color": "#FF6692",
            "pattern": {
             "shape": ""
            }
           },
           "name": "West Bengal",
           "orientation": "v",
           "showlegend": true,
           "textposition": "auto",
           "type": "bar",
           "x": [
            "West Bengal"
           ],
           "xaxis": "x",
           "y": {
            "bdata": "KVyPwvVoMUA=",
            "dtype": "f8"
           },
           "yaxis": "y"
          }
         ],
         "name": "May"
        },
        {
         "data": [
          {
           "hovertemplate": "state=%{x}<br>month=Jun<br>estimated unemployment rate=%{y}<extra></extra>",
           "legendgroup": "Andhra Pradesh",
           "marker": {
            "color": "#636efa",
            "pattern": {
             "shape": ""
            }
           },
           "name": "Andhra Pradesh",
           "orientation": "v",
           "showlegend": true,
           "textposition": "auto",
           "type": "bar",
           "x": [
            "Andhra Pradesh"
           ],
           "xaxis": "x",
           "y": {
            "bdata": "exSuR+F6CkA=",
            "dtype": "f8"
           },
           "yaxis": "y"
          },
          {
           "hovertemplate": "state=%{x}<br>month=Jun<br>estimated unemployment rate=%{y}<extra></extra>",
           "legendgroup": "Assam",
           "marker": {
            "color": "#EF553B",
            "pattern": {
             "shape": ""
            }
           },
           "name": "Assam",
           "orientation": "v",
           "showlegend": true,
           "textposition": "auto",
           "type": "bar",
           "x": [
            "Assam"
           ],
           "xaxis": "x",
           "y": {
            "bdata": "MzMzMzMz4z8=",
            "dtype": "f8"
           },
           "yaxis": "y"
          },
          {
           "hovertemplate": "state=%{x}<br>month=Jun<br>estimated unemployment rate=%{y}<extra></extra>",
           "legendgroup": "Bihar",
           "marker": {
            "color": "#00cc96",
            "pattern": {
             "shape": ""
            }
           },
           "name": "Bihar",
           "orientation": "v",
           "showlegend": true,
           "textposition": "auto",
           "type": "bar",
           "x": [
            "Bihar"
           ],
           "xaxis": "x",
           "y": {
            "bdata": "UrgehevRMUA=",
            "dtype": "f8"
           },
           "yaxis": "y"
          },
          {
           "hovertemplate": "state=%{x}<br>month=Jun<br>estimated unemployment rate=%{y}<extra></extra>",
           "legendgroup": "Chhattisgarh",
           "marker": {
            "color": "#ab63fa",
            "pattern": {
             "shape": ""
            }
           },
           "name": "Chhattisgarh",
           "orientation": "v",
           "showlegend": true,
           "textposition": "auto",
           "type": "bar",
           "x": [
            "Chhattisgarh"
           ],
           "xaxis": "x",
           "y": {
            "bdata": "9ihcj8J1LEA=",
            "dtype": "f8"
           },
           "yaxis": "y"
          },
          {
           "hovertemplate": "state=%{x}<br>month=Jun<br>estimated unemployment rate=%{y}<extra></extra>",
           "legendgroup": "Delhi",
           "marker": {
            "color": "#FFA15A",
            "pattern": {
             "shape": ""
            }
           },
           "name": "Delhi",
           "orientation": "v",
           "showlegend": true,
           "textposition": "auto",
           "type": "bar",
           "x": [
            "Delhi"
           ],
           "xaxis": "x",
           "y": {
            "bdata": "cT0K16MwMkA=",
            "dtype": "f8"
           },
           "yaxis": "y"
          },
          {
           "hovertemplate": "state=%{x}<br>month=Jun<br>estimated unemployment rate=%{y}<extra></extra>",
           "legendgroup": "Goa",
           "marker": {
            "color": "#19d3f3",
            "pattern": {
             "shape": ""
            }
           },
           "name": "Goa",
           "orientation": "v",
           "showlegend": true,
           "textposition": "auto",
           "type": "bar",
           "x": [
            "Goa"
           ],
           "xaxis": "x",
           "y": {
            "bdata": "7FG4HoXrI0A=",
            "dtype": "f8"
           },
           "yaxis": "y"
          },
          {
           "hovertemplate": "state=%{x}<br>month=Jun<br>estimated unemployment rate=%{y}<extra></extra>",
           "legendgroup": "Gujarat",
           "marker": {
            "color": "#FF6692",
            "pattern": {
             "shape": ""
            }
           },
           "name": "Gujarat",
           "orientation": "v",
           "showlegend": true,
           "textposition": "auto",
           "type": "bar",
           "x": [
            "Gujarat"
           ],
           "xaxis": "x",
           "y": {
            "bdata": "mpmZmZmZCUA=",
            "dtype": "f8"
           },
           "yaxis": "y"
          },
          {
           "hovertemplate": "state=%{x}<br>month=Jun<br>estimated unemployment rate=%{y}<extra></extra>",
           "legendgroup": "Haryana",
           "marker": {
            "color": "#B6E880",
            "pattern": {
             "shape": ""
            }
           },
           "name": "Haryana",
           "orientation": "v",
           "showlegend": true,
           "textposition": "auto",
           "type": "bar",
           "x": [
            "Haryana"
           ],
           "xaxis": "x",
           "y": {
            "bdata": "MzMzMzOzOkA=",
            "dtype": "f8"
           },
           "yaxis": "y"
          },
          {
           "hovertemplate": "state=%{x}<br>month=Jun<br>estimated unemployment rate=%{y}<extra></extra>",
           "legendgroup": "Himachal Pradesh",
           "marker": {
            "color": "#FF97FF",
            "pattern": {
             "shape": ""
            }
           },
           "name": "Himachal Pradesh",
           "orientation": "v",
           "showlegend": true,
           "textposition": "auto",
           "type": "bar",
           "x": [
            "Himachal Pradesh"
           ],
           "xaxis": "x",
           "y": {
            "bdata": "cT0K16PwKkA=",
            "dtype": "f8"
           },
           "yaxis": "y"
          },
          {
           "hovertemplate": "state=%{x}<br>month=Jun<br>estimated unemployment rate=%{y}<extra></extra>",
           "legendgroup": "Jammu & Kashmir",
           "marker": {
            "color": "#FECB52",
            "pattern": {
             "shape": ""
            }
           },
           "name": "Jammu & Kashmir",
           "orientation": "v",
           "showlegend": true,
           "textposition": "auto",
           "type": "bar",
           "x": [
            "Jammu & Kashmir"
           ],
           "xaxis": "x",
           "y": {
            "bdata": "7FG4HoXrMUA=",
            "dtype": "f8"
           },
           "yaxis": "y"
          },
          {
           "hovertemplate": "state=%{x}<br>month=Jun<br>estimated unemployment rate=%{y}<extra></extra>",
           "legendgroup": "Jharkhand",
           "marker": {
            "color": "#636efa",
            "pattern": {
             "shape": ""
            }
           },
           "name": "Jharkhand",
           "orientation": "v",
           "showlegend": true,
           "textposition": "auto",
           "type": "bar",
           "x": [
            "Jharkhand"
           ],
           "xaxis": "x",
           "y": {
            "bdata": "MzMzMzPzNEA=",
            "dtype": "f8"
           },
           "yaxis": "y"
          },
          {
           "hovertemplate": "state=%{x}<br>month=Jun<br>estimated unemployment rate=%{y}<extra></extra>",
           "legendgroup": "Karnataka",
           "marker": {
            "color": "#EF553B",
            "pattern": {
             "shape": ""
            }
           },
           "name": "Karnataka",
           "orientation": "v",
           "showlegend": true,
           "textposition": "auto",
           "type": "bar",
           "x": [
            "Karnataka"
           ],
           "xaxis": "x",
           "y": {
            "bdata": "4XoUrkfhIEA=",
            "dtype": "f8"
           },
           "yaxis": "y"
          },
          {
           "hovertemplate": "state=%{x}<br>month=Jun<br>estimated unemployment rate=%{y}<extra></extra>",
           "legendgroup": "Kerala",
           "marker": {
            "color": "#00cc96",
            "pattern": {
             "shape": ""
            }
           },
           "name": "Kerala",
           "orientation": "v",
           "showlegend": true,
           "textposition": "auto",
           "type": "bar",
           "x": [
            "Kerala"
           ],
           "xaxis": "x",
           "y": {
            "bdata": "7FG4HoVrI0A=",
            "dtype": "f8"
           },
           "yaxis": "y"
          },
          {
           "hovertemplate": "state=%{x}<br>month=Jun<br>estimated unemployment rate=%{y}<extra></extra>",
           "legendgroup": "Madhya Pradesh",
           "marker": {
            "color": "#ab63fa",
            "pattern": {
             "shape": ""
            }
           },
           "name": "Madhya Pradesh",
           "orientation": "v",
           "showlegend": true,
           "textposition": "auto",
           "type": "bar",
           "x": [
            "Madhya Pradesh"
           ],
           "xaxis": "x",
           "y": {
            "bdata": "7FG4HoXrGUA=",
            "dtype": "f8"
           },
           "yaxis": "y"
          },
          {
           "hovertemplate": "state=%{x}<br>month=Jun<br>estimated unemployment rate=%{y}<extra></extra>",
           "legendgroup": "Maharashtra",
           "marker": {
            "color": "#FFA15A",
            "pattern": {
             "shape": ""
            }
           },
           "name": "Maharashtra",
           "orientation": "v",
           "showlegend": true,
           "textposition": "auto",
           "type": "bar",
           "x": [
            "Maharashtra"
           ],
           "xaxis": "x",
           "y": {
            "bdata": "9ihcj8J1IkA=",
            "dtype": "f8"
           },
           "yaxis": "y"
          },
          {
           "hovertemplate": "state=%{x}<br>month=Jun<br>estimated unemployment rate=%{y}<extra></extra>",
           "legendgroup": "Meghalaya",
           "marker": {
            "color": "#19d3f3",
            "pattern": {
             "shape": ""
            }
           },
           "name": "Meghalaya",
           "orientation": "v",
           "showlegend": true,
           "textposition": "auto",
           "type": "bar",
           "x": [
            "Meghalaya"
           ],
           "xaxis": "x",
           "y": {
            "bdata": "ZmZmZmZm8j8=",
            "dtype": "f8"
           },
           "yaxis": "y"
          },
          {
           "hovertemplate": "state=%{x}<br>month=Jun<br>estimated unemployment rate=%{y}<extra></extra>",
           "legendgroup": "Odisha",
           "marker": {
            "color": "#FF6692",
            "pattern": {
             "shape": ""
            }
           },
           "name": "Odisha",
           "orientation": "v",
           "showlegend": true,
           "textposition": "auto",
           "type": "bar",
           "x": [
            "Odisha"
           ],
           "xaxis": "x",
           "y": {
            "bdata": "KVyPwvUoDkA=",
            "dtype": "f8"
           },
           "yaxis": "y"
          },
          {
           "hovertemplate": "state=%{x}<br>month=Jun<br>estimated unemployment rate=%{y}<extra></extra>",
           "legendgroup": "Puducherry",
           "marker": {
            "color": "#B6E880",
            "pattern": {
             "shape": ""
            }
           },
           "name": "Puducherry",
           "orientation": "v",
           "showlegend": true,
           "textposition": "auto",
           "type": "bar",
           "x": [
            "Puducherry"
           ],
           "xaxis": "x",
           "y": {
            "bdata": "9ihcj8L1EEA=",
            "dtype": "f8"
           },
           "yaxis": "y"
          },
          {
           "hovertemplate": "state=%{x}<br>month=Jun<br>estimated unemployment rate=%{y}<extra></extra>",
           "legendgroup": "Punjab",
           "marker": {
            "color": "#FF97FF",
            "pattern": {
             "shape": ""
            }
           },
           "name": "Punjab",
           "orientation": "v",
           "showlegend": true,
           "textposition": "auto",
           "type": "bar",
           "x": [
            "Punjab"
           ],
           "xaxis": "x",
           "y": {
            "bdata": "zczMzMyMMEA=",
            "dtype": "f8"
           },
           "yaxis": "y"
          },
          {
           "hovertemplate": "state=%{x}<br>month=Jun<br>estimated unemployment rate=%{y}<extra></extra>",
           "legendgroup": "Rajasthan",
           "marker": {
            "color": "#FECB52",
            "pattern": {
             "shape": ""
            }
           },
           "name": "Rajasthan",
           "orientation": "v",
           "showlegend": true,
           "textposition": "auto",
           "type": "bar",
           "x": [
            "Rajasthan"
           ],
           "xaxis": "x",
           "y": {
            "bdata": "SOF6FK7HLEA=",
            "dtype": "f8"
           },
           "yaxis": "y"
          },
          {
           "hovertemplate": "state=%{x}<br>month=Jun<br>estimated unemployment rate=%{y}<extra></extra>",
           "legendgroup": "Sikkim",
           "marker": {
            "color": "#636efa",
            "pattern": {
             "shape": ""
            }
           },
           "name": "Sikkim",
           "orientation": "v",
           "showlegend": true,
           "textposition": "auto",
           "type": "bar",
           "x": [
            "Sikkim"
           ],
           "xaxis": "x",
           "y": {
            "bdata": "16NwPQrXEUA=",
            "dtype": "f8"
           },
           "yaxis": "y"
          },
          {
           "hovertemplate": "state=%{x}<br>month=Jun<br>estimated unemployment rate=%{y}<extra></extra>",
           "legendgroup": "Tamil Nadu",
           "marker": {
            "color": "#EF553B",
            "pattern": {
             "shape": ""
            }
           },
           "name": "Tamil Nadu",
           "orientation": "v",
           "showlegend": true,
           "textposition": "auto",
           "type": "bar",
           "x": [
            "Tamil Nadu"
           ],
           "xaxis": "x",
           "y": {
            "bdata": "ZmZmZmZmKEA=",
            "dtype": "f8"
           },
           "yaxis": "y"
          },
          {
           "hovertemplate": "state=%{x}<br>month=Jun<br>estimated unemployment rate=%{y}<extra></extra>",
           "legendgroup": "Telangana",
           "marker": {
            "color": "#00cc96",
            "pattern": {
             "shape": ""
            }
           },
           "name": "Telangana",
           "orientation": "v",
           "showlegend": true,
           "textposition": "auto",
           "type": "bar",
           "x": [
            "Telangana"
           ],
           "xaxis": "x",
           "y": {
            "bdata": "mpmZmZkZJUA=",
            "dtype": "f8"
           },
           "yaxis": "y"
          },
          {
           "hovertemplate": "state=%{x}<br>month=Jun<br>estimated unemployment rate=%{y}<extra></extra>",
           "legendgroup": "Tripura",
           "marker": {
            "color": "#ab63fa",
            "pattern": {
             "shape": ""
            }
           },
           "name": "Tripura",
           "orientation": "v",
           "showlegend": true,
           "textposition": "auto",
           "type": "bar",
           "x": [
            "Tripura"
           ],
           "xaxis": "x",
           "y": {
            "bdata": "9ihcj8K1NUA=",
            "dtype": "f8"
           },
           "yaxis": "y"
          },
          {
           "hovertemplate": "state=%{x}<br>month=Jun<br>estimated unemployment rate=%{y}<extra></extra>",
           "legendgroup": "Uttar Pradesh",
           "marker": {
            "color": "#FFA15A",
            "pattern": {
             "shape": ""
            }
           },
           "name": "Uttar Pradesh",
           "orientation": "v",
           "showlegend": true,
           "textposition": "auto",
           "type": "bar",
           "x": [
            "Uttar Pradesh"
           ],
           "xaxis": "x",
           "y": {
            "bdata": "cT0K16PwIkA=",
            "dtype": "f8"
           },
           "yaxis": "y"
          },
          {
           "hovertemplate": "state=%{x}<br>month=Jun<br>estimated unemployment rate=%{y}<extra></extra>",
           "legendgroup": "Uttarakhand",
           "marker": {
            "color": "#19d3f3",
            "pattern": {
             "shape": ""
            }
           },
           "name": "Uttarakhand",
           "orientation": "v",
           "showlegend": true,
           "textposition": "auto",
           "type": "bar",
           "x": [
            "Uttarakhand"
           ],
           "xaxis": "x",
           "y": {
            "bdata": "uB6F61E4IUA=",
            "dtype": "f8"
           },
           "yaxis": "y"
          },
          {
           "hovertemplate": "state=%{x}<br>month=Jun<br>estimated unemployment rate=%{y}<extra></extra>",
           "legendgroup": "West Bengal",
           "marker": {
            "color": "#FF6692",
            "pattern": {
             "shape": ""
            }
           },
           "name": "West Bengal",
           "orientation": "v",
           "showlegend": true,
           "textposition": "auto",
           "type": "bar",
           "x": [
            "West Bengal"
           ],
           "xaxis": "x",
           "y": {
            "bdata": "KVyPwvUoHUA=",
            "dtype": "f8"
           },
           "yaxis": "y"
          }
         ],
         "name": "Jun"
        },
        {
         "data": [
          {
           "hovertemplate": "state=%{x}<br>month=Jul<br>estimated unemployment rate=%{y}<extra></extra>",
           "legendgroup": "Andhra Pradesh",
           "marker": {
            "color": "#636efa",
            "pattern": {
             "shape": ""
            }
           },
           "name": "Andhra Pradesh",
           "orientation": "v",
           "showlegend": true,
           "textposition": "auto",
           "type": "bar",
           "x": [
            "Andhra Pradesh"
           ],
           "xaxis": "x",
           "y": {
            "bdata": "rkfhehSuIEA=",
            "dtype": "f8"
           },
           "yaxis": "y"
          },
          {
           "hovertemplate": "state=%{x}<br>month=Jul<br>estimated unemployment rate=%{y}<extra></extra>",
           "legendgroup": "Assam",
           "marker": {
            "color": "#EF553B",
            "pattern": {
             "shape": ""
            }
           },
           "name": "Assam",
           "orientation": "v",
           "showlegend": true,
           "textposition": "auto",
           "type": "bar",
           "x": [
            "Assam"
           ],
           "xaxis": "x",
           "y": {
            "bdata": "KVyPwvUoDkA=",
            "dtype": "f8"
           },
           "yaxis": "y"
          },
          {
           "hovertemplate": "state=%{x}<br>month=Jul<br>estimated unemployment rate=%{y}<extra></extra>",
           "legendgroup": "Bihar",
           "marker": {
            "color": "#00cc96",
            "pattern": {
             "shape": ""
            }
           },
           "name": "Bihar",
           "orientation": "v",
           "showlegend": true,
           "textposition": "auto",
           "type": "bar",
           "x": [
            "Bihar"
           ],
           "xaxis": "x",
           "y": {
            "bdata": "FK5H4XqUKUA=",
            "dtype": "f8"
           },
           "yaxis": "y"
          },
          {
           "hovertemplate": "state=%{x}<br>month=Jul<br>estimated unemployment rate=%{y}<extra></extra>",
           "legendgroup": "Chhattisgarh",
           "marker": {
            "color": "#ab63fa",
            "pattern": {
             "shape": ""
            }
           },
           "name": "Chhattisgarh",
           "orientation": "v",
           "showlegend": true,
           "textposition": "auto",
           "type": "bar",
           "x": [
            "Chhattisgarh"
           ],
           "xaxis": "x",
           "y": {
            "bdata": "CtejcD2KJEA=",
            "dtype": "f8"
           },
           "yaxis": "y"
          },
          {
           "hovertemplate": "state=%{x}<br>month=Jul<br>estimated unemployment rate=%{y}<extra></extra>",
           "legendgroup": "Delhi",
           "marker": {
            "color": "#FFA15A",
            "pattern": {
             "shape": ""
            }
           },
           "name": "Delhi",
           "orientation": "v",
           "showlegend": true,
           "textposition": "auto",
           "type": "bar",
           "x": [
            "Delhi"
           ],
           "xaxis": "x",
           "y": {
            "bdata": "zczMzMxMNEA=",
            "dtype": "f8"
           },
           "yaxis": "y"
          },
          {
           "hovertemplate": "state=%{x}<br>month=Jul<br>estimated unemployment rate=%{y}<extra></extra>",
           "legendgroup": "Goa",
           "marker": {
            "color": "#19d3f3",
            "pattern": {
             "shape": ""
            }
           },
           "name": "Goa",
           "orientation": "v",
           "showlegend": true,
           "textposition": "auto",
           "type": "bar",
           "x": [
            "Goa"
           ],
           "xaxis": "x",
           "y": {
            "bdata": "UrgehesRMUA=",
            "dtype": "f8"
           },
           "yaxis": "y"
          },
          {
           "hovertemplate": "state=%{x}<br>month=Jul<br>estimated unemployment rate=%{y}<extra></extra>",
           "legendgroup": "Gujarat",
           "marker": {
            "color": "#FF6692",
            "pattern": {
             "shape": ""
            }
           },
           "name": "Gujarat",
           "orientation": "v",
           "showlegend": true,
           "textposition": "auto",
           "type": "bar",
           "x": [
            "Gujarat"
           ],
           "xaxis": "x",
           "y": {
            "bdata": "cT0K16Nw/T8=",
            "dtype": "f8"
           },
           "yaxis": "y"
          },
          {
           "hovertemplate": "state=%{x}<br>month=Jul<br>estimated unemployment rate=%{y}<extra></extra>",
           "legendgroup": "Haryana",
           "marker": {
            "color": "#B6E880",
            "pattern": {
             "shape": ""
            }
           },
           "name": "Haryana",
           "orientation": "v",
           "showlegend": true,
           "textposition": "auto",
           "type": "bar",
           "x": [
            "Haryana"
           ],
           "xaxis": "x",
           "y": {
            "bdata": "rkfhehQuOEA=",
            "dtype": "f8"
           },
           "yaxis": "y"
          },
          {
           "hovertemplate": "state=%{x}<br>month=Jul<br>estimated unemployment rate=%{y}<extra></extra>",
           "legendgroup": "Himachal Pradesh",
           "marker": {
            "color": "#FF97FF",
            "pattern": {
             "shape": ""
            }
           },
           "name": "Himachal Pradesh",
           "orientation": "v",
           "showlegend": true,
           "textposition": "auto",
           "type": "bar",
           "x": [
            "Himachal Pradesh"
           ],
           "xaxis": "x",
           "y": {
            "bdata": "j8L1KFxPOEA=",
            "dtype": "f8"
           },
           "yaxis": "y"
          },
          {
           "hovertemplate": "state=%{x}<br>month=Jul<br>estimated unemployment rate=%{y}<extra></extra>",
           "legendgroup": "Jammu & Kashmir",
           "marker": {
            "color": "#FECB52",
            "pattern": {
             "shape": ""
            }
           },
           "name": "Jammu & Kashmir",
           "orientation": "v",
           "showlegend": true,
           "textposition": "auto",
           "type": "bar",
           "x": [
            "Jammu & Kashmir"
           ],
           "xaxis": "x",
           "y": {
            "bdata": "w/UoXI/CJUA=",
            "dtype": "f8"
           },
           "yaxis": "y"
          },
          {
           "hovertemplate": "state=%{x}<br>month=Jul<br>estimated unemployment rate=%{y}<extra></extra>",
           "legendgroup": "Jharkhand",
           "marker": {
            "color": "#636efa",
            "pattern": {
             "shape": ""
            }
           },
           "name": "Jharkhand",
           "orientation": "v",
           "showlegend": true,
           "textposition": "auto",
           "type": "bar",
           "x": [
            "Jharkhand"
           ],
           "xaxis": "x",
           "y": {
            "bdata": "hetRuB6FHkA=",
            "dtype": "f8"
           },
           "yaxis": "y"
          },
          {
           "hovertemplate": "state=%{x}<br>month=Jul<br>estimated unemployment rate=%{y}<extra></extra>",
           "legendgroup": "Karnataka",
           "marker": {
            "color": "#EF553B",
            "pattern": {
             "shape": ""
            }
           },
           "name": "Karnataka",
           "orientation": "v",
           "showlegend": true,
           "textposition": "auto",
           "type": "bar",
           "x": [
            "Karnataka"
           ],
           "xaxis": "x",
           "y": {
            "bdata": "CtejcD0KEEA=",
            "dtype": "f8"
           },
           "yaxis": "y"
          },
          {
           "hovertemplate": "state=%{x}<br>month=Jul<br>estimated unemployment rate=%{y}<extra></extra>",
           "legendgroup": "Kerala",
           "marker": {
            "color": "#00cc96",
            "pattern": {
             "shape": ""
            }
           },
           "name": "Kerala",
           "orientation": "v",
           "showlegend": true,
           "textposition": "auto",
           "type": "bar",
           "x": [
            "Kerala"
           ],
           "xaxis": "x",
           "y": {
            "bdata": "XI/C9ShcHEA=",
            "dtype": "f8"
           },
           "yaxis": "y"
          },
          {
           "hovertemplate": "state=%{x}<br>month=Jul<br>estimated unemployment rate=%{y}<extra></extra>",
           "legendgroup": "Madhya Pradesh",
           "marker": {
            "color": "#ab63fa",
            "pattern": {
             "shape": ""
            }
           },
           "name": "Madhya Pradesh",
           "orientation": "v",
           "showlegend": true,
           "textposition": "auto",
           "type": "bar",
           "x": [
            "Madhya Pradesh"
           ],
           "xaxis": "x",
           "y": {
            "bdata": "UrgehetRFEA=",
            "dtype": "f8"
           },
           "yaxis": "y"
          },
          {
           "hovertemplate": "state=%{x}<br>month=Jul<br>estimated unemployment rate=%{y}<extra></extra>",
           "legendgroup": "Maharashtra",
           "marker": {
            "color": "#FFA15A",
            "pattern": {
             "shape": ""
            }
           },
           "name": "Maharashtra",
           "orientation": "v",
           "showlegend": true,
           "textposition": "auto",
           "type": "bar",
           "x": [
            "Maharashtra"
           ],
           "xaxis": "x",
           "y": {
            "bdata": "H4XrUbgeD0A=",
            "dtype": "f8"
           },
           "yaxis": "y"
          },
          {
           "hovertemplate": "state=%{x}<br>month=Jul<br>estimated unemployment rate=%{y}<extra></extra>",
           "legendgroup": "Meghalaya",
           "marker": {
            "color": "#19d3f3",
            "pattern": {
             "shape": ""
            }
           },
           "name": "Meghalaya",
           "orientation": "v",
           "showlegend": true,
           "textposition": "auto",
           "type": "bar",
           "x": [
            "Meghalaya"
           ],
           "xaxis": "x",
           "y": {
            "bdata": "zczMzMzMAEA=",
            "dtype": "f8"
           },
           "yaxis": "y"
          },
          {
           "hovertemplate": "state=%{x}<br>month=Jul<br>estimated unemployment rate=%{y}<extra></extra>",
           "legendgroup": "Odisha",
           "marker": {
            "color": "#FF6692",
            "pattern": {
             "shape": ""
            }
           },
           "name": "Odisha",
           "orientation": "v",
           "showlegend": true,
           "textposition": "auto",
           "type": "bar",
           "x": [
            "Odisha"
           ],
           "xaxis": "x",
           "y": {
            "bdata": "FK5H4XoU/j8=",
            "dtype": "f8"
           },
           "yaxis": "y"
          },
          {
           "hovertemplate": "state=%{x}<br>month=Jul<br>estimated unemployment rate=%{y}<extra></extra>",
           "legendgroup": "Puducherry",
           "marker": {
            "color": "#B6E880",
            "pattern": {
             "shape": ""
            }
           },
           "name": "Puducherry",
           "orientation": "v",
           "showlegend": true,
           "textposition": "auto",
           "type": "bar",
           "x": [
            "Puducherry"
           ],
           "xaxis": "x",
           "y": {
            "bdata": "cT0K16PwLkA=",
            "dtype": "f8"
           },
           "yaxis": "y"
          },
          {
           "hovertemplate": "state=%{x}<br>month=Jul<br>estimated unemployment rate=%{y}<extra></extra>",
           "legendgroup": "Punjab",
           "marker": {
            "color": "#FF97FF",
            "pattern": {
             "shape": ""
            }
           },
           "name": "Punjab",
           "orientation": "v",
           "showlegend": true,
           "textposition": "auto",
           "type": "bar",
           "x": [
            "Punjab"
           ],
           "xaxis": "x",
           "y": {
            "bdata": "4XoUrkdhIkA=",
            "dtype": "f8"
           },
           "yaxis": "y"
          },
          {
           "hovertemplate": "state=%{x}<br>month=Jul<br>estimated unemployment rate=%{y}<extra></extra>",
           "legendgroup": "Rajasthan",
           "marker": {
            "color": "#FECB52",
            "pattern": {
             "shape": ""
            }
           },
           "name": "Rajasthan",
           "orientation": "v",
           "showlegend": true,
           "textposition": "auto",
           "type": "bar",
           "x": [
            "Rajasthan"
           ],
           "xaxis": "x",
           "y": {
            "bdata": "H4XrUbieL0A=",
            "dtype": "f8"
           },
           "yaxis": "y"
          },
          {
           "hovertemplate": "state=%{x}<br>month=Jul<br>estimated unemployment rate=%{y}<extra></extra>",
           "legendgroup": "Sikkim",
           "marker": {
            "color": "#636efa",
            "pattern": {
             "shape": ""
            }
           },
           "name": "Sikkim",
           "orientation": "v",
           "showlegend": true,
           "textposition": "auto",
           "type": "bar",
           "x": [
            "Sikkim"
           ],
           "xaxis": "x",
           "y": {
            "bdata": "zczMzMzMEUA=",
            "dtype": "f8"
           },
           "yaxis": "y"
          },
          {
           "hovertemplate": "state=%{x}<br>month=Jul<br>estimated unemployment rate=%{y}<extra></extra>",
           "legendgroup": "Tamil Nadu",
           "marker": {
            "color": "#EF553B",
            "pattern": {
             "shape": ""
            }
           },
           "name": "Tamil Nadu",
           "orientation": "v",
           "showlegend": true,
           "textposition": "auto",
           "type": "bar",
           "x": [
            "Tamil Nadu"
           ],
           "xaxis": "x",
           "y": {
            "bdata": "PQrXo3A9G0A=",
            "dtype": "f8"
           },
           "yaxis": "y"
          },
          {
           "hovertemplate": "state=%{x}<br>month=Jul<br>estimated unemployment rate=%{y}<extra></extra>",
           "legendgroup": "Telangana",
           "marker": {
            "color": "#00cc96",
            "pattern": {
             "shape": ""
            }
           },
           "name": "Telangana",
           "orientation": "v",
           "showlegend": true,
           "textposition": "auto",
           "type": "bar",
           "x": [
            "Telangana"
           ],
           "xaxis": "x",
           "y": {
            "bdata": "cT0K16NwFUA=",
            "dtype": "f8"
           },
           "yaxis": "y"
          },
          {
           "hovertemplate": "state=%{x}<br>month=Jul<br>estimated unemployment rate=%{y}<extra></extra>",
           "legendgroup": "Tripura",
           "marker": {
            "color": "#ab63fa",
            "pattern": {
             "shape": ""
            }
           },
           "name": "Tripura",
           "orientation": "v",
           "showlegend": true,
           "textposition": "auto",
           "type": "bar",
           "x": [
            "Tripura"
           ],
           "xaxis": "x",
           "y": {
            "bdata": "PQrXo3A9MkA=",
            "dtype": "f8"
           },
           "yaxis": "y"
          },
          {
           "hovertemplate": "state=%{x}<br>month=Jul<br>estimated unemployment rate=%{y}<extra></extra>",
           "legendgroup": "Uttar Pradesh",
           "marker": {
            "color": "#FFA15A",
            "pattern": {
             "shape": ""
            }
           },
           "name": "Uttar Pradesh",
           "orientation": "v",
           "showlegend": true,
           "textposition": "auto",
           "type": "bar",
           "x": [
            "Uttar Pradesh"
           ],
           "xaxis": "x",
           "y": {
            "bdata": "PQrXo3A9FkA=",
            "dtype": "f8"
           },
           "yaxis": "y"
          },
          {
           "hovertemplate": "state=%{x}<br>month=Jul<br>estimated unemployment rate=%{y}<extra></extra>",
           "legendgroup": "Uttarakhand",
           "marker": {
            "color": "#19d3f3",
            "pattern": {
             "shape": ""
            }
           },
           "name": "Uttarakhand",
           "orientation": "v",
           "showlegend": true,
           "textposition": "auto",
           "type": "bar",
           "x": [
            "Uttarakhand"
           ],
           "xaxis": "x",
           "y": {
            "bdata": "w/UoXI/CKEA=",
            "dtype": "f8"
           },
           "yaxis": "y"
          },
          {
           "hovertemplate": "state=%{x}<br>month=Jul<br>estimated unemployment rate=%{y}<extra></extra>",
           "legendgroup": "West Bengal",
           "marker": {
            "color": "#FF6692",
            "pattern": {
             "shape": ""
            }
           },
           "name": "West Bengal",
           "orientation": "v",
           "showlegend": true,
           "textposition": "auto",
           "type": "bar",
           "x": [
            "West Bengal"
           ],
           "xaxis": "x",
           "y": {
            "bdata": "UrgehetRG0A=",
            "dtype": "f8"
           },
           "yaxis": "y"
          }
         ],
         "name": "Jul"
        },
        {
         "data": [
          {
           "hovertemplate": "state=%{x}<br>month=Aug<br>estimated unemployment rate=%{y}<extra></extra>",
           "legendgroup": "Andhra Pradesh",
           "marker": {
            "color": "#636efa",
            "pattern": {
             "shape": ""
            }
           },
           "name": "Andhra Pradesh",
           "orientation": "v",
           "showlegend": true,
           "textposition": "auto",
           "type": "bar",
           "x": [
            "Andhra Pradesh"
           ],
           "xaxis": "x",
           "y": {
            "bdata": "16NwPQrXG0A=",
            "dtype": "f8"
           },
           "yaxis": "y"
          },
          {
           "hovertemplate": "state=%{x}<br>month=Aug<br>estimated unemployment rate=%{y}<extra></extra>",
           "legendgroup": "Assam",
           "marker": {
            "color": "#EF553B",
            "pattern": {
             "shape": ""
            }
           },
           "name": "Assam",
           "orientation": "v",
           "showlegend": true,
           "textposition": "auto",
           "type": "bar",
           "x": [
            "Assam"
           ],
           "xaxis": "x",
           "y": {
            "bdata": "H4XrUbgeFkA=",
            "dtype": "f8"
           },
           "yaxis": "y"
          },
          {
           "hovertemplate": "state=%{x}<br>month=Aug<br>estimated unemployment rate=%{y}<extra></extra>",
           "legendgroup": "Bihar",
           "marker": {
            "color": "#00cc96",
            "pattern": {
             "shape": ""
            }
           },
           "name": "Bihar",
           "orientation": "v",
           "showlegend": true,
           "textposition": "auto",
           "type": "bar",
           "x": [
            "Bihar"
           ],
           "xaxis": "x",
           "y": {
            "bdata": "4XoUrkfhKkA=",
            "dtype": "f8"
           },
           "yaxis": "y"
          },
          {
           "hovertemplate": "state=%{x}<br>month=Aug<br>estimated unemployment rate=%{y}<extra></extra>",
           "legendgroup": "Chhattisgarh",
           "marker": {
            "color": "#ab63fa",
            "pattern": {
             "shape": ""
            }
           },
           "name": "Chhattisgarh",
           "orientation": "v",
           "showlegend": true,
           "textposition": "auto",
           "type": "bar",
           "x": [
            "Chhattisgarh"
           ],
           "xaxis": "x",
           "y": {
            "bdata": "hetRuB6FFkA=",
            "dtype": "f8"
           },
           "yaxis": "y"
          },
          {
           "hovertemplate": "state=%{x}<br>month=Aug<br>estimated unemployment rate=%{y}<extra></extra>",
           "legendgroup": "Delhi",
           "marker": {
            "color": "#FFA15A",
            "pattern": {
             "shape": ""
            }
           },
           "name": "Delhi",
           "orientation": "v",
           "showlegend": true,
           "textposition": "auto",
           "type": "bar",
           "x": [
            "Delhi"
           ],
           "xaxis": "x",
           "y": {
            "bdata": "FK5H4XqUK0A=",
            "dtype": "f8"
           },
           "yaxis": "y"
          },
          {
           "hovertemplate": "state=%{x}<br>month=Aug<br>estimated unemployment rate=%{y}<extra></extra>",
           "legendgroup": "Goa",
           "marker": {
            "color": "#19d3f3",
            "pattern": {
             "shape": ""
            }
           },
           "name": "Goa",
           "orientation": "v",
           "showlegend": true,
           "textposition": "auto",
           "type": "bar",
           "x": [
            "Goa"
           ],
           "xaxis": "x",
           "y": {
            "bdata": "9ihcj8I1MEA=",
            "dtype": "f8"
           },
           "yaxis": "y"
          },
          {
           "hovertemplate": "state=%{x}<br>month=Aug<br>estimated unemployment rate=%{y}<extra></extra>",
           "legendgroup": "Gujarat",
           "marker": {
            "color": "#FF6692",
            "pattern": {
             "shape": ""
            }
           },
           "name": "Gujarat",
           "orientation": "v",
           "showlegend": true,
           "textposition": "auto",
           "type": "bar",
           "x": [
            "Gujarat"
           ],
           "xaxis": "x",
           "y": {
            "bdata": "7FG4HoXr/T8=",
            "dtype": "f8"
           },
           "yaxis": "y"
          },
          {
           "hovertemplate": "state=%{x}<br>month=Aug<br>estimated unemployment rate=%{y}<extra></extra>",
           "legendgroup": "Haryana",
           "marker": {
            "color": "#B6E880",
            "pattern": {
             "shape": ""
            }
           },
           "name": "Haryana",
           "orientation": "v",
           "showlegend": true,
           "textposition": "auto",
           "type": "bar",
           "x": [
            "Haryana"
           ],
           "xaxis": "x",
           "y": {
            "bdata": "AAAAAADAQEA=",
            "dtype": "f8"
           },
           "yaxis": "y"
          },
          {
           "hovertemplate": "state=%{x}<br>month=Aug<br>estimated unemployment rate=%{y}<extra></extra>",
           "legendgroup": "Himachal Pradesh",
           "marker": {
            "color": "#FF97FF",
            "pattern": {
             "shape": ""
            }
           },
           "name": "Himachal Pradesh",
           "orientation": "v",
           "showlegend": true,
           "textposition": "auto",
           "type": "bar",
           "x": [
            "Himachal Pradesh"
           ],
           "xaxis": "x",
           "y": {
            "bdata": "FK5H4XqUL0A=",
            "dtype": "f8"
           },
           "yaxis": "y"
          },
          {
           "hovertemplate": "state=%{x}<br>month=Aug<br>estimated unemployment rate=%{y}<extra></extra>",
           "legendgroup": "Jammu & Kashmir",
           "marker": {
            "color": "#FECB52",
            "pattern": {
             "shape": ""
            }
           },
           "name": "Jammu & Kashmir",
           "orientation": "v",
           "showlegend": true,
           "textposition": "auto",
           "type": "bar",
           "x": [
            "Jammu & Kashmir"
           ],
           "xaxis": "x",
           "y": {
            "bdata": "rkfhehQuJkA=",
            "dtype": "f8"
           },
           "yaxis": "y"
          },
          {
           "hovertemplate": "state=%{x}<br>month=Aug<br>estimated unemployment rate=%{y}<extra></extra>",
           "legendgroup": "Jharkhand",
           "marker": {
            "color": "#636efa",
            "pattern": {
             "shape": ""
            }
           },
           "name": "Jharkhand",
           "orientation": "v",
           "showlegend": true,
           "textposition": "auto",
           "type": "bar",
           "x": [
            "Jharkhand"
           ],
           "xaxis": "x",
           "y": {
            "bdata": "hetRuB6FI0A=",
            "dtype": "f8"
           },
           "yaxis": "y"
          },
          {
           "hovertemplate": "state=%{x}<br>month=Aug<br>estimated unemployment rate=%{y}<extra></extra>",
           "legendgroup": "Karnataka",
           "marker": {
            "color": "#EF553B",
            "pattern": {
             "shape": ""
            }
           },
           "name": "Karnataka",
           "orientation": "v",
           "showlegend": true,
           "textposition": "auto",
           "type": "bar",
           "x": [
            "Karnataka"
           ],
           "xaxis": "x",
           "y": {
            "bdata": "AAAAAAAA4D8=",
            "dtype": "f8"
           },
           "yaxis": "y"
          },
          {
           "hovertemplate": "state=%{x}<br>month=Aug<br>estimated unemployment rate=%{y}<extra></extra>",
           "legendgroup": "Kerala",
           "marker": {
            "color": "#00cc96",
            "pattern": {
             "shape": ""
            }
           },
           "name": "Kerala",
           "orientation": "v",
           "showlegend": true,
           "textposition": "auto",
           "type": "bar",
           "x": [
            "Kerala"
           ],
           "xaxis": "x",
           "y": {
            "bdata": "9ihcj8L1JUA=",
            "dtype": "f8"
           },
           "yaxis": "y"
          },
          {
           "hovertemplate": "state=%{x}<br>month=Aug<br>estimated unemployment rate=%{y}<extra></extra>",
           "legendgroup": "Madhya Pradesh",
           "marker": {
            "color": "#ab63fa",
            "pattern": {
             "shape": ""
            }
           },
           "name": "Madhya Pradesh",
           "orientation": "v",
           "showlegend": true,
           "textposition": "auto",
           "type": "bar",
           "x": [
            "Madhya Pradesh"
           ],
           "xaxis": "x",
           "y": {
            "bdata": "zczMzMzMEkA=",
            "dtype": "f8"
           },
           "yaxis": "y"
          },
          {
           "hovertemplate": "state=%{x}<br>month=Aug<br>estimated unemployment rate=%{y}<extra></extra>",
           "legendgroup": "Maharashtra",
           "marker": {
            "color": "#FFA15A",
            "pattern": {
             "shape": ""
            }
           },
           "name": "Maharashtra",
           "orientation": "v",
           "showlegend": true,
           "textposition": "auto",
           "type": "bar",
           "x": [
            "Maharashtra"
           ],
           "xaxis": "x",
           "y": {
            "bdata": "7FG4HoXrGEA=",
            "dtype": "f8"
           },
           "yaxis": "y"
          },
          {
           "hovertemplate": "state=%{x}<br>month=Aug<br>estimated unemployment rate=%{y}<extra></extra>",
           "legendgroup": "Meghalaya",
           "marker": {
            "color": "#19d3f3",
            "pattern": {
             "shape": ""
            }
           },
           "name": "Meghalaya",
           "orientation": "v",
           "showlegend": true,
           "textposition": "auto",
           "type": "bar",
           "x": [
            "Meghalaya"
           ],
           "xaxis": "x",
           "y": {
            "bdata": "7FG4HoXrDUA=",
            "dtype": "f8"
           },
           "yaxis": "y"
          },
          {
           "hovertemplate": "state=%{x}<br>month=Aug<br>estimated unemployment rate=%{y}<extra></extra>",
           "legendgroup": "Odisha",
           "marker": {
            "color": "#FF6692",
            "pattern": {
             "shape": ""
            }
           },
           "name": "Odisha",
           "orientation": "v",
           "showlegend": true,
           "textposition": "auto",
           "type": "bar",
           "x": [
            "Odisha"
           ],
           "xaxis": "x",
           "y": {
            "bdata": "uB6F61G49j8=",
            "dtype": "f8"
           },
           "yaxis": "y"
          },
          {
           "hovertemplate": "state=%{x}<br>month=Aug<br>estimated unemployment rate=%{y}<extra></extra>",
           "legendgroup": "Puducherry",
           "marker": {
            "color": "#B6E880",
            "pattern": {
             "shape": ""
            }
           },
           "name": "Puducherry",
           "orientation": "v",
           "showlegend": true,
           "textposition": "auto",
           "type": "bar",
           "x": [
            "Puducherry"
           ],
           "xaxis": "x",
           "y": {
            "bdata": "MzMzMzMzFEA=",
            "dtype": "f8"
           },
           "yaxis": "y"
          },
          {
           "hovertemplate": "state=%{x}<br>month=Aug<br>estimated unemployment rate=%{y}<extra></extra>",
           "legendgroup": "Punjab",
           "marker": {
            "color": "#FF97FF",
            "pattern": {
             "shape": ""
            }
           },
           "name": "Punjab",
           "orientation": "v",
           "showlegend": true,
           "textposition": "auto",
           "type": "bar",
           "x": [
            "Punjab"
           ],
           "xaxis": "x",
           "y": {
            "bdata": "exSuR+H6JUA=",
            "dtype": "f8"
           },
           "yaxis": "y"
          },
          {
           "hovertemplate": "state=%{x}<br>month=Aug<br>estimated unemployment rate=%{y}<extra></extra>",
           "legendgroup": "Rajasthan",
           "marker": {
            "color": "#FECB52",
            "pattern": {
             "shape": ""
            }
           },
           "name": "Rajasthan",
           "orientation": "v",
           "showlegend": true,
           "textposition": "auto",
           "type": "bar",
           "x": [
            "Rajasthan"
           ],
           "xaxis": "x",
           "y": {
            "bdata": "w/UoXI+CMUA=",
            "dtype": "f8"
           },
           "yaxis": "y"
          },
          {
           "hovertemplate": "state=%{x}<br>month=Aug<br>estimated unemployment rate=%{y}<extra></extra>",
           "legendgroup": "Sikkim",
           "marker": {
            "color": "#636efa",
            "pattern": {
             "shape": ""
            }
           },
           "name": "Sikkim",
           "orientation": "v",
           "showlegend": true,
           "textposition": "auto",
           "type": "bar",
           "x": [
            "Sikkim"
           ],
           "xaxis": "x",
           "y": {
            "bdata": "exSuR+H6KEA=",
            "dtype": "f8"
           },
           "yaxis": "y"
          },
          {
           "hovertemplate": "state=%{x}<br>month=Aug<br>estimated unemployment rate=%{y}<extra></extra>",
           "legendgroup": "Tamil Nadu",
           "marker": {
            "color": "#EF553B",
            "pattern": {
             "shape": ""
            }
           },
           "name": "Tamil Nadu",
           "orientation": "v",
           "showlegend": true,
           "textposition": "auto",
           "type": "bar",
           "x": [
            "Tamil Nadu"
           ],
           "xaxis": "x",
           "y": {
            "bdata": "MzMzMzMzBUA=",
            "dtype": "f8"
           },
           "yaxis": "y"
          },
          {
           "hovertemplate": "state=%{x}<br>month=Aug<br>estimated unemployment rate=%{y}<extra></extra>",
           "legendgroup": "Telangana",
           "marker": {
            "color": "#00cc96",
            "pattern": {
             "shape": ""
            }
           },
           "name": "Telangana",
           "orientation": "v",
           "showlegend": true,
           "textposition": "auto",
           "type": "bar",
           "x": [
            "Telangana"
           ],
           "xaxis": "x",
           "y": {
            "bdata": "KVyPwvUoF0A=",
            "dtype": "f8"
           },
           "yaxis": "y"
          },
          {
           "hovertemplate": "state=%{x}<br>month=Aug<br>estimated unemployment rate=%{y}<extra></extra>",
           "legendgroup": "Tripura",
           "marker": {
            "color": "#ab63fa",
            "pattern": {
             "shape": ""
            }
           },
           "name": "Tripura",
           "orientation": "v",
           "showlegend": true,
           "textposition": "auto",
           "type": "bar",
           "x": [
            "Tripura"
           ],
           "xaxis": "x",
           "y": {
            "bdata": "7FG4HoXrO0A=",
            "dtype": "f8"
           },
           "yaxis": "y"
          },
          {
           "hovertemplate": "state=%{x}<br>month=Aug<br>estimated unemployment rate=%{y}<extra></extra>",
           "legendgroup": "Uttar Pradesh",
           "marker": {
            "color": "#FFA15A",
            "pattern": {
             "shape": ""
            }
           },
           "name": "Uttar Pradesh",
           "orientation": "v",
           "showlegend": true,
           "textposition": "auto",
           "type": "bar",
           "x": [
            "Uttar Pradesh"
           ],
           "xaxis": "x",
           "y": {
            "bdata": "KVyPwvUoF0A=",
            "dtype": "f8"
           },
           "yaxis": "y"
          },
          {
           "hovertemplate": "state=%{x}<br>month=Aug<br>estimated unemployment rate=%{y}<extra></extra>",
           "legendgroup": "Uttarakhand",
           "marker": {
            "color": "#19d3f3",
            "pattern": {
             "shape": ""
            }
           },
           "name": "Uttarakhand",
           "orientation": "v",
           "showlegend": true,
           "textposition": "auto",
           "type": "bar",
           "x": [
            "Uttarakhand"
           ],
           "xaxis": "x",
           "y": {
            "bdata": "hetRuB6FLEA=",
            "dtype": "f8"
           },
           "yaxis": "y"
          },
          {
           "hovertemplate": "state=%{x}<br>month=Aug<br>estimated unemployment rate=%{y}<extra></extra>",
           "legendgroup": "West Bengal",
           "marker": {
            "color": "#FF6692",
            "pattern": {
             "shape": ""
            }
           },
           "name": "West Bengal",
           "orientation": "v",
           "showlegend": true,
           "textposition": "auto",
           "type": "bar",
           "x": [
            "West Bengal"
           ],
           "xaxis": "x",
           "y": {
            "bdata": "PQrXo3C9LUA=",
            "dtype": "f8"
           },
           "yaxis": "y"
          }
         ],
         "name": "Aug"
        },
        {
         "data": [
          {
           "hovertemplate": "state=%{x}<br>month=Sep<br>estimated unemployment rate=%{y}<extra></extra>",
           "legendgroup": "Andhra Pradesh",
           "marker": {
            "color": "#636efa",
            "pattern": {
             "shape": ""
            }
           },
           "name": "Andhra Pradesh",
           "orientation": "v",
           "showlegend": true,
           "textposition": "auto",
           "type": "bar",
           "x": [
            "Andhra Pradesh"
           ],
           "xaxis": "x",
           "y": {
            "bdata": "mpmZmZmZGUA=",
            "dtype": "f8"
           },
           "yaxis": "y"
          },
          {
           "hovertemplate": "state=%{x}<br>month=Sep<br>estimated unemployment rate=%{y}<extra></extra>",
           "legendgroup": "Assam",
           "marker": {
            "color": "#EF553B",
            "pattern": {
             "shape": ""
            }
           },
           "name": "Assam",
           "orientation": "v",
           "showlegend": true,
           "textposition": "auto",
           "type": "bar",
           "x": [
            "Assam"
           ],
           "xaxis": "x",
           "y": {
            "bdata": "CtejcD0K8z8=",
            "dtype": "f8"
           },
           "yaxis": "y"
          },
          {
           "hovertemplate": "state=%{x}<br>month=Sep<br>estimated unemployment rate=%{y}<extra></extra>",
           "legendgroup": "Bihar",
           "marker": {
            "color": "#00cc96",
            "pattern": {
             "shape": ""
            }
           },
           "name": "Bihar",
           "orientation": "v",
           "showlegend": true,
           "textposition": "auto",
           "type": "bar",
           "x": [
            "Bihar"
           ],
           "xaxis": "x",
           "y": {
            "bdata": "UrgehevRJ0A=",
            "dtype": "f8"
           },
           "yaxis": "y"
          },
          {
           "hovertemplate": "state=%{x}<br>month=Sep<br>estimated unemployment rate=%{y}<extra></extra>",
           "legendgroup": "Chhattisgarh",
           "marker": {
            "color": "#ab63fa",
            "pattern": {
             "shape": ""
            }
           },
           "name": "Chhattisgarh",
           "orientation": "v",
           "showlegend": true,
           "textposition": "auto",
           "type": "bar",
           "x": [
            "Chhattisgarh"
           ],
           "xaxis": "x",
           "y": {
            "bdata": "XI/C9Shc/z8=",
            "dtype": "f8"
           },
           "yaxis": "y"
          },
          {
           "hovertemplate": "state=%{x}<br>month=Sep<br>estimated unemployment rate=%{y}<extra></extra>",
           "legendgroup": "Delhi",
           "marker": {
            "color": "#FFA15A",
            "pattern": {
             "shape": ""
            }
           },
           "name": "Delhi",
           "orientation": "v",
           "showlegend": true,
           "textposition": "auto",
           "type": "bar",
           "x": [
            "Delhi"
           ],
           "xaxis": "x",
           "y": {
            "bdata": "j8L1KFwPKUA=",
            "dtype": "f8"
           },
           "yaxis": "y"
          },
          {
           "hovertemplate": "state=%{x}<br>month=Sep<br>estimated unemployment rate=%{y}<extra></extra>",
           "legendgroup": "Goa",
           "marker": {
            "color": "#19d3f3",
            "pattern": {
             "shape": ""
            }
           },
           "name": "Goa",
           "orientation": "v",
           "showlegend": true,
           "textposition": "auto",
           "type": "bar",
           "x": [
            "Goa"
           ],
           "xaxis": "x",
           "y": {
            "bdata": "w/UoXI/CLkA=",
            "dtype": "f8"
           },
           "yaxis": "y"
          },
          {
           "hovertemplate": "state=%{x}<br>month=Sep<br>estimated unemployment rate=%{y}<extra></extra>",
           "legendgroup": "Gujarat",
           "marker": {
            "color": "#FF6692",
            "pattern": {
             "shape": ""
            }
           },
           "name": "Gujarat",
           "orientation": "v",
           "showlegend": true,
           "textposition": "auto",
           "type": "bar",
           "x": [
            "Gujarat"
           ],
           "xaxis": "x",
           "y": {
            "bdata": "XI/C9ShcC0A=",
            "dtype": "f8"
           },
           "yaxis": "y"
          },
          {
           "hovertemplate": "state=%{x}<br>month=Sep<br>estimated unemployment rate=%{y}<extra></extra>",
           "legendgroup": "Haryana",
           "marker": {
            "color": "#B6E880",
            "pattern": {
             "shape": ""
            }
           },
           "name": "Haryana",
           "orientation": "v",
           "showlegend": true,
           "textposition": "auto",
           "type": "bar",
           "x": [
            "Haryana"
           ],
           "xaxis": "x",
           "y": {
            "bdata": "rkfhehSuM0A=",
            "dtype": "f8"
           },
           "yaxis": "y"
          },
          {
           "hovertemplate": "state=%{x}<br>month=Sep<br>estimated unemployment rate=%{y}<extra></extra>",
           "legendgroup": "Himachal Pradesh",
           "marker": {
            "color": "#FF97FF",
            "pattern": {
             "shape": ""
            }
           },
           "name": "Himachal Pradesh",
           "orientation": "v",
           "showlegend": true,
           "textposition": "auto",
           "type": "bar",
           "x": [
            "Himachal Pradesh"
           ],
           "xaxis": "x",
           "y": {
            "bdata": "FK5H4XoUKEA=",
            "dtype": "f8"
           },
           "yaxis": "y"
          },
          {
           "hovertemplate": "state=%{x}<br>month=Sep<br>estimated unemployment rate=%{y}<extra></extra>",
           "legendgroup": "Jammu & Kashmir",
           "marker": {
            "color": "#FECB52",
            "pattern": {
             "shape": ""
            }
           },
           "name": "Jammu & Kashmir",
           "orientation": "v",
           "showlegend": true,
           "textposition": "auto",
           "type": "bar",
           "x": [
            "Jammu & Kashmir"
           ],
           "xaxis": "x",
           "y": {
            "bdata": "7FG4HoUrMEA=",
            "dtype": "f8"
           },
           "yaxis": "y"
          },
          {
           "hovertemplate": "state=%{x}<br>month=Sep<br>estimated unemployment rate=%{y}<extra></extra>",
           "legendgroup": "Jharkhand",
           "marker": {
            "color": "#636efa",
            "pattern": {
             "shape": ""
            }
           },
           "name": "Jharkhand",
           "orientation": "v",
           "showlegend": true,
           "textposition": "auto",
           "type": "bar",
           "x": [
            "Jharkhand"
           ],
           "xaxis": "x",
           "y": {
            "bdata": "exSuR+F6IEA=",
            "dtype": "f8"
           },
           "yaxis": "y"
          },
          {
           "hovertemplate": "state=%{x}<br>month=Sep<br>estimated unemployment rate=%{y}<extra></extra>",
           "legendgroup": "Karnataka",
           "marker": {
            "color": "#EF553B",
            "pattern": {
             "shape": ""
            }
           },
           "name": "Karnataka",
           "orientation": "v",
           "showlegend": true,
           "textposition": "auto",
           "type": "bar",
           "x": [
            "Karnataka"
           ],
           "xaxis": "x",
           "y": {
            "bdata": "SOF6FK5HA0A=",
            "dtype": "f8"
           },
           "yaxis": "y"
          },
          {
           "hovertemplate": "state=%{x}<br>month=Sep<br>estimated unemployment rate=%{y}<extra></extra>",
           "legendgroup": "Kerala",
           "marker": {
            "color": "#00cc96",
            "pattern": {
             "shape": ""
            }
           },
           "name": "Kerala",
           "orientation": "v",
           "showlegend": true,
           "textposition": "auto",
           "type": "bar",
           "x": [
            "Kerala"
           ],
           "xaxis": "x",
           "y": {
            "bdata": "pHA9CtejF0A=",
            "dtype": "f8"
           },
           "yaxis": "y"
          },
          {
           "hovertemplate": "state=%{x}<br>month=Sep<br>estimated unemployment rate=%{y}<extra></extra>",
           "legendgroup": "Madhya Pradesh",
           "marker": {
            "color": "#ab63fa",
            "pattern": {
             "shape": ""
            }
           },
           "name": "Madhya Pradesh",
           "orientation": "v",
           "showlegend": true,
           "textposition": "auto",
           "type": "bar",
           "x": [
            "Madhya Pradesh"
           ],
           "xaxis": "x",
           "y": {
            "bdata": "SOF6FK5HD0A=",
            "dtype": "f8"
           },
           "yaxis": "y"
          },
          {
           "hovertemplate": "state=%{x}<br>month=Sep<br>estimated unemployment rate=%{y}<extra></extra>",
           "legendgroup": "Maharashtra",
           "marker": {
            "color": "#FFA15A",
            "pattern": {
             "shape": ""
            }
           },
           "name": "Maharashtra",
           "orientation": "v",
           "showlegend": true,
           "textposition": "auto",
           "type": "bar",
           "x": [
            "Maharashtra"
           ],
           "xaxis": "x",
           "y": {
            "bdata": "MzMzMzMzEkA=",
            "dtype": "f8"
           },
           "yaxis": "y"
          },
          {
           "hovertemplate": "state=%{x}<br>month=Sep<br>estimated unemployment rate=%{y}<extra></extra>",
           "legendgroup": "Meghalaya",
           "marker": {
            "color": "#19d3f3",
            "pattern": {
             "shape": ""
            }
           },
           "name": "Meghalaya",
           "orientation": "v",
           "showlegend": true,
           "textposition": "auto",
           "type": "bar",
           "x": [
            "Meghalaya"
           ],
           "xaxis": "x",
           "y": {
            "bdata": "KVyPwvUoEUA=",
            "dtype": "f8"
           },
           "yaxis": "y"
          },
          {
           "hovertemplate": "state=%{x}<br>month=Sep<br>estimated unemployment rate=%{y}<extra></extra>",
           "legendgroup": "Odisha",
           "marker": {
            "color": "#FF6692",
            "pattern": {
             "shape": ""
            }
           },
           "name": "Odisha",
           "orientation": "v",
           "showlegend": true,
           "textposition": "auto",
           "type": "bar",
           "x": [
            "Odisha"
           ],
           "xaxis": "x",
           "y": {
            "bdata": "zczMzMzMAEA=",
            "dtype": "f8"
           },
           "yaxis": "y"
          },
          {
           "hovertemplate": "state=%{x}<br>month=Sep<br>estimated unemployment rate=%{y}<extra></extra>",
           "legendgroup": "Puducherry",
           "marker": {
            "color": "#B6E880",
            "pattern": {
             "shape": ""
            }
           },
           "name": "Puducherry",
           "orientation": "v",
           "showlegend": true,
           "textposition": "auto",
           "type": "bar",
           "x": [
            "Puducherry"
           ],
           "xaxis": "x",
           "y": {
            "bdata": "zczMzMzMJUA=",
            "dtype": "f8"
           },
           "yaxis": "y"
          },
          {
           "hovertemplate": "state=%{x}<br>month=Sep<br>estimated unemployment rate=%{y}<extra></extra>",
           "legendgroup": "Punjab",
           "marker": {
            "color": "#FF97FF",
            "pattern": {
             "shape": ""
            }
           },
           "name": "Punjab",
           "orientation": "v",
           "showlegend": true,
           "textposition": "auto",
           "type": "bar",
           "x": [
            "Punjab"
           ],
           "xaxis": "x",
           "y": {
            "bdata": "uB6F61E4I0A=",
            "dtype": "f8"
           },
           "yaxis": "y"
          },
          {
           "hovertemplate": "state=%{x}<br>month=Sep<br>estimated unemployment rate=%{y}<extra></extra>",
           "legendgroup": "Rajasthan",
           "marker": {
            "color": "#FECB52",
            "pattern": {
             "shape": ""
            }
           },
           "name": "Rajasthan",
           "orientation": "v",
           "showlegend": true,
           "textposition": "auto",
           "type": "bar",
           "x": [
            "Rajasthan"
           ],
           "xaxis": "x",
           "y": {
            "bdata": "MzMzMzOzLkA=",
            "dtype": "f8"
           },
           "yaxis": "y"
          },
          {
           "hovertemplate": "state=%{x}<br>month=Sep<br>estimated unemployment rate=%{y}<extra></extra>",
           "legendgroup": "Sikkim",
           "marker": {
            "color": "#636efa",
            "pattern": {
             "shape": ""
            }
           },
           "name": "Sikkim",
           "orientation": "v",
           "showlegend": true,
           "textposition": "auto",
           "type": "bar",
           "x": [
            "Sikkim"
           ],
           "xaxis": "x",
           "y": {
            "bdata": "zczMzMzMFkA=",
            "dtype": "f8"
           },
           "yaxis": "y"
          },
          {
           "hovertemplate": "state=%{x}<br>month=Sep<br>estimated unemployment rate=%{y}<extra></extra>",
           "legendgroup": "Tamil Nadu",
           "marker": {
            "color": "#EF553B",
            "pattern": {
             "shape": ""
            }
           },
           "name": "Tamil Nadu",
           "orientation": "v",
           "showlegend": true,
           "textposition": "auto",
           "type": "bar",
           "x": [
            "Tamil Nadu"
           ],
           "xaxis": "x",
           "y": {
            "bdata": "AAAAAAAAFEA=",
            "dtype": "f8"
           },
           "yaxis": "y"
          },
          {
           "hovertemplate": "state=%{x}<br>month=Sep<br>estimated unemployment rate=%{y}<extra></extra>",
           "legendgroup": "Telangana",
           "marker": {
            "color": "#00cc96",
            "pattern": {
             "shape": ""
            }
           },
           "name": "Telangana",
           "orientation": "v",
           "showlegend": true,
           "textposition": "auto",
           "type": "bar",
           "x": [
            "Telangana"
           ],
           "xaxis": "x",
           "y": {
            "bdata": "KVyPwvUoCkA=",
            "dtype": "f8"
           },
           "yaxis": "y"
          },
          {
           "hovertemplate": "state=%{x}<br>month=Sep<br>estimated unemployment rate=%{y}<extra></extra>",
           "legendgroup": "Tripura",
           "marker": {
            "color": "#ab63fa",
            "pattern": {
             "shape": ""
            }
           },
           "name": "Tripura",
           "orientation": "v",
           "showlegend": true,
           "textposition": "auto",
           "type": "bar",
           "x": [
            "Tripura"
           ],
           "xaxis": "x",
           "y": {
            "bdata": "mpmZmZlZMUA=",
            "dtype": "f8"
           },
           "yaxis": "y"
          },
          {
           "hovertemplate": "state=%{x}<br>month=Sep<br>estimated unemployment rate=%{y}<extra></extra>",
           "legendgroup": "Uttar Pradesh",
           "marker": {
            "color": "#FFA15A",
            "pattern": {
             "shape": ""
            }
           },
           "name": "Uttar Pradesh",
           "orientation": "v",
           "showlegend": true,
           "textposition": "auto",
           "type": "bar",
           "x": [
            "Uttar Pradesh"
           ],
           "xaxis": "x",
           "y": {
            "bdata": "uB6F61G4EEA=",
            "dtype": "f8"
           },
           "yaxis": "y"
          },
          {
           "hovertemplate": "state=%{x}<br>month=Sep<br>estimated unemployment rate=%{y}<extra></extra>",
           "legendgroup": "Uttarakhand",
           "marker": {
            "color": "#19d3f3",
            "pattern": {
             "shape": ""
            }
           },
           "name": "Uttarakhand",
           "orientation": "v",
           "showlegend": true,
           "textposition": "auto",
           "type": "bar",
           "x": [
            "Uttarakhand"
           ],
           "xaxis": "x",
           "y": {
            "bdata": "w/UoXI9CNkA=",
            "dtype": "f8"
           },
           "yaxis": "y"
          },
          {
           "hovertemplate": "state=%{x}<br>month=Sep<br>estimated unemployment rate=%{y}<extra></extra>",
           "legendgroup": "West Bengal",
           "marker": {
            "color": "#FF6692",
            "pattern": {
             "shape": ""
            }
           },
           "name": "West Bengal",
           "orientation": "v",
           "showlegend": true,
           "textposition": "auto",
           "type": "bar",
           "x": [
            "West Bengal"
           ],
           "xaxis": "x",
           "y": {
            "bdata": "MzMzMzOzIkA=",
            "dtype": "f8"
           },
           "yaxis": "y"
          }
         ],
         "name": "Sep"
        },
        {
         "data": [
          {
           "hovertemplate": "state=%{x}<br>month=Oct<br>estimated unemployment rate=%{y}<extra></extra>",
           "legendgroup": "Andhra Pradesh",
           "marker": {
            "color": "#636efa",
            "pattern": {
             "shape": ""
            }
           },
           "name": "Andhra Pradesh",
           "orientation": "v",
           "showlegend": true,
           "textposition": "auto",
           "type": "bar",
           "x": [
            "Andhra Pradesh"
           ],
           "xaxis": "x",
           "y": {
            "bdata": "XI/C9ShcGkA=",
            "dtype": "f8"
           },
           "yaxis": "y"
          },
          {
           "hovertemplate": "state=%{x}<br>month=Oct<br>estimated unemployment rate=%{y}<extra></extra>",
           "legendgroup": "Assam",
           "marker": {
            "color": "#EF553B",
            "pattern": {
             "shape": ""
            }
           },
           "name": "Assam",
           "orientation": "v",
           "showlegend": true,
           "textposition": "auto",
           "type": "bar",
           "x": [
            "Assam"
           ],
           "xaxis": "x",
           "y": {
            "bdata": "KVyPwvUoCEA=",
            "dtype": "f8"
           },
           "yaxis": "y"
          },
          {
           "hovertemplate": "state=%{x}<br>month=Oct<br>estimated unemployment rate=%{y}<extra></extra>",
           "legendgroup": "Bihar",
           "marker": {
            "color": "#00cc96",
            "pattern": {
             "shape": ""
            }
           },
           "name": "Bihar",
           "orientation": "v",
           "showlegend": true,
           "textposition": "auto",
           "type": "bar",
           "x": [
            "Bihar"
           ],
           "xaxis": "x",
           "y": {
            "bdata": "pHA9CtejI0A=",
            "dtype": "f8"
           },
           "yaxis": "y"
          },
          {
           "hovertemplate": "state=%{x}<br>month=Oct<br>estimated unemployment rate=%{y}<extra></extra>",
           "legendgroup": "Chhattisgarh",
           "marker": {
            "color": "#ab63fa",
            "pattern": {
             "shape": ""
            }
           },
           "name": "Chhattisgarh",
           "orientation": "v",
           "showlegend": true,
           "textposition": "auto",
           "type": "bar",
           "x": [
            "Chhattisgarh"
           ],
           "xaxis": "x",
           "y": {
            "bdata": "exSuR+F6GkA=",
            "dtype": "f8"
           },
           "yaxis": "y"
          },
          {
           "hovertemplate": "state=%{x}<br>month=Oct<br>estimated unemployment rate=%{y}<extra></extra>",
           "legendgroup": "Delhi",
           "marker": {
            "color": "#FFA15A",
            "pattern": {
             "shape": ""
            }
           },
           "name": "Delhi",
           "orientation": "v",
           "showlegend": true,
           "textposition": "auto",
           "type": "bar",
           "x": [
            "Delhi"
           ],
           "xaxis": "x",
           "y": {
            "bdata": "FK5H4XoUGUA=",
            "dtype": "f8"
           },
           "yaxis": "y"
          },
          {
           "hovertemplate": "state=%{x}<br>month=Oct<br>estimated unemployment rate=%{y}<extra></extra>",
           "legendgroup": "Goa",
           "marker": {
            "color": "#19d3f3",
            "pattern": {
             "shape": ""
            }
           },
           "name": "Goa",
           "orientation": "v",
           "showlegend": true,
           "textposition": "auto",
           "type": "bar",
           "x": [
            "Goa"
           ],
           "xaxis": "x",
           "y": {
            "bdata": "FK5H4XoUJ0A=",
            "dtype": "f8"
           },
           "yaxis": "y"
          },
          {
           "hovertemplate": "state=%{x}<br>month=Oct<br>estimated unemployment rate=%{y}<extra></extra>",
           "legendgroup": "Gujarat",
           "marker": {
            "color": "#FF6692",
            "pattern": {
             "shape": ""
            }
           },
           "name": "Gujarat",
           "orientation": "v",
           "showlegend": true,
           "textposition": "auto",
           "type": "bar",
           "x": [
            "Gujarat"
           ],
           "xaxis": "x",
           "y": {
            "bdata": "H4XrUbgeEEA=",
            "dtype": "f8"
           },
           "yaxis": "y"
          },
          {
           "hovertemplate": "state=%{x}<br>month=Oct<br>estimated unemployment rate=%{y}<extra></extra>",
           "legendgroup": "Haryana",
           "marker": {
            "color": "#B6E880",
            "pattern": {
             "shape": ""
            }
           },
           "name": "Haryana",
           "orientation": "v",
           "showlegend": true,
           "textposition": "auto",
           "type": "bar",
           "x": [
            "Haryana"
           ],
           "xaxis": "x",
           "y": {
            "bdata": "j8L1KFxPO0A=",
            "dtype": "f8"
           },
           "yaxis": "y"
          },
          {
           "hovertemplate": "state=%{x}<br>month=Oct<br>estimated unemployment rate=%{y}<extra></extra>",
           "legendgroup": "Himachal Pradesh",
           "marker": {
            "color": "#FF97FF",
            "pattern": {
             "shape": ""
            }
           },
           "name": "Himachal Pradesh",
           "orientation": "v",
           "showlegend": true,
           "textposition": "auto",
           "type": "bar",
           "x": [
            "Himachal Pradesh"
           ],
           "xaxis": "x",
           "y": {
            "bdata": "7FG4HoXrKkA=",
            "dtype": "f8"
           },
           "yaxis": "y"
          },
          {
           "hovertemplate": "state=%{x}<br>month=Oct<br>estimated unemployment rate=%{y}<extra></extra>",
           "legendgroup": "Jammu & Kashmir",
           "marker": {
            "color": "#FECB52",
            "pattern": {
             "shape": ""
            }
           },
           "name": "Jammu & Kashmir",
           "orientation": "v",
           "showlegend": true,
           "textposition": "auto",
           "type": "bar",
           "x": [
            "Jammu & Kashmir"
           ],
           "xaxis": "x",
           "y": {
            "bdata": "pHA9CtcjMEA=",
            "dtype": "f8"
           },
           "yaxis": "y"
          },
          {
           "hovertemplate": "state=%{x}<br>month=Oct<br>estimated unemployment rate=%{y}<extra></extra>",
           "legendgroup": "Jharkhand",
           "marker": {
            "color": "#636efa",
            "pattern": {
             "shape": ""
            }
           },
           "name": "Jharkhand",
           "orientation": "v",
           "showlegend": true,
           "textposition": "auto",
           "type": "bar",
           "x": [
            "Jharkhand"
           ],
           "xaxis": "x",
           "y": {
            "bdata": "mpmZmZmZJ0A=",
            "dtype": "f8"
           },
           "yaxis": "y"
          },
          {
           "hovertemplate": "state=%{x}<br>month=Oct<br>estimated unemployment rate=%{y}<extra></extra>",
           "legendgroup": "Karnataka",
           "marker": {
            "color": "#EF553B",
            "pattern": {
             "shape": ""
            }
           },
           "name": "Karnataka",
           "orientation": "v",
           "showlegend": true,
           "textposition": "auto",
           "type": "bar",
           "x": [
            "Karnataka"
           ],
           "xaxis": "x",
           "y": {
            "bdata": "SOF6FK5H+T8=",
            "dtype": "f8"
           },
           "yaxis": "y"
          },
          {
           "hovertemplate": "state=%{x}<br>month=Oct<br>estimated unemployment rate=%{y}<extra></extra>",
           "legendgroup": "Kerala",
           "marker": {
            "color": "#00cc96",
            "pattern": {
             "shape": ""
            }
           },
           "name": "Kerala",
           "orientation": "v",
           "showlegend": true,
           "textposition": "auto",
           "type": "bar",
           "x": [
            "Kerala"
           ],
           "xaxis": "x",
           "y": {
            "bdata": "CtejcD0KD0A=",
            "dtype": "f8"
           },
           "yaxis": "y"
          },
          {
           "hovertemplate": "state=%{x}<br>month=Oct<br>estimated unemployment rate=%{y}<extra></extra>",
           "legendgroup": "Madhya Pradesh",
           "marker": {
            "color": "#ab63fa",
            "pattern": {
             "shape": ""
            }
           },
           "name": "Madhya Pradesh",
           "orientation": "v",
           "showlegend": true,
           "textposition": "auto",
           "type": "bar",
           "x": [
            "Madhya Pradesh"
           ],
           "xaxis": "x",
           "y": {
            "bdata": "CtejcD0KCUA=",
            "dtype": "f8"
           },
           "yaxis": "y"
          },
          {
           "hovertemplate": "state=%{x}<br>month=Oct<br>estimated unemployment rate=%{y}<extra></extra>",
           "legendgroup": "Maharashtra",
           "marker": {
            "color": "#FFA15A",
            "pattern": {
             "shape": ""
            }
           },
           "name": "Maharashtra",
           "orientation": "v",
           "showlegend": true,
           "textposition": "auto",
           "type": "bar",
           "x": [
            "Maharashtra"
           ],
           "xaxis": "x",
           "y": {
            "bdata": "ZmZmZmZmEEA=",
            "dtype": "f8"
           },
           "yaxis": "y"
          },
          {
           "hovertemplate": "state=%{x}<br>month=Oct<br>estimated unemployment rate=%{y}<extra></extra>",
           "legendgroup": "Meghalaya",
           "marker": {
            "color": "#19d3f3",
            "pattern": {
             "shape": ""
            }
           },
           "name": "Meghalaya",
           "orientation": "v",
           "showlegend": true,
           "textposition": "auto",
           "type": "bar",
           "x": [
            "Meghalaya"
           ],
           "xaxis": "x",
           "y": {
            "bdata": "ZmZmZmZmEkA=",
            "dtype": "f8"
           },
           "yaxis": "y"
          },
          {
           "hovertemplate": "state=%{x}<br>month=Oct<br>estimated unemployment rate=%{y}<extra></extra>",
           "legendgroup": "Odisha",
           "marker": {
            "color": "#FF6692",
            "pattern": {
             "shape": ""
            }
           },
           "name": "Odisha",
           "orientation": "v",
           "showlegend": true,
           "textposition": "auto",
           "type": "bar",
           "x": [
            "Odisha"
           ],
           "xaxis": "x",
           "y": {
            "bdata": "cT0K16NwAUA=",
            "dtype": "f8"
           },
           "yaxis": "y"
          },
          {
           "hovertemplate": "state=%{x}<br>month=Oct<br>estimated unemployment rate=%{y}<extra></extra>",
           "legendgroup": "Puducherry",
           "marker": {
            "color": "#B6E880",
            "pattern": {
             "shape": ""
            }
           },
           "name": "Puducherry",
           "orientation": "v",
           "showlegend": true,
           "textposition": "auto",
           "type": "bar",
           "x": [
            "Puducherry"
           ],
           "xaxis": "x",
           "y": {
            "bdata": "uB6F61G4GEA=",
            "dtype": "f8"
           },
           "yaxis": "y"
          },
          {
           "hovertemplate": "state=%{x}<br>month=Oct<br>estimated unemployment rate=%{y}<extra></extra>",
           "legendgroup": "Punjab",
           "marker": {
            "color": "#FF97FF",
            "pattern": {
             "shape": ""
            }
           },
           "name": "Punjab",
           "orientation": "v",
           "showlegend": true,
           "textposition": "auto",
           "type": "bar",
           "x": [
            "Punjab"
           ],
           "xaxis": "x",
           "y": {
            "bdata": "w/UoXI/CI0A=",
            "dtype": "f8"
           },
           "yaxis": "y"
          },
          {
           "hovertemplate": "state=%{x}<br>month=Oct<br>estimated unemployment rate=%{y}<extra></extra>",
           "legendgroup": "Rajasthan",
           "marker": {
            "color": "#FECB52",
            "pattern": {
             "shape": ""
            }
           },
           "name": "Rajasthan",
           "orientation": "v",
           "showlegend": true,
           "textposition": "auto",
           "type": "bar",
           "x": [
            "Rajasthan"
           ],
           "xaxis": "x",
           "y": {
            "bdata": "ZmZmZmYmOEA=",
            "dtype": "f8"
           },
           "yaxis": "y"
          },
          {
           "hovertemplate": "state=%{x}<br>month=Oct<br>estimated unemployment rate=%{y}<extra></extra>",
           "legendgroup": "Sikkim",
           "marker": {
            "color": "#636efa",
            "pattern": {
             "shape": ""
            }
           },
           "name": "Sikkim",
           "orientation": "v",
           "showlegend": true,
           "textposition": "auto",
           "type": "bar",
           "x": [
            "Sikkim"
           ],
           "xaxis": "x",
           "y": {
            "bdata": "KVyPwvUo7D8=",
            "dtype": "f8"
           },
           "yaxis": "y"
          },
          {
           "hovertemplate": "state=%{x}<br>month=Oct<br>estimated unemployment rate=%{y}<extra></extra>",
           "legendgroup": "Tamil Nadu",
           "marker": {
            "color": "#EF553B",
            "pattern": {
             "shape": ""
            }
           },
           "name": "Tamil Nadu",
           "orientation": "v",
           "showlegend": true,
           "textposition": "auto",
           "type": "bar",
           "x": [
            "Tamil Nadu"
           ],
           "xaxis": "x",
           "y": {
            "bdata": "SOF6FK5HAUA=",
            "dtype": "f8"
           },
           "yaxis": "y"
          },
          {
           "hovertemplate": "state=%{x}<br>month=Oct<br>estimated unemployment rate=%{y}<extra></extra>",
           "legendgroup": "Telangana",
           "marker": {
            "color": "#00cc96",
            "pattern": {
             "shape": ""
            }
           },
           "name": "Telangana",
           "orientation": "v",
           "showlegend": true,
           "textposition": "auto",
           "type": "bar",
           "x": [
            "Telangana"
           ],
           "xaxis": "x",
           "y": {
            "bdata": "4XoUrkfhBkA=",
            "dtype": "f8"
           },
           "yaxis": "y"
          },
          {
           "hovertemplate": "state=%{x}<br>month=Oct<br>estimated unemployment rate=%{y}<extra></extra>",
           "legendgroup": "Tripura",
           "marker": {
            "color": "#ab63fa",
            "pattern": {
             "shape": ""
            }
           },
           "name": "Tripura",
           "orientation": "v",
           "showlegend": true,
           "textposition": "auto",
           "type": "bar",
           "x": [
            "Tripura"
           ],
           "xaxis": "x",
           "y": {
            "bdata": "pHA9CtcjJ0A=",
            "dtype": "f8"
           },
           "yaxis": "y"
          },
          {
           "hovertemplate": "state=%{x}<br>month=Oct<br>estimated unemployment rate=%{y}<extra></extra>",
           "legendgroup": "Uttar Pradesh",
           "marker": {
            "color": "#FFA15A",
            "pattern": {
             "shape": ""
            }
           },
           "name": "Uttar Pradesh",
           "orientation": "v",
           "showlegend": true,
           "textposition": "auto",
           "type": "bar",
           "x": [
            "Uttar Pradesh"
           ],
           "xaxis": "x",
           "y": {
            "bdata": "AAAAAAAADkA=",
            "dtype": "f8"
           },
           "yaxis": "y"
          },
          {
           "hovertemplate": "state=%{x}<br>month=Oct<br>estimated unemployment rate=%{y}<extra></extra>",
           "legendgroup": "Uttarakhand",
           "marker": {
            "color": "#19d3f3",
            "pattern": {
             "shape": ""
            }
           },
           "name": "Uttarakhand",
           "orientation": "v",
           "showlegend": true,
           "textposition": "auto",
           "type": "bar",
           "x": [
            "Uttarakhand"
           ],
           "xaxis": "x",
           "y": {
            "bdata": "9ihcj8J1IkA=",
            "dtype": "f8"
           },
           "yaxis": "y"
          },
          {
           "hovertemplate": "state=%{x}<br>month=Oct<br>estimated unemployment rate=%{y}<extra></extra>",
           "legendgroup": "West Bengal",
           "marker": {
            "color": "#FF6692",
            "pattern": {
             "shape": ""
            }
           },
           "name": "West Bengal",
           "orientation": "v",
           "showlegend": true,
           "textposition": "auto",
           "type": "bar",
           "x": [
            "West Bengal"
           ],
           "xaxis": "x",
           "y": {
            "bdata": "9ihcj8L1I0A=",
            "dtype": "f8"
           },
           "yaxis": "y"
          }
         ],
         "name": "Oct"
        }
       ],
       "layout": {
        "autosize": true,
        "barmode": "relative",
        "legend": {
         "title": {
          "text": "state"
         },
         "tracegroupgap": 0
        },
        "sliders": [
         {
          "active": 0,
          "currentvalue": {
           "prefix": "month="
          },
          "len": 0.9,
          "pad": {
           "b": 10,
           "t": 60
          },
          "steps": [
           {
            "args": [
             [
              "Jan"
             ],
             {
              "frame": {
               "duration": 0,
               "redraw": true
              },
              "fromcurrent": true,
              "mode": "immediate",
              "transition": {
               "duration": 0,
               "easing": "linear"
              }
             }
            ],
            "label": "Jan",
            "method": "animate"
           },
           {
            "args": [
             [
              "Feb"
             ],
             {
              "frame": {
               "duration": 0,
               "redraw": true
              },
              "fromcurrent": true,
              "mode": "immediate",
              "transition": {
               "duration": 0,
               "easing": "linear"
              }
             }
            ],
            "label": "Feb",
            "method": "animate"
           },
           {
            "args": [
             [
              "Mar"
             ],
             {
              "frame": {
               "duration": 0,
               "redraw": true
              },
              "fromcurrent": true,
              "mode": "immediate",
              "transition": {
               "duration": 0,
               "easing": "linear"
              }
             }
            ],
            "label": "Mar",
            "method": "animate"
           },
           {
            "args": [
             [
              "Apr"
             ],
             {
              "frame": {
               "duration": 0,
               "redraw": true
              },
              "fromcurrent": true,
              "mode": "immediate",
              "transition": {
               "duration": 0,
               "easing": "linear"
              }
             }
            ],
            "label": "Apr",
            "method": "animate"
           },
           {
            "args": [
             [
              "May"
             ],
             {
              "frame": {
               "duration": 0,
               "redraw": true
              },
              "fromcurrent": true,
              "mode": "immediate",
              "transition": {
               "duration": 0,
               "easing": "linear"
              }
             }
            ],
            "label": "May",
            "method": "animate"
           },
           {
            "args": [
             [
              "Jun"
             ],
             {
              "frame": {
               "duration": 0,
               "redraw": true
              },
              "fromcurrent": true,
              "mode": "immediate",
              "transition": {
               "duration": 0,
               "easing": "linear"
              }
             }
            ],
            "label": "Jun",
            "method": "animate"
           },
           {
            "args": [
             [
              "Jul"
             ],
             {
              "frame": {
               "duration": 0,
               "redraw": true
              },
              "fromcurrent": true,
              "mode": "immediate",
              "transition": {
               "duration": 0,
               "easing": "linear"
              }
             }
            ],
            "label": "Jul",
            "method": "animate"
           },
           {
            "args": [
             [
              "Aug"
             ],
             {
              "frame": {
               "duration": 0,
               "redraw": true
              },
              "fromcurrent": true,
              "mode": "immediate",
              "transition": {
               "duration": 0,
               "easing": "linear"
              }
             }
            ],
            "label": "Aug",
            "method": "animate"
           },
           {
            "args": [
             [
              "Sep"
             ],
             {
              "frame": {
               "duration": 0,
               "redraw": true
              },
              "fromcurrent": true,
              "mode": "immediate",
              "transition": {
               "duration": 0,
               "easing": "linear"
              }
             }
            ],
            "label": "Sep",
            "method": "animate"
           },
           {
            "args": [
             [
              "Oct"
             ],
             {
              "frame": {
               "duration": 0,
               "redraw": true
              },
              "fromcurrent": true,
              "mode": "immediate",
              "transition": {
               "duration": 0,
               "easing": "linear"
              }
             }
            ],
            "label": "Oct",
            "method": "animate"
           }
          ],
          "x": 0.1,
          "xanchor": "left",
          "y": 0,
          "yanchor": "top"
         }
        ],
        "template": {
         "data": {
          "bar": [
           {
            "error_x": {
             "color": "#2a3f5f"
            },
            "error_y": {
             "color": "#2a3f5f"
            },
            "marker": {
             "line": {
              "color": "#E5ECF6",
              "width": 0.5
             },
             "pattern": {
              "fillmode": "overlay",
              "size": 10,
              "solidity": 0.2
             }
            },
            "type": "bar"
           }
          ],
          "barpolar": [
           {
            "marker": {
             "line": {
              "color": "#E5ECF6",
              "width": 0.5
             },
             "pattern": {
              "fillmode": "overlay",
              "size": 10,
              "solidity": 0.2
             }
            },
            "type": "barpolar"
           }
          ],
          "carpet": [
           {
            "aaxis": {
             "endlinecolor": "#2a3f5f",
             "gridcolor": "white",
             "linecolor": "white",
             "minorgridcolor": "white",
             "startlinecolor": "#2a3f5f"
            },
            "baxis": {
             "endlinecolor": "#2a3f5f",
             "gridcolor": "white",
             "linecolor": "white",
             "minorgridcolor": "white",
             "startlinecolor": "#2a3f5f"
            },
            "type": "carpet"
           }
          ],
          "choropleth": [
           {
            "colorbar": {
             "outlinewidth": 0,
             "ticks": ""
            },
            "type": "choropleth"
           }
          ],
          "contour": [
           {
            "colorbar": {
             "outlinewidth": 0,
             "ticks": ""
            },
            "colorscale": [
             [
              0,
              "#0d0887"
             ],
             [
              0.1111111111111111,
              "#46039f"
             ],
             [
              0.2222222222222222,
              "#7201a8"
             ],
             [
              0.3333333333333333,
              "#9c179e"
             ],
             [
              0.4444444444444444,
              "#bd3786"
             ],
             [
              0.5555555555555556,
              "#d8576b"
             ],
             [
              0.6666666666666666,
              "#ed7953"
             ],
             [
              0.7777777777777778,
              "#fb9f3a"
             ],
             [
              0.8888888888888888,
              "#fdca26"
             ],
             [
              1,
              "#f0f921"
             ]
            ],
            "type": "contour"
           }
          ],
          "contourcarpet": [
           {
            "colorbar": {
             "outlinewidth": 0,
             "ticks": ""
            },
            "type": "contourcarpet"
           }
          ],
          "heatmap": [
           {
            "colorbar": {
             "outlinewidth": 0,
             "ticks": ""
            },
            "colorscale": [
             [
              0,
              "#0d0887"
             ],
             [
              0.1111111111111111,
              "#46039f"
             ],
             [
              0.2222222222222222,
              "#7201a8"
             ],
             [
              0.3333333333333333,
              "#9c179e"
             ],
             [
              0.4444444444444444,
              "#bd3786"
             ],
             [
              0.5555555555555556,
              "#d8576b"
             ],
             [
              0.6666666666666666,
              "#ed7953"
             ],
             [
              0.7777777777777778,
              "#fb9f3a"
             ],
             [
              0.8888888888888888,
              "#fdca26"
             ],
             [
              1,
              "#f0f921"
             ]
            ],
            "type": "heatmap"
           }
          ],
          "histogram": [
           {
            "marker": {
             "pattern": {
              "fillmode": "overlay",
              "size": 10,
              "solidity": 0.2
             }
            },
            "type": "histogram"
           }
          ],
          "histogram2d": [
           {
            "colorbar": {
             "outlinewidth": 0,
             "ticks": ""
            },
            "colorscale": [
             [
              0,
              "#0d0887"
             ],
             [
              0.1111111111111111,
              "#46039f"
             ],
             [
              0.2222222222222222,
              "#7201a8"
             ],
             [
              0.3333333333333333,
              "#9c179e"
             ],
             [
              0.4444444444444444,
              "#bd3786"
             ],
             [
              0.5555555555555556,
              "#d8576b"
             ],
             [
              0.6666666666666666,
              "#ed7953"
             ],
             [
              0.7777777777777778,
              "#fb9f3a"
             ],
             [
              0.8888888888888888,
              "#fdca26"
             ],
             [
              1,
              "#f0f921"
             ]
            ],
            "type": "histogram2d"
           }
          ],
          "histogram2dcontour": [
           {
            "colorbar": {
             "outlinewidth": 0,
             "ticks": ""
            },
            "colorscale": [
             [
              0,
              "#0d0887"
             ],
             [
              0.1111111111111111,
              "#46039f"
             ],
             [
              0.2222222222222222,
              "#7201a8"
             ],
             [
              0.3333333333333333,
              "#9c179e"
             ],
             [
              0.4444444444444444,
              "#bd3786"
             ],
             [
              0.5555555555555556,
              "#d8576b"
             ],
             [
              0.6666666666666666,
              "#ed7953"
             ],
             [
              0.7777777777777778,
              "#fb9f3a"
             ],
             [
              0.8888888888888888,
              "#fdca26"
             ],
             [
              1,
              "#f0f921"
             ]
            ],
            "type": "histogram2dcontour"
           }
          ],
          "mesh3d": [
           {
            "colorbar": {
             "outlinewidth": 0,
             "ticks": ""
            },
            "type": "mesh3d"
           }
          ],
          "parcoords": [
           {
            "line": {
             "colorbar": {
              "outlinewidth": 0,
              "ticks": ""
             }
            },
            "type": "parcoords"
           }
          ],
          "pie": [
           {
            "automargin": true,
            "type": "pie"
           }
          ],
          "scatter": [
           {
            "fillpattern": {
             "fillmode": "overlay",
             "size": 10,
             "solidity": 0.2
            },
            "type": "scatter"
           }
          ],
          "scatter3d": [
           {
            "line": {
             "colorbar": {
              "outlinewidth": 0,
              "ticks": ""
             }
            },
            "marker": {
             "colorbar": {
              "outlinewidth": 0,
              "ticks": ""
             }
            },
            "type": "scatter3d"
           }
          ],
          "scattercarpet": [
           {
            "marker": {
             "colorbar": {
              "outlinewidth": 0,
              "ticks": ""
             }
            },
            "type": "scattercarpet"
           }
          ],
          "scattergeo": [
           {
            "marker": {
             "colorbar": {
              "outlinewidth": 0,
              "ticks": ""
             }
            },
            "type": "scattergeo"
           }
          ],
          "scattergl": [
           {
            "marker": {
             "colorbar": {
              "outlinewidth": 0,
              "ticks": ""
             }
            },
            "type": "scattergl"
           }
          ],
          "scattermap": [
           {
            "marker": {
             "colorbar": {
              "outlinewidth": 0,
              "ticks": ""
             }
            },
            "type": "scattermap"
           }
          ],
          "scattermapbox": [
           {
            "marker": {
             "colorbar": {
              "outlinewidth": 0,
              "ticks": ""
             }
            },
            "type": "scattermapbox"
           }
          ],
          "scatterpolar": [
           {
            "marker": {
             "colorbar": {
              "outlinewidth": 0,
              "ticks": ""
             }
            },
            "type": "scatterpolar"
           }
          ],
          "scatterpolargl": [
           {
            "marker": {
             "colorbar": {
              "outlinewidth": 0,
              "ticks": ""
             }
            },
            "type": "scatterpolargl"
           }
          ],
          "scatterternary": [
           {
            "marker": {
             "colorbar": {
              "outlinewidth": 0,
              "ticks": ""
             }
            },
            "type": "scatterternary"
           }
          ],
          "surface": [
           {
            "colorbar": {
             "outlinewidth": 0,
             "ticks": ""
            },
            "colorscale": [
             [
              0,
              "#0d0887"
             ],
             [
              0.1111111111111111,
              "#46039f"
             ],
             [
              0.2222222222222222,
              "#7201a8"
             ],
             [
              0.3333333333333333,
              "#9c179e"
             ],
             [
              0.4444444444444444,
              "#bd3786"
             ],
             [
              0.5555555555555556,
              "#d8576b"
             ],
             [
              0.6666666666666666,
              "#ed7953"
             ],
             [
              0.7777777777777778,
              "#fb9f3a"
             ],
             [
              0.8888888888888888,
              "#fdca26"
             ],
             [
              1,
              "#f0f921"
             ]
            ],
            "type": "surface"
           }
          ],
          "table": [
           {
            "cells": {
             "fill": {
              "color": "#EBF0F8"
             },
             "line": {
              "color": "white"
             }
            },
            "header": {
             "fill": {
              "color": "#C8D4E3"
             },
             "line": {
              "color": "white"
             }
            },
            "type": "table"
           }
          ]
         },
         "layout": {
          "annotationdefaults": {
           "arrowcolor": "#2a3f5f",
           "arrowhead": 0,
           "arrowwidth": 1
          },
          "autotypenumbers": "strict",
          "coloraxis": {
           "colorbar": {
            "outlinewidth": 0,
            "ticks": ""
           }
          },
          "colorscale": {
           "diverging": [
            [
             0,
             "#8e0152"
            ],
            [
             0.1,
             "#c51b7d"
            ],
            [
             0.2,
             "#de77ae"
            ],
            [
             0.3,
             "#f1b6da"
            ],
            [
             0.4,
             "#fde0ef"
            ],
            [
             0.5,
             "#f7f7f7"
            ],
            [
             0.6,
             "#e6f5d0"
            ],
            [
             0.7,
             "#b8e186"
            ],
            [
             0.8,
             "#7fbc41"
            ],
            [
             0.9,
             "#4d9221"
            ],
            [
             1,
             "#276419"
            ]
           ],
           "sequential": [
            [
             0,
             "#0d0887"
            ],
            [
             0.1111111111111111,
             "#46039f"
            ],
            [
             0.2222222222222222,
             "#7201a8"
            ],
            [
             0.3333333333333333,
             "#9c179e"
            ],
            [
             0.4444444444444444,
             "#bd3786"
            ],
            [
             0.5555555555555556,
             "#d8576b"
            ],
            [
             0.6666666666666666,
             "#ed7953"
            ],
            [
             0.7777777777777778,
             "#fb9f3a"
            ],
            [
             0.8888888888888888,
             "#fdca26"
            ],
            [
             1,
             "#f0f921"
            ]
           ],
           "sequentialminus": [
            [
             0,
             "#0d0887"
            ],
            [
             0.1111111111111111,
             "#46039f"
            ],
            [
             0.2222222222222222,
             "#7201a8"
            ],
            [
             0.3333333333333333,
             "#9c179e"
            ],
            [
             0.4444444444444444,
             "#bd3786"
            ],
            [
             0.5555555555555556,
             "#d8576b"
            ],
            [
             0.6666666666666666,
             "#ed7953"
            ],
            [
             0.7777777777777778,
             "#fb9f3a"
            ],
            [
             0.8888888888888888,
             "#fdca26"
            ],
            [
             1,
             "#f0f921"
            ]
           ]
          },
          "colorway": [
           "#636efa",
           "#EF553B",
           "#00cc96",
           "#ab63fa",
           "#FFA15A",
           "#19d3f3",
           "#FF6692",
           "#B6E880",
           "#FF97FF",
           "#FECB52"
          ],
          "font": {
           "color": "#2a3f5f"
          },
          "geo": {
           "bgcolor": "white",
           "lakecolor": "white",
           "landcolor": "#E5ECF6",
           "showlakes": true,
           "showland": true,
           "subunitcolor": "white"
          },
          "hoverlabel": {
           "align": "left"
          },
          "hovermode": "closest",
          "mapbox": {
           "style": "light"
          },
          "paper_bgcolor": "white",
          "plot_bgcolor": "#E5ECF6",
          "polar": {
           "angularaxis": {
            "gridcolor": "white",
            "linecolor": "white",
            "ticks": ""
           },
           "bgcolor": "#E5ECF6",
           "radialaxis": {
            "gridcolor": "white",
            "linecolor": "white",
            "ticks": ""
           }
          },
          "scene": {
           "xaxis": {
            "backgroundcolor": "#E5ECF6",
            "gridcolor": "white",
            "gridwidth": 2,
            "linecolor": "white",
            "showbackground": true,
            "ticks": "",
            "zerolinecolor": "white"
           },
           "yaxis": {
            "backgroundcolor": "#E5ECF6",
            "gridcolor": "white",
            "gridwidth": 2,
            "linecolor": "white",
            "showbackground": true,
            "ticks": "",
            "zerolinecolor": "white"
           },
           "zaxis": {
            "backgroundcolor": "#E5ECF6",
            "gridcolor": "white",
            "gridwidth": 2,
            "linecolor": "white",
            "showbackground": true,
            "ticks": "",
            "zerolinecolor": "white"
           }
          },
          "shapedefaults": {
           "line": {
            "color": "#2a3f5f"
           }
          },
          "ternary": {
           "aaxis": {
            "gridcolor": "white",
            "linecolor": "white",
            "ticks": ""
           },
           "baxis": {
            "gridcolor": "white",
            "linecolor": "white",
            "ticks": ""
           },
           "bgcolor": "#E5ECF6",
           "caxis": {
            "gridcolor": "white",
            "linecolor": "white",
            "ticks": ""
           }
          },
          "title": {
           "x": 0.05
          },
          "xaxis": {
           "automargin": true,
           "gridcolor": "white",
           "linecolor": "white",
           "ticks": "",
           "title": {
            "standoff": 15
           },
           "zerolinecolor": "white",
           "zerolinewidth": 2
          },
          "yaxis": {
           "automargin": true,
           "gridcolor": "white",
           "linecolor": "white",
           "ticks": "",
           "title": {
            "standoff": 15
           },
           "zerolinecolor": "white",
           "zerolinewidth": 2
          }
         }
        },
        "title": {
         "text": "Unemployment Rate from Jan 2020 to Oct 2020 (State)"
        },
        "updatemenus": [
         {
          "buttons": [
           {
            "args": [
             null,
             {
              "frame": {
               "duration": 500,
               "redraw": true
              },
              "fromcurrent": true,
              "mode": "immediate",
              "transition": {
               "duration": 500,
               "easing": "linear"
              }
             }
            ],
            "label": "&#9654;",
            "method": "animate"
           },
           {
            "args": [
             [
              null
             ],
             {
              "frame": {
               "duration": 0,
               "redraw": true
              },
              "fromcurrent": true,
              "mode": "immediate",
              "transition": {
               "duration": 0,
               "easing": "linear"
              }
             }
            ],
            "label": "&#9724;",
            "method": "animate"
           }
          ],
          "direction": "left",
          "pad": {
           "r": 10,
           "t": 70
          },
          "showactive": false,
          "type": "buttons",
          "x": 0.1,
          "xanchor": "right",
          "y": 0,
          "yanchor": "top"
         }
        ],
        "xaxis": {
         "anchor": "y",
         "autorange": true,
         "categoryarray": [
          "Andhra Pradesh",
          "Assam",
          "Bihar",
          "Chhattisgarh",
          "Delhi",
          "Goa",
          "Gujarat",
          "Haryana",
          "Himachal Pradesh",
          "Jammu & Kashmir",
          "Jharkhand",
          "Karnataka",
          "Kerala",
          "Madhya Pradesh",
          "Maharashtra",
          "Meghalaya",
          "Odisha",
          "Puducherry",
          "Punjab",
          "Rajasthan",
          "Sikkim",
          "Tamil Nadu",
          "Telangana",
          "Tripura",
          "Uttar Pradesh",
          "Uttarakhand",
          "West Bengal"
         ],
         "categoryorder": "total descending",
         "domain": [
          0,
          1
         ],
         "range": [
          -0.5,
          25.5
         ],
         "title": {
          "text": "state"
         },
         "type": "category"
        },
        "yaxis": {
         "anchor": "x",
         "autorange": true,
         "domain": [
          0,
          1
         ],
         "range": [
          0,
          34.38947368421053
         ],
         "title": {
          "text": "estimated unemployment rate"
         },
         "type": "linear"
        }
       }
      },
      "image/png": "[encoded data removed]"
     },
     "metadata": {},
     "output_type": "display_data"
    }
   ],
   "source": [
    "fig = px.bar(\n",
    "    df,\n",
    "    x='state',\n",
    "    y='estimated unemployment rate',\n",
    "    animation_frame='month',\n",
    "    color='state',\n",
    "    title='Unemployment Rate from Jan 2020 to Oct 2020 (State)'\n",
    ")\n",
    "\n",
    "# Sort bars in descending order\n",
    "fig.update_layout(xaxis={'categoryorder': 'total descending'})\n",
    "\n",
    "# Show animation in Jupyter Notebook\n",
    "fig.show()\n",
    "\n",
    "oct_data = df[df['month'] == 'Oct']\n",
    "\n",
    "# Create a static bar chart for GitHub\n",
    "fig_static = px.bar(\n",
    "    oct_data,\n",
    "    x='state',\n",
    "    y='estimated unemployment rate',\n",
    "    color='state',\n",
    "    title='Unemployment Rate in October 2020 (State)'\n",
    ")\n",
    "\n",
    "# Sort bars in descending order\n",
    "fig_static.update_layout(xaxis={'categoryorder': 'total descending'})\n",
    "\n",
    "# Save static chart as PNG for GitHub README\n",
    "fig_static.write_image(\"unemployment_rate_october.png\")"
   ]
  },
  {
   "cell_type": "markdown",
   "id": "23501cef-2963-4638-aaec-3f130102a325",
   "metadata": {},
   "source": [
    "**Monthly unemployment rate**"
   ]
  },
  {
   "cell_type": "code",
   "execution_count": 31,
   "id": "949dbac0-903d-4fdc-ae77-ea01d124da71",
   "metadata": {},
   "outputs": [
    {
     "data": {
      "application/vnd.plotly.v1+json": {
       "config": {
        "plotlyServerURL": "https://plot.ly"
       },
       "data": [
        {
         "geo": "geo",
         "hovertemplate": "<b>%{hovertext}</b><br><br>state=Andhra Pradesh<br>month=Jan<br>estimated unemployment rate=%{marker.size}<br>latitude=%{lat}<br>longitude=%{lon}<extra></extra>",
         "hovertext": [
          "Andhra Pradesh"
         ],
         "lat": {
          "_inputArray": {
           "0": 79.74,
           "bdata": "j8L1KFzvU0A=",
           "dtype": "f8",
           "shape": "1"
          },
          "bdata": "j8L1KFzvU0A=",
          "dtype": "f8"
         },
         "legendgroup": "Andhra Pradesh",
         "lon": {
          "_inputArray": {
           "0": 15.9129,
           "bdata": "bAn5oGfTL0A=",
           "dtype": "f8",
           "shape": "1"
          },
          "bdata": "bAn5oGfTL0A=",
          "dtype": "f8"
         },
         "marker": {
          "color": "#636efa",
          "size": {
           "_inputArray": {
            "0": 5.48,
            "bdata": "7FG4HoXrFUA=",
            "dtype": "f8",
            "shape": "1"
           },
           "bdata": "7FG4HoXrFUA=",
           "dtype": "f8"
          },
          "sizemode": "area",
          "sizeref": 0.189625,
          "symbol": "circle"
         },
         "mode": "markers",
         "name": "Andhra Pradesh",
         "showlegend": true,
         "type": "scattergeo"
        },
        {
         "geo": "geo",
         "hovertemplate": "<b>%{hovertext}</b><br><br>state=Assam<br>month=Jan<br>estimated unemployment rate=%{marker.size}<br>latitude=%{lat}<br>longitude=%{lon}<extra></extra>",
         "hovertext": [
          "Assam"
         ],
         "lat": {
          "_inputArray": {
           "0": 92.9376,
           "bdata": "si5uowE8V0A=",
           "dtype": "f8",
           "shape": "1"
          },
          "bdata": "si5uowE8V0A=",
          "dtype": "f8"
         },
         "legendgroup": "Assam",
         "lon": {
          "_inputArray": {
           "0": 26.2006,
           "bdata": "3pOHhVozOkA=",
           "dtype": "f8",
           "shape": "1"
          },
          "bdata": "3pOHhVozOkA=",
          "dtype": "f8"
         },
         "marker": {
          "color": "#EF553B",
          "size": {
           "_inputArray": {
            "0": 4.66,
            "bdata": "pHA9CtejEkA=",
            "dtype": "f8",
            "shape": "1"
           },
           "bdata": "pHA9CtejEkA=",
           "dtype": "f8"
          },
          "sizemode": "area",
          "sizeref": 0.189625,
          "symbol": "circle"
         },
         "mode": "markers",
         "name": "Assam",
         "showlegend": true,
         "type": "scattergeo"
        },
        {
         "geo": "geo",
         "hovertemplate": "<b>%{hovertext}</b><br><br>state=Bihar<br>month=Jan<br>estimated unemployment rate=%{marker.size}<br>latitude=%{lat}<br>longitude=%{lon}<extra></extra>",
         "hovertext": [
          "Bihar"
         ],
         "lat": {
          "_inputArray": {
           "0": 85.3131,
           "bdata": "KxiV1AlUVUA=",
           "dtype": "f8",
           "shape": "1"
          },
          "bdata": "KxiV1AlUVUA=",
          "dtype": "f8"
         },
         "legendgroup": "Bihar",
         "lon": {
          "_inputArray": {
           "0": 25.0961,
           "bdata": "RiV1ApoYOUA=",
           "dtype": "f8",
           "shape": "1"
          },
          "bdata": "RiV1ApoYOUA=",
          "dtype": "f8"
         },
         "marker": {
          "color": "#00cc96",
          "size": {
           "_inputArray": {
            "0": 10.61,
            "bdata": "uB6F61E4JUA=",
            "dtype": "f8",
            "shape": "1"
           },
           "bdata": "uB6F61E4JUA=",
           "dtype": "f8"
          },
          "sizemode": "area",
          "sizeref": 0.189625,
          "symbol": "circle"
         },
         "mode": "markers",
         "name": "Bihar",
         "showlegend": true,
         "type": "scattergeo"
        },
        {
         "geo": "geo",
         "hovertemplate": "<b>%{hovertext}</b><br><br>state=Chhattisgarh<br>month=Jan<br>estimated unemployment rate=%{marker.size}<br>latitude=%{lat}<br>longitude=%{lon}<extra></extra>",
         "hovertext": [
          "Chhattisgarh"
         ],
         "lat": {
          "_inputArray": {
           "0": 81.8661,
           "bdata": "M8SxLm53VEA=",
           "dtype": "f8",
           "shape": "1"
          },
          "bdata": "M8SxLm53VEA=",
          "dtype": "f8"
         },
         "legendgroup": "Chhattisgarh",
         "lon": {
          "_inputArray": {
           "0": 21.2787,
           "bdata": "LGUZ4lhHNUA=",
           "dtype": "f8",
           "shape": "1"
          },
          "bdata": "LGUZ4lhHNUA=",
          "dtype": "f8"
         },
         "marker": {
          "color": "#ab63fa",
          "size": {
           "_inputArray": {
            "0": 9.65,
            "bdata": "zczMzMxMI0A=",
            "dtype": "f8",
            "shape": "1"
           },
           "bdata": "zczMzMxMI0A=",
           "dtype": "f8"
          },
          "sizemode": "area",
          "sizeref": 0.189625,
          "symbol": "circle"
         },
         "mode": "markers",
         "name": "Chhattisgarh",
         "showlegend": true,
         "type": "scattergeo"
        },
        {
         "geo": "geo",
         "hovertemplate": "<b>%{hovertext}</b><br><br>state=Delhi<br>month=Jan<br>estimated unemployment rate=%{marker.size}<br>latitude=%{lat}<br>longitude=%{lon}<extra></extra>",
         "hovertext": [
          "Delhi"
         ],
         "lat": {
          "_inputArray": {
           "0": 77.1025,
           "bdata": "w/UoXI9GU0A=",
           "dtype": "f8",
           "shape": "1"
          },
          "bdata": "w/UoXI9GU0A=",
          "dtype": "f8"
         },
         "legendgroup": "Delhi",
         "lon": {
          "_inputArray": {
           "0": 28.7041,
           "bdata": "FR3J5T+0PEA=",
           "dtype": "f8",
           "shape": "1"
          },
          "bdata": "FR3J5T+0PEA=",
          "dtype": "f8"
         },
         "marker": {
          "color": "#FFA15A",
          "size": {
           "_inputArray": {
            "0": 22.23,
            "bdata": "exSuR+E6NkA=",
            "dtype": "f8",
            "shape": "1"
           },
           "bdata": "exSuR+E6NkA=",
           "dtype": "f8"
          },
          "sizemode": "area",
          "sizeref": 0.189625,
          "symbol": "circle"
         },
         "mode": "markers",
         "name": "Delhi",
         "showlegend": true,
         "type": "scattergeo"
        },
        {
         "geo": "geo",
         "hovertemplate": "<b>%{hovertext}</b><br><br>state=Goa<br>month=Jan<br>estimated unemployment rate=%{marker.size}<br>latitude=%{lat}<br>longitude=%{lon}<extra></extra>",
         "hovertext": [
          "Goa"
         ],
         "lat": {
          "_inputArray": {
           "0": 74.124,
           "bdata": "Di2yne+HUkA=",
           "dtype": "f8",
           "shape": "1"
          },
          "bdata": "Di2yne+HUkA=",
          "dtype": "f8"
         },
         "legendgroup": "Goa",
         "lon": {
          "_inputArray": {
           "0": 15.2993,
           "bdata": "t2J/2T2ZLkA=",
           "dtype": "f8",
           "shape": "1"
          },
          "bdata": "t2J/2T2ZLkA=",
          "dtype": "f8"
         },
         "marker": {
          "color": "#19d3f3",
          "size": {
           "_inputArray": {
            "0": 8.89,
            "bdata": "SOF6FK7HIUA=",
            "dtype": "f8",
            "shape": "1"
           },
           "bdata": "SOF6FK7HIUA=",
           "dtype": "f8"
          },
          "sizemode": "area",
          "sizeref": 0.189625,
          "symbol": "circle"
         },
         "mode": "markers",
         "name": "Goa",
         "showlegend": true,
         "type": "scattergeo"
        },
        {
         "geo": "geo",
         "hovertemplate": "<b>%{hovertext}</b><br><br>state=Gujarat<br>month=Jan<br>estimated unemployment rate=%{marker.size}<br>latitude=%{lat}<br>longitude=%{lon}<extra></extra>",
         "hovertext": [
          "Gujarat"
         ],
         "lat": {
          "_inputArray": {
           "0": 71.1924,
           "bdata": "B/AWSFDMUUA=",
           "dtype": "f8",
           "shape": "1"
          },
          "bdata": "B/AWSFDMUUA=",
          "dtype": "f8"
         },
         "legendgroup": "Gujarat",
         "lon": {
          "_inputArray": {
           "0": 22.2587,
           "bdata": "p3nHKTpCNkA=",
           "dtype": "f8",
           "shape": "1"
          },
          "bdata": "p3nHKTpCNkA=",
          "dtype": "f8"
         },
         "marker": {
          "color": "#FF6692",
          "size": {
           "_inputArray": {
            "0": 5.54,
            "bdata": "KVyPwvUoFkA=",
            "dtype": "f8",
            "shape": "1"
           },
           "bdata": "KVyPwvUoFkA=",
           "dtype": "f8"
          },
          "sizemode": "area",
          "sizeref": 0.189625,
          "symbol": "circle"
         },
         "mode": "markers",
         "name": "Gujarat",
         "showlegend": true,
         "type": "scattergeo"
        },
        {
         "geo": "geo",
         "hovertemplate": "<b>%{hovertext}</b><br><br>state=Haryana<br>month=Jan<br>estimated unemployment rate=%{marker.size}<br>latitude=%{lat}<br>longitude=%{lon}<extra></extra>",
         "hovertext": [
          "Haryana"
         ],
         "lat": {
          "_inputArray": {
           "0": 76.0856,
           "bdata": "aCJseHoFU0A=",
           "dtype": "f8",
           "shape": "1"
          },
          "bdata": "aCJseHoFU0A=",
          "dtype": "f8"
         },
         "legendgroup": "Haryana",
         "lon": {
          "_inputArray": {
           "0": 29.0588,
           "bdata": "OwFNhA0PPUA=",
           "dtype": "f8",
           "shape": "1"
          },
          "bdata": "OwFNhA0PPUA=",
          "dtype": "f8"
         },
         "marker": {
          "color": "#B6E880",
          "size": {
           "_inputArray": {
            "0": 20.34,
            "bdata": "16NwPQpXNEA=",
            "dtype": "f8",
            "shape": "1"
           },
           "bdata": "16NwPQpXNEA=",
           "dtype": "f8"
          },
          "sizemode": "area",
          "sizeref": 0.189625,
          "symbol": "circle"
         },
         "mode": "markers",
         "name": "Haryana",
         "showlegend": true,
         "type": "scattergeo"
        },
        {
         "geo": "geo",
         "hovertemplate": "<b>%{hovertext}</b><br><br>state=Himachal Pradesh<br>month=Jan<br>estimated unemployment rate=%{marker.size}<br>latitude=%{lat}<br>longitude=%{lon}<extra></extra>",
         "hovertext": [
          "Himachal Pradesh"
         ],
         "lat": {
          "_inputArray": {
           "0": 77.1734,
           "bdata": "F0hQ/BhLU0A=",
           "dtype": "f8",
           "shape": "1"
          },
          "bdata": "F0hQ/BhLU0A=",
          "dtype": "f8"
         },
         "legendgroup": "Himachal Pradesh",
         "lon": {
          "_inputArray": {
           "0": 31.1048,
           "bdata": "7Z48LNQaP0A=",
           "dtype": "f8",
           "shape": "1"
          },
          "bdata": "7Z48LNQaP0A=",
          "dtype": "f8"
         },
         "marker": {
          "color": "#FF97FF",
          "size": {
           "_inputArray": {
            "0": 16.83,
            "bdata": "FK5H4XrUMEA=",
            "dtype": "f8",
            "shape": "1"
           },
           "bdata": "FK5H4XrUMEA=",
           "dtype": "f8"
          },
          "sizemode": "area",
          "sizeref": 0.189625,
          "symbol": "circle"
         },
         "mode": "markers",
         "name": "Himachal Pradesh",
         "showlegend": true,
         "type": "scattergeo"
        },
        {
         "geo": "geo",
         "hovertemplate": "<b>%{hovertext}</b><br><br>state=Jammu & Kashmir<br>month=Jan<br>estimated unemployment rate=%{marker.size}<br>latitude=%{lat}<br>longitude=%{lon}<extra></extra>",
         "hovertext": [
          "Jammu & Kashmir"
         ],
         "lat": {
          "_inputArray": {
           "0": 76.5762,
           "bdata": "Iv32deAkU0A=",
           "dtype": "f8",
           "shape": "1"
          },
          "bdata": "Iv32deAkU0A=",
          "dtype": "f8"
         },
         "legendgroup": "Jammu & Kashmir",
         "lon": {
          "_inputArray": {
           "0": 33.7782,
           "bdata": "pN++DpzjQEA=",
           "dtype": "f8",
           "shape": "1"
          },
          "bdata": "pN++DpzjQEA=",
          "dtype": "f8"
         },
         "marker": {
          "color": "#FECB52",
          "size": {
           "_inputArray": {
            "0": 21.08,
            "bdata": "FK5H4XoUNUA=",
            "dtype": "f8",
            "shape": "1"
           },
           "bdata": "FK5H4XoUNUA=",
           "dtype": "f8"
          },
          "sizemode": "area",
          "sizeref": 0.189625,
          "symbol": "circle"
         },
         "mode": "markers",
         "name": "Jammu & Kashmir",
         "showlegend": true,
         "type": "scattergeo"
        },
        {
         "geo": "geo",
         "hovertemplate": "<b>%{hovertext}</b><br><br>state=Jharkhand<br>month=Jan<br>estimated unemployment rate=%{marker.size}<br>latitude=%{lat}<br>longitude=%{lon}<extra></extra>",
         "hovertext": [
          "Jharkhand"
         ],
         "lat": {
          "_inputArray": {
           "0": 85.2799,
           "bdata": "oImw4elRVUA=",
           "dtype": "f8",
           "shape": "1"
          },
          "bdata": "oImw4elRVUA=",
          "dtype": "f8"
         },
         "legendgroup": "Jharkhand",
         "lon": {
          "_inputArray": {
           "0": 23.6102,
           "bdata": "6gQ0ETacN0A=",
           "dtype": "f8",
           "shape": "1"
          },
          "bdata": "6gQ0ETacN0A=",
          "dtype": "f8"
         },
         "marker": {
          "color": "#636efa",
          "size": {
           "_inputArray": {
            "0": 10.61,
            "bdata": "uB6F61E4JUA=",
            "dtype": "f8",
            "shape": "1"
           },
           "bdata": "uB6F61E4JUA=",
           "dtype": "f8"
          },
          "sizemode": "area",
          "sizeref": 0.189625,
          "symbol": "circle"
         },
         "mode": "markers",
         "name": "Jharkhand",
         "showlegend": true,
         "type": "scattergeo"
        },
        {
         "geo": "geo",
         "hovertemplate": "<b>%{hovertext}</b><br><br>state=Karnataka<br>month=Jan<br>estimated unemployment rate=%{marker.size}<br>latitude=%{lat}<br>longitude=%{lon}<extra></extra>",
         "hovertext": [
          "Karnataka"
         ],
         "lat": {
          "_inputArray": {
           "0": 75.7139,
           "bdata": "UiegibDtUkA=",
           "dtype": "f8",
           "shape": "1"
          },
          "bdata": "UiegibDtUkA=",
          "dtype": "f8"
         },
         "legendgroup": "Karnataka",
         "lon": {
          "_inputArray": {
           "0": 15.3173,
           "bdata": "pgpGJXWiLkA=",
           "dtype": "f8",
           "shape": "1"
          },
          "bdata": "pgpGJXWiLkA=",
          "dtype": "f8"
         },
         "marker": {
          "color": "#EF553B",
          "size": {
           "_inputArray": {
            "0": 2.86,
            "bdata": "4XoUrkfhBkA=",
            "dtype": "f8",
            "shape": "1"
           },
           "bdata": "4XoUrkfhBkA=",
           "dtype": "f8"
          },
          "sizemode": "area",
          "sizeref": 0.189625,
          "symbol": "circle"
         },
         "mode": "markers",
         "name": "Karnataka",
         "showlegend": true,
         "type": "scattergeo"
        },
        {
         "geo": "geo",
         "hovertemplate": "<b>%{hovertext}</b><br><br>state=Kerala<br>month=Jan<br>estimated unemployment rate=%{marker.size}<br>latitude=%{lat}<br>longitude=%{lon}<extra></extra>",
         "hovertext": [
          "Kerala"
         ],
         "lat": {
          "_inputArray": {
           "0": 76.2711,
           "bdata": "hXzQs1kRU0A=",
           "dtype": "f8",
           "shape": "1"
          },
          "bdata": "hXzQs1kRU0A=",
          "dtype": "f8"
         },
         "legendgroup": "Kerala",
         "lon": {
          "_inputArray": {
           "0": 10.8505,
           "bdata": "+n5qvHSzJUA=",
           "dtype": "f8",
           "shape": "1"
          },
          "bdata": "+n5qvHSzJUA=",
          "dtype": "f8"
         },
         "marker": {
          "color": "#00cc96",
          "size": {
           "_inputArray": {
            "0": 5.31,
            "bdata": "PQrXo3A9FUA=",
            "dtype": "f8",
            "shape": "1"
           },
           "bdata": "PQrXo3A9FUA=",
           "dtype": "f8"
          },
          "sizemode": "area",
          "sizeref": 0.189625,
          "symbol": "circle"
         },
         "mode": "markers",
         "name": "Kerala",
         "showlegend": true,
         "type": "scattergeo"
        },
        {
         "geo": "geo",
         "hovertemplate": "<b>%{hovertext}</b><br><br>state=Madhya Pradesh<br>month=Jan<br>estimated unemployment rate=%{marker.size}<br>latitude=%{lat}<br>longitude=%{lon}<extra></extra>",
         "hovertext": [
          "Madhya Pradesh"
         ],
         "lat": {
          "_inputArray": {
           "0": 78.6569,
           "bdata": "gy9MpgqqU0A=",
           "dtype": "f8",
           "shape": "1"
          },
          "bdata": "gy9MpgqqU0A=",
          "dtype": "f8"
         },
         "legendgroup": "Madhya Pradesh",
         "lon": {
          "_inputArray": {
           "0": 22.9734,
           "bdata": "Ke0NvjD5NkA=",
           "dtype": "f8",
           "shape": "1"
          },
          "bdata": "Ke0NvjD5NkA=",
          "dtype": "f8"
         },
         "marker": {
          "color": "#ab63fa",
          "size": {
           "_inputArray": {
            "0": 4.11,
            "bdata": "cT0K16NwEEA=",
            "dtype": "f8",
            "shape": "1"
           },
           "bdata": "cT0K16NwEEA=",
           "dtype": "f8"
          },
          "sizemode": "area",
          "sizeref": 0.189625,
          "symbol": "circle"
         },
         "mode": "markers",
         "name": "Madhya Pradesh",
         "showlegend": true,
         "type": "scattergeo"
        },
        {
         "geo": "geo",
         "hovertemplate": "<b>%{hovertext}</b><br><br>state=Maharashtra<br>month=Jan<br>estimated unemployment rate=%{marker.size}<br>latitude=%{lat}<br>longitude=%{lon}<extra></extra>",
         "hovertext": [
          "Maharashtra"
         ],
         "lat": {
          "_inputArray": {
           "0": 75.7139,
           "bdata": "UiegibDtUkA=",
           "dtype": "f8",
           "shape": "1"
          },
          "bdata": "UiegibDtUkA=",
          "dtype": "f8"
         },
         "legendgroup": "Maharashtra",
         "lon": {
          "_inputArray": {
           "0": 19.7515,
           "bdata": "qvHSTWLAM0A=",
           "dtype": "f8",
           "shape": "1"
          },
          "bdata": "qvHSTWLAM0A=",
          "dtype": "f8"
         },
         "marker": {
          "color": "#FFA15A",
          "size": {
           "_inputArray": {
            "0": 4.95,
            "bdata": "zczMzMzME0A=",
            "dtype": "f8",
            "shape": "1"
           },
           "bdata": "zczMzMzME0A=",
           "dtype": "f8"
          },
          "sizemode": "area",
          "sizeref": 0.189625,
          "symbol": "circle"
         },
         "mode": "markers",
         "name": "Maharashtra",
         "showlegend": true,
         "type": "scattergeo"
        },
        {
         "geo": "geo",
         "hovertemplate": "<b>%{hovertext}</b><br><br>state=Meghalaya<br>month=Jan<br>estimated unemployment rate=%{marker.size}<br>latitude=%{lat}<br>longitude=%{lon}<extra></extra>",
         "hovertext": [
          "Meghalaya"
         ],
         "lat": {
          "_inputArray": {
           "0": 91.3662,
           "bdata": "5fIf0m/XVkA=",
           "dtype": "f8",
           "shape": "1"
          },
          "bdata": "5fIf0m/XVkA=",
          "dtype": "f8"
         },
         "legendgroup": "Meghalaya",
         "lon": {
          "_inputArray": {
           "0": 25.467,
           "bdata": "ZDvfT413OUA=",
           "dtype": "f8",
           "shape": "1"
          },
          "bdata": "ZDvfT413OUA=",
          "dtype": "f8"
         },
         "marker": {
          "color": "#19d3f3",
          "size": {
           "_inputArray": {
            "0": 1.66,
            "bdata": "j8L1KFyP+j8=",
            "dtype": "f8",
            "shape": "1"
           },
           "bdata": "j8L1KFyP+j8=",
           "dtype": "f8"
          },
          "sizemode": "area",
          "sizeref": 0.189625,
          "symbol": "circle"
         },
         "mode": "markers",
         "name": "Meghalaya",
         "showlegend": true,
         "type": "scattergeo"
        },
        {
         "geo": "geo",
         "hovertemplate": "<b>%{hovertext}</b><br><br>state=Odisha<br>month=Jan<br>estimated unemployment rate=%{marker.size}<br>latitude=%{lat}<br>longitude=%{lon}<extra></extra>",
         "hovertext": [
          "Odisha"
         ],
         "lat": {
          "_inputArray": {
           "0": 85.0985,
           "bdata": "/Knx0k1GVUA=",
           "dtype": "f8",
           "shape": "1"
          },
          "bdata": "/Knx0k1GVUA=",
          "dtype": "f8"
         },
         "legendgroup": "Odisha",
         "lon": {
          "_inputArray": {
           "0": 20.9517,
           "bdata": "a5p3nKLzNEA=",
           "dtype": "f8",
           "shape": "1"
          },
          "bdata": "a5p3nKLzNEA=",
          "dtype": "f8"
         },
         "marker": {
          "color": "#FF6692",
          "size": {
           "_inputArray": {
            "0": 1.9,
            "bdata": "ZmZmZmZm/j8=",
            "dtype": "f8",
            "shape": "1"
           },
           "bdata": "ZmZmZmZm/j8=",
           "dtype": "f8"
          },
          "sizemode": "area",
          "sizeref": 0.189625,
          "symbol": "circle"
         },
         "mode": "markers",
         "name": "Odisha",
         "showlegend": true,
         "type": "scattergeo"
        },
        {
         "geo": "geo",
         "hovertemplate": "<b>%{hovertext}</b><br><br>state=Puducherry<br>month=Jan<br>estimated unemployment rate=%{marker.size}<br>latitude=%{lat}<br>longitude=%{lon}<extra></extra>",
         "hovertext": [
          "Puducherry"
         ],
         "lat": {
          "_inputArray": {
           "0": 79.8083,
           "bdata": "1lbsL7vzU0A=",
           "dtype": "f8",
           "shape": "1"
          },
          "bdata": "1lbsL7vzU0A=",
          "dtype": "f8"
         },
         "legendgroup": "Puducherry",
         "lon": {
          "_inputArray": {
           "0": 11.9416,
           "bdata": "w9MrZRniJ0A=",
           "dtype": "f8",
           "shape": "1"
          },
          "bdata": "w9MrZRniJ0A=",
          "dtype": "f8"
         },
         "marker": {
          "color": "#B6E880",
          "size": {
           "_inputArray": {
            "0": 0.58,
            "bdata": "j8L1KFyP4j8=",
            "dtype": "f8",
            "shape": "1"
           },
           "bdata": "j8L1KFyP4j8=",
           "dtype": "f8"
          },
          "sizemode": "area",
          "sizeref": 0.189625,
          "symbol": "circle"
         },
         "mode": "markers",
         "name": "Puducherry",
         "showlegend": true,
         "type": "scattergeo"
        },
        {
         "geo": "geo",
         "hovertemplate": "<b>%{hovertext}</b><br><br>state=Punjab<br>month=Jan<br>estimated unemployment rate=%{marker.size}<br>latitude=%{lat}<br>longitude=%{lon}<extra></extra>",
         "hovertext": [
          "Punjab"
         ],
         "lat": {
          "_inputArray": {
           "0": 75.3412,
           "bdata": "S1mGONbVUkA=",
           "dtype": "f8",
           "shape": "1"
          },
          "bdata": "S1mGONbVUkA=",
          "dtype": "f8"
         },
         "legendgroup": "Punjab",
         "lon": {
          "_inputArray": {
           "0": 31.1471,
           "bdata": "2T15WKglP0A=",
           "dtype": "f8",
           "shape": "1"
          },
          "bdata": "2T15WKglP0A=",
          "dtype": "f8"
         },
         "marker": {
          "color": "#FF97FF",
          "size": {
           "_inputArray": {
            "0": 11.11,
            "bdata": "uB6F61E4JkA=",
            "dtype": "f8",
            "shape": "1"
           },
           "bdata": "uB6F61E4JkA=",
           "dtype": "f8"
          },
          "sizemode": "area",
          "sizeref": 0.189625,
          "symbol": "circle"
         },
         "mode": "markers",
         "name": "Punjab",
         "showlegend": true,
         "type": "scattergeo"
        },
        {
         "geo": "geo",
         "hovertemplate": "<b>%{hovertext}</b><br><br>state=Rajasthan<br>month=Jan<br>estimated unemployment rate=%{marker.size}<br>latitude=%{lat}<br>longitude=%{lon}<extra></extra>",
         "hovertext": [
          "Rajasthan"
         ],
         "lat": {
          "_inputArray": {
           "0": 74.2179,
           "bdata": "GXPXEvKNUkA=",
           "dtype": "f8",
           "shape": "1"
          },
          "bdata": "GXPXEvKNUkA=",
          "dtype": "f8"
         },
         "legendgroup": "Rajasthan",
         "lon": {
          "_inputArray": {
           "0": 27.0238,
           "bdata": "EqW9wRcGO0A=",
           "dtype": "f8",
           "shape": "1"
          },
          "bdata": "EqW9wRcGO0A=",
          "dtype": "f8"
         },
         "marker": {
          "color": "#FECB52",
          "size": {
           "_inputArray": {
            "0": 10.97,
            "bdata": "cT0K16PwJUA=",
            "dtype": "f8",
            "shape": "1"
           },
           "bdata": "cT0K16PwJUA=",
           "dtype": "f8"
          },
          "sizemode": "area",
          "sizeref": 0.189625,
          "symbol": "circle"
         },
         "mode": "markers",
         "name": "Rajasthan",
         "showlegend": true,
         "type": "scattergeo"
        },
        {
         "geo": "geo",
         "hovertemplate": "<b>%{hovertext}</b><br><br>state=Tamil Nadu<br>month=Jan<br>estimated unemployment rate=%{marker.size}<br>latitude=%{lat}<br>longitude=%{lon}<extra></extra>",
         "hovertext": [
          "Tamil Nadu"
         ],
         "lat": {
          "_inputArray": {
           "0": 78.6569,
           "bdata": "gy9MpgqqU0A=",
           "dtype": "f8",
           "shape": "1"
          },
          "bdata": "gy9MpgqqU0A=",
          "dtype": "f8"
         },
         "legendgroup": "Tamil Nadu",
         "lon": {
          "_inputArray": {
           "0": 11.1271,
           "bdata": "qaROQBNBJkA=",
           "dtype": "f8",
           "shape": "1"
          },
          "bdata": "qaROQBNBJkA=",
          "dtype": "f8"
         },
         "marker": {
          "color": "#EF553B",
          "size": {
           "_inputArray": {
            "0": 1.57,
            "bdata": "H4XrUbge+T8=",
            "dtype": "f8",
            "shape": "1"
           },
           "bdata": "H4XrUbge+T8=",
           "dtype": "f8"
          },
          "sizemode": "area",
          "sizeref": 0.189625,
          "symbol": "circle"
         },
         "mode": "markers",
         "name": "Tamil Nadu",
         "showlegend": true,
         "type": "scattergeo"
        },
        {
         "geo": "geo",
         "hovertemplate": "<b>%{hovertext}</b><br><br>state=Telangana<br>month=Jan<br>estimated unemployment rate=%{marker.size}<br>latitude=%{lat}<br>longitude=%{lon}<extra></extra>",
         "hovertext": [
          "Telangana"
         ],
         "lat": {
          "_inputArray": {
           "0": 79.0193,
           "bdata": "BTQRNjzBU0A=",
           "dtype": "f8",
           "shape": "1"
          },
          "bdata": "BTQRNjzBU0A=",
          "dtype": "f8"
         },
         "legendgroup": "Telangana",
         "lon": {
          "_inputArray": {
           "0": 18.1124,
           "bdata": "BhIUP8YcMkA=",
           "dtype": "f8",
           "shape": "1"
          },
          "bdata": "BhIUP8YcMkA=",
          "dtype": "f8"
         },
         "marker": {
          "color": "#00cc96",
          "size": {
           "_inputArray": {
            "0": 5.49,
            "bdata": "9ihcj8L1FUA=",
            "dtype": "f8",
            "shape": "1"
           },
           "bdata": "9ihcj8L1FUA=",
           "dtype": "f8"
          },
          "sizemode": "area",
          "sizeref": 0.189625,
          "symbol": "circle"
         },
         "mode": "markers",
         "name": "Telangana",
         "showlegend": true,
         "type": "scattergeo"
        },
        {
         "geo": "geo",
         "hovertemplate": "<b>%{hovertext}</b><br><br>state=Tripura<br>month=Jan<br>estimated unemployment rate=%{marker.size}<br>latitude=%{lat}<br>longitude=%{lon}<extra></extra>",
         "hovertext": [
          "Tripura"
         ],
         "lat": {
          "_inputArray": {
           "0": 91.9882,
           "bdata": "EHo2qz7/VkA=",
           "dtype": "f8",
           "shape": "1"
          },
          "bdata": "EHo2qz7/VkA=",
          "dtype": "f8"
         },
         "legendgroup": "Tripura",
         "lon": {
          "_inputArray": {
           "0": 23.9408,
           "bdata": "qRPQRNjwN0A=",
           "dtype": "f8",
           "shape": "1"
          },
          "bdata": "qRPQRNjwN0A=",
          "dtype": "f8"
         },
         "marker": {
          "color": "#ab63fa",
          "size": {
           "_inputArray": {
            "0": 32.67,
            "bdata": "9ihcj8JVQEA=",
            "dtype": "f8",
            "shape": "1"
           },
           "bdata": "9ihcj8JVQEA=",
           "dtype": "f8"
          },
          "sizemode": "area",
          "sizeref": 0.189625,
          "symbol": "circle"
         },
         "mode": "markers",
         "name": "Tripura",
         "showlegend": true,
         "type": "scattergeo"
        },
        {
         "geo": "geo",
         "hovertemplate": "<b>%{hovertext}</b><br><br>state=Uttar Pradesh<br>month=Jan<br>estimated unemployment rate=%{marker.size}<br>latitude=%{lat}<br>longitude=%{lon}<extra></extra>",
         "hovertext": [
          "Uttar Pradesh"
         ],
         "lat": {
          "_inputArray": {
           "0": 80.9462,
           "bdata": "at5xio48VEA=",
           "dtype": "f8",
           "shape": "1"
          },
          "bdata": "at5xio48VEA=",
          "dtype": "f8"
         },
         "legendgroup": "Uttar Pradesh",
         "lon": {
          "_inputArray": {
           "0": 26.8467,
           "bdata": "8IXJVMHYOkA=",
           "dtype": "f8",
           "shape": "1"
          },
          "bdata": "8IXJVMHYOkA=",
          "dtype": "f8"
         },
         "marker": {
          "color": "#FFA15A",
          "size": {
           "_inputArray": {
            "0": 7.58,
            "bdata": "UrgehetRHkA=",
            "dtype": "f8",
            "shape": "1"
           },
           "bdata": "UrgehetRHkA=",
           "dtype": "f8"
          },
          "sizemode": "area",
          "sizeref": 0.189625,
          "symbol": "circle"
         },
         "mode": "markers",
         "name": "Uttar Pradesh",
         "showlegend": true,
         "type": "scattergeo"
        },
        {
         "geo": "geo",
         "hovertemplate": "<b>%{hovertext}</b><br><br>state=Uttarakhand<br>month=Jan<br>estimated unemployment rate=%{marker.size}<br>latitude=%{lat}<br>longitude=%{lon}<extra></extra>",
         "hovertext": [
          "Uttarakhand"
         ],
         "lat": {
          "_inputArray": {
           "0": 79.0193,
           "bdata": "BTQRNjzBU0A=",
           "dtype": "f8",
           "shape": "1"
          },
          "bdata": "BTQRNjzBU0A=",
          "dtype": "f8"
         },
         "legendgroup": "Uttarakhand",
         "lon": {
          "_inputArray": {
           "0": 30.0668,
           "bdata": "cF8HzhkRPkA=",
           "dtype": "f8",
           "shape": "1"
          },
          "bdata": "cF8HzhkRPkA=",
          "dtype": "f8"
         },
         "marker": {
          "color": "#19d3f3",
          "size": {
           "_inputArray": {
            "0": 5.49,
            "bdata": "9ihcj8L1FUA=",
            "dtype": "f8",
            "shape": "1"
           },
           "bdata": "9ihcj8L1FUA=",
           "dtype": "f8"
          },
          "sizemode": "area",
          "sizeref": 0.189625,
          "symbol": "circle"
         },
         "mode": "markers",
         "name": "Uttarakhand",
         "showlegend": true,
         "type": "scattergeo"
        },
        {
         "geo": "geo",
         "hovertemplate": "<b>%{hovertext}</b><br><br>state=West Bengal<br>month=Jan<br>estimated unemployment rate=%{marker.size}<br>latitude=%{lat}<br>longitude=%{lon}<extra></extra>",
         "hovertext": [
          "West Bengal"
         ],
         "lat": {
          "_inputArray": {
           "0": 87.855,
           "bdata": "H4XrUbj2VUA=",
           "dtype": "f8",
           "shape": "1"
          },
          "bdata": "H4XrUbj2VUA=",
          "dtype": "f8"
         },
         "legendgroup": "West Bengal",
         "lon": {
          "_inputArray": {
           "0": 22.9868,
           "bdata": "W7G/7J78NkA=",
           "dtype": "f8",
           "shape": "1"
          },
          "bdata": "W7G/7J78NkA=",
          "dtype": "f8"
         },
         "marker": {
          "color": "#FF6692",
          "size": {
           "_inputArray": {
            "0": 6.94,
            "bdata": "w/UoXI/CG0A=",
            "dtype": "f8",
            "shape": "1"
           },
           "bdata": "w/UoXI/CG0A=",
           "dtype": "f8"
          },
          "sizemode": "area",
          "sizeref": 0.189625,
          "symbol": "circle"
         },
         "mode": "markers",
         "name": "West Bengal",
         "showlegend": true,
         "type": "scattergeo"
        }
       ],
       "frames": [
        {
         "data": [
          {
           "geo": "geo",
           "hovertemplate": "<b>%{hovertext}</b><br><br>state=Andhra Pradesh<br>month=Jan<br>estimated unemployment rate=%{marker.size}<br>latitude=%{lat}<br>longitude=%{lon}<extra></extra>",
           "hovertext": [
            "Andhra Pradesh"
           ],
           "lat": {
            "bdata": "j8L1KFzvU0A=",
            "dtype": "f8"
           },
           "legendgroup": "Andhra Pradesh",
           "lon": {
            "bdata": "bAn5oGfTL0A=",
            "dtype": "f8"
           },
           "marker": {
            "color": "#636efa",
            "size": {
             "bdata": "7FG4HoXrFUA=",
             "dtype": "f8"
            },
            "sizemode": "area",
            "sizeref": 0.189625,
            "symbol": "circle"
           },
           "mode": "markers",
           "name": "Andhra Pradesh",
           "showlegend": true,
           "type": "scattergeo"
          },
          {
           "geo": "geo",
           "hovertemplate": "<b>%{hovertext}</b><br><br>state=Assam<br>month=Jan<br>estimated unemployment rate=%{marker.size}<br>latitude=%{lat}<br>longitude=%{lon}<extra></extra>",
           "hovertext": [
            "Assam"
           ],
           "lat": {
            "bdata": "si5uowE8V0A=",
            "dtype": "f8"
           },
           "legendgroup": "Assam",
           "lon": {
            "bdata": "3pOHhVozOkA=",
            "dtype": "f8"
           },
           "marker": {
            "color": "#EF553B",
            "size": {
             "bdata": "pHA9CtejEkA=",
             "dtype": "f8"
            },
            "sizemode": "area",
            "sizeref": 0.189625,
            "symbol": "circle"
           },
           "mode": "markers",
           "name": "Assam",
           "showlegend": true,
           "type": "scattergeo"
          },
          {
           "geo": "geo",
           "hovertemplate": "<b>%{hovertext}</b><br><br>state=Bihar<br>month=Jan<br>estimated unemployment rate=%{marker.size}<br>latitude=%{lat}<br>longitude=%{lon}<extra></extra>",
           "hovertext": [
            "Bihar"
           ],
           "lat": {
            "bdata": "KxiV1AlUVUA=",
            "dtype": "f8"
           },
           "legendgroup": "Bihar",
           "lon": {
            "bdata": "RiV1ApoYOUA=",
            "dtype": "f8"
           },
           "marker": {
            "color": "#00cc96",
            "size": {
             "bdata": "uB6F61E4JUA=",
             "dtype": "f8"
            },
            "sizemode": "area",
            "sizeref": 0.189625,
            "symbol": "circle"
           },
           "mode": "markers",
           "name": "Bihar",
           "showlegend": true,
           "type": "scattergeo"
          },
          {
           "geo": "geo",
           "hovertemplate": "<b>%{hovertext}</b><br><br>state=Chhattisgarh<br>month=Jan<br>estimated unemployment rate=%{marker.size}<br>latitude=%{lat}<br>longitude=%{lon}<extra></extra>",
           "hovertext": [
            "Chhattisgarh"
           ],
           "lat": {
            "bdata": "M8SxLm53VEA=",
            "dtype": "f8"
           },
           "legendgroup": "Chhattisgarh",
           "lon": {
            "bdata": "LGUZ4lhHNUA=",
            "dtype": "f8"
           },
           "marker": {
            "color": "#ab63fa",
            "size": {
             "bdata": "zczMzMxMI0A=",
             "dtype": "f8"
            },
            "sizemode": "area",
            "sizeref": 0.189625,
            "symbol": "circle"
           },
           "mode": "markers",
           "name": "Chhattisgarh",
           "showlegend": true,
           "type": "scattergeo"
          },
          {
           "geo": "geo",
           "hovertemplate": "<b>%{hovertext}</b><br><br>state=Delhi<br>month=Jan<br>estimated unemployment rate=%{marker.size}<br>latitude=%{lat}<br>longitude=%{lon}<extra></extra>",
           "hovertext": [
            "Delhi"
           ],
           "lat": {
            "bdata": "w/UoXI9GU0A=",
            "dtype": "f8"
           },
           "legendgroup": "Delhi",
           "lon": {
            "bdata": "FR3J5T+0PEA=",
            "dtype": "f8"
           },
           "marker": {
            "color": "#FFA15A",
            "size": {
             "bdata": "exSuR+E6NkA=",
             "dtype": "f8"
            },
            "sizemode": "area",
            "sizeref": 0.189625,
            "symbol": "circle"
           },
           "mode": "markers",
           "name": "Delhi",
           "showlegend": true,
           "type": "scattergeo"
          },
          {
           "geo": "geo",
           "hovertemplate": "<b>%{hovertext}</b><br><br>state=Goa<br>month=Jan<br>estimated unemployment rate=%{marker.size}<br>latitude=%{lat}<br>longitude=%{lon}<extra></extra>",
           "hovertext": [
            "Goa"
           ],
           "lat": {
            "bdata": "Di2yne+HUkA=",
            "dtype": "f8"
           },
           "legendgroup": "Goa",
           "lon": {
            "bdata": "t2J/2T2ZLkA=",
            "dtype": "f8"
           },
           "marker": {
            "color": "#19d3f3",
            "size": {
             "bdata": "SOF6FK7HIUA=",
             "dtype": "f8"
            },
            "sizemode": "area",
            "sizeref": 0.189625,
            "symbol": "circle"
           },
           "mode": "markers",
           "name": "Goa",
           "showlegend": true,
           "type": "scattergeo"
          },
          {
           "geo": "geo",
           "hovertemplate": "<b>%{hovertext}</b><br><br>state=Gujarat<br>month=Jan<br>estimated unemployment rate=%{marker.size}<br>latitude=%{lat}<br>longitude=%{lon}<extra></extra>",
           "hovertext": [
            "Gujarat"
           ],
           "lat": {
            "bdata": "B/AWSFDMUUA=",
            "dtype": "f8"
           },
           "legendgroup": "Gujarat",
           "lon": {
            "bdata": "p3nHKTpCNkA=",
            "dtype": "f8"
           },
           "marker": {
            "color": "#FF6692",
            "size": {
             "bdata": "KVyPwvUoFkA=",
             "dtype": "f8"
            },
            "sizemode": "area",
            "sizeref": 0.189625,
            "symbol": "circle"
           },
           "mode": "markers",
           "name": "Gujarat",
           "showlegend": true,
           "type": "scattergeo"
          },
          {
           "geo": "geo",
           "hovertemplate": "<b>%{hovertext}</b><br><br>state=Haryana<br>month=Jan<br>estimated unemployment rate=%{marker.size}<br>latitude=%{lat}<br>longitude=%{lon}<extra></extra>",
           "hovertext": [
            "Haryana"
           ],
           "lat": {
            "bdata": "aCJseHoFU0A=",
            "dtype": "f8"
           },
           "legendgroup": "Haryana",
           "lon": {
            "bdata": "OwFNhA0PPUA=",
            "dtype": "f8"
           },
           "marker": {
            "color": "#B6E880",
            "size": {
             "bdata": "16NwPQpXNEA=",
             "dtype": "f8"
            },
            "sizemode": "area",
            "sizeref": 0.189625,
            "symbol": "circle"
           },
           "mode": "markers",
           "name": "Haryana",
           "showlegend": true,
           "type": "scattergeo"
          },
          {
           "geo": "geo",
           "hovertemplate": "<b>%{hovertext}</b><br><br>state=Himachal Pradesh<br>month=Jan<br>estimated unemployment rate=%{marker.size}<br>latitude=%{lat}<br>longitude=%{lon}<extra></extra>",
           "hovertext": [
            "Himachal Pradesh"
           ],
           "lat": {
            "bdata": "F0hQ/BhLU0A=",
            "dtype": "f8"
           },
           "legendgroup": "Himachal Pradesh",
           "lon": {
            "bdata": "7Z48LNQaP0A=",
            "dtype": "f8"
           },
           "marker": {
            "color": "#FF97FF",
            "size": {
             "bdata": "FK5H4XrUMEA=",
             "dtype": "f8"
            },
            "sizemode": "area",
            "sizeref": 0.189625,
            "symbol": "circle"
           },
           "mode": "markers",
           "name": "Himachal Pradesh",
           "showlegend": true,
           "type": "scattergeo"
          },
          {
           "geo": "geo",
           "hovertemplate": "<b>%{hovertext}</b><br><br>state=Jammu & Kashmir<br>month=Jan<br>estimated unemployment rate=%{marker.size}<br>latitude=%{lat}<br>longitude=%{lon}<extra></extra>",
           "hovertext": [
            "Jammu & Kashmir"
           ],
           "lat": {
            "bdata": "Iv32deAkU0A=",
            "dtype": "f8"
           },
           "legendgroup": "Jammu & Kashmir",
           "lon": {
            "bdata": "pN++DpzjQEA=",
            "dtype": "f8"
           },
           "marker": {
            "color": "#FECB52",
            "size": {
             "bdata": "FK5H4XoUNUA=",
             "dtype": "f8"
            },
            "sizemode": "area",
            "sizeref": 0.189625,
            "symbol": "circle"
           },
           "mode": "markers",
           "name": "Jammu & Kashmir",
           "showlegend": true,
           "type": "scattergeo"
          },
          {
           "geo": "geo",
           "hovertemplate": "<b>%{hovertext}</b><br><br>state=Jharkhand<br>month=Jan<br>estimated unemployment rate=%{marker.size}<br>latitude=%{lat}<br>longitude=%{lon}<extra></extra>",
           "hovertext": [
            "Jharkhand"
           ],
           "lat": {
            "bdata": "oImw4elRVUA=",
            "dtype": "f8"
           },
           "legendgroup": "Jharkhand",
           "lon": {
            "bdata": "6gQ0ETacN0A=",
            "dtype": "f8"
           },
           "marker": {
            "color": "#636efa",
            "size": {
             "bdata": "uB6F61E4JUA=",
             "dtype": "f8"
            },
            "sizemode": "area",
            "sizeref": 0.189625,
            "symbol": "circle"
           },
           "mode": "markers",
           "name": "Jharkhand",
           "showlegend": true,
           "type": "scattergeo"
          },
          {
           "geo": "geo",
           "hovertemplate": "<b>%{hovertext}</b><br><br>state=Karnataka<br>month=Jan<br>estimated unemployment rate=%{marker.size}<br>latitude=%{lat}<br>longitude=%{lon}<extra></extra>",
           "hovertext": [
            "Karnataka"
           ],
           "lat": {
            "bdata": "UiegibDtUkA=",
            "dtype": "f8"
           },
           "legendgroup": "Karnataka",
           "lon": {
            "bdata": "pgpGJXWiLkA=",
            "dtype": "f8"
           },
           "marker": {
            "color": "#EF553B",
            "size": {
             "bdata": "4XoUrkfhBkA=",
             "dtype": "f8"
            },
            "sizemode": "area",
            "sizeref": 0.189625,
            "symbol": "circle"
           },
           "mode": "markers",
           "name": "Karnataka",
           "showlegend": true,
           "type": "scattergeo"
          },
          {
           "geo": "geo",
           "hovertemplate": "<b>%{hovertext}</b><br><br>state=Kerala<br>month=Jan<br>estimated unemployment rate=%{marker.size}<br>latitude=%{lat}<br>longitude=%{lon}<extra></extra>",
           "hovertext": [
            "Kerala"
           ],
           "lat": {
            "bdata": "hXzQs1kRU0A=",
            "dtype": "f8"
           },
           "legendgroup": "Kerala",
           "lon": {
            "bdata": "+n5qvHSzJUA=",
            "dtype": "f8"
           },
           "marker": {
            "color": "#00cc96",
            "size": {
             "bdata": "PQrXo3A9FUA=",
             "dtype": "f8"
            },
            "sizemode": "area",
            "sizeref": 0.189625,
            "symbol": "circle"
           },
           "mode": "markers",
           "name": "Kerala",
           "showlegend": true,
           "type": "scattergeo"
          },
          {
           "geo": "geo",
           "hovertemplate": "<b>%{hovertext}</b><br><br>state=Madhya Pradesh<br>month=Jan<br>estimated unemployment rate=%{marker.size}<br>latitude=%{lat}<br>longitude=%{lon}<extra></extra>",
           "hovertext": [
            "Madhya Pradesh"
           ],
           "lat": {
            "bdata": "gy9MpgqqU0A=",
            "dtype": "f8"
           },
           "legendgroup": "Madhya Pradesh",
           "lon": {
            "bdata": "Ke0NvjD5NkA=",
            "dtype": "f8"
           },
           "marker": {
            "color": "#ab63fa",
            "size": {
             "bdata": "cT0K16NwEEA=",
             "dtype": "f8"
            },
            "sizemode": "area",
            "sizeref": 0.189625,
            "symbol": "circle"
           },
           "mode": "markers",
           "name": "Madhya Pradesh",
           "showlegend": true,
           "type": "scattergeo"
          },
          {
           "geo": "geo",
           "hovertemplate": "<b>%{hovertext}</b><br><br>state=Maharashtra<br>month=Jan<br>estimated unemployment rate=%{marker.size}<br>latitude=%{lat}<br>longitude=%{lon}<extra></extra>",
           "hovertext": [
            "Maharashtra"
           ],
           "lat": {
            "bdata": "UiegibDtUkA=",
            "dtype": "f8"
           },
           "legendgroup": "Maharashtra",
           "lon": {
            "bdata": "qvHSTWLAM0A=",
            "dtype": "f8"
           },
           "marker": {
            "color": "#FFA15A",
            "size": {
             "bdata": "zczMzMzME0A=",
             "dtype": "f8"
            },
            "sizemode": "area",
            "sizeref": 0.189625,
            "symbol": "circle"
           },
           "mode": "markers",
           "name": "Maharashtra",
           "showlegend": true,
           "type": "scattergeo"
          },
          {
           "geo": "geo",
           "hovertemplate": "<b>%{hovertext}</b><br><br>state=Meghalaya<br>month=Jan<br>estimated unemployment rate=%{marker.size}<br>latitude=%{lat}<br>longitude=%{lon}<extra></extra>",
           "hovertext": [
            "Meghalaya"
           ],
           "lat": {
            "bdata": "5fIf0m/XVkA=",
            "dtype": "f8"
           },
           "legendgroup": "Meghalaya",
           "lon": {
            "bdata": "ZDvfT413OUA=",
            "dtype": "f8"
           },
           "marker": {
            "color": "#19d3f3",
            "size": {
             "bdata": "j8L1KFyP+j8=",
             "dtype": "f8"
            },
            "sizemode": "area",
            "sizeref": 0.189625,
            "symbol": "circle"
           },
           "mode": "markers",
           "name": "Meghalaya",
           "showlegend": true,
           "type": "scattergeo"
          },
          {
           "geo": "geo",
           "hovertemplate": "<b>%{hovertext}</b><br><br>state=Odisha<br>month=Jan<br>estimated unemployment rate=%{marker.size}<br>latitude=%{lat}<br>longitude=%{lon}<extra></extra>",
           "hovertext": [
            "Odisha"
           ],
           "lat": {
            "bdata": "/Knx0k1GVUA=",
            "dtype": "f8"
           },
           "legendgroup": "Odisha",
           "lon": {
            "bdata": "a5p3nKLzNEA=",
            "dtype": "f8"
           },
           "marker": {
            "color": "#FF6692",
            "size": {
             "bdata": "ZmZmZmZm/j8=",
             "dtype": "f8"
            },
            "sizemode": "area",
            "sizeref": 0.189625,
            "symbol": "circle"
           },
           "mode": "markers",
           "name": "Odisha",
           "showlegend": true,
           "type": "scattergeo"
          },
          {
           "geo": "geo",
           "hovertemplate": "<b>%{hovertext}</b><br><br>state=Puducherry<br>month=Jan<br>estimated unemployment rate=%{marker.size}<br>latitude=%{lat}<br>longitude=%{lon}<extra></extra>",
           "hovertext": [
            "Puducherry"
           ],
           "lat": {
            "bdata": "1lbsL7vzU0A=",
            "dtype": "f8"
           },
           "legendgroup": "Puducherry",
           "lon": {
            "bdata": "w9MrZRniJ0A=",
            "dtype": "f8"
           },
           "marker": {
            "color": "#B6E880",
            "size": {
             "bdata": "j8L1KFyP4j8=",
             "dtype": "f8"
            },
            "sizemode": "area",
            "sizeref": 0.189625,
            "symbol": "circle"
           },
           "mode": "markers",
           "name": "Puducherry",
           "showlegend": true,
           "type": "scattergeo"
          },
          {
           "geo": "geo",
           "hovertemplate": "<b>%{hovertext}</b><br><br>state=Punjab<br>month=Jan<br>estimated unemployment rate=%{marker.size}<br>latitude=%{lat}<br>longitude=%{lon}<extra></extra>",
           "hovertext": [
            "Punjab"
           ],
           "lat": {
            "bdata": "S1mGONbVUkA=",
            "dtype": "f8"
           },
           "legendgroup": "Punjab",
           "lon": {
            "bdata": "2T15WKglP0A=",
            "dtype": "f8"
           },
           "marker": {
            "color": "#FF97FF",
            "size": {
             "bdata": "uB6F61E4JkA=",
             "dtype": "f8"
            },
            "sizemode": "area",
            "sizeref": 0.189625,
            "symbol": "circle"
           },
           "mode": "markers",
           "name": "Punjab",
           "showlegend": true,
           "type": "scattergeo"
          },
          {
           "geo": "geo",
           "hovertemplate": "<b>%{hovertext}</b><br><br>state=Rajasthan<br>month=Jan<br>estimated unemployment rate=%{marker.size}<br>latitude=%{lat}<br>longitude=%{lon}<extra></extra>",
           "hovertext": [
            "Rajasthan"
           ],
           "lat": {
            "bdata": "GXPXEvKNUkA=",
            "dtype": "f8"
           },
           "legendgroup": "Rajasthan",
           "lon": {
            "bdata": "EqW9wRcGO0A=",
            "dtype": "f8"
           },
           "marker": {
            "color": "#FECB52",
            "size": {
             "bdata": "cT0K16PwJUA=",
             "dtype": "f8"
            },
            "sizemode": "area",
            "sizeref": 0.189625,
            "symbol": "circle"
           },
           "mode": "markers",
           "name": "Rajasthan",
           "showlegend": true,
           "type": "scattergeo"
          },
          {
           "geo": "geo",
           "hovertemplate": "<b>%{hovertext}</b><br><br>state=Tamil Nadu<br>month=Jan<br>estimated unemployment rate=%{marker.size}<br>latitude=%{lat}<br>longitude=%{lon}<extra></extra>",
           "hovertext": [
            "Tamil Nadu"
           ],
           "lat": {
            "bdata": "gy9MpgqqU0A=",
            "dtype": "f8"
           },
           "legendgroup": "Tamil Nadu",
           "lon": {
            "bdata": "qaROQBNBJkA=",
            "dtype": "f8"
           },
           "marker": {
            "color": "#EF553B",
            "size": {
             "bdata": "H4XrUbge+T8=",
             "dtype": "f8"
            },
            "sizemode": "area",
            "sizeref": 0.189625,
            "symbol": "circle"
           },
           "mode": "markers",
           "name": "Tamil Nadu",
           "showlegend": true,
           "type": "scattergeo"
          },
          {
           "geo": "geo",
           "hovertemplate": "<b>%{hovertext}</b><br><br>state=Telangana<br>month=Jan<br>estimated unemployment rate=%{marker.size}<br>latitude=%{lat}<br>longitude=%{lon}<extra></extra>",
           "hovertext": [
            "Telangana"
           ],
           "lat": {
            "bdata": "BTQRNjzBU0A=",
            "dtype": "f8"
           },
           "legendgroup": "Telangana",
           "lon": {
            "bdata": "BhIUP8YcMkA=",
            "dtype": "f8"
           },
           "marker": {
            "color": "#00cc96",
            "size": {
             "bdata": "9ihcj8L1FUA=",
             "dtype": "f8"
            },
            "sizemode": "area",
            "sizeref": 0.189625,
            "symbol": "circle"
           },
           "mode": "markers",
           "name": "Telangana",
           "showlegend": true,
           "type": "scattergeo"
          },
          {
           "geo": "geo",
           "hovertemplate": "<b>%{hovertext}</b><br><br>state=Tripura<br>month=Jan<br>estimated unemployment rate=%{marker.size}<br>latitude=%{lat}<br>longitude=%{lon}<extra></extra>",
           "hovertext": [
            "Tripura"
           ],
           "lat": {
            "bdata": "EHo2qz7/VkA=",
            "dtype": "f8"
           },
           "legendgroup": "Tripura",
           "lon": {
            "bdata": "qRPQRNjwN0A=",
            "dtype": "f8"
           },
           "marker": {
            "color": "#ab63fa",
            "size": {
             "bdata": "9ihcj8JVQEA=",
             "dtype": "f8"
            },
            "sizemode": "area",
            "sizeref": 0.189625,
            "symbol": "circle"
           },
           "mode": "markers",
           "name": "Tripura",
           "showlegend": true,
           "type": "scattergeo"
          },
          {
           "geo": "geo",
           "hovertemplate": "<b>%{hovertext}</b><br><br>state=Uttar Pradesh<br>month=Jan<br>estimated unemployment rate=%{marker.size}<br>latitude=%{lat}<br>longitude=%{lon}<extra></extra>",
           "hovertext": [
            "Uttar Pradesh"
           ],
           "lat": {
            "bdata": "at5xio48VEA=",
            "dtype": "f8"
           },
           "legendgroup": "Uttar Pradesh",
           "lon": {
            "bdata": "8IXJVMHYOkA=",
            "dtype": "f8"
           },
           "marker": {
            "color": "#FFA15A",
            "size": {
             "bdata": "UrgehetRHkA=",
             "dtype": "f8"
            },
            "sizemode": "area",
            "sizeref": 0.189625,
            "symbol": "circle"
           },
           "mode": "markers",
           "name": "Uttar Pradesh",
           "showlegend": true,
           "type": "scattergeo"
          },
          {
           "geo": "geo",
           "hovertemplate": "<b>%{hovertext}</b><br><br>state=Uttarakhand<br>month=Jan<br>estimated unemployment rate=%{marker.size}<br>latitude=%{lat}<br>longitude=%{lon}<extra></extra>",
           "hovertext": [
            "Uttarakhand"
           ],
           "lat": {
            "bdata": "BTQRNjzBU0A=",
            "dtype": "f8"
           },
           "legendgroup": "Uttarakhand",
           "lon": {
            "bdata": "cF8HzhkRPkA=",
            "dtype": "f8"
           },
           "marker": {
            "color": "#19d3f3",
            "size": {
             "bdata": "9ihcj8L1FUA=",
             "dtype": "f8"
            },
            "sizemode": "area",
            "sizeref": 0.189625,
            "symbol": "circle"
           },
           "mode": "markers",
           "name": "Uttarakhand",
           "showlegend": true,
           "type": "scattergeo"
          },
          {
           "geo": "geo",
           "hovertemplate": "<b>%{hovertext}</b><br><br>state=West Bengal<br>month=Jan<br>estimated unemployment rate=%{marker.size}<br>latitude=%{lat}<br>longitude=%{lon}<extra></extra>",
           "hovertext": [
            "West Bengal"
           ],
           "lat": {
            "bdata": "H4XrUbj2VUA=",
            "dtype": "f8"
           },
           "legendgroup": "West Bengal",
           "lon": {
            "bdata": "W7G/7J78NkA=",
            "dtype": "f8"
           },
           "marker": {
            "color": "#FF6692",
            "size": {
             "bdata": "w/UoXI/CG0A=",
             "dtype": "f8"
            },
            "sizemode": "area",
            "sizeref": 0.189625,
            "symbol": "circle"
           },
           "mode": "markers",
           "name": "West Bengal",
           "showlegend": true,
           "type": "scattergeo"
          }
         ],
         "name": "Jan"
        },
        {
         "data": [
          {
           "geo": "geo",
           "hovertemplate": "<b>%{hovertext}</b><br><br>state=Andhra Pradesh<br>month=Feb<br>estimated unemployment rate=%{marker.size}<br>latitude=%{lat}<br>longitude=%{lon}<extra></extra>",
           "hovertext": [
            "Andhra Pradesh"
           ],
           "lat": {
            "bdata": "j8L1KFzvU0A=",
            "dtype": "f8"
           },
           "legendgroup": "Andhra Pradesh",
           "lon": {
            "bdata": "bAn5oGfTL0A=",
            "dtype": "f8"
           },
           "marker": {
            "color": "#636efa",
            "size": {
             "bdata": "UrgehetRF0A=",
             "dtype": "f8"
            },
            "sizemode": "area",
            "sizeref": 0.189625,
            "symbol": "circle"
           },
           "mode": "markers",
           "name": "Andhra Pradesh",
           "showlegend": true,
           "type": "scattergeo"
          },
          {
           "geo": "geo",
           "hovertemplate": "<b>%{hovertext}</b><br><br>state=Assam<br>month=Feb<br>estimated unemployment rate=%{marker.size}<br>latitude=%{lat}<br>longitude=%{lon}<extra></extra>",
           "hovertext": [
            "Assam"
           ],
           "lat": {
            "bdata": "si5uowE8V0A=",
            "dtype": "f8"
           },
           "legendgroup": "Assam",
           "lon": {
            "bdata": "3pOHhVozOkA=",
            "dtype": "f8"
           },
           "marker": {
            "color": "#EF553B",
            "size": {
             "bdata": "pHA9CtejEUA=",
             "dtype": "f8"
            },
            "sizemode": "area",
            "sizeref": 0.189625,
            "symbol": "circle"
           },
           "mode": "markers",
           "name": "Assam",
           "showlegend": true,
           "type": "scattergeo"
          },
          {
           "geo": "geo",
           "hovertemplate": "<b>%{hovertext}</b><br><br>state=Bihar<br>month=Feb<br>estimated unemployment rate=%{marker.size}<br>latitude=%{lat}<br>longitude=%{lon}<extra></extra>",
           "hovertext": [
            "Bihar"
           ],
           "lat": {
            "bdata": "KxiV1AlUVUA=",
            "dtype": "f8"
           },
           "legendgroup": "Bihar",
           "lon": {
            "bdata": "RiV1ApoYOUA=",
            "dtype": "f8"
           },
           "marker": {
            "color": "#00cc96",
            "size": {
             "bdata": "FK5H4XqUJEA=",
             "dtype": "f8"
            },
            "sizemode": "area",
            "sizeref": 0.189625,
            "symbol": "circle"
           },
           "mode": "markers",
           "name": "Bihar",
           "showlegend": true,
           "type": "scattergeo"
          },
          {
           "geo": "geo",
           "hovertemplate": "<b>%{hovertext}</b><br><br>state=Chhattisgarh<br>month=Feb<br>estimated unemployment rate=%{marker.size}<br>latitude=%{lat}<br>longitude=%{lon}<extra></extra>",
           "hovertext": [
            "Chhattisgarh"
           ],
           "lat": {
            "bdata": "M8SxLm53VEA=",
            "dtype": "f8"
           },
           "legendgroup": "Chhattisgarh",
           "lon": {
            "bdata": "LGUZ4lhHNUA=",
            "dtype": "f8"
           },
           "marker": {
            "color": "#ab63fa",
            "size": {
             "bdata": "w/UoXI/CIEA=",
             "dtype": "f8"
            },
            "sizemode": "area",
            "sizeref": 0.189625,
            "symbol": "circle"
           },
           "mode": "markers",
           "name": "Chhattisgarh",
           "showlegend": true,
           "type": "scattergeo"
          },
          {
           "geo": "geo",
           "hovertemplate": "<b>%{hovertext}</b><br><br>state=Delhi<br>month=Feb<br>estimated unemployment rate=%{marker.size}<br>latitude=%{lat}<br>longitude=%{lon}<extra></extra>",
           "hovertext": [
            "Delhi"
           ],
           "lat": {
            "bdata": "w/UoXI9GU0A=",
            "dtype": "f8"
           },
           "legendgroup": "Delhi",
           "lon": {
            "bdata": "FR3J5T+0PEA=",
            "dtype": "f8"
           },
           "marker": {
            "color": "#FFA15A",
            "size": {
             "bdata": "rkfhehSuLUA=",
             "dtype": "f8"
            },
            "sizemode": "area",
            "sizeref": 0.189625,
            "symbol": "circle"
           },
           "mode": "markers",
           "name": "Delhi",
           "showlegend": true,
           "type": "scattergeo"
          },
          {
           "geo": "geo",
           "hovertemplate": "<b>%{hovertext}</b><br><br>state=Goa<br>month=Feb<br>estimated unemployment rate=%{marker.size}<br>latitude=%{lat}<br>longitude=%{lon}<extra></extra>",
           "hovertext": [
            "Goa"
           ],
           "lat": {
            "bdata": "Di2yne+HUkA=",
            "dtype": "f8"
           },
           "legendgroup": "Goa",
           "lon": {
            "bdata": "t2J/2T2ZLkA=",
            "dtype": "f8"
           },
           "marker": {
            "color": "#19d3f3",
            "size": {
             "bdata": "exSuR+F6BkA=",
             "dtype": "f8"
            },
            "sizemode": "area",
            "sizeref": 0.189625,
            "symbol": "circle"
           },
           "mode": "markers",
           "name": "Goa",
           "showlegend": true,
           "type": "scattergeo"
          },
          {
           "geo": "geo",
           "hovertemplate": "<b>%{hovertext}</b><br><br>state=Gujarat<br>month=Feb<br>estimated unemployment rate=%{marker.size}<br>latitude=%{lat}<br>longitude=%{lon}<extra></extra>",
           "hovertext": [
            "Gujarat"
           ],
           "lat": {
            "bdata": "B/AWSFDMUUA=",
            "dtype": "f8"
           },
           "legendgroup": "Gujarat",
           "lon": {
            "bdata": "p3nHKTpCNkA=",
            "dtype": "f8"
           },
           "marker": {
            "color": "#FF6692",
            "size": {
             "bdata": "hetRuB6FGUA=",
             "dtype": "f8"
            },
            "sizemode": "area",
            "sizeref": 0.189625,
            "symbol": "circle"
           },
           "mode": "markers",
           "name": "Gujarat",
           "showlegend": true,
           "type": "scattergeo"
          },
          {
           "geo": "geo",
           "hovertemplate": "<b>%{hovertext}</b><br><br>state=Haryana<br>month=Feb<br>estimated unemployment rate=%{marker.size}<br>latitude=%{lat}<br>longitude=%{lon}<extra></extra>",
           "hovertext": [
            "Haryana"
           ],
           "lat": {
            "bdata": "aCJseHoFU0A=",
            "dtype": "f8"
           },
           "legendgroup": "Haryana",
           "lon": {
            "bdata": "OwFNhA0PPUA=",
            "dtype": "f8"
           },
           "marker": {
            "color": "#B6E880",
            "size": {
             "bdata": "hetRuB7FOUA=",
             "dtype": "f8"
            },
            "sizemode": "area",
            "sizeref": 0.189625,
            "symbol": "circle"
           },
           "mode": "markers",
           "name": "Haryana",
           "showlegend": true,
           "type": "scattergeo"
          },
          {
           "geo": "geo",
           "hovertemplate": "<b>%{hovertext}</b><br><br>state=Himachal Pradesh<br>month=Feb<br>estimated unemployment rate=%{marker.size}<br>latitude=%{lat}<br>longitude=%{lon}<extra></extra>",
           "hovertext": [
            "Himachal Pradesh"
           ],
           "lat": {
            "bdata": "F0hQ/BhLU0A=",
            "dtype": "f8"
           },
           "legendgroup": "Himachal Pradesh",
           "lon": {
            "bdata": "7Z48LNQaP0A=",
            "dtype": "f8"
           },
           "marker": {
            "color": "#FF97FF",
            "size": {
             "bdata": "16NwPQrXMEA=",
             "dtype": "f8"
            },
            "sizemode": "area",
            "sizeref": 0.189625,
            "symbol": "circle"
           },
           "mode": "markers",
           "name": "Himachal Pradesh",
           "showlegend": true,
           "type": "scattergeo"
          },
          {
           "geo": "geo",
           "hovertemplate": "<b>%{hovertext}</b><br><br>state=Jammu & Kashmir<br>month=Feb<br>estimated unemployment rate=%{marker.size}<br>latitude=%{lat}<br>longitude=%{lon}<extra></extra>",
           "hovertext": [
            "Jammu & Kashmir"
           ],
           "lat": {
            "bdata": "Iv32deAkU0A=",
            "dtype": "f8"
           },
           "legendgroup": "Jammu & Kashmir",
           "lon": {
            "bdata": "pN++DpzjQEA=",
            "dtype": "f8"
           },
           "marker": {
            "color": "#FECB52",
            "size": {
             "bdata": "SOF6FK7HNEA=",
             "dtype": "f8"
            },
            "sizemode": "area",
            "sizeref": 0.189625,
            "symbol": "circle"
           },
           "mode": "markers",
           "name": "Jammu & Kashmir",
           "showlegend": true,
           "type": "scattergeo"
          },
          {
           "geo": "geo",
           "hovertemplate": "<b>%{hovertext}</b><br><br>state=Jharkhand<br>month=Feb<br>estimated unemployment rate=%{marker.size}<br>latitude=%{lat}<br>longitude=%{lon}<extra></extra>",
           "hovertext": [
            "Jharkhand"
           ],
           "lat": {
            "bdata": "oImw4elRVUA=",
            "dtype": "f8"
           },
           "legendgroup": "Jharkhand",
           "lon": {
            "bdata": "6gQ0ETacN0A=",
            "dtype": "f8"
           },
           "marker": {
            "color": "#636efa",
            "size": {
             "bdata": "MzMzMzOzJ0A=",
             "dtype": "f8"
            },
            "sizemode": "area",
            "sizeref": 0.189625,
            "symbol": "circle"
           },
           "mode": "markers",
           "name": "Jharkhand",
           "showlegend": true,
           "type": "scattergeo"
          },
          {
           "geo": "geo",
           "hovertemplate": "<b>%{hovertext}</b><br><br>state=Karnataka<br>month=Feb<br>estimated unemployment rate=%{marker.size}<br>latitude=%{lat}<br>longitude=%{lon}<extra></extra>",
           "hovertext": [
            "Karnataka"
           ],
           "lat": {
            "bdata": "UiegibDtUkA=",
            "dtype": "f8"
           },
           "legendgroup": "Karnataka",
           "lon": {
            "bdata": "pgpGJXWiLkA=",
            "dtype": "f8"
           },
           "marker": {
            "color": "#EF553B",
            "size": {
             "bdata": "4XoUrkfhDEA=",
             "dtype": "f8"
            },
            "sizemode": "area",
            "sizeref": 0.189625,
            "symbol": "circle"
           },
           "mode": "markers",
           "name": "Karnataka",
           "showlegend": true,
           "type": "scattergeo"
          },
          {
           "geo": "geo",
           "hovertemplate": "<b>%{hovertext}</b><br><br>state=Kerala<br>month=Feb<br>estimated unemployment rate=%{marker.size}<br>latitude=%{lat}<br>longitude=%{lon}<extra></extra>",
           "hovertext": [
            "Kerala"
           ],
           "lat": {
            "bdata": "hXzQs1kRU0A=",
            "dtype": "f8"
           },
           "legendgroup": "Kerala",
           "lon": {
            "bdata": "+n5qvHSzJUA=",
            "dtype": "f8"
           },
           "marker": {
            "color": "#00cc96",
            "size": {
             "bdata": "ZmZmZmZmHkA=",
             "dtype": "f8"
            },
            "sizemode": "area",
            "sizeref": 0.189625,
            "symbol": "circle"
           },
           "mode": "markers",
           "name": "Kerala",
           "showlegend": true,
           "type": "scattergeo"
          },
          {
           "geo": "geo",
           "hovertemplate": "<b>%{hovertext}</b><br><br>state=Madhya Pradesh<br>month=Feb<br>estimated unemployment rate=%{marker.size}<br>latitude=%{lat}<br>longitude=%{lon}<extra></extra>",
           "hovertext": [
            "Madhya Pradesh"
           ],
           "lat": {
            "bdata": "gy9MpgqqU0A=",
            "dtype": "f8"
           },
           "legendgroup": "Madhya Pradesh",
           "lon": {
            "bdata": "Ke0NvjD5NkA=",
            "dtype": "f8"
           },
           "marker": {
            "color": "#ab63fa",
            "size": {
             "bdata": "SOF6FK5HEkA=",
             "dtype": "f8"
            },
            "sizemode": "area",
            "sizeref": 0.189625,
            "symbol": "circle"
           },
           "mode": "markers",
           "name": "Madhya Pradesh",
           "showlegend": true,
           "type": "scattergeo"
          },
          {
           "geo": "geo",
           "hovertemplate": "<b>%{hovertext}</b><br><br>state=Maharashtra<br>month=Feb<br>estimated unemployment rate=%{marker.size}<br>latitude=%{lat}<br>longitude=%{lon}<extra></extra>",
           "hovertext": [
            "Maharashtra"
           ],
           "lat": {
            "bdata": "UiegibDtUkA=",
            "dtype": "f8"
           },
           "legendgroup": "Maharashtra",
           "lon": {
            "bdata": "qvHSTWLAM0A=",
            "dtype": "f8"
           },
           "marker": {
            "color": "#FFA15A",
            "size": {
             "bdata": "w/UoXI/CEkA=",
             "dtype": "f8"
            },
            "sizemode": "area",
            "sizeref": 0.189625,
            "symbol": "circle"
           },
           "mode": "markers",
           "name": "Maharashtra",
           "showlegend": true,
           "type": "scattergeo"
          },
          {
           "geo": "geo",
           "hovertemplate": "<b>%{hovertext}</b><br><br>state=Meghalaya<br>month=Feb<br>estimated unemployment rate=%{marker.size}<br>latitude=%{lat}<br>longitude=%{lon}<extra></extra>",
           "hovertext": [
            "Meghalaya"
           ],
           "lat": {
            "bdata": "5fIf0m/XVkA=",
            "dtype": "f8"
           },
           "legendgroup": "Meghalaya",
           "lon": {
            "bdata": "ZDvfT413OUA=",
            "dtype": "f8"
           },
           "marker": {
            "color": "#19d3f3",
            "size": {
             "bdata": "uB6F61G4DEA=",
             "dtype": "f8"
            },
            "sizemode": "area",
            "sizeref": 0.189625,
            "symbol": "circle"
           },
           "mode": "markers",
           "name": "Meghalaya",
           "showlegend": true,
           "type": "scattergeo"
          },
          {
           "geo": "geo",
           "hovertemplate": "<b>%{hovertext}</b><br><br>state=Odisha<br>month=Feb<br>estimated unemployment rate=%{marker.size}<br>latitude=%{lat}<br>longitude=%{lon}<extra></extra>",
           "hovertext": [
            "Odisha"
           ],
           "lat": {
            "bdata": "/Knx0k1GVUA=",
            "dtype": "f8"
           },
           "legendgroup": "Odisha",
           "lon": {
            "bdata": "a5p3nKLzNEA=",
            "dtype": "f8"
           },
           "marker": {
            "color": "#FF6692",
            "size": {
             "bdata": "9ihcj8L1CEA=",
             "dtype": "f8"
            },
            "sizemode": "area",
            "sizeref": 0.189625,
            "symbol": "circle"
           },
           "mode": "markers",
           "name": "Odisha",
           "showlegend": true,
           "type": "scattergeo"
          },
          {
           "geo": "geo",
           "hovertemplate": "<b>%{hovertext}</b><br><br>state=Puducherry<br>month=Feb<br>estimated unemployment rate=%{marker.size}<br>latitude=%{lat}<br>longitude=%{lon}<extra></extra>",
           "hovertext": [
            "Puducherry"
           ],
           "lat": {
            "bdata": "1lbsL7vzU0A=",
            "dtype": "f8"
           },
           "legendgroup": "Puducherry",
           "lon": {
            "bdata": "w9MrZRniJ0A=",
            "dtype": "f8"
           },
           "marker": {
            "color": "#B6E880",
            "size": {
             "bdata": "KVyPwvUo/D8=",
             "dtype": "f8"
            },
            "sizemode": "area",
            "sizeref": 0.189625,
            "symbol": "circle"
           },
           "mode": "markers",
           "name": "Puducherry",
           "showlegend": true,
           "type": "scattergeo"
          },
          {
           "geo": "geo",
           "hovertemplate": "<b>%{hovertext}</b><br><br>state=Punjab<br>month=Feb<br>estimated unemployment rate=%{marker.size}<br>latitude=%{lat}<br>longitude=%{lon}<extra></extra>",
           "hovertext": [
            "Punjab"
           ],
           "lat": {
            "bdata": "S1mGONbVUkA=",
            "dtype": "f8"
           },
           "legendgroup": "Punjab",
           "lon": {
            "bdata": "2T15WKglP0A=",
            "dtype": "f8"
           },
           "marker": {
            "color": "#FF97FF",
            "size": {
             "bdata": "cT0K16PwJUA=",
             "dtype": "f8"
            },
            "sizemode": "area",
            "sizeref": 0.189625,
            "symbol": "circle"
           },
           "mode": "markers",
           "name": "Punjab",
           "showlegend": true,
           "type": "scattergeo"
          },
          {
           "geo": "geo",
           "hovertemplate": "<b>%{hovertext}</b><br><br>state=Rajasthan<br>month=Feb<br>estimated unemployment rate=%{marker.size}<br>latitude=%{lat}<br>longitude=%{lon}<extra></extra>",
           "hovertext": [
            "Rajasthan"
           ],
           "lat": {
            "bdata": "GXPXEvKNUkA=",
            "dtype": "f8"
           },
           "legendgroup": "Rajasthan",
           "lon": {
            "bdata": "EqW9wRcGO0A=",
            "dtype": "f8"
           },
           "marker": {
            "color": "#FECB52",
            "size": {
             "bdata": "UrgehetRLkA=",
             "dtype": "f8"
            },
            "sizemode": "area",
            "sizeref": 0.189625,
            "symbol": "circle"
           },
           "mode": "markers",
           "name": "Rajasthan",
           "showlegend": true,
           "type": "scattergeo"
          },
          {
           "geo": "geo",
           "hovertemplate": "<b>%{hovertext}</b><br><br>state=Tamil Nadu<br>month=Feb<br>estimated unemployment rate=%{marker.size}<br>latitude=%{lat}<br>longitude=%{lon}<extra></extra>",
           "hovertext": [
            "Tamil Nadu"
           ],
           "lat": {
            "bdata": "gy9MpgqqU0A=",
            "dtype": "f8"
           },
           "legendgroup": "Tamil Nadu",
           "lon": {
            "bdata": "qaROQBNBJkA=",
            "dtype": "f8"
           },
           "marker": {
            "color": "#EF553B",
            "size": {
             "bdata": "uB6F61G4AEA=",
             "dtype": "f8"
            },
            "sizemode": "area",
            "sizeref": 0.189625,
            "symbol": "circle"
           },
           "mode": "markers",
           "name": "Tamil Nadu",
           "showlegend": true,
           "type": "scattergeo"
          },
          {
           "geo": "geo",
           "hovertemplate": "<b>%{hovertext}</b><br><br>state=Telangana<br>month=Feb<br>estimated unemployment rate=%{marker.size}<br>latitude=%{lat}<br>longitude=%{lon}<extra></extra>",
           "hovertext": [
            "Telangana"
           ],
           "lat": {
            "bdata": "BTQRNjzBU0A=",
            "dtype": "f8"
           },
           "legendgroup": "Telangana",
           "lon": {
            "bdata": "BhIUP8YcMkA=",
            "dtype": "f8"
           },
           "marker": {
            "color": "#00cc96",
            "size": {
             "bdata": "FK5H4XqUIEA=",
             "dtype": "f8"
            },
            "sizemode": "area",
            "sizeref": 0.189625,
            "symbol": "circle"
           },
           "mode": "markers",
           "name": "Telangana",
           "showlegend": true,
           "type": "scattergeo"
          },
          {
           "geo": "geo",
           "hovertemplate": "<b>%{hovertext}</b><br><br>state=Tripura<br>month=Feb<br>estimated unemployment rate=%{marker.size}<br>latitude=%{lat}<br>longitude=%{lon}<extra></extra>",
           "hovertext": [
            "Tripura"
           ],
           "lat": {
            "bdata": "EHo2qz7/VkA=",
            "dtype": "f8"
           },
           "legendgroup": "Tripura",
           "lon": {
            "bdata": "qRPQRNjwN0A=",
            "dtype": "f8"
           },
           "marker": {
            "color": "#ab63fa",
            "size": {
             "bdata": "ZmZmZmZmPEA=",
             "dtype": "f8"
            },
            "sizemode": "area",
            "sizeref": 0.189625,
            "symbol": "circle"
           },
           "mode": "markers",
           "name": "Tripura",
           "showlegend": true,
           "type": "scattergeo"
          },
          {
           "geo": "geo",
           "hovertemplate": "<b>%{hovertext}</b><br><br>state=Uttar Pradesh<br>month=Feb<br>estimated unemployment rate=%{marker.size}<br>latitude=%{lat}<br>longitude=%{lon}<extra></extra>",
           "hovertext": [
            "Uttar Pradesh"
           ],
           "lat": {
            "bdata": "at5xio48VEA=",
            "dtype": "f8"
           },
           "legendgroup": "Uttar Pradesh",
           "lon": {
            "bdata": "8IXJVMHYOkA=",
            "dtype": "f8"
           },
           "marker": {
            "color": "#FFA15A",
            "size": {
             "bdata": "9ihcj8L1IUA=",
             "dtype": "f8"
            },
            "sizemode": "area",
            "sizeref": 0.189625,
            "symbol": "circle"
           },
           "mode": "markers",
           "name": "Uttar Pradesh",
           "showlegend": true,
           "type": "scattergeo"
          },
          {
           "geo": "geo",
           "hovertemplate": "<b>%{hovertext}</b><br><br>state=Uttarakhand<br>month=Feb<br>estimated unemployment rate=%{marker.size}<br>latitude=%{lat}<br>longitude=%{lon}<extra></extra>",
           "hovertext": [
            "Uttarakhand"
           ],
           "lat": {
            "bdata": "BTQRNjzBU0A=",
            "dtype": "f8"
           },
           "legendgroup": "Uttarakhand",
           "lon": {
            "bdata": "cF8HzhkRPkA=",
            "dtype": "f8"
           },
           "marker": {
            "color": "#19d3f3",
            "size": {
             "bdata": "9ihcj8L1E0A=",
             "dtype": "f8"
            },
            "sizemode": "area",
            "sizeref": 0.189625,
            "symbol": "circle"
           },
           "mode": "markers",
           "name": "Uttarakhand",
           "showlegend": true,
           "type": "scattergeo"
          },
          {
           "geo": "geo",
           "hovertemplate": "<b>%{hovertext}</b><br><br>state=West Bengal<br>month=Feb<br>estimated unemployment rate=%{marker.size}<br>latitude=%{lat}<br>longitude=%{lon}<extra></extra>",
           "hovertext": [
            "West Bengal"
           ],
           "lat": {
            "bdata": "H4XrUbj2VUA=",
            "dtype": "f8"
           },
           "legendgroup": "West Bengal",
           "lon": {
            "bdata": "W7G/7J78NkA=",
            "dtype": "f8"
           },
           "marker": {
            "color": "#FF6692",
            "size": {
             "bdata": "rkfhehSuE0A=",
             "dtype": "f8"
            },
            "sizemode": "area",
            "sizeref": 0.189625,
            "symbol": "circle"
           },
           "mode": "markers",
           "name": "West Bengal",
           "showlegend": true,
           "type": "scattergeo"
          }
         ],
         "name": "Feb"
        },
        {
         "data": [
          {
           "geo": "geo",
           "hovertemplate": "<b>%{hovertext}</b><br><br>state=Andhra Pradesh<br>month=Mar<br>estimated unemployment rate=%{marker.size}<br>latitude=%{lat}<br>longitude=%{lon}<extra></extra>",
           "hovertext": [
            "Andhra Pradesh"
           ],
           "lat": {
            "bdata": "j8L1KFzvU0A=",
            "dtype": "f8"
           },
           "legendgroup": "Andhra Pradesh",
           "lon": {
            "bdata": "bAn5oGfTL0A=",
            "dtype": "f8"
           },
           "marker": {
            "color": "#636efa",
            "size": {
             "bdata": "KVyPwvUoF0A=",
             "dtype": "f8"
            },
            "sizemode": "area",
            "sizeref": 0.189625,
            "symbol": "circle"
           },
           "mode": "markers",
           "name": "Andhra Pradesh",
           "showlegend": true,
           "type": "scattergeo"
          },
          {
           "geo": "geo",
           "hovertemplate": "<b>%{hovertext}</b><br><br>state=Assam<br>month=Mar<br>estimated unemployment rate=%{marker.size}<br>latitude=%{lat}<br>longitude=%{lon}<extra></extra>",
           "hovertext": [
            "Assam"
           ],
           "lat": {
            "bdata": "si5uowE8V0A=",
            "dtype": "f8"
           },
           "legendgroup": "Assam",
           "lon": {
            "bdata": "3pOHhVozOkA=",
            "dtype": "f8"
           },
           "marker": {
            "color": "#EF553B",
            "size": {
             "bdata": "FK5H4XoUE0A=",
             "dtype": "f8"
            },
            "sizemode": "area",
            "sizeref": 0.189625,
            "symbol": "circle"
           },
           "mode": "markers",
           "name": "Assam",
           "showlegend": true,
           "type": "scattergeo"
          },
          {
           "geo": "geo",
           "hovertemplate": "<b>%{hovertext}</b><br><br>state=Bihar<br>month=Mar<br>estimated unemployment rate=%{marker.size}<br>latitude=%{lat}<br>longitude=%{lon}<extra></extra>",
           "hovertext": [
            "Bihar"
           ],
           "lat": {
            "bdata": "KxiV1AlUVUA=",
            "dtype": "f8"
           },
           "legendgroup": "Bihar",
           "lon": {
            "bdata": "RiV1ApoYOUA=",
            "dtype": "f8"
           },
           "marker": {
            "color": "#00cc96",
            "size": {
             "bdata": "XI/C9SjcLkA=",
             "dtype": "f8"
            },
            "sizemode": "area",
            "sizeref": 0.189625,
            "symbol": "circle"
           },
           "mode": "markers",
           "name": "Bihar",
           "showlegend": true,
           "type": "scattergeo"
          },
          {
           "geo": "geo",
           "hovertemplate": "<b>%{hovertext}</b><br><br>state=Chhattisgarh<br>month=Mar<br>estimated unemployment rate=%{marker.size}<br>latitude=%{lat}<br>longitude=%{lon}<extra></extra>",
           "hovertext": [
            "Chhattisgarh"
           ],
           "lat": {
            "bdata": "M8SxLm53VEA=",
            "dtype": "f8"
           },
           "legendgroup": "Chhattisgarh",
           "lon": {
            "bdata": "LGUZ4lhHNUA=",
            "dtype": "f8"
           },
           "marker": {
            "color": "#ab63fa",
            "size": {
             "bdata": "KVyPwvUoHkA=",
             "dtype": "f8"
            },
            "sizemode": "area",
            "sizeref": 0.189625,
            "symbol": "circle"
           },
           "mode": "markers",
           "name": "Chhattisgarh",
           "showlegend": true,
           "type": "scattergeo"
          },
          {
           "geo": "geo",
           "hovertemplate": "<b>%{hovertext}</b><br><br>state=Delhi<br>month=Mar<br>estimated unemployment rate=%{marker.size}<br>latitude=%{lat}<br>longitude=%{lon}<extra></extra>",
           "hovertext": [
            "Delhi"
           ],
           "lat": {
            "bdata": "w/UoXI9GU0A=",
            "dtype": "f8"
           },
           "legendgroup": "Delhi",
           "lon": {
            "bdata": "FR3J5T+0PEA=",
            "dtype": "f8"
           },
           "marker": {
            "color": "#FFA15A",
            "size": {
             "bdata": "CtejcD0KMUA=",
             "dtype": "f8"
            },
            "sizemode": "area",
            "sizeref": 0.189625,
            "symbol": "circle"
           },
           "mode": "markers",
           "name": "Delhi",
           "showlegend": true,
           "type": "scattergeo"
          },
          {
           "geo": "geo",
           "hovertemplate": "<b>%{hovertext}</b><br><br>state=Goa<br>month=Mar<br>estimated unemployment rate=%{marker.size}<br>latitude=%{lat}<br>longitude=%{lon}<extra></extra>",
           "hovertext": [
            "Goa"
           ],
           "lat": {
            "bdata": "Di2yne+HUkA=",
            "dtype": "f8"
           },
           "legendgroup": "Goa",
           "lon": {
            "bdata": "t2J/2T2ZLkA=",
            "dtype": "f8"
           },
           "marker": {
            "color": "#19d3f3",
            "size": {
             "bdata": "AAAAAAAAFUA=",
             "dtype": "f8"
            },
            "sizemode": "area",
            "sizeref": 0.189625,
            "symbol": "circle"
           },
           "mode": "markers",
           "name": "Goa",
           "showlegend": true,
           "type": "scattergeo"
          },
          {
           "geo": "geo",
           "hovertemplate": "<b>%{hovertext}</b><br><br>state=Gujarat<br>month=Mar<br>estimated unemployment rate=%{marker.size}<br>latitude=%{lat}<br>longitude=%{lon}<extra></extra>",
           "hovertext": [
            "Gujarat"
           ],
           "lat": {
            "bdata": "B/AWSFDMUUA=",
            "dtype": "f8"
           },
           "legendgroup": "Gujarat",
           "lon": {
            "bdata": "p3nHKTpCNkA=",
            "dtype": "f8"
           },
           "marker": {
            "color": "#FF6692",
            "size": {
             "bdata": "pHA9CtejGkA=",
             "dtype": "f8"
            },
            "sizemode": "area",
            "sizeref": 0.189625,
            "symbol": "circle"
           },
           "mode": "markers",
           "name": "Gujarat",
           "showlegend": true,
           "type": "scattergeo"
          },
          {
           "geo": "geo",
           "hovertemplate": "<b>%{hovertext}</b><br><br>state=Haryana<br>month=Mar<br>estimated unemployment rate=%{marker.size}<br>latitude=%{lat}<br>longitude=%{lon}<extra></extra>",
           "hovertext": [
            "Haryana"
           ],
           "lat": {
            "bdata": "aCJseHoFU0A=",
            "dtype": "f8"
           },
           "legendgroup": "Haryana",
           "lon": {
            "bdata": "OwFNhA0PPUA=",
            "dtype": "f8"
           },
           "marker": {
            "color": "#B6E880",
            "size": {
             "bdata": "zczMzMwMOUA=",
             "dtype": "f8"
            },
            "sizemode": "area",
            "sizeref": 0.189625,
            "symbol": "circle"
           },
           "mode": "markers",
           "name": "Haryana",
           "showlegend": true,
           "type": "scattergeo"
          },
          {
           "geo": "geo",
           "hovertemplate": "<b>%{hovertext}</b><br><br>state=Himachal Pradesh<br>month=Mar<br>estimated unemployment rate=%{marker.size}<br>latitude=%{lat}<br>longitude=%{lon}<extra></extra>",
           "hovertext": [
            "Himachal Pradesh"
           ],
           "lat": {
            "bdata": "F0hQ/BhLU0A=",
            "dtype": "f8"
           },
           "legendgroup": "Himachal Pradesh",
           "lon": {
            "bdata": "7Z48LNQaP0A=",
            "dtype": "f8"
           },
           "marker": {
            "color": "#FF97FF",
            "size": {
             "bdata": "w/UoXI/CMkA=",
             "dtype": "f8"
            },
            "sizemode": "area",
            "sizeref": 0.189625,
            "symbol": "circle"
           },
           "mode": "markers",
           "name": "Himachal Pradesh",
           "showlegend": true,
           "type": "scattergeo"
          },
          {
           "geo": "geo",
           "hovertemplate": "<b>%{hovertext}</b><br><br>state=Jammu & Kashmir<br>month=Mar<br>estimated unemployment rate=%{marker.size}<br>latitude=%{lat}<br>longitude=%{lon}<extra></extra>",
           "hovertext": [
            "Jammu & Kashmir"
           ],
           "lat": {
            "bdata": "Iv32deAkU0A=",
            "dtype": "f8"
           },
           "legendgroup": "Jammu & Kashmir",
           "lon": {
            "bdata": "pN++DpzjQEA=",
            "dtype": "f8"
           },
           "marker": {
            "color": "#FECB52",
            "size": {
             "bdata": "AAAAAAAAL0A=",
             "dtype": "f8"
            },
            "sizemode": "area",
            "sizeref": 0.189625,
            "symbol": "circle"
           },
           "mode": "markers",
           "name": "Jammu & Kashmir",
           "showlegend": true,
           "type": "scattergeo"
          },
          {
           "geo": "geo",
           "hovertemplate": "<b>%{hovertext}</b><br><br>state=Jharkhand<br>month=Mar<br>estimated unemployment rate=%{marker.size}<br>latitude=%{lat}<br>longitude=%{lon}<extra></extra>",
           "hovertext": [
            "Jharkhand"
           ],
           "lat": {
            "bdata": "oImw4elRVUA=",
            "dtype": "f8"
           },
           "legendgroup": "Jharkhand",
           "lon": {
            "bdata": "6gQ0ETacN0A=",
            "dtype": "f8"
           },
           "marker": {
            "color": "#636efa",
            "size": {
             "bdata": "9ihcj8J1IEA=",
             "dtype": "f8"
            },
            "sizemode": "area",
            "sizeref": 0.189625,
            "symbol": "circle"
           },
           "mode": "markers",
           "name": "Jharkhand",
           "showlegend": true,
           "type": "scattergeo"
          },
          {
           "geo": "geo",
           "hovertemplate": "<b>%{hovertext}</b><br><br>state=Karnataka<br>month=Mar<br>estimated unemployment rate=%{marker.size}<br>latitude=%{lat}<br>longitude=%{lon}<extra></extra>",
           "hovertext": [
            "Karnataka"
           ],
           "lat": {
            "bdata": "UiegibDtUkA=",
            "dtype": "f8"
           },
           "legendgroup": "Karnataka",
           "lon": {
            "bdata": "pgpGJXWiLkA=",
            "dtype": "f8"
           },
           "marker": {
            "color": "#EF553B",
            "size": {
             "bdata": "rkfhehSuC0A=",
             "dtype": "f8"
            },
            "sizemode": "area",
            "sizeref": 0.189625,
            "symbol": "circle"
           },
           "mode": "markers",
           "name": "Karnataka",
           "showlegend": true,
           "type": "scattergeo"
          },
          {
           "geo": "geo",
           "hovertemplate": "<b>%{hovertext}</b><br><br>state=Kerala<br>month=Mar<br>estimated unemployment rate=%{marker.size}<br>latitude=%{lat}<br>longitude=%{lon}<extra></extra>",
           "hovertext": [
            "Kerala"
           ],
           "lat": {
            "bdata": "hXzQs1kRU0A=",
            "dtype": "f8"
           },
           "legendgroup": "Kerala",
           "lon": {
            "bdata": "+n5qvHSzJUA=",
            "dtype": "f8"
           },
           "marker": {
            "color": "#00cc96",
            "size": {
             "bdata": "exSuR+H6IUA=",
             "dtype": "f8"
            },
            "sizemode": "area",
            "sizeref": 0.189625,
            "symbol": "circle"
           },
           "mode": "markers",
           "name": "Kerala",
           "showlegend": true,
           "type": "scattergeo"
          },
          {
           "geo": "geo",
           "hovertemplate": "<b>%{hovertext}</b><br><br>state=Madhya Pradesh<br>month=Mar<br>estimated unemployment rate=%{marker.size}<br>latitude=%{lat}<br>longitude=%{lon}<extra></extra>",
           "hovertext": [
            "Madhya Pradesh"
           ],
           "lat": {
            "bdata": "gy9MpgqqU0A=",
            "dtype": "f8"
           },
           "legendgroup": "Madhya Pradesh",
           "lon": {
            "bdata": "Ke0NvjD5NkA=",
            "dtype": "f8"
           },
           "marker": {
            "color": "#ab63fa",
            "size": {
             "bdata": "w/UoXI/CAUA=",
             "dtype": "f8"
            },
            "sizemode": "area",
            "sizeref": 0.189625,
            "symbol": "circle"
           },
           "mode": "markers",
           "name": "Madhya Pradesh",
           "showlegend": true,
           "type": "scattergeo"
          },
          {
           "geo": "geo",
           "hovertemplate": "<b>%{hovertext}</b><br><br>state=Maharashtra<br>month=Mar<br>estimated unemployment rate=%{marker.size}<br>latitude=%{lat}<br>longitude=%{lon}<extra></extra>",
           "hovertext": [
            "Maharashtra"
           ],
           "lat": {
            "bdata": "UiegibDtUkA=",
            "dtype": "f8"
           },
           "legendgroup": "Maharashtra",
           "lon": {
            "bdata": "qvHSTWLAM0A=",
            "dtype": "f8"
           },
           "marker": {
            "color": "#FFA15A",
            "size": {
             "bdata": "KVyPwvUoF0A=",
             "dtype": "f8"
            },
            "sizemode": "area",
            "sizeref": 0.189625,
            "symbol": "circle"
           },
           "mode": "markers",
           "name": "Maharashtra",
           "showlegend": true,
           "type": "scattergeo"
          },
          {
           "geo": "geo",
           "hovertemplate": "<b>%{hovertext}</b><br><br>state=Meghalaya<br>month=Mar<br>estimated unemployment rate=%{marker.size}<br>latitude=%{lat}<br>longitude=%{lon}<extra></extra>",
           "hovertext": [
            "Meghalaya"
           ],
           "lat": {
            "bdata": "5fIf0m/XVkA=",
            "dtype": "f8"
           },
           "legendgroup": "Meghalaya",
           "lon": {
            "bdata": "ZDvfT413OUA=",
            "dtype": "f8"
           },
           "marker": {
            "color": "#19d3f3",
            "size": {
             "bdata": "SOF6FK5H+T8=",
             "dtype": "f8"
            },
            "sizemode": "area",
            "sizeref": 0.189625,
            "symbol": "circle"
           },
           "mode": "markers",
           "name": "Meghalaya",
           "showlegend": true,
           "type": "scattergeo"
          },
          {
           "geo": "geo",
           "hovertemplate": "<b>%{hovertext}</b><br><br>state=Odisha<br>month=Mar<br>estimated unemployment rate=%{marker.size}<br>latitude=%{lat}<br>longitude=%{lon}<extra></extra>",
           "hovertext": [
            "Odisha"
           ],
           "lat": {
            "bdata": "/Knx0k1GVUA=",
            "dtype": "f8"
           },
           "legendgroup": "Odisha",
           "lon": {
            "bdata": "a5p3nKLzNEA=",
            "dtype": "f8"
           },
           "marker": {
            "color": "#FF6692",
            "size": {
             "bdata": "KVyPwvUoKkA=",
             "dtype": "f8"
            },
            "sizemode": "area",
            "sizeref": 0.189625,
            "symbol": "circle"
           },
           "mode": "markers",
           "name": "Odisha",
           "showlegend": true,
           "type": "scattergeo"
          },
          {
           "geo": "geo",
           "hovertemplate": "<b>%{hovertext}</b><br><br>state=Puducherry<br>month=Mar<br>estimated unemployment rate=%{marker.size}<br>latitude=%{lat}<br>longitude=%{lon}<extra></extra>",
           "hovertext": [
            "Puducherry"
           ],
           "lat": {
            "bdata": "1lbsL7vzU0A=",
            "dtype": "f8"
           },
           "legendgroup": "Puducherry",
           "lon": {
            "bdata": "w9MrZRniJ0A=",
            "dtype": "f8"
           },
           "marker": {
            "color": "#B6E880",
            "size": {
             "bdata": "MzMzMzMz8z8=",
             "dtype": "f8"
            },
            "sizemode": "area",
            "sizeref": 0.189625,
            "symbol": "circle"
           },
           "mode": "markers",
           "name": "Puducherry",
           "showlegend": true,
           "type": "scattergeo"
          },
          {
           "geo": "geo",
           "hovertemplate": "<b>%{hovertext}</b><br><br>state=Punjab<br>month=Mar<br>estimated unemployment rate=%{marker.size}<br>latitude=%{lat}<br>longitude=%{lon}<extra></extra>",
           "hovertext": [
            "Punjab"
           ],
           "lat": {
            "bdata": "S1mGONbVUkA=",
            "dtype": "f8"
           },
           "legendgroup": "Punjab",
           "lon": {
            "bdata": "2T15WKglP0A=",
            "dtype": "f8"
           },
           "marker": {
            "color": "#FF97FF",
            "size": {
             "bdata": "pHA9CtejJEA=",
             "dtype": "f8"
            },
            "sizemode": "area",
            "sizeref": 0.189625,
            "symbol": "circle"
           },
           "mode": "markers",
           "name": "Punjab",
           "showlegend": true,
           "type": "scattergeo"
          },
          {
           "geo": "geo",
           "hovertemplate": "<b>%{hovertext}</b><br><br>state=Rajasthan<br>month=Mar<br>estimated unemployment rate=%{marker.size}<br>latitude=%{lat}<br>longitude=%{lon}<extra></extra>",
           "hovertext": [
            "Rajasthan"
           ],
           "lat": {
            "bdata": "GXPXEvKNUkA=",
            "dtype": "f8"
           },
           "legendgroup": "Rajasthan",
           "lon": {
            "bdata": "EqW9wRcGO0A=",
            "dtype": "f8"
           },
           "marker": {
            "color": "#FECB52",
            "size": {
             "bdata": "zczMzMzMJ0A=",
             "dtype": "f8"
            },
            "sizemode": "area",
            "sizeref": 0.189625,
            "symbol": "circle"
           },
           "mode": "markers",
           "name": "Rajasthan",
           "showlegend": true,
           "type": "scattergeo"
          },
          {
           "geo": "geo",
           "hovertemplate": "<b>%{hovertext}</b><br><br>state=Sikkim<br>month=Mar<br>estimated unemployment rate=%{marker.size}<br>latitude=%{lat}<br>longitude=%{lon}<extra></extra>",
           "hovertext": [
            "Sikkim"
           ],
           "lat": {
            "bdata": "uECC4scgVkA=",
            "dtype": "f8"
           },
           "legendgroup": "Sikkim",
           "lon": {
            "bdata": "nMQgsHKIO0A=",
            "dtype": "f8"
           },
           "marker": {
            "color": "#636efa",
            "size": {
             "bdata": "UrgeheuRN0A=",
             "dtype": "f8"
            },
            "sizemode": "area",
            "sizeref": 0.189625,
            "symbol": "circle"
           },
           "mode": "markers",
           "name": "Sikkim",
           "showlegend": true,
           "type": "scattergeo"
          },
          {
           "geo": "geo",
           "hovertemplate": "<b>%{hovertext}</b><br><br>state=Tamil Nadu<br>month=Mar<br>estimated unemployment rate=%{marker.size}<br>latitude=%{lat}<br>longitude=%{lon}<extra></extra>",
           "hovertext": [
            "Tamil Nadu"
           ],
           "lat": {
            "bdata": "gy9MpgqqU0A=",
            "dtype": "f8"
           },
           "legendgroup": "Tamil Nadu",
           "lon": {
            "bdata": "qaROQBNBJkA=",
            "dtype": "f8"
           },
           "marker": {
            "color": "#EF553B",
            "size": {
             "bdata": "mpmZmZmZGUA=",
             "dtype": "f8"
            },
            "sizemode": "area",
            "sizeref": 0.189625,
            "symbol": "circle"
           },
           "mode": "markers",
           "name": "Tamil Nadu",
           "showlegend": true,
           "type": "scattergeo"
          },
          {
           "geo": "geo",
           "hovertemplate": "<b>%{hovertext}</b><br><br>state=Telangana<br>month=Mar<br>estimated unemployment rate=%{marker.size}<br>latitude=%{lat}<br>longitude=%{lon}<extra></extra>",
           "hovertext": [
            "Telangana"
           ],
           "lat": {
            "bdata": "BTQRNjzBU0A=",
            "dtype": "f8"
           },
           "legendgroup": "Telangana",
           "lon": {
            "bdata": "BhIUP8YcMkA=",
            "dtype": "f8"
           },
           "marker": {
            "color": "#00cc96",
            "size": {
             "bdata": "FK5H4XoUF0A=",
             "dtype": "f8"
            },
            "sizemode": "area",
            "sizeref": 0.189625,
            "symbol": "circle"
           },
           "mode": "markers",
           "name": "Telangana",
           "showlegend": true,
           "type": "scattergeo"
          },
          {
           "geo": "geo",
           "hovertemplate": "<b>%{hovertext}</b><br><br>state=Tripura<br>month=Mar<br>estimated unemployment rate=%{marker.size}<br>latitude=%{lat}<br>longitude=%{lon}<extra></extra>",
           "hovertext": [
            "Tripura"
           ],
           "lat": {
            "bdata": "EHo2qz7/VkA=",
            "dtype": "f8"
           },
           "legendgroup": "Tripura",
           "lon": {
            "bdata": "qRPQRNjwN0A=",
            "dtype": "f8"
           },
           "marker": {
            "color": "#ab63fa",
            "size": {
             "bdata": "MzMzMzPzPUA=",
             "dtype": "f8"
            },
            "sizemode": "area",
            "sizeref": 0.189625,
            "symbol": "circle"
           },
           "mode": "markers",
           "name": "Tripura",
           "showlegend": true,
           "type": "scattergeo"
          },
          {
           "geo": "geo",
           "hovertemplate": "<b>%{hovertext}</b><br><br>state=Uttar Pradesh<br>month=Mar<br>estimated unemployment rate=%{marker.size}<br>latitude=%{lat}<br>longitude=%{lon}<extra></extra>",
           "hovertext": [
            "Uttar Pradesh"
           ],
           "lat": {
            "bdata": "at5xio48VEA=",
            "dtype": "f8"
           },
           "legendgroup": "Uttar Pradesh",
           "lon": {
            "bdata": "8IXJVMHYOkA=",
            "dtype": "f8"
           },
           "marker": {
            "color": "#FFA15A",
            "size": {
             "bdata": "uB6F61E4JEA=",
             "dtype": "f8"
            },
            "sizemode": "area",
            "sizeref": 0.189625,
            "symbol": "circle"
           },
           "mode": "markers",
           "name": "Uttar Pradesh",
           "showlegend": true,
           "type": "scattergeo"
          },
          {
           "geo": "geo",
           "hovertemplate": "<b>%{hovertext}</b><br><br>state=Uttarakhand<br>month=Mar<br>estimated unemployment rate=%{marker.size}<br>latitude=%{lat}<br>longitude=%{lon}<extra></extra>",
           "hovertext": [
            "Uttarakhand"
           ],
           "lat": {
            "bdata": "BTQRNjzBU0A=",
            "dtype": "f8"
           },
           "legendgroup": "Uttarakhand",
           "lon": {
            "bdata": "cF8HzhkRPkA=",
            "dtype": "f8"
           },
           "marker": {
            "color": "#19d3f3",
            "size": {
             "bdata": "mpmZmZnZM0A=",
             "dtype": "f8"
            },
            "sizemode": "area",
            "sizeref": 0.189625,
            "symbol": "circle"
           },
           "mode": "markers",
           "name": "Uttarakhand",
           "showlegend": true,
           "type": "scattergeo"
          },
          {
           "geo": "geo",
           "hovertemplate": "<b>%{hovertext}</b><br><br>state=West Bengal<br>month=Mar<br>estimated unemployment rate=%{marker.size}<br>latitude=%{lat}<br>longitude=%{lon}<extra></extra>",
           "hovertext": [
            "West Bengal"
           ],
           "lat": {
            "bdata": "H4XrUbj2VUA=",
            "dtype": "f8"
           },
           "legendgroup": "West Bengal",
           "lon": {
            "bdata": "W7G/7J78NkA=",
            "dtype": "f8"
           },
           "marker": {
            "color": "#FF6692",
            "size": {
             "bdata": "rkfhehSuG0A=",
             "dtype": "f8"
            },
            "sizemode": "area",
            "sizeref": 0.189625,
            "symbol": "circle"
           },
           "mode": "markers",
           "name": "West Bengal",
           "showlegend": true,
           "type": "scattergeo"
          }
         ],
         "name": "Mar"
        },
        {
         "data": [
          {
           "geo": "geo",
           "hovertemplate": "<b>%{hovertext}</b><br><br>state=Andhra Pradesh<br>month=Apr<br>estimated unemployment rate=%{marker.size}<br>latitude=%{lat}<br>longitude=%{lon}<extra></extra>",
           "hovertext": [
            "Andhra Pradesh"
           ],
           "lat": {
            "bdata": "j8L1KFzvU0A=",
            "dtype": "f8"
           },
           "legendgroup": "Andhra Pradesh",
           "lon": {
            "bdata": "bAn5oGfTL0A=",
            "dtype": "f8"
           },
           "marker": {
            "color": "#636efa",
            "size": {
             "bdata": "w/UoXI+CNEA=",
             "dtype": "f8"
            },
            "sizemode": "area",
            "sizeref": 0.189625,
            "symbol": "circle"
           },
           "mode": "markers",
           "name": "Andhra Pradesh",
           "showlegend": true,
           "type": "scattergeo"
          },
          {
           "geo": "geo",
           "hovertemplate": "<b>%{hovertext}</b><br><br>state=Assam<br>month=Apr<br>estimated unemployment rate=%{marker.size}<br>latitude=%{lat}<br>longitude=%{lon}<extra></extra>",
           "hovertext": [
            "Assam"
           ],
           "lat": {
            "bdata": "si5uowE8V0A=",
            "dtype": "f8"
           },
           "legendgroup": "Assam",
           "lon": {
            "bdata": "3pOHhVozOkA=",
            "dtype": "f8"
           },
           "marker": {
            "color": "#EF553B",
            "size": {
             "bdata": "H4XrUbgeJkA=",
             "dtype": "f8"
            },
            "sizemode": "area",
            "sizeref": 0.189625,
            "symbol": "circle"
           },
           "mode": "markers",
           "name": "Assam",
           "showlegend": true,
           "type": "scattergeo"
          },
          {
           "geo": "geo",
           "hovertemplate": "<b>%{hovertext}</b><br><br>state=Bihar<br>month=Apr<br>estimated unemployment rate=%{marker.size}<br>latitude=%{lat}<br>longitude=%{lon}<extra></extra>",
           "hovertext": [
            "Bihar"
           ],
           "lat": {
            "bdata": "KxiV1AlUVUA=",
            "dtype": "f8"
           },
           "legendgroup": "Bihar",
           "lon": {
            "bdata": "RiV1ApoYOUA=",
            "dtype": "f8"
           },
           "marker": {
            "color": "#00cc96",
            "size": {
             "bdata": "UrgehetRR0A=",
             "dtype": "f8"
            },
            "sizemode": "area",
            "sizeref": 0.189625,
            "symbol": "circle"
           },
           "mode": "markers",
           "name": "Bihar",
           "showlegend": true,
           "type": "scattergeo"
          },
          {
           "geo": "geo",
           "hovertemplate": "<b>%{hovertext}</b><br><br>state=Chhattisgarh<br>month=Apr<br>estimated unemployment rate=%{marker.size}<br>latitude=%{lat}<br>longitude=%{lon}<extra></extra>",
           "hovertext": [
            "Chhattisgarh"
           ],
           "lat": {
            "bdata": "M8SxLm53VEA=",
            "dtype": "f8"
           },
           "legendgroup": "Chhattisgarh",
           "lon": {
            "bdata": "LGUZ4lhHNUA=",
            "dtype": "f8"
           },
           "marker": {
            "color": "#ab63fa",
            "size": {
             "bdata": "SOF6FK5HC0A=",
             "dtype": "f8"
            },
            "sizemode": "area",
            "sizeref": 0.189625,
            "symbol": "circle"
           },
           "mode": "markers",
           "name": "Chhattisgarh",
           "showlegend": true,
           "type": "scattergeo"
          },
          {
           "geo": "geo",
           "hovertemplate": "<b>%{hovertext}</b><br><br>state=Delhi<br>month=Apr<br>estimated unemployment rate=%{marker.size}<br>latitude=%{lat}<br>longitude=%{lon}<extra></extra>",
           "hovertext": [
            "Delhi"
           ],
           "lat": {
            "bdata": "w/UoXI9GU0A=",
            "dtype": "f8"
           },
           "legendgroup": "Delhi",
           "lon": {
            "bdata": "FR3J5T+0PEA=",
            "dtype": "f8"
           },
           "marker": {
            "color": "#FFA15A",
            "size": {
             "bdata": "rkfhehSuMEA=",
             "dtype": "f8"
            },
            "sizemode": "area",
            "sizeref": 0.189625,
            "symbol": "circle"
           },
           "mode": "markers",
           "name": "Delhi",
           "showlegend": true,
           "type": "scattergeo"
          },
          {
           "geo": "geo",
           "hovertemplate": "<b>%{hovertext}</b><br><br>state=Goa<br>month=Apr<br>estimated unemployment rate=%{marker.size}<br>latitude=%{lat}<br>longitude=%{lon}<extra></extra>",
           "hovertext": [
            "Goa"
           ],
           "lat": {
            "bdata": "Di2yne+HUkA=",
            "dtype": "f8"
           },
           "legendgroup": "Goa",
           "lon": {
            "bdata": "t2J/2T2ZLkA=",
            "dtype": "f8"
           },
           "marker": {
            "color": "#19d3f3",
            "size": {
             "bdata": "H4XrUbieKkA=",
             "dtype": "f8"
            },
            "sizemode": "area",
            "sizeref": 0.189625,
            "symbol": "circle"
           },
           "mode": "markers",
           "name": "Goa",
           "showlegend": true,
           "type": "scattergeo"
          },
          {
           "geo": "geo",
           "hovertemplate": "<b>%{hovertext}</b><br><br>state=Gujarat<br>month=Apr<br>estimated unemployment rate=%{marker.size}<br>latitude=%{lat}<br>longitude=%{lon}<extra></extra>",
           "hovertext": [
            "Gujarat"
           ],
           "lat": {
            "bdata": "B/AWSFDMUUA=",
            "dtype": "f8"
           },
           "legendgroup": "Gujarat",
           "lon": {
            "bdata": "p3nHKTpCNkA=",
            "dtype": "f8"
           },
           "marker": {
            "color": "#FF6692",
            "size": {
             "bdata": "9ihcj8K1MkA=",
             "dtype": "f8"
            },
            "sizemode": "area",
            "sizeref": 0.189625,
            "symbol": "circle"
           },
           "mode": "markers",
           "name": "Gujarat",
           "showlegend": true,
           "type": "scattergeo"
          },
          {
           "geo": "geo",
           "hovertemplate": "<b>%{hovertext}</b><br><br>state=Haryana<br>month=Apr<br>estimated unemployment rate=%{marker.size}<br>latitude=%{lat}<br>longitude=%{lon}<extra></extra>",
           "hovertext": [
            "Haryana"
           ],
           "lat": {
            "bdata": "aCJseHoFU0A=",
            "dtype": "f8"
           },
           "legendgroup": "Haryana",
           "lon": {
            "bdata": "OwFNhA0PPUA=",
            "dtype": "f8"
           },
           "marker": {
            "color": "#B6E880",
            "size": {
             "bdata": "XI/C9SicRUA=",
             "dtype": "f8"
            },
            "sizemode": "area",
            "sizeref": 0.189625,
            "symbol": "circle"
           },
           "mode": "markers",
           "name": "Haryana",
           "showlegend": true,
           "type": "scattergeo"
          },
          {
           "geo": "geo",
           "hovertemplate": "<b>%{hovertext}</b><br><br>state=Himachal Pradesh<br>month=Apr<br>estimated unemployment rate=%{marker.size}<br>latitude=%{lat}<br>longitude=%{lon}<extra></extra>",
           "hovertext": [
            "Himachal Pradesh"
           ],
           "lat": {
            "bdata": "F0hQ/BhLU0A=",
            "dtype": "f8"
           },
           "legendgroup": "Himachal Pradesh",
           "lon": {
            "bdata": "7Z48LNQaP0A=",
            "dtype": "f8"
           },
           "marker": {
            "color": "#FF97FF",
            "size": {
             "bdata": "mpmZmZmZAUA=",
             "dtype": "f8"
            },
            "sizemode": "area",
            "sizeref": 0.189625,
            "symbol": "circle"
           },
           "mode": "markers",
           "name": "Himachal Pradesh",
           "showlegend": true,
           "type": "scattergeo"
          },
          {
           "geo": "geo",
           "hovertemplate": "<b>%{hovertext}</b><br><br>state=Jharkhand<br>month=Apr<br>estimated unemployment rate=%{marker.size}<br>latitude=%{lat}<br>longitude=%{lon}<extra></extra>",
           "hovertext": [
            "Jharkhand"
           ],
           "lat": {
            "bdata": "oImw4elRVUA=",
            "dtype": "f8"
           },
           "legendgroup": "Jharkhand",
           "lon": {
            "bdata": "6gQ0ETacN0A=",
            "dtype": "f8"
           },
           "marker": {
            "color": "#636efa",
            "size": {
             "bdata": "7FG4HoWLR0A=",
             "dtype": "f8"
            },
            "sizemode": "area",
            "sizeref": 0.189625,
            "symbol": "circle"
           },
           "mode": "markers",
           "name": "Jharkhand",
           "showlegend": true,
           "type": "scattergeo"
          },
          {
           "geo": "geo",
           "hovertemplate": "<b>%{hovertext}</b><br><br>state=Karnataka<br>month=Apr<br>estimated unemployment rate=%{marker.size}<br>latitude=%{lat}<br>longitude=%{lon}<extra></extra>",
           "hovertext": [
            "Karnataka"
           ],
           "lat": {
            "bdata": "UiegibDtUkA=",
            "dtype": "f8"
           },
           "legendgroup": "Karnataka",
           "lon": {
            "bdata": "pgpGJXWiLkA=",
            "dtype": "f8"
           },
           "marker": {
            "color": "#EF553B",
            "size": {
             "bdata": "16NwPQrXPUA=",
             "dtype": "f8"
            },
            "sizemode": "area",
            "sizeref": 0.189625,
            "symbol": "circle"
           },
           "mode": "markers",
           "name": "Karnataka",
           "showlegend": true,
           "type": "scattergeo"
          },
          {
           "geo": "geo",
           "hovertemplate": "<b>%{hovertext}</b><br><br>state=Kerala<br>month=Apr<br>estimated unemployment rate=%{marker.size}<br>latitude=%{lat}<br>longitude=%{lon}<extra></extra>",
           "hovertext": [
            "Kerala"
           ],
           "lat": {
            "bdata": "hXzQs1kRU0A=",
            "dtype": "f8"
           },
           "legendgroup": "Kerala",
           "lon": {
            "bdata": "+n5qvHSzJUA=",
            "dtype": "f8"
           },
           "marker": {
            "color": "#00cc96",
            "size": {
             "bdata": "PQrXo3D9MEA=",
             "dtype": "f8"
            },
            "sizemode": "area",
            "sizeref": 0.189625,
            "symbol": "circle"
           },
           "mode": "markers",
           "name": "Kerala",
           "showlegend": true,
           "type": "scattergeo"
          },
          {
           "geo": "geo",
           "hovertemplate": "<b>%{hovertext}</b><br><br>state=Madhya Pradesh<br>month=Apr<br>estimated unemployment rate=%{marker.size}<br>latitude=%{lat}<br>longitude=%{lon}<extra></extra>",
           "hovertext": [
            "Madhya Pradesh"
           ],
           "lat": {
            "bdata": "gy9MpgqqU0A=",
            "dtype": "f8"
           },
           "legendgroup": "Madhya Pradesh",
           "lon": {
            "bdata": "Ke0NvjD5NkA=",
            "dtype": "f8"
           },
           "marker": {
            "color": "#ab63fa",
            "size": {
             "bdata": "uB6F61G4KEA=",
             "dtype": "f8"
            },
            "sizemode": "area",
            "sizeref": 0.189625,
            "symbol": "circle"
           },
           "mode": "markers",
           "name": "Madhya Pradesh",
           "showlegend": true,
           "type": "scattergeo"
          },
          {
           "geo": "geo",
           "hovertemplate": "<b>%{hovertext}</b><br><br>state=Maharashtra<br>month=Apr<br>estimated unemployment rate=%{marker.size}<br>latitude=%{lat}<br>longitude=%{lon}<extra></extra>",
           "hovertext": [
            "Maharashtra"
           ],
           "lat": {
            "bdata": "UiegibDtUkA=",
            "dtype": "f8"
           },
           "legendgroup": "Maharashtra",
           "lon": {
            "bdata": "qvHSTWLAM0A=",
            "dtype": "f8"
           },
           "marker": {
            "color": "#FFA15A",
            "size": {
             "bdata": "ZmZmZmbmNEA=",
             "dtype": "f8"
            },
            "sizemode": "area",
            "sizeref": 0.189625,
            "symbol": "circle"
           },
           "mode": "markers",
           "name": "Maharashtra",
           "showlegend": true,
           "type": "scattergeo"
          },
          {
           "geo": "geo",
           "hovertemplate": "<b>%{hovertext}</b><br><br>state=Meghalaya<br>month=Apr<br>estimated unemployment rate=%{marker.size}<br>latitude=%{lat}<br>longitude=%{lon}<extra></extra>",
           "hovertext": [
            "Meghalaya"
           ],
           "lat": {
            "bdata": "5fIf0m/XVkA=",
            "dtype": "f8"
           },
           "legendgroup": "Meghalaya",
           "lon": {
            "bdata": "ZDvfT413OUA=",
            "dtype": "f8"
           },
           "marker": {
            "color": "#19d3f3",
            "size": {
             "bdata": "j8L1KFwPJEA=",
             "dtype": "f8"
            },
            "sizemode": "area",
            "sizeref": 0.189625,
            "symbol": "circle"
           },
           "mode": "markers",
           "name": "Meghalaya",
           "showlegend": true,
           "type": "scattergeo"
          },
          {
           "geo": "geo",
           "hovertemplate": "<b>%{hovertext}</b><br><br>state=Odisha<br>month=Apr<br>estimated unemployment rate=%{marker.size}<br>latitude=%{lat}<br>longitude=%{lon}<extra></extra>",
           "hovertext": [
            "Odisha"
           ],
           "lat": {
            "bdata": "/Knx0k1GVUA=",
            "dtype": "f8"
           },
           "legendgroup": "Odisha",
           "lon": {
            "bdata": "a5p3nKLzNEA=",
            "dtype": "f8"
           },
           "marker": {
            "color": "#FF6692",
            "size": {
             "bdata": "w/UoXI/CN0A=",
             "dtype": "f8"
            },
            "sizemode": "area",
            "sizeref": 0.189625,
            "symbol": "circle"
           },
           "mode": "markers",
           "name": "Odisha",
           "showlegend": true,
           "type": "scattergeo"
          },
          {
           "geo": "geo",
           "hovertemplate": "<b>%{hovertext}</b><br><br>state=Puducherry<br>month=Apr<br>estimated unemployment rate=%{marker.size}<br>latitude=%{lat}<br>longitude=%{lon}<extra></extra>",
           "hovertext": [
            "Puducherry"
           ],
           "lat": {
            "bdata": "1lbsL7vzU0A=",
            "dtype": "f8"
           },
           "legendgroup": "Puducherry",
           "lon": {
            "bdata": "w9MrZRniJ0A=",
            "dtype": "f8"
           },
           "marker": {
            "color": "#B6E880",
            "size": {
             "bdata": "ZmZmZmb2UkA=",
             "dtype": "f8"
            },
            "sizemode": "area",
            "sizeref": 0.189625,
            "symbol": "circle"
           },
           "mode": "markers",
           "name": "Puducherry",
           "showlegend": true,
           "type": "scattergeo"
          },
          {
           "geo": "geo",
           "hovertemplate": "<b>%{hovertext}</b><br><br>state=Punjab<br>month=Apr<br>estimated unemployment rate=%{marker.size}<br>latitude=%{lat}<br>longitude=%{lon}<extra></extra>",
           "hovertext": [
            "Punjab"
           ],
           "lat": {
            "bdata": "S1mGONbVUkA=",
            "dtype": "f8"
           },
           "legendgroup": "Punjab",
           "lon": {
            "bdata": "2T15WKglP0A=",
            "dtype": "f8"
           },
           "marker": {
            "color": "#FF97FF",
            "size": {
             "bdata": "4XoUrkfhBkA=",
             "dtype": "f8"
            },
            "sizemode": "area",
            "sizeref": 0.189625,
            "symbol": "circle"
           },
           "mode": "markers",
           "name": "Punjab",
           "showlegend": true,
           "type": "scattergeo"
          },
          {
           "geo": "geo",
           "hovertemplate": "<b>%{hovertext}</b><br><br>state=Rajasthan<br>month=Apr<br>estimated unemployment rate=%{marker.size}<br>latitude=%{lat}<br>longitude=%{lon}<extra></extra>",
           "hovertext": [
            "Rajasthan"
           ],
           "lat": {
            "bdata": "GXPXEvKNUkA=",
            "dtype": "f8"
           },
           "legendgroup": "Rajasthan",
           "lon": {
            "bdata": "EqW9wRcGO0A=",
            "dtype": "f8"
           },
           "marker": {
            "color": "#FECB52",
            "size": {
             "bdata": "MzMzMzOzMUA=",
             "dtype": "f8"
            },
            "sizemode": "area",
            "sizeref": 0.189625,
            "symbol": "circle"
           },
           "mode": "markers",
           "name": "Rajasthan",
           "showlegend": true,
           "type": "scattergeo"
          },
          {
           "geo": "geo",
           "hovertemplate": "<b>%{hovertext}</b><br><br>state=Sikkim<br>month=Apr<br>estimated unemployment rate=%{marker.size}<br>latitude=%{lat}<br>longitude=%{lon}<extra></extra>",
           "hovertext": [
            "Sikkim"
           ],
           "lat": {
            "bdata": "uECC4scgVkA=",
            "dtype": "f8"
           },
           "legendgroup": "Sikkim",
           "lon": {
            "bdata": "nMQgsHKIO0A=",
            "dtype": "f8"
           },
           "marker": {
            "color": "#636efa",
            "size": {
             "bdata": "PQrXo3A9AkA=",
             "dtype": "f8"
            },
            "sizemode": "area",
            "sizeref": 0.189625,
            "symbol": "circle"
           },
           "mode": "markers",
           "name": "Sikkim",
           "showlegend": true,
           "type": "scattergeo"
          },
          {
           "geo": "geo",
           "hovertemplate": "<b>%{hovertext}</b><br><br>state=Tamil Nadu<br>month=Apr<br>estimated unemployment rate=%{marker.size}<br>latitude=%{lat}<br>longitude=%{lon}<extra></extra>",
           "hovertext": [
            "Tamil Nadu"
           ],
           "lat": {
            "bdata": "gy9MpgqqU0A=",
            "dtype": "f8"
           },
           "legendgroup": "Tamil Nadu",
           "lon": {
            "bdata": "qaROQBNBJkA=",
            "dtype": "f8"
           },
           "marker": {
            "color": "#EF553B",
            "size": {
             "bdata": "CtejcD3qSEA=",
             "dtype": "f8"
            },
            "sizemode": "area",
            "sizeref": 0.189625,
            "symbol": "circle"
           },
           "mode": "markers",
           "name": "Tamil Nadu",
           "showlegend": true,
           "type": "scattergeo"
          },
          {
           "geo": "geo",
           "hovertemplate": "<b>%{hovertext}</b><br><br>state=Telangana<br>month=Apr<br>estimated unemployment rate=%{marker.size}<br>latitude=%{lat}<br>longitude=%{lon}<extra></extra>",
           "hovertext": [
            "Telangana"
           ],
           "lat": {
            "bdata": "BTQRNjzBU0A=",
            "dtype": "f8"
           },
           "legendgroup": "Telangana",
           "lon": {
            "bdata": "BhIUP8YcMkA=",
            "dtype": "f8"
           },
           "marker": {
            "color": "#00cc96",
            "size": {
             "bdata": "AAAAAAAAGUA=",
             "dtype": "f8"
            },
            "sizemode": "area",
            "sizeref": 0.189625,
            "symbol": "circle"
           },
           "mode": "markers",
           "name": "Telangana",
           "showlegend": true,
           "type": "scattergeo"
          },
          {
           "geo": "geo",
           "hovertemplate": "<b>%{hovertext}</b><br><br>state=Tripura<br>month=Apr<br>estimated unemployment rate=%{marker.size}<br>latitude=%{lat}<br>longitude=%{lon}<extra></extra>",
           "hovertext": [
            "Tripura"
           ],
           "lat": {
            "bdata": "EHo2qz7/VkA=",
            "dtype": "f8"
           },
           "legendgroup": "Tripura",
           "lon": {
            "bdata": "qRPQRNjwN0A=",
            "dtype": "f8"
           },
           "marker": {
            "color": "#ab63fa",
            "size": {
             "bdata": "PQrXo3CdREA=",
             "dtype": "f8"
            },
            "sizemode": "area",
            "sizeref": 0.189625,
            "symbol": "circle"
           },
           "mode": "markers",
           "name": "Tripura",
           "showlegend": true,
           "type": "scattergeo"
          },
          {
           "geo": "geo",
           "hovertemplate": "<b>%{hovertext}</b><br><br>state=Uttar Pradesh<br>month=Apr<br>estimated unemployment rate=%{marker.size}<br>latitude=%{lat}<br>longitude=%{lon}<extra></extra>",
           "hovertext": [
            "Uttar Pradesh"
           ],
           "lat": {
            "bdata": "at5xio48VEA=",
            "dtype": "f8"
           },
           "legendgroup": "Uttar Pradesh",
           "lon": {
            "bdata": "8IXJVMHYOkA=",
            "dtype": "f8"
           },
           "marker": {
            "color": "#FFA15A",
            "size": {
             "bdata": "CtejcD2KNUA=",
             "dtype": "f8"
            },
            "sizemode": "area",
            "sizeref": 0.189625,
            "symbol": "circle"
           },
           "mode": "markers",
           "name": "Uttar Pradesh",
           "showlegend": true,
           "type": "scattergeo"
          },
          {
           "geo": "geo",
           "hovertemplate": "<b>%{hovertext}</b><br><br>state=Uttarakhand<br>month=Apr<br>estimated unemployment rate=%{marker.size}<br>latitude=%{lat}<br>longitude=%{lon}<extra></extra>",
           "hovertext": [
            "Uttarakhand"
           ],
           "lat": {
            "bdata": "BTQRNjzBU0A=",
            "dtype": "f8"
           },
           "legendgroup": "Uttarakhand",
           "lon": {
            "bdata": "cF8HzhkRPkA=",
            "dtype": "f8"
           },
           "marker": {
            "color": "#19d3f3",
            "size": {
             "bdata": "7FG4HoXrGUA=",
             "dtype": "f8"
            },
            "sizemode": "area",
            "sizeref": 0.189625,
            "symbol": "circle"
           },
           "mode": "markers",
           "name": "Uttarakhand",
           "showlegend": true,
           "type": "scattergeo"
          },
          {
           "geo": "geo",
           "hovertemplate": "<b>%{hovertext}</b><br><br>state=West Bengal<br>month=Apr<br>estimated unemployment rate=%{marker.size}<br>latitude=%{lat}<br>longitude=%{lon}<extra></extra>",
           "hovertext": [
            "West Bengal"
           ],
           "lat": {
            "bdata": "H4XrUbj2VUA=",
            "dtype": "f8"
           },
           "legendgroup": "West Bengal",
           "lon": {
            "bdata": "W7G/7J78NkA=",
            "dtype": "f8"
           },
           "marker": {
            "color": "#FF6692",
            "size": {
             "bdata": "KVyPwvVoMUA=",
             "dtype": "f8"
            },
            "sizemode": "area",
            "sizeref": 0.189625,
            "symbol": "circle"
           },
           "mode": "markers",
           "name": "West Bengal",
           "showlegend": true,
           "type": "scattergeo"
          }
         ],
         "name": "Apr"
        },
        {
         "data": [
          {
           "geo": "geo",
           "hovertemplate": "<b>%{hovertext}</b><br><br>state=Andhra Pradesh<br>month=May<br>estimated unemployment rate=%{marker.size}<br>latitude=%{lat}<br>longitude=%{lon}<extra></extra>",
           "hovertext": [
            "Andhra Pradesh"
           ],
           "lat": {
            "bdata": "j8L1KFzvU0A=",
            "dtype": "f8"
           },
           "legendgroup": "Andhra Pradesh",
           "lon": {
            "bdata": "bAn5oGfTL0A=",
            "dtype": "f8"
           },
           "marker": {
            "color": "#636efa",
            "size": {
             "bdata": "rkfhehRuMUA=",
             "dtype": "f8"
            },
            "sizemode": "area",
            "sizeref": 0.189625,
            "symbol": "circle"
           },
           "mode": "markers",
           "name": "Andhra Pradesh",
           "showlegend": true,
           "type": "scattergeo"
          },
          {
           "geo": "geo",
           "hovertemplate": "<b>%{hovertext}</b><br><br>state=Assam<br>month=May<br>estimated unemployment rate=%{marker.size}<br>latitude=%{lat}<br>longitude=%{lon}<extra></extra>",
           "hovertext": [
            "Assam"
           ],
           "lat": {
            "bdata": "si5uowE8V0A=",
            "dtype": "f8"
           },
           "legendgroup": "Assam",
           "lon": {
            "bdata": "3pOHhVozOkA=",
            "dtype": "f8"
           },
           "marker": {
            "color": "#EF553B",
            "size": {
             "bdata": "mpmZmZkZI0A=",
             "dtype": "f8"
            },
            "sizemode": "area",
            "sizeref": 0.189625,
            "symbol": "circle"
           },
           "mode": "markers",
           "name": "Assam",
           "showlegend": true,
           "type": "scattergeo"
          },
          {
           "geo": "geo",
           "hovertemplate": "<b>%{hovertext}</b><br><br>state=Bihar<br>month=May<br>estimated unemployment rate=%{marker.size}<br>latitude=%{lat}<br>longitude=%{lon}<extra></extra>",
           "hovertext": [
            "Bihar"
           ],
           "lat": {
            "bdata": "KxiV1AlUVUA=",
            "dtype": "f8"
           },
           "legendgroup": "Bihar",
           "lon": {
            "bdata": "RiV1ApoYOUA=",
            "dtype": "f8"
           },
           "marker": {
            "color": "#00cc96",
            "size": {
             "bdata": "exSuR+H6RkA=",
             "dtype": "f8"
            },
            "sizemode": "area",
            "sizeref": 0.189625,
            "symbol": "circle"
           },
           "mode": "markers",
           "name": "Bihar",
           "showlegend": true,
           "type": "scattergeo"
          },
          {
           "geo": "geo",
           "hovertemplate": "<b>%{hovertext}</b><br><br>state=Chhattisgarh<br>month=May<br>estimated unemployment rate=%{marker.size}<br>latitude=%{lat}<br>longitude=%{lon}<extra></extra>",
           "hovertext": [
            "Chhattisgarh"
           ],
           "lat": {
            "bdata": "M8SxLm53VEA=",
            "dtype": "f8"
           },
           "legendgroup": "Chhattisgarh",
           "lon": {
            "bdata": "LGUZ4lhHNUA=",
            "dtype": "f8"
           },
           "marker": {
            "color": "#ab63fa",
            "size": {
             "bdata": "AAAAAAAAJUA=",
             "dtype": "f8"
            },
            "sizemode": "area",
            "sizeref": 0.189625,
            "symbol": "circle"
           },
           "mode": "markers",
           "name": "Chhattisgarh",
           "showlegend": true,
           "type": "scattergeo"
          },
          {
           "geo": "geo",
           "hovertemplate": "<b>%{hovertext}</b><br><br>state=Delhi<br>month=May<br>estimated unemployment rate=%{marker.size}<br>latitude=%{lat}<br>longitude=%{lon}<extra></extra>",
           "hovertext": [
            "Delhi"
           ],
           "lat": {
            "bdata": "w/UoXI9GU0A=",
            "dtype": "f8"
           },
           "legendgroup": "Delhi",
           "lon": {
            "bdata": "FR3J5T+0PEA=",
            "dtype": "f8"
           },
           "marker": {
            "color": "#FFA15A",
            "size": {
             "bdata": "w/UoXI8iRUA=",
             "dtype": "f8"
            },
            "sizemode": "area",
            "sizeref": 0.189625,
            "symbol": "circle"
           },
           "mode": "markers",
           "name": "Delhi",
           "showlegend": true,
           "type": "scattergeo"
          },
          {
           "geo": "geo",
           "hovertemplate": "<b>%{hovertext}</b><br><br>state=Goa<br>month=May<br>estimated unemployment rate=%{marker.size}<br>latitude=%{lat}<br>longitude=%{lon}<extra></extra>",
           "hovertext": [
            "Goa"
           ],
           "lat": {
            "bdata": "Di2yne+HUkA=",
            "dtype": "f8"
           },
           "legendgroup": "Goa",
           "lon": {
            "bdata": "t2J/2T2ZLkA=",
            "dtype": "f8"
           },
           "marker": {
            "color": "#19d3f3",
            "size": {
             "bdata": "AAAAAABANUA=",
             "dtype": "f8"
            },
            "sizemode": "area",
            "sizeref": 0.189625,
            "symbol": "circle"
           },
           "mode": "markers",
           "name": "Goa",
           "showlegend": true,
           "type": "scattergeo"
          },
          {
           "geo": "geo",
           "hovertemplate": "<b>%{hovertext}</b><br><br>state=Gujarat<br>month=May<br>estimated unemployment rate=%{marker.size}<br>latitude=%{lat}<br>longitude=%{lon}<extra></extra>",
           "hovertext": [
            "Gujarat"
           ],
           "lat": {
            "bdata": "B/AWSFDMUUA=",
            "dtype": "f8"
           },
           "legendgroup": "Gujarat",
           "lon": {
            "bdata": "p3nHKTpCNkA=",
            "dtype": "f8"
           },
           "marker": {
            "color": "#FF6692",
            "size": {
             "bdata": "uB6F61E4KEA=",
             "dtype": "f8"
            },
            "sizemode": "area",
            "sizeref": 0.189625,
            "symbol": "circle"
           },
           "mode": "markers",
           "name": "Gujarat",
           "showlegend": true,
           "type": "scattergeo"
          },
          {
           "geo": "geo",
           "hovertemplate": "<b>%{hovertext}</b><br><br>state=Haryana<br>month=May<br>estimated unemployment rate=%{marker.size}<br>latitude=%{lat}<br>longitude=%{lon}<extra></extra>",
           "hovertext": [
            "Haryana"
           ],
           "lat": {
            "bdata": "aCJseHoFU0A=",
            "dtype": "f8"
           },
           "legendgroup": "Haryana",
           "lon": {
            "bdata": "OwFNhA0PPUA=",
            "dtype": "f8"
           },
           "marker": {
            "color": "#B6E880",
            "size": {
             "bdata": "hetRuB4FPUA=",
             "dtype": "f8"
            },
            "sizemode": "area",
            "sizeref": 0.189625,
            "symbol": "circle"
           },
           "mode": "markers",
           "name": "Haryana",
           "showlegend": true,
           "type": "scattergeo"
          },
          {
           "geo": "geo",
           "hovertemplate": "<b>%{hovertext}</b><br><br>state=Himachal Pradesh<br>month=May<br>estimated unemployment rate=%{marker.size}<br>latitude=%{lat}<br>longitude=%{lon}<extra></extra>",
           "hovertext": [
            "Himachal Pradesh"
           ],
           "lat": {
            "bdata": "F0hQ/BhLU0A=",
            "dtype": "f8"
           },
           "legendgroup": "Himachal Pradesh",
           "lon": {
            "bdata": "7Z48LNQaP0A=",
            "dtype": "f8"
           },
           "marker": {
            "color": "#FF97FF",
            "size": {
             "bdata": "MzMzMzPzOkA=",
             "dtype": "f8"
            },
            "sizemode": "area",
            "sizeref": 0.189625,
            "symbol": "circle"
           },
           "mode": "markers",
           "name": "Himachal Pradesh",
           "showlegend": true,
           "type": "scattergeo"
          },
          {
           "geo": "geo",
           "hovertemplate": "<b>%{hovertext}</b><br><br>state=Jammu & Kashmir<br>month=May<br>estimated unemployment rate=%{marker.size}<br>latitude=%{lat}<br>longitude=%{lon}<extra></extra>",
           "hovertext": [
            "Jammu & Kashmir"
           ],
           "lat": {
            "bdata": "Iv32deAkU0A=",
            "dtype": "f8"
           },
           "legendgroup": "Jammu & Kashmir",
           "lon": {
            "bdata": "pN++DpzjQEA=",
            "dtype": "f8"
           },
           "marker": {
            "color": "#FECB52",
            "size": {
             "bdata": "PQrXo3C9MkA=",
             "dtype": "f8"
            },
            "sizemode": "area",
            "sizeref": 0.189625,
            "symbol": "circle"
           },
           "mode": "markers",
           "name": "Jammu & Kashmir",
           "showlegend": true,
           "type": "scattergeo"
          },
          {
           "geo": "geo",
           "hovertemplate": "<b>%{hovertext}</b><br><br>state=Jharkhand<br>month=May<br>estimated unemployment rate=%{marker.size}<br>latitude=%{lat}<br>longitude=%{lon}<extra></extra>",
           "hovertext": [
            "Jharkhand"
           ],
           "lat": {
            "bdata": "oImw4elRVUA=",
            "dtype": "f8"
           },
           "legendgroup": "Jharkhand",
           "lon": {
            "bdata": "6gQ0ETacN0A=",
            "dtype": "f8"
           },
           "marker": {
            "color": "#636efa",
            "size": {
             "bdata": "PQrXo3CdTUA=",
             "dtype": "f8"
            },
            "sizemode": "area",
            "sizeref": 0.189625,
            "symbol": "circle"
           },
           "mode": "markers",
           "name": "Jharkhand",
           "showlegend": true,
           "type": "scattergeo"
          },
          {
           "geo": "geo",
           "hovertemplate": "<b>%{hovertext}</b><br><br>state=Karnataka<br>month=May<br>estimated unemployment rate=%{marker.size}<br>latitude=%{lat}<br>longitude=%{lon}<extra></extra>",
           "hovertext": [
            "Karnataka"
           ],
           "lat": {
            "bdata": "UiegibDtUkA=",
            "dtype": "f8"
           },
           "legendgroup": "Karnataka",
           "lon": {
            "bdata": "pgpGJXWiLkA=",
            "dtype": "f8"
           },
           "marker": {
            "color": "#EF553B",
            "size": {
             "bdata": "uB6F61H4M0A=",
             "dtype": "f8"
            },
            "sizemode": "area",
            "sizeref": 0.189625,
            "symbol": "circle"
           },
           "mode": "markers",
           "name": "Karnataka",
           "showlegend": true,
           "type": "scattergeo"
          },
          {
           "geo": "geo",
           "hovertemplate": "<b>%{hovertext}</b><br><br>state=Kerala<br>month=May<br>estimated unemployment rate=%{marker.size}<br>latitude=%{lat}<br>longitude=%{lon}<extra></extra>",
           "hovertext": [
            "Kerala"
           ],
           "lat": {
            "bdata": "hXzQs1kRU0A=",
            "dtype": "f8"
           },
           "legendgroup": "Kerala",
           "lon": {
            "bdata": "+n5qvHSzJUA=",
            "dtype": "f8"
           },
           "marker": {
            "color": "#00cc96",
            "size": {
             "bdata": "4XoUrkfhMUA=",
             "dtype": "f8"
            },
            "sizemode": "area",
            "sizeref": 0.189625,
            "symbol": "circle"
           },
           "mode": "markers",
           "name": "Kerala",
           "showlegend": true,
           "type": "scattergeo"
          },
          {
           "geo": "geo",
           "hovertemplate": "<b>%{hovertext}</b><br><br>state=Madhya Pradesh<br>month=May<br>estimated unemployment rate=%{marker.size}<br>latitude=%{lat}<br>longitude=%{lon}<extra></extra>",
           "hovertext": [
            "Madhya Pradesh"
           ],
           "lat": {
            "bdata": "gy9MpgqqU0A=",
            "dtype": "f8"
           },
           "legendgroup": "Madhya Pradesh",
           "lon": {
            "bdata": "Ke0NvjD5NkA=",
            "dtype": "f8"
           },
           "marker": {
            "color": "#ab63fa",
            "size": {
             "bdata": "exSuR+H6NUA=",
             "dtype": "f8"
            },
            "sizemode": "area",
            "sizeref": 0.189625,
            "symbol": "circle"
           },
           "mode": "markers",
           "name": "Madhya Pradesh",
           "showlegend": true,
           "type": "scattergeo"
          },
          {
           "geo": "geo",
           "hovertemplate": "<b>%{hovertext}</b><br><br>state=Maharashtra<br>month=May<br>estimated unemployment rate=%{marker.size}<br>latitude=%{lat}<br>longitude=%{lon}<extra></extra>",
           "hovertext": [
            "Maharashtra"
           ],
           "lat": {
            "bdata": "UiegibDtUkA=",
            "dtype": "f8"
           },
           "legendgroup": "Maharashtra",
           "lon": {
            "bdata": "qvHSTWLAM0A=",
            "dtype": "f8"
           },
           "marker": {
            "color": "#FFA15A",
            "size": {
             "bdata": "7FG4HoXrLkA=",
             "dtype": "f8"
            },
            "sizemode": "area",
            "sizeref": 0.189625,
            "symbol": "circle"
           },
           "mode": "markers",
           "name": "Maharashtra",
           "showlegend": true,
           "type": "scattergeo"
          },
          {
           "geo": "geo",
           "hovertemplate": "<b>%{hovertext}</b><br><br>state=Meghalaya<br>month=May<br>estimated unemployment rate=%{marker.size}<br>latitude=%{lat}<br>longitude=%{lon}<extra></extra>",
           "hovertext": [
            "Meghalaya"
           ],
           "lat": {
            "bdata": "5fIf0m/XVkA=",
            "dtype": "f8"
           },
           "legendgroup": "Meghalaya",
           "lon": {
            "bdata": "ZDvfT413OUA=",
            "dtype": "f8"
           },
           "marker": {
            "color": "#19d3f3",
            "size": {
             "bdata": "rkfhehSuF0A=",
             "dtype": "f8"
            },
            "sizemode": "area",
            "sizeref": 0.189625,
            "symbol": "circle"
           },
           "mode": "markers",
           "name": "Meghalaya",
           "showlegend": true,
           "type": "scattergeo"
          },
          {
           "geo": "geo",
           "hovertemplate": "<b>%{hovertext}</b><br><br>state=Odisha<br>month=May<br>estimated unemployment rate=%{marker.size}<br>latitude=%{lat}<br>longitude=%{lon}<extra></extra>",
           "hovertext": [
            "Odisha"
           ],
           "lat": {
            "bdata": "/Knx0k1GVUA=",
            "dtype": "f8"
           },
           "legendgroup": "Odisha",
           "lon": {
            "bdata": "a5p3nKLzNEA=",
            "dtype": "f8"
           },
           "marker": {
            "color": "#FF6692",
            "size": {
             "bdata": "UrgehevRJkA=",
             "dtype": "f8"
            },
            "sizemode": "area",
            "sizeref": 0.189625,
            "symbol": "circle"
           },
           "mode": "markers",
           "name": "Odisha",
           "showlegend": true,
           "type": "scattergeo"
          },
          {
           "geo": "geo",
           "hovertemplate": "<b>%{hovertext}</b><br><br>state=Puducherry<br>month=May<br>estimated unemployment rate=%{marker.size}<br>latitude=%{lat}<br>longitude=%{lon}<extra></extra>",
           "hovertext": [
            "Puducherry"
           ],
           "lat": {
            "bdata": "1lbsL7vzU0A=",
            "dtype": "f8"
           },
           "legendgroup": "Puducherry",
           "lon": {
            "bdata": "w9MrZRniJ0A=",
            "dtype": "f8"
           },
           "marker": {
            "color": "#B6E880",
            "size": {
             "bdata": "uB6F61EYTUA=",
             "dtype": "f8"
            },
            "sizemode": "area",
            "sizeref": 0.189625,
            "symbol": "circle"
           },
           "mode": "markers",
           "name": "Puducherry",
           "showlegend": true,
           "type": "scattergeo"
          },
          {
           "geo": "geo",
           "hovertemplate": "<b>%{hovertext}</b><br><br>state=Punjab<br>month=May<br>estimated unemployment rate=%{marker.size}<br>latitude=%{lat}<br>longitude=%{lon}<extra></extra>",
           "hovertext": [
            "Punjab"
           ],
           "lat": {
            "bdata": "S1mGONbVUkA=",
            "dtype": "f8"
           },
           "legendgroup": "Punjab",
           "lon": {
            "bdata": "2T15WKglP0A=",
            "dtype": "f8"
           },
           "marker": {
            "color": "#FF97FF",
            "size": {
             "bdata": "FK5H4XpUPEA=",
             "dtype": "f8"
            },
            "sizemode": "area",
            "sizeref": 0.189625,
            "symbol": "circle"
           },
           "mode": "markers",
           "name": "Punjab",
           "showlegend": true,
           "type": "scattergeo"
          },
          {
           "geo": "geo",
           "hovertemplate": "<b>%{hovertext}</b><br><br>state=Rajasthan<br>month=May<br>estimated unemployment rate=%{marker.size}<br>latitude=%{lat}<br>longitude=%{lon}<extra></extra>",
           "hovertext": [
            "Rajasthan"
           ],
           "lat": {
            "bdata": "GXPXEvKNUkA=",
            "dtype": "f8"
           },
           "legendgroup": "Rajasthan",
           "lon": {
            "bdata": "EqW9wRcGO0A=",
            "dtype": "f8"
           },
           "marker": {
            "color": "#FECB52",
            "size": {
             "bdata": "exSuR+F6L0A=",
             "dtype": "f8"
            },
            "sizemode": "area",
            "sizeref": 0.189625,
            "symbol": "circle"
           },
           "mode": "markers",
           "name": "Rajasthan",
           "showlegend": true,
           "type": "scattergeo"
          },
          {
           "geo": "geo",
           "hovertemplate": "<b>%{hovertext}</b><br><br>state=Sikkim<br>month=May<br>estimated unemployment rate=%{marker.size}<br>latitude=%{lat}<br>longitude=%{lon}<extra></extra>",
           "hovertext": [
            "Sikkim"
           ],
           "lat": {
            "bdata": "uECC4scgVkA=",
            "dtype": "f8"
           },
           "legendgroup": "Sikkim",
           "lon": {
            "bdata": "nMQgsHKIO0A=",
            "dtype": "f8"
           },
           "marker": {
            "color": "#636efa",
            "size": {
             "bdata": "w/UoXI+COEA=",
             "dtype": "f8"
            },
            "sizemode": "area",
            "sizeref": 0.189625,
            "symbol": "circle"
           },
           "mode": "markers",
           "name": "Sikkim",
           "showlegend": true,
           "type": "scattergeo"
          },
          {
           "geo": "geo",
           "hovertemplate": "<b>%{hovertext}</b><br><br>state=Tamil Nadu<br>month=May<br>estimated unemployment rate=%{marker.size}<br>latitude=%{lat}<br>longitude=%{lon}<extra></extra>",
           "hovertext": [
            "Tamil Nadu"
           ],
           "lat": {
            "bdata": "gy9MpgqqU0A=",
            "dtype": "f8"
           },
           "legendgroup": "Tamil Nadu",
           "lon": {
            "bdata": "qaROQBNBJkA=",
            "dtype": "f8"
           },
           "marker": {
            "color": "#EF553B",
            "size": {
             "bdata": "FK5H4XqUQEA=",
             "dtype": "f8"
            },
            "sizemode": "area",
            "sizeref": 0.189625,
            "symbol": "circle"
           },
           "mode": "markers",
           "name": "Tamil Nadu",
           "showlegend": true,
           "type": "scattergeo"
          },
          {
           "geo": "geo",
           "hovertemplate": "<b>%{hovertext}</b><br><br>state=Telangana<br>month=May<br>estimated unemployment rate=%{marker.size}<br>latitude=%{lat}<br>longitude=%{lon}<extra></extra>",
           "hovertext": [
            "Telangana"
           ],
           "lat": {
            "bdata": "BTQRNjzBU0A=",
            "dtype": "f8"
           },
           "legendgroup": "Telangana",
           "lon": {
            "bdata": "BhIUP8YcMkA=",
            "dtype": "f8"
           },
           "marker": {
            "color": "#00cc96",
            "size": {
             "bdata": "ZmZmZmZmLUA=",
             "dtype": "f8"
            },
            "sizemode": "area",
            "sizeref": 0.189625,
            "symbol": "circle"
           },
           "mode": "markers",
           "name": "Telangana",
           "showlegend": true,
           "type": "scattergeo"
          },
          {
           "geo": "geo",
           "hovertemplate": "<b>%{hovertext}</b><br><br>state=Tripura<br>month=May<br>estimated unemployment rate=%{marker.size}<br>latitude=%{lat}<br>longitude=%{lon}<extra></extra>",
           "hovertext": [
            "Tripura"
           ],
           "lat": {
            "bdata": "EHo2qz7/VkA=",
            "dtype": "f8"
           },
           "legendgroup": "Tripura",
           "lon": {
            "bdata": "qRPQRNjwN0A=",
            "dtype": "f8"
           },
           "marker": {
            "color": "#ab63fa",
            "size": {
             "bdata": "w/UoXI+CNUA=",
             "dtype": "f8"
            },
            "sizemode": "area",
            "sizeref": 0.189625,
            "symbol": "circle"
           },
           "mode": "markers",
           "name": "Tripura",
           "showlegend": true,
           "type": "scattergeo"
          },
          {
           "geo": "geo",
           "hovertemplate": "<b>%{hovertext}</b><br><br>state=Uttar Pradesh<br>month=May<br>estimated unemployment rate=%{marker.size}<br>latitude=%{lat}<br>longitude=%{lon}<extra></extra>",
           "hovertext": [
            "Uttar Pradesh"
           ],
           "lat": {
            "bdata": "at5xio48VEA=",
            "dtype": "f8"
           },
           "legendgroup": "Uttar Pradesh",
           "lon": {
            "bdata": "8IXJVMHYOkA=",
            "dtype": "f8"
           },
           "marker": {
            "color": "#FFA15A",
            "size": {
             "bdata": "KVyPwvVoNEA=",
             "dtype": "f8"
            },
            "sizemode": "area",
            "sizeref": 0.189625,
            "symbol": "circle"
           },
           "mode": "markers",
           "name": "Uttar Pradesh",
           "showlegend": true,
           "type": "scattergeo"
          },
          {
           "geo": "geo",
           "hovertemplate": "<b>%{hovertext}</b><br><br>state=Uttarakhand<br>month=May<br>estimated unemployment rate=%{marker.size}<br>latitude=%{lat}<br>longitude=%{lon}<extra></extra>",
           "hovertext": [
            "Uttarakhand"
           ],
           "lat": {
            "bdata": "BTQRNjzBU0A=",
            "dtype": "f8"
           },
           "legendgroup": "Uttarakhand",
           "lon": {
            "bdata": "cF8HzhkRPkA=",
            "dtype": "f8"
           },
           "marker": {
            "color": "#19d3f3",
            "size": {
             "bdata": "hetRuB4FIEA=",
             "dtype": "f8"
            },
            "sizemode": "area",
            "sizeref": 0.189625,
            "symbol": "circle"
           },
           "mode": "markers",
           "name": "Uttarakhand",
           "showlegend": true,
           "type": "scattergeo"
          },
          {
           "geo": "geo",
           "hovertemplate": "<b>%{hovertext}</b><br><br>state=West Bengal<br>month=May<br>estimated unemployment rate=%{marker.size}<br>latitude=%{lat}<br>longitude=%{lon}<extra></extra>",
           "hovertext": [
            "West Bengal"
           ],
           "lat": {
            "bdata": "H4XrUbj2VUA=",
            "dtype": "f8"
           },
           "legendgroup": "West Bengal",
           "lon": {
            "bdata": "W7G/7J78NkA=",
            "dtype": "f8"
           },
           "marker": {
            "color": "#FF6692",
            "size": {
             "bdata": "KVyPwvVoMUA=",
             "dtype": "f8"
            },
            "sizemode": "area",
            "sizeref": 0.189625,
            "symbol": "circle"
           },
           "mode": "markers",
           "name": "West Bengal",
           "showlegend": true,
           "type": "scattergeo"
          }
         ],
         "name": "May"
        },
        {
         "data": [
          {
           "geo": "geo",
           "hovertemplate": "<b>%{hovertext}</b><br><br>state=Andhra Pradesh<br>month=Jun<br>estimated unemployment rate=%{marker.size}<br>latitude=%{lat}<br>longitude=%{lon}<extra></extra>",
           "hovertext": [
            "Andhra Pradesh"
           ],
           "lat": {
            "bdata": "j8L1KFzvU0A=",
            "dtype": "f8"
           },
           "legendgroup": "Andhra Pradesh",
           "lon": {
            "bdata": "bAn5oGfTL0A=",
            "dtype": "f8"
           },
           "marker": {
            "color": "#636efa",
            "size": {
             "bdata": "exSuR+F6CkA=",
             "dtype": "f8"
            },
            "sizemode": "area",
            "sizeref": 0.189625,
            "symbol": "circle"
           },
           "mode": "markers",
           "name": "Andhra Pradesh",
           "showlegend": true,
           "type": "scattergeo"
          },
          {
           "geo": "geo",
           "hovertemplate": "<b>%{hovertext}</b><br><br>state=Assam<br>month=Jun<br>estimated unemployment rate=%{marker.size}<br>latitude=%{lat}<br>longitude=%{lon}<extra></extra>",
           "hovertext": [
            "Assam"
           ],
           "lat": {
            "bdata": "si5uowE8V0A=",
            "dtype": "f8"
           },
           "legendgroup": "Assam",
           "lon": {
            "bdata": "3pOHhVozOkA=",
            "dtype": "f8"
           },
           "marker": {
            "color": "#EF553B",
            "size": {
             "bdata": "MzMzMzMz4z8=",
             "dtype": "f8"
            },
            "sizemode": "area",
            "sizeref": 0.189625,
            "symbol": "circle"
           },
           "mode": "markers",
           "name": "Assam",
           "showlegend": true,
           "type": "scattergeo"
          },
          {
           "geo": "geo",
           "hovertemplate": "<b>%{hovertext}</b><br><br>state=Bihar<br>month=Jun<br>estimated unemployment rate=%{marker.size}<br>latitude=%{lat}<br>longitude=%{lon}<extra></extra>",
           "hovertext": [
            "Bihar"
           ],
           "lat": {
            "bdata": "KxiV1AlUVUA=",
            "dtype": "f8"
           },
           "legendgroup": "Bihar",
           "lon": {
            "bdata": "RiV1ApoYOUA=",
            "dtype": "f8"
           },
           "marker": {
            "color": "#00cc96",
            "size": {
             "bdata": "UrgehevRMUA=",
             "dtype": "f8"
            },
            "sizemode": "area",
            "sizeref": 0.189625,
            "symbol": "circle"
           },
           "mode": "markers",
           "name": "Bihar",
           "showlegend": true,
           "type": "scattergeo"
          },
          {
           "geo": "geo",
           "hovertemplate": "<b>%{hovertext}</b><br><br>state=Chhattisgarh<br>month=Jun<br>estimated unemployment rate=%{marker.size}<br>latitude=%{lat}<br>longitude=%{lon}<extra></extra>",
           "hovertext": [
            "Chhattisgarh"
           ],
           "lat": {
            "bdata": "M8SxLm53VEA=",
            "dtype": "f8"
           },
           "legendgroup": "Chhattisgarh",
           "lon": {
            "bdata": "LGUZ4lhHNUA=",
            "dtype": "f8"
           },
           "marker": {
            "color": "#ab63fa",
            "size": {
             "bdata": "9ihcj8J1LEA=",
             "dtype": "f8"
            },
            "sizemode": "area",
            "sizeref": 0.189625,
            "symbol": "circle"
           },
           "mode": "markers",
           "name": "Chhattisgarh",
           "showlegend": true,
           "type": "scattergeo"
          },
          {
           "geo": "geo",
           "hovertemplate": "<b>%{hovertext}</b><br><br>state=Delhi<br>month=Jun<br>estimated unemployment rate=%{marker.size}<br>latitude=%{lat}<br>longitude=%{lon}<extra></extra>",
           "hovertext": [
            "Delhi"
           ],
           "lat": {
            "bdata": "w/UoXI9GU0A=",
            "dtype": "f8"
           },
           "legendgroup": "Delhi",
           "lon": {
            "bdata": "FR3J5T+0PEA=",
            "dtype": "f8"
           },
           "marker": {
            "color": "#FFA15A",
            "size": {
             "bdata": "cT0K16MwMkA=",
             "dtype": "f8"
            },
            "sizemode": "area",
            "sizeref": 0.189625,
            "symbol": "circle"
           },
           "mode": "markers",
           "name": "Delhi",
           "showlegend": true,
           "type": "scattergeo"
          },
          {
           "geo": "geo",
           "hovertemplate": "<b>%{hovertext}</b><br><br>state=Goa<br>month=Jun<br>estimated unemployment rate=%{marker.size}<br>latitude=%{lat}<br>longitude=%{lon}<extra></extra>",
           "hovertext": [
            "Goa"
           ],
           "lat": {
            "bdata": "Di2yne+HUkA=",
            "dtype": "f8"
           },
           "legendgroup": "Goa",
           "lon": {
            "bdata": "t2J/2T2ZLkA=",
            "dtype": "f8"
           },
           "marker": {
            "color": "#19d3f3",
            "size": {
             "bdata": "7FG4HoXrI0A=",
             "dtype": "f8"
            },
            "sizemode": "area",
            "sizeref": 0.189625,
            "symbol": "circle"
           },
           "mode": "markers",
           "name": "Goa",
           "showlegend": true,
           "type": "scattergeo"
          },
          {
           "geo": "geo",
           "hovertemplate": "<b>%{hovertext}</b><br><br>state=Gujarat<br>month=Jun<br>estimated unemployment rate=%{marker.size}<br>latitude=%{lat}<br>longitude=%{lon}<extra></extra>",
           "hovertext": [
            "Gujarat"
           ],
           "lat": {
            "bdata": "B/AWSFDMUUA=",
            "dtype": "f8"
           },
           "legendgroup": "Gujarat",
           "lon": {
            "bdata": "p3nHKTpCNkA=",
            "dtype": "f8"
           },
           "marker": {
            "color": "#FF6692",
            "size": {
             "bdata": "mpmZmZmZCUA=",
             "dtype": "f8"
            },
            "sizemode": "area",
            "sizeref": 0.189625,
            "symbol": "circle"
           },
           "mode": "markers",
           "name": "Gujarat",
           "showlegend": true,
           "type": "scattergeo"
          },
          {
           "geo": "geo",
           "hovertemplate": "<b>%{hovertext}</b><br><br>state=Haryana<br>month=Jun<br>estimated unemployment rate=%{marker.size}<br>latitude=%{lat}<br>longitude=%{lon}<extra></extra>",
           "hovertext": [
            "Haryana"
           ],
           "lat": {
            "bdata": "aCJseHoFU0A=",
            "dtype": "f8"
           },
           "legendgroup": "Haryana",
           "lon": {
            "bdata": "OwFNhA0PPUA=",
            "dtype": "f8"
           },
           "marker": {
            "color": "#B6E880",
            "size": {
             "bdata": "MzMzMzOzOkA=",
             "dtype": "f8"
            },
            "sizemode": "area",
            "sizeref": 0.189625,
            "symbol": "circle"
           },
           "mode": "markers",
           "name": "Haryana",
           "showlegend": true,
           "type": "scattergeo"
          },
          {
           "geo": "geo",
           "hovertemplate": "<b>%{hovertext}</b><br><br>state=Himachal Pradesh<br>month=Jun<br>estimated unemployment rate=%{marker.size}<br>latitude=%{lat}<br>longitude=%{lon}<extra></extra>",
           "hovertext": [
            "Himachal Pradesh"
           ],
           "lat": {
            "bdata": "F0hQ/BhLU0A=",
            "dtype": "f8"
           },
           "legendgroup": "Himachal Pradesh",
           "lon": {
            "bdata": "7Z48LNQaP0A=",
            "dtype": "f8"
           },
           "marker": {
            "color": "#FF97FF",
            "size": {
             "bdata": "cT0K16PwKkA=",
             "dtype": "f8"
            },
            "sizemode": "area",
            "sizeref": 0.189625,
            "symbol": "circle"
           },
           "mode": "markers",
           "name": "Himachal Pradesh",
           "showlegend": true,
           "type": "scattergeo"
          },
          {
           "geo": "geo",
           "hovertemplate": "<b>%{hovertext}</b><br><br>state=Jammu & Kashmir<br>month=Jun<br>estimated unemployment rate=%{marker.size}<br>latitude=%{lat}<br>longitude=%{lon}<extra></extra>",
           "hovertext": [
            "Jammu & Kashmir"
           ],
           "lat": {
            "bdata": "Iv32deAkU0A=",
            "dtype": "f8"
           },
           "legendgroup": "Jammu & Kashmir",
           "lon": {
            "bdata": "pN++DpzjQEA=",
            "dtype": "f8"
           },
           "marker": {
            "color": "#FECB52",
            "size": {
             "bdata": "7FG4HoXrMUA=",
             "dtype": "f8"
            },
            "sizemode": "area",
            "sizeref": 0.189625,
            "symbol": "circle"
           },
           "mode": "markers",
           "name": "Jammu & Kashmir",
           "showlegend": true,
           "type": "scattergeo"
          },
          {
           "geo": "geo",
           "hovertemplate": "<b>%{hovertext}</b><br><br>state=Jharkhand<br>month=Jun<br>estimated unemployment rate=%{marker.size}<br>latitude=%{lat}<br>longitude=%{lon}<extra></extra>",
           "hovertext": [
            "Jharkhand"
           ],
           "lat": {
            "bdata": "oImw4elRVUA=",
            "dtype": "f8"
           },
           "legendgroup": "Jharkhand",
           "lon": {
            "bdata": "6gQ0ETacN0A=",
            "dtype": "f8"
           },
           "marker": {
            "color": "#636efa",
            "size": {
             "bdata": "MzMzMzPzNEA=",
             "dtype": "f8"
            },
            "sizemode": "area",
            "sizeref": 0.189625,
            "symbol": "circle"
           },
           "mode": "markers",
           "name": "Jharkhand",
           "showlegend": true,
           "type": "scattergeo"
          },
          {
           "geo": "geo",
           "hovertemplate": "<b>%{hovertext}</b><br><br>state=Karnataka<br>month=Jun<br>estimated unemployment rate=%{marker.size}<br>latitude=%{lat}<br>longitude=%{lon}<extra></extra>",
           "hovertext": [
            "Karnataka"
           ],
           "lat": {
            "bdata": "UiegibDtUkA=",
            "dtype": "f8"
           },
           "legendgroup": "Karnataka",
           "lon": {
            "bdata": "pgpGJXWiLkA=",
            "dtype": "f8"
           },
           "marker": {
            "color": "#EF553B",
            "size": {
             "bdata": "4XoUrkfhIEA=",
             "dtype": "f8"
            },
            "sizemode": "area",
            "sizeref": 0.189625,
            "symbol": "circle"
           },
           "mode": "markers",
           "name": "Karnataka",
           "showlegend": true,
           "type": "scattergeo"
          },
          {
           "geo": "geo",
           "hovertemplate": "<b>%{hovertext}</b><br><br>state=Kerala<br>month=Jun<br>estimated unemployment rate=%{marker.size}<br>latitude=%{lat}<br>longitude=%{lon}<extra></extra>",
           "hovertext": [
            "Kerala"
           ],
           "lat": {
            "bdata": "hXzQs1kRU0A=",
            "dtype": "f8"
           },
           "legendgroup": "Kerala",
           "lon": {
            "bdata": "+n5qvHSzJUA=",
            "dtype": "f8"
           },
           "marker": {
            "color": "#00cc96",
            "size": {
             "bdata": "7FG4HoVrI0A=",
             "dtype": "f8"
            },
            "sizemode": "area",
            "sizeref": 0.189625,
            "symbol": "circle"
           },
           "mode": "markers",
           "name": "Kerala",
           "showlegend": true,
           "type": "scattergeo"
          },
          {
           "geo": "geo",
           "hovertemplate": "<b>%{hovertext}</b><br><br>state=Madhya Pradesh<br>month=Jun<br>estimated unemployment rate=%{marker.size}<br>latitude=%{lat}<br>longitude=%{lon}<extra></extra>",
           "hovertext": [
            "Madhya Pradesh"
           ],
           "lat": {
            "bdata": "gy9MpgqqU0A=",
            "dtype": "f8"
           },
           "legendgroup": "Madhya Pradesh",
           "lon": {
            "bdata": "Ke0NvjD5NkA=",
            "dtype": "f8"
           },
           "marker": {
            "color": "#ab63fa",
            "size": {
             "bdata": "7FG4HoXrGUA=",
             "dtype": "f8"
            },
            "sizemode": "area",
            "sizeref": 0.189625,
            "symbol": "circle"
           },
           "mode": "markers",
           "name": "Madhya Pradesh",
           "showlegend": true,
           "type": "scattergeo"
          },
          {
           "geo": "geo",
           "hovertemplate": "<b>%{hovertext}</b><br><br>state=Maharashtra<br>month=Jun<br>estimated unemployment rate=%{marker.size}<br>latitude=%{lat}<br>longitude=%{lon}<extra></extra>",
           "hovertext": [
            "Maharashtra"
           ],
           "lat": {
            "bdata": "UiegibDtUkA=",
            "dtype": "f8"
           },
           "legendgroup": "Maharashtra",
           "lon": {
            "bdata": "qvHSTWLAM0A=",
            "dtype": "f8"
           },
           "marker": {
            "color": "#FFA15A",
            "size": {
             "bdata": "9ihcj8J1IkA=",
             "dtype": "f8"
            },
            "sizemode": "area",
            "sizeref": 0.189625,
            "symbol": "circle"
           },
           "mode": "markers",
           "name": "Maharashtra",
           "showlegend": true,
           "type": "scattergeo"
          },
          {
           "geo": "geo",
           "hovertemplate": "<b>%{hovertext}</b><br><br>state=Meghalaya<br>month=Jun<br>estimated unemployment rate=%{marker.size}<br>latitude=%{lat}<br>longitude=%{lon}<extra></extra>",
           "hovertext": [
            "Meghalaya"
           ],
           "lat": {
            "bdata": "5fIf0m/XVkA=",
            "dtype": "f8"
           },
           "legendgroup": "Meghalaya",
           "lon": {
            "bdata": "ZDvfT413OUA=",
            "dtype": "f8"
           },
           "marker": {
            "color": "#19d3f3",
            "size": {
             "bdata": "ZmZmZmZm8j8=",
             "dtype": "f8"
            },
            "sizemode": "area",
            "sizeref": 0.189625,
            "symbol": "circle"
           },
           "mode": "markers",
           "name": "Meghalaya",
           "showlegend": true,
           "type": "scattergeo"
          },
          {
           "geo": "geo",
           "hovertemplate": "<b>%{hovertext}</b><br><br>state=Odisha<br>month=Jun<br>estimated unemployment rate=%{marker.size}<br>latitude=%{lat}<br>longitude=%{lon}<extra></extra>",
           "hovertext": [
            "Odisha"
           ],
           "lat": {
            "bdata": "/Knx0k1GVUA=",
            "dtype": "f8"
           },
           "legendgroup": "Odisha",
           "lon": {
            "bdata": "a5p3nKLzNEA=",
            "dtype": "f8"
           },
           "marker": {
            "color": "#FF6692",
            "size": {
             "bdata": "KVyPwvUoDkA=",
             "dtype": "f8"
            },
            "sizemode": "area",
            "sizeref": 0.189625,
            "symbol": "circle"
           },
           "mode": "markers",
           "name": "Odisha",
           "showlegend": true,
           "type": "scattergeo"
          },
          {
           "geo": "geo",
           "hovertemplate": "<b>%{hovertext}</b><br><br>state=Puducherry<br>month=Jun<br>estimated unemployment rate=%{marker.size}<br>latitude=%{lat}<br>longitude=%{lon}<extra></extra>",
           "hovertext": [
            "Puducherry"
           ],
           "lat": {
            "bdata": "1lbsL7vzU0A=",
            "dtype": "f8"
           },
           "legendgroup": "Puducherry",
           "lon": {
            "bdata": "w9MrZRniJ0A=",
            "dtype": "f8"
           },
           "marker": {
            "color": "#B6E880",
            "size": {
             "bdata": "9ihcj8L1EEA=",
             "dtype": "f8"
            },
            "sizemode": "area",
            "sizeref": 0.189625,
            "symbol": "circle"
           },
           "mode": "markers",
           "name": "Puducherry",
           "showlegend": true,
           "type": "scattergeo"
          },
          {
           "geo": "geo",
           "hovertemplate": "<b>%{hovertext}</b><br><br>state=Punjab<br>month=Jun<br>estimated unemployment rate=%{marker.size}<br>latitude=%{lat}<br>longitude=%{lon}<extra></extra>",
           "hovertext": [
            "Punjab"
           ],
           "lat": {
            "bdata": "S1mGONbVUkA=",
            "dtype": "f8"
           },
           "legendgroup": "Punjab",
           "lon": {
            "bdata": "2T15WKglP0A=",
            "dtype": "f8"
           },
           "marker": {
            "color": "#FF97FF",
            "size": {
             "bdata": "zczMzMyMMEA=",
             "dtype": "f8"
            },
            "sizemode": "area",
            "sizeref": 0.189625,
            "symbol": "circle"
           },
           "mode": "markers",
           "name": "Punjab",
           "showlegend": true,
           "type": "scattergeo"
          },
          {
           "geo": "geo",
           "hovertemplate": "<b>%{hovertext}</b><br><br>state=Rajasthan<br>month=Jun<br>estimated unemployment rate=%{marker.size}<br>latitude=%{lat}<br>longitude=%{lon}<extra></extra>",
           "hovertext": [
            "Rajasthan"
           ],
           "lat": {
            "bdata": "GXPXEvKNUkA=",
            "dtype": "f8"
           },
           "legendgroup": "Rajasthan",
           "lon": {
            "bdata": "EqW9wRcGO0A=",
            "dtype": "f8"
           },
           "marker": {
            "color": "#FECB52",
            "size": {
             "bdata": "SOF6FK7HLEA=",
             "dtype": "f8"
            },
            "sizemode": "area",
            "sizeref": 0.189625,
            "symbol": "circle"
           },
           "mode": "markers",
           "name": "Rajasthan",
           "showlegend": true,
           "type": "scattergeo"
          },
          {
           "geo": "geo",
           "hovertemplate": "<b>%{hovertext}</b><br><br>state=Sikkim<br>month=Jun<br>estimated unemployment rate=%{marker.size}<br>latitude=%{lat}<br>longitude=%{lon}<extra></extra>",
           "hovertext": [
            "Sikkim"
           ],
           "lat": {
            "bdata": "uECC4scgVkA=",
            "dtype": "f8"
           },
           "legendgroup": "Sikkim",
           "lon": {
            "bdata": "nMQgsHKIO0A=",
            "dtype": "f8"
           },
           "marker": {
            "color": "#636efa",
            "size": {
             "bdata": "16NwPQrXEUA=",
             "dtype": "f8"
            },
            "sizemode": "area",
            "sizeref": 0.189625,
            "symbol": "circle"
           },
           "mode": "markers",
           "name": "Sikkim",
           "showlegend": true,
           "type": "scattergeo"
          },
          {
           "geo": "geo",
           "hovertemplate": "<b>%{hovertext}</b><br><br>state=Tamil Nadu<br>month=Jun<br>estimated unemployment rate=%{marker.size}<br>latitude=%{lat}<br>longitude=%{lon}<extra></extra>",
           "hovertext": [
            "Tamil Nadu"
           ],
           "lat": {
            "bdata": "gy9MpgqqU0A=",
            "dtype": "f8"
           },
           "legendgroup": "Tamil Nadu",
           "lon": {
            "bdata": "qaROQBNBJkA=",
            "dtype": "f8"
           },
           "marker": {
            "color": "#EF553B",
            "size": {
             "bdata": "ZmZmZmZmKEA=",
             "dtype": "f8"
            },
            "sizemode": "area",
            "sizeref": 0.189625,
            "symbol": "circle"
           },
           "mode": "markers",
           "name": "Tamil Nadu",
           "showlegend": true,
           "type": "scattergeo"
          },
          {
           "geo": "geo",
           "hovertemplate": "<b>%{hovertext}</b><br><br>state=Telangana<br>month=Jun<br>estimated unemployment rate=%{marker.size}<br>latitude=%{lat}<br>longitude=%{lon}<extra></extra>",
           "hovertext": [
            "Telangana"
           ],
           "lat": {
            "bdata": "BTQRNjzBU0A=",
            "dtype": "f8"
           },
           "legendgroup": "Telangana",
           "lon": {
            "bdata": "BhIUP8YcMkA=",
            "dtype": "f8"
           },
           "marker": {
            "color": "#00cc96",
            "size": {
             "bdata": "mpmZmZkZJUA=",
             "dtype": "f8"
            },
            "sizemode": "area",
            "sizeref": 0.189625,
            "symbol": "circle"
           },
           "mode": "markers",
           "name": "Telangana",
           "showlegend": true,
           "type": "scattergeo"
          },
          {
           "geo": "geo",
           "hovertemplate": "<b>%{hovertext}</b><br><br>state=Tripura<br>month=Jun<br>estimated unemployment rate=%{marker.size}<br>latitude=%{lat}<br>longitude=%{lon}<extra></extra>",
           "hovertext": [
            "Tripura"
           ],
           "lat": {
            "bdata": "EHo2qz7/VkA=",
            "dtype": "f8"
           },
           "legendgroup": "Tripura",
           "lon": {
            "bdata": "qRPQRNjwN0A=",
            "dtype": "f8"
           },
           "marker": {
            "color": "#ab63fa",
            "size": {
             "bdata": "9ihcj8K1NUA=",
             "dtype": "f8"
            },
            "sizemode": "area",
            "sizeref": 0.189625,
            "symbol": "circle"
           },
           "mode": "markers",
           "name": "Tripura",
           "showlegend": true,
           "type": "scattergeo"
          },
          {
           "geo": "geo",
           "hovertemplate": "<b>%{hovertext}</b><br><br>state=Uttar Pradesh<br>month=Jun<br>estimated unemployment rate=%{marker.size}<br>latitude=%{lat}<br>longitude=%{lon}<extra></extra>",
           "hovertext": [
            "Uttar Pradesh"
           ],
           "lat": {
            "bdata": "at5xio48VEA=",
            "dtype": "f8"
           },
           "legendgroup": "Uttar Pradesh",
           "lon": {
            "bdata": "8IXJVMHYOkA=",
            "dtype": "f8"
           },
           "marker": {
            "color": "#FFA15A",
            "size": {
             "bdata": "cT0K16PwIkA=",
             "dtype": "f8"
            },
            "sizemode": "area",
            "sizeref": 0.189625,
            "symbol": "circle"
           },
           "mode": "markers",
           "name": "Uttar Pradesh",
           "showlegend": true,
           "type": "scattergeo"
          },
          {
           "geo": "geo",
           "hovertemplate": "<b>%{hovertext}</b><br><br>state=Uttarakhand<br>month=Jun<br>estimated unemployment rate=%{marker.size}<br>latitude=%{lat}<br>longitude=%{lon}<extra></extra>",
           "hovertext": [
            "Uttarakhand"
           ],
           "lat": {
            "bdata": "BTQRNjzBU0A=",
            "dtype": "f8"
           },
           "legendgroup": "Uttarakhand",
           "lon": {
            "bdata": "cF8HzhkRPkA=",
            "dtype": "f8"
           },
           "marker": {
            "color": "#19d3f3",
            "size": {
             "bdata": "uB6F61E4IUA=",
             "dtype": "f8"
            },
            "sizemode": "area",
            "sizeref": 0.189625,
            "symbol": "circle"
           },
           "mode": "markers",
           "name": "Uttarakhand",
           "showlegend": true,
           "type": "scattergeo"
          },
          {
           "geo": "geo",
           "hovertemplate": "<b>%{hovertext}</b><br><br>state=West Bengal<br>month=Jun<br>estimated unemployment rate=%{marker.size}<br>latitude=%{lat}<br>longitude=%{lon}<extra></extra>",
           "hovertext": [
            "West Bengal"
           ],
           "lat": {
            "bdata": "H4XrUbj2VUA=",
            "dtype": "f8"
           },
           "legendgroup": "West Bengal",
           "lon": {
            "bdata": "W7G/7J78NkA=",
            "dtype": "f8"
           },
           "marker": {
            "color": "#FF6692",
            "size": {
             "bdata": "KVyPwvUoHUA=",
             "dtype": "f8"
            },
            "sizemode": "area",
            "sizeref": 0.189625,
            "symbol": "circle"
           },
           "mode": "markers",
           "name": "West Bengal",
           "showlegend": true,
           "type": "scattergeo"
          }
         ],
         "name": "Jun"
        },
        {
         "data": [
          {
           "geo": "geo",
           "hovertemplate": "<b>%{hovertext}</b><br><br>state=Andhra Pradesh<br>month=Jul<br>estimated unemployment rate=%{marker.size}<br>latitude=%{lat}<br>longitude=%{lon}<extra></extra>",
           "hovertext": [
            "Andhra Pradesh"
           ],
           "lat": {
            "bdata": "j8L1KFzvU0A=",
            "dtype": "f8"
           },
           "legendgroup": "Andhra Pradesh",
           "lon": {
            "bdata": "bAn5oGfTL0A=",
            "dtype": "f8"
           },
           "marker": {
            "color": "#636efa",
            "size": {
             "bdata": "rkfhehSuIEA=",
             "dtype": "f8"
            },
            "sizemode": "area",
            "sizeref": 0.189625,
            "symbol": "circle"
           },
           "mode": "markers",
           "name": "Andhra Pradesh",
           "showlegend": true,
           "type": "scattergeo"
          },
          {
           "geo": "geo",
           "hovertemplate": "<b>%{hovertext}</b><br><br>state=Assam<br>month=Jul<br>estimated unemployment rate=%{marker.size}<br>latitude=%{lat}<br>longitude=%{lon}<extra></extra>",
           "hovertext": [
            "Assam"
           ],
           "lat": {
            "bdata": "si5uowE8V0A=",
            "dtype": "f8"
           },
           "legendgroup": "Assam",
           "lon": {
            "bdata": "3pOHhVozOkA=",
            "dtype": "f8"
           },
           "marker": {
            "color": "#EF553B",
            "size": {
             "bdata": "KVyPwvUoDkA=",
             "dtype": "f8"
            },
            "sizemode": "area",
            "sizeref": 0.189625,
            "symbol": "circle"
           },
           "mode": "markers",
           "name": "Assam",
           "showlegend": true,
           "type": "scattergeo"
          },
          {
           "geo": "geo",
           "hovertemplate": "<b>%{hovertext}</b><br><br>state=Bihar<br>month=Jul<br>estimated unemployment rate=%{marker.size}<br>latitude=%{lat}<br>longitude=%{lon}<extra></extra>",
           "hovertext": [
            "Bihar"
           ],
           "lat": {
            "bdata": "KxiV1AlUVUA=",
            "dtype": "f8"
           },
           "legendgroup": "Bihar",
           "lon": {
            "bdata": "RiV1ApoYOUA=",
            "dtype": "f8"
           },
           "marker": {
            "color": "#00cc96",
            "size": {
             "bdata": "FK5H4XqUKUA=",
             "dtype": "f8"
            },
            "sizemode": "area",
            "sizeref": 0.189625,
            "symbol": "circle"
           },
           "mode": "markers",
           "name": "Bihar",
           "showlegend": true,
           "type": "scattergeo"
          },
          {
           "geo": "geo",
           "hovertemplate": "<b>%{hovertext}</b><br><br>state=Chhattisgarh<br>month=Jul<br>estimated unemployment rate=%{marker.size}<br>latitude=%{lat}<br>longitude=%{lon}<extra></extra>",
           "hovertext": [
            "Chhattisgarh"
           ],
           "lat": {
            "bdata": "M8SxLm53VEA=",
            "dtype": "f8"
           },
           "legendgroup": "Chhattisgarh",
           "lon": {
            "bdata": "LGUZ4lhHNUA=",
            "dtype": "f8"
           },
           "marker": {
            "color": "#ab63fa",
            "size": {
             "bdata": "CtejcD2KJEA=",
             "dtype": "f8"
            },
            "sizemode": "area",
            "sizeref": 0.189625,
            "symbol": "circle"
           },
           "mode": "markers",
           "name": "Chhattisgarh",
           "showlegend": true,
           "type": "scattergeo"
          },
          {
           "geo": "geo",
           "hovertemplate": "<b>%{hovertext}</b><br><br>state=Delhi<br>month=Jul<br>estimated unemployment rate=%{marker.size}<br>latitude=%{lat}<br>longitude=%{lon}<extra></extra>",
           "hovertext": [
            "Delhi"
           ],
           "lat": {
            "bdata": "w/UoXI9GU0A=",
            "dtype": "f8"
           },
           "legendgroup": "Delhi",
           "lon": {
            "bdata": "FR3J5T+0PEA=",
            "dtype": "f8"
           },
           "marker": {
            "color": "#FFA15A",
            "size": {
             "bdata": "zczMzMxMNEA=",
             "dtype": "f8"
            },
            "sizemode": "area",
            "sizeref": 0.189625,
            "symbol": "circle"
           },
           "mode": "markers",
           "name": "Delhi",
           "showlegend": true,
           "type": "scattergeo"
          },
          {
           "geo": "geo",
           "hovertemplate": "<b>%{hovertext}</b><br><br>state=Goa<br>month=Jul<br>estimated unemployment rate=%{marker.size}<br>latitude=%{lat}<br>longitude=%{lon}<extra></extra>",
           "hovertext": [
            "Goa"
           ],
           "lat": {
            "bdata": "Di2yne+HUkA=",
            "dtype": "f8"
           },
           "legendgroup": "Goa",
           "lon": {
            "bdata": "t2J/2T2ZLkA=",
            "dtype": "f8"
           },
           "marker": {
            "color": "#19d3f3",
            "size": {
             "bdata": "UrgehesRMUA=",
             "dtype": "f8"
            },
            "sizemode": "area",
            "sizeref": 0.189625,
            "symbol": "circle"
           },
           "mode": "markers",
           "name": "Goa",
           "showlegend": true,
           "type": "scattergeo"
          },
          {
           "geo": "geo",
           "hovertemplate": "<b>%{hovertext}</b><br><br>state=Gujarat<br>month=Jul<br>estimated unemployment rate=%{marker.size}<br>latitude=%{lat}<br>longitude=%{lon}<extra></extra>",
           "hovertext": [
            "Gujarat"
           ],
           "lat": {
            "bdata": "B/AWSFDMUUA=",
            "dtype": "f8"
           },
           "legendgroup": "Gujarat",
           "lon": {
            "bdata": "p3nHKTpCNkA=",
            "dtype": "f8"
           },
           "marker": {
            "color": "#FF6692",
            "size": {
             "bdata": "cT0K16Nw/T8=",
             "dtype": "f8"
            },
            "sizemode": "area",
            "sizeref": 0.189625,
            "symbol": "circle"
           },
           "mode": "markers",
           "name": "Gujarat",
           "showlegend": true,
           "type": "scattergeo"
          },
          {
           "geo": "geo",
           "hovertemplate": "<b>%{hovertext}</b><br><br>state=Haryana<br>month=Jul<br>estimated unemployment rate=%{marker.size}<br>latitude=%{lat}<br>longitude=%{lon}<extra></extra>",
           "hovertext": [
            "Haryana"
           ],
           "lat": {
            "bdata": "aCJseHoFU0A=",
            "dtype": "f8"
           },
           "legendgroup": "Haryana",
           "lon": {
            "bdata": "OwFNhA0PPUA=",
            "dtype": "f8"
           },
           "marker": {
            "color": "#B6E880",
            "size": {
             "bdata": "rkfhehQuOEA=",
             "dtype": "f8"
            },
            "sizemode": "area",
            "sizeref": 0.189625,
            "symbol": "circle"
           },
           "mode": "markers",
           "name": "Haryana",
           "showlegend": true,
           "type": "scattergeo"
          },
          {
           "geo": "geo",
           "hovertemplate": "<b>%{hovertext}</b><br><br>state=Himachal Pradesh<br>month=Jul<br>estimated unemployment rate=%{marker.size}<br>latitude=%{lat}<br>longitude=%{lon}<extra></extra>",
           "hovertext": [
            "Himachal Pradesh"
           ],
           "lat": {
            "bdata": "F0hQ/BhLU0A=",
            "dtype": "f8"
           },
           "legendgroup": "Himachal Pradesh",
           "lon": {
            "bdata": "7Z48LNQaP0A=",
            "dtype": "f8"
           },
           "marker": {
            "color": "#FF97FF",
            "size": {
             "bdata": "j8L1KFxPOEA=",
             "dtype": "f8"
            },
            "sizemode": "area",
            "sizeref": 0.189625,
            "symbol": "circle"
           },
           "mode": "markers",
           "name": "Himachal Pradesh",
           "showlegend": true,
           "type": "scattergeo"
          },
          {
           "geo": "geo",
           "hovertemplate": "<b>%{hovertext}</b><br><br>state=Jammu & Kashmir<br>month=Jul<br>estimated unemployment rate=%{marker.size}<br>latitude=%{lat}<br>longitude=%{lon}<extra></extra>",
           "hovertext": [
            "Jammu & Kashmir"
           ],
           "lat": {
            "bdata": "Iv32deAkU0A=",
            "dtype": "f8"
           },
           "legendgroup": "Jammu & Kashmir",
           "lon": {
            "bdata": "pN++DpzjQEA=",
            "dtype": "f8"
           },
           "marker": {
            "color": "#FECB52",
            "size": {
             "bdata": "w/UoXI/CJUA=",
             "dtype": "f8"
            },
            "sizemode": "area",
            "sizeref": 0.189625,
            "symbol": "circle"
           },
           "mode": "markers",
           "name": "Jammu & Kashmir",
           "showlegend": true,
           "type": "scattergeo"
          },
          {
           "geo": "geo",
           "hovertemplate": "<b>%{hovertext}</b><br><br>state=Jharkhand<br>month=Jul<br>estimated unemployment rate=%{marker.size}<br>latitude=%{lat}<br>longitude=%{lon}<extra></extra>",
           "hovertext": [
            "Jharkhand"
           ],
           "lat": {
            "bdata": "oImw4elRVUA=",
            "dtype": "f8"
           },
           "legendgroup": "Jharkhand",
           "lon": {
            "bdata": "6gQ0ETacN0A=",
            "dtype": "f8"
           },
           "marker": {
            "color": "#636efa",
            "size": {
             "bdata": "hetRuB6FHkA=",
             "dtype": "f8"
            },
            "sizemode": "area",
            "sizeref": 0.189625,
            "symbol": "circle"
           },
           "mode": "markers",
           "name": "Jharkhand",
           "showlegend": true,
           "type": "scattergeo"
          },
          {
           "geo": "geo",
           "hovertemplate": "<b>%{hovertext}</b><br><br>state=Karnataka<br>month=Jul<br>estimated unemployment rate=%{marker.size}<br>latitude=%{lat}<br>longitude=%{lon}<extra></extra>",
           "hovertext": [
            "Karnataka"
           ],
           "lat": {
            "bdata": "UiegibDtUkA=",
            "dtype": "f8"
           },
           "legendgroup": "Karnataka",
           "lon": {
            "bdata": "pgpGJXWiLkA=",
            "dtype": "f8"
           },
           "marker": {
            "color": "#EF553B",
            "size": {
             "bdata": "CtejcD0KEEA=",
             "dtype": "f8"
            },
            "sizemode": "area",
            "sizeref": 0.189625,
            "symbol": "circle"
           },
           "mode": "markers",
           "name": "Karnataka",
           "showlegend": true,
           "type": "scattergeo"
          },
          {
           "geo": "geo",
           "hovertemplate": "<b>%{hovertext}</b><br><br>state=Kerala<br>month=Jul<br>estimated unemployment rate=%{marker.size}<br>latitude=%{lat}<br>longitude=%{lon}<extra></extra>",
           "hovertext": [
            "Kerala"
           ],
           "lat": {
            "bdata": "hXzQs1kRU0A=",
            "dtype": "f8"
           },
           "legendgroup": "Kerala",
           "lon": {
            "bdata": "+n5qvHSzJUA=",
            "dtype": "f8"
           },
           "marker": {
            "color": "#00cc96",
            "size": {
             "bdata": "XI/C9ShcHEA=",
             "dtype": "f8"
            },
            "sizemode": "area",
            "sizeref": 0.189625,
            "symbol": "circle"
           },
           "mode": "markers",
           "name": "Kerala",
           "showlegend": true,
           "type": "scattergeo"
          },
          {
           "geo": "geo",
           "hovertemplate": "<b>%{hovertext}</b><br><br>state=Madhya Pradesh<br>month=Jul<br>estimated unemployment rate=%{marker.size}<br>latitude=%{lat}<br>longitude=%{lon}<extra></extra>",
           "hovertext": [
            "Madhya Pradesh"
           ],
           "lat": {
            "bdata": "gy9MpgqqU0A=",
            "dtype": "f8"
           },
           "legendgroup": "Madhya Pradesh",
           "lon": {
            "bdata": "Ke0NvjD5NkA=",
            "dtype": "f8"
           },
           "marker": {
            "color": "#ab63fa",
            "size": {
             "bdata": "UrgehetRFEA=",
             "dtype": "f8"
            },
            "sizemode": "area",
            "sizeref": 0.189625,
            "symbol": "circle"
           },
           "mode": "markers",
           "name": "Madhya Pradesh",
           "showlegend": true,
           "type": "scattergeo"
          },
          {
           "geo": "geo",
           "hovertemplate": "<b>%{hovertext}</b><br><br>state=Maharashtra<br>month=Jul<br>estimated unemployment rate=%{marker.size}<br>latitude=%{lat}<br>longitude=%{lon}<extra></extra>",
           "hovertext": [
            "Maharashtra"
           ],
           "lat": {
            "bdata": "UiegibDtUkA=",
            "dtype": "f8"
           },
           "legendgroup": "Maharashtra",
           "lon": {
            "bdata": "qvHSTWLAM0A=",
            "dtype": "f8"
           },
           "marker": {
            "color": "#FFA15A",
            "size": {
             "bdata": "H4XrUbgeD0A=",
             "dtype": "f8"
            },
            "sizemode": "area",
            "sizeref": 0.189625,
            "symbol": "circle"
           },
           "mode": "markers",
           "name": "Maharashtra",
           "showlegend": true,
           "type": "scattergeo"
          },
          {
           "geo": "geo",
           "hovertemplate": "<b>%{hovertext}</b><br><br>state=Meghalaya<br>month=Jul<br>estimated unemployment rate=%{marker.size}<br>latitude=%{lat}<br>longitude=%{lon}<extra></extra>",
           "hovertext": [
            "Meghalaya"
           ],
           "lat": {
            "bdata": "5fIf0m/XVkA=",
            "dtype": "f8"
           },
           "legendgroup": "Meghalaya",
           "lon": {
            "bdata": "ZDvfT413OUA=",
            "dtype": "f8"
           },
           "marker": {
            "color": "#19d3f3",
            "size": {
             "bdata": "zczMzMzMAEA=",
             "dtype": "f8"
            },
            "sizemode": "area",
            "sizeref": 0.189625,
            "symbol": "circle"
           },
           "mode": "markers",
           "name": "Meghalaya",
           "showlegend": true,
           "type": "scattergeo"
          },
          {
           "geo": "geo",
           "hovertemplate": "<b>%{hovertext}</b><br><br>state=Odisha<br>month=Jul<br>estimated unemployment rate=%{marker.size}<br>latitude=%{lat}<br>longitude=%{lon}<extra></extra>",
           "hovertext": [
            "Odisha"
           ],
           "lat": {
            "bdata": "/Knx0k1GVUA=",
            "dtype": "f8"
           },
           "legendgroup": "Odisha",
           "lon": {
            "bdata": "a5p3nKLzNEA=",
            "dtype": "f8"
           },
           "marker": {
            "color": "#FF6692",
            "size": {
             "bdata": "FK5H4XoU/j8=",
             "dtype": "f8"
            },
            "sizemode": "area",
            "sizeref": 0.189625,
            "symbol": "circle"
           },
           "mode": "markers",
           "name": "Odisha",
           "showlegend": true,
           "type": "scattergeo"
          },
          {
           "geo": "geo",
           "hovertemplate": "<b>%{hovertext}</b><br><br>state=Puducherry<br>month=Jul<br>estimated unemployment rate=%{marker.size}<br>latitude=%{lat}<br>longitude=%{lon}<extra></extra>",
           "hovertext": [
            "Puducherry"
           ],
           "lat": {
            "bdata": "1lbsL7vzU0A=",
            "dtype": "f8"
           },
           "legendgroup": "Puducherry",
           "lon": {
            "bdata": "w9MrZRniJ0A=",
            "dtype": "f8"
           },
           "marker": {
            "color": "#B6E880",
            "size": {
             "bdata": "cT0K16PwLkA=",
             "dtype": "f8"
            },
            "sizemode": "area",
            "sizeref": 0.189625,
            "symbol": "circle"
           },
           "mode": "markers",
           "name": "Puducherry",
           "showlegend": true,
           "type": "scattergeo"
          },
          {
           "geo": "geo",
           "hovertemplate": "<b>%{hovertext}</b><br><br>state=Punjab<br>month=Jul<br>estimated unemployment rate=%{marker.size}<br>latitude=%{lat}<br>longitude=%{lon}<extra></extra>",
           "hovertext": [
            "Punjab"
           ],
           "lat": {
            "bdata": "S1mGONbVUkA=",
            "dtype": "f8"
           },
           "legendgroup": "Punjab",
           "lon": {
            "bdata": "2T15WKglP0A=",
            "dtype": "f8"
           },
           "marker": {
            "color": "#FF97FF",
            "size": {
             "bdata": "4XoUrkdhIkA=",
             "dtype": "f8"
            },
            "sizemode": "area",
            "sizeref": 0.189625,
            "symbol": "circle"
           },
           "mode": "markers",
           "name": "Punjab",
           "showlegend": true,
           "type": "scattergeo"
          },
          {
           "geo": "geo",
           "hovertemplate": "<b>%{hovertext}</b><br><br>state=Rajasthan<br>month=Jul<br>estimated unemployment rate=%{marker.size}<br>latitude=%{lat}<br>longitude=%{lon}<extra></extra>",
           "hovertext": [
            "Rajasthan"
           ],
           "lat": {
            "bdata": "GXPXEvKNUkA=",
            "dtype": "f8"
           },
           "legendgroup": "Rajasthan",
           "lon": {
            "bdata": "EqW9wRcGO0A=",
            "dtype": "f8"
           },
           "marker": {
            "color": "#FECB52",
            "size": {
             "bdata": "H4XrUbieL0A=",
             "dtype": "f8"
            },
            "sizemode": "area",
            "sizeref": 0.189625,
            "symbol": "circle"
           },
           "mode": "markers",
           "name": "Rajasthan",
           "showlegend": true,
           "type": "scattergeo"
          },
          {
           "geo": "geo",
           "hovertemplate": "<b>%{hovertext}</b><br><br>state=Sikkim<br>month=Jul<br>estimated unemployment rate=%{marker.size}<br>latitude=%{lat}<br>longitude=%{lon}<extra></extra>",
           "hovertext": [
            "Sikkim"
           ],
           "lat": {
            "bdata": "uECC4scgVkA=",
            "dtype": "f8"
           },
           "legendgroup": "Sikkim",
           "lon": {
            "bdata": "nMQgsHKIO0A=",
            "dtype": "f8"
           },
           "marker": {
            "color": "#636efa",
            "size": {
             "bdata": "zczMzMzMEUA=",
             "dtype": "f8"
            },
            "sizemode": "area",
            "sizeref": 0.189625,
            "symbol": "circle"
           },
           "mode": "markers",
           "name": "Sikkim",
           "showlegend": true,
           "type": "scattergeo"
          },
          {
           "geo": "geo",
           "hovertemplate": "<b>%{hovertext}</b><br><br>state=Tamil Nadu<br>month=Jul<br>estimated unemployment rate=%{marker.size}<br>latitude=%{lat}<br>longitude=%{lon}<extra></extra>",
           "hovertext": [
            "Tamil Nadu"
           ],
           "lat": {
            "bdata": "gy9MpgqqU0A=",
            "dtype": "f8"
           },
           "legendgroup": "Tamil Nadu",
           "lon": {
            "bdata": "qaROQBNBJkA=",
            "dtype": "f8"
           },
           "marker": {
            "color": "#EF553B",
            "size": {
             "bdata": "PQrXo3A9G0A=",
             "dtype": "f8"
            },
            "sizemode": "area",
            "sizeref": 0.189625,
            "symbol": "circle"
           },
           "mode": "markers",
           "name": "Tamil Nadu",
           "showlegend": true,
           "type": "scattergeo"
          },
          {
           "geo": "geo",
           "hovertemplate": "<b>%{hovertext}</b><br><br>state=Telangana<br>month=Jul<br>estimated unemployment rate=%{marker.size}<br>latitude=%{lat}<br>longitude=%{lon}<extra></extra>",
           "hovertext": [
            "Telangana"
           ],
           "lat": {
            "bdata": "BTQRNjzBU0A=",
            "dtype": "f8"
           },
           "legendgroup": "Telangana",
           "lon": {
            "bdata": "BhIUP8YcMkA=",
            "dtype": "f8"
           },
           "marker": {
            "color": "#00cc96",
            "size": {
             "bdata": "cT0K16NwFUA=",
             "dtype": "f8"
            },
            "sizemode": "area",
            "sizeref": 0.189625,
            "symbol": "circle"
           },
           "mode": "markers",
           "name": "Telangana",
           "showlegend": true,
           "type": "scattergeo"
          },
          {
           "geo": "geo",
           "hovertemplate": "<b>%{hovertext}</b><br><br>state=Tripura<br>month=Jul<br>estimated unemployment rate=%{marker.size}<br>latitude=%{lat}<br>longitude=%{lon}<extra></extra>",
           "hovertext": [
            "Tripura"
           ],
           "lat": {
            "bdata": "EHo2qz7/VkA=",
            "dtype": "f8"
           },
           "legendgroup": "Tripura",
           "lon": {
            "bdata": "qRPQRNjwN0A=",
            "dtype": "f8"
           },
           "marker": {
            "color": "#ab63fa",
            "size": {
             "bdata": "PQrXo3A9MkA=",
             "dtype": "f8"
            },
            "sizemode": "area",
            "sizeref": 0.189625,
            "symbol": "circle"
           },
           "mode": "markers",
           "name": "Tripura",
           "showlegend": true,
           "type": "scattergeo"
          },
          {
           "geo": "geo",
           "hovertemplate": "<b>%{hovertext}</b><br><br>state=Uttar Pradesh<br>month=Jul<br>estimated unemployment rate=%{marker.size}<br>latitude=%{lat}<br>longitude=%{lon}<extra></extra>",
           "hovertext": [
            "Uttar Pradesh"
           ],
           "lat": {
            "bdata": "at5xio48VEA=",
            "dtype": "f8"
           },
           "legendgroup": "Uttar Pradesh",
           "lon": {
            "bdata": "8IXJVMHYOkA=",
            "dtype": "f8"
           },
           "marker": {
            "color": "#FFA15A",
            "size": {
             "bdata": "PQrXo3A9FkA=",
             "dtype": "f8"
            },
            "sizemode": "area",
            "sizeref": 0.189625,
            "symbol": "circle"
           },
           "mode": "markers",
           "name": "Uttar Pradesh",
           "showlegend": true,
           "type": "scattergeo"
          },
          {
           "geo": "geo",
           "hovertemplate": "<b>%{hovertext}</b><br><br>state=Uttarakhand<br>month=Jul<br>estimated unemployment rate=%{marker.size}<br>latitude=%{lat}<br>longitude=%{lon}<extra></extra>",
           "hovertext": [
            "Uttarakhand"
           ],
           "lat": {
            "bdata": "BTQRNjzBU0A=",
            "dtype": "f8"
           },
           "legendgroup": "Uttarakhand",
           "lon": {
            "bdata": "cF8HzhkRPkA=",
            "dtype": "f8"
           },
           "marker": {
            "color": "#19d3f3",
            "size": {
             "bdata": "w/UoXI/CKEA=",
             "dtype": "f8"
            },
            "sizemode": "area",
            "sizeref": 0.189625,
            "symbol": "circle"
           },
           "mode": "markers",
           "name": "Uttarakhand",
           "showlegend": true,
           "type": "scattergeo"
          },
          {
           "geo": "geo",
           "hovertemplate": "<b>%{hovertext}</b><br><br>state=West Bengal<br>month=Jul<br>estimated unemployment rate=%{marker.size}<br>latitude=%{lat}<br>longitude=%{lon}<extra></extra>",
           "hovertext": [
            "West Bengal"
           ],
           "lat": {
            "bdata": "H4XrUbj2VUA=",
            "dtype": "f8"
           },
           "legendgroup": "West Bengal",
           "lon": {
            "bdata": "W7G/7J78NkA=",
            "dtype": "f8"
           },
           "marker": {
            "color": "#FF6692",
            "size": {
             "bdata": "UrgehetRG0A=",
             "dtype": "f8"
            },
            "sizemode": "area",
            "sizeref": 0.189625,
            "symbol": "circle"
           },
           "mode": "markers",
           "name": "West Bengal",
           "showlegend": true,
           "type": "scattergeo"
          }
         ],
         "name": "Jul"
        },
        {
         "data": [
          {
           "geo": "geo",
           "hovertemplate": "<b>%{hovertext}</b><br><br>state=Andhra Pradesh<br>month=Aug<br>estimated unemployment rate=%{marker.size}<br>latitude=%{lat}<br>longitude=%{lon}<extra></extra>",
           "hovertext": [
            "Andhra Pradesh"
           ],
           "lat": {
            "bdata": "j8L1KFzvU0A=",
            "dtype": "f8"
           },
           "legendgroup": "Andhra Pradesh",
           "lon": {
            "bdata": "bAn5oGfTL0A=",
            "dtype": "f8"
           },
           "marker": {
            "color": "#636efa",
            "size": {
             "bdata": "16NwPQrXG0A=",
             "dtype": "f8"
            },
            "sizemode": "area",
            "sizeref": 0.189625,
            "symbol": "circle"
           },
           "mode": "markers",
           "name": "Andhra Pradesh",
           "showlegend": true,
           "type": "scattergeo"
          },
          {
           "geo": "geo",
           "hovertemplate": "<b>%{hovertext}</b><br><br>state=Assam<br>month=Aug<br>estimated unemployment rate=%{marker.size}<br>latitude=%{lat}<br>longitude=%{lon}<extra></extra>",
           "hovertext": [
            "Assam"
           ],
           "lat": {
            "bdata": "si5uowE8V0A=",
            "dtype": "f8"
           },
           "legendgroup": "Assam",
           "lon": {
            "bdata": "3pOHhVozOkA=",
            "dtype": "f8"
           },
           "marker": {
            "color": "#EF553B",
            "size": {
             "bdata": "H4XrUbgeFkA=",
             "dtype": "f8"
            },
            "sizemode": "area",
            "sizeref": 0.189625,
            "symbol": "circle"
           },
           "mode": "markers",
           "name": "Assam",
           "showlegend": true,
           "type": "scattergeo"
          },
          {
           "geo": "geo",
           "hovertemplate": "<b>%{hovertext}</b><br><br>state=Bihar<br>month=Aug<br>estimated unemployment rate=%{marker.size}<br>latitude=%{lat}<br>longitude=%{lon}<extra></extra>",
           "hovertext": [
            "Bihar"
           ],
           "lat": {
            "bdata": "KxiV1AlUVUA=",
            "dtype": "f8"
           },
           "legendgroup": "Bihar",
           "lon": {
            "bdata": "RiV1ApoYOUA=",
            "dtype": "f8"
           },
           "marker": {
            "color": "#00cc96",
            "size": {
             "bdata": "4XoUrkfhKkA=",
             "dtype": "f8"
            },
            "sizemode": "area",
            "sizeref": 0.189625,
            "symbol": "circle"
           },
           "mode": "markers",
           "name": "Bihar",
           "showlegend": true,
           "type": "scattergeo"
          },
          {
           "geo": "geo",
           "hovertemplate": "<b>%{hovertext}</b><br><br>state=Chhattisgarh<br>month=Aug<br>estimated unemployment rate=%{marker.size}<br>latitude=%{lat}<br>longitude=%{lon}<extra></extra>",
           "hovertext": [
            "Chhattisgarh"
           ],
           "lat": {
            "bdata": "M8SxLm53VEA=",
            "dtype": "f8"
           },
           "legendgroup": "Chhattisgarh",
           "lon": {
            "bdata": "LGUZ4lhHNUA=",
            "dtype": "f8"
           },
           "marker": {
            "color": "#ab63fa",
            "size": {
             "bdata": "hetRuB6FFkA=",
             "dtype": "f8"
            },
            "sizemode": "area",
            "sizeref": 0.189625,
            "symbol": "circle"
           },
           "mode": "markers",
           "name": "Chhattisgarh",
           "showlegend": true,
           "type": "scattergeo"
          },
          {
           "geo": "geo",
           "hovertemplate": "<b>%{hovertext}</b><br><br>state=Delhi<br>month=Aug<br>estimated unemployment rate=%{marker.size}<br>latitude=%{lat}<br>longitude=%{lon}<extra></extra>",
           "hovertext": [
            "Delhi"
           ],
           "lat": {
            "bdata": "w/UoXI9GU0A=",
            "dtype": "f8"
           },
           "legendgroup": "Delhi",
           "lon": {
            "bdata": "FR3J5T+0PEA=",
            "dtype": "f8"
           },
           "marker": {
            "color": "#FFA15A",
            "size": {
             "bdata": "FK5H4XqUK0A=",
             "dtype": "f8"
            },
            "sizemode": "area",
            "sizeref": 0.189625,
            "symbol": "circle"
           },
           "mode": "markers",
           "name": "Delhi",
           "showlegend": true,
           "type": "scattergeo"
          },
          {
           "geo": "geo",
           "hovertemplate": "<b>%{hovertext}</b><br><br>state=Goa<br>month=Aug<br>estimated unemployment rate=%{marker.size}<br>latitude=%{lat}<br>longitude=%{lon}<extra></extra>",
           "hovertext": [
            "Goa"
           ],
           "lat": {
            "bdata": "Di2yne+HUkA=",
            "dtype": "f8"
           },
           "legendgroup": "Goa",
           "lon": {
            "bdata": "t2J/2T2ZLkA=",
            "dtype": "f8"
           },
           "marker": {
            "color": "#19d3f3",
            "size": {
             "bdata": "9ihcj8I1MEA=",
             "dtype": "f8"
            },
            "sizemode": "area",
            "sizeref": 0.189625,
            "symbol": "circle"
           },
           "mode": "markers",
           "name": "Goa",
           "showlegend": true,
           "type": "scattergeo"
          },
          {
           "geo": "geo",
           "hovertemplate": "<b>%{hovertext}</b><br><br>state=Gujarat<br>month=Aug<br>estimated unemployment rate=%{marker.size}<br>latitude=%{lat}<br>longitude=%{lon}<extra></extra>",
           "hovertext": [
            "Gujarat"
           ],
           "lat": {
            "bdata": "B/AWSFDMUUA=",
            "dtype": "f8"
           },
           "legendgroup": "Gujarat",
           "lon": {
            "bdata": "p3nHKTpCNkA=",
            "dtype": "f8"
           },
           "marker": {
            "color": "#FF6692",
            "size": {
             "bdata": "7FG4HoXr/T8=",
             "dtype": "f8"
            },
            "sizemode": "area",
            "sizeref": 0.189625,
            "symbol": "circle"
           },
           "mode": "markers",
           "name": "Gujarat",
           "showlegend": true,
           "type": "scattergeo"
          },
          {
           "geo": "geo",
           "hovertemplate": "<b>%{hovertext}</b><br><br>state=Haryana<br>month=Aug<br>estimated unemployment rate=%{marker.size}<br>latitude=%{lat}<br>longitude=%{lon}<extra></extra>",
           "hovertext": [
            "Haryana"
           ],
           "lat": {
            "bdata": "aCJseHoFU0A=",
            "dtype": "f8"
           },
           "legendgroup": "Haryana",
           "lon": {
            "bdata": "OwFNhA0PPUA=",
            "dtype": "f8"
           },
           "marker": {
            "color": "#B6E880",
            "size": {
             "bdata": "AAAAAADAQEA=",
             "dtype": "f8"
            },
            "sizemode": "area",
            "sizeref": 0.189625,
            "symbol": "circle"
           },
           "mode": "markers",
           "name": "Haryana",
           "showlegend": true,
           "type": "scattergeo"
          },
          {
           "geo": "geo",
           "hovertemplate": "<b>%{hovertext}</b><br><br>state=Himachal Pradesh<br>month=Aug<br>estimated unemployment rate=%{marker.size}<br>latitude=%{lat}<br>longitude=%{lon}<extra></extra>",
           "hovertext": [
            "Himachal Pradesh"
           ],
           "lat": {
            "bdata": "F0hQ/BhLU0A=",
            "dtype": "f8"
           },
           "legendgroup": "Himachal Pradesh",
           "lon": {
            "bdata": "7Z48LNQaP0A=",
            "dtype": "f8"
           },
           "marker": {
            "color": "#FF97FF",
            "size": {
             "bdata": "FK5H4XqUL0A=",
             "dtype": "f8"
            },
            "sizemode": "area",
            "sizeref": 0.189625,
            "symbol": "circle"
           },
           "mode": "markers",
           "name": "Himachal Pradesh",
           "showlegend": true,
           "type": "scattergeo"
          },
          {
           "geo": "geo",
           "hovertemplate": "<b>%{hovertext}</b><br><br>state=Jammu & Kashmir<br>month=Aug<br>estimated unemployment rate=%{marker.size}<br>latitude=%{lat}<br>longitude=%{lon}<extra></extra>",
           "hovertext": [
            "Jammu & Kashmir"
           ],
           "lat": {
            "bdata": "Iv32deAkU0A=",
            "dtype": "f8"
           },
           "legendgroup": "Jammu & Kashmir",
           "lon": {
            "bdata": "pN++DpzjQEA=",
            "dtype": "f8"
           },
           "marker": {
            "color": "#FECB52",
            "size": {
             "bdata": "rkfhehQuJkA=",
             "dtype": "f8"
            },
            "sizemode": "area",
            "sizeref": 0.189625,
            "symbol": "circle"
           },
           "mode": "markers",
           "name": "Jammu & Kashmir",
           "showlegend": true,
           "type": "scattergeo"
          },
          {
           "geo": "geo",
           "hovertemplate": "<b>%{hovertext}</b><br><br>state=Jharkhand<br>month=Aug<br>estimated unemployment rate=%{marker.size}<br>latitude=%{lat}<br>longitude=%{lon}<extra></extra>",
           "hovertext": [
            "Jharkhand"
           ],
           "lat": {
            "bdata": "oImw4elRVUA=",
            "dtype": "f8"
           },
           "legendgroup": "Jharkhand",
           "lon": {
            "bdata": "6gQ0ETacN0A=",
            "dtype": "f8"
           },
           "marker": {
            "color": "#636efa",
            "size": {
             "bdata": "hetRuB6FI0A=",
             "dtype": "f8"
            },
            "sizemode": "area",
            "sizeref": 0.189625,
            "symbol": "circle"
           },
           "mode": "markers",
           "name": "Jharkhand",
           "showlegend": true,
           "type": "scattergeo"
          },
          {
           "geo": "geo",
           "hovertemplate": "<b>%{hovertext}</b><br><br>state=Karnataka<br>month=Aug<br>estimated unemployment rate=%{marker.size}<br>latitude=%{lat}<br>longitude=%{lon}<extra></extra>",
           "hovertext": [
            "Karnataka"
           ],
           "lat": {
            "bdata": "UiegibDtUkA=",
            "dtype": "f8"
           },
           "legendgroup": "Karnataka",
           "lon": {
            "bdata": "pgpGJXWiLkA=",
            "dtype": "f8"
           },
           "marker": {
            "color": "#EF553B",
            "size": {
             "bdata": "AAAAAAAA4D8=",
             "dtype": "f8"
            },
            "sizemode": "area",
            "sizeref": 0.189625,
            "symbol": "circle"
           },
           "mode": "markers",
           "name": "Karnataka",
           "showlegend": true,
           "type": "scattergeo"
          },
          {
           "geo": "geo",
           "hovertemplate": "<b>%{hovertext}</b><br><br>state=Kerala<br>month=Aug<br>estimated unemployment rate=%{marker.size}<br>latitude=%{lat}<br>longitude=%{lon}<extra></extra>",
           "hovertext": [
            "Kerala"
           ],
           "lat": {
            "bdata": "hXzQs1kRU0A=",
            "dtype": "f8"
           },
           "legendgroup": "Kerala",
           "lon": {
            "bdata": "+n5qvHSzJUA=",
            "dtype": "f8"
           },
           "marker": {
            "color": "#00cc96",
            "size": {
             "bdata": "9ihcj8L1JUA=",
             "dtype": "f8"
            },
            "sizemode": "area",
            "sizeref": 0.189625,
            "symbol": "circle"
           },
           "mode": "markers",
           "name": "Kerala",
           "showlegend": true,
           "type": "scattergeo"
          },
          {
           "geo": "geo",
           "hovertemplate": "<b>%{hovertext}</b><br><br>state=Madhya Pradesh<br>month=Aug<br>estimated unemployment rate=%{marker.size}<br>latitude=%{lat}<br>longitude=%{lon}<extra></extra>",
           "hovertext": [
            "Madhya Pradesh"
           ],
           "lat": {
            "bdata": "gy9MpgqqU0A=",
            "dtype": "f8"
           },
           "legendgroup": "Madhya Pradesh",
           "lon": {
            "bdata": "Ke0NvjD5NkA=",
            "dtype": "f8"
           },
           "marker": {
            "color": "#ab63fa",
            "size": {
             "bdata": "zczMzMzMEkA=",
             "dtype": "f8"
            },
            "sizemode": "area",
            "sizeref": 0.189625,
            "symbol": "circle"
           },
           "mode": "markers",
           "name": "Madhya Pradesh",
           "showlegend": true,
           "type": "scattergeo"
          },
          {
           "geo": "geo",
           "hovertemplate": "<b>%{hovertext}</b><br><br>state=Maharashtra<br>month=Aug<br>estimated unemployment rate=%{marker.size}<br>latitude=%{lat}<br>longitude=%{lon}<extra></extra>",
           "hovertext": [
            "Maharashtra"
           ],
           "lat": {
            "bdata": "UiegibDtUkA=",
            "dtype": "f8"
           },
           "legendgroup": "Maharashtra",
           "lon": {
            "bdata": "qvHSTWLAM0A=",
            "dtype": "f8"
           },
           "marker": {
            "color": "#FFA15A",
            "size": {
             "bdata": "7FG4HoXrGEA=",
             "dtype": "f8"
            },
            "sizemode": "area",
            "sizeref": 0.189625,
            "symbol": "circle"
           },
           "mode": "markers",
           "name": "Maharashtra",
           "showlegend": true,
           "type": "scattergeo"
          },
          {
           "geo": "geo",
           "hovertemplate": "<b>%{hovertext}</b><br><br>state=Meghalaya<br>month=Aug<br>estimated unemployment rate=%{marker.size}<br>latitude=%{lat}<br>longitude=%{lon}<extra></extra>",
           "hovertext": [
            "Meghalaya"
           ],
           "lat": {
            "bdata": "5fIf0m/XVkA=",
            "dtype": "f8"
           },
           "legendgroup": "Meghalaya",
           "lon": {
            "bdata": "ZDvfT413OUA=",
            "dtype": "f8"
           },
           "marker": {
            "color": "#19d3f3",
            "size": {
             "bdata": "7FG4HoXrDUA=",
             "dtype": "f8"
            },
            "sizemode": "area",
            "sizeref": 0.189625,
            "symbol": "circle"
           },
           "mode": "markers",
           "name": "Meghalaya",
           "showlegend": true,
           "type": "scattergeo"
          },
          {
           "geo": "geo",
           "hovertemplate": "<b>%{hovertext}</b><br><br>state=Odisha<br>month=Aug<br>estimated unemployment rate=%{marker.size}<br>latitude=%{lat}<br>longitude=%{lon}<extra></extra>",
           "hovertext": [
            "Odisha"
           ],
           "lat": {
            "bdata": "/Knx0k1GVUA=",
            "dtype": "f8"
           },
           "legendgroup": "Odisha",
           "lon": {
            "bdata": "a5p3nKLzNEA=",
            "dtype": "f8"
           },
           "marker": {
            "color": "#FF6692",
            "size": {
             "bdata": "uB6F61G49j8=",
             "dtype": "f8"
            },
            "sizemode": "area",
            "sizeref": 0.189625,
            "symbol": "circle"
           },
           "mode": "markers",
           "name": "Odisha",
           "showlegend": true,
           "type": "scattergeo"
          },
          {
           "geo": "geo",
           "hovertemplate": "<b>%{hovertext}</b><br><br>state=Puducherry<br>month=Aug<br>estimated unemployment rate=%{marker.size}<br>latitude=%{lat}<br>longitude=%{lon}<extra></extra>",
           "hovertext": [
            "Puducherry"
           ],
           "lat": {
            "bdata": "1lbsL7vzU0A=",
            "dtype": "f8"
           },
           "legendgroup": "Puducherry",
           "lon": {
            "bdata": "w9MrZRniJ0A=",
            "dtype": "f8"
           },
           "marker": {
            "color": "#B6E880",
            "size": {
             "bdata": "MzMzMzMzFEA=",
             "dtype": "f8"
            },
            "sizemode": "area",
            "sizeref": 0.189625,
            "symbol": "circle"
           },
           "mode": "markers",
           "name": "Puducherry",
           "showlegend": true,
           "type": "scattergeo"
          },
          {
           "geo": "geo",
           "hovertemplate": "<b>%{hovertext}</b><br><br>state=Punjab<br>month=Aug<br>estimated unemployment rate=%{marker.size}<br>latitude=%{lat}<br>longitude=%{lon}<extra></extra>",
           "hovertext": [
            "Punjab"
           ],
           "lat": {
            "bdata": "S1mGONbVUkA=",
            "dtype": "f8"
           },
           "legendgroup": "Punjab",
           "lon": {
            "bdata": "2T15WKglP0A=",
            "dtype": "f8"
           },
           "marker": {
            "color": "#FF97FF",
            "size": {
             "bdata": "exSuR+H6JUA=",
             "dtype": "f8"
            },
            "sizemode": "area",
            "sizeref": 0.189625,
            "symbol": "circle"
           },
           "mode": "markers",
           "name": "Punjab",
           "showlegend": true,
           "type": "scattergeo"
          },
          {
           "geo": "geo",
           "hovertemplate": "<b>%{hovertext}</b><br><br>state=Rajasthan<br>month=Aug<br>estimated unemployment rate=%{marker.size}<br>latitude=%{lat}<br>longitude=%{lon}<extra></extra>",
           "hovertext": [
            "Rajasthan"
           ],
           "lat": {
            "bdata": "GXPXEvKNUkA=",
            "dtype": "f8"
           },
           "legendgroup": "Rajasthan",
           "lon": {
            "bdata": "EqW9wRcGO0A=",
            "dtype": "f8"
           },
           "marker": {
            "color": "#FECB52",
            "size": {
             "bdata": "w/UoXI+CMUA=",
             "dtype": "f8"
            },
            "sizemode": "area",
            "sizeref": 0.189625,
            "symbol": "circle"
           },
           "mode": "markers",
           "name": "Rajasthan",
           "showlegend": true,
           "type": "scattergeo"
          },
          {
           "geo": "geo",
           "hovertemplate": "<b>%{hovertext}</b><br><br>state=Sikkim<br>month=Aug<br>estimated unemployment rate=%{marker.size}<br>latitude=%{lat}<br>longitude=%{lon}<extra></extra>",
           "hovertext": [
            "Sikkim"
           ],
           "lat": {
            "bdata": "uECC4scgVkA=",
            "dtype": "f8"
           },
           "legendgroup": "Sikkim",
           "lon": {
            "bdata": "nMQgsHKIO0A=",
            "dtype": "f8"
           },
           "marker": {
            "color": "#636efa",
            "size": {
             "bdata": "exSuR+H6KEA=",
             "dtype": "f8"
            },
            "sizemode": "area",
            "sizeref": 0.189625,
            "symbol": "circle"
           },
           "mode": "markers",
           "name": "Sikkim",
           "showlegend": true,
           "type": "scattergeo"
          },
          {
           "geo": "geo",
           "hovertemplate": "<b>%{hovertext}</b><br><br>state=Tamil Nadu<br>month=Aug<br>estimated unemployment rate=%{marker.size}<br>latitude=%{lat}<br>longitude=%{lon}<extra></extra>",
           "hovertext": [
            "Tamil Nadu"
           ],
           "lat": {
            "bdata": "gy9MpgqqU0A=",
            "dtype": "f8"
           },
           "legendgroup": "Tamil Nadu",
           "lon": {
            "bdata": "qaROQBNBJkA=",
            "dtype": "f8"
           },
           "marker": {
            "color": "#EF553B",
            "size": {
             "bdata": "MzMzMzMzBUA=",
             "dtype": "f8"
            },
            "sizemode": "area",
            "sizeref": 0.189625,
            "symbol": "circle"
           },
           "mode": "markers",
           "name": "Tamil Nadu",
           "showlegend": true,
           "type": "scattergeo"
          },
          {
           "geo": "geo",
           "hovertemplate": "<b>%{hovertext}</b><br><br>state=Telangana<br>month=Aug<br>estimated unemployment rate=%{marker.size}<br>latitude=%{lat}<br>longitude=%{lon}<extra></extra>",
           "hovertext": [
            "Telangana"
           ],
           "lat": {
            "bdata": "BTQRNjzBU0A=",
            "dtype": "f8"
           },
           "legendgroup": "Telangana",
           "lon": {
            "bdata": "BhIUP8YcMkA=",
            "dtype": "f8"
           },
           "marker": {
            "color": "#00cc96",
            "size": {
             "bdata": "KVyPwvUoF0A=",
             "dtype": "f8"
            },
            "sizemode": "area",
            "sizeref": 0.189625,
            "symbol": "circle"
           },
           "mode": "markers",
           "name": "Telangana",
           "showlegend": true,
           "type": "scattergeo"
          },
          {
           "geo": "geo",
           "hovertemplate": "<b>%{hovertext}</b><br><br>state=Tripura<br>month=Aug<br>estimated unemployment rate=%{marker.size}<br>latitude=%{lat}<br>longitude=%{lon}<extra></extra>",
           "hovertext": [
            "Tripura"
           ],
           "lat": {
            "bdata": "EHo2qz7/VkA=",
            "dtype": "f8"
           },
           "legendgroup": "Tripura",
           "lon": {
            "bdata": "qRPQRNjwN0A=",
            "dtype": "f8"
           },
           "marker": {
            "color": "#ab63fa",
            "size": {
             "bdata": "7FG4HoXrO0A=",
             "dtype": "f8"
            },
            "sizemode": "area",
            "sizeref": 0.189625,
            "symbol": "circle"
           },
           "mode": "markers",
           "name": "Tripura",
           "showlegend": true,
           "type": "scattergeo"
          },
          {
           "geo": "geo",
           "hovertemplate": "<b>%{hovertext}</b><br><br>state=Uttar Pradesh<br>month=Aug<br>estimated unemployment rate=%{marker.size}<br>latitude=%{lat}<br>longitude=%{lon}<extra></extra>",
           "hovertext": [
            "Uttar Pradesh"
           ],
           "lat": {
            "bdata": "at5xio48VEA=",
            "dtype": "f8"
           },
           "legendgroup": "Uttar Pradesh",
           "lon": {
            "bdata": "8IXJVMHYOkA=",
            "dtype": "f8"
           },
           "marker": {
            "color": "#FFA15A",
            "size": {
             "bdata": "KVyPwvUoF0A=",
             "dtype": "f8"
            },
            "sizemode": "area",
            "sizeref": 0.189625,
            "symbol": "circle"
           },
           "mode": "markers",
           "name": "Uttar Pradesh",
           "showlegend": true,
           "type": "scattergeo"
          },
          {
           "geo": "geo",
           "hovertemplate": "<b>%{hovertext}</b><br><br>state=Uttarakhand<br>month=Aug<br>estimated unemployment rate=%{marker.size}<br>latitude=%{lat}<br>longitude=%{lon}<extra></extra>",
           "hovertext": [
            "Uttarakhand"
           ],
           "lat": {
            "bdata": "BTQRNjzBU0A=",
            "dtype": "f8"
           },
           "legendgroup": "Uttarakhand",
           "lon": {
            "bdata": "cF8HzhkRPkA=",
            "dtype": "f8"
           },
           "marker": {
            "color": "#19d3f3",
            "size": {
             "bdata": "hetRuB6FLEA=",
             "dtype": "f8"
            },
            "sizemode": "area",
            "sizeref": 0.189625,
            "symbol": "circle"
           },
           "mode": "markers",
           "name": "Uttarakhand",
           "showlegend": true,
           "type": "scattergeo"
          },
          {
           "geo": "geo",
           "hovertemplate": "<b>%{hovertext}</b><br><br>state=West Bengal<br>month=Aug<br>estimated unemployment rate=%{marker.size}<br>latitude=%{lat}<br>longitude=%{lon}<extra></extra>",
           "hovertext": [
            "West Bengal"
           ],
           "lat": {
            "bdata": "H4XrUbj2VUA=",
            "dtype": "f8"
           },
           "legendgroup": "West Bengal",
           "lon": {
            "bdata": "W7G/7J78NkA=",
            "dtype": "f8"
           },
           "marker": {
            "color": "#FF6692",
            "size": {
             "bdata": "PQrXo3C9LUA=",
             "dtype": "f8"
            },
            "sizemode": "area",
            "sizeref": 0.189625,
            "symbol": "circle"
           },
           "mode": "markers",
           "name": "West Bengal",
           "showlegend": true,
           "type": "scattergeo"
          }
         ],
         "name": "Aug"
        },
        {
         "data": [
          {
           "geo": "geo",
           "hovertemplate": "<b>%{hovertext}</b><br><br>state=Andhra Pradesh<br>month=Sep<br>estimated unemployment rate=%{marker.size}<br>latitude=%{lat}<br>longitude=%{lon}<extra></extra>",
           "hovertext": [
            "Andhra Pradesh"
           ],
           "lat": {
            "bdata": "j8L1KFzvU0A=",
            "dtype": "f8"
           },
           "legendgroup": "Andhra Pradesh",
           "lon": {
            "bdata": "bAn5oGfTL0A=",
            "dtype": "f8"
           },
           "marker": {
            "color": "#636efa",
            "size": {
             "bdata": "mpmZmZmZGUA=",
             "dtype": "f8"
            },
            "sizemode": "area",
            "sizeref": 0.189625,
            "symbol": "circle"
           },
           "mode": "markers",
           "name": "Andhra Pradesh",
           "showlegend": true,
           "type": "scattergeo"
          },
          {
           "geo": "geo",
           "hovertemplate": "<b>%{hovertext}</b><br><br>state=Assam<br>month=Sep<br>estimated unemployment rate=%{marker.size}<br>latitude=%{lat}<br>longitude=%{lon}<extra></extra>",
           "hovertext": [
            "Assam"
           ],
           "lat": {
            "bdata": "si5uowE8V0A=",
            "dtype": "f8"
           },
           "legendgroup": "Assam",
           "lon": {
            "bdata": "3pOHhVozOkA=",
            "dtype": "f8"
           },
           "marker": {
            "color": "#EF553B",
            "size": {
             "bdata": "CtejcD0K8z8=",
             "dtype": "f8"
            },
            "sizemode": "area",
            "sizeref": 0.189625,
            "symbol": "circle"
           },
           "mode": "markers",
           "name": "Assam",
           "showlegend": true,
           "type": "scattergeo"
          },
          {
           "geo": "geo",
           "hovertemplate": "<b>%{hovertext}</b><br><br>state=Bihar<br>month=Sep<br>estimated unemployment rate=%{marker.size}<br>latitude=%{lat}<br>longitude=%{lon}<extra></extra>",
           "hovertext": [
            "Bihar"
           ],
           "lat": {
            "bdata": "KxiV1AlUVUA=",
            "dtype": "f8"
           },
           "legendgroup": "Bihar",
           "lon": {
            "bdata": "RiV1ApoYOUA=",
            "dtype": "f8"
           },
           "marker": {
            "color": "#00cc96",
            "size": {
             "bdata": "UrgehevRJ0A=",
             "dtype": "f8"
            },
            "sizemode": "area",
            "sizeref": 0.189625,
            "symbol": "circle"
           },
           "mode": "markers",
           "name": "Bihar",
           "showlegend": true,
           "type": "scattergeo"
          },
          {
           "geo": "geo",
           "hovertemplate": "<b>%{hovertext}</b><br><br>state=Chhattisgarh<br>month=Sep<br>estimated unemployment rate=%{marker.size}<br>latitude=%{lat}<br>longitude=%{lon}<extra></extra>",
           "hovertext": [
            "Chhattisgarh"
           ],
           "lat": {
            "bdata": "M8SxLm53VEA=",
            "dtype": "f8"
           },
           "legendgroup": "Chhattisgarh",
           "lon": {
            "bdata": "LGUZ4lhHNUA=",
            "dtype": "f8"
           },
           "marker": {
            "color": "#ab63fa",
            "size": {
             "bdata": "XI/C9Shc/z8=",
             "dtype": "f8"
            },
            "sizemode": "area",
            "sizeref": 0.189625,
            "symbol": "circle"
           },
           "mode": "markers",
           "name": "Chhattisgarh",
           "showlegend": true,
           "type": "scattergeo"
          },
          {
           "geo": "geo",
           "hovertemplate": "<b>%{hovertext}</b><br><br>state=Delhi<br>month=Sep<br>estimated unemployment rate=%{marker.size}<br>latitude=%{lat}<br>longitude=%{lon}<extra></extra>",
           "hovertext": [
            "Delhi"
           ],
           "lat": {
            "bdata": "w/UoXI9GU0A=",
            "dtype": "f8"
           },
           "legendgroup": "Delhi",
           "lon": {
            "bdata": "FR3J5T+0PEA=",
            "dtype": "f8"
           },
           "marker": {
            "color": "#FFA15A",
            "size": {
             "bdata": "j8L1KFwPKUA=",
             "dtype": "f8"
            },
            "sizemode": "area",
            "sizeref": 0.189625,
            "symbol": "circle"
           },
           "mode": "markers",
           "name": "Delhi",
           "showlegend": true,
           "type": "scattergeo"
          },
          {
           "geo": "geo",
           "hovertemplate": "<b>%{hovertext}</b><br><br>state=Goa<br>month=Sep<br>estimated unemployment rate=%{marker.size}<br>latitude=%{lat}<br>longitude=%{lon}<extra></extra>",
           "hovertext": [
            "Goa"
           ],
           "lat": {
            "bdata": "Di2yne+HUkA=",
            "dtype": "f8"
           },
           "legendgroup": "Goa",
           "lon": {
            "bdata": "t2J/2T2ZLkA=",
            "dtype": "f8"
           },
           "marker": {
            "color": "#19d3f3",
            "size": {
             "bdata": "w/UoXI/CLkA=",
             "dtype": "f8"
            },
            "sizemode": "area",
            "sizeref": 0.189625,
            "symbol": "circle"
           },
           "mode": "markers",
           "name": "Goa",
           "showlegend": true,
           "type": "scattergeo"
          },
          {
           "geo": "geo",
           "hovertemplate": "<b>%{hovertext}</b><br><br>state=Gujarat<br>month=Sep<br>estimated unemployment rate=%{marker.size}<br>latitude=%{lat}<br>longitude=%{lon}<extra></extra>",
           "hovertext": [
            "Gujarat"
           ],
           "lat": {
            "bdata": "B/AWSFDMUUA=",
            "dtype": "f8"
           },
           "legendgroup": "Gujarat",
           "lon": {
            "bdata": "p3nHKTpCNkA=",
            "dtype": "f8"
           },
           "marker": {
            "color": "#FF6692",
            "size": {
             "bdata": "XI/C9ShcC0A=",
             "dtype": "f8"
            },
            "sizemode": "area",
            "sizeref": 0.189625,
            "symbol": "circle"
           },
           "mode": "markers",
           "name": "Gujarat",
           "showlegend": true,
           "type": "scattergeo"
          },
          {
           "geo": "geo",
           "hovertemplate": "<b>%{hovertext}</b><br><br>state=Haryana<br>month=Sep<br>estimated unemployment rate=%{marker.size}<br>latitude=%{lat}<br>longitude=%{lon}<extra></extra>",
           "hovertext": [
            "Haryana"
           ],
           "lat": {
            "bdata": "aCJseHoFU0A=",
            "dtype": "f8"
           },
           "legendgroup": "Haryana",
           "lon": {
            "bdata": "OwFNhA0PPUA=",
            "dtype": "f8"
           },
           "marker": {
            "color": "#B6E880",
            "size": {
             "bdata": "rkfhehSuM0A=",
             "dtype": "f8"
            },
            "sizemode": "area",
            "sizeref": 0.189625,
            "symbol": "circle"
           },
           "mode": "markers",
           "name": "Haryana",
           "showlegend": true,
           "type": "scattergeo"
          },
          {
           "geo": "geo",
           "hovertemplate": "<b>%{hovertext}</b><br><br>state=Himachal Pradesh<br>month=Sep<br>estimated unemployment rate=%{marker.size}<br>latitude=%{lat}<br>longitude=%{lon}<extra></extra>",
           "hovertext": [
            "Himachal Pradesh"
           ],
           "lat": {
            "bdata": "F0hQ/BhLU0A=",
            "dtype": "f8"
           },
           "legendgroup": "Himachal Pradesh",
           "lon": {
            "bdata": "7Z48LNQaP0A=",
            "dtype": "f8"
           },
           "marker": {
            "color": "#FF97FF",
            "size": {
             "bdata": "FK5H4XoUKEA=",
             "dtype": "f8"
            },
            "sizemode": "area",
            "sizeref": 0.189625,
            "symbol": "circle"
           },
           "mode": "markers",
           "name": "Himachal Pradesh",
           "showlegend": true,
           "type": "scattergeo"
          },
          {
           "geo": "geo",
           "hovertemplate": "<b>%{hovertext}</b><br><br>state=Jammu & Kashmir<br>month=Sep<br>estimated unemployment rate=%{marker.size}<br>latitude=%{lat}<br>longitude=%{lon}<extra></extra>",
           "hovertext": [
            "Jammu & Kashmir"
           ],
           "lat": {
            "bdata": "Iv32deAkU0A=",
            "dtype": "f8"
           },
           "legendgroup": "Jammu & Kashmir",
           "lon": {
            "bdata": "pN++DpzjQEA=",
            "dtype": "f8"
           },
           "marker": {
            "color": "#FECB52",
            "size": {
             "bdata": "7FG4HoUrMEA=",
             "dtype": "f8"
            },
            "sizemode": "area",
            "sizeref": 0.189625,
            "symbol": "circle"
           },
           "mode": "markers",
           "name": "Jammu & Kashmir",
           "showlegend": true,
           "type": "scattergeo"
          },
          {
           "geo": "geo",
           "hovertemplate": "<b>%{hovertext}</b><br><br>state=Jharkhand<br>month=Sep<br>estimated unemployment rate=%{marker.size}<br>latitude=%{lat}<br>longitude=%{lon}<extra></extra>",
           "hovertext": [
            "Jharkhand"
           ],
           "lat": {
            "bdata": "oImw4elRVUA=",
            "dtype": "f8"
           },
           "legendgroup": "Jharkhand",
           "lon": {
            "bdata": "6gQ0ETacN0A=",
            "dtype": "f8"
           },
           "marker": {
            "color": "#636efa",
            "size": {
             "bdata": "exSuR+F6IEA=",
             "dtype": "f8"
            },
            "sizemode": "area",
            "sizeref": 0.189625,
            "symbol": "circle"
           },
           "mode": "markers",
           "name": "Jharkhand",
           "showlegend": true,
           "type": "scattergeo"
          },
          {
           "geo": "geo",
           "hovertemplate": "<b>%{hovertext}</b><br><br>state=Karnataka<br>month=Sep<br>estimated unemployment rate=%{marker.size}<br>latitude=%{lat}<br>longitude=%{lon}<extra></extra>",
           "hovertext": [
            "Karnataka"
           ],
           "lat": {
            "bdata": "UiegibDtUkA=",
            "dtype": "f8"
           },
           "legendgroup": "Karnataka",
           "lon": {
            "bdata": "pgpGJXWiLkA=",
            "dtype": "f8"
           },
           "marker": {
            "color": "#EF553B",
            "size": {
             "bdata": "SOF6FK5HA0A=",
             "dtype": "f8"
            },
            "sizemode": "area",
            "sizeref": 0.189625,
            "symbol": "circle"
           },
           "mode": "markers",
           "name": "Karnataka",
           "showlegend": true,
           "type": "scattergeo"
          },
          {
           "geo": "geo",
           "hovertemplate": "<b>%{hovertext}</b><br><br>state=Kerala<br>month=Sep<br>estimated unemployment rate=%{marker.size}<br>latitude=%{lat}<br>longitude=%{lon}<extra></extra>",
           "hovertext": [
            "Kerala"
           ],
           "lat": {
            "bdata": "hXzQs1kRU0A=",
            "dtype": "f8"
           },
           "legendgroup": "Kerala",
           "lon": {
            "bdata": "+n5qvHSzJUA=",
            "dtype": "f8"
           },
           "marker": {
            "color": "#00cc96",
            "size": {
             "bdata": "pHA9CtejF0A=",
             "dtype": "f8"
            },
            "sizemode": "area",
            "sizeref": 0.189625,
            "symbol": "circle"
           },
           "mode": "markers",
           "name": "Kerala",
           "showlegend": true,
           "type": "scattergeo"
          },
          {
           "geo": "geo",
           "hovertemplate": "<b>%{hovertext}</b><br><br>state=Madhya Pradesh<br>month=Sep<br>estimated unemployment rate=%{marker.size}<br>latitude=%{lat}<br>longitude=%{lon}<extra></extra>",
           "hovertext": [
            "Madhya Pradesh"
           ],
           "lat": {
            "bdata": "gy9MpgqqU0A=",
            "dtype": "f8"
           },
           "legendgroup": "Madhya Pradesh",
           "lon": {
            "bdata": "Ke0NvjD5NkA=",
            "dtype": "f8"
           },
           "marker": {
            "color": "#ab63fa",
            "size": {
             "bdata": "SOF6FK5HD0A=",
             "dtype": "f8"
            },
            "sizemode": "area",
            "sizeref": 0.189625,
            "symbol": "circle"
           },
           "mode": "markers",
           "name": "Madhya Pradesh",
           "showlegend": true,
           "type": "scattergeo"
          },
          {
           "geo": "geo",
           "hovertemplate": "<b>%{hovertext}</b><br><br>state=Maharashtra<br>month=Sep<br>estimated unemployment rate=%{marker.size}<br>latitude=%{lat}<br>longitude=%{lon}<extra></extra>",
           "hovertext": [
            "Maharashtra"
           ],
           "lat": {
            "bdata": "UiegibDtUkA=",
            "dtype": "f8"
           },
           "legendgroup": "Maharashtra",
           "lon": {
            "bdata": "qvHSTWLAM0A=",
            "dtype": "f8"
           },
           "marker": {
            "color": "#FFA15A",
            "size": {
             "bdata": "MzMzMzMzEkA=",
             "dtype": "f8"
            },
            "sizemode": "area",
            "sizeref": 0.189625,
            "symbol": "circle"
           },
           "mode": "markers",
           "name": "Maharashtra",
           "showlegend": true,
           "type": "scattergeo"
          },
          {
           "geo": "geo",
           "hovertemplate": "<b>%{hovertext}</b><br><br>state=Meghalaya<br>month=Sep<br>estimated unemployment rate=%{marker.size}<br>latitude=%{lat}<br>longitude=%{lon}<extra></extra>",
           "hovertext": [
            "Meghalaya"
           ],
           "lat": {
            "bdata": "5fIf0m/XVkA=",
            "dtype": "f8"
           },
           "legendgroup": "Meghalaya",
           "lon": {
            "bdata": "ZDvfT413OUA=",
            "dtype": "f8"
           },
           "marker": {
            "color": "#19d3f3",
            "size": {
             "bdata": "KVyPwvUoEUA=",
             "dtype": "f8"
            },
            "sizemode": "area",
            "sizeref": 0.189625,
            "symbol": "circle"
           },
           "mode": "markers",
           "name": "Meghalaya",
           "showlegend": true,
           "type": "scattergeo"
          },
          {
           "geo": "geo",
           "hovertemplate": "<b>%{hovertext}</b><br><br>state=Odisha<br>month=Sep<br>estimated unemployment rate=%{marker.size}<br>latitude=%{lat}<br>longitude=%{lon}<extra></extra>",
           "hovertext": [
            "Odisha"
           ],
           "lat": {
            "bdata": "/Knx0k1GVUA=",
            "dtype": "f8"
           },
           "legendgroup": "Odisha",
           "lon": {
            "bdata": "a5p3nKLzNEA=",
            "dtype": "f8"
           },
           "marker": {
            "color": "#FF6692",
            "size": {
             "bdata": "zczMzMzMAEA=",
             "dtype": "f8"
            },
            "sizemode": "area",
            "sizeref": 0.189625,
            "symbol": "circle"
           },
           "mode": "markers",
           "name": "Odisha",
           "showlegend": true,
           "type": "scattergeo"
          },
          {
           "geo": "geo",
           "hovertemplate": "<b>%{hovertext}</b><br><br>state=Puducherry<br>month=Sep<br>estimated unemployment rate=%{marker.size}<br>latitude=%{lat}<br>longitude=%{lon}<extra></extra>",
           "hovertext": [
            "Puducherry"
           ],
           "lat": {
            "bdata": "1lbsL7vzU0A=",
            "dtype": "f8"
           },
           "legendgroup": "Puducherry",
           "lon": {
            "bdata": "w9MrZRniJ0A=",
            "dtype": "f8"
           },
           "marker": {
            "color": "#B6E880",
            "size": {
             "bdata": "zczMzMzMJUA=",
             "dtype": "f8"
            },
            "sizemode": "area",
            "sizeref": 0.189625,
            "symbol": "circle"
           },
           "mode": "markers",
           "name": "Puducherry",
           "showlegend": true,
           "type": "scattergeo"
          },
          {
           "geo": "geo",
           "hovertemplate": "<b>%{hovertext}</b><br><br>state=Punjab<br>month=Sep<br>estimated unemployment rate=%{marker.size}<br>latitude=%{lat}<br>longitude=%{lon}<extra></extra>",
           "hovertext": [
            "Punjab"
           ],
           "lat": {
            "bdata": "S1mGONbVUkA=",
            "dtype": "f8"
           },
           "legendgroup": "Punjab",
           "lon": {
            "bdata": "2T15WKglP0A=",
            "dtype": "f8"
           },
           "marker": {
            "color": "#FF97FF",
            "size": {
             "bdata": "uB6F61E4I0A=",
             "dtype": "f8"
            },
            "sizemode": "area",
            "sizeref": 0.189625,
            "symbol": "circle"
           },
           "mode": "markers",
           "name": "Punjab",
           "showlegend": true,
           "type": "scattergeo"
          },
          {
           "geo": "geo",
           "hovertemplate": "<b>%{hovertext}</b><br><br>state=Rajasthan<br>month=Sep<br>estimated unemployment rate=%{marker.size}<br>latitude=%{lat}<br>longitude=%{lon}<extra></extra>",
           "hovertext": [
            "Rajasthan"
           ],
           "lat": {
            "bdata": "GXPXEvKNUkA=",
            "dtype": "f8"
           },
           "legendgroup": "Rajasthan",
           "lon": {
            "bdata": "EqW9wRcGO0A=",
            "dtype": "f8"
           },
           "marker": {
            "color": "#FECB52",
            "size": {
             "bdata": "MzMzMzOzLkA=",
             "dtype": "f8"
            },
            "sizemode": "area",
            "sizeref": 0.189625,
            "symbol": "circle"
           },
           "mode": "markers",
           "name": "Rajasthan",
           "showlegend": true,
           "type": "scattergeo"
          },
          {
           "geo": "geo",
           "hovertemplate": "<b>%{hovertext}</b><br><br>state=Sikkim<br>month=Sep<br>estimated unemployment rate=%{marker.size}<br>latitude=%{lat}<br>longitude=%{lon}<extra></extra>",
           "hovertext": [
            "Sikkim"
           ],
           "lat": {
            "bdata": "uECC4scgVkA=",
            "dtype": "f8"
           },
           "legendgroup": "Sikkim",
           "lon": {
            "bdata": "nMQgsHKIO0A=",
            "dtype": "f8"
           },
           "marker": {
            "color": "#636efa",
            "size": {
             "bdata": "zczMzMzMFkA=",
             "dtype": "f8"
            },
            "sizemode": "area",
            "sizeref": 0.189625,
            "symbol": "circle"
           },
           "mode": "markers",
           "name": "Sikkim",
           "showlegend": true,
           "type": "scattergeo"
          },
          {
           "geo": "geo",
           "hovertemplate": "<b>%{hovertext}</b><br><br>state=Tamil Nadu<br>month=Sep<br>estimated unemployment rate=%{marker.size}<br>latitude=%{lat}<br>longitude=%{lon}<extra></extra>",
           "hovertext": [
            "Tamil Nadu"
           ],
           "lat": {
            "bdata": "gy9MpgqqU0A=",
            "dtype": "f8"
           },
           "legendgroup": "Tamil Nadu",
           "lon": {
            "bdata": "qaROQBNBJkA=",
            "dtype": "f8"
           },
           "marker": {
            "color": "#EF553B",
            "size": {
             "bdata": "AAAAAAAAFEA=",
             "dtype": "f8"
            },
            "sizemode": "area",
            "sizeref": 0.189625,
            "symbol": "circle"
           },
           "mode": "markers",
           "name": "Tamil Nadu",
           "showlegend": true,
           "type": "scattergeo"
          },
          {
           "geo": "geo",
           "hovertemplate": "<b>%{hovertext}</b><br><br>state=Telangana<br>month=Sep<br>estimated unemployment rate=%{marker.size}<br>latitude=%{lat}<br>longitude=%{lon}<extra></extra>",
           "hovertext": [
            "Telangana"
           ],
           "lat": {
            "bdata": "BTQRNjzBU0A=",
            "dtype": "f8"
           },
           "legendgroup": "Telangana",
           "lon": {
            "bdata": "BhIUP8YcMkA=",
            "dtype": "f8"
           },
           "marker": {
            "color": "#00cc96",
            "size": {
             "bdata": "KVyPwvUoCkA=",
             "dtype": "f8"
            },
            "sizemode": "area",
            "sizeref": 0.189625,
            "symbol": "circle"
           },
           "mode": "markers",
           "name": "Telangana",
           "showlegend": true,
           "type": "scattergeo"
          },
          {
           "geo": "geo",
           "hovertemplate": "<b>%{hovertext}</b><br><br>state=Tripura<br>month=Sep<br>estimated unemployment rate=%{marker.size}<br>latitude=%{lat}<br>longitude=%{lon}<extra></extra>",
           "hovertext": [
            "Tripura"
           ],
           "lat": {
            "bdata": "EHo2qz7/VkA=",
            "dtype": "f8"
           },
           "legendgroup": "Tripura",
           "lon": {
            "bdata": "qRPQRNjwN0A=",
            "dtype": "f8"
           },
           "marker": {
            "color": "#ab63fa",
            "size": {
             "bdata": "mpmZmZlZMUA=",
             "dtype": "f8"
            },
            "sizemode": "area",
            "sizeref": 0.189625,
            "symbol": "circle"
           },
           "mode": "markers",
           "name": "Tripura",
           "showlegend": true,
           "type": "scattergeo"
          },
          {
           "geo": "geo",
           "hovertemplate": "<b>%{hovertext}</b><br><br>state=Uttar Pradesh<br>month=Sep<br>estimated unemployment rate=%{marker.size}<br>latitude=%{lat}<br>longitude=%{lon}<extra></extra>",
           "hovertext": [
            "Uttar Pradesh"
           ],
           "lat": {
            "bdata": "at5xio48VEA=",
            "dtype": "f8"
           },
           "legendgroup": "Uttar Pradesh",
           "lon": {
            "bdata": "8IXJVMHYOkA=",
            "dtype": "f8"
           },
           "marker": {
            "color": "#FFA15A",
            "size": {
             "bdata": "uB6F61G4EEA=",
             "dtype": "f8"
            },
            "sizemode": "area",
            "sizeref": 0.189625,
            "symbol": "circle"
           },
           "mode": "markers",
           "name": "Uttar Pradesh",
           "showlegend": true,
           "type": "scattergeo"
          },
          {
           "geo": "geo",
           "hovertemplate": "<b>%{hovertext}</b><br><br>state=Uttarakhand<br>month=Sep<br>estimated unemployment rate=%{marker.size}<br>latitude=%{lat}<br>longitude=%{lon}<extra></extra>",
           "hovertext": [
            "Uttarakhand"
           ],
           "lat": {
            "bdata": "BTQRNjzBU0A=",
            "dtype": "f8"
           },
           "legendgroup": "Uttarakhand",
           "lon": {
            "bdata": "cF8HzhkRPkA=",
            "dtype": "f8"
           },
           "marker": {
            "color": "#19d3f3",
            "size": {
             "bdata": "w/UoXI9CNkA=",
             "dtype": "f8"
            },
            "sizemode": "area",
            "sizeref": 0.189625,
            "symbol": "circle"
           },
           "mode": "markers",
           "name": "Uttarakhand",
           "showlegend": true,
           "type": "scattergeo"
          },
          {
           "geo": "geo",
           "hovertemplate": "<b>%{hovertext}</b><br><br>state=West Bengal<br>month=Sep<br>estimated unemployment rate=%{marker.size}<br>latitude=%{lat}<br>longitude=%{lon}<extra></extra>",
           "hovertext": [
            "West Bengal"
           ],
           "lat": {
            "bdata": "H4XrUbj2VUA=",
            "dtype": "f8"
           },
           "legendgroup": "West Bengal",
           "lon": {
            "bdata": "W7G/7J78NkA=",
            "dtype": "f8"
           },
           "marker": {
            "color": "#FF6692",
            "size": {
             "bdata": "MzMzMzOzIkA=",
             "dtype": "f8"
            },
            "sizemode": "area",
            "sizeref": 0.189625,
            "symbol": "circle"
           },
           "mode": "markers",
           "name": "West Bengal",
           "showlegend": true,
           "type": "scattergeo"
          }
         ],
         "name": "Sep"
        },
        {
         "data": [
          {
           "geo": "geo",
           "hovertemplate": "<b>%{hovertext}</b><br><br>state=Andhra Pradesh<br>month=Oct<br>estimated unemployment rate=%{marker.size}<br>latitude=%{lat}<br>longitude=%{lon}<extra></extra>",
           "hovertext": [
            "Andhra Pradesh"
           ],
           "lat": {
            "bdata": "j8L1KFzvU0A=",
            "dtype": "f8"
           },
           "legendgroup": "Andhra Pradesh",
           "lon": {
            "bdata": "bAn5oGfTL0A=",
            "dtype": "f8"
           },
           "marker": {
            "color": "#636efa",
            "size": {
             "bdata": "XI/C9ShcGkA=",
             "dtype": "f8"
            },
            "sizemode": "area",
            "sizeref": 0.189625,
            "symbol": "circle"
           },
           "mode": "markers",
           "name": "Andhra Pradesh",
           "showlegend": true,
           "type": "scattergeo"
          },
          {
           "geo": "geo",
           "hovertemplate": "<b>%{hovertext}</b><br><br>state=Assam<br>month=Oct<br>estimated unemployment rate=%{marker.size}<br>latitude=%{lat}<br>longitude=%{lon}<extra></extra>",
           "hovertext": [
            "Assam"
           ],
           "lat": {
            "bdata": "si5uowE8V0A=",
            "dtype": "f8"
           },
           "legendgroup": "Assam",
           "lon": {
            "bdata": "3pOHhVozOkA=",
            "dtype": "f8"
           },
           "marker": {
            "color": "#EF553B",
            "size": {
             "bdata": "KVyPwvUoCEA=",
             "dtype": "f8"
            },
            "sizemode": "area",
            "sizeref": 0.189625,
            "symbol": "circle"
           },
           "mode": "markers",
           "name": "Assam",
           "showlegend": true,
           "type": "scattergeo"
          },
          {
           "geo": "geo",
           "hovertemplate": "<b>%{hovertext}</b><br><br>state=Bihar<br>month=Oct<br>estimated unemployment rate=%{marker.size}<br>latitude=%{lat}<br>longitude=%{lon}<extra></extra>",
           "hovertext": [
            "Bihar"
           ],
           "lat": {
            "bdata": "KxiV1AlUVUA=",
            "dtype": "f8"
           },
           "legendgroup": "Bihar",
           "lon": {
            "bdata": "RiV1ApoYOUA=",
            "dtype": "f8"
           },
           "marker": {
            "color": "#00cc96",
            "size": {
             "bdata": "pHA9CtejI0A=",
             "dtype": "f8"
            },
            "sizemode": "area",
            "sizeref": 0.189625,
            "symbol": "circle"
           },
           "mode": "markers",
           "name": "Bihar",
           "showlegend": true,
           "type": "scattergeo"
          },
          {
           "geo": "geo",
           "hovertemplate": "<b>%{hovertext}</b><br><br>state=Chhattisgarh<br>month=Oct<br>estimated unemployment rate=%{marker.size}<br>latitude=%{lat}<br>longitude=%{lon}<extra></extra>",
           "hovertext": [
            "Chhattisgarh"
           ],
           "lat": {
            "bdata": "M8SxLm53VEA=",
            "dtype": "f8"
           },
           "legendgroup": "Chhattisgarh",
           "lon": {
            "bdata": "LGUZ4lhHNUA=",
            "dtype": "f8"
           },
           "marker": {
            "color": "#ab63fa",
            "size": {
             "bdata": "exSuR+F6GkA=",
             "dtype": "f8"
            },
            "sizemode": "area",
            "sizeref": 0.189625,
            "symbol": "circle"
           },
           "mode": "markers",
           "name": "Chhattisgarh",
           "showlegend": true,
           "type": "scattergeo"
          },
          {
           "geo": "geo",
           "hovertemplate": "<b>%{hovertext}</b><br><br>state=Delhi<br>month=Oct<br>estimated unemployment rate=%{marker.size}<br>latitude=%{lat}<br>longitude=%{lon}<extra></extra>",
           "hovertext": [
            "Delhi"
           ],
           "lat": {
            "bdata": "w/UoXI9GU0A=",
            "dtype": "f8"
           },
           "legendgroup": "Delhi",
           "lon": {
            "bdata": "FR3J5T+0PEA=",
            "dtype": "f8"
           },
           "marker": {
            "color": "#FFA15A",
            "size": {
             "bdata": "FK5H4XoUGUA=",
             "dtype": "f8"
            },
            "sizemode": "area",
            "sizeref": 0.189625,
            "symbol": "circle"
           },
           "mode": "markers",
           "name": "Delhi",
           "showlegend": true,
           "type": "scattergeo"
          },
          {
           "geo": "geo",
           "hovertemplate": "<b>%{hovertext}</b><br><br>state=Goa<br>month=Oct<br>estimated unemployment rate=%{marker.size}<br>latitude=%{lat}<br>longitude=%{lon}<extra></extra>",
           "hovertext": [
            "Goa"
           ],
           "lat": {
            "bdata": "Di2yne+HUkA=",
            "dtype": "f8"
           },
           "legendgroup": "Goa",
           "lon": {
            "bdata": "t2J/2T2ZLkA=",
            "dtype": "f8"
           },
           "marker": {
            "color": "#19d3f3",
            "size": {
             "bdata": "FK5H4XoUJ0A=",
             "dtype": "f8"
            },
            "sizemode": "area",
            "sizeref": 0.189625,
            "symbol": "circle"
           },
           "mode": "markers",
           "name": "Goa",
           "showlegend": true,
           "type": "scattergeo"
          },
          {
           "geo": "geo",
           "hovertemplate": "<b>%{hovertext}</b><br><br>state=Gujarat<br>month=Oct<br>estimated unemployment rate=%{marker.size}<br>latitude=%{lat}<br>longitude=%{lon}<extra></extra>",
           "hovertext": [
            "Gujarat"
           ],
           "lat": {
            "bdata": "B/AWSFDMUUA=",
            "dtype": "f8"
           },
           "legendgroup": "Gujarat",
           "lon": {
            "bdata": "p3nHKTpCNkA=",
            "dtype": "f8"
           },
           "marker": {
            "color": "#FF6692",
            "size": {
             "bdata": "H4XrUbgeEEA=",
             "dtype": "f8"
            },
            "sizemode": "area",
            "sizeref": 0.189625,
            "symbol": "circle"
           },
           "mode": "markers",
           "name": "Gujarat",
           "showlegend": true,
           "type": "scattergeo"
          },
          {
           "geo": "geo",
           "hovertemplate": "<b>%{hovertext}</b><br><br>state=Haryana<br>month=Oct<br>estimated unemployment rate=%{marker.size}<br>latitude=%{lat}<br>longitude=%{lon}<extra></extra>",
           "hovertext": [
            "Haryana"
           ],
           "lat": {
            "bdata": "aCJseHoFU0A=",
            "dtype": "f8"
           },
           "legendgroup": "Haryana",
           "lon": {
            "bdata": "OwFNhA0PPUA=",
            "dtype": "f8"
           },
           "marker": {
            "color": "#B6E880",
            "size": {
             "bdata": "j8L1KFxPO0A=",
             "dtype": "f8"
            },
            "sizemode": "area",
            "sizeref": 0.189625,
            "symbol": "circle"
           },
           "mode": "markers",
           "name": "Haryana",
           "showlegend": true,
           "type": "scattergeo"
          },
          {
           "geo": "geo",
           "hovertemplate": "<b>%{hovertext}</b><br><br>state=Himachal Pradesh<br>month=Oct<br>estimated unemployment rate=%{marker.size}<br>latitude=%{lat}<br>longitude=%{lon}<extra></extra>",
           "hovertext": [
            "Himachal Pradesh"
           ],
           "lat": {
            "bdata": "F0hQ/BhLU0A=",
            "dtype": "f8"
           },
           "legendgroup": "Himachal Pradesh",
           "lon": {
            "bdata": "7Z48LNQaP0A=",
            "dtype": "f8"
           },
           "marker": {
            "color": "#FF97FF",
            "size": {
             "bdata": "7FG4HoXrKkA=",
             "dtype": "f8"
            },
            "sizemode": "area",
            "sizeref": 0.189625,
            "symbol": "circle"
           },
           "mode": "markers",
           "name": "Himachal Pradesh",
           "showlegend": true,
           "type": "scattergeo"
          },
          {
           "geo": "geo",
           "hovertemplate": "<b>%{hovertext}</b><br><br>state=Jammu & Kashmir<br>month=Oct<br>estimated unemployment rate=%{marker.size}<br>latitude=%{lat}<br>longitude=%{lon}<extra></extra>",
           "hovertext": [
            "Jammu & Kashmir"
           ],
           "lat": {
            "bdata": "Iv32deAkU0A=",
            "dtype": "f8"
           },
           "legendgroup": "Jammu & Kashmir",
           "lon": {
            "bdata": "pN++DpzjQEA=",
            "dtype": "f8"
           },
           "marker": {
            "color": "#FECB52",
            "size": {
             "bdata": "pHA9CtcjMEA=",
             "dtype": "f8"
            },
            "sizemode": "area",
            "sizeref": 0.189625,
            "symbol": "circle"
           },
           "mode": "markers",
           "name": "Jammu & Kashmir",
           "showlegend": true,
           "type": "scattergeo"
          },
          {
           "geo": "geo",
           "hovertemplate": "<b>%{hovertext}</b><br><br>state=Jharkhand<br>month=Oct<br>estimated unemployment rate=%{marker.size}<br>latitude=%{lat}<br>longitude=%{lon}<extra></extra>",
           "hovertext": [
            "Jharkhand"
           ],
           "lat": {
            "bdata": "oImw4elRVUA=",
            "dtype": "f8"
           },
           "legendgroup": "Jharkhand",
           "lon": {
            "bdata": "6gQ0ETacN0A=",
            "dtype": "f8"
           },
           "marker": {
            "color": "#636efa",
            "size": {
             "bdata": "mpmZmZmZJ0A=",
             "dtype": "f8"
            },
            "sizemode": "area",
            "sizeref": 0.189625,
            "symbol": "circle"
           },
           "mode": "markers",
           "name": "Jharkhand",
           "showlegend": true,
           "type": "scattergeo"
          },
          {
           "geo": "geo",
           "hovertemplate": "<b>%{hovertext}</b><br><br>state=Karnataka<br>month=Oct<br>estimated unemployment rate=%{marker.size}<br>latitude=%{lat}<br>longitude=%{lon}<extra></extra>",
           "hovertext": [
            "Karnataka"
           ],
           "lat": {
            "bdata": "UiegibDtUkA=",
            "dtype": "f8"
           },
           "legendgroup": "Karnataka",
           "lon": {
            "bdata": "pgpGJXWiLkA=",
            "dtype": "f8"
           },
           "marker": {
            "color": "#EF553B",
            "size": {
             "bdata": "SOF6FK5H+T8=",
             "dtype": "f8"
            },
            "sizemode": "area",
            "sizeref": 0.189625,
            "symbol": "circle"
           },
           "mode": "markers",
           "name": "Karnataka",
           "showlegend": true,
           "type": "scattergeo"
          },
          {
           "geo": "geo",
           "hovertemplate": "<b>%{hovertext}</b><br><br>state=Kerala<br>month=Oct<br>estimated unemployment rate=%{marker.size}<br>latitude=%{lat}<br>longitude=%{lon}<extra></extra>",
           "hovertext": [
            "Kerala"
           ],
           "lat": {
            "bdata": "hXzQs1kRU0A=",
            "dtype": "f8"
           },
           "legendgroup": "Kerala",
           "lon": {
            "bdata": "+n5qvHSzJUA=",
            "dtype": "f8"
           },
           "marker": {
            "color": "#00cc96",
            "size": {
             "bdata": "CtejcD0KD0A=",
             "dtype": "f8"
            },
            "sizemode": "area",
            "sizeref": 0.189625,
            "symbol": "circle"
           },
           "mode": "markers",
           "name": "Kerala",
           "showlegend": true,
           "type": "scattergeo"
          },
          {
           "geo": "geo",
           "hovertemplate": "<b>%{hovertext}</b><br><br>state=Madhya Pradesh<br>month=Oct<br>estimated unemployment rate=%{marker.size}<br>latitude=%{lat}<br>longitude=%{lon}<extra></extra>",
           "hovertext": [
            "Madhya Pradesh"
           ],
           "lat": {
            "bdata": "gy9MpgqqU0A=",
            "dtype": "f8"
           },
           "legendgroup": "Madhya Pradesh",
           "lon": {
            "bdata": "Ke0NvjD5NkA=",
            "dtype": "f8"
           },
           "marker": {
            "color": "#ab63fa",
            "size": {
             "bdata": "CtejcD0KCUA=",
             "dtype": "f8"
            },
            "sizemode": "area",
            "sizeref": 0.189625,
            "symbol": "circle"
           },
           "mode": "markers",
           "name": "Madhya Pradesh",
           "showlegend": true,
           "type": "scattergeo"
          },
          {
           "geo": "geo",
           "hovertemplate": "<b>%{hovertext}</b><br><br>state=Maharashtra<br>month=Oct<br>estimated unemployment rate=%{marker.size}<br>latitude=%{lat}<br>longitude=%{lon}<extra></extra>",
           "hovertext": [
            "Maharashtra"
           ],
           "lat": {
            "bdata": "UiegibDtUkA=",
            "dtype": "f8"
           },
           "legendgroup": "Maharashtra",
           "lon": {
            "bdata": "qvHSTWLAM0A=",
            "dtype": "f8"
           },
           "marker": {
            "color": "#FFA15A",
            "size": {
             "bdata": "ZmZmZmZmEEA=",
             "dtype": "f8"
            },
            "sizemode": "area",
            "sizeref": 0.189625,
            "symbol": "circle"
           },
           "mode": "markers",
           "name": "Maharashtra",
           "showlegend": true,
           "type": "scattergeo"
          },
          {
           "geo": "geo",
           "hovertemplate": "<b>%{hovertext}</b><br><br>state=Meghalaya<br>month=Oct<br>estimated unemployment rate=%{marker.size}<br>latitude=%{lat}<br>longitude=%{lon}<extra></extra>",
           "hovertext": [
            "Meghalaya"
           ],
           "lat": {
            "bdata": "5fIf0m/XVkA=",
            "dtype": "f8"
           },
           "legendgroup": "Meghalaya",
           "lon": {
            "bdata": "ZDvfT413OUA=",
            "dtype": "f8"
           },
           "marker": {
            "color": "#19d3f3",
            "size": {
             "bdata": "ZmZmZmZmEkA=",
             "dtype": "f8"
            },
            "sizemode": "area",
            "sizeref": 0.189625,
            "symbol": "circle"
           },
           "mode": "markers",
           "name": "Meghalaya",
           "showlegend": true,
           "type": "scattergeo"
          },
          {
           "geo": "geo",
           "hovertemplate": "<b>%{hovertext}</b><br><br>state=Odisha<br>month=Oct<br>estimated unemployment rate=%{marker.size}<br>latitude=%{lat}<br>longitude=%{lon}<extra></extra>",
           "hovertext": [
            "Odisha"
           ],
           "lat": {
            "bdata": "/Knx0k1GVUA=",
            "dtype": "f8"
           },
           "legendgroup": "Odisha",
           "lon": {
            "bdata": "a5p3nKLzNEA=",
            "dtype": "f8"
           },
           "marker": {
            "color": "#FF6692",
            "size": {
             "bdata": "cT0K16NwAUA=",
             "dtype": "f8"
            },
            "sizemode": "area",
            "sizeref": 0.189625,
            "symbol": "circle"
           },
           "mode": "markers",
           "name": "Odisha",
           "showlegend": true,
           "type": "scattergeo"
          },
          {
           "geo": "geo",
           "hovertemplate": "<b>%{hovertext}</b><br><br>state=Puducherry<br>month=Oct<br>estimated unemployment rate=%{marker.size}<br>latitude=%{lat}<br>longitude=%{lon}<extra></extra>",
           "hovertext": [
            "Puducherry"
           ],
           "lat": {
            "bdata": "1lbsL7vzU0A=",
            "dtype": "f8"
           },
           "legendgroup": "Puducherry",
           "lon": {
            "bdata": "w9MrZRniJ0A=",
            "dtype": "f8"
           },
           "marker": {
            "color": "#B6E880",
            "size": {
             "bdata": "uB6F61G4GEA=",
             "dtype": "f8"
            },
            "sizemode": "area",
            "sizeref": 0.189625,
            "symbol": "circle"
           },
           "mode": "markers",
           "name": "Puducherry",
           "showlegend": true,
           "type": "scattergeo"
          },
          {
           "geo": "geo",
           "hovertemplate": "<b>%{hovertext}</b><br><br>state=Punjab<br>month=Oct<br>estimated unemployment rate=%{marker.size}<br>latitude=%{lat}<br>longitude=%{lon}<extra></extra>",
           "hovertext": [
            "Punjab"
           ],
           "lat": {
            "bdata": "S1mGONbVUkA=",
            "dtype": "f8"
           },
           "legendgroup": "Punjab",
           "lon": {
            "bdata": "2T15WKglP0A=",
            "dtype": "f8"
           },
           "marker": {
            "color": "#FF97FF",
            "size": {
             "bdata": "w/UoXI/CI0A=",
             "dtype": "f8"
            },
            "sizemode": "area",
            "sizeref": 0.189625,
            "symbol": "circle"
           },
           "mode": "markers",
           "name": "Punjab",
           "showlegend": true,
           "type": "scattergeo"
          },
          {
           "geo": "geo",
           "hovertemplate": "<b>%{hovertext}</b><br><br>state=Rajasthan<br>month=Oct<br>estimated unemployment rate=%{marker.size}<br>latitude=%{lat}<br>longitude=%{lon}<extra></extra>",
           "hovertext": [
            "Rajasthan"
           ],
           "lat": {
            "bdata": "GXPXEvKNUkA=",
            "dtype": "f8"
           },
           "legendgroup": "Rajasthan",
           "lon": {
            "bdata": "EqW9wRcGO0A=",
            "dtype": "f8"
           },
           "marker": {
            "color": "#FECB52",
            "size": {
             "bdata": "ZmZmZmYmOEA=",
             "dtype": "f8"
            },
            "sizemode": "area",
            "sizeref": 0.189625,
            "symbol": "circle"
           },
           "mode": "markers",
           "name": "Rajasthan",
           "showlegend": true,
           "type": "scattergeo"
          },
          {
           "geo": "geo",
           "hovertemplate": "<b>%{hovertext}</b><br><br>state=Sikkim<br>month=Oct<br>estimated unemployment rate=%{marker.size}<br>latitude=%{lat}<br>longitude=%{lon}<extra></extra>",
           "hovertext": [
            "Sikkim"
           ],
           "lat": {
            "bdata": "uECC4scgVkA=",
            "dtype": "f8"
           },
           "legendgroup": "Sikkim",
           "lon": {
            "bdata": "nMQgsHKIO0A=",
            "dtype": "f8"
           },
           "marker": {
            "color": "#636efa",
            "size": {
             "bdata": "KVyPwvUo7D8=",
             "dtype": "f8"
            },
            "sizemode": "area",
            "sizeref": 0.189625,
            "symbol": "circle"
           },
           "mode": "markers",
           "name": "Sikkim",
           "showlegend": true,
           "type": "scattergeo"
          },
          {
           "geo": "geo",
           "hovertemplate": "<b>%{hovertext}</b><br><br>state=Tamil Nadu<br>month=Oct<br>estimated unemployment rate=%{marker.size}<br>latitude=%{lat}<br>longitude=%{lon}<extra></extra>",
           "hovertext": [
            "Tamil Nadu"
           ],
           "lat": {
            "bdata": "gy9MpgqqU0A=",
            "dtype": "f8"
           },
           "legendgroup": "Tamil Nadu",
           "lon": {
            "bdata": "qaROQBNBJkA=",
            "dtype": "f8"
           },
           "marker": {
            "color": "#EF553B",
            "size": {
             "bdata": "SOF6FK5HAUA=",
             "dtype": "f8"
            },
            "sizemode": "area",
            "sizeref": 0.189625,
            "symbol": "circle"
           },
           "mode": "markers",
           "name": "Tamil Nadu",
           "showlegend": true,
           "type": "scattergeo"
          },
          {
           "geo": "geo",
           "hovertemplate": "<b>%{hovertext}</b><br><br>state=Telangana<br>month=Oct<br>estimated unemployment rate=%{marker.size}<br>latitude=%{lat}<br>longitude=%{lon}<extra></extra>",
           "hovertext": [
            "Telangana"
           ],
           "lat": {
            "bdata": "BTQRNjzBU0A=",
            "dtype": "f8"
           },
           "legendgroup": "Telangana",
           "lon": {
            "bdata": "BhIUP8YcMkA=",
            "dtype": "f8"
           },
           "marker": {
            "color": "#00cc96",
            "size": {
             "bdata": "4XoUrkfhBkA=",
             "dtype": "f8"
            },
            "sizemode": "area",
            "sizeref": 0.189625,
            "symbol": "circle"
           },
           "mode": "markers",
           "name": "Telangana",
           "showlegend": true,
           "type": "scattergeo"
          },
          {
           "geo": "geo",
           "hovertemplate": "<b>%{hovertext}</b><br><br>state=Tripura<br>month=Oct<br>estimated unemployment rate=%{marker.size}<br>latitude=%{lat}<br>longitude=%{lon}<extra></extra>",
           "hovertext": [
            "Tripura"
           ],
           "lat": {
            "bdata": "EHo2qz7/VkA=",
            "dtype": "f8"
           },
           "legendgroup": "Tripura",
           "lon": {
            "bdata": "qRPQRNjwN0A=",
            "dtype": "f8"
           },
           "marker": {
            "color": "#ab63fa",
            "size": {
             "bdata": "pHA9CtcjJ0A=",
             "dtype": "f8"
            },
            "sizemode": "area",
            "sizeref": 0.189625,
            "symbol": "circle"
           },
           "mode": "markers",
           "name": "Tripura",
           "showlegend": true,
           "type": "scattergeo"
          },
          {
           "geo": "geo",
           "hovertemplate": "<b>%{hovertext}</b><br><br>state=Uttar Pradesh<br>month=Oct<br>estimated unemployment rate=%{marker.size}<br>latitude=%{lat}<br>longitude=%{lon}<extra></extra>",
           "hovertext": [
            "Uttar Pradesh"
           ],
           "lat": {
            "bdata": "at5xio48VEA=",
            "dtype": "f8"
           },
           "legendgroup": "Uttar Pradesh",
           "lon": {
            "bdata": "8IXJVMHYOkA=",
            "dtype": "f8"
           },
           "marker": {
            "color": "#FFA15A",
            "size": {
             "bdata": "AAAAAAAADkA=",
             "dtype": "f8"
            },
            "sizemode": "area",
            "sizeref": 0.189625,
            "symbol": "circle"
           },
           "mode": "markers",
           "name": "Uttar Pradesh",
           "showlegend": true,
           "type": "scattergeo"
          },
          {
           "geo": "geo",
           "hovertemplate": "<b>%{hovertext}</b><br><br>state=Uttarakhand<br>month=Oct<br>estimated unemployment rate=%{marker.size}<br>latitude=%{lat}<br>longitude=%{lon}<extra></extra>",
           "hovertext": [
            "Uttarakhand"
           ],
           "lat": {
            "bdata": "BTQRNjzBU0A=",
            "dtype": "f8"
           },
           "legendgroup": "Uttarakhand",
           "lon": {
            "bdata": "cF8HzhkRPkA=",
            "dtype": "f8"
           },
           "marker": {
            "color": "#19d3f3",
            "size": {
             "bdata": "9ihcj8J1IkA=",
             "dtype": "f8"
            },
            "sizemode": "area",
            "sizeref": 0.189625,
            "symbol": "circle"
           },
           "mode": "markers",
           "name": "Uttarakhand",
           "showlegend": true,
           "type": "scattergeo"
          },
          {
           "geo": "geo",
           "hovertemplate": "<b>%{hovertext}</b><br><br>state=West Bengal<br>month=Oct<br>estimated unemployment rate=%{marker.size}<br>latitude=%{lat}<br>longitude=%{lon}<extra></extra>",
           "hovertext": [
            "West Bengal"
           ],
           "lat": {
            "bdata": "H4XrUbj2VUA=",
            "dtype": "f8"
           },
           "legendgroup": "West Bengal",
           "lon": {
            "bdata": "W7G/7J78NkA=",
            "dtype": "f8"
           },
           "marker": {
            "color": "#FF6692",
            "size": {
             "bdata": "9ihcj8L1I0A=",
             "dtype": "f8"
            },
            "sizemode": "area",
            "sizeref": 0.189625,
            "symbol": "circle"
           },
           "mode": "markers",
           "name": "West Bengal",
           "showlegend": true,
           "type": "scattergeo"
          }
         ],
         "name": "Oct"
        }
       ],
       "layout": {
        "autosize": true,
        "geo": {
         "center": {},
         "domain": {
          "x": [
           0,
           1
          ],
          "y": [
           0,
           1
          ]
         },
         "lataxis": {
          "range": [
           5,
           40
          ]
         },
         "lonaxis": {
          "range": [
           65,
           100
          ]
         },
         "oceancolor": "lightblue",
         "scope": "asia",
         "showocean": true
        },
        "legend": {
         "itemsizing": "constant",
         "title": {
          "text": "state"
         },
         "tracegroupgap": 0
        },
        "sliders": [
         {
          "active": 0,
          "currentvalue": {
           "prefix": "month="
          },
          "len": 0.9,
          "pad": {
           "b": 10,
           "t": 60
          },
          "steps": [
           {
            "args": [
             [
              "Jan"
             ],
             {
              "frame": {
               "duration": 0,
               "redraw": true
              },
              "fromcurrent": true,
              "mode": "immediate",
              "transition": {
               "duration": 0,
               "easing": "linear"
              }
             }
            ],
            "label": "Jan",
            "method": "animate"
           },
           {
            "args": [
             [
              "Feb"
             ],
             {
              "frame": {
               "duration": 0,
               "redraw": true
              },
              "fromcurrent": true,
              "mode": "immediate",
              "transition": {
               "duration": 0,
               "easing": "linear"
              }
             }
            ],
            "label": "Feb",
            "method": "animate"
           },
           {
            "args": [
             [
              "Mar"
             ],
             {
              "frame": {
               "duration": 0,
               "redraw": true
              },
              "fromcurrent": true,
              "mode": "immediate",
              "transition": {
               "duration": 0,
               "easing": "linear"
              }
             }
            ],
            "label": "Mar",
            "method": "animate"
           },
           {
            "args": [
             [
              "Apr"
             ],
             {
              "frame": {
               "duration": 0,
               "redraw": true
              },
              "fromcurrent": true,
              "mode": "immediate",
              "transition": {
               "duration": 0,
               "easing": "linear"
              }
             }
            ],
            "label": "Apr",
            "method": "animate"
           },
           {
            "args": [
             [
              "May"
             ],
             {
              "frame": {
               "duration": 0,
               "redraw": true
              },
              "fromcurrent": true,
              "mode": "immediate",
              "transition": {
               "duration": 0,
               "easing": "linear"
              }
             }
            ],
            "label": "May",
            "method": "animate"
           },
           {
            "args": [
             [
              "Jun"
             ],
             {
              "frame": {
               "duration": 0,
               "redraw": true
              },
              "fromcurrent": true,
              "mode": "immediate",
              "transition": {
               "duration": 0,
               "easing": "linear"
              }
             }
            ],
            "label": "Jun",
            "method": "animate"
           },
           {
            "args": [
             [
              "Jul"
             ],
             {
              "frame": {
               "duration": 0,
               "redraw": true
              },
              "fromcurrent": true,
              "mode": "immediate",
              "transition": {
               "duration": 0,
               "easing": "linear"
              }
             }
            ],
            "label": "Jul",
            "method": "animate"
           },
           {
            "args": [
             [
              "Aug"
             ],
             {
              "frame": {
               "duration": 0,
               "redraw": true
              },
              "fromcurrent": true,
              "mode": "immediate",
              "transition": {
               "duration": 0,
               "easing": "linear"
              }
             }
            ],
            "label": "Aug",
            "method": "animate"
           },
           {
            "args": [
             [
              "Sep"
             ],
             {
              "frame": {
               "duration": 0,
               "redraw": true
              },
              "fromcurrent": true,
              "mode": "immediate",
              "transition": {
               "duration": 0,
               "easing": "linear"
              }
             }
            ],
            "label": "Sep",
            "method": "animate"
           },
           {
            "args": [
             [
              "Oct"
             ],
             {
              "frame": {
               "duration": 0,
               "redraw": true
              },
              "fromcurrent": true,
              "mode": "immediate",
              "transition": {
               "duration": 0,
               "easing": "linear"
              }
             }
            ],
            "label": "Oct",
            "method": "animate"
           }
          ],
          "x": 0.1,
          "xanchor": "left",
          "y": 0,
          "yanchor": "top"
         }
        ],
        "template": {
         "data": {
          "bar": [
           {
            "error_x": {
             "color": "#2a3f5f"
            },
            "error_y": {
             "color": "#2a3f5f"
            },
            "marker": {
             "line": {
              "color": "#E5ECF6",
              "width": 0.5
             },
             "pattern": {
              "fillmode": "overlay",
              "size": 10,
              "solidity": 0.2
             }
            },
            "type": "bar"
           }
          ],
          "barpolar": [
           {
            "marker": {
             "line": {
              "color": "#E5ECF6",
              "width": 0.5
             },
             "pattern": {
              "fillmode": "overlay",
              "size": 10,
              "solidity": 0.2
             }
            },
            "type": "barpolar"
           }
          ],
          "carpet": [
           {
            "aaxis": {
             "endlinecolor": "#2a3f5f",
             "gridcolor": "white",
             "linecolor": "white",
             "minorgridcolor": "white",
             "startlinecolor": "#2a3f5f"
            },
            "baxis": {
             "endlinecolor": "#2a3f5f",
             "gridcolor": "white",
             "linecolor": "white",
             "minorgridcolor": "white",
             "startlinecolor": "#2a3f5f"
            },
            "type": "carpet"
           }
          ],
          "choropleth": [
           {
            "colorbar": {
             "outlinewidth": 0,
             "ticks": ""
            },
            "type": "choropleth"
           }
          ],
          "contour": [
           {
            "colorbar": {
             "outlinewidth": 0,
             "ticks": ""
            },
            "colorscale": [
             [
              0,
              "#0d0887"
             ],
             [
              0.1111111111111111,
              "#46039f"
             ],
             [
              0.2222222222222222,
              "#7201a8"
             ],
             [
              0.3333333333333333,
              "#9c179e"
             ],
             [
              0.4444444444444444,
              "#bd3786"
             ],
             [
              0.5555555555555556,
              "#d8576b"
             ],
             [
              0.6666666666666666,
              "#ed7953"
             ],
             [
              0.7777777777777778,
              "#fb9f3a"
             ],
             [
              0.8888888888888888,
              "#fdca26"
             ],
             [
              1,
              "#f0f921"
             ]
            ],
            "type": "contour"
           }
          ],
          "contourcarpet": [
           {
            "colorbar": {
             "outlinewidth": 0,
             "ticks": ""
            },
            "type": "contourcarpet"
           }
          ],
          "heatmap": [
           {
            "colorbar": {
             "outlinewidth": 0,
             "ticks": ""
            },
            "colorscale": [
             [
              0,
              "#0d0887"
             ],
             [
              0.1111111111111111,
              "#46039f"
             ],
             [
              0.2222222222222222,
              "#7201a8"
             ],
             [
              0.3333333333333333,
              "#9c179e"
             ],
             [
              0.4444444444444444,
              "#bd3786"
             ],
             [
              0.5555555555555556,
              "#d8576b"
             ],
             [
              0.6666666666666666,
              "#ed7953"
             ],
             [
              0.7777777777777778,
              "#fb9f3a"
             ],
             [
              0.8888888888888888,
              "#fdca26"
             ],
             [
              1,
              "#f0f921"
             ]
            ],
            "type": "heatmap"
           }
          ],
          "histogram": [
           {
            "marker": {
             "pattern": {
              "fillmode": "overlay",
              "size": 10,
              "solidity": 0.2
             }
            },
            "type": "histogram"
           }
          ],
          "histogram2d": [
           {
            "colorbar": {
             "outlinewidth": 0,
             "ticks": ""
            },
            "colorscale": [
             [
              0,
              "#0d0887"
             ],
             [
              0.1111111111111111,
              "#46039f"
             ],
             [
              0.2222222222222222,
              "#7201a8"
             ],
             [
              0.3333333333333333,
              "#9c179e"
             ],
             [
              0.4444444444444444,
              "#bd3786"
             ],
             [
              0.5555555555555556,
              "#d8576b"
             ],
             [
              0.6666666666666666,
              "#ed7953"
             ],
             [
              0.7777777777777778,
              "#fb9f3a"
             ],
             [
              0.8888888888888888,
              "#fdca26"
             ],
             [
              1,
              "#f0f921"
             ]
            ],
            "type": "histogram2d"
           }
          ],
          "histogram2dcontour": [
           {
            "colorbar": {
             "outlinewidth": 0,
             "ticks": ""
            },
            "colorscale": [
             [
              0,
              "#0d0887"
             ],
             [
              0.1111111111111111,
              "#46039f"
             ],
             [
              0.2222222222222222,
              "#7201a8"
             ],
             [
              0.3333333333333333,
              "#9c179e"
             ],
             [
              0.4444444444444444,
              "#bd3786"
             ],
             [
              0.5555555555555556,
              "#d8576b"
             ],
             [
              0.6666666666666666,
              "#ed7953"
             ],
             [
              0.7777777777777778,
              "#fb9f3a"
             ],
             [
              0.8888888888888888,
              "#fdca26"
             ],
             [
              1,
              "#f0f921"
             ]
            ],
            "type": "histogram2dcontour"
           }
          ],
          "mesh3d": [
           {
            "colorbar": {
             "outlinewidth": 0,
             "ticks": ""
            },
            "type": "mesh3d"
           }
          ],
          "parcoords": [
           {
            "line": {
             "colorbar": {
              "outlinewidth": 0,
              "ticks": ""
             }
            },
            "type": "parcoords"
           }
          ],
          "pie": [
           {
            "automargin": true,
            "type": "pie"
           }
          ],
          "scatter": [
           {
            "fillpattern": {
             "fillmode": "overlay",
             "size": 10,
             "solidity": 0.2
            },
            "type": "scatter"
           }
          ],
          "scatter3d": [
           {
            "line": {
             "colorbar": {
              "outlinewidth": 0,
              "ticks": ""
             }
            },
            "marker": {
             "colorbar": {
              "outlinewidth": 0,
              "ticks": ""
             }
            },
            "type": "scatter3d"
           }
          ],
          "scattercarpet": [
           {
            "marker": {
             "colorbar": {
              "outlinewidth": 0,
              "ticks": ""
             }
            },
            "type": "scattercarpet"
           }
          ],
          "scattergeo": [
           {
            "marker": {
             "colorbar": {
              "outlinewidth": 0,
              "ticks": ""
             }
            },
            "type": "scattergeo"
           }
          ],
          "scattergl": [
           {
            "marker": {
             "colorbar": {
              "outlinewidth": 0,
              "ticks": ""
             }
            },
            "type": "scattergl"
           }
          ],
          "scattermap": [
           {
            "marker": {
             "colorbar": {
              "outlinewidth": 0,
              "ticks": ""
             }
            },
            "type": "scattermap"
           }
          ],
          "scattermapbox": [
           {
            "marker": {
             "colorbar": {
              "outlinewidth": 0,
              "ticks": ""
             }
            },
            "type": "scattermapbox"
           }
          ],
          "scatterpolar": [
           {
            "marker": {
             "colorbar": {
              "outlinewidth": 0,
              "ticks": ""
             }
            },
            "type": "scatterpolar"
           }
          ],
          "scatterpolargl": [
           {
            "marker": {
             "colorbar": {
              "outlinewidth": 0,
              "ticks": ""
             }
            },
            "type": "scatterpolargl"
           }
          ],
          "scatterternary": [
           {
            "marker": {
             "colorbar": {
              "outlinewidth": 0,
              "ticks": ""
             }
            },
            "type": "scatterternary"
           }
          ],
          "surface": [
           {
            "colorbar": {
             "outlinewidth": 0,
             "ticks": ""
            },
            "colorscale": [
             [
              0,
              "#0d0887"
             ],
             [
              0.1111111111111111,
              "#46039f"
             ],
             [
              0.2222222222222222,
              "#7201a8"
             ],
             [
              0.3333333333333333,
              "#9c179e"
             ],
             [
              0.4444444444444444,
              "#bd3786"
             ],
             [
              0.5555555555555556,
              "#d8576b"
             ],
             [
              0.6666666666666666,
              "#ed7953"
             ],
             [
              0.7777777777777778,
              "#fb9f3a"
             ],
             [
              0.8888888888888888,
              "#fdca26"
             ],
             [
              1,
              "#f0f921"
             ]
            ],
            "type": "surface"
           }
          ],
          "table": [
           {
            "cells": {
             "fill": {
              "color": "#EBF0F8"
             },
             "line": {
              "color": "white"
             }
            },
            "header": {
             "fill": {
              "color": "#C8D4E3"
             },
             "line": {
              "color": "white"
             }
            },
            "type": "table"
           }
          ]
         },
         "layout": {
          "annotationdefaults": {
           "arrowcolor": "#2a3f5f",
           "arrowhead": 0,
           "arrowwidth": 1
          },
          "autotypenumbers": "strict",
          "coloraxis": {
           "colorbar": {
            "outlinewidth": 0,
            "ticks": ""
           }
          },
          "colorscale": {
           "diverging": [
            [
             0,
             "#8e0152"
            ],
            [
             0.1,
             "#c51b7d"
            ],
            [
             0.2,
             "#de77ae"
            ],
            [
             0.3,
             "#f1b6da"
            ],
            [
             0.4,
             "#fde0ef"
            ],
            [
             0.5,
             "#f7f7f7"
            ],
            [
             0.6,
             "#e6f5d0"
            ],
            [
             0.7,
             "#b8e186"
            ],
            [
             0.8,
             "#7fbc41"
            ],
            [
             0.9,
             "#4d9221"
            ],
            [
             1,
             "#276419"
            ]
           ],
           "sequential": [
            [
             0,
             "#0d0887"
            ],
            [
             0.1111111111111111,
             "#46039f"
            ],
            [
             0.2222222222222222,
             "#7201a8"
            ],
            [
             0.3333333333333333,
             "#9c179e"
            ],
            [
             0.4444444444444444,
             "#bd3786"
            ],
            [
             0.5555555555555556,
             "#d8576b"
            ],
            [
             0.6666666666666666,
             "#ed7953"
            ],
            [
             0.7777777777777778,
             "#fb9f3a"
            ],
            [
             0.8888888888888888,
             "#fdca26"
            ],
            [
             1,
             "#f0f921"
            ]
           ],
           "sequentialminus": [
            [
             0,
             "#0d0887"
            ],
            [
             0.1111111111111111,
             "#46039f"
            ],
            [
             0.2222222222222222,
             "#7201a8"
            ],
            [
             0.3333333333333333,
             "#9c179e"
            ],
            [
             0.4444444444444444,
             "#bd3786"
            ],
            [
             0.5555555555555556,
             "#d8576b"
            ],
            [
             0.6666666666666666,
             "#ed7953"
            ],
            [
             0.7777777777777778,
             "#fb9f3a"
            ],
            [
             0.8888888888888888,
             "#fdca26"
            ],
            [
             1,
             "#f0f921"
            ]
           ]
          },
          "colorway": [
           "#636efa",
           "#EF553B",
           "#00cc96",
           "#ab63fa",
           "#FFA15A",
           "#19d3f3",
           "#FF6692",
           "#B6E880",
           "#FF97FF",
           "#FECB52"
          ],
          "font": {
           "color": "#2a3f5f"
          },
          "geo": {
           "bgcolor": "white",
           "lakecolor": "white",
           "landcolor": "#E5ECF6",
           "showlakes": true,
           "showland": true,
           "subunitcolor": "white"
          },
          "hoverlabel": {
           "align": "left"
          },
          "hovermode": "closest",
          "mapbox": {
           "style": "light"
          },
          "paper_bgcolor": "white",
          "plot_bgcolor": "#E5ECF6",
          "polar": {
           "angularaxis": {
            "gridcolor": "white",
            "linecolor": "white",
            "ticks": ""
           },
           "bgcolor": "#E5ECF6",
           "radialaxis": {
            "gridcolor": "white",
            "linecolor": "white",
            "ticks": ""
           }
          },
          "scene": {
           "xaxis": {
            "backgroundcolor": "#E5ECF6",
            "gridcolor": "white",
            "gridwidth": 2,
            "linecolor": "white",
            "showbackground": true,
            "ticks": "",
            "zerolinecolor": "white"
           },
           "yaxis": {
            "backgroundcolor": "#E5ECF6",
            "gridcolor": "white",
            "gridwidth": 2,
            "linecolor": "white",
            "showbackground": true,
            "ticks": "",
            "zerolinecolor": "white"
           },
           "zaxis": {
            "backgroundcolor": "#E5ECF6",
            "gridcolor": "white",
            "gridwidth": 2,
            "linecolor": "white",
            "showbackground": true,
            "ticks": "",
            "zerolinecolor": "white"
           }
          },
          "shapedefaults": {
           "line": {
            "color": "#2a3f5f"
           }
          },
          "ternary": {
           "aaxis": {
            "gridcolor": "white",
            "linecolor": "white",
            "ticks": ""
           },
           "baxis": {
            "gridcolor": "white",
            "linecolor": "white",
            "ticks": ""
           },
           "bgcolor": "#E5ECF6",
           "caxis": {
            "gridcolor": "white",
            "linecolor": "white",
            "ticks": ""
           }
          },
          "title": {
           "x": 0.05
          },
          "xaxis": {
           "automargin": true,
           "gridcolor": "white",
           "linecolor": "white",
           "ticks": "",
           "title": {
            "standoff": 15
           },
           "zerolinecolor": "white",
           "zerolinewidth": 2
          },
          "yaxis": {
           "automargin": true,
           "gridcolor": "white",
           "linecolor": "white",
           "ticks": "",
           "title": {
            "standoff": 15
           },
           "zerolinecolor": "white",
           "zerolinewidth": 2
          }
         }
        },
        "title": {
         "text": "Impact of Lockdown on Employment in India"
        },
        "updatemenus": [
         {
          "buttons": [
           {
            "args": [
             null,
             {
              "frame": {
               "duration": 2000,
               "redraw": true
              },
              "fromcurrent": true,
              "mode": "immediate",
              "transition": {
               "duration": 500,
               "easing": "linear"
              }
             }
            ],
            "label": "&#9654;",
            "method": "animate"
           },
           {
            "args": [
             [
              null
             ],
             {
              "frame": {
               "duration": 0,
               "redraw": true
              },
              "fromcurrent": true,
              "mode": "immediate",
              "transition": {
               "duration": 0,
               "easing": "linear"
              }
             }
            ],
            "label": "&#9724;",
            "method": "animate"
           }
          ],
          "direction": "left",
          "pad": {
           "r": 10,
           "t": 70
          },
          "showactive": false,
          "type": "buttons",
          "x": 0.1,
          "xanchor": "right",
          "y": 0,
          "yanchor": "top"
         }
        ]
       }
      },
      "image/png": "[encoded data removed]"
     },
     "metadata": {},
     "output_type": "display_data"
    }
   ],
   "source": [
    "fig = px.scatter_geo(\n",
    "    df,\n",
    "    lon='longitude',\n",
    "    lat='latitude',\n",
    "    color='state',\n",
    "    hover_name='state',\n",
    "    size='estimated unemployment rate',\n",
    "    animation_frame='month',\n",
    "    scope='asia',\n",
    "    title='Impact of Lockdown on Employment in India'\n",
    ")\n",
    "\n",
    "# Customize animation speed\n",
    "fig.layout.updatemenus[0].buttons[0].args[1]['frame']['duration'] = 2000\n",
    "\n",
    "# Map zoom area and style\n",
    "fig.update_geos(\n",
    "    lataxis_range=[5, 40],\n",
    "    lonaxis_range=[65, 100],\n",
    "    oceancolor='lightblue',\n",
    "    showocean=True\n",
    ")\n",
    "\n",
    "fig.show()\n",
    "\n",
    "oct_df = df[df['month'] == 'Oct']\n",
    "\n",
    "fig_static = px.scatter_geo(\n",
    "    oct_df,\n",
    "    lon='longitude',\n",
    "    lat='latitude',\n",
    "    color='state',\n",
    "    hover_name='state',\n",
    "    size='estimated unemployment rate',\n",
    "    scope='asia',\n",
    "    title='Unemployment Impact Snapshot - October 2020'\n",
    ")\n",
    "\n",
    "fig_static.update_geos(\n",
    "    lataxis_range=[50, 40],\n",
    "    lonaxis_range=[65, 100],\n",
    "    oceancolor='lightblue',\n",
    "    showocean=True\n",
    ")\n",
    "\n",
    "# Save static image for GitHub\n",
    "fig_static.write_image(\"unemployment_geo_october.png\",scale= 2)\n",
    "\n"
   ]
  },
  {
   "cell_type": "markdown",
   "id": "4bc5e925-ec7f-46d2-9b2a-cb4a3a0293f9",
   "metadata": {},
   "source": [
    "**Regional Analysis**"
   ]
  },
  {
   "cell_type": "code",
   "execution_count": 32,
   "id": "438c9aa8-5430-4c29-8f28-0d44c522410b",
   "metadata": {},
   "outputs": [
    {
     "data": {
      "text/plain": [
       "array(['South', 'Northeast', 'East', 'West', 'North'], dtype=object)"
      ]
     },
     "execution_count": 32,
     "metadata": {},
     "output_type": "execute_result"
    }
   ],
   "source": [
    "df.region.unique()"
   ]
  },
  {
   "cell_type": "code",
   "execution_count": 33,
   "id": "9279d176-3c53-4929-a56c-fc4feece74e4",
   "metadata": {},
   "outputs": [],
   "source": [
    "# numeric data grouped by region\n",
    "\n",
    "region = df.groupby(['region'])[['estimated unemployment rate','estimated employed','estimated labour participation rate']].mean()\n",
    "region = pd.DataFrame(region).reset_index()"
   ]
  },
  {
   "cell_type": "code",
   "execution_count": null,
   "id": "5dddf736-5647-4f51-9acb-84a10403a54b",
   "metadata": {},
   "outputs": [],
   "source": []
  }
 ],
 "metadata": {
  "kernelspec": {
   "display_name": "Python 3 (ipykernel)",
   "language": "python",
   "name": "python3"
  },
  "language_info": {
   "codemirror_mode": {
    "name": "ipython",
    "version": 3
   },
   "file_extension": ".py",
   "mimetype": "text/x-python",
   "name": "python",
   "nbconvert_exporter": "python",
   "pygments_lexer": "ipython3",
   "version": "3.12.4"
  }
 },
 "nbformat": 4,
 "nbformat_minor": 5
}
