{
 "cells": [
  {
   "cell_type": "markdown",
   "id": "798a90db-e3e6-40c4-a4b6-09693ff89aa1",
   "metadata": {},
   "source": [
    "Unemployment is measured by the unemployment rate which is the number of people who are unemployed as a percentage of the total labour force.\n",
    "\n",
    "During the covid-19 period there was a sharp increase in the unemployment rate.\n",
    "\n",
    "The aim is to analyze the unemployment rate using python.\n",
    "Goal:\n",
    "\n",
    "This analysis focuses on evaluating the far-reaching impacts of the COVID-19 pandemic on India's employment landscape. The dataset at hand provides essential insights into the fluctuations of unemployment rates among different states in India. Within the dataset, vital indicators including State-wise breakdown, timeline, measurement frequency, Estimated Unemployment Rate (%), Estimated Employed Individuals, and Estimated Labour Participation Rate (%) are encompassed.\n",
    "\n",
    "Dataset Overview:\n",
    "The provided dataset delves into the unemployment landscape across diverse states in India:\n",
    "\n",
    "States: Various states constituting the Indian subcontinent.\n",
    "Date: The specific dates of unemployment rate recordings.\n",
    "Measuring Frequency: The regularity of measurement collection (Monthly).\n",
    "Estimated Unemployment Rate (%): The proportion of unemployed individuals in each Indian state.\n",
    "Estimated Employed Individuals: The tally of presently engaged individuals.\n",
    "Estimated Labour Participation Rate (%): The percentage of the working-age populace (16-64 years) actively involved in the job market, including both employed individuals and those actively seeking jobs.\n",
    "This dataset serves as a valuable resource for comprehending the unemployment variations across India's states throughout the COVID-19 pandemic. By offering crucial insights, it illuminates the repercussions on unemployment rates, employment numbers, and labor participation proportions in distinct geographical regions across the nation. The analysis aims to provide insights into the pandemic's socio-economic effects on India's workforce and labor arena."
   ]
  },
  {
   "cell_type": "code",
   "execution_count": 1,
   "id": "2359da6c-0116-4540-968f-1c16ba5bc5b4",
   "metadata": {},
   "outputs": [],
   "source": [
    "#import required libraries\n",
    "import pandas as pd\n",
    "import numpy as np\n",
    "import matplotlib.pyplot as plt\n",
    "import seaborn as sns\n",
    "import datetime as dt\n",
    "import calendar \n",
    "import plotly.graph_objects as go\n",
    "\n",
    "import warnings\n",
    "warnings.filterwarnings(\"ignore\")\n",
    "%matplotlib inline"
   ]
  },
  {
   "cell_type": "code",
   "execution_count": 2,
   "id": "5603b8e9-eb8a-49bb-8e9a-91bbdfff6f2a",
   "metadata": {},
   "outputs": [
    {
     "data": {
      "text/html": [
       "<div>\n",
       "<style scoped>\n",
       "    .dataframe tbody tr th:only-of-type {\n",
       "        vertical-align: middle;\n",
       "    }\n",
       "\n",
       "    .dataframe tbody tr th {\n",
       "        vertical-align: top;\n",
       "    }\n",
       "\n",
       "    .dataframe thead th {\n",
       "        text-align: right;\n",
       "    }\n",
       "</style>\n",
       "<table border=\"1\" class=\"dataframe\">\n",
       "  <thead>\n",
       "    <tr style=\"text-align: right;\">\n",
       "      <th></th>\n",
       "      <th>Region</th>\n",
       "      <th>Date</th>\n",
       "      <th>Frequency</th>\n",
       "      <th>Estimated Unemployment Rate (%)</th>\n",
       "      <th>Estimated Employed</th>\n",
       "      <th>Estimated Labour Participation Rate (%)</th>\n",
       "      <th>Region.1</th>\n",
       "      <th>longitude</th>\n",
       "      <th>latitude</th>\n",
       "    </tr>\n",
       "  </thead>\n",
       "  <tbody>\n",
       "    <tr>\n",
       "      <th>0</th>\n",
       "      <td>Andhra Pradesh</td>\n",
       "      <td>31-01-2020</td>\n",
       "      <td>M</td>\n",
       "      <td>5.48</td>\n",
       "      <td>16635535</td>\n",
       "      <td>41.02</td>\n",
       "      <td>South</td>\n",
       "      <td>15.9129</td>\n",
       "      <td>79.74</td>\n",
       "    </tr>\n",
       "    <tr>\n",
       "      <th>1</th>\n",
       "      <td>Andhra Pradesh</td>\n",
       "      <td>29-02-2020</td>\n",
       "      <td>M</td>\n",
       "      <td>5.83</td>\n",
       "      <td>16545652</td>\n",
       "      <td>40.90</td>\n",
       "      <td>South</td>\n",
       "      <td>15.9129</td>\n",
       "      <td>79.74</td>\n",
       "    </tr>\n",
       "    <tr>\n",
       "      <th>2</th>\n",
       "      <td>Andhra Pradesh</td>\n",
       "      <td>31-03-2020</td>\n",
       "      <td>M</td>\n",
       "      <td>5.79</td>\n",
       "      <td>15881197</td>\n",
       "      <td>39.18</td>\n",
       "      <td>South</td>\n",
       "      <td>15.9129</td>\n",
       "      <td>79.74</td>\n",
       "    </tr>\n",
       "    <tr>\n",
       "      <th>3</th>\n",
       "      <td>Andhra Pradesh</td>\n",
       "      <td>30-04-2020</td>\n",
       "      <td>M</td>\n",
       "      <td>20.51</td>\n",
       "      <td>11336911</td>\n",
       "      <td>33.10</td>\n",
       "      <td>South</td>\n",
       "      <td>15.9129</td>\n",
       "      <td>79.74</td>\n",
       "    </tr>\n",
       "    <tr>\n",
       "      <th>4</th>\n",
       "      <td>Andhra Pradesh</td>\n",
       "      <td>31-05-2020</td>\n",
       "      <td>M</td>\n",
       "      <td>17.43</td>\n",
       "      <td>12988845</td>\n",
       "      <td>36.46</td>\n",
       "      <td>South</td>\n",
       "      <td>15.9129</td>\n",
       "      <td>79.74</td>\n",
       "    </tr>\n",
       "  </tbody>\n",
       "</table>\n",
       "</div>"
      ],
      "text/plain": [
       "           Region         Date  Frequency   Estimated Unemployment Rate (%)  \\\n",
       "0  Andhra Pradesh   31-01-2020          M                              5.48   \n",
       "1  Andhra Pradesh   29-02-2020          M                              5.83   \n",
       "2  Andhra Pradesh   31-03-2020          M                              5.79   \n",
       "3  Andhra Pradesh   30-04-2020          M                             20.51   \n",
       "4  Andhra Pradesh   31-05-2020          M                             17.43   \n",
       "\n",
       "    Estimated Employed   Estimated Labour Participation Rate (%) Region.1  \\\n",
       "0             16635535                                     41.02    South   \n",
       "1             16545652                                     40.90    South   \n",
       "2             15881197                                     39.18    South   \n",
       "3             11336911                                     33.10    South   \n",
       "4             12988845                                     36.46    South   \n",
       "\n",
       "   longitude  latitude  \n",
       "0    15.9129     79.74  \n",
       "1    15.9129     79.74  \n",
       "2    15.9129     79.74  \n",
       "3    15.9129     79.74  \n",
       "4    15.9129     79.74  "
      ]
     },
     "execution_count": 2,
     "metadata": {},
     "output_type": "execute_result"
    }
   ],
   "source": [
    "df = pd.read_csv(r\"C:\\Users\\khare\\OneDrive\\Desktop\\python projects\\Unemployment_Rate_upto_11_2020.csv\")\n",
    "df.head()"
   ]
  },
  {
   "cell_type": "code",
   "execution_count": 3,
   "id": "27f4bf68-e184-4a27-b743-80adb1f944de",
   "metadata": {},
   "outputs": [
    {
     "data": {
      "text/html": [
       "<div>\n",
       "<style scoped>\n",
       "    .dataframe tbody tr th:only-of-type {\n",
       "        vertical-align: middle;\n",
       "    }\n",
       "\n",
       "    .dataframe tbody tr th {\n",
       "        vertical-align: top;\n",
       "    }\n",
       "\n",
       "    .dataframe thead th {\n",
       "        text-align: right;\n",
       "    }\n",
       "</style>\n",
       "<table border=\"1\" class=\"dataframe\">\n",
       "  <thead>\n",
       "    <tr style=\"text-align: right;\">\n",
       "      <th></th>\n",
       "      <th>Region</th>\n",
       "      <th>Date</th>\n",
       "      <th>Frequency</th>\n",
       "      <th>Estimated Unemployment Rate (%)</th>\n",
       "      <th>Estimated Employed</th>\n",
       "      <th>Estimated Labour Participation Rate (%)</th>\n",
       "      <th>Region.1</th>\n",
       "      <th>longitude</th>\n",
       "      <th>latitude</th>\n",
       "    </tr>\n",
       "  </thead>\n",
       "  <tbody>\n",
       "    <tr>\n",
       "      <th>262</th>\n",
       "      <td>West Bengal</td>\n",
       "      <td>30-06-2020</td>\n",
       "      <td>M</td>\n",
       "      <td>7.29</td>\n",
       "      <td>30726310</td>\n",
       "      <td>40.39</td>\n",
       "      <td>East</td>\n",
       "      <td>22.9868</td>\n",
       "      <td>87.855</td>\n",
       "    </tr>\n",
       "    <tr>\n",
       "      <th>263</th>\n",
       "      <td>West Bengal</td>\n",
       "      <td>31-07-2020</td>\n",
       "      <td>M</td>\n",
       "      <td>6.83</td>\n",
       "      <td>35372506</td>\n",
       "      <td>46.17</td>\n",
       "      <td>East</td>\n",
       "      <td>22.9868</td>\n",
       "      <td>87.855</td>\n",
       "    </tr>\n",
       "    <tr>\n",
       "      <th>264</th>\n",
       "      <td>West Bengal</td>\n",
       "      <td>31-08-2020</td>\n",
       "      <td>M</td>\n",
       "      <td>14.87</td>\n",
       "      <td>33298644</td>\n",
       "      <td>47.48</td>\n",
       "      <td>East</td>\n",
       "      <td>22.9868</td>\n",
       "      <td>87.855</td>\n",
       "    </tr>\n",
       "    <tr>\n",
       "      <th>265</th>\n",
       "      <td>West Bengal</td>\n",
       "      <td>30-09-2020</td>\n",
       "      <td>M</td>\n",
       "      <td>9.35</td>\n",
       "      <td>35707239</td>\n",
       "      <td>47.73</td>\n",
       "      <td>East</td>\n",
       "      <td>22.9868</td>\n",
       "      <td>87.855</td>\n",
       "    </tr>\n",
       "    <tr>\n",
       "      <th>266</th>\n",
       "      <td>West Bengal</td>\n",
       "      <td>31-10-2020</td>\n",
       "      <td>M</td>\n",
       "      <td>9.98</td>\n",
       "      <td>33962549</td>\n",
       "      <td>45.63</td>\n",
       "      <td>East</td>\n",
       "      <td>22.9868</td>\n",
       "      <td>87.855</td>\n",
       "    </tr>\n",
       "  </tbody>\n",
       "</table>\n",
       "</div>"
      ],
      "text/plain": [
       "          Region         Date  Frequency   Estimated Unemployment Rate (%)  \\\n",
       "262  West Bengal   30-06-2020          M                              7.29   \n",
       "263  West Bengal   31-07-2020          M                              6.83   \n",
       "264  West Bengal   31-08-2020          M                             14.87   \n",
       "265  West Bengal   30-09-2020          M                              9.35   \n",
       "266  West Bengal   31-10-2020          M                              9.98   \n",
       "\n",
       "      Estimated Employed   Estimated Labour Participation Rate (%) Region.1  \\\n",
       "262             30726310                                     40.39     East   \n",
       "263             35372506                                     46.17     East   \n",
       "264             33298644                                     47.48     East   \n",
       "265             35707239                                     47.73     East   \n",
       "266             33962549                                     45.63     East   \n",
       "\n",
       "     longitude  latitude  \n",
       "262    22.9868    87.855  \n",
       "263    22.9868    87.855  \n",
       "264    22.9868    87.855  \n",
       "265    22.9868    87.855  \n",
       "266    22.9868    87.855  "
      ]
     },
     "execution_count": 3,
     "metadata": {},
     "output_type": "execute_result"
    }
   ],
   "source": [
    "df.tail()"
   ]
  },
  {
   "cell_type": "code",
   "execution_count": 4,
   "id": "e67528cb-9d13-4894-b39a-791c8212499a",
   "metadata": {},
   "outputs": [
    {
     "name": "stdout",
     "output_type": "stream",
     "text": [
      "<class 'pandas.core.frame.DataFrame'>\n",
      "RangeIndex: 267 entries, 0 to 266\n",
      "Data columns (total 9 columns):\n",
      " #   Column                                    Non-Null Count  Dtype  \n",
      "---  ------                                    --------------  -----  \n",
      " 0   Region                                    267 non-null    object \n",
      " 1    Date                                     267 non-null    object \n",
      " 2    Frequency                                267 non-null    object \n",
      " 3    Estimated Unemployment Rate (%)          267 non-null    float64\n",
      " 4    Estimated Employed                       267 non-null    int64  \n",
      " 5    Estimated Labour Participation Rate (%)  267 non-null    float64\n",
      " 6   Region.1                                  267 non-null    object \n",
      " 7   longitude                                 267 non-null    float64\n",
      " 8   latitude                                  267 non-null    float64\n",
      "dtypes: float64(4), int64(1), object(4)\n",
      "memory usage: 18.9+ KB\n"
     ]
    }
   ],
   "source": [
    "df.info()"
   ]
  },
  {
   "cell_type": "markdown",
   "id": "d82afba0-ab3a-47ae-a5fa-48104bd602d2",
   "metadata": {},
   "source": [
    "**Renaming the attributes**\n",
    "\n",
    "Region = state\n",
    "\n",
    "Date = date\n",
    "\n",
    "Frequency = frequency\n",
    "\n",
    "Estimated Unemployment Rate (%) = estimated unemployment rate\n",
    "\n",
    "Estimated Employed = estimated employment\n",
    "\n",
    "Estimated Labour Participation Rate (%) = estimated labour participation rate\n",
    "\n",
    "Region.1 = region\n",
    "\n",
    "longitude = longitude\n",
    "\n",
    "latitude = latitude\n"
   ]
  },
  {
   "cell_type": "markdown",
   "id": "64781853-d0ee-4a09-8621-deebdb45dbce",
   "metadata": {},
   "source": [
    "**Updating column names:**"
   ]
  },
  {
   "cell_type": "code",
   "execution_count": 5,
   "id": "e3961a60-e00f-45d1-adab-6303755839e7",
   "metadata": {},
   "outputs": [
    {
     "data": {
      "text/html": [
       "<div>\n",
       "<style scoped>\n",
       "    .dataframe tbody tr th:only-of-type {\n",
       "        vertical-align: middle;\n",
       "    }\n",
       "\n",
       "    .dataframe tbody tr th {\n",
       "        vertical-align: top;\n",
       "    }\n",
       "\n",
       "    .dataframe thead th {\n",
       "        text-align: right;\n",
       "    }\n",
       "</style>\n",
       "<table border=\"1\" class=\"dataframe\">\n",
       "  <thead>\n",
       "    <tr style=\"text-align: right;\">\n",
       "      <th></th>\n",
       "      <th>state</th>\n",
       "      <th>date</th>\n",
       "      <th>frequency</th>\n",
       "      <th>estimated unemployment rate</th>\n",
       "      <th>estimated employed</th>\n",
       "      <th>estimated labour participation rate</th>\n",
       "      <th>region</th>\n",
       "      <th>longitude</th>\n",
       "      <th>latitude</th>\n",
       "    </tr>\n",
       "  </thead>\n",
       "  <tbody>\n",
       "    <tr>\n",
       "      <th>0</th>\n",
       "      <td>Andhra Pradesh</td>\n",
       "      <td>31-01-2020</td>\n",
       "      <td>M</td>\n",
       "      <td>5.48</td>\n",
       "      <td>16635535</td>\n",
       "      <td>41.02</td>\n",
       "      <td>South</td>\n",
       "      <td>15.9129</td>\n",
       "      <td>79.74</td>\n",
       "    </tr>\n",
       "    <tr>\n",
       "      <th>1</th>\n",
       "      <td>Andhra Pradesh</td>\n",
       "      <td>29-02-2020</td>\n",
       "      <td>M</td>\n",
       "      <td>5.83</td>\n",
       "      <td>16545652</td>\n",
       "      <td>40.90</td>\n",
       "      <td>South</td>\n",
       "      <td>15.9129</td>\n",
       "      <td>79.74</td>\n",
       "    </tr>\n",
       "    <tr>\n",
       "      <th>2</th>\n",
       "      <td>Andhra Pradesh</td>\n",
       "      <td>31-03-2020</td>\n",
       "      <td>M</td>\n",
       "      <td>5.79</td>\n",
       "      <td>15881197</td>\n",
       "      <td>39.18</td>\n",
       "      <td>South</td>\n",
       "      <td>15.9129</td>\n",
       "      <td>79.74</td>\n",
       "    </tr>\n",
       "    <tr>\n",
       "      <th>3</th>\n",
       "      <td>Andhra Pradesh</td>\n",
       "      <td>30-04-2020</td>\n",
       "      <td>M</td>\n",
       "      <td>20.51</td>\n",
       "      <td>11336911</td>\n",
       "      <td>33.10</td>\n",
       "      <td>South</td>\n",
       "      <td>15.9129</td>\n",
       "      <td>79.74</td>\n",
       "    </tr>\n",
       "    <tr>\n",
       "      <th>4</th>\n",
       "      <td>Andhra Pradesh</td>\n",
       "      <td>31-05-2020</td>\n",
       "      <td>M</td>\n",
       "      <td>17.43</td>\n",
       "      <td>12988845</td>\n",
       "      <td>36.46</td>\n",
       "      <td>South</td>\n",
       "      <td>15.9129</td>\n",
       "      <td>79.74</td>\n",
       "    </tr>\n",
       "  </tbody>\n",
       "</table>\n",
       "</div>"
      ],
      "text/plain": [
       "            state         date frequency  estimated unemployment rate  \\\n",
       "0  Andhra Pradesh   31-01-2020         M                         5.48   \n",
       "1  Andhra Pradesh   29-02-2020         M                         5.83   \n",
       "2  Andhra Pradesh   31-03-2020         M                         5.79   \n",
       "3  Andhra Pradesh   30-04-2020         M                        20.51   \n",
       "4  Andhra Pradesh   31-05-2020         M                        17.43   \n",
       "\n",
       "   estimated employed  estimated labour participation rate region  longitude  \\\n",
       "0            16635535                                41.02  South    15.9129   \n",
       "1            16545652                                40.90  South    15.9129   \n",
       "2            15881197                                39.18  South    15.9129   \n",
       "3            11336911                                33.10  South    15.9129   \n",
       "4            12988845                                36.46  South    15.9129   \n",
       "\n",
       "   latitude  \n",
       "0     79.74  \n",
       "1     79.74  \n",
       "2     79.74  \n",
       "3     79.74  \n",
       "4     79.74  "
      ]
     },
     "execution_count": 5,
     "metadata": {},
     "output_type": "execute_result"
    }
   ],
   "source": [
    "df.columns = ['state','date','frequency','estimated unemployment rate','estimated employed','estimated labour participation rate','region','longitude','latitude']\n",
    "df.head()"
   ]
  },
  {
   "cell_type": "markdown",
   "id": "f91a4707-98a2-44fe-bfd0-f94c481625b3",
   "metadata": {},
   "source": [
    "**Revealing basic information of the dataset**"
   ]
  },
  {
   "cell_type": "code",
   "execution_count": 6,
   "id": "3c7ee492-2923-42eb-b42e-2e73004447d2",
   "metadata": {},
   "outputs": [
    {
     "data": {
      "text/plain": [
       "(267, 9)"
      ]
     },
     "execution_count": 6,
     "metadata": {},
     "output_type": "execute_result"
    }
   ],
   "source": [
    "df.shape"
   ]
  },
  {
   "cell_type": "code",
   "execution_count": 7,
   "id": "07627db6-584b-4c3c-8496-82c039cd984d",
   "metadata": {},
   "outputs": [
    {
     "data": {
      "text/plain": [
       "Index(['state', 'date', 'frequency', 'estimated unemployment rate',\n",
       "       'estimated employed', 'estimated labour participation rate', 'region',\n",
       "       'longitude', 'latitude'],\n",
       "      dtype='object')"
      ]
     },
     "execution_count": 7,
     "metadata": {},
     "output_type": "execute_result"
    }
   ],
   "source": [
    "df.columns"
   ]
  },
  {
   "cell_type": "code",
   "execution_count": 8,
   "id": "ca97bfc5-122c-40ba-8f4b-e2a6de550c6a",
   "metadata": {},
   "outputs": [
    {
     "data": {
      "text/html": [
       "<div>\n",
       "<style scoped>\n",
       "    .dataframe tbody tr th:only-of-type {\n",
       "        vertical-align: middle;\n",
       "    }\n",
       "\n",
       "    .dataframe tbody tr th {\n",
       "        vertical-align: top;\n",
       "    }\n",
       "\n",
       "    .dataframe thead th {\n",
       "        text-align: right;\n",
       "    }\n",
       "</style>\n",
       "<table border=\"1\" class=\"dataframe\">\n",
       "  <thead>\n",
       "    <tr style=\"text-align: right;\">\n",
       "      <th></th>\n",
       "      <th>estimated unemployment rate</th>\n",
       "      <th>estimated employed</th>\n",
       "      <th>estimated labour participation rate</th>\n",
       "      <th>longitude</th>\n",
       "      <th>latitude</th>\n",
       "    </tr>\n",
       "  </thead>\n",
       "  <tbody>\n",
       "    <tr>\n",
       "      <th>count</th>\n",
       "      <td>267.000000</td>\n",
       "      <td>2.670000e+02</td>\n",
       "      <td>267.000000</td>\n",
       "      <td>267.000000</td>\n",
       "      <td>267.000000</td>\n",
       "    </tr>\n",
       "    <tr>\n",
       "      <th>mean</th>\n",
       "      <td>12.236929</td>\n",
       "      <td>1.396211e+07</td>\n",
       "      <td>41.681573</td>\n",
       "      <td>22.826048</td>\n",
       "      <td>80.532425</td>\n",
       "    </tr>\n",
       "    <tr>\n",
       "      <th>std</th>\n",
       "      <td>10.803283</td>\n",
       "      <td>1.336632e+07</td>\n",
       "      <td>7.845419</td>\n",
       "      <td>6.270731</td>\n",
       "      <td>5.831738</td>\n",
       "    </tr>\n",
       "    <tr>\n",
       "      <th>min</th>\n",
       "      <td>0.500000</td>\n",
       "      <td>1.175420e+05</td>\n",
       "      <td>16.770000</td>\n",
       "      <td>10.850500</td>\n",
       "      <td>71.192400</td>\n",
       "    </tr>\n",
       "    <tr>\n",
       "      <th>25%</th>\n",
       "      <td>4.845000</td>\n",
       "      <td>2.838930e+06</td>\n",
       "      <td>37.265000</td>\n",
       "      <td>18.112400</td>\n",
       "      <td>76.085600</td>\n",
       "    </tr>\n",
       "    <tr>\n",
       "      <th>50%</th>\n",
       "      <td>9.650000</td>\n",
       "      <td>9.732417e+06</td>\n",
       "      <td>40.390000</td>\n",
       "      <td>23.610200</td>\n",
       "      <td>79.019300</td>\n",
       "    </tr>\n",
       "    <tr>\n",
       "      <th>75%</th>\n",
       "      <td>16.755000</td>\n",
       "      <td>2.187869e+07</td>\n",
       "      <td>44.055000</td>\n",
       "      <td>27.278400</td>\n",
       "      <td>85.279900</td>\n",
       "    </tr>\n",
       "    <tr>\n",
       "      <th>max</th>\n",
       "      <td>75.850000</td>\n",
       "      <td>5.943376e+07</td>\n",
       "      <td>69.690000</td>\n",
       "      <td>33.778200</td>\n",
       "      <td>92.937600</td>\n",
       "    </tr>\n",
       "  </tbody>\n",
       "</table>\n",
       "</div>"
      ],
      "text/plain": [
       "       estimated unemployment rate  estimated employed  \\\n",
       "count                   267.000000        2.670000e+02   \n",
       "mean                     12.236929        1.396211e+07   \n",
       "std                      10.803283        1.336632e+07   \n",
       "min                       0.500000        1.175420e+05   \n",
       "25%                       4.845000        2.838930e+06   \n",
       "50%                       9.650000        9.732417e+06   \n",
       "75%                      16.755000        2.187869e+07   \n",
       "max                      75.850000        5.943376e+07   \n",
       "\n",
       "       estimated labour participation rate   longitude    latitude  \n",
       "count                           267.000000  267.000000  267.000000  \n",
       "mean                             41.681573   22.826048   80.532425  \n",
       "std                               7.845419    6.270731    5.831738  \n",
       "min                              16.770000   10.850500   71.192400  \n",
       "25%                              37.265000   18.112400   76.085600  \n",
       "50%                              40.390000   23.610200   79.019300  \n",
       "75%                              44.055000   27.278400   85.279900  \n",
       "max                              69.690000   33.778200   92.937600  "
      ]
     },
     "execution_count": 8,
     "metadata": {},
     "output_type": "execute_result"
    }
   ],
   "source": [
    "df.describe()"
   ]
  },
  {
   "cell_type": "code",
   "execution_count": 9,
   "id": "1ebbe098-3767-4baf-b590-9623c3c28753",
   "metadata": {},
   "outputs": [
    {
     "data": {
      "text/plain": [
       "state                                  0\n",
       "date                                   0\n",
       "frequency                              0\n",
       "estimated unemployment rate            0\n",
       "estimated employed                     0\n",
       "estimated labour participation rate    0\n",
       "region                                 0\n",
       "longitude                              0\n",
       "latitude                               0\n",
       "dtype: int64"
      ]
     },
     "execution_count": 9,
     "metadata": {},
     "output_type": "execute_result"
    }
   ],
   "source": [
    "df.isnull().sum()"
   ]
  },
  {
   "cell_type": "code",
   "execution_count": 10,
   "id": "58822e24-9968-4530-bf36-1337a490ebad",
   "metadata": {},
   "outputs": [
    {
     "data": {
      "text/plain": [
       "np.False_"
      ]
     },
     "execution_count": 10,
     "metadata": {},
     "output_type": "execute_result"
    }
   ],
   "source": [
    "df.duplicated().any()"
   ]
  },
  {
   "cell_type": "code",
   "execution_count": 11,
   "id": "a8a5eabe-2c85-483f-a433-faf51fa0283f",
   "metadata": {},
   "outputs": [
    {
     "data": {
      "text/plain": [
       "state\n",
       "Andhra Pradesh      10\n",
       "Assam               10\n",
       "Bihar               10\n",
       "Chhattisgarh        10\n",
       "Delhi               10\n",
       "Goa                 10\n",
       "Gujarat             10\n",
       "Haryana             10\n",
       "Himachal Pradesh    10\n",
       "Jharkhand           10\n",
       "Karnataka           10\n",
       "Rajasthan           10\n",
       "Kerala              10\n",
       "Madhya Pradesh      10\n",
       "Maharashtra         10\n",
       "Meghalaya           10\n",
       "Odisha              10\n",
       "Puducherry          10\n",
       "Punjab              10\n",
       "Uttarakhand         10\n",
       "Tamil Nadu          10\n",
       "Telangana           10\n",
       "Tripura             10\n",
       "West Bengal         10\n",
       "Uttar Pradesh       10\n",
       "Jammu & Kashmir      9\n",
       "Sikkim               8\n",
       "Name: count, dtype: int64"
      ]
     },
     "execution_count": 11,
     "metadata": {},
     "output_type": "execute_result"
    }
   ],
   "source": [
    "df.state.value_counts()"
   ]
  },
  {
   "cell_type": "markdown",
   "id": "49440d4a-6ad9-4fc9-8c45-0e175add0583",
   "metadata": {},
   "source": [
    "**Changing the datatype of 'date' from object to datetime**"
   ]
  },
  {
   "cell_type": "code",
   "execution_count": 12,
   "id": "97871089-c52e-4c88-a5d8-db306175d158",
   "metadata": {},
   "outputs": [
    {
     "name": "stdout",
     "output_type": "stream",
     "text": [
      "<class 'pandas.core.frame.DataFrame'>\n",
      "RangeIndex: 267 entries, 0 to 266\n",
      "Data columns (total 9 columns):\n",
      " #   Column                               Non-Null Count  Dtype         \n",
      "---  ------                               --------------  -----         \n",
      " 0   state                                267 non-null    object        \n",
      " 1   date                                 267 non-null    datetime64[ns]\n",
      " 2   frequency                            267 non-null    object        \n",
      " 3   estimated unemployment rate          267 non-null    float64       \n",
      " 4   estimated employed                   267 non-null    int64         \n",
      " 5   estimated labour participation rate  267 non-null    float64       \n",
      " 6   region                               267 non-null    object        \n",
      " 7   longitude                            267 non-null    float64       \n",
      " 8   latitude                             267 non-null    float64       \n",
      "dtypes: datetime64[ns](1), float64(4), int64(1), object(3)\n",
      "memory usage: 18.9+ KB\n"
     ]
    }
   ],
   "source": [
    "df['date'] = pd.to_datetime(df['date'],dayfirst = True)\n",
    "df.info()"
   ]
  },
  {
   "cell_type": "markdown",
   "id": "5534af84-22a0-4412-9cae-4d121a4e9c42",
   "metadata": {},
   "source": [
    "**Extracting month from date attribute**\n"
   ]
  },
  {
   "cell_type": "code",
   "execution_count": 13,
   "id": "28015899-fd01-47db-a732-ae203c498b0b",
   "metadata": {},
   "outputs": [
    {
     "data": {
      "text/html": [
       "<div>\n",
       "<style scoped>\n",
       "    .dataframe tbody tr th:only-of-type {\n",
       "        vertical-align: middle;\n",
       "    }\n",
       "\n",
       "    .dataframe tbody tr th {\n",
       "        vertical-align: top;\n",
       "    }\n",
       "\n",
       "    .dataframe thead th {\n",
       "        text-align: right;\n",
       "    }\n",
       "</style>\n",
       "<table border=\"1\" class=\"dataframe\">\n",
       "  <thead>\n",
       "    <tr style=\"text-align: right;\">\n",
       "      <th></th>\n",
       "      <th>state</th>\n",
       "      <th>date</th>\n",
       "      <th>frequency</th>\n",
       "      <th>estimated unemployment rate</th>\n",
       "      <th>estimated employed</th>\n",
       "      <th>estimated labour participation rate</th>\n",
       "      <th>region</th>\n",
       "      <th>longitude</th>\n",
       "      <th>latitude</th>\n",
       "      <th>month_int</th>\n",
       "    </tr>\n",
       "  </thead>\n",
       "  <tbody>\n",
       "    <tr>\n",
       "      <th>0</th>\n",
       "      <td>Andhra Pradesh</td>\n",
       "      <td>2020-01-31</td>\n",
       "      <td>M</td>\n",
       "      <td>5.48</td>\n",
       "      <td>16635535</td>\n",
       "      <td>41.02</td>\n",
       "      <td>South</td>\n",
       "      <td>15.9129</td>\n",
       "      <td>79.74</td>\n",
       "      <td>1</td>\n",
       "    </tr>\n",
       "    <tr>\n",
       "      <th>1</th>\n",
       "      <td>Andhra Pradesh</td>\n",
       "      <td>2020-02-29</td>\n",
       "      <td>M</td>\n",
       "      <td>5.83</td>\n",
       "      <td>16545652</td>\n",
       "      <td>40.90</td>\n",
       "      <td>South</td>\n",
       "      <td>15.9129</td>\n",
       "      <td>79.74</td>\n",
       "      <td>2</td>\n",
       "    </tr>\n",
       "    <tr>\n",
       "      <th>2</th>\n",
       "      <td>Andhra Pradesh</td>\n",
       "      <td>2020-03-31</td>\n",
       "      <td>M</td>\n",
       "      <td>5.79</td>\n",
       "      <td>15881197</td>\n",
       "      <td>39.18</td>\n",
       "      <td>South</td>\n",
       "      <td>15.9129</td>\n",
       "      <td>79.74</td>\n",
       "      <td>3</td>\n",
       "    </tr>\n",
       "    <tr>\n",
       "      <th>3</th>\n",
       "      <td>Andhra Pradesh</td>\n",
       "      <td>2020-04-30</td>\n",
       "      <td>M</td>\n",
       "      <td>20.51</td>\n",
       "      <td>11336911</td>\n",
       "      <td>33.10</td>\n",
       "      <td>South</td>\n",
       "      <td>15.9129</td>\n",
       "      <td>79.74</td>\n",
       "      <td>4</td>\n",
       "    </tr>\n",
       "    <tr>\n",
       "      <th>4</th>\n",
       "      <td>Andhra Pradesh</td>\n",
       "      <td>2020-05-31</td>\n",
       "      <td>M</td>\n",
       "      <td>17.43</td>\n",
       "      <td>12988845</td>\n",
       "      <td>36.46</td>\n",
       "      <td>South</td>\n",
       "      <td>15.9129</td>\n",
       "      <td>79.74</td>\n",
       "      <td>5</td>\n",
       "    </tr>\n",
       "  </tbody>\n",
       "</table>\n",
       "</div>"
      ],
      "text/plain": [
       "            state       date frequency  estimated unemployment rate  \\\n",
       "0  Andhra Pradesh 2020-01-31         M                         5.48   \n",
       "1  Andhra Pradesh 2020-02-29         M                         5.83   \n",
       "2  Andhra Pradesh 2020-03-31         M                         5.79   \n",
       "3  Andhra Pradesh 2020-04-30         M                        20.51   \n",
       "4  Andhra Pradesh 2020-05-31         M                        17.43   \n",
       "\n",
       "   estimated employed  estimated labour participation rate region  longitude  \\\n",
       "0            16635535                                41.02  South    15.9129   \n",
       "1            16545652                                40.90  South    15.9129   \n",
       "2            15881197                                39.18  South    15.9129   \n",
       "3            11336911                                33.10  South    15.9129   \n",
       "4            12988845                                36.46  South    15.9129   \n",
       "\n",
       "   latitude  month_int  \n",
       "0     79.74          1  \n",
       "1     79.74          2  \n",
       "2     79.74          3  \n",
       "3     79.74          4  \n",
       "4     79.74          5  "
      ]
     },
     "execution_count": 13,
     "metadata": {},
     "output_type": "execute_result"
    }
   ],
   "source": [
    "df['month_int'] = df['date'].dt.month\n",
    "df.head()"
   ]
  },
  {
   "cell_type": "markdown",
   "id": "3fa74655-b654-4b1e-b8b0-afd4146b700e",
   "metadata": {},
   "source": [
    "**The months are in integer datetype. We need to convert the months into words for better analysis**"
   ]
  },
  {
   "cell_type": "code",
   "execution_count": 14,
   "id": "4d6326d8-a380-4e5f-ac7e-841210866bbd",
   "metadata": {},
   "outputs": [
    {
     "data": {
      "text/html": [
       "<div>\n",
       "<style scoped>\n",
       "    .dataframe tbody tr th:only-of-type {\n",
       "        vertical-align: middle;\n",
       "    }\n",
       "\n",
       "    .dataframe tbody tr th {\n",
       "        vertical-align: top;\n",
       "    }\n",
       "\n",
       "    .dataframe thead th {\n",
       "        text-align: right;\n",
       "    }\n",
       "</style>\n",
       "<table border=\"1\" class=\"dataframe\">\n",
       "  <thead>\n",
       "    <tr style=\"text-align: right;\">\n",
       "      <th></th>\n",
       "      <th>state</th>\n",
       "      <th>date</th>\n",
       "      <th>frequency</th>\n",
       "      <th>estimated unemployment rate</th>\n",
       "      <th>estimated employed</th>\n",
       "      <th>estimated labour participation rate</th>\n",
       "      <th>region</th>\n",
       "      <th>longitude</th>\n",
       "      <th>latitude</th>\n",
       "      <th>month_int</th>\n",
       "      <th>month</th>\n",
       "    </tr>\n",
       "  </thead>\n",
       "  <tbody>\n",
       "    <tr>\n",
       "      <th>0</th>\n",
       "      <td>Andhra Pradesh</td>\n",
       "      <td>2020-01-31</td>\n",
       "      <td>M</td>\n",
       "      <td>5.48</td>\n",
       "      <td>16635535</td>\n",
       "      <td>41.02</td>\n",
       "      <td>South</td>\n",
       "      <td>15.9129</td>\n",
       "      <td>79.74</td>\n",
       "      <td>1</td>\n",
       "      <td>Jan</td>\n",
       "    </tr>\n",
       "    <tr>\n",
       "      <th>1</th>\n",
       "      <td>Andhra Pradesh</td>\n",
       "      <td>2020-02-29</td>\n",
       "      <td>M</td>\n",
       "      <td>5.83</td>\n",
       "      <td>16545652</td>\n",
       "      <td>40.90</td>\n",
       "      <td>South</td>\n",
       "      <td>15.9129</td>\n",
       "      <td>79.74</td>\n",
       "      <td>2</td>\n",
       "      <td>Feb</td>\n",
       "    </tr>\n",
       "    <tr>\n",
       "      <th>2</th>\n",
       "      <td>Andhra Pradesh</td>\n",
       "      <td>2020-03-31</td>\n",
       "      <td>M</td>\n",
       "      <td>5.79</td>\n",
       "      <td>15881197</td>\n",
       "      <td>39.18</td>\n",
       "      <td>South</td>\n",
       "      <td>15.9129</td>\n",
       "      <td>79.74</td>\n",
       "      <td>3</td>\n",
       "      <td>Mar</td>\n",
       "    </tr>\n",
       "    <tr>\n",
       "      <th>3</th>\n",
       "      <td>Andhra Pradesh</td>\n",
       "      <td>2020-04-30</td>\n",
       "      <td>M</td>\n",
       "      <td>20.51</td>\n",
       "      <td>11336911</td>\n",
       "      <td>33.10</td>\n",
       "      <td>South</td>\n",
       "      <td>15.9129</td>\n",
       "      <td>79.74</td>\n",
       "      <td>4</td>\n",
       "      <td>Apr</td>\n",
       "    </tr>\n",
       "    <tr>\n",
       "      <th>4</th>\n",
       "      <td>Andhra Pradesh</td>\n",
       "      <td>2020-05-31</td>\n",
       "      <td>M</td>\n",
       "      <td>17.43</td>\n",
       "      <td>12988845</td>\n",
       "      <td>36.46</td>\n",
       "      <td>South</td>\n",
       "      <td>15.9129</td>\n",
       "      <td>79.74</td>\n",
       "      <td>5</td>\n",
       "      <td>May</td>\n",
       "    </tr>\n",
       "  </tbody>\n",
       "</table>\n",
       "</div>"
      ],
      "text/plain": [
       "            state       date frequency  estimated unemployment rate  \\\n",
       "0  Andhra Pradesh 2020-01-31         M                         5.48   \n",
       "1  Andhra Pradesh 2020-02-29         M                         5.83   \n",
       "2  Andhra Pradesh 2020-03-31         M                         5.79   \n",
       "3  Andhra Pradesh 2020-04-30         M                        20.51   \n",
       "4  Andhra Pradesh 2020-05-31         M                        17.43   \n",
       "\n",
       "   estimated employed  estimated labour participation rate region  longitude  \\\n",
       "0            16635535                                41.02  South    15.9129   \n",
       "1            16545652                                40.90  South    15.9129   \n",
       "2            15881197                                39.18  South    15.9129   \n",
       "3            11336911                                33.10  South    15.9129   \n",
       "4            12988845                                36.46  South    15.9129   \n",
       "\n",
       "   latitude  month_int month  \n",
       "0     79.74          1   Jan  \n",
       "1     79.74          2   Feb  \n",
       "2     79.74          3   Mar  \n",
       "3     79.74          4   Apr  \n",
       "4     79.74          5   May  "
      ]
     },
     "execution_count": 14,
     "metadata": {},
     "output_type": "execute_result"
    }
   ],
   "source": [
    "df['month'] = df['month_int'].apply(lambda x: calendar.month_abbr[x])\n",
    "df.head()"
   ]
  },
  {
   "cell_type": "markdown",
   "id": "902035ea-82f9-4179-95c0-580f31aa6106",
   "metadata": {},
   "source": [
    "**Numeric data grouped by months**"
   ]
  },
  {
   "cell_type": "markdown",
   "id": "6a2a6d10-08cd-4841-8b7d-5292d5f66466",
   "metadata": {},
   "source": [
    "**Bar plot of unemployment rate and labour participation rate**"
   ]
  },
  {
   "cell_type": "code",
   "execution_count": 17,
   "id": "d794e9d8-4ac8-4186-b798-0eafc814b739",
   "metadata": {},
   "outputs": [
    {
     "data": {
      "application/vnd.plotly.v1+json": {
       "config": {
        "plotlyServerURL": "https://plot.ly"
       },
       "data": [
        {
         "name": "Unemployment Rate",
         "type": "bar",
         "x": [
          "Jan",
          "Feb",
          "Mar",
          "Apr",
          "May",
          "Jun",
          "Jul",
          "Aug",
          "Sep",
          "Oct",
          "Jan",
          "Feb",
          "Mar",
          "Apr",
          "May",
          "Jun",
          "Jul",
          "Aug",
          "Sep",
          "Oct",
          "Jan",
          "Feb",
          "Mar",
          "Apr",
          "May",
          "Jun",
          "Jul",
          "Aug",
          "Sep",
          "Oct",
          "Jan",
          "Feb",
          "Mar",
          "Apr",
          "May",
          "Jun",
          "Jul",
          "Aug",
          "Sep",
          "Oct",
          "Jan",
          "Feb",
          "Mar",
          "Apr",
          "May",
          "Jun",
          "Jul",
          "Aug",
          "Sep",
          "Oct",
          "Jan",
          "Feb",
          "Mar",
          "Apr",
          "May",
          "Jun",
          "Jul",
          "Aug",
          "Sep",
          "Oct",
          "Jan",
          "Feb",
          "Mar",
          "Apr",
          "May",
          "Jun",
          "Jul",
          "Aug",
          "Sep",
          "Oct",
          "Jan",
          "Feb",
          "Mar",
          "Apr",
          "May",
          "Jun",
          "Jul",
          "Aug",
          "Sep",
          "Oct",
          "Jan",
          "Feb",
          "Mar",
          "Apr",
          "May",
          "Jun",
          "Jul",
          "Aug",
          "Sep",
          "Oct",
          "Jan",
          "Feb",
          "Mar",
          "May",
          "Jun",
          "Jul",
          "Aug",
          "Sep",
          "Oct",
          "Jan",
          "Feb",
          "Mar",
          "Apr",
          "May",
          "Jun",
          "Jul",
          "Aug",
          "Sep",
          "Oct",
          "Jan",
          "Feb",
          "Mar",
          "Apr",
          "May",
          "Jun",
          "Jul",
          "Aug",
          "Sep",
          "Oct",
          "Jan",
          "Feb",
          "Mar",
          "Apr",
          "May",
          "Jun",
          "Jul",
          "Aug",
          "Sep",
          "Oct",
          "Jan",
          "Feb",
          "Mar",
          "Apr",
          "May",
          "Jun",
          "Jul",
          "Aug",
          "Sep",
          "Oct",
          "Jan",
          "Feb",
          "Mar",
          "Apr",
          "May",
          "Jun",
          "Jul",
          "Aug",
          "Sep",
          "Oct",
          "Jan",
          "Feb",
          "Mar",
          "Apr",
          "May",
          "Jun",
          "Jul",
          "Aug",
          "Sep",
          "Oct",
          "Jan",
          "Feb",
          "Mar",
          "Apr",
          "May",
          "Jun",
          "Jul",
          "Aug",
          "Sep",
          "Oct",
          "Jan",
          "Feb",
          "Mar",
          "Apr",
          "May",
          "Jun",
          "Jul",
          "Aug",
          "Sep",
          "Oct",
          "Jan",
          "Feb",
          "Mar",
          "Apr",
          "May",
          "Jun",
          "Jul",
          "Aug",
          "Sep",
          "Oct",
          "Jan",
          "Feb",
          "Mar",
          "Apr",
          "May",
          "Jun",
          "Jul",
          "Aug",
          "Sep",
          "Oct",
          "Mar",
          "Apr",
          "May",
          "Jun",
          "Jul",
          "Aug",
          "Sep",
          "Oct",
          "Jan",
          "Feb",
          "Mar",
          "Apr",
          "May",
          "Jun",
          "Jul",
          "Aug",
          "Sep",
          "Oct",
          "Jan",
          "Feb",
          "Mar",
          "Apr",
          "May",
          "Jun",
          "Jul",
          "Aug",
          "Sep",
          "Oct",
          "Jan",
          "Feb",
          "Mar",
          "Apr",
          "May",
          "Jun",
          "Jul",
          "Aug",
          "Sep",
          "Oct",
          "Jan",
          "Feb",
          "Mar",
          "Apr",
          "May",
          "Jun",
          "Jul",
          "Aug",
          "Sep",
          "Oct",
          "Jan",
          "Feb",
          "Mar",
          "Apr",
          "May",
          "Jun",
          "Jul",
          "Aug",
          "Sep",
          "Oct",
          "Jan",
          "Feb",
          "Mar",
          "Apr",
          "May",
          "Jun",
          "Jul",
          "Aug",
          "Sep",
          "Oct"
         ],
         "y": {
          "_inputArray": {
           "0": 5.48,
           "1": 5.83,
           "10": 4.66,
           "100": 11.85,
           "101": 8.23,
           "102": 47.09,
           "103": 59.23,
           "104": 20.95,
           "105": 7.63,
           "106": 9.76,
           "107": 8.24,
           "108": 11.8,
           "109": 2.86,
           "11": 4.41,
           "110": 3.61,
           "111": 3.46,
           "112": 29.84,
           "113": 19.97,
           "114": 8.44,
           "115": 4.01,
           "116": 0.5,
           "117": 2.41,
           "118": 1.58,
           "119": 5.31,
           "12": 4.77,
           "120": 7.6,
           "121": 8.99,
           "122": 16.99,
           "123": 17.88,
           "124": 9.71,
           "125": 7.09,
           "126": 10.98,
           "127": 5.91,
           "128": 3.88,
           "129": 4.11,
           "13": 11.06,
           "130": 4.57,
           "131": 2.22,
           "132": 12.36,
           "133": 21.98,
           "134": 6.48,
           "135": 5.08,
           "136": 4.7,
           "137": 3.91,
           "138": 3.13,
           "139": 4.95,
           "14": 9.55,
           "140": 4.69,
           "141": 5.79,
           "142": 20.9,
           "143": 15.46,
           "144": 9.23,
           "145": 3.89,
           "146": 6.23,
           "147": 4.55,
           "148": 4.1,
           "149": 1.66,
           "15": 0.6,
           "150": 3.59,
           "151": 1.58,
           "152": 10.03,
           "153": 5.92,
           "154": 1.15,
           "155": 2.1,
           "156": 3.74,
           "157": 4.29,
           "158": 4.6,
           "159": 1.9,
           "16": 3.77,
           "160": 3.12,
           "161": 13.08,
           "162": 23.76,
           "163": 11.41,
           "164": 3.77,
           "165": 1.88,
           "166": 1.42,
           "167": 2.1,
           "168": 2.18,
           "169": 0.58,
           "17": 5.53,
           "170": 1.76,
           "171": 1.2,
           "172": 75.85,
           "173": 58.19,
           "174": 4.24,
           "175": 15.47,
           "176": 5.05,
           "177": 10.9,
           "178": 6.18,
           "179": 11.11,
           "18": 1.19,
           "180": 10.97,
           "181": 10.32,
           "182": 2.86,
           "183": 28.33,
           "184": 16.55,
           "185": 9.19,
           "186": 10.99,
           "187": 9.61,
           "188": 9.88,
           "189": 10.97,
           "19": 3.02,
           "190": 15.16,
           "191": 11.9,
           "192": 17.7,
           "193": 15.74,
           "194": 14.39,
           "195": 15.81,
           "196": 17.51,
           "197": 15.35,
           "198": 24.15,
           "199": 23.57,
           "2": 5.79,
           "20": 10.61,
           "200": 2.28,
           "201": 24.51,
           "202": 4.46,
           "203": 4.45,
           "204": 12.49,
           "205": 5.7,
           "206": 0.88,
           "207": 1.57,
           "208": 2.09,
           "209": 6.4,
           "21": 10.29,
           "210": 49.83,
           "211": 33.16,
           "212": 12.2,
           "213": 6.81,
           "214": 2.65,
           "215": 5,
           "216": 2.16,
           "217": 5.49,
           "218": 8.29,
           "219": 5.77,
           "22": 15.43,
           "220": 6.25,
           "221": 14.7,
           "222": 10.55,
           "223": 5.36,
           "224": 5.79,
           "225": 3.27,
           "226": 2.86,
           "227": 32.67,
           "228": 28.4,
           "229": 29.95,
           "23": 46.64,
           "230": 41.23,
           "231": 21.51,
           "232": 21.71,
           "233": 18.24,
           "234": 27.92,
           "235": 17.35,
           "236": 11.57,
           "237": 7.58,
           "238": 8.98,
           "239": 10.11,
           "24": 45.96,
           "240": 21.54,
           "241": 20.41,
           "242": 9.47,
           "243": 5.56,
           "244": 5.79,
           "245": 4.18,
           "246": 3.75,
           "247": 5.49,
           "248": 4.99,
           "249": 19.85,
           "25": 17.82,
           "250": 6.48,
           "251": 8.01,
           "252": 8.61,
           "253": 12.38,
           "254": 14.26,
           "255": 22.26,
           "256": 9.23,
           "257": 6.94,
           "258": 4.92,
           "259": 6.92,
           "26": 12.79,
           "260": 17.41,
           "261": 17.41,
           "262": 7.29,
           "263": 6.83,
           "264": 14.87,
           "265": 9.35,
           "266": 9.98,
           "27": 13.44,
           "28": 11.91,
           "29": 9.82,
           "3": 20.51,
           "30": 9.65,
           "31": 8.38,
           "32": 7.54,
           "33": 3.41,
           "34": 10.5,
           "35": 14.23,
           "36": 10.27,
           "37": 5.63,
           "38": 1.96,
           "39": 6.62,
           "4": 17.43,
           "40": 22.23,
           "41": 14.84,
           "42": 17.04,
           "43": 16.68,
           "44": 42.27,
           "45": 18.19,
           "46": 20.3,
           "47": 13.79,
           "48": 12.53,
           "49": 6.27,
           "5": 3.31,
           "50": 8.89,
           "51": 2.81,
           "52": 5.25,
           "53": 13.31,
           "54": 21.25,
           "55": 9.96,
           "56": 17.07,
           "57": 16.21,
           "58": 15.38,
           "59": 11.54,
           "6": 8.34,
           "60": 5.54,
           "61": 6.38,
           "62": 6.66,
           "63": 18.71,
           "64": 12.11,
           "65": 3.2,
           "66": 1.84,
           "67": 1.87,
           "68": 3.42,
           "69": 4.03,
           "7": 6.96,
           "70": 20.34,
           "71": 25.77,
           "72": 25.05,
           "73": 43.22,
           "74": 29.02,
           "75": 26.7,
           "76": 24.18,
           "77": 33.5,
           "78": 19.68,
           "79": 27.31,
           "8": 6.4,
           "80": 16.83,
           "81": 16.84,
           "82": 18.76,
           "83": 2.2,
           "84": 26.95,
           "85": 13.47,
           "86": 24.31,
           "87": 15.79,
           "88": 12.04,
           "89": 13.46,
           "9": 6.59,
           "90": 21.08,
           "91": 20.78,
           "92": 15.5,
           "93": 18.74,
           "94": 17.92,
           "95": 10.88,
           "96": 11.09,
           "97": 16.17,
           "98": 16.14,
           "99": 10.61,
           "bdata": "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",
           "dtype": "f8",
           "shape": "267"
          },
          "bdata": "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",
          "dtype": "f8"
         }
        },
        {
         "name": "Labour Participation Rate",
         "type": "bar",
         "x": [
          "Jan",
          "Feb",
          "Mar",
          "Apr",
          "May",
          "Jun",
          "Jul",
          "Aug",
          "Sep",
          "Oct",
          "Jan",
          "Feb",
          "Mar",
          "Apr",
          "May",
          "Jun",
          "Jul",
          "Aug",
          "Sep",
          "Oct",
          "Jan",
          "Feb",
          "Mar",
          "Apr",
          "May",
          "Jun",
          "Jul",
          "Aug",
          "Sep",
          "Oct",
          "Jan",
          "Feb",
          "Mar",
          "Apr",
          "May",
          "Jun",
          "Jul",
          "Aug",
          "Sep",
          "Oct",
          "Jan",
          "Feb",
          "Mar",
          "Apr",
          "May",
          "Jun",
          "Jul",
          "Aug",
          "Sep",
          "Oct",
          "Jan",
          "Feb",
          "Mar",
          "Apr",
          "May",
          "Jun",
          "Jul",
          "Aug",
          "Sep",
          "Oct",
          "Jan",
          "Feb",
          "Mar",
          "Apr",
          "May",
          "Jun",
          "Jul",
          "Aug",
          "Sep",
          "Oct",
          "Jan",
          "Feb",
          "Mar",
          "Apr",
          "May",
          "Jun",
          "Jul",
          "Aug",
          "Sep",
          "Oct",
          "Jan",
          "Feb",
          "Mar",
          "Apr",
          "May",
          "Jun",
          "Jul",
          "Aug",
          "Sep",
          "Oct",
          "Jan",
          "Feb",
          "Mar",
          "May",
          "Jun",
          "Jul",
          "Aug",
          "Sep",
          "Oct",
          "Jan",
          "Feb",
          "Mar",
          "Apr",
          "May",
          "Jun",
          "Jul",
          "Aug",
          "Sep",
          "Oct",
          "Jan",
          "Feb",
          "Mar",
          "Apr",
          "May",
          "Jun",
          "Jul",
          "Aug",
          "Sep",
          "Oct",
          "Jan",
          "Feb",
          "Mar",
          "Apr",
          "May",
          "Jun",
          "Jul",
          "Aug",
          "Sep",
          "Oct",
          "Jan",
          "Feb",
          "Mar",
          "Apr",
          "May",
          "Jun",
          "Jul",
          "Aug",
          "Sep",
          "Oct",
          "Jan",
          "Feb",
          "Mar",
          "Apr",
          "May",
          "Jun",
          "Jul",
          "Aug",
          "Sep",
          "Oct",
          "Jan",
          "Feb",
          "Mar",
          "Apr",
          "May",
          "Jun",
          "Jul",
          "Aug",
          "Sep",
          "Oct",
          "Jan",
          "Feb",
          "Mar",
          "Apr",
          "May",
          "Jun",
          "Jul",
          "Aug",
          "Sep",
          "Oct",
          "Jan",
          "Feb",
          "Mar",
          "Apr",
          "May",
          "Jun",
          "Jul",
          "Aug",
          "Sep",
          "Oct",
          "Jan",
          "Feb",
          "Mar",
          "Apr",
          "May",
          "Jun",
          "Jul",
          "Aug",
          "Sep",
          "Oct",
          "Jan",
          "Feb",
          "Mar",
          "Apr",
          "May",
          "Jun",
          "Jul",
          "Aug",
          "Sep",
          "Oct",
          "Mar",
          "Apr",
          "May",
          "Jun",
          "Jul",
          "Aug",
          "Sep",
          "Oct",
          "Jan",
          "Feb",
          "Mar",
          "Apr",
          "May",
          "Jun",
          "Jul",
          "Aug",
          "Sep",
          "Oct",
          "Jan",
          "Feb",
          "Mar",
          "Apr",
          "May",
          "Jun",
          "Jul",
          "Aug",
          "Sep",
          "Oct",
          "Jan",
          "Feb",
          "Mar",
          "Apr",
          "May",
          "Jun",
          "Jul",
          "Aug",
          "Sep",
          "Oct",
          "Jan",
          "Feb",
          "Mar",
          "Apr",
          "May",
          "Jun",
          "Jul",
          "Aug",
          "Sep",
          "Oct",
          "Jan",
          "Feb",
          "Mar",
          "Apr",
          "May",
          "Jun",
          "Jul",
          "Aug",
          "Sep",
          "Oct",
          "Jan",
          "Feb",
          "Mar",
          "Apr",
          "May",
          "Jun",
          "Jul",
          "Aug",
          "Sep",
          "Oct"
         ],
         "y": {
          "_inputArray": {
           "0": 41.02,
           "1": 40.9,
           "10": 52.98,
           "100": 44.4,
           "101": 39.34,
           "102": 37.69,
           "103": 37.92,
           "104": 40.59,
           "105": 38.27,
           "106": 38.31,
           "107": 41.04,
           "108": 43.08,
           "109": 42.18,
           "11": 40.77,
           "110": 40.54,
           "111": 41.14,
           "112": 42.78,
           "113": 43.43,
           "114": 47.29,
           "115": 42.55,
           "116": 43.13,
           "117": 36.66,
           "118": 40.3,
           "119": 37.12,
           "12": 46.73,
           "120": 37.71,
           "121": 32,
           "122": 16.77,
           "123": 34.11,
           "124": 36.11,
           "125": 36.1,
           "126": 35.78,
           "127": 34.6,
           "128": 33.52,
           "129": 39.42,
           "13": 29.55,
           "130": 39,
           "131": 38.24,
           "132": 35.45,
           "133": 38.48,
           "134": 40.04,
           "135": 40.88,
           "136": 40.08,
           "137": 39.2,
           "138": 38.47,
           "139": 44.19,
           "14": 48.26,
           "140": 43.8,
           "141": 41.91,
           "142": 34.32,
           "143": 37.17,
           "144": 42.71,
           "145": 41.57,
           "146": 42.49,
           "147": 42.75,
           "148": 43.75,
           "149": 65.49,
           "15": 35.07,
           "150": 60.2,
           "151": 64.74,
           "152": 45.99,
           "153": 55.24,
           "154": 58.31,
           "155": 62.96,
           "156": 59.88,
           "157": 64.6,
           "158": 61.18,
           "159": 39.44,
           "16": 40.88,
           "160": 41.44,
           "161": 39.62,
           "162": 25.23,
           "163": 37.04,
           "164": 37.45,
           "165": 38.69,
           "166": 39.96,
           "167": 38.63,
           "168": 39.98,
           "169": 37.46,
           "17": 39.52,
           "170": 40.8,
           "171": 34.49,
           "172": 39.3,
           "173": 33.19,
           "174": 30.8,
           "175": 36.64,
           "176": 33.34,
           "177": 36.84,
           "178": 36.32,
           "179": 42.82,
           "18": 54.38,
           "180": 41.72,
           "181": 44.69,
           "182": 28.99,
           "183": 38.39,
           "184": 40.18,
           "185": 42.76,
           "186": 41.99,
           "187": 39.5,
           "188": 38.75,
           "189": 40.51,
           "19": 46.84,
           "190": 41.77,
           "191": 39.54,
           "192": 33.71,
           "193": 40.74,
           "194": 41.38,
           "195": 40.8,
           "196": 41.71,
           "197": 40.83,
           "198": 44.92,
           "199": 60.59,
           "2": 39.18,
           "20": 37.72,
           "200": 38.7,
           "201": 44.88,
           "202": 40.4,
           "203": 48.32,
           "204": 48.49,
           "205": 42.54,
           "206": 42.13,
           "207": 41.96,
           "208": 43.2,
           "209": 43.91,
           "21": 37.35,
           "210": 29.63,
           "211": 26.23,
           "212": 33.16,
           "213": 40.13,
           "214": 42.22,
           "215": 36.77,
           "216": 36.62,
           "217": 59.25,
           "218": 58.24,
           "219": 58.31,
           "22": 38.69,
           "220": 41.06,
           "221": 55.43,
           "222": 53.22,
           "223": 52.1,
           "224": 60.59,
           "225": 54.94,
           "226": 56.58,
           "227": 69.69,
           "228": 68.74,
           "229": 66.89,
           "23": 38.17,
           "230": 51.16,
           "231": 50.81,
           "232": 58.85,
           "233": 50.78,
           "234": 56.21,
           "235": 50.77,
           "236": 54.58,
           "237": 39.63,
           "238": 39.23,
           "239": 38.89,
           "24": 38.16,
           "240": 39.73,
           "241": 38.22,
           "242": 37.29,
           "243": 36.19,
           "244": 35.96,
           "245": 35.45,
           "246": 35.49,
           "247": 32.99,
           "248": 36.48,
           "249": 36.27,
           "25": 36.86,
           "250": 33.23,
           "251": 33.38,
           "252": 33.06,
           "253": 38.07,
           "254": 35.9,
           "255": 39.18,
           "256": 34.03,
           "257": 47.35,
           "258": 47.74,
           "259": 47.27,
           "26": 36.14,
           "260": 39.9,
           "261": 41.92,
           "262": 40.39,
           "263": 46.17,
           "264": 47.48,
           "265": 47.73,
           "266": 45.63,
           "27": 34.59,
           "28": 38.35,
           "29": 35.7,
           "3": 33.1,
           "30": 43.08,
           "31": 45.58,
           "32": 45.59,
           "33": 35.58,
           "34": 35.23,
           "35": 38.48,
           "36": 43.14,
           "37": 42.97,
           "38": 41.14,
           "39": 40.82,
           "4": 36.46,
           "40": 47.79,
           "41": 43.92,
           "42": 42.65,
           "43": 23.8,
           "44": 28.91,
           "45": 34.17,
           "46": 33.97,
           "47": 35.41,
           "48": 35.59,
           "49": 32.36,
           "5": 47.41,
           "50": 35.73,
           "51": 38.38,
           "52": 33.88,
           "53": 44.97,
           "54": 37.36,
           "55": 42.21,
           "56": 42.94,
           "57": 43.76,
           "58": 38.89,
           "59": 34.3,
           "6": 38.91,
           "60": 48.49,
           "61": 50.11,
           "62": 47.75,
           "63": 35.5,
           "64": 38.23,
           "65": 45.96,
           "66": 46.41,
           "67": 43.55,
           "68": 48.41,
           "69": 50.49,
           "7": 37.83,
           "70": 43.36,
           "71": 44.21,
           "72": 39.63,
           "73": 44.38,
           "74": 40.39,
           "75": 42.14,
           "76": 39.77,
           "77": 47.32,
           "78": 39.2,
           "79": 40.6,
           "8": 37.47,
           "80": 45.5,
           "81": 43.3,
           "82": 41.04,
           "83": 19.04,
           "84": 42.7,
           "85": 41.72,
           "86": 48.25,
           "87": 39.42,
           "88": 41.54,
           "89": 40.01,
           "9": 37.34,
           "90": 42.2,
           "91": 39.17,
           "92": 38.18,
           "93": 38.21,
           "94": 37.24,
           "95": 38.03,
           "96": 36.66,
           "97": 36.31,
           "98": 35.05,
           "99": 42.92,
           "bdata": "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",
           "dtype": "f8",
           "shape": "267"
          },
          "bdata": "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",
          "dtype": "f8"
         }
        }
       ],
       "layout": {
        "autosize": true,
        "barmode": "group",
        "template": {
         "data": {
          "bar": [
           {
            "error_x": {
             "color": "#2a3f5f"
            },
            "error_y": {
             "color": "#2a3f5f"
            },
            "marker": {
             "line": {
              "color": "#E5ECF6",
              "width": 0.5
             },
             "pattern": {
              "fillmode": "overlay",
              "size": 10,
              "solidity": 0.2
             }
            },
            "type": "bar"
           }
          ],
          "barpolar": [
           {
            "marker": {
             "line": {
              "color": "#E5ECF6",
              "width": 0.5
             },
             "pattern": {
              "fillmode": "overlay",
              "size": 10,
              "solidity": 0.2
             }
            },
            "type": "barpolar"
           }
          ],
          "carpet": [
           {
            "aaxis": {
             "endlinecolor": "#2a3f5f",
             "gridcolor": "white",
             "linecolor": "white",
             "minorgridcolor": "white",
             "startlinecolor": "#2a3f5f"
            },
            "baxis": {
             "endlinecolor": "#2a3f5f",
             "gridcolor": "white",
             "linecolor": "white",
             "minorgridcolor": "white",
             "startlinecolor": "#2a3f5f"
            },
            "type": "carpet"
           }
          ],
          "choropleth": [
           {
            "colorbar": {
             "outlinewidth": 0,
             "ticks": ""
            },
            "type": "choropleth"
           }
          ],
          "contour": [
           {
            "colorbar": {
             "outlinewidth": 0,
             "ticks": ""
            },
            "colorscale": [
             [
              0,
              "#0d0887"
             ],
             [
              0.1111111111111111,
              "#46039f"
             ],
             [
              0.2222222222222222,
              "#7201a8"
             ],
             [
              0.3333333333333333,
              "#9c179e"
             ],
             [
              0.4444444444444444,
              "#bd3786"
             ],
             [
              0.5555555555555556,
              "#d8576b"
             ],
             [
              0.6666666666666666,
              "#ed7953"
             ],
             [
              0.7777777777777778,
              "#fb9f3a"
             ],
             [
              0.8888888888888888,
              "#fdca26"
             ],
             [
              1,
              "#f0f921"
             ]
            ],
            "type": "contour"
           }
          ],
          "contourcarpet": [
           {
            "colorbar": {
             "outlinewidth": 0,
             "ticks": ""
            },
            "type": "contourcarpet"
           }
          ],
          "heatmap": [
           {
            "colorbar": {
             "outlinewidth": 0,
             "ticks": ""
            },
            "colorscale": [
             [
              0,
              "#0d0887"
             ],
             [
              0.1111111111111111,
              "#46039f"
             ],
             [
              0.2222222222222222,
              "#7201a8"
             ],
             [
              0.3333333333333333,
              "#9c179e"
             ],
             [
              0.4444444444444444,
              "#bd3786"
             ],
             [
              0.5555555555555556,
              "#d8576b"
             ],
             [
              0.6666666666666666,
              "#ed7953"
             ],
             [
              0.7777777777777778,
              "#fb9f3a"
             ],
             [
              0.8888888888888888,
              "#fdca26"
             ],
             [
              1,
              "#f0f921"
             ]
            ],
            "type": "heatmap"
           }
          ],
          "histogram": [
           {
            "marker": {
             "pattern": {
              "fillmode": "overlay",
              "size": 10,
              "solidity": 0.2
             }
            },
            "type": "histogram"
           }
          ],
          "histogram2d": [
           {
            "colorbar": {
             "outlinewidth": 0,
             "ticks": ""
            },
            "colorscale": [
             [
              0,
              "#0d0887"
             ],
             [
              0.1111111111111111,
              "#46039f"
             ],
             [
              0.2222222222222222,
              "#7201a8"
             ],
             [
              0.3333333333333333,
              "#9c179e"
             ],
             [
              0.4444444444444444,
              "#bd3786"
             ],
             [
              0.5555555555555556,
              "#d8576b"
             ],
             [
              0.6666666666666666,
              "#ed7953"
             ],
             [
              0.7777777777777778,
              "#fb9f3a"
             ],
             [
              0.8888888888888888,
              "#fdca26"
             ],
             [
              1,
              "#f0f921"
             ]
            ],
            "type": "histogram2d"
           }
          ],
          "histogram2dcontour": [
           {
            "colorbar": {
             "outlinewidth": 0,
             "ticks": ""
            },
            "colorscale": [
             [
              0,
              "#0d0887"
             ],
             [
              0.1111111111111111,
              "#46039f"
             ],
             [
              0.2222222222222222,
              "#7201a8"
             ],
             [
              0.3333333333333333,
              "#9c179e"
             ],
             [
              0.4444444444444444,
              "#bd3786"
             ],
             [
              0.5555555555555556,
              "#d8576b"
             ],
             [
              0.6666666666666666,
              "#ed7953"
             ],
             [
              0.7777777777777778,
              "#fb9f3a"
             ],
             [
              0.8888888888888888,
              "#fdca26"
             ],
             [
              1,
              "#f0f921"
             ]
            ],
            "type": "histogram2dcontour"
           }
          ],
          "mesh3d": [
           {
            "colorbar": {
             "outlinewidth": 0,
             "ticks": ""
            },
            "type": "mesh3d"
           }
          ],
          "parcoords": [
           {
            "line": {
             "colorbar": {
              "outlinewidth": 0,
              "ticks": ""
             }
            },
            "type": "parcoords"
           }
          ],
          "pie": [
           {
            "automargin": true,
            "type": "pie"
           }
          ],
          "scatter": [
           {
            "fillpattern": {
             "fillmode": "overlay",
             "size": 10,
             "solidity": 0.2
            },
            "type": "scatter"
           }
          ],
          "scatter3d": [
           {
            "line": {
             "colorbar": {
              "outlinewidth": 0,
              "ticks": ""
             }
            },
            "marker": {
             "colorbar": {
              "outlinewidth": 0,
              "ticks": ""
             }
            },
            "type": "scatter3d"
           }
          ],
          "scattercarpet": [
           {
            "marker": {
             "colorbar": {
              "outlinewidth": 0,
              "ticks": ""
             }
            },
            "type": "scattercarpet"
           }
          ],
          "scattergeo": [
           {
            "marker": {
             "colorbar": {
              "outlinewidth": 0,
              "ticks": ""
             }
            },
            "type": "scattergeo"
           }
          ],
          "scattergl": [
           {
            "marker": {
             "colorbar": {
              "outlinewidth": 0,
              "ticks": ""
             }
            },
            "type": "scattergl"
           }
          ],
          "scattermap": [
           {
            "marker": {
             "colorbar": {
              "outlinewidth": 0,
              "ticks": ""
             }
            },
            "type": "scattermap"
           }
          ],
          "scattermapbox": [
           {
            "marker": {
             "colorbar": {
              "outlinewidth": 0,
              "ticks": ""
             }
            },
            "type": "scattermapbox"
           }
          ],
          "scatterpolar": [
           {
            "marker": {
             "colorbar": {
              "outlinewidth": 0,
              "ticks": ""
             }
            },
            "type": "scatterpolar"
           }
          ],
          "scatterpolargl": [
           {
            "marker": {
             "colorbar": {
              "outlinewidth": 0,
              "ticks": ""
             }
            },
            "type": "scatterpolargl"
           }
          ],
          "scatterternary": [
           {
            "marker": {
             "colorbar": {
              "outlinewidth": 0,
              "ticks": ""
             }
            },
            "type": "scatterternary"
           }
          ],
          "surface": [
           {
            "colorbar": {
             "outlinewidth": 0,
             "ticks": ""
            },
            "colorscale": [
             [
              0,
              "#0d0887"
             ],
             [
              0.1111111111111111,
              "#46039f"
             ],
             [
              0.2222222222222222,
              "#7201a8"
             ],
             [
              0.3333333333333333,
              "#9c179e"
             ],
             [
              0.4444444444444444,
              "#bd3786"
             ],
             [
              0.5555555555555556,
              "#d8576b"
             ],
             [
              0.6666666666666666,
              "#ed7953"
             ],
             [
              0.7777777777777778,
              "#fb9f3a"
             ],
             [
              0.8888888888888888,
              "#fdca26"
             ],
             [
              1,
              "#f0f921"
             ]
            ],
            "type": "surface"
           }
          ],
          "table": [
           {
            "cells": {
             "fill": {
              "color": "#EBF0F8"
             },
             "line": {
              "color": "white"
             }
            },
            "header": {
             "fill": {
              "color": "#C8D4E3"
             },
             "line": {
              "color": "white"
             }
            },
            "type": "table"
           }
          ]
         },
         "layout": {
          "annotationdefaults": {
           "arrowcolor": "#2a3f5f",
           "arrowhead": 0,
           "arrowwidth": 1
          },
          "autotypenumbers": "strict",
          "coloraxis": {
           "colorbar": {
            "outlinewidth": 0,
            "ticks": ""
           }
          },
          "colorscale": {
           "diverging": [
            [
             0,
             "#8e0152"
            ],
            [
             0.1,
             "#c51b7d"
            ],
            [
             0.2,
             "#de77ae"
            ],
            [
             0.3,
             "#f1b6da"
            ],
            [
             0.4,
             "#fde0ef"
            ],
            [
             0.5,
             "#f7f7f7"
            ],
            [
             0.6,
             "#e6f5d0"
            ],
            [
             0.7,
             "#b8e186"
            ],
            [
             0.8,
             "#7fbc41"
            ],
            [
             0.9,
             "#4d9221"
            ],
            [
             1,
             "#276419"
            ]
           ],
           "sequential": [
            [
             0,
             "#0d0887"
            ],
            [
             0.1111111111111111,
             "#46039f"
            ],
            [
             0.2222222222222222,
             "#7201a8"
            ],
            [
             0.3333333333333333,
             "#9c179e"
            ],
            [
             0.4444444444444444,
             "#bd3786"
            ],
            [
             0.5555555555555556,
             "#d8576b"
            ],
            [
             0.6666666666666666,
             "#ed7953"
            ],
            [
             0.7777777777777778,
             "#fb9f3a"
            ],
            [
             0.8888888888888888,
             "#fdca26"
            ],
            [
             1,
             "#f0f921"
            ]
           ],
           "sequentialminus": [
            [
             0,
             "#0d0887"
            ],
            [
             0.1111111111111111,
             "#46039f"
            ],
            [
             0.2222222222222222,
             "#7201a8"
            ],
            [
             0.3333333333333333,
             "#9c179e"
            ],
            [
             0.4444444444444444,
             "#bd3786"
            ],
            [
             0.5555555555555556,
             "#d8576b"
            ],
            [
             0.6666666666666666,
             "#ed7953"
            ],
            [
             0.7777777777777778,
             "#fb9f3a"
            ],
            [
             0.8888888888888888,
             "#fdca26"
            ],
            [
             1,
             "#f0f921"
            ]
           ]
          },
          "colorway": [
           "#636efa",
           "#EF553B",
           "#00cc96",
           "#ab63fa",
           "#FFA15A",
           "#19d3f3",
           "#FF6692",
           "#B6E880",
           "#FF97FF",
           "#FECB52"
          ],
          "font": {
           "color": "#2a3f5f"
          },
          "geo": {
           "bgcolor": "white",
           "lakecolor": "white",
           "landcolor": "#E5ECF6",
           "showlakes": true,
           "showland": true,
           "subunitcolor": "white"
          },
          "hoverlabel": {
           "align": "left"
          },
          "hovermode": "closest",
          "mapbox": {
           "style": "light"
          },
          "paper_bgcolor": "white",
          "plot_bgcolor": "#E5ECF6",
          "polar": {
           "angularaxis": {
            "gridcolor": "white",
            "linecolor": "white",
            "ticks": ""
           },
           "bgcolor": "#E5ECF6",
           "radialaxis": {
            "gridcolor": "white",
            "linecolor": "white",
            "ticks": ""
           }
          },
          "scene": {
           "xaxis": {
            "backgroundcolor": "#E5ECF6",
            "gridcolor": "white",
            "gridwidth": 2,
            "linecolor": "white",
            "showbackground": true,
            "ticks": "",
            "zerolinecolor": "white"
           },
           "yaxis": {
            "backgroundcolor": "#E5ECF6",
            "gridcolor": "white",
            "gridwidth": 2,
            "linecolor": "white",
            "showbackground": true,
            "ticks": "",
            "zerolinecolor": "white"
           },
           "zaxis": {
            "backgroundcolor": "#E5ECF6",
            "gridcolor": "white",
            "gridwidth": 2,
            "linecolor": "white",
            "showbackground": true,
            "ticks": "",
            "zerolinecolor": "white"
           }
          },
          "shapedefaults": {
           "line": {
            "color": "#2a3f5f"
           }
          },
          "ternary": {
           "aaxis": {
            "gridcolor": "white",
            "linecolor": "white",
            "ticks": ""
           },
           "baxis": {
            "gridcolor": "white",
            "linecolor": "white",
            "ticks": ""
           },
           "bgcolor": "#E5ECF6",
           "caxis": {
            "gridcolor": "white",
            "linecolor": "white",
            "ticks": ""
           }
          },
          "title": {
           "x": 0.05
          },
          "xaxis": {
           "automargin": true,
           "gridcolor": "white",
           "linecolor": "white",
           "ticks": "",
           "title": {
            "standoff": 15
           },
           "zerolinecolor": "white",
           "zerolinewidth": 2
          },
          "yaxis": {
           "automargin": true,
           "gridcolor": "white",
           "linecolor": "white",
           "ticks": "",
           "title": {
            "standoff": 15
           },
           "zerolinecolor": "white",
           "zerolinewidth": 2
          }
         }
        },
        "title": {
         "text": "Unemployment Rate and Labour Participation"
        },
        "xaxis": {
         "autorange": true,
         "categoryarray": [
          "Jan",
          "Feb",
          "Mar",
          "Apr",
          "May",
          "Jun",
          "Jul",
          "Aug",
          "Sep",
          "Oct"
         ],
         "categoryorder": "array",
         "range": [
          -0.5,
          9.5
         ],
         "type": "category"
        },
        "yaxis": {
         "autorange": true,
         "range": [
          0,
          1243.3263157894737
         ],
         "type": "linear"
        }
       }
      },
      "image/png": "[encoded data removed]"
     },
     "metadata": {},
     "output_type": "display_data"
    }
   ],
   "source": [
    "#import pandas as pd\n",
    "#import plotly.graph_objects as go\n",
    "import plotly.io as pio\n",
    "\n",
    "# Optional: Set renderer for Jupyter Notebook\n",
    "#pio.renderers.default = \"notebook_connected\"\n",
    "\n",
    "# Load data\n",
    "#data = pd.read_csv(\"your_data.csv\")  # Replace with your actual file path\n",
    "\n",
    "# Extract columns\n",
    "month = df['month']\n",
    "unemployment_rate = df['estimated unemployment rate']\n",
    "labour_participation_rate = df['estimated labour participation rate']\n",
    "\n",
    "# Create Plotly bar chart\n",
    "fig = go.Figure()\n",
    "\n",
    "fig.add_trace(go.Bar(x=month, y=unemployment_rate, name='Unemployment Rate'))\n",
    "fig.add_trace(go.Bar(x=month, y=labour_participation_rate, name='Labour Participation Rate'))\n",
    "\n",
    "fig.update_layout(\n",
    "    title='Unemployment Rate and Labour Participation',\n",
    "    xaxis={\n",
    "        'categoryorder': 'array',\n",
    "        'categoryarray': ['Jan', 'Feb', 'Mar', 'Apr', 'May', 'Jun', 'Jul', 'Aug', 'Sep', 'Oct']\n",
    "    },\n",
    "    barmode='group'\n",
    ")\n",
    "\n",
    "# Show interactive plot in Jupyter Notebook\n",
    "fig.show()\n",
    "\n",
    "# Save static image for GitHub README\n",
    "fig.write_image(\"unemployment_plot.png\")\n"
   ]
  },
  {
   "cell_type": "markdown",
   "id": "70403757-ff4c-4746-ae27-cece86302609",
   "metadata": {},
   "source": [
    "**Bar plot of estimated employed citizen in every month**"
   ]
  },
  {
   "cell_type": "code",
   "execution_count": 18,
   "id": "19b835c8-a7d7-4827-8c57-0e876126fa90",
   "metadata": {},
   "outputs": [],
   "source": [
    "import plotly.express as px"
   ]
  },
  {
   "cell_type": "code",
   "execution_count": 20,
   "id": "adf0e71c-5bb3-4c61-95d6-3a294e09fda2",
   "metadata": {},
   "outputs": [
    {
     "data": {
      "application/vnd.plotly.v1+json": {
       "config": {
        "plotlyServerURL": "https://plot.ly"
       },
       "data": [
        {
         "hovertemplate": "month=%{x}<br>estimated employed=%{y}<extra></extra>",
         "legendgroup": "Jan",
         "marker": {
          "color": "#636efa",
          "pattern": {
           "shape": ""
          }
         },
         "name": "Jan",
         "orientation": "v",
         "showlegend": true,
         "textposition": "auto",
         "type": "bar",
         "x": [
          "Jan",
          "Jan",
          "Jan",
          "Jan",
          "Jan",
          "Jan",
          "Jan",
          "Jan",
          "Jan",
          "Jan",
          "Jan",
          "Jan",
          "Jan",
          "Jan",
          "Jan",
          "Jan",
          "Jan",
          "Jan",
          "Jan",
          "Jan",
          "Jan",
          "Jan",
          "Jan",
          "Jan",
          "Jan",
          "Jan"
         ],
         "xaxis": "x",
         "y": {
          "_inputArray": {
           "0": 16635535,
           "1": 13051904,
           "10": 10198029,
           "11": 22688028,
           "12": 9904534,
           "13": 23018632,
           "14": 42596868,
           "15": 1491093,
           "16": 13743448,
           "17": 457950,
           "18": 9442093,
           "19": 20641716,
           "2": 26397671,
           "20": 26881641,
           "21": 17609295,
           "22": 1508130,
           "23": 59433759,
           "24": 2711639,
           "25": 35820789,
           "3": 8552172,
           "4": 5805284,
           "5": 416750,
           "6": 24126346,
           "7": 7693231,
           "8": 2287632,
           "9": 3453025,
           "bdata": "j9b9AAAoxwDny5IB7H6CAOSUWADuWwYAiiNwAa9jdQAQ6CIAYbA0AA2cmwAcMVoBliGXAIg8XwEE+okClcAWAFi10QDe/AYALROQALT3OgFpLpoBT7IMASIDFwAf44oDV2ApAPWUIgI=",
           "dtype": "i4",
           "shape": "26"
          },
          "bdata": "j9b9AAAoxwDny5IB7H6CAOSUWADuWwYAiiNwAa9jdQAQ6CIAYbA0AA2cmwAcMVoBliGXAIg8XwEE+okClcAWAFi10QDe/AYALROQALT3OgFpLpoBT7IMASIDFwAf44oDV2ApAPWUIgI=",
          "dtype": "i4"
         },
         "yaxis": "y"
        },
        {
         "hovertemplate": "month=%{x}<br>estimated employed=%{y}<extra></extra>",
         "legendgroup": "Feb",
         "marker": {
          "color": "#EF553B",
          "pattern": {
           "shape": ""
          }
         },
         "name": "Feb",
         "orientation": "v",
         "showlegend": true,
         "textposition": "auto",
         "type": "bar",
         "x": [
          "Feb",
          "Feb",
          "Feb",
          "Feb",
          "Feb",
          "Feb",
          "Feb",
          "Feb",
          "Feb",
          "Feb",
          "Feb",
          "Feb",
          "Feb",
          "Feb",
          "Feb",
          "Feb",
          "Feb",
          "Feb",
          "Feb",
          "Feb",
          "Feb",
          "Feb",
          "Feb",
          "Feb",
          "Feb",
          "Feb"
         ],
         "xaxis": "x",
         "y": {
          "_inputArray": {
           "0": 16545652,
           "1": 10088268,
           "10": 10425425,
           "11": 21677719,
           "12": 9828023,
           "13": 22711479,
           "14": 42416317,
           "15": 1346829,
           "16": 14280735,
           "17": 493961,
           "18": 9229047,
           "19": 20328915,
           "2": 26281655,
           "20": 27570589,
           "21": 16825970,
           "22": 1584686,
           "23": 58060531,
           "24": 3020931,
           "25": 36964178,
           "3": 9195114,
           "4": 5856307,
           "5": 478068,
           "6": 24757795,
           "7": 7322942,
           "8": 2180268,
           "9": 3223513,
           "bdata": "dHf8AEzvmQC3BpEBak6MADNcWQB0SwcAI8Z5AT69bwCsRCEA2S8xAFEUnwCXxkoBt/aVALeMWgG9OIcCDY0UAB/o2QCJiQcA99KMANMxNgGdsaQBcr4AAS4uGADz7nUDgxguAFIHNAI=",
           "dtype": "i4",
           "shape": "26"
          },
          "bdata": "dHf8AEzvmQC3BpEBak6MADNcWQB0SwcAI8Z5AT69bwCsRCEA2S8xAFEUnwCXxkoBt/aVALeMWgG9OIcCDY0UAB/o2QCJiQcA99KMANMxNgGdsaQBcr4AAS4uGADz7nUDgxguAFIHNAI=",
          "dtype": "i4"
         },
         "yaxis": "y"
        },
        {
         "hovertemplate": "month=%{x}<br>estimated employed=%{y}<extra></extra>",
         "legendgroup": "Mar",
         "marker": {
          "color": "#00cc96",
          "pattern": {
           "shape": ""
          }
         },
         "name": "Mar",
         "orientation": "v",
         "showlegend": true,
         "textposition": "auto",
         "type": "bar",
         "x": [
          "Mar",
          "Mar",
          "Mar",
          "Mar",
          "Mar",
          "Mar",
          "Mar",
          "Mar",
          "Mar",
          "Mar",
          "Mar",
          "Mar",
          "Mar",
          "Mar",
          "Mar",
          "Mar",
          "Mar",
          "Mar",
          "Mar",
          "Mar",
          "Mar",
          "Mar",
          "Mar",
          "Mar",
          "Mar",
          "Mar",
          "Mar"
         ],
         "xaxis": "x",
         "y": {
          "_inputArray": {
           "0": 15881197,
           "1": 11542888,
           "10": 9638115,
           "11": 22079653,
           "12": 8221728,
           "13": 22867164,
           "14": 40196806,
           "15": 1482351,
           "16": 12272109,
           "17": 421028,
           "18": 9975485,
           "19": 20024680,
           "2": 25717519,
           "20": 262895,
           "21": 26830768,
           "22": 17341613,
           "23": 1511217,
           "24": 56976338,
           "25": 2539302,
           "26": 35903917,
           "3": 9302317,
           "4": 5553805,
           "5": 411761,
           "6": 23566641,
           "7": 6641555,
           "8": 2021858,
           "9": 3359107,
           "bdata": "7VPyAGghsAAPa4gBLfGNAI2+VABxSAYAMZlnAZNXZQDi2R4Ag0EzAOMQkwCl6FABIHR9ANzsXAHGWmUCb54WAO1BuwCkbAYAvTaYAGiNMQHvAgQAsGeZAa2cCAExDxcA0mNlAya/JgCt2SMC",
           "dtype": "i4",
           "shape": "27"
          },
          "bdata": "7VPyAGghsAAPa4gBLfGNAI2+VABxSAYAMZlnAZNXZQDi2R4Ag0EzAOMQkwCl6FABIHR9ANzsXAHGWmUCb54WAO1BuwCkbAYAvTaYAGiNMQHvAgQAsGeZAa2cCAExDxcA0mNlAya/JgCt2SMC",
          "dtype": "i4"
         },
         "yaxis": "y"
        },
        {
         "hovertemplate": "month=%{x}<br>estimated employed=%{y}<extra></extra>",
         "legendgroup": "Apr",
         "marker": {
          "color": "#ab63fa",
          "pattern": {
           "shape": ""
          }
         },
         "name": "Apr",
         "orientation": "v",
         "showlegend": true,
         "textposition": "auto",
         "type": "bar",
         "x": [
          "Apr",
          "Apr",
          "Apr",
          "Apr",
          "Apr",
          "Apr",
          "Apr",
          "Apr",
          "Apr",
          "Apr",
          "Apr",
          "Apr",
          "Apr",
          "Apr",
          "Apr",
          "Apr",
          "Apr",
          "Apr",
          "Apr",
          "Apr",
          "Apr",
          "Apr",
          "Apr",
          "Apr",
          "Apr",
          "Apr"
         ],
         "xaxis": "x",
         "y": {
          "_inputArray": {
           "0": 11336911,
           "1": 6830817,
           "10": 16718395,
           "11": 3933276,
           "12": 19041832,
           "13": 27689253,
           "14": 965057,
           "15": 6865693,
           "16": 117542,
           "17": 7020565,
           "18": 15984142,
           "19": 215303,
           "2": 16046236,
           "20": 9719167,
           "21": 12172230,
           "22": 971514,
           "23": 50915056,
           "24": 2720115,
           "25": 26938836,
           "3": 7600448,
           "4": 3119274,
           "5": 500614,
           "6": 15288878,
           "7": 5647630,
           "8": 1131128,
           "9": 5335262,
           "bdata": "z/ysAOE6aACc2PQAQPlzAKqYLwCGowcALkrpAA4tVgB4QhEA3mhRADsa/wBcBDwAKI4iASWBpgHBuQ4AHcNoACbLAQAVIGsADubzAAdJAwB/TZQAxru5APrSDgDw5ggDc4EpANQNmwE=",
           "dtype": "i4",
           "shape": "26"
          },
          "bdata": "z/ysAOE6aACc2PQAQPlzAKqYLwCGowcALkrpAA4tVgB4QhEA3mhRADsa/wBcBDwAKI4iASWBpgHBuQ4AHcNoACbLAQAVIGsADubzAAdJAwB/TZQAxru5APrSDgDw5ggDc4EpANQNmwE=",
          "dtype": "i4"
         },
         "yaxis": "y"
        },
        {
         "hovertemplate": "month=%{x}<br>estimated employed=%{y}<extra></extra>",
         "legendgroup": "May",
         "marker": {
          "color": "#FFA15A",
          "pattern": {
           "shape": ""
          }
         },
         "name": "May",
         "orientation": "v",
         "showlegend": true,
         "textposition": "auto",
         "type": "bar",
         "x": [
          "May",
          "May",
          "May",
          "May",
          "May",
          "May",
          "May",
          "May",
          "May",
          "May",
          "May",
          "May",
          "May",
          "May",
          "May",
          "May",
          "May",
          "May",
          "May",
          "May",
          "May",
          "May",
          "May",
          "May",
          "May",
          "May",
          "May"
         ],
         "xaxis": "x",
         "y": {
          "_inputArray": {
           "0": 12988845,
           "1": 11367897,
           "10": 4145385,
           "11": 19397853,
           "12": 7921962,
           "13": 18443927,
           "14": 32116847,
           "15": 1215064,
           "16": 11730937,
           "17": 172308,
           "18": 6872938,
           "19": 19826602,
           "2": 16280203,
           "20": 193427,
           "21": 11483256,
           "22": 14977774,
           "23": 1290986,
           "24": 49801902,
           "25": 2694072,
           "26": 28356675,
           "3": 6991217,
           "4": 2632404,
           "5": 378244,
           "6": 17836936,
           "7": 6437868,
           "8": 1897639,
           "9": 3246493,
           "bdata": "rTHGANl1rQCLavgAca1qANQqKACExQUAiCsQAew7YgCn9BwAnYkxAOlAPwDd/CcBKuF4AJduGQFvEOoBWIoSAPn/sgAUoQIAat9oAKqHLgGT8wIAeDivAO6K5ADqshMArur3ArgbKQBDsLAB",
           "dtype": "i4",
           "shape": "27"
          },
          "bdata": "rTHGANl1rQCLavgAca1qANQqKACExQUAiCsQAew7YgCn9BwAnYkxAOlAPwDd/CcBKuF4AJduGQFvEOoBWIoSAPn/sgAUoQIAat9oAKqHLgGT8wIAeDivAO6K5ADqshMArur3ArgbKQBDsLAB",
          "dtype": "i4"
         },
         "yaxis": "y"
        },
        {
         "hovertemplate": "month=%{x}<br>estimated employed=%{y}<extra></extra>",
         "legendgroup": "Jun",
         "marker": {
          "color": "#19d3f3",
          "pattern": {
           "shape": ""
          }
         },
         "name": "Jun",
         "orientation": "v",
         "showlegend": true,
         "textposition": "auto",
         "type": "bar",
         "x": [
          "Jun",
          "Jun",
          "Jun",
          "Jun",
          "Jun",
          "Jun",
          "Jun",
          "Jun",
          "Jun",
          "Jun",
          "Jun",
          "Jun",
          "Jun",
          "Jun",
          "Jun",
          "Jun",
          "Jun",
          "Jun",
          "Jun",
          "Jun",
          "Jun",
          "Jun",
          "Jun",
          "Jun",
          "Jun",
          "Jun",
          "Jun"
         ],
         "xaxis": "x",
         "y": {
          "_inputArray": {
           "0": 19805400,
           "1": 9095944,
           "10": 8622722,
           "11": 24215057,
           "12": 9228268,
           "13": 23054646,
           "14": 39708538,
           "15": 1350794,
           "16": 12903993,
           "17": 367135,
           "18": 8390766,
           "19": 20506612,
           "2": 23963933,
           "20": 221058,
           "21": 19096847,
           "22": 15108910,
           "23": 1494140,
           "24": 55380649,
           "25": 2656071,
           "26": 30726310,
           "3": 7332807,
           "4": 4418914,
           "5": 489111,
           "6": 23657055,
           "7": 6951934,
           "8": 2199683,
           "9": 3202336,
           "bdata": "2DQuAQjLigAdqW0Bx+NvAGJtQwCXdgcAX/poAf4TagCDkCEAIN0wAIKSgwARfnEB7M+MADbJXwF6510CipwUADnmxAAfmgUAbgiAAPTnOAGCXwMAD2UjAS6L5gB8zBYAqQpNA0eHKACm2NQB",
           "dtype": "i4",
           "shape": "27"
          },
          "bdata": "2DQuAQjLigAdqW0Bx+NvAGJtQwCXdgcAX/poAf4TagCDkCEAIN0wAIKSgwARfnEB7M+MADbJXwF6510CipwUADnmxAAfmgUAbgiAAPTnOAGCXwMAD2UjAS6L5gB8zBYAqQpNA0eHKACm2NQB",
          "dtype": "i4"
         },
         "yaxis": "y"
        },
        {
         "hovertemplate": "month=%{x}<br>estimated employed=%{y}<extra></extra>",
         "legendgroup": "Jul",
         "marker": {
          "color": "#FF6692",
          "pattern": {
           "shape": ""
          }
         },
         "name": "Jul",
         "orientation": "v",
         "showlegend": true,
         "textposition": "auto",
         "type": "bar",
         "x": [
          "Jul",
          "Jul",
          "Jul",
          "Jul",
          "Jul",
          "Jul",
          "Jul",
          "Jul",
          "Jul",
          "Jul",
          "Jul",
          "Jul",
          "Jul",
          "Jul",
          "Jul",
          "Jul",
          "Jul",
          "Jul",
          "Jul",
          "Jul",
          "Jul",
          "Jul",
          "Jul",
          "Jul",
          "Jul",
          "Jul",
          "Jul"
         ],
         "xaxis": "x",
         "y": {
          "_inputArray": {
           "0": 15431615,
           "1": 10286757,
           "10": 9521900,
           "11": 22885616,
           "12": 9504420,
           "13": 23940158,
           "14": 40998545,
           "15": 1448106,
           "16": 13614400,
           "17": 386563,
           "18": 9732417,
           "19": 19932393,
           "2": 24989370,
           "20": 265175,
           "21": 24572827,
           "22": 15679417,
           "23": 1348849,
           "24": 56201654,
           "25": 2938552,
           "26": 35372506,
           "3": 8620294,
           "4": 4291053,
           "5": 458876,
           "6": 24276120,
           "7": 6800652,
           "8": 2229456,
           "9": 3558889,
           "bdata": "v3frAKX2nAC6Tn0BBomDAO15QQB8AAcAmGxyAQzFZwDQBCIA6U02AOxKkQDwNF0BpAaRAD5MbQGRlnECqhgWAEC9zwAD5gUAQYGUAOkkMAHXCwQAm/N2Abk/7wDxlBQAtpFZA7jWLADavRsC",
           "dtype": "i4",
           "shape": "27"
          },
          "bdata": "v3frAKX2nAC6Tn0BBomDAO15QQB8AAcAmGxyAQzFZwDQBCIA6U02AOxKkQDwNF0BpAaRAD5MbQGRlnECqhgWAEC9zwAD5gUAQYGUAOkkMAHXCwQAm/N2Abk/7wDxlBQAtpFZA7jWLADavRsC",
          "dtype": "i4"
         },
         "yaxis": "y"
        },
        {
         "hovertemplate": "month=%{x}<br>estimated employed=%{y}<extra></extra>",
         "legendgroup": "Aug",
         "marker": {
          "color": "#B6E880",
          "pattern": {
           "shape": ""
          }
         },
         "name": "Aug",
         "orientation": "v",
         "showlegend": true,
         "textposition": "auto",
         "type": "bar",
         "x": [
          "Aug",
          "Aug",
          "Aug",
          "Aug",
          "Aug",
          "Aug",
          "Aug",
          "Aug",
          "Aug",
          "Aug",
          "Aug",
          "Aug",
          "Aug",
          "Aug",
          "Aug",
          "Aug",
          "Aug",
          "Aug",
          "Aug",
          "Aug",
          "Aug",
          "Aug",
          "Aug",
          "Aug",
          "Aug",
          "Aug",
          "Aug"
         ],
         "xaxis": "x",
         "y": {
          "_inputArray": {
           "0": 15251776,
           "1": 9781310,
           "10": 9331640,
           "11": 24094289,
           "12": 9031944,
           "13": 23619011,
           "14": 40963616,
           "15": 1357643,
           "16": 14154039,
           "17": 396006,
           "18": 9386169,
           "19": 20014060,
           "2": 23795534,
           "20": 244462,
           "21": 27046415,
           "22": 18185429,
           "23": 1318621,
           "24": 55831744,
           "25": 2717528,
           "26": 33298644,
           "3": 9050422,
           "4": 4850107,
           "5": 473016,
           "6": 22817232,
           "7": 7113788,
           "8": 2029740,
           "9": 3429950,
           "bdata": "QLnoAD5AlQBOF2sBNhmKALsBSgC4NwcA0ClcATyMbACs+B4APlY0ALhjjgBRpm8BCNGJAMNlaAEgDnECS7cUADf51wDmCgYAuTiPAOxjMQHuugMAD7KcAdV8FQHdHhQAwOxTA1h3KQDUGPwB",
           "dtype": "i4",
           "shape": "27"
          },
          "bdata": "QLnoAD5AlQBOF2sBNhmKALsBSgC4NwcA0ClcATyMbACs+B4APlY0ALhjjgBRpm8BCNGJAMNlaAEgDnECS7cUADf51wDmCgYAuTiPAOxjMQHuugMAD7KcAdV8FQHdHhQAwOxTA1h3KQDUGPwB",
          "dtype": "i4"
         },
         "yaxis": "y"
        },
        {
         "hovertemplate": "month=%{x}<br>estimated employed=%{y}<extra></extra>",
         "legendgroup": "Sep",
         "marker": {
          "color": "#FF97FF",
          "pattern": {
           "shape": ""
          }
         },
         "name": "Sep",
         "orientation": "v",
         "showlegend": true,
         "textposition": "auto",
         "type": "bar",
         "x": [
          "Sep",
          "Sep",
          "Sep",
          "Sep",
          "Sep",
          "Sep",
          "Sep",
          "Sep",
          "Sep",
          "Sep",
          "Sep",
          "Sep",
          "Sep",
          "Sep",
          "Sep",
          "Sep",
          "Sep",
          "Sep",
          "Sep",
          "Sep",
          "Sep",
          "Sep",
          "Sep",
          "Sep",
          "Sep",
          "Sep",
          "Sep"
         ],
         "xaxis": "x",
         "y": {
          "_inputArray": {
           "0": 15220312,
           "1": 14107641,
           "10": 10185670,
           "11": 20127176,
           "12": 9240913,
           "13": 23341952,
           "14": 42042911,
           "15": 1459726,
           "16": 13608422,
           "17": 411717,
           "18": 8980432,
           "19": 20149594,
           "2": 26902907,
           "20": 231798,
           "21": 23025845,
           "22": 16961448,
           "23": 1368244,
           "24": 56106836,
           "25": 2695230,
           "26": 35707239,
           "3": 9021854,
           "4": 4958373,
           "5": 425004,
           "6": 25010199,
           "7": 7132439,
           "8": 2237480,
           "9": 3210281,
           "bdata": "WD7oAPlD1wB7gZoBnqmJAKWoSwAsfAYAF6B9ARfVbAAoJCIAKfwwAMZrmwDIHTMBUQGNAIArZAEfhoECDkYWAOalzwBFSAYA0AeJAFp1MwF2iQMAtVhfAajPAgG04BQAVB9YAz4gKQBn2SAC",
           "dtype": "i4",
           "shape": "27"
          },
          "bdata": "WD7oAPlD1wB7gZoBnqmJAKWoSwAsfAYAF6B9ARfVbAAoJCIAKfwwAMZrmwDIHTMBUQGNAIArZAEfhoECDkYWAOalzwBFSAYA0AeJAFp1MwF2iQMAtVhfAajPAgG04BQAVB9YAz4gKQBn2SAC",
          "dtype": "i4"
         },
         "yaxis": "y"
        },
        {
         "hovertemplate": "month=%{x}<br>estimated employed=%{y}<extra></extra>",
         "legendgroup": "Oct",
         "marker": {
          "color": "#FECB52",
          "pattern": {
           "shape": ""
          }
         },
         "name": "Oct",
         "orientation": "v",
         "showlegend": true,
         "textposition": "auto",
         "type": "bar",
         "x": [
          "Oct",
          "Oct",
          "Oct",
          "Oct",
          "Oct",
          "Oct",
          "Oct",
          "Oct",
          "Oct",
          "Oct",
          "Oct",
          "Oct",
          "Oct",
          "Oct",
          "Oct",
          "Oct",
          "Oct",
          "Oct",
          "Oct",
          "Oct",
          "Oct",
          "Oct",
          "Oct",
          "Oct",
          "Oct",
          "Oct",
          "Oct"
         ],
         "xaxis": "x",
         "y": {
          "_inputArray": {
           "0": 15157557,
           "1": 11949329,
           "10": 10302276,
           "11": 22356390,
           "12": 9152881,
           "13": 23144552,
           "14": 43317881,
           "15": 1381490,
           "16": 14094553,
           "17": 428419,
           "18": 8800430,
           "19": 19908808,
           "2": 25693252,
           "20": 242068,
           "21": 23651626,
           "22": 17578739,
           "23": 1576529,
           "24": 56539521,
           "25": 2739309,
           "26": 33962549,
           "3": 8546847,
           "4": 4842698,
           "5": 392304,
           "6": 25970259,
           "7": 6698551,
           "8": 2123965,
           "9": 3106691,
           "bdata": "NUnnABFVtgBEDIgBH2qCAMrkSQBw/AUAU0aMATc2ZgC9aCAAg2cvAEQznQCmIVUBcamLAGgoYQF5+pQCchQVANkQ1wCDiQYArkiGAMjILwGUsQMAKuVoAfM6DAFRDhgAgbleA23MKQA1OgYC",
           "dtype": "i4",
           "shape": "27"
          },
          "bdata": "NUnnABFVtgBEDIgBH2qCAMrkSQBw/AUAU0aMATc2ZgC9aCAAg2cvAEQznQCmIVUBcamLAGgoYQF5+pQCchQVANkQ1wCDiQYArkiGAMjILwGUsQMAKuVoAfM6DAFRDhgAgbleA23MKQA1OgYC",
          "dtype": "i4"
         },
         "yaxis": "y"
        }
       ],
       "layout": {
        "autosize": true,
        "barmode": "relative",
        "legend": {
         "title": {
          "text": "month"
         },
         "tracegroupgap": 0
        },
        "template": {
         "data": {
          "bar": [
           {
            "error_x": {
             "color": "#2a3f5f"
            },
            "error_y": {
             "color": "#2a3f5f"
            },
            "marker": {
             "line": {
              "color": "#E5ECF6",
              "width": 0.5
             },
             "pattern": {
              "fillmode": "overlay",
              "size": 10,
              "solidity": 0.2
             }
            },
            "type": "bar"
           }
          ],
          "barpolar": [
           {
            "marker": {
             "line": {
              "color": "#E5ECF6",
              "width": 0.5
             },
             "pattern": {
              "fillmode": "overlay",
              "size": 10,
              "solidity": 0.2
             }
            },
            "type": "barpolar"
           }
          ],
          "carpet": [
           {
            "aaxis": {
             "endlinecolor": "#2a3f5f",
             "gridcolor": "white",
             "linecolor": "white",
             "minorgridcolor": "white",
             "startlinecolor": "#2a3f5f"
            },
            "baxis": {
             "endlinecolor": "#2a3f5f",
             "gridcolor": "white",
             "linecolor": "white",
             "minorgridcolor": "white",
             "startlinecolor": "#2a3f5f"
            },
            "type": "carpet"
           }
          ],
          "choropleth": [
           {
            "colorbar": {
             "outlinewidth": 0,
             "ticks": ""
            },
            "type": "choropleth"
           }
          ],
          "contour": [
           {
            "colorbar": {
             "outlinewidth": 0,
             "ticks": ""
            },
            "colorscale": [
             [
              0,
              "#0d0887"
             ],
             [
              0.1111111111111111,
              "#46039f"
             ],
             [
              0.2222222222222222,
              "#7201a8"
             ],
             [
              0.3333333333333333,
              "#9c179e"
             ],
             [
              0.4444444444444444,
              "#bd3786"
             ],
             [
              0.5555555555555556,
              "#d8576b"
             ],
             [
              0.6666666666666666,
              "#ed7953"
             ],
             [
              0.7777777777777778,
              "#fb9f3a"
             ],
             [
              0.8888888888888888,
              "#fdca26"
             ],
             [
              1,
              "#f0f921"
             ]
            ],
            "type": "contour"
           }
          ],
          "contourcarpet": [
           {
            "colorbar": {
             "outlinewidth": 0,
             "ticks": ""
            },
            "type": "contourcarpet"
           }
          ],
          "heatmap": [
           {
            "colorbar": {
             "outlinewidth": 0,
             "ticks": ""
            },
            "colorscale": [
             [
              0,
              "#0d0887"
             ],
             [
              0.1111111111111111,
              "#46039f"
             ],
             [
              0.2222222222222222,
              "#7201a8"
             ],
             [
              0.3333333333333333,
              "#9c179e"
             ],
             [
              0.4444444444444444,
              "#bd3786"
             ],
             [
              0.5555555555555556,
              "#d8576b"
             ],
             [
              0.6666666666666666,
              "#ed7953"
             ],
             [
              0.7777777777777778,
              "#fb9f3a"
             ],
             [
              0.8888888888888888,
              "#fdca26"
             ],
             [
              1,
              "#f0f921"
             ]
            ],
            "type": "heatmap"
           }
          ],
          "histogram": [
           {
            "marker": {
             "pattern": {
              "fillmode": "overlay",
              "size": 10,
              "solidity": 0.2
             }
            },
            "type": "histogram"
           }
          ],
          "histogram2d": [
           {
            "colorbar": {
             "outlinewidth": 0,
             "ticks": ""
            },
            "colorscale": [
             [
              0,
              "#0d0887"
             ],
             [
              0.1111111111111111,
              "#46039f"
             ],
             [
              0.2222222222222222,
              "#7201a8"
             ],
             [
              0.3333333333333333,
              "#9c179e"
             ],
             [
              0.4444444444444444,
              "#bd3786"
             ],
             [
              0.5555555555555556,
              "#d8576b"
             ],
             [
              0.6666666666666666,
              "#ed7953"
             ],
             [
              0.7777777777777778,
              "#fb9f3a"
             ],
             [
              0.8888888888888888,
              "#fdca26"
             ],
             [
              1,
              "#f0f921"
             ]
            ],
            "type": "histogram2d"
           }
          ],
          "histogram2dcontour": [
           {
            "colorbar": {
             "outlinewidth": 0,
             "ticks": ""
            },
            "colorscale": [
             [
              0,
              "#0d0887"
             ],
             [
              0.1111111111111111,
              "#46039f"
             ],
             [
              0.2222222222222222,
              "#7201a8"
             ],
             [
              0.3333333333333333,
              "#9c179e"
             ],
             [
              0.4444444444444444,
              "#bd3786"
             ],
             [
              0.5555555555555556,
              "#d8576b"
             ],
             [
              0.6666666666666666,
              "#ed7953"
             ],
             [
              0.7777777777777778,
              "#fb9f3a"
             ],
             [
              0.8888888888888888,
              "#fdca26"
             ],
             [
              1,
              "#f0f921"
             ]
            ],
            "type": "histogram2dcontour"
           }
          ],
          "mesh3d": [
           {
            "colorbar": {
             "outlinewidth": 0,
             "ticks": ""
            },
            "type": "mesh3d"
           }
          ],
          "parcoords": [
           {
            "line": {
             "colorbar": {
              "outlinewidth": 0,
              "ticks": ""
             }
            },
            "type": "parcoords"
           }
          ],
          "pie": [
           {
            "automargin": true,
            "type": "pie"
           }
          ],
          "scatter": [
           {
            "fillpattern": {
             "fillmode": "overlay",
             "size": 10,
             "solidity": 0.2
            },
            "type": "scatter"
           }
          ],
          "scatter3d": [
           {
            "line": {
             "colorbar": {
              "outlinewidth": 0,
              "ticks": ""
             }
            },
            "marker": {
             "colorbar": {
              "outlinewidth": 0,
              "ticks": ""
             }
            },
            "type": "scatter3d"
           }
          ],
          "scattercarpet": [
           {
            "marker": {
             "colorbar": {
              "outlinewidth": 0,
              "ticks": ""
             }
            },
            "type": "scattercarpet"
           }
          ],
          "scattergeo": [
           {
            "marker": {
             "colorbar": {
              "outlinewidth": 0,
              "ticks": ""
             }
            },
            "type": "scattergeo"
           }
          ],
          "scattergl": [
           {
            "marker": {
             "colorbar": {
              "outlinewidth": 0,
              "ticks": ""
             }
            },
            "type": "scattergl"
           }
          ],
          "scattermap": [
           {
            "marker": {
             "colorbar": {
              "outlinewidth": 0,
              "ticks": ""
             }
            },
            "type": "scattermap"
           }
          ],
          "scattermapbox": [
           {
            "marker": {
             "colorbar": {
              "outlinewidth": 0,
              "ticks": ""
             }
            },
            "type": "scattermapbox"
           }
          ],
          "scatterpolar": [
           {
            "marker": {
             "colorbar": {
              "outlinewidth": 0,
              "ticks": ""
             }
            },
            "type": "scatterpolar"
           }
          ],
          "scatterpolargl": [
           {
            "marker": {
             "colorbar": {
              "outlinewidth": 0,
              "ticks": ""
             }
            },
            "type": "scatterpolargl"
           }
          ],
          "scatterternary": [
           {
            "marker": {
             "colorbar": {
              "outlinewidth": 0,
              "ticks": ""
             }
            },
            "type": "scatterternary"
           }
          ],
          "surface": [
           {
            "colorbar": {
             "outlinewidth": 0,
             "ticks": ""
            },
            "colorscale": [
             [
              0,
              "#0d0887"
             ],
             [
              0.1111111111111111,
              "#46039f"
             ],
             [
              0.2222222222222222,
              "#7201a8"
             ],
             [
              0.3333333333333333,
              "#9c179e"
             ],
             [
              0.4444444444444444,
              "#bd3786"
             ],
             [
              0.5555555555555556,
              "#d8576b"
             ],
             [
              0.6666666666666666,
              "#ed7953"
             ],
             [
              0.7777777777777778,
              "#fb9f3a"
             ],
             [
              0.8888888888888888,
              "#fdca26"
             ],
             [
              1,
              "#f0f921"
             ]
            ],
            "type": "surface"
           }
          ],
          "table": [
           {
            "cells": {
             "fill": {
              "color": "#EBF0F8"
             },
             "line": {
              "color": "white"
             }
            },
            "header": {
             "fill": {
              "color": "#C8D4E3"
             },
             "line": {
              "color": "white"
             }
            },
            "type": "table"
           }
          ]
         },
         "layout": {
          "annotationdefaults": {
           "arrowcolor": "#2a3f5f",
           "arrowhead": 0,
           "arrowwidth": 1
          },
          "autotypenumbers": "strict",
          "coloraxis": {
           "colorbar": {
            "outlinewidth": 0,
            "ticks": ""
           }
          },
          "colorscale": {
           "diverging": [
            [
             0,
             "#8e0152"
            ],
            [
             0.1,
             "#c51b7d"
            ],
            [
             0.2,
             "#de77ae"
            ],
            [
             0.3,
             "#f1b6da"
            ],
            [
             0.4,
             "#fde0ef"
            ],
            [
             0.5,
             "#f7f7f7"
            ],
            [
             0.6,
             "#e6f5d0"
            ],
            [
             0.7,
             "#b8e186"
            ],
            [
             0.8,
             "#7fbc41"
            ],
            [
             0.9,
             "#4d9221"
            ],
            [
             1,
             "#276419"
            ]
           ],
           "sequential": [
            [
             0,
             "#0d0887"
            ],
            [
             0.1111111111111111,
             "#46039f"
            ],
            [
             0.2222222222222222,
             "#7201a8"
            ],
            [
             0.3333333333333333,
             "#9c179e"
            ],
            [
             0.4444444444444444,
             "#bd3786"
            ],
            [
             0.5555555555555556,
             "#d8576b"
            ],
            [
             0.6666666666666666,
             "#ed7953"
            ],
            [
             0.7777777777777778,
             "#fb9f3a"
            ],
            [
             0.8888888888888888,
             "#fdca26"
            ],
            [
             1,
             "#f0f921"
            ]
           ],
           "sequentialminus": [
            [
             0,
             "#0d0887"
            ],
            [
             0.1111111111111111,
             "#46039f"
            ],
            [
             0.2222222222222222,
             "#7201a8"
            ],
            [
             0.3333333333333333,
             "#9c179e"
            ],
            [
             0.4444444444444444,
             "#bd3786"
            ],
            [
             0.5555555555555556,
             "#d8576b"
            ],
            [
             0.6666666666666666,
             "#ed7953"
            ],
            [
             0.7777777777777778,
             "#fb9f3a"
            ],
            [
             0.8888888888888888,
             "#fdca26"
            ],
            [
             1,
             "#f0f921"
            ]
           ]
          },
          "colorway": [
           "#636efa",
           "#EF553B",
           "#00cc96",
           "#ab63fa",
           "#FFA15A",
           "#19d3f3",
           "#FF6692",
           "#B6E880",
           "#FF97FF",
           "#FECB52"
          ],
          "font": {
           "color": "#2a3f5f"
          },
          "geo": {
           "bgcolor": "white",
           "lakecolor": "white",
           "landcolor": "#E5ECF6",
           "showlakes": true,
           "showland": true,
           "subunitcolor": "white"
          },
          "hoverlabel": {
           "align": "left"
          },
          "hovermode": "closest",
          "mapbox": {
           "style": "light"
          },
          "paper_bgcolor": "white",
          "plot_bgcolor": "#E5ECF6",
          "polar": {
           "angularaxis": {
            "gridcolor": "white",
            "linecolor": "white",
            "ticks": ""
           },
           "bgcolor": "#E5ECF6",
           "radialaxis": {
            "gridcolor": "white",
            "linecolor": "white",
            "ticks": ""
           }
          },
          "scene": {
           "xaxis": {
            "backgroundcolor": "#E5ECF6",
            "gridcolor": "white",
            "gridwidth": 2,
            "linecolor": "white",
            "showbackground": true,
            "ticks": "",
            "zerolinecolor": "white"
           },
           "yaxis": {
            "backgroundcolor": "#E5ECF6",
            "gridcolor": "white",
            "gridwidth": 2,
            "linecolor": "white",
            "showbackground": true,
            "ticks": "",
            "zerolinecolor": "white"
           },
           "zaxis": {
            "backgroundcolor": "#E5ECF6",
            "gridcolor": "white",
            "gridwidth": 2,
            "linecolor": "white",
            "showbackground": true,
            "ticks": "",
            "zerolinecolor": "white"
           }
          },
          "shapedefaults": {
           "line": {
            "color": "#2a3f5f"
           }
          },
          "ternary": {
           "aaxis": {
            "gridcolor": "white",
            "linecolor": "white",
            "ticks": ""
           },
           "baxis": {
            "gridcolor": "white",
            "linecolor": "white",
            "ticks": ""
           },
           "bgcolor": "#E5ECF6",
           "caxis": {
            "gridcolor": "white",
            "linecolor": "white",
            "ticks": ""
           }
          },
          "title": {
           "x": 0.05
          },
          "xaxis": {
           "automargin": true,
           "gridcolor": "white",
           "linecolor": "white",
           "ticks": "",
           "title": {
            "standoff": 15
           },
           "zerolinecolor": "white",
           "zerolinewidth": 2
          },
          "yaxis": {
           "automargin": true,
           "gridcolor": "white",
           "linecolor": "white",
           "ticks": "",
           "title": {
            "standoff": 15
           },
           "zerolinecolor": "white",
           "zerolinewidth": 2
          }
         }
        },
        "title": {
         "text": "Estimated Employed People from Jan 2020 to Oct 2020"
        },
        "xaxis": {
         "anchor": "y",
         "autorange": true,
         "categoryarray": [
          "Jan",
          "Feb",
          "Mar",
          "Apr",
          "May",
          "Jun",
          "Jul",
          "Aug",
          "Sep",
          "Oct"
         ],
         "categoryorder": "array",
         "domain": [
          0,
          1
         ],
         "range": [
          -0.5,
          9.5
         ],
         "title": {
          "text": "month"
         },
         "type": "category"
        },
        "yaxis": {
         "anchor": "x",
         "autorange": true,
         "domain": [
          0,
          1
         ],
         "range": [
          0,
          427965467.3684211
         ],
         "title": {
          "text": "estimated employed"
         },
         "type": "linear"
        }
       }
      },
      "image/png": "[encoded data removed]"
     },
     "metadata": {},
     "output_type": "display_data"
    }
   ],
   "source": [
    "# Create the bar chart\n",
    "fig = px.bar(\n",
    "    df,\n",
    "    x='month',\n",
    "    y='estimated employed',\n",
    "    color='month',\n",
    "    category_orders={'month': ['Jan', 'Feb', 'Mar', 'Apr', 'May', 'Jun', 'Jul', 'Aug', 'Sep', 'Oct']},\n",
    "    title='Estimated Employed People from Jan 2020 to Oct 2020'\n",
    ")\n",
    "\n",
    "# Show chart in Jupyter Notebook\n",
    "fig.show()\n",
    "\n",
    "# Save chart as image for GitHub README\n",
    "fig.write_image(\"estimated_employed.png\")"
   ]
  },
  {
   "cell_type": "code",
   "execution_count": null,
   "id": "5a3d640e-4d78-4165-8a09-202ffeea7238",
   "metadata": {},
   "outputs": [],
   "source": []
  }
 ],
 "metadata": {
  "kernelspec": {
   "display_name": "Python 3 (ipykernel)",
   "language": "python",
   "name": "python3"
  },
  "language_info": {
   "codemirror_mode": {
    "name": "ipython",
    "version": 3
   },
   "file_extension": ".py",
   "mimetype": "text/x-python",
   "name": "python",
   "nbconvert_exporter": "python",
   "pygments_lexer": "ipython3",
   "version": "3.12.4"
  }
 },
 "nbformat": 4,
 "nbformat_minor": 5
}
